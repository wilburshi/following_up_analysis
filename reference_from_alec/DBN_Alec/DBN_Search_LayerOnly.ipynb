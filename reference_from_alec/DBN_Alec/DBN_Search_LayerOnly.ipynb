{
 "cells": [
  {
   "cell_type": "markdown",
   "id": "a8befe47-e21c-4360-8417-c78145e58722",
   "metadata": {},
   "source": [
    "# Imports"
   ]
  },
  {
   "cell_type": "code",
   "execution_count": 1,
   "id": "09ed3be8-8eb4-43b6-bbb5-31f5a40e23fc",
   "metadata": {},
   "outputs": [],
   "source": [
    "from sklearn.metrics import auc\n",
    "# import matlab.engine\n",
    "import numpy as np\n",
    "import numpy.matlib\n",
    "import pickle\n",
    "import sys\n",
    "from scipy.io import loadmat\n",
    "from os.path import exists\n",
    "from scipy.signal import resample\n",
    "import pgmpy\n",
    "import pandas as pd\n",
    "from AicScore import AicScore\n",
    "from pgmpy.estimators import HillClimbSearch\n",
    "from statsmodels.stats.proportion import proportions_ztest\n",
    "from time import time\n",
    "\n",
    "# from EfficientTimeShuffling import EfficientShuffle\n",
    "\n",
    "from matplotlib.collections import PatchCollection\n",
    "from matplotlib import patches\n",
    "from matplotlib.lines import Line2D\n",
    "from matplotlib.patches import Circle\n",
    "\n",
    "import matplotlib.pyplot as plt\n",
    "\n",
    "import matplotlib as mpl"
   ]
  },
  {
   "cell_type": "markdown",
   "id": "7e801ad2-196f-4572-a1c5-0fe765e326c0",
   "metadata": {},
   "source": [
    "# DBN Functions"
   ]
  },
  {
   "cell_type": "code",
   "execution_count": 2,
   "id": "af6804d8-6f86-4758-b9ec-7e6c9a825c39",
   "metadata": {},
   "outputs": [],
   "source": [
    "def graph_to_matrix(edges):\n",
    "\n",
    "    output_matrix = np.zeros((3,3)) # (3,3)\n",
    "    \n",
    "    column = 0\n",
    "    for from_layer in np.arange(1,4,1): # np.arange(1,4,1)\n",
    "        row = 0\n",
    "        #Loop through the receiving nodes (the last timeslice of each population)\n",
    "        for to_layer in np.arange(1,4,1): # np.arange(1,4,1)\n",
    "            from_pop = 'L{from_layer}_t1'.format(from_layer = from_layer)\n",
    "            to_pop = 'L{to_layer}_t2'.format(to_layer = to_layer)\n",
    "\n",
    "            if (from_pop, to_pop) in edges:\n",
    "                output_matrix[row,column] = 1\n",
    "            else:\n",
    "                output_matrix[row,column] = 0\n",
    "            row+=1\n",
    "        column+=1\n",
    "                    \n",
    "    return output_matrix"
   ]
  },
  {
   "cell_type": "code",
   "execution_count": 15,
   "id": "8bcaffae",
   "metadata": {},
   "outputs": [
    {
     "data": {
      "text/plain": [
       "'L{from_layer}_t1'"
      ]
     },
     "execution_count": 15,
     "metadata": {},
     "output_type": "execute_result"
    }
   ],
   "source": [
    "from_layer = 1\n",
    "from_pop = 'L{from_layer}_t1'\n",
    "from_pop"
   ]
  },
  {
   "cell_type": "code",
   "execution_count": 4,
   "id": "14397faf-3f6c-4037-90c3-eab2d6d86ad4",
   "metadata": {},
   "outputs": [],
   "source": [
    "#Load spike data\n",
    "\n",
    "def run_dbn_single_trial(trial, binWidth = 1, shuffle = False, combine = False, lag = 1):\n",
    "    all_spikes = loadmat('nsLaminar_Set_2.mat')['SPIKES']\n",
    "\n",
    "    #Bin spikes\n",
    "    trial_duration = 2000 #First epoch only\n",
    "    hist_spikes = []\n",
    "    for iNeuron,neuron in enumerate(all_spikes):\n",
    "        counts, edges = np.histogram(neuron[trial], bins = np.arange(0,trial_duration+binWidth, binWidth))\n",
    "        hist_spikes.append(counts)\n",
    "\n",
    "\n",
    "    #Combine spikes from same population by either layer/class or layer only\n",
    "    if combine:\n",
    "        population_indices = [[0,15],[15,30],[30,45]]\n",
    "        pop_type = 'layeronly'\n",
    "    else:\n",
    "        population_indices = [[0,10],[10,15],[15,25],[25,30],[30,40],[40,45]]\n",
    "        pop_type = 'layerclass'\n",
    "\n",
    "\n",
    "    all_pop_spikes = []\n",
    "    for start,finish in population_indices:\n",
    "        all_pop_spikes.append(np.any(hist_spikes[start:finish],axis = 0))\n",
    "    all_pop_spikes = np.array(all_pop_spikes, dtype = int)\n",
    "\n",
    "\n",
    "    lagged_spikes = np.vstack((all_pop_spikes[:,0:-lag],all_pop_spikes[:,lag:]))\n",
    "    spikes_df = pd.DataFrame(lagged_spikes.T, columns = ['L1_t1','L2_t1','L3_t1', 'L1_t2', 'L2_t2', 'L3_t2'])\n",
    "\n",
    "    if shuffle:\n",
    "        spikes_df, df_shufflekeys = EfficientShuffle(spikes_df,seed = round(time()))\n",
    "\n",
    "    all_pops = list(spikes_df.columns)\n",
    "    from_pops = [pop for pop in all_pops if not pop.endswith('t2')]\n",
    "    to_pops = [pop for pop in all_pops if pop.endswith('t2')]\n",
    "    causal_whitelist = [(from_pop,to_pop) for from_pop in from_pops for to_pop in to_pops]\n",
    "    hc = HillClimbSearch(spikes_df)\n",
    "\n",
    "    model = hc.estimate(tabu_length= 7, max_indegree=None, white_list = causal_whitelist, scoring_method = AicScore(spikes_df))\n",
    "\n",
    "    print(spikes_df)\n",
    "    return graph_to_matrix(list(model.edges()))\n",
    "\n",
    "\n"
   ]
  },
  {
   "cell_type": "code",
   "execution_count": 6,
   "id": "7212b956",
   "metadata": {},
   "outputs": [
    {
     "data": {
      "application/vnd.jupyter.widget-view+json": {
       "model_id": "883d3c1e0ffd4360ae7929860f1c2426",
       "version_major": 2,
       "version_minor": 0
      },
      "text/plain": [
       "  0%|          | 0/1000000 [00:00<?, ?it/s]"
      ]
     },
     "metadata": {},
     "output_type": "display_data"
    },
    {
     "data": {
      "text/html": [
       "<div>\n",
       "<style scoped>\n",
       "    .dataframe tbody tr th:only-of-type {\n",
       "        vertical-align: middle;\n",
       "    }\n",
       "\n",
       "    .dataframe tbody tr th {\n",
       "        vertical-align: top;\n",
       "    }\n",
       "\n",
       "    .dataframe thead th {\n",
       "        text-align: right;\n",
       "    }\n",
       "</style>\n",
       "<table border=\"1\" class=\"dataframe\">\n",
       "  <thead>\n",
       "    <tr style=\"text-align: right;\">\n",
       "      <th></th>\n",
       "      <th>A</th>\n",
       "      <th>B</th>\n",
       "      <th>C</th>\n",
       "      <th>D</th>\n",
       "      <th>E</th>\n",
       "      <th>F</th>\n",
       "      <th>G</th>\n",
       "      <th>H</th>\n",
       "      <th>I</th>\n",
       "      <th>J</th>\n",
       "    </tr>\n",
       "  </thead>\n",
       "  <tbody>\n",
       "    <tr>\n",
       "      <th>0</th>\n",
       "      <td>0</td>\n",
       "      <td>3</td>\n",
       "      <td>4</td>\n",
       "      <td>3</td>\n",
       "      <td>1</td>\n",
       "      <td>2</td>\n",
       "      <td>2</td>\n",
       "      <td>2</td>\n",
       "      <td>0</td>\n",
       "      <td>0</td>\n",
       "    </tr>\n",
       "    <tr>\n",
       "      <th>1</th>\n",
       "      <td>4</td>\n",
       "      <td>1</td>\n",
       "      <td>0</td>\n",
       "      <td>2</td>\n",
       "      <td>3</td>\n",
       "      <td>1</td>\n",
       "      <td>0</td>\n",
       "      <td>1</td>\n",
       "      <td>4</td>\n",
       "      <td>4</td>\n",
       "    </tr>\n",
       "    <tr>\n",
       "      <th>2</th>\n",
       "      <td>1</td>\n",
       "      <td>1</td>\n",
       "      <td>0</td>\n",
       "      <td>0</td>\n",
       "      <td>3</td>\n",
       "      <td>3</td>\n",
       "      <td>2</td>\n",
       "      <td>2</td>\n",
       "      <td>4</td>\n",
       "      <td>1</td>\n",
       "    </tr>\n",
       "    <tr>\n",
       "      <th>3</th>\n",
       "      <td>4</td>\n",
       "      <td>4</td>\n",
       "      <td>3</td>\n",
       "      <td>3</td>\n",
       "      <td>0</td>\n",
       "      <td>1</td>\n",
       "      <td>1</td>\n",
       "      <td>1</td>\n",
       "      <td>0</td>\n",
       "      <td>16</td>\n",
       "    </tr>\n",
       "    <tr>\n",
       "      <th>4</th>\n",
       "      <td>4</td>\n",
       "      <td>3</td>\n",
       "      <td>4</td>\n",
       "      <td>3</td>\n",
       "      <td>4</td>\n",
       "      <td>3</td>\n",
       "      <td>2</td>\n",
       "      <td>1</td>\n",
       "      <td>2</td>\n",
       "      <td>12</td>\n",
       "    </tr>\n",
       "    <tr>\n",
       "      <th>...</th>\n",
       "      <td>...</td>\n",
       "      <td>...</td>\n",
       "      <td>...</td>\n",
       "      <td>...</td>\n",
       "      <td>...</td>\n",
       "      <td>...</td>\n",
       "      <td>...</td>\n",
       "      <td>...</td>\n",
       "      <td>...</td>\n",
       "      <td>...</td>\n",
       "    </tr>\n",
       "    <tr>\n",
       "      <th>4995</th>\n",
       "      <td>2</td>\n",
       "      <td>0</td>\n",
       "      <td>0</td>\n",
       "      <td>1</td>\n",
       "      <td>1</td>\n",
       "      <td>1</td>\n",
       "      <td>2</td>\n",
       "      <td>4</td>\n",
       "      <td>4</td>\n",
       "      <td>0</td>\n",
       "    </tr>\n",
       "    <tr>\n",
       "      <th>4996</th>\n",
       "      <td>2</td>\n",
       "      <td>1</td>\n",
       "      <td>2</td>\n",
       "      <td>0</td>\n",
       "      <td>3</td>\n",
       "      <td>3</td>\n",
       "      <td>4</td>\n",
       "      <td>4</td>\n",
       "      <td>0</td>\n",
       "      <td>2</td>\n",
       "    </tr>\n",
       "    <tr>\n",
       "      <th>4997</th>\n",
       "      <td>0</td>\n",
       "      <td>2</td>\n",
       "      <td>1</td>\n",
       "      <td>2</td>\n",
       "      <td>3</td>\n",
       "      <td>1</td>\n",
       "      <td>0</td>\n",
       "      <td>1</td>\n",
       "      <td>2</td>\n",
       "      <td>0</td>\n",
       "    </tr>\n",
       "    <tr>\n",
       "      <th>4998</th>\n",
       "      <td>3</td>\n",
       "      <td>2</td>\n",
       "      <td>1</td>\n",
       "      <td>4</td>\n",
       "      <td>1</td>\n",
       "      <td>4</td>\n",
       "      <td>1</td>\n",
       "      <td>0</td>\n",
       "      <td>0</td>\n",
       "      <td>6</td>\n",
       "    </tr>\n",
       "    <tr>\n",
       "      <th>4999</th>\n",
       "      <td>3</td>\n",
       "      <td>1</td>\n",
       "      <td>0</td>\n",
       "      <td>3</td>\n",
       "      <td>3</td>\n",
       "      <td>3</td>\n",
       "      <td>2</td>\n",
       "      <td>4</td>\n",
       "      <td>3</td>\n",
       "      <td>3</td>\n",
       "    </tr>\n",
       "  </tbody>\n",
       "</table>\n",
       "<p>5000 rows × 10 columns</p>\n",
       "</div>"
      ],
      "text/plain": [
       "      A  B  C  D  E  F  G  H  I   J\n",
       "0     0  3  4  3  1  2  2  2  0   0\n",
       "1     4  1  0  2  3  1  0  1  4   4\n",
       "2     1  1  0  0  3  3  2  2  4   1\n",
       "3     4  4  3  3  0  1  1  1  0  16\n",
       "4     4  3  4  3  4  3  2  1  2  12\n",
       "...  .. .. .. .. .. .. .. .. ..  ..\n",
       "4995  2  0  0  1  1  1  2  4  4   0\n",
       "4996  2  1  2  0  3  3  4  4  0   2\n",
       "4997  0  2  1  2  3  1  0  1  2   0\n",
       "4998  3  2  1  4  1  4  1  0  0   6\n",
       "4999  3  1  0  3  3  3  2  4  3   3\n",
       "\n",
       "[5000 rows x 10 columns]"
      ]
     },
     "execution_count": 6,
     "metadata": {},
     "output_type": "execute_result"
    }
   ],
   "source": [
    "## a test dataset\n",
    "import pandas as pd\n",
    "import numpy as np\n",
    "from pgmpy.estimators import HillClimbSearch, BicScore\n",
    "# create data sample with 9 random variables:\n",
    "data = pd.DataFrame(np.random.randint(0, 5, size=(5000, 9)), columns=list('ABCDEFGHI'))\n",
    "# add 10th dependent variable\n",
    "data['J'] = data['A'] * data['B']\n",
    "est = HillClimbSearch(data)\n",
    "best_model = est.estimate(scoring_method=BicScore(data))\n",
    "sorted(best_model.nodes())\n",
    "['A', 'B', 'C', 'D', 'E', 'F', 'G', 'H', 'I', 'J']\n",
    "best_model.edges()\n",
    "data"
   ]
  },
  {
   "cell_type": "code",
   "execution_count": 7,
   "id": "6784920d",
   "metadata": {},
   "outputs": [
    {
     "data": {
      "text/plain": [
       "array([[0., 0., 0.],\n",
       "       [0., 0., 0.],\n",
       "       [0., 0., 0.]])"
      ]
     },
     "execution_count": 7,
     "metadata": {},
     "output_type": "execute_result"
    }
   ],
   "source": [
    "graph_to_matrix(list(best_model.edges()))"
   ]
  },
  {
   "cell_type": "markdown",
   "id": "430f8adf-e9b1-4262-9566-00d2f88e4183",
   "metadata": {},
   "source": [
    "# Unshuffled Data DBN Search"
   ]
  },
  {
   "cell_type": "code",
   "execution_count": 8,
   "id": "3bf49727-995b-4921-8455-d9709e2dbd6c",
   "metadata": {
    "tags": []
   },
   "outputs": [
    {
     "data": {
      "application/vnd.jupyter.widget-view+json": {
       "model_id": "7e90579f44814d8cafe92f11377bc3c0",
       "version_major": 2,
       "version_minor": 0
      },
      "text/plain": [
       "  0%|          | 0/1000000 [00:00<?, ?it/s]"
      ]
     },
     "metadata": {},
     "output_type": "display_data"
    },
    {
     "name": "stdout",
     "output_type": "stream",
     "text": [
      "     L1_t1  L2_t1  L3_t1  L1_t2  L2_t2  L3_t2\n",
      "0        0      1      1      0      0      0\n",
      "1        0      0      0      0      0      0\n",
      "2        0      0      0      0      0      0\n",
      "3        0      0      0      0      0      0\n",
      "4        0      0      0      0      1      0\n",
      "..     ...    ...    ...    ...    ...    ...\n",
      "994      1      1      1      1      1      0\n",
      "995      1      1      0      1      0      1\n",
      "996      1      0      1      1      1      0\n",
      "997      1      1      0      1      1      1\n",
      "998      1      1      1      1      1      0\n",
      "\n",
      "[999 rows x 6 columns]\n"
     ]
    },
    {
     "data": {
      "application/vnd.jupyter.widget-view+json": {
       "model_id": "1f69591d6b3f4c41b24157764cccb93b",
       "version_major": 2,
       "version_minor": 0
      },
      "text/plain": [
       "  0%|          | 0/1000000 [00:00<?, ?it/s]"
      ]
     },
     "metadata": {},
     "output_type": "display_data"
    },
    {
     "name": "stdout",
     "output_type": "stream",
     "text": [
      "     L1_t1  L2_t1  L3_t1  L1_t2  L2_t2  L3_t2\n",
      "0        0      0      0      0      0      1\n",
      "1        0      0      1      0      1      1\n",
      "2        0      1      1      1      1      1\n",
      "3        1      1      1      0      0      0\n",
      "4        0      0      0      1      0      1\n",
      "..     ...    ...    ...    ...    ...    ...\n",
      "994      0      1      0      0      0      0\n",
      "995      0      0      0      0      0      0\n",
      "996      0      0      0      1      1      1\n",
      "997      1      1      1      1      1      1\n",
      "998      1      1      1      1      1      1\n",
      "\n",
      "[999 rows x 6 columns]\n"
     ]
    },
    {
     "data": {
      "application/vnd.jupyter.widget-view+json": {
       "model_id": "aac4638515ce4a91b4a8943e4c277f2a",
       "version_major": 2,
       "version_minor": 0
      },
      "text/plain": [
       "  0%|          | 0/1000000 [00:00<?, ?it/s]"
      ]
     },
     "metadata": {},
     "output_type": "display_data"
    },
    {
     "name": "stdout",
     "output_type": "stream",
     "text": [
      "     L1_t1  L2_t1  L3_t1  L1_t2  L2_t2  L3_t2\n",
      "0        0      0      0      0      0      0\n",
      "1        0      0      0      0      1      0\n",
      "2        0      1      0      0      0      0\n",
      "3        0      0      0      0      0      0\n",
      "4        0      0      0      0      0      0\n",
      "..     ...    ...    ...    ...    ...    ...\n",
      "994      1      0      1      0      1      1\n",
      "995      0      1      1      1      1      1\n",
      "996      1      1      1      0      0      1\n",
      "997      0      0      1      0      0      1\n",
      "998      0      0      1      0      0      0\n",
      "\n",
      "[999 rows x 6 columns]\n"
     ]
    },
    {
     "data": {
      "application/vnd.jupyter.widget-view+json": {
       "model_id": "afe2176e8c2f46e4988302e3d4c3fe30",
       "version_major": 2,
       "version_minor": 0
      },
      "text/plain": [
       "  0%|          | 0/1000000 [00:00<?, ?it/s]"
      ]
     },
     "metadata": {},
     "output_type": "display_data"
    },
    {
     "name": "stdout",
     "output_type": "stream",
     "text": [
      "     L1_t1  L2_t1  L3_t1  L1_t2  L2_t2  L3_t2\n",
      "0        0      0      0      1      0      0\n",
      "1        1      0      0      0      0      1\n",
      "2        0      0      1      0      1      0\n",
      "3        0      1      0      0      1      0\n",
      "4        0      1      0      0      1      0\n",
      "..     ...    ...    ...    ...    ...    ...\n",
      "994      0      0      0      1      1      0\n",
      "995      1      1      0      0      1      0\n",
      "996      0      1      0      1      0      0\n",
      "997      1      0      0      1      1      1\n",
      "998      1      1      1      0      0      1\n",
      "\n",
      "[999 rows x 6 columns]\n"
     ]
    },
    {
     "data": {
      "application/vnd.jupyter.widget-view+json": {
       "model_id": "ffad4e1abd5243edb5c0747428e5d165",
       "version_major": 2,
       "version_minor": 0
      },
      "text/plain": [
       "  0%|          | 0/1000000 [00:00<?, ?it/s]"
      ]
     },
     "metadata": {},
     "output_type": "display_data"
    },
    {
     "name": "stdout",
     "output_type": "stream",
     "text": [
      "     L1_t1  L2_t1  L3_t1  L1_t2  L2_t2  L3_t2\n",
      "0        0      0      0      0      1      0\n",
      "1        0      1      0      0      1      1\n",
      "2        0      1      1      0      1      0\n",
      "3        0      1      0      0      0      1\n",
      "4        0      0      1      0      0      0\n",
      "..     ...    ...    ...    ...    ...    ...\n",
      "994      1      0      0      1      1      0\n",
      "995      1      1      0      1      0      0\n",
      "996      1      0      0      1      0      0\n",
      "997      1      0      0      0      1      1\n",
      "998      0      1      1      0      0      1\n",
      "\n",
      "[999 rows x 6 columns]\n"
     ]
    },
    {
     "data": {
      "application/vnd.jupyter.widget-view+json": {
       "model_id": "747890a299734013bb9eb5bc0a98a0a0",
       "version_major": 2,
       "version_minor": 0
      },
      "text/plain": [
       "  0%|          | 0/1000000 [00:00<?, ?it/s]"
      ]
     },
     "metadata": {},
     "output_type": "display_data"
    },
    {
     "name": "stdout",
     "output_type": "stream",
     "text": [
      "     L1_t1  L2_t1  L3_t1  L1_t2  L2_t2  L3_t2\n",
      "0        0      0      0      0      0      0\n",
      "1        0      0      0      0      0      0\n",
      "2        0      0      0      0      0      0\n",
      "3        0      0      0      0      0      0\n",
      "4        0      0      0      0      0      0\n",
      "..     ...    ...    ...    ...    ...    ...\n",
      "994      0      1      1      0      0      0\n",
      "995      0      0      0      1      0      1\n",
      "996      1      0      1      0      0      1\n",
      "997      0      0      1      1      1      0\n",
      "998      1      1      0      1      0      1\n",
      "\n",
      "[999 rows x 6 columns]\n"
     ]
    },
    {
     "data": {
      "application/vnd.jupyter.widget-view+json": {
       "model_id": "a05bf7c751a84d4ca47fa80930b77cbb",
       "version_major": 2,
       "version_minor": 0
      },
      "text/plain": [
       "  0%|          | 0/1000000 [00:00<?, ?it/s]"
      ]
     },
     "metadata": {},
     "output_type": "display_data"
    },
    {
     "name": "stdout",
     "output_type": "stream",
     "text": [
      "     L1_t1  L2_t1  L3_t1  L1_t2  L2_t2  L3_t2\n",
      "0        0      1      1      0      0      1\n",
      "1        0      0      1      1      0      1\n",
      "2        1      0      1      1      0      0\n",
      "3        1      0      0      1      1      1\n",
      "4        1      1      1      1      0      1\n",
      "..     ...    ...    ...    ...    ...    ...\n",
      "994      0      1      0      0      0      0\n",
      "995      0      0      0      0      0      0\n",
      "996      0      0      0      1      1      1\n",
      "997      1      1      1      0      0      0\n",
      "998      0      0      0      0      0      0\n",
      "\n",
      "[999 rows x 6 columns]\n"
     ]
    },
    {
     "data": {
      "application/vnd.jupyter.widget-view+json": {
       "model_id": "d7c7402dc93a4821b28c8c8ff53f9aff",
       "version_major": 2,
       "version_minor": 0
      },
      "text/plain": [
       "  0%|          | 0/1000000 [00:00<?, ?it/s]"
      ]
     },
     "metadata": {},
     "output_type": "display_data"
    },
    {
     "name": "stdout",
     "output_type": "stream",
     "text": [
      "     L1_t1  L2_t1  L3_t1  L1_t2  L2_t2  L3_t2\n",
      "0        0      0      0      0      0      0\n",
      "1        0      0      0      0      1      0\n",
      "2        0      1      0      0      0      0\n",
      "3        0      0      0      0      1      0\n",
      "4        0      1      0      0      0      0\n",
      "..     ...    ...    ...    ...    ...    ...\n",
      "994      0      1      0      0      1      0\n",
      "995      0      1      0      0      1      0\n",
      "996      0      1      0      1      0      1\n",
      "997      1      0      1      0      0      1\n",
      "998      0      0      1      0      0      1\n",
      "\n",
      "[999 rows x 6 columns]\n"
     ]
    },
    {
     "data": {
      "application/vnd.jupyter.widget-view+json": {
       "model_id": "7436141882e6486f8cbce1bfe13d0ade",
       "version_major": 2,
       "version_minor": 0
      },
      "text/plain": [
       "  0%|          | 0/1000000 [00:00<?, ?it/s]"
      ]
     },
     "metadata": {},
     "output_type": "display_data"
    },
    {
     "name": "stdout",
     "output_type": "stream",
     "text": [
      "     L1_t1  L2_t1  L3_t1  L1_t2  L2_t2  L3_t2\n",
      "0        0      0      0      0      0      1\n",
      "1        0      0      1      1      0      0\n",
      "2        1      0      0      0      0      1\n",
      "3        0      0      1      0      0      0\n",
      "4        0      0      0      0      0      0\n",
      "..     ...    ...    ...    ...    ...    ...\n",
      "994      0      1      0      0      0      0\n",
      "995      0      0      0      0      0      0\n",
      "996      0      0      0      0      1      0\n",
      "997      0      1      0      0      0      0\n",
      "998      0      0      0      0      1      1\n",
      "\n",
      "[999 rows x 6 columns]\n"
     ]
    },
    {
     "data": {
      "application/vnd.jupyter.widget-view+json": {
       "model_id": "1e975d1f3d9642b88ac0c9377b66d750",
       "version_major": 2,
       "version_minor": 0
      },
      "text/plain": [
       "  0%|          | 0/1000000 [00:00<?, ?it/s]"
      ]
     },
     "metadata": {},
     "output_type": "display_data"
    },
    {
     "name": "stdout",
     "output_type": "stream",
     "text": [
      "     L1_t1  L2_t1  L3_t1  L1_t2  L2_t2  L3_t2\n",
      "0        0      1      0      0      0      0\n",
      "1        0      0      0      0      0      1\n",
      "2        0      0      1      1      1      1\n",
      "3        1      1      1      0      0      0\n",
      "4        0      0      0      0      0      0\n",
      "..     ...    ...    ...    ...    ...    ...\n",
      "994      1      1      0      1      1      1\n",
      "995      1      1      1      0      1      1\n",
      "996      0      1      1      1      1      1\n",
      "997      1      1      1      1      1      1\n",
      "998      1      1      1      1      1      1\n",
      "\n",
      "[999 rows x 6 columns]\n"
     ]
    },
    {
     "data": {
      "application/vnd.jupyter.widget-view+json": {
       "model_id": "fe55c062961b422c9cfeb44427c61dea",
       "version_major": 2,
       "version_minor": 0
      },
      "text/plain": [
       "  0%|          | 0/1000000 [00:00<?, ?it/s]"
      ]
     },
     "metadata": {},
     "output_type": "display_data"
    },
    {
     "name": "stdout",
     "output_type": "stream",
     "text": [
      "     L1_t1  L2_t1  L3_t1  L1_t2  L2_t2  L3_t2\n",
      "0        0      0      0      0      1      0\n",
      "1        0      1      0      0      0      0\n",
      "2        0      0      0      0      0      0\n",
      "3        0      0      0      0      1      0\n",
      "4        0      1      0      0      1      1\n",
      "..     ...    ...    ...    ...    ...    ...\n",
      "994      1      0      1      1      0      1\n",
      "995      1      0      1      0      1      1\n",
      "996      0      1      1      0      1      0\n",
      "997      0      1      0      1      0      1\n",
      "998      1      0      1      0      0      1\n",
      "\n",
      "[999 rows x 6 columns]\n"
     ]
    },
    {
     "data": {
      "application/vnd.jupyter.widget-view+json": {
       "model_id": "4c5b11e7f07749db85c5df7ef9b34211",
       "version_major": 2,
       "version_minor": 0
      },
      "text/plain": [
       "  0%|          | 0/1000000 [00:00<?, ?it/s]"
      ]
     },
     "metadata": {},
     "output_type": "display_data"
    },
    {
     "name": "stdout",
     "output_type": "stream",
     "text": [
      "     L1_t1  L2_t1  L3_t1  L1_t2  L2_t2  L3_t2\n",
      "0        0      0      1      0      0      0\n",
      "1        0      0      0      0      0      0\n",
      "2        0      0      0      1      1      0\n",
      "3        1      1      0      0      0      1\n",
      "4        0      0      1      0      0      0\n",
      "..     ...    ...    ...    ...    ...    ...\n",
      "994      1      0      1      1      0      1\n",
      "995      1      0      1      1      0      1\n",
      "996      1      0      1      1      0      1\n",
      "997      1      0      1      0      0      0\n",
      "998      0      0      0      1      0      1\n",
      "\n",
      "[999 rows x 6 columns]\n"
     ]
    },
    {
     "data": {
      "application/vnd.jupyter.widget-view+json": {
       "model_id": "3db6899b11a246cfa16224e508f26409",
       "version_major": 2,
       "version_minor": 0
      },
      "text/plain": [
       "  0%|          | 0/1000000 [00:00<?, ?it/s]"
      ]
     },
     "metadata": {},
     "output_type": "display_data"
    },
    {
     "name": "stdout",
     "output_type": "stream",
     "text": [
      "     L1_t1  L2_t1  L3_t1  L1_t2  L2_t2  L3_t2\n",
      "0        0      0      0      0      0      0\n",
      "1        0      0      0      1      0      0\n",
      "2        1      0      0      0      0      0\n",
      "3        0      0      0      1      0      0\n",
      "4        1      0      0      0      1      1\n",
      "..     ...    ...    ...    ...    ...    ...\n",
      "994      1      1      0      1      1      0\n",
      "995      1      1      0      0      1      0\n",
      "996      0      1      0      1      1      0\n",
      "997      1      1      0      1      1      1\n",
      "998      1      1      1      1      1      1\n",
      "\n",
      "[999 rows x 6 columns]\n"
     ]
    },
    {
     "data": {
      "application/vnd.jupyter.widget-view+json": {
       "model_id": "bf4a22993be348d7b9367b46e5a92122",
       "version_major": 2,
       "version_minor": 0
      },
      "text/plain": [
       "  0%|          | 0/1000000 [00:00<?, ?it/s]"
      ]
     },
     "metadata": {},
     "output_type": "display_data"
    },
    {
     "name": "stdout",
     "output_type": "stream",
     "text": [
      "     L1_t1  L2_t1  L3_t1  L1_t2  L2_t2  L3_t2\n",
      "0        0      0      0      1      1      0\n",
      "1        1      1      0      0      1      1\n",
      "2        0      1      1      0      0      1\n",
      "3        0      0      1      0      1      0\n",
      "4        0      1      0      1      1      1\n",
      "..     ...    ...    ...    ...    ...    ...\n",
      "994      1      0      1      0      1      1\n",
      "995      0      1      1      1      1      0\n",
      "996      1      1      0      1      1      1\n",
      "997      1      1      1      1      1      0\n",
      "998      1      1      0      1      0      0\n",
      "\n",
      "[999 rows x 6 columns]\n"
     ]
    },
    {
     "data": {
      "application/vnd.jupyter.widget-view+json": {
       "model_id": "e5bdcd7f4eb04babb26576c03292e4df",
       "version_major": 2,
       "version_minor": 0
      },
      "text/plain": [
       "  0%|          | 0/1000000 [00:00<?, ?it/s]"
      ]
     },
     "metadata": {},
     "output_type": "display_data"
    },
    {
     "name": "stdout",
     "output_type": "stream",
     "text": [
      "     L1_t1  L2_t1  L3_t1  L1_t2  L2_t2  L3_t2\n",
      "0        0      1      0      1      0      0\n",
      "1        1      0      0      0      1      1\n",
      "2        0      1      1      0      1      0\n",
      "3        0      1      0      1      0      0\n",
      "4        1      0      0      0      0      1\n",
      "..     ...    ...    ...    ...    ...    ...\n",
      "994      0      0      0      0      0      0\n",
      "995      0      0      0      0      1      1\n",
      "996      0      1      1      0      0      0\n",
      "997      0      0      0      0      1      0\n",
      "998      0      1      0      0      1      1\n",
      "\n",
      "[999 rows x 6 columns]\n"
     ]
    },
    {
     "data": {
      "application/vnd.jupyter.widget-view+json": {
       "model_id": "10388a14f3114f578921de8eb8aed37a",
       "version_major": 2,
       "version_minor": 0
      },
      "text/plain": [
       "  0%|          | 0/1000000 [00:00<?, ?it/s]"
      ]
     },
     "metadata": {},
     "output_type": "display_data"
    },
    {
     "name": "stdout",
     "output_type": "stream",
     "text": [
      "     L1_t1  L2_t1  L3_t1  L1_t2  L2_t2  L3_t2\n",
      "0        0      0      0      0      0      0\n",
      "1        0      0      0      0      0      0\n",
      "2        0      0      0      0      0      0\n",
      "3        0      0      0      0      0      0\n",
      "4        0      0      0      0      1      0\n",
      "..     ...    ...    ...    ...    ...    ...\n",
      "994      0      0      0      0      0      0\n",
      "995      0      0      0      0      1      0\n",
      "996      0      1      0      1      1      0\n",
      "997      1      1      0      0      0      1\n",
      "998      0      0      1      0      0      0\n",
      "\n",
      "[999 rows x 6 columns]\n"
     ]
    },
    {
     "data": {
      "application/vnd.jupyter.widget-view+json": {
       "model_id": "1e5ea35dbc324f92a48ea9d8c47c26a0",
       "version_major": 2,
       "version_minor": 0
      },
      "text/plain": [
       "  0%|          | 0/1000000 [00:00<?, ?it/s]"
      ]
     },
     "metadata": {},
     "output_type": "display_data"
    },
    {
     "name": "stdout",
     "output_type": "stream",
     "text": [
      "     L1_t1  L2_t1  L3_t1  L1_t2  L2_t2  L3_t2\n",
      "0        0      0      0      0      1      0\n",
      "1        0      1      0      0      0      0\n",
      "2        0      0      0      0      0      0\n",
      "3        0      0      0      1      0      0\n",
      "4        1      0      0      1      1      0\n",
      "..     ...    ...    ...    ...    ...    ...\n",
      "994      0      1      0      1      1      0\n",
      "995      1      1      0      1      1      1\n",
      "996      1      1      1      1      1      1\n",
      "997      1      1      1      1      1      1\n",
      "998      1      1      1      1      0      1\n",
      "\n",
      "[999 rows x 6 columns]\n"
     ]
    },
    {
     "data": {
      "application/vnd.jupyter.widget-view+json": {
       "model_id": "d31babed5c534ebfbf54cd3062952d0d",
       "version_major": 2,
       "version_minor": 0
      },
      "text/plain": [
       "  0%|          | 0/1000000 [00:00<?, ?it/s]"
      ]
     },
     "metadata": {},
     "output_type": "display_data"
    },
    {
     "name": "stdout",
     "output_type": "stream",
     "text": [
      "     L1_t1  L2_t1  L3_t1  L1_t2  L2_t2  L3_t2\n",
      "0        0      1      0      0      0      0\n",
      "1        0      0      0      0      0      0\n",
      "2        0      0      0      0      0      0\n",
      "3        0      0      0      0      1      0\n",
      "4        0      1      0      1      1      0\n",
      "..     ...    ...    ...    ...    ...    ...\n",
      "994      0      1      0      0      1      0\n",
      "995      0      1      0      0      0      0\n",
      "996      0      0      0      1      0      0\n",
      "997      1      0      0      1      1      1\n",
      "998      1      1      1      1      0      1\n",
      "\n",
      "[999 rows x 6 columns]\n"
     ]
    },
    {
     "data": {
      "application/vnd.jupyter.widget-view+json": {
       "model_id": "72801b3803594cad8e17155eb1a6a407",
       "version_major": 2,
       "version_minor": 0
      },
      "text/plain": [
       "  0%|          | 0/1000000 [00:00<?, ?it/s]"
      ]
     },
     "metadata": {},
     "output_type": "display_data"
    },
    {
     "name": "stdout",
     "output_type": "stream",
     "text": [
      "     L1_t1  L2_t1  L3_t1  L1_t2  L2_t2  L3_t2\n",
      "0        0      0      0      0      0      0\n",
      "1        0      0      0      0      1      0\n",
      "2        0      1      0      0      0      0\n",
      "3        0      0      0      1      1      0\n",
      "4        1      1      0      1      0      1\n",
      "..     ...    ...    ...    ...    ...    ...\n",
      "994      0      0      1      1      0      1\n",
      "995      1      0      1      1      1      1\n",
      "996      1      1      1      0      0      1\n",
      "997      0      0      1      1      0      0\n",
      "998      1      0      0      0      0      0\n",
      "\n",
      "[999 rows x 6 columns]\n"
     ]
    },
    {
     "data": {
      "application/vnd.jupyter.widget-view+json": {
       "model_id": "9d22bc76731d44d8a95c56255d637b67",
       "version_major": 2,
       "version_minor": 0
      },
      "text/plain": [
       "  0%|          | 0/1000000 [00:00<?, ?it/s]"
      ]
     },
     "metadata": {},
     "output_type": "display_data"
    },
    {
     "name": "stdout",
     "output_type": "stream",
     "text": [
      "     L1_t1  L2_t1  L3_t1  L1_t2  L2_t2  L3_t2\n",
      "0        0      1      0      1      0      0\n",
      "1        1      0      0      0      0      0\n",
      "2        0      0      0      1      1      1\n",
      "3        1      1      1      0      0      0\n",
      "4        0      0      0      0      1      1\n",
      "..     ...    ...    ...    ...    ...    ...\n",
      "994      1      1      1      1      1      1\n",
      "995      1      1      1      1      1      0\n",
      "996      1      1      0      1      1      0\n",
      "997      1      1      0      0      1      1\n",
      "998      0      1      1      0      0      1\n",
      "\n",
      "[999 rows x 6 columns]\n"
     ]
    },
    {
     "data": {
      "application/vnd.jupyter.widget-view+json": {
       "model_id": "4ffb7521ac884926ac78b7295e7effa3",
       "version_major": 2,
       "version_minor": 0
      },
      "text/plain": [
       "  0%|          | 0/1000000 [00:00<?, ?it/s]"
      ]
     },
     "metadata": {},
     "output_type": "display_data"
    },
    {
     "name": "stdout",
     "output_type": "stream",
     "text": [
      "     L1_t1  L2_t1  L3_t1  L1_t2  L2_t2  L3_t2\n",
      "0        0      0      0      0      0      0\n",
      "1        0      0      0      0      1      0\n",
      "2        0      1      0      1      0      0\n",
      "3        1      0      0      1      1      0\n",
      "4        1      1      0      0      1      1\n",
      "..     ...    ...    ...    ...    ...    ...\n",
      "994      1      1      0      1      0      0\n",
      "995      1      0      0      0      0      0\n",
      "996      0      0      0      0      1      0\n",
      "997      0      1      0      0      0      0\n",
      "998      0      0      0      0      0      0\n",
      "\n",
      "[999 rows x 6 columns]\n"
     ]
    },
    {
     "data": {
      "application/vnd.jupyter.widget-view+json": {
       "model_id": "334d95da9ce445b094f27e8ae547d1c1",
       "version_major": 2,
       "version_minor": 0
      },
      "text/plain": [
       "  0%|          | 0/1000000 [00:00<?, ?it/s]"
      ]
     },
     "metadata": {},
     "output_type": "display_data"
    },
    {
     "name": "stdout",
     "output_type": "stream",
     "text": [
      "     L1_t1  L2_t1  L3_t1  L1_t2  L2_t2  L3_t2\n",
      "0        1      1      0      1      1      1\n",
      "1        1      1      1      0      0      0\n",
      "2        0      0      0      1      0      0\n",
      "3        1      0      0      1      0      0\n",
      "4        1      0      0      1      1      1\n",
      "..     ...    ...    ...    ...    ...    ...\n",
      "994      0      1      0      0      0      0\n",
      "995      0      0      0      0      1      0\n",
      "996      0      1      0      0      0      0\n",
      "997      0      0      0      1      1      1\n",
      "998      1      1      1      1      1      1\n",
      "\n",
      "[999 rows x 6 columns]\n"
     ]
    },
    {
     "data": {
      "application/vnd.jupyter.widget-view+json": {
       "model_id": "dc638fe25d7a4fdcb14c80f5ea7dade9",
       "version_major": 2,
       "version_minor": 0
      },
      "text/plain": [
       "  0%|          | 0/1000000 [00:00<?, ?it/s]"
      ]
     },
     "metadata": {},
     "output_type": "display_data"
    },
    {
     "name": "stdout",
     "output_type": "stream",
     "text": [
      "     L1_t1  L2_t1  L3_t1  L1_t2  L2_t2  L3_t2\n",
      "0        0      0      0      0      0      0\n",
      "1        0      0      0      0      1      0\n",
      "2        0      1      0      1      0      0\n",
      "3        1      0      0      1      0      1\n",
      "4        1      0      1      1      1      1\n",
      "..     ...    ...    ...    ...    ...    ...\n",
      "994      1      1      0      1      1      1\n",
      "995      1      1      1      1      0      1\n",
      "996      1      0      1      1      0      0\n",
      "997      1      0      0      1      0      0\n",
      "998      1      0      0      1      0      0\n",
      "\n",
      "[999 rows x 6 columns]\n"
     ]
    },
    {
     "data": {
      "application/vnd.jupyter.widget-view+json": {
       "model_id": "dfdc0320e0b34b3aa52c3eb472401927",
       "version_major": 2,
       "version_minor": 0
      },
      "text/plain": [
       "  0%|          | 0/1000000 [00:00<?, ?it/s]"
      ]
     },
     "metadata": {},
     "output_type": "display_data"
    },
    {
     "name": "stdout",
     "output_type": "stream",
     "text": [
      "     L1_t1  L2_t1  L3_t1  L1_t2  L2_t2  L3_t2\n",
      "0        1      0      0      1      0      0\n",
      "1        1      0      0      0      0      1\n",
      "2        0      0      1      0      0      0\n",
      "3        0      0      0      0      0      0\n",
      "4        0      0      0      0      0      0\n",
      "..     ...    ...    ...    ...    ...    ...\n",
      "994      1      0      1      1      0      1\n",
      "995      1      0      1      1      0      1\n",
      "996      1      0      1      1      0      0\n",
      "997      1      0      0      0      0      0\n",
      "998      0      0      0      1      0      1\n",
      "\n",
      "[999 rows x 6 columns]\n"
     ]
    },
    {
     "data": {
      "application/vnd.jupyter.widget-view+json": {
       "model_id": "6089d04d594e40bebb2e7f85f0d38204",
       "version_major": 2,
       "version_minor": 0
      },
      "text/plain": [
       "  0%|          | 0/1000000 [00:00<?, ?it/s]"
      ]
     },
     "metadata": {},
     "output_type": "display_data"
    },
    {
     "name": "stdout",
     "output_type": "stream",
     "text": [
      "     L1_t1  L2_t1  L3_t1  L1_t2  L2_t2  L3_t2\n",
      "0        0      0      0      0      0      0\n",
      "1        0      0      0      0      1      0\n",
      "2        0      1      0      0      0      0\n",
      "3        0      0      0      1      0      1\n",
      "4        1      0      1      0      0      0\n",
      "..     ...    ...    ...    ...    ...    ...\n",
      "994      1      1      1      1      1      1\n",
      "995      1      1      1      0      0      0\n",
      "996      0      0      0      1      0      1\n",
      "997      1      0      1      0      1      1\n",
      "998      0      1      1      1      0      1\n",
      "\n",
      "[999 rows x 6 columns]\n"
     ]
    },
    {
     "data": {
      "application/vnd.jupyter.widget-view+json": {
       "model_id": "b6704eb953314471a31f366dece709fb",
       "version_major": 2,
       "version_minor": 0
      },
      "text/plain": [
       "  0%|          | 0/1000000 [00:00<?, ?it/s]"
      ]
     },
     "metadata": {},
     "output_type": "display_data"
    },
    {
     "name": "stdout",
     "output_type": "stream",
     "text": [
      "     L1_t1  L2_t1  L3_t1  L1_t2  L2_t2  L3_t2\n",
      "0        0      0      0      1      1      0\n",
      "1        1      1      0      1      0      0\n",
      "2        1      0      0      1      1      0\n",
      "3        1      1      0      0      0      1\n",
      "4        0      0      1      1      1      1\n",
      "..     ...    ...    ...    ...    ...    ...\n",
      "994      0      0      1      0      0      0\n",
      "995      0      0      0      0      1      0\n",
      "996      0      1      0      0      0      0\n",
      "997      0      0      0      0      0      0\n",
      "998      0      0      0      1      0      0\n",
      "\n",
      "[999 rows x 6 columns]\n"
     ]
    },
    {
     "data": {
      "application/vnd.jupyter.widget-view+json": {
       "model_id": "5612e78e0ef34ef29997f5ea938aca37",
       "version_major": 2,
       "version_minor": 0
      },
      "text/plain": [
       "  0%|          | 0/1000000 [00:00<?, ?it/s]"
      ]
     },
     "metadata": {},
     "output_type": "display_data"
    },
    {
     "name": "stdout",
     "output_type": "stream",
     "text": [
      "     L1_t1  L2_t1  L3_t1  L1_t2  L2_t2  L3_t2\n",
      "0        1      0      1      0      0      0\n",
      "1        0      0      0      0      0      0\n",
      "2        0      0      0      0      0      0\n",
      "3        0      0      0      0      0      0\n",
      "4        0      0      0      0      1      1\n",
      "..     ...    ...    ...    ...    ...    ...\n",
      "994      1      1      1      1      0      1\n",
      "995      1      0      1      1      0      0\n",
      "996      1      0      0      0      0      0\n",
      "997      0      0      0      0      0      0\n",
      "998      0      0      0      0      0      1\n",
      "\n",
      "[999 rows x 6 columns]\n"
     ]
    },
    {
     "data": {
      "application/vnd.jupyter.widget-view+json": {
       "model_id": "8a4fc51f483b41dea8b2a6070665d44c",
       "version_major": 2,
       "version_minor": 0
      },
      "text/plain": [
       "  0%|          | 0/1000000 [00:00<?, ?it/s]"
      ]
     },
     "metadata": {},
     "output_type": "display_data"
    },
    {
     "name": "stdout",
     "output_type": "stream",
     "text": [
      "     L1_t1  L2_t1  L3_t1  L1_t2  L2_t2  L3_t2\n",
      "0        0      0      1      0      1      0\n",
      "1        0      1      0      0      0      0\n",
      "2        0      0      0      1      0      0\n",
      "3        1      0      0      1      0      1\n",
      "4        1      0      1      0      1      1\n",
      "..     ...    ...    ...    ...    ...    ...\n",
      "994      1      1      1      1      0      1\n",
      "995      1      0      1      1      1      1\n",
      "996      1      1      1      1      0      0\n",
      "997      1      0      0      1      1      0\n",
      "998      1      1      0      1      1      0\n",
      "\n",
      "[999 rows x 6 columns]\n"
     ]
    },
    {
     "data": {
      "application/vnd.jupyter.widget-view+json": {
       "model_id": "24ec86a9acce4ef6a5c09c8b8404ebe4",
       "version_major": 2,
       "version_minor": 0
      },
      "text/plain": [
       "  0%|          | 0/1000000 [00:00<?, ?it/s]"
      ]
     },
     "metadata": {},
     "output_type": "display_data"
    },
    {
     "name": "stdout",
     "output_type": "stream",
     "text": [
      "     L1_t1  L2_t1  L3_t1  L1_t2  L2_t2  L3_t2\n",
      "0        0      0      0      0      0      0\n",
      "1        0      0      0      0      0      0\n",
      "2        0      0      0      0      0      0\n",
      "3        0      0      0      0      0      0\n",
      "4        0      0      0      1      0      0\n",
      "..     ...    ...    ...    ...    ...    ...\n",
      "994      1      1      1      1      1      1\n",
      "995      1      1      1      1      1      1\n",
      "996      1      1      1      1      1      1\n",
      "997      1      1      1      1      1      1\n",
      "998      1      1      1      1      1      1\n",
      "\n",
      "[999 rows x 6 columns]\n"
     ]
    },
    {
     "data": {
      "application/vnd.jupyter.widget-view+json": {
       "model_id": "5477ca97b5284a1399735b72554f81a6",
       "version_major": 2,
       "version_minor": 0
      },
      "text/plain": [
       "  0%|          | 0/1000000 [00:00<?, ?it/s]"
      ]
     },
     "metadata": {},
     "output_type": "display_data"
    },
    {
     "name": "stdout",
     "output_type": "stream",
     "text": [
      "     L1_t1  L2_t1  L3_t1  L1_t2  L2_t2  L3_t2\n",
      "0        0      0      0      1      1      0\n",
      "1        1      1      0      0      0      1\n",
      "2        0      0      1      0      0      0\n",
      "3        0      0      0      1      0      1\n",
      "4        1      0      1      1      0      1\n",
      "..     ...    ...    ...    ...    ...    ...\n",
      "994      0      1      1      1      1      0\n",
      "995      1      1      0      1      1      1\n",
      "996      1      1      1      1      1      1\n",
      "997      1      1      1      1      1      1\n",
      "998      1      1      1      1      0      1\n",
      "\n",
      "[999 rows x 6 columns]\n"
     ]
    },
    {
     "data": {
      "application/vnd.jupyter.widget-view+json": {
       "model_id": "5cccfe205a7c42399d23dd80026398c3",
       "version_major": 2,
       "version_minor": 0
      },
      "text/plain": [
       "  0%|          | 0/1000000 [00:00<?, ?it/s]"
      ]
     },
     "metadata": {},
     "output_type": "display_data"
    },
    {
     "name": "stdout",
     "output_type": "stream",
     "text": [
      "     L1_t1  L2_t1  L3_t1  L1_t2  L2_t2  L3_t2\n",
      "0        0      0      0      0      0      0\n",
      "1        0      0      0      0      1      0\n",
      "2        0      1      0      1      0      0\n",
      "3        1      0      0      0      0      0\n",
      "4        0      0      0      1      0      1\n",
      "..     ...    ...    ...    ...    ...    ...\n",
      "994      0      0      1      1      1      1\n",
      "995      1      1      1      1      0      1\n",
      "996      1      0      1      1      0      1\n",
      "997      1      0      1      0      0      1\n",
      "998      0      0      1      0      1      0\n",
      "\n",
      "[999 rows x 6 columns]\n"
     ]
    },
    {
     "data": {
      "application/vnd.jupyter.widget-view+json": {
       "model_id": "7a96bb6b935747db8293afd44926b817",
       "version_major": 2,
       "version_minor": 0
      },
      "text/plain": [
       "  0%|          | 0/1000000 [00:00<?, ?it/s]"
      ]
     },
     "metadata": {},
     "output_type": "display_data"
    },
    {
     "name": "stdout",
     "output_type": "stream",
     "text": [
      "     L1_t1  L2_t1  L3_t1  L1_t2  L2_t2  L3_t2\n",
      "0        0      1      0      1      0      0\n",
      "1        1      0      0      0      0      1\n",
      "2        0      0      1      0      1      0\n",
      "3        0      1      0      1      1      1\n",
      "4        1      1      1      0      0      1\n",
      "..     ...    ...    ...    ...    ...    ...\n",
      "994      1      0      1      1      0      1\n",
      "995      1      0      1      0      1      1\n",
      "996      0      1      1      1      0      1\n",
      "997      1      0      1      1      1      1\n",
      "998      1      1      1      1      0      0\n",
      "\n",
      "[999 rows x 6 columns]\n"
     ]
    },
    {
     "data": {
      "application/vnd.jupyter.widget-view+json": {
       "model_id": "25f59d201c744080a6c2d30221eb2799",
       "version_major": 2,
       "version_minor": 0
      },
      "text/plain": [
       "  0%|          | 0/1000000 [00:00<?, ?it/s]"
      ]
     },
     "metadata": {},
     "output_type": "display_data"
    },
    {
     "name": "stdout",
     "output_type": "stream",
     "text": [
      "     L1_t1  L2_t1  L3_t1  L1_t2  L2_t2  L3_t2\n",
      "0        1      0      0      0      0      1\n",
      "1        0      0      1      0      1      0\n",
      "2        0      1      0      0      1      0\n",
      "3        0      1      0      0      0      0\n",
      "4        0      0      0      1      1      1\n",
      "..     ...    ...    ...    ...    ...    ...\n",
      "994      1      0      0      1      0      1\n",
      "995      1      0      1      1      0      1\n",
      "996      1      0      1      1      1      1\n",
      "997      1      1      1      1      0      1\n",
      "998      1      0      1      1      0      0\n",
      "\n",
      "[999 rows x 6 columns]\n"
     ]
    },
    {
     "data": {
      "application/vnd.jupyter.widget-view+json": {
       "model_id": "481c15efba9a492aaca85197c036b7f1",
       "version_major": 2,
       "version_minor": 0
      },
      "text/plain": [
       "  0%|          | 0/1000000 [00:00<?, ?it/s]"
      ]
     },
     "metadata": {},
     "output_type": "display_data"
    },
    {
     "name": "stdout",
     "output_type": "stream",
     "text": [
      "     L1_t1  L2_t1  L3_t1  L1_t2  L2_t2  L3_t2\n",
      "0        0      1      0      1      0      0\n",
      "1        1      0      0      1      1      1\n",
      "2        1      1      1      1      1      1\n",
      "3        1      1      1      1      0      1\n",
      "4        1      0      1      0      1      0\n",
      "..     ...    ...    ...    ...    ...    ...\n",
      "994      1      1      0      1      0      1\n",
      "995      1      0      1      0      1      1\n",
      "996      0      1      1      1      0      1\n",
      "997      1      0      1      1      0      1\n",
      "998      1      0      1      1      0      0\n",
      "\n",
      "[999 rows x 6 columns]\n"
     ]
    },
    {
     "data": {
      "application/vnd.jupyter.widget-view+json": {
       "model_id": "9461ae5863b24252bdbd4ada26aa44a8",
       "version_major": 2,
       "version_minor": 0
      },
      "text/plain": [
       "  0%|          | 0/1000000 [00:00<?, ?it/s]"
      ]
     },
     "metadata": {},
     "output_type": "display_data"
    },
    {
     "name": "stdout",
     "output_type": "stream",
     "text": [
      "     L1_t1  L2_t1  L3_t1  L1_t2  L2_t2  L3_t2\n",
      "0        1      0      1      1      0      0\n",
      "1        1      0      0      0      0      0\n",
      "2        0      0      0      0      0      1\n",
      "3        0      0      1      1      0      1\n",
      "4        1      0      1      1      0      0\n",
      "..     ...    ...    ...    ...    ...    ...\n",
      "994      1      0      1      0      1      1\n",
      "995      0      1      1      1      0      0\n",
      "996      1      0      0      0      0      0\n",
      "997      0      0      0      1      1      0\n",
      "998      1      1      0      1      1      0\n",
      "\n",
      "[999 rows x 6 columns]\n"
     ]
    },
    {
     "data": {
      "application/vnd.jupyter.widget-view+json": {
       "model_id": "893143df67ca4d8082dba05f6a08e063",
       "version_major": 2,
       "version_minor": 0
      },
      "text/plain": [
       "  0%|          | 0/1000000 [00:00<?, ?it/s]"
      ]
     },
     "metadata": {},
     "output_type": "display_data"
    },
    {
     "name": "stdout",
     "output_type": "stream",
     "text": [
      "     L1_t1  L2_t1  L3_t1  L1_t2  L2_t2  L3_t2\n",
      "0        0      1      0      1      0      1\n",
      "1        1      0      1      0      0      0\n",
      "2        0      0      0      1      0      1\n",
      "3        1      0      1      1      1      1\n",
      "4        1      1      1      0      0      1\n",
      "..     ...    ...    ...    ...    ...    ...\n",
      "994      0      1      0      1      1      0\n",
      "995      1      1      0      0      0      0\n",
      "996      0      0      0      1      1      0\n",
      "997      1      1      0      1      1      1\n",
      "998      1      1      1      0      0      1\n",
      "\n",
      "[999 rows x 6 columns]\n"
     ]
    },
    {
     "data": {
      "application/vnd.jupyter.widget-view+json": {
       "model_id": "d5a190d00eeb4fd59c7553e98ee8ab3d",
       "version_major": 2,
       "version_minor": 0
      },
      "text/plain": [
       "  0%|          | 0/1000000 [00:00<?, ?it/s]"
      ]
     },
     "metadata": {},
     "output_type": "display_data"
    },
    {
     "name": "stdout",
     "output_type": "stream",
     "text": [
      "     L1_t1  L2_t1  L3_t1  L1_t2  L2_t2  L3_t2\n",
      "0        1      1      0      0      0      0\n",
      "1        0      0      0      1      1      0\n",
      "2        1      1      0      0      0      1\n",
      "3        0      0      1      0      1      0\n",
      "4        0      1      0      0      0      0\n",
      "..     ...    ...    ...    ...    ...    ...\n",
      "994      1      0      1      1      1      1\n",
      "995      1      1      1      1      1      0\n",
      "996      1      1      0      0      1      1\n",
      "997      0      1      1      0      0      0\n",
      "998      0      0      0      1      1      0\n",
      "\n",
      "[999 rows x 6 columns]\n"
     ]
    },
    {
     "data": {
      "application/vnd.jupyter.widget-view+json": {
       "model_id": "a9549e0247be47b7a9fca9a783c3348f",
       "version_major": 2,
       "version_minor": 0
      },
      "text/plain": [
       "  0%|          | 0/1000000 [00:00<?, ?it/s]"
      ]
     },
     "metadata": {},
     "output_type": "display_data"
    },
    {
     "name": "stdout",
     "output_type": "stream",
     "text": [
      "     L1_t1  L2_t1  L3_t1  L1_t2  L2_t2  L3_t2\n",
      "0        1      1      0      0      1      1\n",
      "1        0      1      1      1      0      0\n",
      "2        1      0      0      0      0      0\n",
      "3        0      0      0      1      1      1\n",
      "4        1      1      1      1      1      1\n",
      "..     ...    ...    ...    ...    ...    ...\n",
      "994      0      1      1      0      0      1\n",
      "995      0      0      1      0      1      0\n",
      "996      0      1      0      1      1      0\n",
      "997      1      1      0      0      1      0\n",
      "998      0      1      0      1      1      0\n",
      "\n",
      "[999 rows x 6 columns]\n"
     ]
    },
    {
     "data": {
      "application/vnd.jupyter.widget-view+json": {
       "model_id": "811322e330d84aa3845671591db645c7",
       "version_major": 2,
       "version_minor": 0
      },
      "text/plain": [
       "  0%|          | 0/1000000 [00:00<?, ?it/s]"
      ]
     },
     "metadata": {},
     "output_type": "display_data"
    },
    {
     "name": "stdout",
     "output_type": "stream",
     "text": [
      "     L1_t1  L2_t1  L3_t1  L1_t2  L2_t2  L3_t2\n",
      "0        0      0      0      0      0      0\n",
      "1        0      0      0      0      0      0\n",
      "2        0      0      0      1      0      1\n",
      "3        1      0      1      0      0      1\n",
      "4        0      0      1      1      0      1\n",
      "..     ...    ...    ...    ...    ...    ...\n",
      "994      0      0      0      0      1      0\n",
      "995      0      1      0      1      0      0\n",
      "996      1      0      0      1      1      0\n",
      "997      1      1      0      1      1      1\n",
      "998      1      1      1      0      1      0\n",
      "\n",
      "[999 rows x 6 columns]\n"
     ]
    },
    {
     "data": {
      "application/vnd.jupyter.widget-view+json": {
       "model_id": "b06563cad1654d2d82cbd106cd6c6004",
       "version_major": 2,
       "version_minor": 0
      },
      "text/plain": [
       "  0%|          | 0/1000000 [00:00<?, ?it/s]"
      ]
     },
     "metadata": {},
     "output_type": "display_data"
    },
    {
     "name": "stdout",
     "output_type": "stream",
     "text": [
      "     L1_t1  L2_t1  L3_t1  L1_t2  L2_t2  L3_t2\n",
      "0        0      0      0      0      1      0\n",
      "1        0      1      0      1      1      0\n",
      "2        1      1      0      1      1      0\n",
      "3        1      1      0      1      1      1\n",
      "4        1      1      1      1      0      1\n",
      "..     ...    ...    ...    ...    ...    ...\n",
      "994      0      0      0      0      0      0\n",
      "995      0      0      0      1      1      1\n",
      "996      1      1      1      1      1      1\n",
      "997      1      1      1      1      1      1\n",
      "998      1      1      1      0      0      0\n",
      "\n",
      "[999 rows x 6 columns]\n"
     ]
    },
    {
     "data": {
      "application/vnd.jupyter.widget-view+json": {
       "model_id": "fbe13104682546c2b9b35738ffd0a4d2",
       "version_major": 2,
       "version_minor": 0
      },
      "text/plain": [
       "  0%|          | 0/1000000 [00:00<?, ?it/s]"
      ]
     },
     "metadata": {},
     "output_type": "display_data"
    },
    {
     "name": "stdout",
     "output_type": "stream",
     "text": [
      "     L1_t1  L2_t1  L3_t1  L1_t2  L2_t2  L3_t2\n",
      "0        1      0      0      0      0      1\n",
      "1        0      0      1      0      0      1\n",
      "2        0      0      1      0      0      1\n",
      "3        0      0      1      0      0      0\n",
      "4        0      0      0      0      0      0\n",
      "..     ...    ...    ...    ...    ...    ...\n",
      "994      0      0      1      1      1      0\n",
      "995      1      1      0      1      1      1\n",
      "996      1      1      1      1      1      1\n",
      "997      1      1      1      1      1      1\n",
      "998      1      1      1      1      1      0\n",
      "\n",
      "[999 rows x 6 columns]\n"
     ]
    },
    {
     "data": {
      "application/vnd.jupyter.widget-view+json": {
       "model_id": "dd3ae605977943c4931eda31dcdf65de",
       "version_major": 2,
       "version_minor": 0
      },
      "text/plain": [
       "  0%|          | 0/1000000 [00:00<?, ?it/s]"
      ]
     },
     "metadata": {},
     "output_type": "display_data"
    },
    {
     "name": "stdout",
     "output_type": "stream",
     "text": [
      "     L1_t1  L2_t1  L3_t1  L1_t2  L2_t2  L3_t2\n",
      "0        0      1      1      1      1      0\n",
      "1        1      1      0      0      0      1\n",
      "2        0      0      1      1      0      1\n",
      "3        1      0      1      0      0      1\n",
      "4        0      0      1      1      1      1\n",
      "..     ...    ...    ...    ...    ...    ...\n",
      "994      0      0      1      0      1      0\n",
      "995      0      1      0      0      0      0\n",
      "996      0      0      0      1      1      0\n",
      "997      1      1      0      1      1      1\n",
      "998      1      1      1      1      1      1\n",
      "\n",
      "[999 rows x 6 columns]\n"
     ]
    },
    {
     "data": {
      "application/vnd.jupyter.widget-view+json": {
       "model_id": "f500c8e07ff147e78651bf2ad5a97d29",
       "version_major": 2,
       "version_minor": 0
      },
      "text/plain": [
       "  0%|          | 0/1000000 [00:00<?, ?it/s]"
      ]
     },
     "metadata": {},
     "output_type": "display_data"
    },
    {
     "name": "stdout",
     "output_type": "stream",
     "text": [
      "     L1_t1  L2_t1  L3_t1  L1_t2  L2_t2  L3_t2\n",
      "0        0      0      0      0      0      0\n",
      "1        0      0      0      0      0      0\n",
      "2        0      0      0      0      0      0\n",
      "3        0      0      0      1      1      1\n",
      "4        1      1      1      0      0      0\n",
      "..     ...    ...    ...    ...    ...    ...\n",
      "994      0      0      0      0      1      0\n",
      "995      0      1      0      1      1      0\n",
      "996      1      1      0      0      0      0\n",
      "997      0      0      0      1      0      1\n",
      "998      1      0      1      1      0      1\n",
      "\n",
      "[999 rows x 6 columns]\n"
     ]
    },
    {
     "data": {
      "application/vnd.jupyter.widget-view+json": {
       "model_id": "b86f842755c14d95b647676c75bb6830",
       "version_major": 2,
       "version_minor": 0
      },
      "text/plain": [
       "  0%|          | 0/1000000 [00:00<?, ?it/s]"
      ]
     },
     "metadata": {},
     "output_type": "display_data"
    },
    {
     "name": "stdout",
     "output_type": "stream",
     "text": [
      "     L1_t1  L2_t1  L3_t1  L1_t2  L2_t2  L3_t2\n",
      "0        0      1      0      0      0      0\n",
      "1        0      0      0      0      0      0\n",
      "2        0      0      0      1      1      0\n",
      "3        1      1      0      1      1      1\n",
      "4        1      1      1      1      1      1\n",
      "..     ...    ...    ...    ...    ...    ...\n",
      "994      0      1      0      1      0      1\n",
      "995      1      0      1      0      1      1\n",
      "996      0      1      1      0      1      1\n",
      "997      0      1      1      1      1      1\n",
      "998      1      1      1      1      1      1\n",
      "\n",
      "[999 rows x 6 columns]\n"
     ]
    },
    {
     "data": {
      "application/vnd.jupyter.widget-view+json": {
       "model_id": "68f9278288e14c3384c53feed80c6027",
       "version_major": 2,
       "version_minor": 0
      },
      "text/plain": [
       "  0%|          | 0/1000000 [00:00<?, ?it/s]"
      ]
     },
     "metadata": {},
     "output_type": "display_data"
    },
    {
     "name": "stdout",
     "output_type": "stream",
     "text": [
      "     L1_t1  L2_t1  L3_t1  L1_t2  L2_t2  L3_t2\n",
      "0        0      0      0      0      0      0\n",
      "1        0      0      0      0      1      1\n",
      "2        0      1      1      0      0      0\n",
      "3        0      0      0      0      0      0\n",
      "4        0      0      0      0      1      0\n",
      "..     ...    ...    ...    ...    ...    ...\n",
      "994      1      1      1      1      0      0\n",
      "995      1      0      0      0      1      1\n",
      "996      0      1      1      0      0      0\n",
      "997      0      0      0      0      0      0\n",
      "998      0      0      0      0      0      0\n",
      "\n",
      "[999 rows x 6 columns]\n"
     ]
    },
    {
     "data": {
      "application/vnd.jupyter.widget-view+json": {
       "model_id": "af717e2d461b4b0aa4454ead51338a57",
       "version_major": 2,
       "version_minor": 0
      },
      "text/plain": [
       "  0%|          | 0/1000000 [00:00<?, ?it/s]"
      ]
     },
     "metadata": {},
     "output_type": "display_data"
    },
    {
     "name": "stdout",
     "output_type": "stream",
     "text": [
      "     L1_t1  L2_t1  L3_t1  L1_t2  L2_t2  L3_t2\n",
      "0        0      1      0      0      0      1\n",
      "1        0      0      1      0      0      0\n",
      "2        0      0      0      1      1      0\n",
      "3        1      1      0      0      0      1\n",
      "4        0      0      1      0      0      0\n",
      "..     ...    ...    ...    ...    ...    ...\n",
      "994      1      1      0      0      0      0\n",
      "995      0      0      0      0      0      0\n",
      "996      0      0      0      0      1      0\n",
      "997      0      1      0      1      0      0\n",
      "998      1      0      0      0      0      1\n",
      "\n",
      "[999 rows x 6 columns]\n"
     ]
    },
    {
     "data": {
      "application/vnd.jupyter.widget-view+json": {
       "model_id": "640c26bf47cf44f7a1af01b7fc5b81b7",
       "version_major": 2,
       "version_minor": 0
      },
      "text/plain": [
       "  0%|          | 0/1000000 [00:00<?, ?it/s]"
      ]
     },
     "metadata": {},
     "output_type": "display_data"
    },
    {
     "name": "stdout",
     "output_type": "stream",
     "text": [
      "     L1_t1  L2_t1  L3_t1  L1_t2  L2_t2  L3_t2\n",
      "0        0      0      0      0      0      0\n",
      "1        0      0      0      0      0      1\n",
      "2        0      0      1      0      0      1\n",
      "3        0      0      1      0      0      0\n",
      "4        0      0      0      0      0      0\n",
      "..     ...    ...    ...    ...    ...    ...\n",
      "994      0      1      0      1      0      1\n",
      "995      1      0      1      1      1      0\n",
      "996      1      1      0      1      1      1\n",
      "997      1      1      1      1      0      1\n",
      "998      1      0      1      0      0      0\n",
      "\n",
      "[999 rows x 6 columns]\n"
     ]
    },
    {
     "data": {
      "application/vnd.jupyter.widget-view+json": {
       "model_id": "70e86834f7d94e539794bf44fc1ccf97",
       "version_major": 2,
       "version_minor": 0
      },
      "text/plain": [
       "  0%|          | 0/1000000 [00:00<?, ?it/s]"
      ]
     },
     "metadata": {},
     "output_type": "display_data"
    },
    {
     "name": "stdout",
     "output_type": "stream",
     "text": [
      "     L1_t1  L2_t1  L3_t1  L1_t2  L2_t2  L3_t2\n",
      "0        0      1      1      1      1      0\n",
      "1        1      1      0      1      1      1\n",
      "2        1      1      1      1      0      0\n",
      "3        1      0      0      0      1      1\n",
      "4        0      1      1      1      1      1\n",
      "..     ...    ...    ...    ...    ...    ...\n",
      "994      0      1      0      0      1      0\n",
      "995      0      1      0      1      1      0\n",
      "996      1      1      0      0      1      0\n",
      "997      0      1      0      0      0      0\n",
      "998      0      0      0      1      1      1\n",
      "\n",
      "[999 rows x 6 columns]\n"
     ]
    },
    {
     "data": {
      "application/vnd.jupyter.widget-view+json": {
       "model_id": "a59de5a7cbd34cdab4a8fae1506f1e86",
       "version_major": 2,
       "version_minor": 0
      },
      "text/plain": [
       "  0%|          | 0/1000000 [00:00<?, ?it/s]"
      ]
     },
     "metadata": {},
     "output_type": "display_data"
    },
    {
     "name": "stdout",
     "output_type": "stream",
     "text": [
      "     L1_t1  L2_t1  L3_t1  L1_t2  L2_t2  L3_t2\n",
      "0        1      1      0      0      1      1\n",
      "1        0      1      1      0      0      0\n",
      "2        0      0      0      0      0      0\n",
      "3        0      0      0      0      0      0\n",
      "4        0      0      0      0      0      0\n",
      "..     ...    ...    ...    ...    ...    ...\n",
      "994      1      1      0      1      1      1\n",
      "995      1      1      1      0      1      0\n",
      "996      0      1      0      1      1      0\n",
      "997      1      1      0      1      1      1\n",
      "998      1      1      1      1      1      1\n",
      "\n",
      "[999 rows x 6 columns]\n"
     ]
    },
    {
     "data": {
      "application/vnd.jupyter.widget-view+json": {
       "model_id": "37507a0e3a8e4399a707497a5e178330",
       "version_major": 2,
       "version_minor": 0
      },
      "text/plain": [
       "  0%|          | 0/1000000 [00:00<?, ?it/s]"
      ]
     },
     "metadata": {},
     "output_type": "display_data"
    },
    {
     "name": "stdout",
     "output_type": "stream",
     "text": [
      "     L1_t1  L2_t1  L3_t1  L1_t2  L2_t2  L3_t2\n",
      "0        1      0      0      1      0      0\n",
      "1        1      0      0      0      0      0\n",
      "2        0      0      0      0      1      1\n",
      "3        0      1      1      1      1      1\n",
      "4        1      1      1      1      0      1\n",
      "..     ...    ...    ...    ...    ...    ...\n",
      "994      1      0      0      1      0      1\n",
      "995      1      0      1      1      0      1\n",
      "996      1      0      1      1      1      1\n",
      "997      1      1      1      0      0      0\n",
      "998      0      0      0      0      1      0\n",
      "\n",
      "[999 rows x 6 columns]\n"
     ]
    },
    {
     "data": {
      "application/vnd.jupyter.widget-view+json": {
       "model_id": "af16e15355b746aaa6b9d03a20502673",
       "version_major": 2,
       "version_minor": 0
      },
      "text/plain": [
       "  0%|          | 0/1000000 [00:00<?, ?it/s]"
      ]
     },
     "metadata": {},
     "output_type": "display_data"
    },
    {
     "name": "stdout",
     "output_type": "stream",
     "text": [
      "     L1_t1  L2_t1  L3_t1  L1_t2  L2_t2  L3_t2\n",
      "0        0      0      0      0      1      0\n",
      "1        0      1      0      0      1      0\n",
      "2        0      1      0      0      0      1\n",
      "3        0      0      1      1      0      0\n",
      "4        1      0      0      1      0      1\n",
      "..     ...    ...    ...    ...    ...    ...\n",
      "994      1      1      0      1      0      1\n",
      "995      1      0      1      0      1      0\n",
      "996      0      1      0      1      1      1\n",
      "997      1      1      1      1      1      1\n",
      "998      1      1      1      1      1      0\n",
      "\n",
      "[999 rows x 6 columns]\n"
     ]
    },
    {
     "data": {
      "application/vnd.jupyter.widget-view+json": {
       "model_id": "5bde9c3eecc64374afef562be10f0194",
       "version_major": 2,
       "version_minor": 0
      },
      "text/plain": [
       "  0%|          | 0/1000000 [00:00<?, ?it/s]"
      ]
     },
     "metadata": {},
     "output_type": "display_data"
    },
    {
     "name": "stdout",
     "output_type": "stream",
     "text": [
      "     L1_t1  L2_t1  L3_t1  L1_t2  L2_t2  L3_t2\n",
      "0        0      0      0      0      0      0\n",
      "1        0      0      0      0      0      1\n",
      "2        0      0      1      0      0      1\n",
      "3        0      0      1      0      0      0\n",
      "4        0      0      0      0      0      1\n",
      "..     ...    ...    ...    ...    ...    ...\n",
      "994      1      1      0      1      0      0\n",
      "995      1      0      0      1      0      1\n",
      "996      1      0      1      1      1      1\n",
      "997      1      1      1      1      1      1\n",
      "998      1      1      1      1      1      0\n",
      "\n",
      "[999 rows x 6 columns]\n"
     ]
    },
    {
     "data": {
      "application/vnd.jupyter.widget-view+json": {
       "model_id": "c603441dbc714145ab3757389bc0c7a8",
       "version_major": 2,
       "version_minor": 0
      },
      "text/plain": [
       "  0%|          | 0/1000000 [00:00<?, ?it/s]"
      ]
     },
     "metadata": {},
     "output_type": "display_data"
    },
    {
     "name": "stdout",
     "output_type": "stream",
     "text": [
      "     L1_t1  L2_t1  L3_t1  L1_t2  L2_t2  L3_t2\n",
      "0        0      0      1      0      0      0\n",
      "1        0      0      0      0      0      0\n",
      "2        0      0      0      1      0      0\n",
      "3        1      0      0      0      0      0\n",
      "4        0      0      0      0      0      0\n",
      "..     ...    ...    ...    ...    ...    ...\n",
      "994      1      0      1      1      1      0\n",
      "995      1      1      0      1      1      1\n",
      "996      1      1      1      0      0      1\n",
      "997      0      0      1      1      1      1\n",
      "998      1      1      1      1      0      1\n",
      "\n",
      "[999 rows x 6 columns]\n"
     ]
    },
    {
     "data": {
      "application/vnd.jupyter.widget-view+json": {
       "model_id": "2e31b63eb0ed4264a78526e97ae87866",
       "version_major": 2,
       "version_minor": 0
      },
      "text/plain": [
       "  0%|          | 0/1000000 [00:00<?, ?it/s]"
      ]
     },
     "metadata": {},
     "output_type": "display_data"
    },
    {
     "name": "stdout",
     "output_type": "stream",
     "text": [
      "     L1_t1  L2_t1  L3_t1  L1_t2  L2_t2  L3_t2\n",
      "0        0      0      0      0      1      0\n",
      "1        0      1      0      0      0      0\n",
      "2        0      0      0      0      1      0\n",
      "3        0      1      0      1      1      0\n",
      "4        1      1      0      1      1      0\n",
      "..     ...    ...    ...    ...    ...    ...\n",
      "994      0      1      0      1      1      0\n",
      "995      1      1      0      0      1      1\n",
      "996      0      1      1      1      1      0\n",
      "997      1      1      0      1      1      1\n",
      "998      1      1      1      1      1      0\n",
      "\n",
      "[999 rows x 6 columns]\n"
     ]
    },
    {
     "data": {
      "application/vnd.jupyter.widget-view+json": {
       "model_id": "0b8343a6b7e64328b065c8483ddbd717",
       "version_major": 2,
       "version_minor": 0
      },
      "text/plain": [
       "  0%|          | 0/1000000 [00:00<?, ?it/s]"
      ]
     },
     "metadata": {},
     "output_type": "display_data"
    },
    {
     "name": "stdout",
     "output_type": "stream",
     "text": [
      "     L1_t1  L2_t1  L3_t1  L1_t2  L2_t2  L3_t2\n",
      "0        0      0      0      0      0      0\n",
      "1        0      0      0      0      0      0\n",
      "2        0      0      0      0      0      0\n",
      "3        0      0      0      0      0      0\n",
      "4        0      0      0      0      0      0\n",
      "..     ...    ...    ...    ...    ...    ...\n",
      "994      1      1      1      1      0      0\n",
      "995      1      0      0      0      0      0\n",
      "996      0      0      0      0      0      0\n",
      "997      0      0      0      0      0      1\n",
      "998      0      0      1      1      1      0\n",
      "\n",
      "[999 rows x 6 columns]\n"
     ]
    },
    {
     "data": {
      "application/vnd.jupyter.widget-view+json": {
       "model_id": "f6e07ac287d4414b8b59b766a16ce47f",
       "version_major": 2,
       "version_minor": 0
      },
      "text/plain": [
       "  0%|          | 0/1000000 [00:00<?, ?it/s]"
      ]
     },
     "metadata": {},
     "output_type": "display_data"
    },
    {
     "name": "stdout",
     "output_type": "stream",
     "text": [
      "     L1_t1  L2_t1  L3_t1  L1_t2  L2_t2  L3_t2\n",
      "0        0      0      0      0      0      0\n",
      "1        0      0      0      0      0      0\n",
      "2        0      0      0      0      1      0\n",
      "3        0      1      0      1      0      0\n",
      "4        1      0      0      1      1      0\n",
      "..     ...    ...    ...    ...    ...    ...\n",
      "994      1      1      1      1      1      1\n",
      "995      1      1      1      0      1      1\n",
      "996      0      1      1      1      0      1\n",
      "997      1      0      1      1      0      0\n",
      "998      1      0      0      1      1      1\n",
      "\n",
      "[999 rows x 6 columns]\n"
     ]
    },
    {
     "data": {
      "application/vnd.jupyter.widget-view+json": {
       "model_id": "b5b68f872356406eb13a0440c3fb5fd3",
       "version_major": 2,
       "version_minor": 0
      },
      "text/plain": [
       "  0%|          | 0/1000000 [00:00<?, ?it/s]"
      ]
     },
     "metadata": {},
     "output_type": "display_data"
    },
    {
     "name": "stdout",
     "output_type": "stream",
     "text": [
      "     L1_t1  L2_t1  L3_t1  L1_t2  L2_t2  L3_t2\n",
      "0        0      0      0      0      0      0\n",
      "1        0      0      0      0      0      0\n",
      "2        0      0      0      0      1      0\n",
      "3        0      1      0      1      1      0\n",
      "4        1      1      0      1      1      1\n",
      "..     ...    ...    ...    ...    ...    ...\n",
      "994      0      0      1      0      0      0\n",
      "995      0      0      0      0      0      1\n",
      "996      0      0      1      0      0      0\n",
      "997      0      0      0      0      0      1\n",
      "998      0      0      1      1      1      1\n",
      "\n",
      "[999 rows x 6 columns]\n"
     ]
    },
    {
     "data": {
      "application/vnd.jupyter.widget-view+json": {
       "model_id": "6402dae74d404989944f181f64fd4d82",
       "version_major": 2,
       "version_minor": 0
      },
      "text/plain": [
       "  0%|          | 0/1000000 [00:00<?, ?it/s]"
      ]
     },
     "metadata": {},
     "output_type": "display_data"
    },
    {
     "name": "stdout",
     "output_type": "stream",
     "text": [
      "     L1_t1  L2_t1  L3_t1  L1_t2  L2_t2  L3_t2\n",
      "0        0      0      0      0      1      0\n",
      "1        0      1      0      0      1      0\n",
      "2        0      1      0      1      0      1\n",
      "3        1      0      1      0      0      1\n",
      "4        0      0      1      0      1      0\n",
      "..     ...    ...    ...    ...    ...    ...\n",
      "994      1      1      0      0      1      0\n",
      "995      0      1      0      1      1      1\n",
      "996      1      1      1      1      1      1\n",
      "997      1      1      1      1      0      1\n",
      "998      1      0      1      1      0      1\n",
      "\n",
      "[999 rows x 6 columns]\n"
     ]
    },
    {
     "data": {
      "application/vnd.jupyter.widget-view+json": {
       "model_id": "248586573da64dbb8ab9052ca5da08ce",
       "version_major": 2,
       "version_minor": 0
      },
      "text/plain": [
       "  0%|          | 0/1000000 [00:00<?, ?it/s]"
      ]
     },
     "metadata": {},
     "output_type": "display_data"
    },
    {
     "name": "stdout",
     "output_type": "stream",
     "text": [
      "     L1_t1  L2_t1  L3_t1  L1_t2  L2_t2  L3_t2\n",
      "0        0      0      0      0      0      1\n",
      "1        0      0      1      0      0      0\n",
      "2        0      0      0      0      0      1\n",
      "3        0      0      1      0      0      0\n",
      "4        0      0      0      0      0      0\n",
      "..     ...    ...    ...    ...    ...    ...\n",
      "994      1      0      1      0      0      0\n",
      "995      0      0      0      0      0      0\n",
      "996      0      0      0      0      0      1\n",
      "997      0      0      1      0      0      1\n",
      "998      0      0      1      0      1      0\n",
      "\n",
      "[999 rows x 6 columns]\n"
     ]
    },
    {
     "data": {
      "application/vnd.jupyter.widget-view+json": {
       "model_id": "c4a0c36e83c7404f886986dd795495ac",
       "version_major": 2,
       "version_minor": 0
      },
      "text/plain": [
       "  0%|          | 0/1000000 [00:00<?, ?it/s]"
      ]
     },
     "metadata": {},
     "output_type": "display_data"
    },
    {
     "name": "stdout",
     "output_type": "stream",
     "text": [
      "     L1_t1  L2_t1  L3_t1  L1_t2  L2_t2  L3_t2\n",
      "0        0      1      0      1      0      0\n",
      "1        1      0      0      0      0      0\n",
      "2        0      0      0      1      0      1\n",
      "3        1      0      1      1      1      1\n",
      "4        1      1      1      1      0      1\n",
      "..     ...    ...    ...    ...    ...    ...\n",
      "994      0      0      0      0      0      0\n",
      "995      0      0      0      1      1      1\n",
      "996      1      1      1      0      1      1\n",
      "997      0      1      1      1      1      1\n",
      "998      1      1      1      1      1      1\n",
      "\n",
      "[999 rows x 6 columns]\n"
     ]
    },
    {
     "data": {
      "application/vnd.jupyter.widget-view+json": {
       "model_id": "abd2e931d08f4726a924bfefa49f9e38",
       "version_major": 2,
       "version_minor": 0
      },
      "text/plain": [
       "  0%|          | 0/1000000 [00:00<?, ?it/s]"
      ]
     },
     "metadata": {},
     "output_type": "display_data"
    },
    {
     "name": "stdout",
     "output_type": "stream",
     "text": [
      "     L1_t1  L2_t1  L3_t1  L1_t2  L2_t2  L3_t2\n",
      "0        0      0      0      0      0      0\n",
      "1        0      0      0      0      0      0\n",
      "2        0      0      0      0      1      0\n",
      "3        0      1      0      1      0      0\n",
      "4        1      0      0      0      0      1\n",
      "..     ...    ...    ...    ...    ...    ...\n",
      "994      0      0      0      1      0      1\n",
      "995      1      0      1      0      0      0\n",
      "996      0      0      0      0      0      0\n",
      "997      0      0      0      0      0      0\n",
      "998      0      0      0      0      1      0\n",
      "\n",
      "[999 rows x 6 columns]\n"
     ]
    },
    {
     "data": {
      "application/vnd.jupyter.widget-view+json": {
       "model_id": "1794c02a448e4a81b0480a75e708b0e2",
       "version_major": 2,
       "version_minor": 0
      },
      "text/plain": [
       "  0%|          | 0/1000000 [00:00<?, ?it/s]"
      ]
     },
     "metadata": {},
     "output_type": "display_data"
    },
    {
     "name": "stdout",
     "output_type": "stream",
     "text": [
      "     L1_t1  L2_t1  L3_t1  L1_t2  L2_t2  L3_t2\n",
      "0        0      0      0      0      0      0\n",
      "1        0      0      0      0      0      0\n",
      "2        0      0      0      0      0      0\n",
      "3        0      0      0      0      0      0\n",
      "4        0      0      0      0      1      1\n",
      "..     ...    ...    ...    ...    ...    ...\n",
      "994      1      0      1      0      0      0\n",
      "995      0      0      0      0      1      1\n",
      "996      0      1      1      0      0      0\n",
      "997      0      0      0      0      0      0\n",
      "998      0      0      0      0      1      0\n",
      "\n",
      "[999 rows x 6 columns]\n"
     ]
    },
    {
     "data": {
      "application/vnd.jupyter.widget-view+json": {
       "model_id": "ee5cadcbf4c94bc98dcf6794383ae789",
       "version_major": 2,
       "version_minor": 0
      },
      "text/plain": [
       "  0%|          | 0/1000000 [00:00<?, ?it/s]"
      ]
     },
     "metadata": {},
     "output_type": "display_data"
    },
    {
     "name": "stdout",
     "output_type": "stream",
     "text": [
      "     L1_t1  L2_t1  L3_t1  L1_t2  L2_t2  L3_t2\n",
      "0        0      0      0      0      0      0\n",
      "1        0      0      0      0      0      0\n",
      "2        0      0      0      0      0      1\n",
      "3        0      0      1      0      0      0\n",
      "4        0      0      0      0      0      0\n",
      "..     ...    ...    ...    ...    ...    ...\n",
      "994      1      0      0      0      1      0\n",
      "995      0      1      0      1      0      0\n",
      "996      1      0      0      1      1      1\n",
      "997      1      1      1      0      0      1\n",
      "998      0      0      1      0      0      1\n",
      "\n",
      "[999 rows x 6 columns]\n"
     ]
    },
    {
     "data": {
      "application/vnd.jupyter.widget-view+json": {
       "model_id": "b0b7953f5e924d5bb4c9a1c2450fcc72",
       "version_major": 2,
       "version_minor": 0
      },
      "text/plain": [
       "  0%|          | 0/1000000 [00:00<?, ?it/s]"
      ]
     },
     "metadata": {},
     "output_type": "display_data"
    },
    {
     "name": "stdout",
     "output_type": "stream",
     "text": [
      "     L1_t1  L2_t1  L3_t1  L1_t2  L2_t2  L3_t2\n",
      "0        1      0      1      0      0      0\n",
      "1        0      0      0      0      1      0\n",
      "2        0      1      0      1      0      0\n",
      "3        1      0      0      0      0      1\n",
      "4        0      0      1      1      1      1\n",
      "..     ...    ...    ...    ...    ...    ...\n",
      "994      1      1      0      1      1      0\n",
      "995      1      1      0      1      1      1\n",
      "996      1      1      1      1      1      1\n",
      "997      1      1      1      0      1      1\n",
      "998      0      1      1      0      1      1\n",
      "\n",
      "[999 rows x 6 columns]\n"
     ]
    },
    {
     "data": {
      "application/vnd.jupyter.widget-view+json": {
       "model_id": "f9b32718fa514fe6b59d719ffa0c944e",
       "version_major": 2,
       "version_minor": 0
      },
      "text/plain": [
       "  0%|          | 0/1000000 [00:00<?, ?it/s]"
      ]
     },
     "metadata": {},
     "output_type": "display_data"
    },
    {
     "name": "stdout",
     "output_type": "stream",
     "text": [
      "     L1_t1  L2_t1  L3_t1  L1_t2  L2_t2  L3_t2\n",
      "0        0      0      0      0      0      0\n",
      "1        0      0      0      0      0      0\n",
      "2        0      0      0      1      1      1\n",
      "3        1      1      1      0      0      0\n",
      "4        0      0      0      0      1      0\n",
      "..     ...    ...    ...    ...    ...    ...\n",
      "994      0      1      0      0      0      1\n",
      "995      0      0      1      0      0      0\n",
      "996      0      0      0      0      0      0\n",
      "997      0      0      0      0      0      0\n",
      "998      0      0      0      0      0      0\n",
      "\n",
      "[999 rows x 6 columns]\n"
     ]
    },
    {
     "data": {
      "application/vnd.jupyter.widget-view+json": {
       "model_id": "8f5ec7701b384bf39a1f606f99205faa",
       "version_major": 2,
       "version_minor": 0
      },
      "text/plain": [
       "  0%|          | 0/1000000 [00:00<?, ?it/s]"
      ]
     },
     "metadata": {},
     "output_type": "display_data"
    },
    {
     "name": "stdout",
     "output_type": "stream",
     "text": [
      "     L1_t1  L2_t1  L3_t1  L1_t2  L2_t2  L3_t2\n",
      "0        0      0      0      1      0      1\n",
      "1        1      0      1      0      1      0\n",
      "2        0      1      0      0      0      1\n",
      "3        0      0      1      0      0      1\n",
      "4        0      0      1      0      0      0\n",
      "..     ...    ...    ...    ...    ...    ...\n",
      "994      0      0      0      0      0      1\n",
      "995      0      0      1      1      0      0\n",
      "996      1      0      0      1      0      1\n",
      "997      1      0      1      0      1      0\n",
      "998      0      1      0      0      1      0\n",
      "\n",
      "[999 rows x 6 columns]\n"
     ]
    },
    {
     "data": {
      "application/vnd.jupyter.widget-view+json": {
       "model_id": "15528635b49d4cdab1d6726b18725c79",
       "version_major": 2,
       "version_minor": 0
      },
      "text/plain": [
       "  0%|          | 0/1000000 [00:00<?, ?it/s]"
      ]
     },
     "metadata": {},
     "output_type": "display_data"
    },
    {
     "name": "stdout",
     "output_type": "stream",
     "text": [
      "     L1_t1  L2_t1  L3_t1  L1_t2  L2_t2  L3_t2\n",
      "0        1      1      0      1      1      1\n",
      "1        1      1      1      1      0      1\n",
      "2        1      0      1      0      1      0\n",
      "3        0      1      0      1      0      1\n",
      "4        1      0      1      0      1      1\n",
      "..     ...    ...    ...    ...    ...    ...\n",
      "994      0      0      1      0      0      0\n",
      "995      0      0      0      0      0      1\n",
      "996      0      0      1      0      1      1\n",
      "997      0      1      1      1      1      1\n",
      "998      1      1      1      1      0      0\n",
      "\n",
      "[999 rows x 6 columns]\n"
     ]
    },
    {
     "data": {
      "application/vnd.jupyter.widget-view+json": {
       "model_id": "f40dceaba3f645619639a1586b70fa53",
       "version_major": 2,
       "version_minor": 0
      },
      "text/plain": [
       "  0%|          | 0/1000000 [00:00<?, ?it/s]"
      ]
     },
     "metadata": {},
     "output_type": "display_data"
    },
    {
     "name": "stdout",
     "output_type": "stream",
     "text": [
      "     L1_t1  L2_t1  L3_t1  L1_t2  L2_t2  L3_t2\n",
      "0        0      0      0      1      0      0\n",
      "1        1      0      0      0      0      0\n",
      "2        0      0      0      0      0      0\n",
      "3        0      0      0      0      0      0\n",
      "4        0      0      0      0      0      0\n",
      "..     ...    ...    ...    ...    ...    ...\n",
      "994      0      0      0      0      1      0\n",
      "995      0      1      0      0      1      1\n",
      "996      0      1      1      0      0      1\n",
      "997      0      0      1      0      0      1\n",
      "998      0      0      1      0      0      1\n",
      "\n",
      "[999 rows x 6 columns]\n"
     ]
    },
    {
     "data": {
      "application/vnd.jupyter.widget-view+json": {
       "model_id": "11d314e5043d4dac97ee2933eb451853",
       "version_major": 2,
       "version_minor": 0
      },
      "text/plain": [
       "  0%|          | 0/1000000 [00:00<?, ?it/s]"
      ]
     },
     "metadata": {},
     "output_type": "display_data"
    },
    {
     "name": "stdout",
     "output_type": "stream",
     "text": [
      "     L1_t1  L2_t1  L3_t1  L1_t2  L2_t2  L3_t2\n",
      "0        0      0      0      0      1      0\n",
      "1        0      1      0      0      0      0\n",
      "2        0      0      0      0      0      0\n",
      "3        0      0      0      0      0      0\n",
      "4        0      0      0      0      1      0\n",
      "..     ...    ...    ...    ...    ...    ...\n",
      "994      0      0      0      0      0      0\n",
      "995      0      0      0      0      1      1\n",
      "996      0      1      1      0      0      0\n",
      "997      0      0      0      1      0      1\n",
      "998      1      0      1      0      1      1\n",
      "\n",
      "[999 rows x 6 columns]\n"
     ]
    },
    {
     "data": {
      "application/vnd.jupyter.widget-view+json": {
       "model_id": "f28fa1331987484093da8308c3ccb7e9",
       "version_major": 2,
       "version_minor": 0
      },
      "text/plain": [
       "  0%|          | 0/1000000 [00:00<?, ?it/s]"
      ]
     },
     "metadata": {},
     "output_type": "display_data"
    },
    {
     "name": "stdout",
     "output_type": "stream",
     "text": [
      "     L1_t1  L2_t1  L3_t1  L1_t2  L2_t2  L3_t2\n",
      "0        0      0      0      0      0      0\n",
      "1        0      0      0      0      0      0\n",
      "2        0      0      0      1      0      0\n",
      "3        1      0      0      0      1      0\n",
      "4        0      1      0      0      0      0\n",
      "..     ...    ...    ...    ...    ...    ...\n",
      "994      1      1      1      0      0      0\n",
      "995      0      0      0      0      0      1\n",
      "996      0      0      1      1      1      1\n",
      "997      1      1      1      1      0      0\n",
      "998      1      0      0      0      1      1\n",
      "\n",
      "[999 rows x 6 columns]\n"
     ]
    },
    {
     "data": {
      "application/vnd.jupyter.widget-view+json": {
       "model_id": "babc2c6e27f54f4998f7c2e135e540ec",
       "version_major": 2,
       "version_minor": 0
      },
      "text/plain": [
       "  0%|          | 0/1000000 [00:00<?, ?it/s]"
      ]
     },
     "metadata": {},
     "output_type": "display_data"
    },
    {
     "name": "stdout",
     "output_type": "stream",
     "text": [
      "     L1_t1  L2_t1  L3_t1  L1_t2  L2_t2  L3_t2\n",
      "0        0      0      1      0      0      0\n",
      "1        0      0      0      0      0      0\n",
      "2        0      0      0      0      1      0\n",
      "3        0      1      0      0      0      0\n",
      "4        0      0      0      0      1      1\n",
      "..     ...    ...    ...    ...    ...    ...\n",
      "994      0      0      0      0      1      0\n",
      "995      0      1      0      0      1      0\n",
      "996      0      1      0      1      1      0\n",
      "997      1      1      0      0      0      1\n",
      "998      0      0      1      1      1      1\n",
      "\n",
      "[999 rows x 6 columns]\n"
     ]
    },
    {
     "data": {
      "application/vnd.jupyter.widget-view+json": {
       "model_id": "0c653691b6b346f1bad4e74e11b2cf51",
       "version_major": 2,
       "version_minor": 0
      },
      "text/plain": [
       "  0%|          | 0/1000000 [00:00<?, ?it/s]"
      ]
     },
     "metadata": {},
     "output_type": "display_data"
    },
    {
     "name": "stdout",
     "output_type": "stream",
     "text": [
      "     L1_t1  L2_t1  L3_t1  L1_t2  L2_t2  L3_t2\n",
      "0        1      0      0      1      0      0\n",
      "1        1      0      0      1      1      0\n",
      "2        1      1      0      0      0      1\n",
      "3        0      0      1      1      0      0\n",
      "4        1      0      0      0      0      0\n",
      "..     ...    ...    ...    ...    ...    ...\n",
      "994      0      1      1      1      0      1\n",
      "995      1      0      1      1      1      0\n",
      "996      1      1      0      1      1      1\n",
      "997      1      1      1      1      1      1\n",
      "998      1      1      1      0      0      1\n",
      "\n",
      "[999 rows x 6 columns]\n"
     ]
    },
    {
     "data": {
      "application/vnd.jupyter.widget-view+json": {
       "model_id": "126b9a2a81b24674ba9b3e239388b972",
       "version_major": 2,
       "version_minor": 0
      },
      "text/plain": [
       "  0%|          | 0/1000000 [00:00<?, ?it/s]"
      ]
     },
     "metadata": {},
     "output_type": "display_data"
    },
    {
     "name": "stdout",
     "output_type": "stream",
     "text": [
      "     L1_t1  L2_t1  L3_t1  L1_t2  L2_t2  L3_t2\n",
      "0        0      0      0      0      0      0\n",
      "1        0      0      0      0      0      0\n",
      "2        0      0      0      0      1      0\n",
      "3        0      1      0      0      0      0\n",
      "4        0      0      0      0      1      0\n",
      "..     ...    ...    ...    ...    ...    ...\n",
      "994      1      1      1      1      1      0\n",
      "995      1      1      0      1      1      1\n",
      "996      1      1      1      1      1      1\n",
      "997      1      1      1      1      1      1\n",
      "998      1      1      1      1      1      0\n",
      "\n",
      "[999 rows x 6 columns]\n"
     ]
    },
    {
     "data": {
      "application/vnd.jupyter.widget-view+json": {
       "model_id": "823f5fb26aec40e591cd60205ea12126",
       "version_major": 2,
       "version_minor": 0
      },
      "text/plain": [
       "  0%|          | 0/1000000 [00:00<?, ?it/s]"
      ]
     },
     "metadata": {},
     "output_type": "display_data"
    },
    {
     "name": "stdout",
     "output_type": "stream",
     "text": [
      "     L1_t1  L2_t1  L3_t1  L1_t2  L2_t2  L3_t2\n",
      "0        0      0      0      0      0      0\n",
      "1        0      0      0      0      0      0\n",
      "2        0      0      0      1      0      0\n",
      "3        1      0      0      1      0      1\n",
      "4        1      0      1      1      1      1\n",
      "..     ...    ...    ...    ...    ...    ...\n",
      "994      1      1      1      0      1      1\n",
      "995      0      1      1      0      1      1\n",
      "996      0      1      1      0      0      0\n",
      "997      0      0      0      0      1      0\n",
      "998      0      1      0      0      0      1\n",
      "\n",
      "[999 rows x 6 columns]\n"
     ]
    },
    {
     "data": {
      "application/vnd.jupyter.widget-view+json": {
       "model_id": "935b95c8abb347a7817afd5954df2456",
       "version_major": 2,
       "version_minor": 0
      },
      "text/plain": [
       "  0%|          | 0/1000000 [00:00<?, ?it/s]"
      ]
     },
     "metadata": {},
     "output_type": "display_data"
    },
    {
     "name": "stdout",
     "output_type": "stream",
     "text": [
      "     L1_t1  L2_t1  L3_t1  L1_t2  L2_t2  L3_t2\n",
      "0        0      0      0      0      0      0\n",
      "1        0      0      0      0      1      0\n",
      "2        0      1      0      0      1      0\n",
      "3        0      1      0      1      1      0\n",
      "4        1      1      0      1      1      1\n",
      "..     ...    ...    ...    ...    ...    ...\n",
      "994      0      0      0      1      0      1\n",
      "995      1      0      1      1      0      1\n",
      "996      1      0      1      0      0      0\n",
      "997      0      0      0      0      1      0\n",
      "998      0      1      0      1      1      1\n",
      "\n",
      "[999 rows x 6 columns]\n"
     ]
    },
    {
     "data": {
      "application/vnd.jupyter.widget-view+json": {
       "model_id": "4266171e2a4643b194dff371ff40a672",
       "version_major": 2,
       "version_minor": 0
      },
      "text/plain": [
       "  0%|          | 0/1000000 [00:00<?, ?it/s]"
      ]
     },
     "metadata": {},
     "output_type": "display_data"
    },
    {
     "name": "stdout",
     "output_type": "stream",
     "text": [
      "     L1_t1  L2_t1  L3_t1  L1_t2  L2_t2  L3_t2\n",
      "0        0      0      0      0      0      1\n",
      "1        0      0      1      0      0      0\n",
      "2        0      0      0      1      1      0\n",
      "3        1      1      0      0      0      1\n",
      "4        0      0      1      0      0      0\n",
      "..     ...    ...    ...    ...    ...    ...\n",
      "994      0      0      0      0      1      0\n",
      "995      0      1      0      1      1      0\n",
      "996      1      1      0      1      1      0\n",
      "997      1      1      0      1      1      1\n",
      "998      1      1      1      1      1      1\n",
      "\n",
      "[999 rows x 6 columns]\n"
     ]
    },
    {
     "data": {
      "application/vnd.jupyter.widget-view+json": {
       "model_id": "777cee194d86483dbd4181cd9ab8ad7d",
       "version_major": 2,
       "version_minor": 0
      },
      "text/plain": [
       "  0%|          | 0/1000000 [00:00<?, ?it/s]"
      ]
     },
     "metadata": {},
     "output_type": "display_data"
    },
    {
     "name": "stdout",
     "output_type": "stream",
     "text": [
      "     L1_t1  L2_t1  L3_t1  L1_t2  L2_t2  L3_t2\n",
      "0        0      0      0      0      0      0\n",
      "1        0      0      0      0      0      1\n",
      "2        0      0      1      0      1      0\n",
      "3        0      1      0      0      0      0\n",
      "4        0      0      0      0      0      1\n",
      "..     ...    ...    ...    ...    ...    ...\n",
      "994      0      0      1      0      1      0\n",
      "995      0      1      0      0      0      0\n",
      "996      0      0      0      0      0      0\n",
      "997      0      0      0      0      0      1\n",
      "998      0      0      1      0      0      0\n",
      "\n",
      "[999 rows x 6 columns]\n"
     ]
    },
    {
     "data": {
      "application/vnd.jupyter.widget-view+json": {
       "model_id": "e2c0429e896749c0b1936e32298e98c7",
       "version_major": 2,
       "version_minor": 0
      },
      "text/plain": [
       "  0%|          | 0/1000000 [00:00<?, ?it/s]"
      ]
     },
     "metadata": {},
     "output_type": "display_data"
    },
    {
     "name": "stdout",
     "output_type": "stream",
     "text": [
      "     L1_t1  L2_t1  L3_t1  L1_t2  L2_t2  L3_t2\n",
      "0        0      0      0      0      0      0\n",
      "1        0      0      0      0      1      0\n",
      "2        0      1      0      0      0      0\n",
      "3        0      0      0      0      1      0\n",
      "4        0      1      0      0      0      0\n",
      "..     ...    ...    ...    ...    ...    ...\n",
      "994      1      0      0      1      1      1\n",
      "995      1      1      1      1      1      1\n",
      "996      1      1      1      1      0      1\n",
      "997      1      0      1      1      0      0\n",
      "998      1      0      0      1      0      1\n",
      "\n",
      "[999 rows x 6 columns]\n"
     ]
    },
    {
     "data": {
      "application/vnd.jupyter.widget-view+json": {
       "model_id": "4e50be18db1e4772aeeebe7d2ff12ac6",
       "version_major": 2,
       "version_minor": 0
      },
      "text/plain": [
       "  0%|          | 0/1000000 [00:00<?, ?it/s]"
      ]
     },
     "metadata": {},
     "output_type": "display_data"
    },
    {
     "name": "stdout",
     "output_type": "stream",
     "text": [
      "     L1_t1  L2_t1  L3_t1  L1_t2  L2_t2  L3_t2\n",
      "0        0      0      1      1      1      0\n",
      "1        1      1      0      0      0      0\n",
      "2        0      0      0      0      0      1\n",
      "3        0      0      1      0      0      1\n",
      "4        0      0      1      1      1      0\n",
      "..     ...    ...    ...    ...    ...    ...\n",
      "994      0      1      1      1      1      1\n",
      "995      1      1      1      1      1      1\n",
      "996      1      1      1      1      0      1\n",
      "997      1      0      1      0      0      1\n",
      "998      0      0      1      1      1      1\n",
      "\n",
      "[999 rows x 6 columns]\n"
     ]
    },
    {
     "data": {
      "application/vnd.jupyter.widget-view+json": {
       "model_id": "ed2ba79ceb15471988e6d466eee9bfb7",
       "version_major": 2,
       "version_minor": 0
      },
      "text/plain": [
       "  0%|          | 0/1000000 [00:00<?, ?it/s]"
      ]
     },
     "metadata": {},
     "output_type": "display_data"
    },
    {
     "name": "stdout",
     "output_type": "stream",
     "text": [
      "     L1_t1  L2_t1  L3_t1  L1_t2  L2_t2  L3_t2\n",
      "0        0      1      0      1      0      0\n",
      "1        1      0      0      0      1      0\n",
      "2        0      1      0      1      0      0\n",
      "3        1      0      0      0      0      0\n",
      "4        0      0      0      0      0      0\n",
      "..     ...    ...    ...    ...    ...    ...\n",
      "994      1      0      1      0      1      1\n",
      "995      0      1      1      1      1      0\n",
      "996      1      1      0      1      0      1\n",
      "997      1      0      1      0      1      1\n",
      "998      0      1      1      0      1      1\n",
      "\n",
      "[999 rows x 6 columns]\n"
     ]
    },
    {
     "data": {
      "application/vnd.jupyter.widget-view+json": {
       "model_id": "b81fed4fe4ce4448acb5bc5f9b73a690",
       "version_major": 2,
       "version_minor": 0
      },
      "text/plain": [
       "  0%|          | 0/1000000 [00:00<?, ?it/s]"
      ]
     },
     "metadata": {},
     "output_type": "display_data"
    },
    {
     "name": "stdout",
     "output_type": "stream",
     "text": [
      "     L1_t1  L2_t1  L3_t1  L1_t2  L2_t2  L3_t2\n",
      "0        0      0      0      0      1      1\n",
      "1        0      1      1      0      0      0\n",
      "2        0      0      0      0      1      1\n",
      "3        0      1      1      1      1      0\n",
      "4        1      1      0      1      0      1\n",
      "..     ...    ...    ...    ...    ...    ...\n",
      "994      1      0      0      0      1      0\n",
      "995      0      1      0      1      1      0\n",
      "996      1      1      0      1      0      1\n",
      "997      1      0      1      1      1      1\n",
      "998      1      1      1      0      1      1\n",
      "\n",
      "[999 rows x 6 columns]\n"
     ]
    },
    {
     "data": {
      "application/vnd.jupyter.widget-view+json": {
       "model_id": "f1dd2f204f02411393c2e97d4aa7fd19",
       "version_major": 2,
       "version_minor": 0
      },
      "text/plain": [
       "  0%|          | 0/1000000 [00:00<?, ?it/s]"
      ]
     },
     "metadata": {},
     "output_type": "display_data"
    },
    {
     "name": "stdout",
     "output_type": "stream",
     "text": [
      "     L1_t1  L2_t1  L3_t1  L1_t2  L2_t2  L3_t2\n",
      "0        0      1      1      1      1      0\n",
      "1        1      1      0      0      1      0\n",
      "2        0      1      0      1      1      0\n",
      "3        1      1      0      1      1      0\n",
      "4        1      1      0      1      0      0\n",
      "..     ...    ...    ...    ...    ...    ...\n",
      "994      1      0      1      0      1      0\n",
      "995      0      1      0      0      0      0\n",
      "996      0      0      0      0      0      0\n",
      "997      0      0      0      1      1      0\n",
      "998      1      1      0      0      1      0\n",
      "\n",
      "[999 rows x 6 columns]\n"
     ]
    },
    {
     "data": {
      "application/vnd.jupyter.widget-view+json": {
       "model_id": "309a7db73cde4291a4baabb911c250e0",
       "version_major": 2,
       "version_minor": 0
      },
      "text/plain": [
       "  0%|          | 0/1000000 [00:00<?, ?it/s]"
      ]
     },
     "metadata": {},
     "output_type": "display_data"
    },
    {
     "name": "stdout",
     "output_type": "stream",
     "text": [
      "     L1_t1  L2_t1  L3_t1  L1_t2  L2_t2  L3_t2\n",
      "0        0      1      0      0      0      0\n",
      "1        0      0      0      0      0      0\n",
      "2        0      0      0      1      0      0\n",
      "3        1      0      0      0      0      1\n",
      "4        0      0      1      0      0      1\n",
      "..     ...    ...    ...    ...    ...    ...\n",
      "994      1      1      0      1      1      1\n",
      "995      1      1      1      0      1      1\n",
      "996      0      1      1      1      0      1\n",
      "997      1      0      1      1      1      0\n",
      "998      1      1      0      1      1      0\n",
      "\n",
      "[999 rows x 6 columns]\n"
     ]
    },
    {
     "data": {
      "application/vnd.jupyter.widget-view+json": {
       "model_id": "5ceb466d50ce423dacdfd6211d37b2c9",
       "version_major": 2,
       "version_minor": 0
      },
      "text/plain": [
       "  0%|          | 0/1000000 [00:00<?, ?it/s]"
      ]
     },
     "metadata": {},
     "output_type": "display_data"
    },
    {
     "name": "stdout",
     "output_type": "stream",
     "text": [
      "     L1_t1  L2_t1  L3_t1  L1_t2  L2_t2  L3_t2\n",
      "0        0      0      0      0      0      0\n",
      "1        0      0      0      0      0      0\n",
      "2        0      0      0      0      1      1\n",
      "3        0      1      1      0      0      0\n",
      "4        0      0      0      0      0      0\n",
      "..     ...    ...    ...    ...    ...    ...\n",
      "994      1      0      1      1      0      0\n",
      "995      1      0      0      1      1      1\n",
      "996      1      1      1      1      1      1\n",
      "997      1      1      1      1      1      1\n",
      "998      1      1      1      0      0      0\n",
      "\n",
      "[999 rows x 6 columns]\n"
     ]
    },
    {
     "data": {
      "application/vnd.jupyter.widget-view+json": {
       "model_id": "4a7e06a01a69497dbc4dfd623e53a65d",
       "version_major": 2,
       "version_minor": 0
      },
      "text/plain": [
       "  0%|          | 0/1000000 [00:00<?, ?it/s]"
      ]
     },
     "metadata": {},
     "output_type": "display_data"
    },
    {
     "name": "stdout",
     "output_type": "stream",
     "text": [
      "     L1_t1  L2_t1  L3_t1  L1_t2  L2_t2  L3_t2\n",
      "0        0      1      0      1      1      0\n",
      "1        1      1      0      0      1      1\n",
      "2        0      1      1      1      0      0\n",
      "3        1      0      0      0      0      0\n",
      "4        0      0      0      0      0      1\n",
      "..     ...    ...    ...    ...    ...    ...\n",
      "994      1      1      1      1      0      1\n",
      "995      1      0      1      0      1      1\n",
      "996      0      1      1      0      0      0\n",
      "997      0      0      0      0      0      1\n",
      "998      0      0      1      1      0      1\n",
      "\n",
      "[999 rows x 6 columns]\n"
     ]
    },
    {
     "data": {
      "application/vnd.jupyter.widget-view+json": {
       "model_id": "398eafebb5c045b8a17e87de84099f97",
       "version_major": 2,
       "version_minor": 0
      },
      "text/plain": [
       "  0%|          | 0/1000000 [00:00<?, ?it/s]"
      ]
     },
     "metadata": {},
     "output_type": "display_data"
    },
    {
     "name": "stdout",
     "output_type": "stream",
     "text": [
      "     L1_t1  L2_t1  L3_t1  L1_t2  L2_t2  L3_t2\n",
      "0        1      0      0      0      1      0\n",
      "1        0      1      0      0      0      0\n",
      "2        0      0      0      1      0      0\n",
      "3        1      0      0      0      1      0\n",
      "4        0      1      0      0      0      0\n",
      "..     ...    ...    ...    ...    ...    ...\n",
      "994      0      1      0      0      0      1\n",
      "995      0      0      1      0      0      1\n",
      "996      0      0      1      0      0      1\n",
      "997      0      0      1      1      1      0\n",
      "998      1      1      0      1      0      1\n",
      "\n",
      "[999 rows x 6 columns]\n"
     ]
    },
    {
     "data": {
      "application/vnd.jupyter.widget-view+json": {
       "model_id": "6df0d774bf3749c19899f3afdc638683",
       "version_major": 2,
       "version_minor": 0
      },
      "text/plain": [
       "  0%|          | 0/1000000 [00:00<?, ?it/s]"
      ]
     },
     "metadata": {},
     "output_type": "display_data"
    },
    {
     "name": "stdout",
     "output_type": "stream",
     "text": [
      "     L1_t1  L2_t1  L3_t1  L1_t2  L2_t2  L3_t2\n",
      "0        0      0      0      0      0      0\n",
      "1        0      0      0      1      1      0\n",
      "2        1      1      0      0      0      0\n",
      "3        0      0      0      0      0      0\n",
      "4        0      0      0      0      0      0\n",
      "..     ...    ...    ...    ...    ...    ...\n",
      "994      0      1      0      1      0      1\n",
      "995      1      0      1      0      0      0\n",
      "996      0      0      0      1      1      1\n",
      "997      1      1      1      1      1      1\n",
      "998      1      1      1      0      1      0\n",
      "\n",
      "[999 rows x 6 columns]\n"
     ]
    },
    {
     "data": {
      "application/vnd.jupyter.widget-view+json": {
       "model_id": "9d3c895e62414ebaa4b80ab132e0439e",
       "version_major": 2,
       "version_minor": 0
      },
      "text/plain": [
       "  0%|          | 0/1000000 [00:00<?, ?it/s]"
      ]
     },
     "metadata": {},
     "output_type": "display_data"
    },
    {
     "name": "stdout",
     "output_type": "stream",
     "text": [
      "     L1_t1  L2_t1  L3_t1  L1_t2  L2_t2  L3_t2\n",
      "0        1      0      0      0      0      0\n",
      "1        0      0      0      0      0      0\n",
      "2        0      0      0      0      1      0\n",
      "3        0      1      0      1      1      0\n",
      "4        1      1      0      0      0      1\n",
      "..     ...    ...    ...    ...    ...    ...\n",
      "994      0      0      0      0      0      0\n",
      "995      0      0      0      0      0      1\n",
      "996      0      0      1      0      0      1\n",
      "997      0      0      1      0      1      0\n",
      "998      0      1      0      0      1      0\n",
      "\n",
      "[999 rows x 6 columns]\n"
     ]
    },
    {
     "data": {
      "application/vnd.jupyter.widget-view+json": {
       "model_id": "1c7e9d49bf344ceaa2e185662a11dc3f",
       "version_major": 2,
       "version_minor": 0
      },
      "text/plain": [
       "  0%|          | 0/1000000 [00:00<?, ?it/s]"
      ]
     },
     "metadata": {},
     "output_type": "display_data"
    },
    {
     "name": "stdout",
     "output_type": "stream",
     "text": [
      "     L1_t1  L2_t1  L3_t1  L1_t2  L2_t2  L3_t2\n",
      "0        0      1      0      0      0      0\n",
      "1        0      0      0      1      0      1\n",
      "2        1      0      1      0      0      1\n",
      "3        0      0      1      1      1      0\n",
      "4        1      1      0      0      0      1\n",
      "..     ...    ...    ...    ...    ...    ...\n",
      "994      0      1      1      1      1      0\n",
      "995      1      1      0      1      1      1\n",
      "996      1      1      1      0      1      0\n",
      "997      0      1      0      0      1      0\n",
      "998      0      1      0      0      0      0\n",
      "\n",
      "[999 rows x 6 columns]\n"
     ]
    },
    {
     "data": {
      "application/vnd.jupyter.widget-view+json": {
       "model_id": "6508c5cc47a143149a6da4161c19dce9",
       "version_major": 2,
       "version_minor": 0
      },
      "text/plain": [
       "  0%|          | 0/1000000 [00:00<?, ?it/s]"
      ]
     },
     "metadata": {},
     "output_type": "display_data"
    },
    {
     "name": "stdout",
     "output_type": "stream",
     "text": [
      "     L1_t1  L2_t1  L3_t1  L1_t2  L2_t2  L3_t2\n",
      "0        0      1      0      1      0      1\n",
      "1        1      0      1      0      1      1\n",
      "2        0      1      1      1      0      1\n",
      "3        1      0      1      1      0      1\n",
      "4        1      0      1      1      0      1\n",
      "..     ...    ...    ...    ...    ...    ...\n",
      "994      0      0      1      0      1      1\n",
      "995      0      1      1      0      0      0\n",
      "996      0      0      0      0      0      0\n",
      "997      0      0      0      1      1      0\n",
      "998      1      1      0      1      1      1\n",
      "\n",
      "[999 rows x 6 columns]\n"
     ]
    },
    {
     "data": {
      "application/vnd.jupyter.widget-view+json": {
       "model_id": "edc03cfaa5744ce6a0b6545f660c4280",
       "version_major": 2,
       "version_minor": 0
      },
      "text/plain": [
       "  0%|          | 0/1000000 [00:00<?, ?it/s]"
      ]
     },
     "metadata": {},
     "output_type": "display_data"
    },
    {
     "name": "stdout",
     "output_type": "stream",
     "text": [
      "     L1_t1  L2_t1  L3_t1  L1_t2  L2_t2  L3_t2\n",
      "0        1      0      0      1      0      1\n",
      "1        1      0      1      0      0      0\n",
      "2        0      0      0      0      0      1\n",
      "3        0      0      1      0      0      0\n",
      "4        0      0      0      0      1      1\n",
      "..     ...    ...    ...    ...    ...    ...\n",
      "994      0      1      1      1      1      0\n",
      "995      1      1      0      0      0      1\n",
      "996      0      0      1      0      1      0\n",
      "997      0      1      0      1      0      0\n",
      "998      1      0      0      1      0      1\n",
      "\n",
      "[999 rows x 6 columns]\n"
     ]
    },
    {
     "data": {
      "application/vnd.jupyter.widget-view+json": {
       "model_id": "de337358c93746b198f348d997850204",
       "version_major": 2,
       "version_minor": 0
      },
      "text/plain": [
       "  0%|          | 0/1000000 [00:00<?, ?it/s]"
      ]
     },
     "metadata": {},
     "output_type": "display_data"
    },
    {
     "name": "stdout",
     "output_type": "stream",
     "text": [
      "     L1_t1  L2_t1  L3_t1  L1_t2  L2_t2  L3_t2\n",
      "0        0      0      0      1      1      0\n",
      "1        1      1      0      0      0      0\n",
      "2        0      0      0      0      0      0\n",
      "3        0      0      0      0      0      1\n",
      "4        0      0      1      0      0      1\n",
      "..     ...    ...    ...    ...    ...    ...\n",
      "994      1      1      1      1      1      1\n",
      "995      1      1      1      0      1      0\n",
      "996      0      1      0      1      1      0\n",
      "997      1      1      0      0      1      1\n",
      "998      0      1      1      0      1      0\n",
      "\n",
      "[999 rows x 6 columns]\n"
     ]
    },
    {
     "data": {
      "application/vnd.jupyter.widget-view+json": {
       "model_id": "000bbd37c530493389ecfe5747246e7e",
       "version_major": 2,
       "version_minor": 0
      },
      "text/plain": [
       "  0%|          | 0/1000000 [00:00<?, ?it/s]"
      ]
     },
     "metadata": {},
     "output_type": "display_data"
    },
    {
     "name": "stdout",
     "output_type": "stream",
     "text": [
      "     L1_t1  L2_t1  L3_t1  L1_t2  L2_t2  L3_t2\n",
      "0        0      0      0      0      0      0\n",
      "1        0      0      0      0      0      0\n",
      "2        0      0      0      0      0      1\n",
      "3        0      0      1      0      1      1\n",
      "4        0      1      1      0      0      0\n",
      "..     ...    ...    ...    ...    ...    ...\n",
      "994      0      0      1      1      1      1\n",
      "995      1      1      1      0      1      0\n",
      "996      0      1      0      1      1      0\n",
      "997      1      1      0      0      1      0\n",
      "998      0      1      0      0      0      1\n",
      "\n",
      "[999 rows x 6 columns]\n"
     ]
    },
    {
     "data": {
      "application/vnd.jupyter.widget-view+json": {
       "model_id": "2a8f26a1607a4bf195dc4644c56391a5",
       "version_major": 2,
       "version_minor": 0
      },
      "text/plain": [
       "  0%|          | 0/1000000 [00:00<?, ?it/s]"
      ]
     },
     "metadata": {},
     "output_type": "display_data"
    },
    {
     "name": "stdout",
     "output_type": "stream",
     "text": [
      "     L1_t1  L2_t1  L3_t1  L1_t2  L2_t2  L3_t2\n",
      "0        0      1      0      1      1      0\n",
      "1        1      1      0      0      1      0\n",
      "2        0      1      0      0      1      1\n",
      "3        0      1      1      1      0      0\n",
      "4        1      0      0      0      0      1\n",
      "..     ...    ...    ...    ...    ...    ...\n",
      "994      1      1      1      1      1      0\n",
      "995      1      1      0      1      1      1\n",
      "996      1      1      1      0      1      1\n",
      "997      0      1      1      0      0      0\n",
      "998      0      0      0      0      1      1\n",
      "\n",
      "[999 rows x 6 columns]\n"
     ]
    },
    {
     "data": {
      "application/vnd.jupyter.widget-view+json": {
       "model_id": "cc4b6e7d0012418b85d194dae64a2aa7",
       "version_major": 2,
       "version_minor": 0
      },
      "text/plain": [
       "  0%|          | 0/1000000 [00:00<?, ?it/s]"
      ]
     },
     "metadata": {},
     "output_type": "display_data"
    },
    {
     "name": "stdout",
     "output_type": "stream",
     "text": [
      "     L1_t1  L2_t1  L3_t1  L1_t2  L2_t2  L3_t2\n",
      "0        0      0      0      1      0      0\n",
      "1        1      0      0      1      0      0\n",
      "2        1      0      0      0      0      1\n",
      "3        0      0      1      0      0      0\n",
      "4        0      0      0      0      0      1\n",
      "..     ...    ...    ...    ...    ...    ...\n",
      "994      0      0      0      1      0      0\n",
      "995      1      0      0      0      0      0\n",
      "996      0      0      0      1      0      0\n",
      "997      1      0      0      1      0      0\n",
      "998      1      0      0      0      1      0\n",
      "\n",
      "[999 rows x 6 columns]\n"
     ]
    },
    {
     "data": {
      "application/vnd.jupyter.widget-view+json": {
       "model_id": "4db4959ed4ea4d5c93d9ab8e76e34d28",
       "version_major": 2,
       "version_minor": 0
      },
      "text/plain": [
       "  0%|          | 0/1000000 [00:00<?, ?it/s]"
      ]
     },
     "metadata": {},
     "output_type": "display_data"
    },
    {
     "name": "stdout",
     "output_type": "stream",
     "text": [
      "     L1_t1  L2_t1  L3_t1  L1_t2  L2_t2  L3_t2\n",
      "0        0      0      0      1      1      0\n",
      "1        1      1      0      1      1      1\n",
      "2        1      1      1      0      0      1\n",
      "3        0      0      1      1      0      0\n",
      "4        1      0      0      1      1      1\n",
      "..     ...    ...    ...    ...    ...    ...\n",
      "994      0      1      1      0      0      0\n",
      "995      0      0      0      0      1      0\n",
      "996      0      1      0      0      0      0\n",
      "997      0      0      0      0      1      0\n",
      "998      0      1      0      1      0      0\n",
      "\n",
      "[999 rows x 6 columns]\n"
     ]
    },
    {
     "data": {
      "application/vnd.jupyter.widget-view+json": {
       "model_id": "1b1ca6908b814bcfa79dd0a999b0ceb8",
       "version_major": 2,
       "version_minor": 0
      },
      "text/plain": [
       "  0%|          | 0/1000000 [00:00<?, ?it/s]"
      ]
     },
     "metadata": {},
     "output_type": "display_data"
    },
    {
     "name": "stdout",
     "output_type": "stream",
     "text": [
      "     L1_t1  L2_t1  L3_t1  L1_t2  L2_t2  L3_t2\n",
      "0        0      0      1      0      0      0\n",
      "1        0      0      0      0      0      0\n",
      "2        0      0      0      0      0      0\n",
      "3        0      0      0      0      0      0\n",
      "4        0      0      0      0      0      0\n",
      "..     ...    ...    ...    ...    ...    ...\n",
      "994      1      1      1      1      1      1\n",
      "995      1      1      1      0      1      0\n",
      "996      0      1      0      0      1      1\n",
      "997      0      1      1      1      1      1\n",
      "998      1      1      1      1      1      0\n",
      "\n",
      "[999 rows x 6 columns]\n"
     ]
    },
    {
     "data": {
      "application/vnd.jupyter.widget-view+json": {
       "model_id": "5a52356f6fbc4994869748836d34567f",
       "version_major": 2,
       "version_minor": 0
      },
      "text/plain": [
       "  0%|          | 0/1000000 [00:00<?, ?it/s]"
      ]
     },
     "metadata": {},
     "output_type": "display_data"
    },
    {
     "name": "stdout",
     "output_type": "stream",
     "text": [
      "     L1_t1  L2_t1  L3_t1  L1_t2  L2_t2  L3_t2\n",
      "0        1      0      0      0      0      0\n",
      "1        0      0      0      0      0      0\n",
      "2        0      0      0      0      0      0\n",
      "3        0      0      0      1      0      1\n",
      "4        1      0      1      1      1      0\n",
      "..     ...    ...    ...    ...    ...    ...\n",
      "994      1      1      1      1      1      1\n",
      "995      1      1      1      1      0      1\n",
      "996      1      0      1      0      1      1\n",
      "997      0      1      1      1      1      1\n",
      "998      1      1      1      0      1      0\n",
      "\n",
      "[999 rows x 6 columns]\n"
     ]
    },
    {
     "data": {
      "application/vnd.jupyter.widget-view+json": {
       "model_id": "016570a2da9f45dbb1a8cdf494711c40",
       "version_major": 2,
       "version_minor": 0
      },
      "text/plain": [
       "  0%|          | 0/1000000 [00:00<?, ?it/s]"
      ]
     },
     "metadata": {},
     "output_type": "display_data"
    },
    {
     "name": "stdout",
     "output_type": "stream",
     "text": [
      "     L1_t1  L2_t1  L3_t1  L1_t2  L2_t2  L3_t2\n",
      "0        0      1      0      0      1      0\n",
      "1        0      1      0      1      1      1\n",
      "2        1      1      1      0      0      0\n",
      "3        0      0      0      0      1      1\n",
      "4        0      1      1      0      1      0\n",
      "..     ...    ...    ...    ...    ...    ...\n",
      "994      0      1      0      1      1      0\n",
      "995      1      1      0      1      1      0\n",
      "996      1      1      0      1      1      1\n",
      "997      1      1      1      1      1      1\n",
      "998      1      1      1      0      0      1\n",
      "\n",
      "[999 rows x 6 columns]\n"
     ]
    },
    {
     "data": {
      "application/vnd.jupyter.widget-view+json": {
       "model_id": "b7b98e53338e43f2b7d8bd2d2d5f7352",
       "version_major": 2,
       "version_minor": 0
      },
      "text/plain": [
       "  0%|          | 0/1000000 [00:00<?, ?it/s]"
      ]
     },
     "metadata": {},
     "output_type": "display_data"
    },
    {
     "name": "stdout",
     "output_type": "stream",
     "text": [
      "     L1_t1  L2_t1  L3_t1  L1_t2  L2_t2  L3_t2\n",
      "0        0      1      0      0      0      0\n",
      "1        0      0      0      1      0      1\n",
      "2        1      0      1      0      0      0\n",
      "3        0      0      0      1      1      1\n",
      "4        1      1      1      1      1      1\n",
      "..     ...    ...    ...    ...    ...    ...\n",
      "994      1      0      0      0      0      1\n",
      "995      0      0      1      0      1      0\n",
      "996      0      1      0      0      0      1\n",
      "997      0      0      1      0      1      1\n",
      "998      0      1      1      0      0      1\n",
      "\n",
      "[999 rows x 6 columns]\n"
     ]
    }
   ],
   "source": [
    "nTrials = 100\n",
    "nFromNodes = 3\n",
    "nToNodes = 3\n",
    "lag = 1\n",
    "binWidth = 2\n",
    "\n",
    "DAGs = np.zeros((nTrials, nFromNodes, nToNodes))\n",
    "for trial in range(100):\n",
    "    DAGs[trial,:,:] = run_dbn_single_trial(trial, combine = True, lag = lag, binWidth = binWidth)"
   ]
  },
  {
   "cell_type": "code",
   "execution_count": 33,
   "id": "03642afd",
   "metadata": {},
   "outputs": [
    {
     "data": {
      "text/plain": [
       "array([[[1., 1., 1.],\n",
       "        [1., 1., 0.],\n",
       "        [1., 0., 1.]],\n",
       "\n",
       "       [[1., 1., 1.],\n",
       "        [1., 1., 0.],\n",
       "        [1., 0., 1.]],\n",
       "\n",
       "       [[1., 1., 0.],\n",
       "        [0., 1., 0.],\n",
       "        [1., 0., 1.]],\n",
       "\n",
       "       [[1., 1., 0.],\n",
       "        [1., 1., 0.],\n",
       "        [1., 0., 1.]],\n",
       "\n",
       "       [[1., 1., 0.],\n",
       "        [0., 1., 0.],\n",
       "        [1., 0., 1.]],\n",
       "\n",
       "       [[1., 1., 0.],\n",
       "        [1., 1., 0.],\n",
       "        [0., 1., 1.]],\n",
       "\n",
       "       [[1., 1., 0.],\n",
       "        [1., 1., 0.],\n",
       "        [1., 0., 1.]],\n",
       "\n",
       "       [[1., 1., 0.],\n",
       "        [1., 1., 0.],\n",
       "        [1., 0., 1.]],\n",
       "\n",
       "       [[1., 1., 1.],\n",
       "        [0., 1., 1.],\n",
       "        [1., 0., 1.]],\n",
       "\n",
       "       [[1., 1., 0.],\n",
       "        [1., 1., 0.],\n",
       "        [1., 0., 1.]],\n",
       "\n",
       "       [[1., 1., 0.],\n",
       "        [1., 1., 0.],\n",
       "        [1., 0., 1.]],\n",
       "\n",
       "       [[1., 1., 0.],\n",
       "        [0., 1., 1.],\n",
       "        [1., 1., 1.]],\n",
       "\n",
       "       [[1., 1., 0.],\n",
       "        [1., 1., 0.],\n",
       "        [1., 0., 1.]],\n",
       "\n",
       "       [[1., 1., 0.],\n",
       "        [0., 1., 1.],\n",
       "        [1., 1., 1.]],\n",
       "\n",
       "       [[1., 1., 0.],\n",
       "        [0., 1., 0.],\n",
       "        [1., 0., 1.]],\n",
       "\n",
       "       [[1., 1., 0.],\n",
       "        [1., 1., 0.],\n",
       "        [1., 0., 1.]],\n",
       "\n",
       "       [[1., 1., 0.],\n",
       "        [1., 1., 0.],\n",
       "        [1., 1., 1.]],\n",
       "\n",
       "       [[1., 1., 1.],\n",
       "        [1., 1., 0.],\n",
       "        [1., 0., 1.]],\n",
       "\n",
       "       [[1., 1., 0.],\n",
       "        [1., 1., 1.],\n",
       "        [1., 0., 1.]],\n",
       "\n",
       "       [[1., 1., 0.],\n",
       "        [1., 1., 0.],\n",
       "        [1., 1., 1.]],\n",
       "\n",
       "       [[1., 1., 0.],\n",
       "        [1., 1., 0.],\n",
       "        [1., 0., 1.]],\n",
       "\n",
       "       [[1., 1., 0.],\n",
       "        [1., 1., 0.],\n",
       "        [1., 0., 1.]],\n",
       "\n",
       "       [[1., 1., 0.],\n",
       "        [1., 1., 0.],\n",
       "        [1., 0., 1.]],\n",
       "\n",
       "       [[1., 1., 1.],\n",
       "        [0., 1., 1.],\n",
       "        [1., 0., 1.]],\n",
       "\n",
       "       [[1., 1., 0.],\n",
       "        [1., 1., 0.],\n",
       "        [1., 0., 1.]],\n",
       "\n",
       "       [[1., 1., 1.],\n",
       "        [0., 1., 0.],\n",
       "        [1., 0., 1.]],\n",
       "\n",
       "       [[1., 1., 1.],\n",
       "        [1., 1., 0.],\n",
       "        [1., 0., 1.]],\n",
       "\n",
       "       [[1., 1., 1.],\n",
       "        [0., 1., 1.],\n",
       "        [1., 0., 1.]],\n",
       "\n",
       "       [[1., 1., 1.],\n",
       "        [1., 1., 0.],\n",
       "        [1., 1., 1.]],\n",
       "\n",
       "       [[1., 1., 1.],\n",
       "        [0., 1., 1.],\n",
       "        [1., 0., 1.]],\n",
       "\n",
       "       [[1., 1., 0.],\n",
       "        [0., 1., 1.],\n",
       "        [1., 1., 1.]],\n",
       "\n",
       "       [[1., 1., 1.],\n",
       "        [1., 1., 1.],\n",
       "        [1., 0., 1.]],\n",
       "\n",
       "       [[1., 1., 0.],\n",
       "        [1., 1., 0.],\n",
       "        [1., 0., 1.]],\n",
       "\n",
       "       [[1., 1., 0.],\n",
       "        [1., 1., 0.],\n",
       "        [1., 0., 1.]],\n",
       "\n",
       "       [[1., 1., 1.],\n",
       "        [1., 1., 0.],\n",
       "        [1., 0., 1.]],\n",
       "\n",
       "       [[1., 1., 0.],\n",
       "        [1., 1., 0.],\n",
       "        [1., 0., 1.]],\n",
       "\n",
       "       [[1., 1., 1.],\n",
       "        [1., 1., 0.],\n",
       "        [1., 1., 1.]],\n",
       "\n",
       "       [[1., 1., 0.],\n",
       "        [1., 1., 0.],\n",
       "        [1., 0., 1.]],\n",
       "\n",
       "       [[1., 1., 0.],\n",
       "        [0., 1., 1.],\n",
       "        [1., 0., 1.]],\n",
       "\n",
       "       [[1., 1., 1.],\n",
       "        [1., 1., 0.],\n",
       "        [1., 0., 1.]],\n",
       "\n",
       "       [[1., 1., 0.],\n",
       "        [0., 1., 0.],\n",
       "        [1., 0., 1.]],\n",
       "\n",
       "       [[1., 1., 0.],\n",
       "        [1., 1., 0.],\n",
       "        [1., 0., 1.]],\n",
       "\n",
       "       [[1., 1., 1.],\n",
       "        [1., 1., 0.],\n",
       "        [1., 0., 1.]],\n",
       "\n",
       "       [[1., 1., 0.],\n",
       "        [1., 1., 0.],\n",
       "        [1., 0., 1.]],\n",
       "\n",
       "       [[1., 1., 1.],\n",
       "        [1., 1., 0.],\n",
       "        [1., 0., 1.]],\n",
       "\n",
       "       [[1., 1., 1.],\n",
       "        [1., 1., 0.],\n",
       "        [1., 0., 1.]],\n",
       "\n",
       "       [[1., 1., 0.],\n",
       "        [1., 1., 0.],\n",
       "        [1., 0., 1.]],\n",
       "\n",
       "       [[1., 1., 1.],\n",
       "        [1., 1., 0.],\n",
       "        [1., 0., 1.]],\n",
       "\n",
       "       [[1., 1., 1.],\n",
       "        [1., 1., 1.],\n",
       "        [1., 1., 1.]],\n",
       "\n",
       "       [[1., 1., 0.],\n",
       "        [1., 1., 0.],\n",
       "        [1., 0., 1.]],\n",
       "\n",
       "       [[1., 1., 0.],\n",
       "        [1., 1., 0.],\n",
       "        [1., 0., 1.]],\n",
       "\n",
       "       [[1., 1., 0.],\n",
       "        [1., 1., 0.],\n",
       "        [1., 1., 1.]],\n",
       "\n",
       "       [[1., 1., 0.],\n",
       "        [1., 1., 0.],\n",
       "        [1., 0., 1.]],\n",
       "\n",
       "       [[1., 1., 1.],\n",
       "        [1., 1., 0.],\n",
       "        [1., 1., 1.]],\n",
       "\n",
       "       [[1., 1., 1.],\n",
       "        [1., 1., 0.],\n",
       "        [1., 0., 1.]],\n",
       "\n",
       "       [[1., 1., 0.],\n",
       "        [1., 1., 0.],\n",
       "        [1., 0., 1.]],\n",
       "\n",
       "       [[1., 1., 0.],\n",
       "        [1., 1., 0.],\n",
       "        [1., 0., 1.]],\n",
       "\n",
       "       [[1., 1., 0.],\n",
       "        [1., 1., 0.],\n",
       "        [1., 0., 1.]],\n",
       "\n",
       "       [[1., 1., 0.],\n",
       "        [0., 1., 0.],\n",
       "        [1., 0., 1.]],\n",
       "\n",
       "       [[1., 1., 0.],\n",
       "        [1., 1., 0.],\n",
       "        [1., 0., 1.]],\n",
       "\n",
       "       [[1., 1., 0.],\n",
       "        [1., 1., 1.],\n",
       "        [1., 0., 1.]],\n",
       "\n",
       "       [[1., 1., 0.],\n",
       "        [1., 1., 0.],\n",
       "        [1., 0., 1.]],\n",
       "\n",
       "       [[1., 1., 0.],\n",
       "        [1., 1., 0.],\n",
       "        [1., 0., 1.]],\n",
       "\n",
       "       [[1., 1., 0.],\n",
       "        [1., 0., 1.],\n",
       "        [1., 0., 1.]],\n",
       "\n",
       "       [[1., 1., 1.],\n",
       "        [1., 1., 0.],\n",
       "        [1., 1., 1.]],\n",
       "\n",
       "       [[1., 1., 0.],\n",
       "        [1., 1., 1.],\n",
       "        [1., 0., 1.]],\n",
       "\n",
       "       [[1., 1., 0.],\n",
       "        [0., 1., 1.],\n",
       "        [1., 0., 1.]],\n",
       "\n",
       "       [[1., 1., 0.],\n",
       "        [0., 1., 0.],\n",
       "        [1., 0., 1.]],\n",
       "\n",
       "       [[1., 1., 0.],\n",
       "        [0., 1., 0.],\n",
       "        [1., 0., 1.]],\n",
       "\n",
       "       [[1., 1., 0.],\n",
       "        [1., 1., 0.],\n",
       "        [1., 0., 1.]],\n",
       "\n",
       "       [[1., 1., 1.],\n",
       "        [1., 1., 0.],\n",
       "        [1., 0., 1.]],\n",
       "\n",
       "       [[1., 1., 1.],\n",
       "        [1., 1., 0.],\n",
       "        [1., 1., 1.]],\n",
       "\n",
       "       [[1., 1., 0.],\n",
       "        [1., 1., 0.],\n",
       "        [1., 0., 1.]],\n",
       "\n",
       "       [[1., 0., 1.],\n",
       "        [1., 1., 0.],\n",
       "        [1., 1., 1.]],\n",
       "\n",
       "       [[1., 1., 0.],\n",
       "        [0., 1., 1.],\n",
       "        [1., 0., 1.]],\n",
       "\n",
       "       [[1., 1., 0.],\n",
       "        [1., 1., 0.],\n",
       "        [1., 0., 1.]],\n",
       "\n",
       "       [[1., 1., 1.],\n",
       "        [1., 1., 0.],\n",
       "        [1., 0., 1.]],\n",
       "\n",
       "       [[1., 1., 1.],\n",
       "        [1., 1., 0.],\n",
       "        [1., 0., 1.]],\n",
       "\n",
       "       [[1., 1., 0.],\n",
       "        [1., 1., 0.],\n",
       "        [1., 0., 1.]],\n",
       "\n",
       "       [[1., 1., 0.],\n",
       "        [0., 1., 1.],\n",
       "        [1., 0., 1.]],\n",
       "\n",
       "       [[1., 1., 1.],\n",
       "        [1., 1., 0.],\n",
       "        [1., 1., 1.]],\n",
       "\n",
       "       [[1., 1., 0.],\n",
       "        [1., 1., 0.],\n",
       "        [1., 0., 1.]],\n",
       "\n",
       "       [[1., 1., 0.],\n",
       "        [0., 1., 1.],\n",
       "        [1., 0., 1.]],\n",
       "\n",
       "       [[1., 1., 0.],\n",
       "        [1., 1., 0.],\n",
       "        [1., 0., 1.]],\n",
       "\n",
       "       [[1., 1., 0.],\n",
       "        [1., 1., 0.],\n",
       "        [1., 1., 1.]],\n",
       "\n",
       "       [[1., 1., 0.],\n",
       "        [1., 1., 0.],\n",
       "        [1., 0., 1.]],\n",
       "\n",
       "       [[1., 1., 1.],\n",
       "        [1., 1., 0.],\n",
       "        [1., 0., 1.]],\n",
       "\n",
       "       [[1., 1., 1.],\n",
       "        [1., 1., 0.],\n",
       "        [1., 0., 1.]],\n",
       "\n",
       "       [[1., 1., 1.],\n",
       "        [1., 0., 0.],\n",
       "        [1., 0., 1.]],\n",
       "\n",
       "       [[1., 1., 0.],\n",
       "        [1., 1., 0.],\n",
       "        [1., 0., 1.]],\n",
       "\n",
       "       [[1., 1., 0.],\n",
       "        [1., 1., 0.],\n",
       "        [1., 0., 1.]],\n",
       "\n",
       "       [[1., 1., 0.],\n",
       "        [1., 1., 0.],\n",
       "        [1., 1., 1.]],\n",
       "\n",
       "       [[1., 1., 0.],\n",
       "        [1., 1., 0.],\n",
       "        [1., 0., 1.]],\n",
       "\n",
       "       [[1., 1., 1.],\n",
       "        [0., 1., 0.],\n",
       "        [1., 1., 1.]],\n",
       "\n",
       "       [[1., 1., 1.],\n",
       "        [0., 1., 0.],\n",
       "        [1., 0., 1.]],\n",
       "\n",
       "       [[1., 1., 0.],\n",
       "        [1., 1., 0.],\n",
       "        [1., 1., 1.]],\n",
       "\n",
       "       [[1., 1., 1.],\n",
       "        [0., 1., 0.],\n",
       "        [1., 0., 1.]],\n",
       "\n",
       "       [[1., 1., 1.],\n",
       "        [1., 1., 0.],\n",
       "        [1., 0., 1.]],\n",
       "\n",
       "       [[1., 1., 0.],\n",
       "        [1., 1., 0.],\n",
       "        [1., 0., 1.]],\n",
       "\n",
       "       [[1., 1., 1.],\n",
       "        [1., 1., 0.],\n",
       "        [1., 0., 1.]]])"
      ]
     },
     "execution_count": 33,
     "metadata": {},
     "output_type": "execute_result"
    }
   ],
   "source": [
    "DAGs"
   ]
  },
  {
   "cell_type": "markdown",
   "id": "dc3bb52d-89c7-426c-a5f1-8e186d4f2eeb",
   "metadata": {},
   "source": [
    "# Shuffled Data DBN Search"
   ]
  },
  {
   "cell_type": "code",
   "execution_count": 5,
   "id": "4975b87e-4cc8-4b42-83dc-8a42c9b37173",
   "metadata": {
    "tags": []
   },
   "outputs": [
    {
     "name": "stderr",
     "output_type": "stream",
     "text": [
      "  0%|          | 0/1000000 [00:00<?, ?it/s]\n",
      "  0%|          | 0/1000000 [00:00<?, ?it/s]\n",
      "  0%|          | 2/1000000 [00:00<15:12:14, 18.27it/s]\n",
      "  0%|          | 2/1000000 [00:00<15:41:11, 17.71it/s]\n",
      "  0%|          | 2/1000000 [00:00<14:47:27, 18.78it/s]\n",
      "  0%|          | 1/1000000 [00:00<27:22:31, 10.15it/s]\n",
      "  0%|          | 0/1000000 [00:00<?, ?it/s]\n",
      "  0%|          | 1/1000000 [00:00<27:28:05, 10.11it/s]\n",
      "  0%|          | 2/1000000 [00:00<14:43:22, 18.87it/s]\n",
      "  0%|          | 1/1000000 [00:00<25:02:21, 11.09it/s]\n",
      "  0%|          | 4/1000000 [00:00<8:58:54, 30.93it/s] \n",
      "  0%|          | 3/1000000 [00:00<11:59:12, 23.17it/s]\n",
      "  0%|          | 1/1000000 [00:00<24:57:52, 11.13it/s]\n",
      "  0%|          | 1/1000000 [00:00<25:14:00, 11.01it/s]\n",
      "  0%|          | 0/1000000 [00:00<?, ?it/s]\n",
      "  0%|          | 2/1000000 [00:00<15:44:29, 17.65it/s]\n",
      "  0%|          | 1/1000000 [00:00<26:31:52, 10.47it/s]\n",
      "  0%|          | 0/1000000 [00:00<?, ?it/s]\n",
      "  0%|          | 2/1000000 [00:00<15:41:29, 17.70it/s]\n",
      "  0%|          | 0/1000000 [00:00<?, ?it/s]\n",
      "  0%|          | 0/1000000 [00:00<?, ?it/s]\n",
      "  0%|          | 4/1000000 [00:00<13:06:10, 21.20it/s]\n",
      "  0%|          | 1/1000000 [00:00<25:37:38, 10.84it/s]\n",
      "  0%|          | 2/1000000 [00:00<14:23:01, 19.31it/s]\n",
      "  0%|          | 0/1000000 [00:00<?, ?it/s]\n",
      "  0%|          | 2/1000000 [00:00<15:31:55, 17.88it/s]\n",
      "  0%|          | 3/1000000 [00:00<15:16:02, 18.19it/s]\n",
      "  0%|          | 1/1000000 [00:00<25:30:37, 10.89it/s]\n",
      "  0%|          | 0/1000000 [00:00<?, ?it/s]\n",
      "  0%|          | 2/1000000 [00:00<15:42:34, 17.68it/s]\n",
      "  0%|          | 0/1000000 [00:00<?, ?it/s]\n",
      "  0%|          | 1/1000000 [00:00<24:40:41, 11.26it/s]\n",
      "  0%|          | 2/1000000 [00:00<14:03:20, 19.76it/s]\n",
      "  0%|          | 3/1000000 [00:00<14:59:48, 18.52it/s]\n",
      "  0%|          | 0/1000000 [00:00<?, ?it/s]\n",
      "  0%|          | 2/1000000 [00:00<18:52:45, 14.71it/s]\n",
      "  0%|          | 2/1000000 [00:00<16:32:20, 16.80it/s]\n",
      "  0%|          | 2/1000000 [00:00<22:10:31, 12.53it/s]\n",
      "  0%|          | 3/1000000 [00:00<12:21:36, 22.47it/s]\n",
      "  0%|          | 3/1000000 [00:00<15:45:38, 17.62it/s]\n",
      "  0%|          | 1/1000000 [00:00<24:52:01, 11.17it/s]\n",
      "  0%|          | 3/1000000 [00:00<12:26:29, 22.33it/s]\n",
      "  0%|          | 3/1000000 [00:00<12:00:34, 23.13it/s]\n",
      "  0%|          | 1/1000000 [00:00<25:26:41, 10.92it/s]\n",
      "  0%|          | 1/1000000 [00:00<25:27:27, 10.91it/s]\n",
      "  0%|          | 2/1000000 [00:00<15:31:25, 17.89it/s]\n",
      "  0%|          | 2/1000000 [00:00<18:44:46, 14.82it/s]\n",
      "  0%|          | 4/1000000 [00:00<8:54:10, 31.20it/s] \n",
      "  0%|          | 1/1000000 [00:00<29:24:02,  9.45it/s]\n",
      "  0%|          | 0/1000000 [00:00<?, ?it/s]\n",
      "  0%|          | 2/1000000 [00:00<15:36:45, 17.79it/s]\n",
      "  0%|          | 2/1000000 [00:00<16:00:00, 17.36it/s]\n",
      "  0%|          | 2/1000000 [00:00<23:53:49, 11.62it/s]\n",
      "  0%|          | 1/1000000 [00:00<28:10:11,  9.86it/s]\n",
      "  0%|          | 2/1000000 [00:00<20:25:25, 13.60it/s]\n",
      "  0%|          | 2/1000000 [00:00<18:24:12, 15.09it/s]\n",
      "  0%|          | 0/1000000 [00:00<?, ?it/s]\n",
      "  0%|          | 0/1000000 [00:00<?, ?it/s]\n",
      "  0%|          | 0/1000000 [00:00<?, ?it/s]\n",
      "  0%|          | 1/1000000 [00:00<26:39:12, 10.42it/s]\n",
      "  0%|          | 2/1000000 [00:00<15:14:44, 18.22it/s]\n",
      "  0%|          | 0/1000000 [00:00<?, ?it/s]\n",
      "  0%|          | 2/1000000 [00:00<17:52:58, 15.53it/s]\n",
      "  0%|          | 2/1000000 [00:00<16:34:51, 16.75it/s]\n",
      "  0%|          | 2/1000000 [00:00<19:23:43, 14.32it/s]\n",
      "  0%|          | 2/1000000 [00:00<18:54:52, 14.69it/s]\n",
      "  0%|          | 0/1000000 [00:00<?, ?it/s]\n",
      "  0%|          | 2/1000000 [00:00<15:41:02, 17.71it/s]\n",
      "  0%|          | 2/1000000 [00:00<21:34:49, 12.87it/s]\n",
      "  0%|          | 1/1000000 [00:00<25:26:37, 10.92it/s]\n",
      "  0%|          | 1/1000000 [00:00<30:01:36,  9.25it/s]\n",
      "  0%|          | 2/1000000 [00:00<14:49:37, 18.73it/s]\n",
      "  0%|          | 0/1000000 [00:00<?, ?it/s]\n",
      "  0%|          | 2/1000000 [00:00<14:27:45, 19.21it/s]\n",
      "  0%|          | 5/1000000 [00:00<7:44:28, 35.88it/s]\n",
      "  0%|          | 1/1000000 [00:00<23:35:24, 11.78it/s]\n",
      "  0%|          | 2/1000000 [00:00<16:52:15, 16.46it/s]\n",
      "  0%|          | 3/1000000 [00:00<12:58:13, 21.42it/s]\n",
      "  0%|          | 2/1000000 [00:00<15:40:26, 17.72it/s]\n",
      "  0%|          | 2/1000000 [00:00<15:38:02, 17.77it/s]\n",
      "  0%|          | 1/1000000 [00:00<26:33:56, 10.46it/s]\n",
      "  0%|          | 2/1000000 [00:00<15:44:35, 17.64it/s]\n",
      "  0%|          | 0/1000000 [00:00<?, ?it/s]\n",
      "  0%|          | 1/1000000 [00:00<25:43:48, 10.80it/s]\n",
      "  0%|          | 1/1000000 [00:00<24:57:11, 11.13it/s]\n",
      "  0%|          | 3/1000000 [00:00<11:31:03, 24.12it/s]\n",
      "  0%|          | 1/1000000 [00:00<29:19:06,  9.47it/s]\n",
      "  0%|          | 2/1000000 [00:00<17:27:46, 15.91it/s]\n",
      "  0%|          | 2/1000000 [00:00<14:58:24, 18.55it/s]\n",
      "  0%|          | 2/1000000 [00:00<21:20:50, 13.01it/s]\n",
      "  0%|          | 0/1000000 [00:00<?, ?it/s]\n",
      "  0%|          | 0/1000000 [00:00<?, ?it/s]\n",
      "  0%|          | 1/1000000 [00:00<30:20:27,  9.16it/s]\n",
      "  0%|          | 1/1000000 [00:00<28:01:03,  9.91it/s]\n",
      "  0%|          | 2/1000000 [00:00<25:25:09, 10.93it/s]\n",
      "  0%|          | 1/1000000 [00:00<24:55:44, 11.14it/s]\n",
      "  0%|          | 2/1000000 [00:00<15:25:55, 18.00it/s]\n",
      "  0%|          | 2/1000000 [00:00<15:39:35, 17.74it/s]\n",
      "  0%|          | 2/1000000 [00:00<16:10:25, 17.17it/s]\n",
      "  0%|          | 0/1000000 [00:00<?, ?it/s]\n"
     ]
    }
   ],
   "source": [
    "nTrials = 100\n",
    "nFromNodes = 3\n",
    "nToNodes = 3\n",
    "\n",
    "DAGs_shuffled = np.zeros((nTrials, nFromNodes, nToNodes))\n",
    "for trial in range(100):\n",
    "    DAGs_shuffled[trial,:,:] = run_dbn_single_trial(trial, shuffle = True, combine = True, lag = lag, binWidth = binWidth)"
   ]
  },
  {
   "cell_type": "markdown",
   "id": "902c8cef-7347-4a56-81d7-70bdcfa81d56",
   "metadata": {},
   "source": [
    "# Caclulate Weighted DAGs"
   ]
  },
  {
   "cell_type": "code",
   "execution_count": 13,
   "id": "3a90015b",
   "metadata": {},
   "outputs": [
    {
     "data": {
      "text/plain": [
       "100"
      ]
     },
     "execution_count": 13,
     "metadata": {},
     "output_type": "execute_result"
    }
   ],
   "source": [
    "DAGs\n",
    "[nTrials,frNodes,toNodes] = DAGs.shape\n",
    "nTrials"
   ]
  },
  {
   "cell_type": "code",
   "execution_count": 10,
   "id": "a9e48811-9369-49df-a863-93487853b6f7",
   "metadata": {},
   "outputs": [],
   "source": [
    "def get_weighted_dags(binaryDags,nNewBootstraps = 100):\n",
    "    ### Step 1: Create Bootstraps of \"discrete\" DAGs for weighted DAGs\n",
    "    [nTrials,frNodes,toNodes] = binaryDags.shape\n",
    "    \n",
    "    bootstrap_graphs = np.zeros([nNewBootstraps,nTrials,frNodes,toNodes])\n",
    "    for iBootstrap in range(nNewBootstraps):\n",
    "        bootstrap_graphs[iBootstrap,:,:,:] = binaryDags[np.random.randint(nTrials, size=(nTrials)),:,:]\n",
    "\n",
    "    ### Step 2: Get Weighted DAGs\n",
    "    wtd_graphs = np.nanmean(bootstrap_graphs, axis=1)\n",
    "    \n",
    "    return wtd_graphs"
   ]
  },
  {
   "cell_type": "code",
   "execution_count": 12,
   "id": "90f6c558-eddf-407c-b3a2-9fb33431548f",
   "metadata": {},
   "outputs": [
    {
     "data": {
      "text/plain": [
       "array([[[1.  , 0.98, 0.37],\n",
       "        [0.81, 1.  , 0.13],\n",
       "        [0.99, 0.2 , 1.  ]],\n",
       "\n",
       "       [[1.  , 0.99, 0.4 ],\n",
       "        [0.71, 0.97, 0.17],\n",
       "        [1.  , 0.17, 1.  ]],\n",
       "\n",
       "       [[1.  , 0.99, 0.4 ],\n",
       "        [0.83, 0.98, 0.2 ],\n",
       "        [0.99, 0.23, 1.  ]],\n",
       "\n",
       "       [[1.  , 0.98, 0.37],\n",
       "        [0.8 , 0.98, 0.15],\n",
       "        [0.99, 0.21, 1.  ]],\n",
       "\n",
       "       [[1.  , 0.98, 0.3 ],\n",
       "        [0.74, 0.99, 0.22],\n",
       "        [0.97, 0.23, 1.  ]],\n",
       "\n",
       "       [[1.  , 1.  , 0.35],\n",
       "        [0.78, 0.99, 0.16],\n",
       "        [1.  , 0.13, 1.  ]],\n",
       "\n",
       "       [[1.  , 0.99, 0.32],\n",
       "        [0.77, 0.96, 0.27],\n",
       "        [0.99, 0.24, 1.  ]],\n",
       "\n",
       "       [[1.  , 0.99, 0.32],\n",
       "        [0.79, 0.99, 0.13],\n",
       "        [0.99, 0.2 , 1.  ]],\n",
       "\n",
       "       [[1.  , 0.96, 0.35],\n",
       "        [0.72, 0.99, 0.18],\n",
       "        [0.98, 0.24, 1.  ]],\n",
       "\n",
       "       [[1.  , 0.96, 0.38],\n",
       "        [0.85, 0.95, 0.13],\n",
       "        [0.99, 0.15, 1.  ]],\n",
       "\n",
       "       [[1.  , 0.99, 0.29],\n",
       "        [0.76, 0.99, 0.22],\n",
       "        [1.  , 0.14, 1.  ]],\n",
       "\n",
       "       [[1.  , 1.  , 0.36],\n",
       "        [0.8 , 0.96, 0.15],\n",
       "        [1.  , 0.15, 1.  ]],\n",
       "\n",
       "       [[1.  , 1.  , 0.31],\n",
       "        [0.78, 0.99, 0.18],\n",
       "        [1.  , 0.16, 1.  ]],\n",
       "\n",
       "       [[1.  , 1.  , 0.34],\n",
       "        [0.84, 0.99, 0.13],\n",
       "        [0.98, 0.17, 1.  ]],\n",
       "\n",
       "       [[1.  , 1.  , 0.39],\n",
       "        [0.8 , 1.  , 0.24],\n",
       "        [0.99, 0.18, 1.  ]],\n",
       "\n",
       "       [[1.  , 0.99, 0.36],\n",
       "        [0.82, 0.99, 0.16],\n",
       "        [1.  , 0.17, 1.  ]],\n",
       "\n",
       "       [[1.  , 0.99, 0.36],\n",
       "        [0.72, 0.99, 0.21],\n",
       "        [1.  , 0.18, 1.  ]],\n",
       "\n",
       "       [[1.  , 0.99, 0.33],\n",
       "        [0.76, 0.99, 0.14],\n",
       "        [1.  , 0.16, 1.  ]],\n",
       "\n",
       "       [[1.  , 0.98, 0.37],\n",
       "        [0.85, 0.97, 0.07],\n",
       "        [0.99, 0.17, 1.  ]],\n",
       "\n",
       "       [[1.  , 1.  , 0.27],\n",
       "        [0.72, 0.98, 0.16],\n",
       "        [0.99, 0.14, 1.  ]],\n",
       "\n",
       "       [[1.  , 0.96, 0.47],\n",
       "        [0.74, 0.98, 0.16],\n",
       "        [0.99, 0.26, 1.  ]],\n",
       "\n",
       "       [[1.  , 0.99, 0.37],\n",
       "        [0.77, 0.98, 0.15],\n",
       "        [1.  , 0.18, 1.  ]],\n",
       "\n",
       "       [[1.  , 0.97, 0.32],\n",
       "        [0.76, 0.95, 0.18],\n",
       "        [0.96, 0.18, 1.  ]],\n",
       "\n",
       "       [[1.  , 1.  , 0.42],\n",
       "        [0.82, 0.99, 0.18],\n",
       "        [0.97, 0.21, 1.  ]],\n",
       "\n",
       "       [[1.  , 0.98, 0.38],\n",
       "        [0.78, 0.99, 0.14],\n",
       "        [0.99, 0.21, 1.  ]],\n",
       "\n",
       "       [[1.  , 0.99, 0.43],\n",
       "        [0.79, 0.99, 0.16],\n",
       "        [1.  , 0.16, 1.  ]],\n",
       "\n",
       "       [[1.  , 0.96, 0.39],\n",
       "        [0.78, 0.98, 0.16],\n",
       "        [1.  , 0.19, 1.  ]],\n",
       "\n",
       "       [[1.  , 0.97, 0.47],\n",
       "        [0.8 , 0.98, 0.14],\n",
       "        [0.98, 0.16, 1.  ]],\n",
       "\n",
       "       [[1.  , 1.  , 0.38],\n",
       "        [0.69, 0.98, 0.19],\n",
       "        [0.99, 0.2 , 1.  ]],\n",
       "\n",
       "       [[1.  , 0.99, 0.24],\n",
       "        [0.8 , 0.96, 0.14],\n",
       "        [0.99, 0.15, 1.  ]],\n",
       "\n",
       "       [[1.  , 1.  , 0.24],\n",
       "        [0.81, 1.  , 0.16],\n",
       "        [0.99, 0.15, 1.  ]],\n",
       "\n",
       "       [[1.  , 0.98, 0.3 ],\n",
       "        [0.81, 0.96, 0.11],\n",
       "        [0.99, 0.23, 1.  ]],\n",
       "\n",
       "       [[1.  , 0.98, 0.37],\n",
       "        [0.8 , 0.98, 0.12],\n",
       "        [0.99, 0.21, 1.  ]],\n",
       "\n",
       "       [[1.  , 0.99, 0.31],\n",
       "        [0.8 , 0.98, 0.22],\n",
       "        [1.  , 0.19, 1.  ]],\n",
       "\n",
       "       [[1.  , 1.  , 0.3 ],\n",
       "        [0.79, 0.99, 0.13],\n",
       "        [0.97, 0.23, 1.  ]],\n",
       "\n",
       "       [[1.  , 0.99, 0.41],\n",
       "        [0.7 , 0.97, 0.24],\n",
       "        [1.  , 0.09, 1.  ]],\n",
       "\n",
       "       [[1.  , 0.99, 0.39],\n",
       "        [0.74, 1.  , 0.21],\n",
       "        [1.  , 0.1 , 1.  ]],\n",
       "\n",
       "       [[1.  , 0.99, 0.39],\n",
       "        [0.74, 0.95, 0.22],\n",
       "        [0.99, 0.17, 1.  ]],\n",
       "\n",
       "       [[1.  , 0.99, 0.45],\n",
       "        [0.76, 0.98, 0.22],\n",
       "        [0.98, 0.22, 1.  ]],\n",
       "\n",
       "       [[1.  , 0.99, 0.31],\n",
       "        [0.74, 0.97, 0.2 ],\n",
       "        [1.  , 0.2 , 1.  ]],\n",
       "\n",
       "       [[1.  , 1.  , 0.37],\n",
       "        [0.84, 0.97, 0.1 ],\n",
       "        [0.98, 0.21, 1.  ]],\n",
       "\n",
       "       [[1.  , 0.98, 0.4 ],\n",
       "        [0.76, 1.  , 0.14],\n",
       "        [0.98, 0.21, 1.  ]],\n",
       "\n",
       "       [[1.  , 1.  , 0.32],\n",
       "        [0.81, 1.  , 0.22],\n",
       "        [1.  , 0.21, 1.  ]],\n",
       "\n",
       "       [[1.  , 0.99, 0.39],\n",
       "        [0.78, 0.98, 0.22],\n",
       "        [1.  , 0.16, 1.  ]],\n",
       "\n",
       "       [[1.  , 0.99, 0.48],\n",
       "        [0.79, 0.99, 0.16],\n",
       "        [0.99, 0.2 , 1.  ]],\n",
       "\n",
       "       [[1.  , 0.98, 0.29],\n",
       "        [0.8 , 0.98, 0.16],\n",
       "        [1.  , 0.18, 1.  ]],\n",
       "\n",
       "       [[1.  , 0.99, 0.31],\n",
       "        [0.75, 1.  , 0.2 ],\n",
       "        [0.98, 0.19, 1.  ]],\n",
       "\n",
       "       [[1.  , 1.  , 0.35],\n",
       "        [0.79, 0.98, 0.12],\n",
       "        [0.99, 0.15, 1.  ]],\n",
       "\n",
       "       [[1.  , 1.  , 0.38],\n",
       "        [0.79, 0.97, 0.12],\n",
       "        [0.99, 0.19, 1.  ]],\n",
       "\n",
       "       [[1.  , 1.  , 0.36],\n",
       "        [0.84, 0.98, 0.18],\n",
       "        [0.99, 0.19, 1.  ]],\n",
       "\n",
       "       [[1.  , 0.98, 0.36],\n",
       "        [0.83, 0.99, 0.11],\n",
       "        [0.97, 0.24, 1.  ]],\n",
       "\n",
       "       [[1.  , 0.99, 0.36],\n",
       "        [0.79, 1.  , 0.19],\n",
       "        [0.98, 0.23, 1.  ]],\n",
       "\n",
       "       [[1.  , 0.99, 0.35],\n",
       "        [0.76, 0.99, 0.19],\n",
       "        [1.  , 0.15, 1.  ]],\n",
       "\n",
       "       [[1.  , 1.  , 0.33],\n",
       "        [0.74, 0.99, 0.19],\n",
       "        [0.97, 0.21, 1.  ]],\n",
       "\n",
       "       [[1.  , 0.99, 0.31],\n",
       "        [0.75, 0.99, 0.22],\n",
       "        [0.99, 0.23, 1.  ]],\n",
       "\n",
       "       [[1.  , 0.98, 0.28],\n",
       "        [0.74, 1.  , 0.17],\n",
       "        [0.98, 0.16, 1.  ]],\n",
       "\n",
       "       [[1.  , 0.99, 0.39],\n",
       "        [0.75, 1.  , 0.16],\n",
       "        [0.97, 0.2 , 1.  ]],\n",
       "\n",
       "       [[1.  , 0.98, 0.35],\n",
       "        [0.77, 1.  , 0.18],\n",
       "        [0.99, 0.14, 1.  ]],\n",
       "\n",
       "       [[1.  , 0.98, 0.4 ],\n",
       "        [0.78, 0.95, 0.21],\n",
       "        [1.  , 0.18, 1.  ]],\n",
       "\n",
       "       [[1.  , 1.  , 0.38],\n",
       "        [0.7 , 0.99, 0.31],\n",
       "        [1.  , 0.12, 1.  ]],\n",
       "\n",
       "       [[1.  , 1.  , 0.38],\n",
       "        [0.71, 0.98, 0.22],\n",
       "        [0.98, 0.18, 1.  ]],\n",
       "\n",
       "       [[1.  , 0.97, 0.31],\n",
       "        [0.79, 0.99, 0.13],\n",
       "        [1.  , 0.19, 1.  ]],\n",
       "\n",
       "       [[1.  , 0.98, 0.33],\n",
       "        [0.76, 0.96, 0.23],\n",
       "        [1.  , 0.19, 1.  ]],\n",
       "\n",
       "       [[1.  , 0.99, 0.32],\n",
       "        [0.76, 0.98, 0.23],\n",
       "        [0.99, 0.25, 1.  ]],\n",
       "\n",
       "       [[1.  , 1.  , 0.29],\n",
       "        [0.78, 0.99, 0.15],\n",
       "        [0.98, 0.18, 1.  ]],\n",
       "\n",
       "       [[1.  , 1.  , 0.33],\n",
       "        [0.77, 0.98, 0.21],\n",
       "        [1.  , 0.22, 1.  ]],\n",
       "\n",
       "       [[1.  , 1.  , 0.28],\n",
       "        [0.77, 1.  , 0.14],\n",
       "        [1.  , 0.17, 1.  ]],\n",
       "\n",
       "       [[1.  , 0.98, 0.32],\n",
       "        [0.77, 0.98, 0.12],\n",
       "        [1.  , 0.11, 1.  ]],\n",
       "\n",
       "       [[1.  , 0.99, 0.45],\n",
       "        [0.78, 0.97, 0.23],\n",
       "        [0.99, 0.24, 1.  ]],\n",
       "\n",
       "       [[1.  , 1.  , 0.37],\n",
       "        [0.81, 0.99, 0.18],\n",
       "        [0.98, 0.16, 1.  ]],\n",
       "\n",
       "       [[1.  , 1.  , 0.4 ],\n",
       "        [0.75, 0.99, 0.12],\n",
       "        [0.97, 0.19, 1.  ]],\n",
       "\n",
       "       [[1.  , 0.99, 0.36],\n",
       "        [0.86, 0.96, 0.13],\n",
       "        [0.99, 0.13, 1.  ]],\n",
       "\n",
       "       [[1.  , 0.99, 0.41],\n",
       "        [0.75, 0.99, 0.2 ],\n",
       "        [1.  , 0.22, 1.  ]],\n",
       "\n",
       "       [[1.  , 0.98, 0.37],\n",
       "        [0.75, 0.96, 0.15],\n",
       "        [0.98, 0.16, 1.  ]],\n",
       "\n",
       "       [[1.  , 0.99, 0.35],\n",
       "        [0.77, 1.  , 0.18],\n",
       "        [0.99, 0.18, 1.  ]],\n",
       "\n",
       "       [[1.  , 0.99, 0.32],\n",
       "        [0.78, 0.99, 0.2 ],\n",
       "        [0.99, 0.18, 1.  ]],\n",
       "\n",
       "       [[1.  , 1.  , 0.37],\n",
       "        [0.81, 0.96, 0.16],\n",
       "        [1.  , 0.27, 1.  ]],\n",
       "\n",
       "       [[1.  , 0.99, 0.33],\n",
       "        [0.78, 0.98, 0.14],\n",
       "        [0.99, 0.15, 1.  ]],\n",
       "\n",
       "       [[1.  , 0.99, 0.36],\n",
       "        [0.82, 1.  , 0.15],\n",
       "        [0.98, 0.18, 1.  ]],\n",
       "\n",
       "       [[1.  , 0.97, 0.41],\n",
       "        [0.71, 1.  , 0.17],\n",
       "        [0.99, 0.16, 1.  ]],\n",
       "\n",
       "       [[1.  , 0.99, 0.3 ],\n",
       "        [0.74, 0.98, 0.14],\n",
       "        [0.99, 0.14, 1.  ]],\n",
       "\n",
       "       [[1.  , 0.98, 0.38],\n",
       "        [0.84, 0.96, 0.17],\n",
       "        [0.99, 0.16, 1.  ]],\n",
       "\n",
       "       [[1.  , 1.  , 0.25],\n",
       "        [0.78, 0.98, 0.13],\n",
       "        [1.  , 0.16, 1.  ]],\n",
       "\n",
       "       [[1.  , 0.99, 0.39],\n",
       "        [0.74, 0.98, 0.16],\n",
       "        [1.  , 0.18, 1.  ]],\n",
       "\n",
       "       [[1.  , 1.  , 0.29],\n",
       "        [0.72, 0.98, 0.2 ],\n",
       "        [0.98, 0.16, 1.  ]],\n",
       "\n",
       "       [[1.  , 0.98, 0.31],\n",
       "        [0.75, 0.97, 0.18],\n",
       "        [0.98, 0.17, 1.  ]],\n",
       "\n",
       "       [[1.  , 0.99, 0.41],\n",
       "        [0.84, 0.98, 0.16],\n",
       "        [0.98, 0.21, 1.  ]],\n",
       "\n",
       "       [[1.  , 0.99, 0.38],\n",
       "        [0.84, 0.96, 0.17],\n",
       "        [1.  , 0.18, 1.  ]],\n",
       "\n",
       "       [[1.  , 0.99, 0.51],\n",
       "        [0.8 , 0.97, 0.16],\n",
       "        [0.99, 0.2 , 1.  ]],\n",
       "\n",
       "       [[1.  , 1.  , 0.34],\n",
       "        [0.79, 0.99, 0.15],\n",
       "        [0.97, 0.21, 1.  ]],\n",
       "\n",
       "       [[1.  , 1.  , 0.34],\n",
       "        [0.72, 0.97, 0.2 ],\n",
       "        [0.99, 0.13, 1.  ]],\n",
       "\n",
       "       [[1.  , 1.  , 0.3 ],\n",
       "        [0.77, 0.97, 0.23],\n",
       "        [1.  , 0.17, 1.  ]],\n",
       "\n",
       "       [[1.  , 0.99, 0.38],\n",
       "        [0.79, 0.99, 0.17],\n",
       "        [1.  , 0.17, 1.  ]],\n",
       "\n",
       "       [[1.  , 0.99, 0.42],\n",
       "        [0.81, 0.98, 0.14],\n",
       "        [0.99, 0.2 , 1.  ]],\n",
       "\n",
       "       [[1.  , 0.98, 0.36],\n",
       "        [0.72, 0.98, 0.22],\n",
       "        [0.99, 0.18, 1.  ]],\n",
       "\n",
       "       [[1.  , 1.  , 0.42],\n",
       "        [0.76, 0.96, 0.22],\n",
       "        [1.  , 0.18, 1.  ]],\n",
       "\n",
       "       [[1.  , 0.99, 0.42],\n",
       "        [0.67, 0.96, 0.25],\n",
       "        [0.99, 0.19, 1.  ]],\n",
       "\n",
       "       [[1.  , 0.99, 0.34],\n",
       "        [0.72, 0.97, 0.16],\n",
       "        [0.99, 0.22, 1.  ]],\n",
       "\n",
       "       [[1.  , 0.98, 0.31],\n",
       "        [0.79, 0.98, 0.16],\n",
       "        [0.97, 0.25, 1.  ]],\n",
       "\n",
       "       [[1.  , 0.99, 0.28],\n",
       "        [0.71, 0.98, 0.22],\n",
       "        [0.99, 0.25, 1.  ]]])"
      ]
     },
     "execution_count": 12,
     "metadata": {},
     "output_type": "execute_result"
    }
   ],
   "source": [
    "weighted_graphs = get_weighted_dags(DAGs)\n",
    "# weighted_graphs_shuffled = get_weighted_dags(DAGs_shuffled)\n",
    "weighted_graphs"
   ]
  },
  {
   "cell_type": "markdown",
   "id": "8ab106ee-454a-4cba-914f-d5219de86da2",
   "metadata": {},
   "source": [
    "# Find significant edges"
   ]
  },
  {
   "cell_type": "code",
   "execution_count": 8,
   "id": "fa656379-5d11-4ce4-834c-71bf4323e2db",
   "metadata": {},
   "outputs": [],
   "source": [
    "def get_significant_edges(weighted_graphs, shuffled_weighted_graphs):    \n",
    "    [nBootstraps,FrNode,ToNode] = weighted_graphs.shape\n",
    "    sig_edges = np.zeros((FrNode,ToNode))\n",
    "        \n",
    "    counter=0\n",
    "    for i in range(FrNode):\n",
    "        for j in range(ToNode):\n",
    "            edges = weighted_graphs[:,i,j].flatten() #Get all weights for this edge from all bootstraps, sessions\n",
    "\n",
    "            shuffled_edges = shuffled_weighted_graphs[:,i,j].flatten()\n",
    "\n",
    "            if np.all(1 - edges) & np.all(1 - shuffled_edges):# All edges are zero in both, not significantly different but will break stats function\n",
    "                continue\n",
    "\n",
    "            stat,p_value = proportions_ztest(count = [np.count_nonzero(edges), np.count_nonzero(shuffled_edges)],\n",
    "                                                                 nobs = [len(edges), len(shuffled_edges)],\n",
    "                                                                 alternative = 'larger')\n",
    "\n",
    "            # stat,p_value = stats.mannwhitneyu(edges,shuffled_edges,alternative = 'greater')\n",
    "\n",
    "\n",
    "            if (p_value) < 0.01:\n",
    "                sig_edges[i,j] = 1\n",
    "# sig_edges = np.logical_or(sig_edges[0,:,:],sig_edges[1,:,:])\n",
    "            \n",
    "    return sig_edges"
   ]
  },
  {
   "cell_type": "code",
   "execution_count": 9,
   "id": "d8978ae1-7b79-47ff-ae41-5279cbaf03a8",
   "metadata": {},
   "outputs": [],
   "source": [
    "sig_edges = get_significant_edges(DAGs,DAGs_shuffled)"
   ]
  },
  {
   "cell_type": "code",
   "execution_count": 10,
   "id": "45e4274b-ea04-4a12-82ba-0995b265a067",
   "metadata": {},
   "outputs": [
    {
     "data": {
      "text/plain": [
       "array([[1.    , 0.9901, 0.3567],\n",
       "       [0.7652, 0.9811, 0.    ],\n",
       "       [0.9901, 0.    , 1.    ]])"
      ]
     },
     "execution_count": 10,
     "metadata": {},
     "output_type": "execute_result"
    }
   ],
   "source": [
    "sig_avg_dags = weighted_graphs.mean(axis = 0) * sig_edges\n",
    "\n",
    "sig_avg_dags"
   ]
  },
  {
   "cell_type": "code",
   "execution_count": 11,
   "id": "c4c6d527-60aa-4ac7-b3d8-125738b45b06",
   "metadata": {},
   "outputs": [],
   "source": [
    "true_connectivity = np.array([[1,1,0],\n",
    "                              [0,1,0],\n",
    "                              [1,0,1]])\n",
    "\n",
    "\n",
    "                               \n"
   ]
  },
  {
   "cell_type": "markdown",
   "id": "e9d78229-d5c4-4809-9c3f-896ef963400b",
   "metadata": {},
   "source": [
    "# Graph Functions"
   ]
  },
  {
   "cell_type": "code",
   "execution_count": 12,
   "id": "5d2aa377-b177-42dc-a92a-e30c1a9415b7",
   "metadata": {
    "tags": []
   },
   "outputs": [],
   "source": [
    "class LineDataUnits(Line2D):\n",
    "    #from https://stackoverflow.com/questions/19394505/expand-the-line-with-specified-width-in-data-unit\n",
    "    def __init__(self, *args, **kwargs):\n",
    "        _lw_data = kwargs.pop(\"linewidth\", 1) \n",
    "        super().__init__(*args, **kwargs)\n",
    "        self._lw_data = _lw_data\n",
    "\n",
    "    def _get_lw(self):\n",
    "        if self.axes is not None:\n",
    "            ppd = 72./self.axes.figure.dpi\n",
    "            trans = self.axes.transData.transform\n",
    "            return ((trans((1, self._lw_data))-trans((0, 0)))*ppd)[1]\n",
    "        else:\n",
    "            return 1\n",
    "\n",
    "    def _set_lw(self, lw):\n",
    "        self._lw_data = lw\n",
    "\n",
    "    _linewidth = property(_get_lw, _set_lw)\n",
    "    \n",
    "    \n",
    "class CircleDataUnits(Circle):\n",
    "    #from https://stackoverflow.com/questions/19394505/expand-the-line-with-specified-width-in-data-unit\n",
    "    def __init__(self, *args, **kwargs):\n",
    "        _lw_data = kwargs.pop(\"linewidth\", 1) \n",
    "        super().__init__(*args, **kwargs)\n",
    "        self._lw_data = _lw_data\n",
    "\n",
    "    def _get_lw(self):\n",
    "        if self.axes is not None:\n",
    "            ppd = 72./self.axes.figure.dpi\n",
    "            trans = self.axes.transData.transform\n",
    "            return ((trans((1, self._lw_data))-trans((0, 0)))*ppd)[1]\n",
    "        else:\n",
    "            return 1\n",
    "\n",
    "    def _set_lw(self, lw):\n",
    "        self._lw_data = lw\n",
    "\n",
    "    _linewidth = property(_get_lw, _set_lw)\n",
    "\n",
    "\n",
    "def draw_causal_edge(ax,x, y, thickness,color):\n",
    "    arrow = LineDataUnits(x, y, linewidth = thickness, color = color)\n",
    "    \n",
    "    ax.add_line(arrow)\n",
    "\n",
    "\n",
    "def draw_population(ax, waveform,layer):\n",
    "    waveform_color = ['orange','blue']\n",
    "    layer = layer_space[layer-1]\n",
    "\n",
    "    population = plt.Circle(xy = (waveform_space[waveform - 1],layer),\n",
    "                            radius=node_radius, \n",
    "                            fc=waveform_color[waveform-1],\n",
    "                            ec = 'Black', \n",
    "                            alpha = 1)\n",
    "    ax.add_patch(population)\n",
    "    \n",
    "def draw_self_loop(ax,center, edge_radius, color, edge_thickness):\n",
    "    edge = CircleDataUnits(xy = center,\n",
    "                        radius=edge_radius, \n",
    "                        fill=False,\n",
    "                        ec = color,\n",
    "                        zorder = 0,\n",
    "                        linewidth = edge_thickness)\n",
    "    \n",
    "    arrow_tip = LineDataUnits([center[0],center[0] + edge_radius/10],\n",
    "                              [center[1], center[1]],\n",
    "                              linewidth = edge_radius/10.3,\n",
    "                              color = color)\n",
    "    ax.add_patch(edge)\n",
    "    ax.add_line(arrow_tip)\n",
    "    \n",
    "def draw_edge(ax, edge_weight, edge_thickness, from_layer, from_waveform, to_layer, to_waveform, AMI):\n",
    "    if AMI:\n",
    "        color = mpl.cm.seismic(0.5*(edge_weight + 1)) #AMIs vary between -1 and 1, shift to between 0 and 1\n",
    "    else:\n",
    "        color = mpl.cm.Greens(edge_weight) #Edge weights already are between 0 and 1\n",
    "    \n",
    "    from_layer = layer_space[from_layer - 1]\n",
    "    to_layer = layer_space[to_layer - 1]\n",
    "    from_waveform = waveform_space[from_waveform - 1]\n",
    "    to_waveform = waveform_space[to_waveform - 1]\n",
    "\n",
    "    if (from_layer == to_layer) & (from_waveform == to_waveform):\n",
    "        draw_self_loop(ax = ax,\n",
    "                       center = (from_waveform,from_layer + recurrent_node_radius),\n",
    "                       edge_radius = recurrent_node_radius,\n",
    "                       color = color,\n",
    "                       edge_thickness = edge_thickness)            \n",
    "    else:\n",
    "        draw_causal_edge(ax = ax,\n",
    "                         x = [from_waveform, to_waveform],\n",
    "                         y = [from_layer, to_layer],\n",
    "                         color = color,\n",
    "                         thickness = edge_thickness)\n",
    "        \n",
    "        "
   ]
  },
  {
   "cell_type": "markdown",
   "id": "3ea0ebd7-b7d2-4a90-a930-1a854f9dab32",
   "metadata": {},
   "source": [
    "# Connectivity Graph vs. Dependency Graph"
   ]
  },
  {
   "cell_type": "code",
   "execution_count": 13,
   "id": "e36cba8c-659f-47f5-9adb-9b9b7da73849",
   "metadata": {
    "tags": []
   },
   "outputs": [
    {
     "name": "stdout",
     "output_type": "stream",
     "text": [
      "1\n",
      "1\n",
      "0\n",
      "0\n",
      "1\n",
      "0\n",
      "1\n",
      "0\n",
      "1\n"
     ]
    },
    {
     "data": {
      "image/png": "[encoded data removed]",
      "text/plain": [
       "<Figure size 300x600 with 2 Axes>"
      ]
     },
     "metadata": {
      "needs_background": "light"
     },
     "output_type": "display_data"
    }
   ],
   "source": [
    "nLayers = 3\n",
    "nPopulations = 1\n",
    "nEpochs = 1\n",
    "data_type = 'layeronly'\n",
    "\n",
    "fig, ax = plt.subplots(2,1, figsize = (3,6),dpi = 100)\n",
    "\n",
    "#Parameters for size and spacing of objects\n",
    "node_radius = 0.25\n",
    "layer_space = [4.4, 3.2, 2]\n",
    "waveform_space = [0, -.5]\n",
    "recurrent_node_radius = 0.4\n",
    "\n",
    "\n",
    "#Set DAG background to gray\n",
    "for row in range(2):\n",
    "        ax[row].set_facecolor(\"gray\")\n",
    "\n",
    "\n",
    "#Draw populations (nodes)\n",
    "for row in range(2): #True connectivity on top, dependency graph on bottom\n",
    "        for waveform in [1]:\n",
    "            for layer in [1,2,3]:\n",
    "                draw_population(ax[row], waveform, layer)\n",
    "\n",
    "\n",
    "\n",
    "\n",
    "# Draw connectivity edges\n",
    "from_idx = 0\n",
    "for from_layer in np.arange(1,nLayers+1):\n",
    "    to_idx = 0\n",
    "    for to_layer in np.arange(1,nLayers+1):\n",
    "        #Attend In Edges    \n",
    "        edge_weight = true_connectivity[from_idx,to_idx]\n",
    "        print(edge_weight)\n",
    "\n",
    "        if np.abs(edge_weight) != 0 :\n",
    "            draw_edge(ax = ax[0],\n",
    "                      edge_weight = edge_weight,\n",
    "                      edge_thickness = 0.05,\n",
    "                      from_layer = from_layer,\n",
    "                      from_waveform = 1,\n",
    "                      to_layer = to_layer,\n",
    "                      to_waveform = 1,\n",
    "                      AMI = True)\n",
    "\n",
    "        to_idx +=1    \n",
    "    from_idx+=1                \n",
    "                \n",
    "# Draw connectivity edges\n",
    "from_idx = 0\n",
    "for from_layer in np.arange(1,nLayers+1):\n",
    "    to_idx = 0\n",
    "    for to_layer in np.arange(1,nLayers+1):\n",
    "        #Attend In Edges    \n",
    "        edge_weight = sig_avg_dags[from_idx,to_idx]\n",
    "        if np.abs(edge_weight) != 0 :\n",
    "            draw_edge(ax = ax[1],\n",
    "                      edge_weight = edge_weight,\n",
    "                      edge_thickness = 0.05,\n",
    "                      from_layer = from_layer,\n",
    "                      from_waveform = 1,\n",
    "                      to_layer = to_layer,\n",
    "                      to_waveform = 1,\n",
    "                      AMI = True)\n",
    "\n",
    "        to_idx +=1    \n",
    "    from_idx+=1\n",
    "    \n",
    "# Set axis range and add labels\n",
    "for row in range(2):\n",
    "    ax[row].set_xlim(-1.1,1.1)\n",
    "    ax[row].set_ylim(1.4,5.3)\n",
    "    ax[row].set_aspect('equal', adjustable='box')\n",
    "    ax[row].set_xticks([])\n",
    "    ax[row].axis = 'equal'\n",
    "    ax[row].set_yticks(layer_space)\n",
    "    ax[row].set_yticklabels(['Superficial','Input','Deep'], fontsize = 20) #Only need to do this for first plot\n",
    "\n",
    "    \n",
    "        \n",
    "time_fontsize = 20\n",
    "time_rotation = 45\n",
    "# ax[0].set_title('-30 msec', fontsize = time_fontsize, rotation = time_rotation)\n",
    "# ax[1].set_title('-15 msec', fontsize = time_fontsize, rotation = time_rotation)\n",
    "\n",
    "fig.tight_layout()\n",
    "plt.savefig(\"Figures/DAGs_pgmpy_laminar2_epoch1_{binWidth}ms_bins_{data_type}_lag{lag}.svg\".format(binWidth = binWidth, data_type = data_type, lag = lag))\n",
    "\n",
    "\n"
   ]
  },
  {
   "cell_type": "code",
   "execution_count": null,
   "id": "5d5afe79-12af-429a-b372-821fac6b32de",
   "metadata": {},
   "outputs": [],
   "source": []
  }
 ],
 "metadata": {
  "kernelspec": {
   "display_name": "Python 3 (ipykernel)",
   "language": "python",
   "name": "python3"
  },
  "language_info": {
   "codemirror_mode": {
    "name": "ipython",
    "version": 3
   },
   "file_extension": ".py",
   "mimetype": "text/x-python",
   "name": "python",
   "nbconvert_exporter": "python",
   "pygments_lexer": "ipython3",
   "version": "3.8.6"
  }
 },
 "nbformat": 4,
 "nbformat_minor": 5
}
