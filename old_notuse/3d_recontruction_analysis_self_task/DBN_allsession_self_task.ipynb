{
 "cells": [
  {
   "cell_type": "code",
   "execution_count": 1,
   "id": "f1849ae6",
   "metadata": {},
   "outputs": [],
   "source": [
    "import pandas as pd\n",
    "import numpy as np\n",
    "import matplotlib.pyplot as plt\n",
    "import scipy\n",
    "import string\n",
    "import warnings\n",
    "import pickle\n",
    "from pgmpy.models import BayesianModel\n",
    "from pgmpy.models import DynamicBayesianNetwork as DBN\n",
    "from pgmpy.estimators import BayesianEstimator\n",
    "from pgmpy.estimators import HillClimbSearch,BicScore\n",
    "import networkx as nx"
   ]
  },
  {
   "cell_type": "markdown",
   "id": "71ee0ed4",
   "metadata": {},
   "source": [
    "### function - get body part location for each pair of cameras"
   ]
  },
  {
   "cell_type": "code",
   "execution_count": 2,
   "id": "1724bf8b",
   "metadata": {},
   "outputs": [],
   "source": [
    "def body_part_locs_eachpair(cameraAB_h5_data):\n",
    "    # clean the data first\n",
    "    ncols = cameraAB_h5_data.shape[1]\n",
    "    nframes = cameraAB_h5_data.shape[0]\n",
    "    animal_names = []\n",
    "    body_parts = []\n",
    "    xyz_axis = []\n",
    "\n",
    "    for i in np.arange(0,ncols,1):\n",
    "        animal_names.append(cameraAB_h5_data.columns[i][1])\n",
    "        body_parts.append(cameraAB_h5_data.columns[i][2])\n",
    "        xyz_axis.append(cameraAB_h5_data.columns[i][3])\n",
    "  \n",
    "        # fill in the nan data point\n",
    "        data_point = cameraAB_h5_data.iloc[:,i]\n",
    "        # data_point_filled = data_point.interpolate(method='nearest',limit_direction='both')\n",
    "        # data_point_filled = data_point_filled.interpolate(method='linear',limit_direction='both')\n",
    "        data_point_filled = data_point\n",
    "        \n",
    "        # remove outlier\n",
    "        q1 = np.nanquantile(data_point_filled,0.25)\n",
    "        q3 = np.nanquantile(data_point_filled,0.75)\n",
    "        thres1 = q1 - 1.5*abs(q3-q1)\n",
    "        thres2 = q3 + 1.5*abs(q3-q1)\n",
    "        ind = (data_point_filled>thres2) | (data_point_filled<thres1)\n",
    "        data_point_filled[ind] = np.nan\n",
    "        # data_point_filled = data_point_filled.interpolate(method='nearest',limit_direction='both')\n",
    "        \n",
    "        # smooth the data point   \n",
    "        # data_point_filtered = data_point_filled.rolling(window=5, win_type='gaussian', center=True).mean(std=0.5)\n",
    "        #\n",
    "        cameraAB_h5_data.iloc[:,i] = data_point_filled\n",
    "    \n",
    "    animal_names_unique = pd.unique(animal_names)\n",
    "    body_parts_unique = pd.unique(body_parts)\n",
    "    xyz_axis_unique = pd.unique(xyz_axis)\n",
    "\n",
    "    #\n",
    "    # find the location of each body part\n",
    "    body_part_locs = {}\n",
    "    for iname in animal_names_unique:\n",
    "        for ibody in body_parts_unique:\n",
    "            ind = np.isin(animal_names,iname) & np.isin(body_parts,ibody)\n",
    "            body_part_locs[(iname,ibody)] = cameraAB_h5_data.iloc[:,ind]            \n",
    "            \n",
    "    return body_part_locs"
   ]
  },
  {
   "cell_type": "markdown",
   "id": "d6ae6f98",
   "metadata": {},
   "source": [
    "### function - align the two cameras"
   ]
  },
  {
   "cell_type": "code",
   "execution_count": 3,
   "id": "31b03438",
   "metadata": {},
   "outputs": [],
   "source": [
    "def camera_align(body_part_locs_camera23, body_part_locs_camera12):\n",
    "# try the rotation on all possible pairs\n",
    "    animal_names_unique = pd.unique(pd.DataFrame(body_part_locs_camera23.keys()).iloc[:,0])\n",
    "    body_parts_unique = pd.unique(pd.DataFrame(body_part_locs_camera23.keys()).iloc[:,1])\n",
    "    \n",
    "    RR_sum = {}\n",
    "    tt_sum = {}\n",
    "    err_sum = {}\n",
    "    for iname in animal_names_unique:\n",
    "        for ibody in body_parts_unique:\n",
    "            xxx = body_part_locs_camera23[(iname,ibody)]\n",
    "            yyy = body_part_locs_camera12[(iname,ibody)]\n",
    "            min_length = np.min([xxx.shape[0],yyy.shape[0]])\n",
    "        \n",
    "            xxx = xxx.loc[np.arange(0,min_length,1),:]\n",
    "            yyy = yyy.loc[np.arange(0,min_length,1),:]     \n",
    "        \n",
    "            ind_good = (~np.isnan(xxx.iloc[:,0]) & ~np.isnan(xxx.iloc[:,1]) & ~np.isnan(xxx.iloc[:,2])) & (~np.isnan(yyy.iloc[:,0]) & ~np.isnan(yyy.iloc[:,1]) & ~np.isnan(yyy.iloc[:,2])) \n",
    "            xxx_values = pd.DataFrame.transpose(xxx.loc[ind_good,:]).values\n",
    "            yyy_values = pd.DataFrame.transpose(yyy.loc[ind_good,:]).values\n",
    "        \n",
    "            xxx_centroid = np.dot(np.mean(xxx_values,axis = 1).reshape(3,1), np.ones((1,np.shape(xxx_values)[1])))\n",
    "            yyy_centroid = np.dot(np.mean(yyy_values,axis = 1).reshape(3,1), np.ones((1,np.shape(xxx_values)[1])))\n",
    "            HH = np.dot((xxx_values - xxx_centroid), np.transpose(yyy_values - yyy_centroid))\n",
    "            u, s, vh = np.linalg.svd(HH, full_matrices=True)\n",
    "            RR = np.dot(np.transpose(vh),np.transpose(u))\n",
    "            tt= yyy_centroid - np.dot(RR,xxx_centroid)\n",
    "            tt = tt[:,1].reshape(3,1)\n",
    "        \n",
    "            RR_sum[(iname,ibody)] = RR\n",
    "            tt_sum[(iname,ibody)] = tt\n",
    "            err_sum[(iname,ibody)] = np.sum(np.square(yyy_values - (np.dot(RR,xxx_values)+np.dot(tt, np.ones((1,np.shape(xxx_values)[1]))))))\n",
    "    \n",
    "    return RR_sum, tt_sum, err_sum"
   ]
  },
  {
   "cell_type": "markdown",
   "id": "494356c2",
   "metadata": {},
   "source": [
    "### function - merge the two pairs of cameras"
   ]
  },
  {
   "cell_type": "code",
   "execution_count": 4,
   "id": "3bda6cfa",
   "metadata": {},
   "outputs": [],
   "source": [
    "def camera_merge(body_part_locs_camera23, body_part_locs_camera12, RR_sum, tt_sum, err_sum):\n",
    "# merge the two pairs of cameras\n",
    "    animal_names_unique = pd.unique(pd.DataFrame(body_part_locs_camera23.keys()).iloc[:,0])\n",
    "    body_parts_unique = pd.unique(pd.DataFrame(body_part_locs_camera23.keys()).iloc[:,1])\n",
    "    \n",
    "    body_part_locs_merge = {}\n",
    "    for iname in animal_names_unique:\n",
    "        for ibody in body_parts_unique:\n",
    "            xxx = body_part_locs_camera23[(iname,ibody)]\n",
    "            yyy = body_part_locs_camera12[(iname,ibody)]\n",
    "            min_length = np.min([xxx.shape[0],yyy.shape[0]])\n",
    "            \n",
    "            ## transpose the two pair of cameras\n",
    "        \n",
    "            # RR = RR_sum[min(err_sum, key=err_sum.get)]\n",
    "            # tt = tt_sum[min(err_sum, key=err_sum.get)]\n",
    "            RR = RR_sum[(iname,ibody)]\n",
    "            tt = tt_sum[(iname,ibody)]\n",
    "            body_part_x = np.transpose(xxx.loc[np.arange(0,min_length,1),:])\n",
    "            body_part_project = np.transpose(np.dot(RR,body_part_x) + np.dot(tt, np.ones((1,np.shape(body_part_x)[1]))))\n",
    "            body_part_origin = yyy.loc[np.arange(0,min_length,1),:].values\n",
    "            body_part_origin[np.sum(np.isnan(body_part_origin),axis=1)>0,:] = body_part_project[np.sum(np.isnan(body_part_origin),axis=1)>0,:]\n",
    "            #\n",
    "            # body_part_locs_merge[(iname,ibody)] = body_part_origin\n",
    "    \n",
    "            ## average across the two pair of cameras\n",
    "            body_part_locs_merge[(iname,ibody)] = pd.concat([xxx, yyy]).groupby(level=0).mean()\n",
    "            \n",
    "                       \n",
    "    \n",
    "    return body_part_locs_merge"
   ]
  },
  {
   "cell_type": "markdown",
   "id": "34fc78e9",
   "metadata": {},
   "source": [
    "### function - make demo videos for the body part tracking"
   ]
  },
  {
   "cell_type": "code",
   "execution_count": 5,
   "id": "362c2dcb",
   "metadata": {},
   "outputs": [],
   "source": [
    "def tracking_video_demo(camera23_analyzed_path, body_part_locs, nframes):\n",
    "\n",
    "    import matplotlib.animation as animation\n",
    "\n",
    "    # Settings\n",
    "    video_file = camera23_analyzed_path + \"camera12_23_merged_tracking_demo.mp4\"\n",
    "    clear_frames = True     # Should it clear the figure between each frame?\n",
    "    fps = 30\n",
    "\n",
    "    # Output video writer\n",
    "    FFMpegWriter = animation.writers['ffmpeg']\n",
    "    metadata = dict(title='Animal tracking demo', artist='Matplotlib', comment='')\n",
    "    writer = FFMpegWriter(fps=fps, metadata=metadata)\n",
    "\n",
    "    animal_names_unique = pd.unique(pd.DataFrame(body_part_locs.keys()).iloc[:,0])\n",
    "    body_parts_unique = pd.unique(pd.DataFrame(body_part_locs.keys()).iloc[:,1])\n",
    "    nanimals = np.shape(animal_names_unique)[0]  \n",
    "    nbodyparts = np.shape(body_parts_unique)[0]\n",
    "\n",
    "    # axislim = [np.nanmin(list(body_part_locs.values())), np.nanmax(list(body_part_locs.values()))]\n",
    "    axislim = [-10,10]\n",
    "    \n",
    "    fig = plt.figure(figsize = (5,5))\n",
    "    ax = plt.axes(projection='3d')\n",
    "    ax.set_xlim(axislim)\n",
    "    ax.set_ylim(axislim)\n",
    "    ax.set_zlim(axislim)\n",
    "    \n",
    "    with writer.saving(fig, video_file, 100):\n",
    "        for iframe in np.arange(0,nframes,1):    \n",
    "            if clear_frames:\n",
    "                fig.clear()\n",
    "                ax = plt.axes(projection='3d')\n",
    "                ax.set_xlim(axislim)\n",
    "                ax.set_ylim(axislim)\n",
    "                ax.set_zlim(axislim)\n",
    "            \n",
    "            for ianimal_name in animal_names_unique:    \n",
    "                bodypart_loc_iframe = np.zeros((nbodyparts,3))\n",
    "        \n",
    "                for ibdpart in np.arange(0,nbodyparts,1):           \n",
    "\n",
    "                    ibdpart_name = body_parts_unique[ibdpart]\n",
    "                    bodypart_loc_iframe[ibdpart,:] = np.array(body_part_locs[(ianimal_name,ibdpart_name)])[iframe,:]\n",
    "            \n",
    "                # plot the body parts\n",
    "                ax.plot3D(bodypart_loc_iframe[:,0], bodypart_loc_iframe[:,1], bodypart_loc_iframe[:,2],'.')\n",
    "            writer.grab_frame()"
   ]
  },
  {
   "cell_type": "markdown",
   "id": "23dc7f6a",
   "metadata": {},
   "source": [
    "### function - find social gaze time point"
   ]
  },
  {
   "cell_type": "code",
   "execution_count": 6,
   "id": "71f6ec00",
   "metadata": {},
   "outputs": [],
   "source": [
    "def find_socialgaze_timepoint(body_part_locs_camera23, body_part_locs_camera12, body_part_locs_merge, angle_thres):\n",
    "    \n",
    "    animal_names_unique = pd.unique(pd.DataFrame(body_part_locs_camera23.keys()).iloc[:,0])\n",
    "    body_parts_unique = pd.unique(pd.DataFrame(body_part_locs_camera23.keys()).iloc[:,1])\n",
    "    min_length = np.min([list(body_part_locs_camera23.values())[0].shape[0],list(body_part_locs_camera12.values())[0].shape[0]])\n",
    "\n",
    "    warnings.filterwarnings('ignore')\n",
    "    eye_direction_merge = {}\n",
    "    eye_contact_or_not_merge = {}\n",
    "    look_at_face_or_not_merge = {}\n",
    "    \n",
    "    for iname in animal_names_unique:\n",
    "        eye_dir_frames = []\n",
    "        eye_contact_frames = []\n",
    "        look_at_face_frames = []\n",
    "        \n",
    "        for iframe in np.arange(0,min_length,1):\n",
    "            lefteye_loc = np.array(body_part_locs_merge[(iname,'leftEye')])[iframe,:]\n",
    "            righteye_loc = np.array(body_part_locs_merge[(iname,'rightEye')])[iframe,:]\n",
    "            lefttuft_loc = np.array(body_part_locs_merge[(iname,'leftTuft')])[iframe,:]\n",
    "            righttuft_loc = np.array(body_part_locs_merge[(iname,'rightTuft')])[iframe,:]\n",
    "            whiblz_loc = np.array(body_part_locs_merge[(iname,'whiteBlaze')])[iframe,:]\n",
    "            mouth_loc = np.array(body_part_locs_merge[(iname,'mouth')])[iframe,:]\n",
    "        \n",
    "            Vect1 = lefteye_loc - righteye_loc\n",
    "            Vect2 = whiblz_loc - mouth_loc\n",
    "            Vect3 = lefttuft_loc - lefteye_loc\n",
    "            Vect4 = righttuft_loc - righteye_loc\n",
    "        \n",
    "            try:       \n",
    "                Vect1 = Vect1 / scipy.linalg.norm(Vect1)\n",
    "                Vect2 = Vect2 / scipy.linalg.norm(Vect2) \n",
    "            except:\n",
    "                Vect1 = Vect1\n",
    "                Vect2 = Vect2\n",
    "            eyesight_dir = np.cross(Vect1, Vect2)\n",
    "        \n",
    "            if ((np.dot(eyesight_dir, Vect3)>0) | (np.dot(eyesight_dir, Vect4)>0)):\n",
    "                eyesight_dir = -eyesight_dir\n",
    "        \n",
    "            eye_dir_frames.append(eyesight_dir)      \n",
    "        \n",
    "            # examine whether this animal is looking at the other's eyes or face\n",
    "            if (iname == animal_names_unique[0]): \n",
    "                iname_other = animal_names_unique[1]\n",
    "            elif (iname == animal_names_unique[1]): \n",
    "                iname_other = animal_names_unique[0]\n",
    "            \n",
    "            lefteye_loc_other = np.array(body_part_locs_merge[(iname_other,'leftEye')])[iframe,:]\n",
    "            righteye_loc_other = np.array(body_part_locs_merge[(iname_other,'rightEye')])[iframe,:]\n",
    "            lefttuft_loc_other = np.array(body_part_locs_merge[(iname_other,'leftTuft')])[iframe,:]\n",
    "            righttuft_loc_other = np.array(body_part_locs_merge[(iname_other,'rightTuft')])[iframe,:]\n",
    "            whiblz_loc_other = np.array(body_part_locs_merge[(iname_other,'whiteBlaze')])[iframe,:]\n",
    "            mouth_loc_other = np.array(body_part_locs_merge[(iname_other,'mouth')])[iframe,:]\n",
    "        \n",
    "            # where left eye is looking\n",
    "            # vector between body part\n",
    "            vect1_lefteye = lefteye_loc_other - lefteye_loc\n",
    "            vect2_lefteye = righteye_loc_other - lefteye_loc\n",
    "            vect3_lefteye = lefttuft_loc_other - lefteye_loc\n",
    "            vect4_lefteye = righttuft_loc_other - lefteye_loc\n",
    "            vect5_lefteye = whiblz_loc_other - lefteye_loc\n",
    "            vect6_lefteye = mouth_loc_other - lefteye_loc\n",
    "            # angle between body part vector and eyesight direction\n",
    "            angle1_lefteye =  np.sign(np.dot(eyesight_dir,vect1_lefteye))*np.arccos(np.clip(np.dot(eyesight_dir/np.linalg.norm(eyesight_dir), vect1_lefteye/np.linalg.norm(vect1_lefteye)), -1.0, 1.0))       \n",
    "            angle2_lefteye =  np.sign(np.dot(eyesight_dir,vect2_lefteye))*np.arccos(np.clip(np.dot(eyesight_dir/np.linalg.norm(eyesight_dir), vect2_lefteye/np.linalg.norm(vect2_lefteye)), -1.0, 1.0))\n",
    "            angle3_lefteye =  np.sign(np.dot(eyesight_dir,vect3_lefteye))*np.arccos(np.clip(np.dot(eyesight_dir/np.linalg.norm(eyesight_dir), vect3_lefteye/np.linalg.norm(vect3_lefteye)), -1.0, 1.0))\n",
    "            angle4_lefteye =  np.sign(np.dot(eyesight_dir,vect4_lefteye))*np.arccos(np.clip(np.dot(eyesight_dir/np.linalg.norm(eyesight_dir), vect4_lefteye/np.linalg.norm(vect4_lefteye)), -1.0, 1.0))\n",
    "            angle5_lefteye =  np.sign(np.dot(eyesight_dir,vect5_lefteye))*np.arccos(np.clip(np.dot(eyesight_dir/np.linalg.norm(eyesight_dir), vect5_lefteye/np.linalg.norm(vect5_lefteye)), -1.0, 1.0))\n",
    "            angle6_lefteye =  np.sign(np.dot(eyesight_dir,vect6_lefteye))*np.arccos(np.clip(np.dot(eyesight_dir/np.linalg.norm(eyesight_dir), vect6_lefteye/np.linalg.norm(vect6_lefteye)), -1.0, 1.0))\n",
    "        \n",
    "            # where right eye is looking\n",
    "            # vector between body part\n",
    "            vect1_righteye = lefteye_loc_other - righteye_loc\n",
    "            vect2_righteye = righteye_loc_other - righteye_loc\n",
    "            vect3_righteye = lefttuft_loc_other - righteye_loc\n",
    "            vect4_righteye = righttuft_loc_other - righteye_loc\n",
    "            vect5_righteye = whiblz_loc_other - righteye_loc\n",
    "            vect6_righteye = mouth_loc_other - righteye_loc\n",
    "            # angle between body part vector and eyesight direction\n",
    "            angle1_righteye =  np.sign(np.dot(eyesight_dir,vect1_righteye))*np.arccos(np.clip(np.dot(eyesight_dir/np.linalg.norm(eyesight_dir), vect1_righteye/np.linalg.norm(vect1_righteye)), -1.0, 1.0))       \n",
    "            angle2_righteye =  np.sign(np.dot(eyesight_dir,vect2_righteye))*np.arccos(np.clip(np.dot(eyesight_dir/np.linalg.norm(eyesight_dir), vect2_righteye/np.linalg.norm(vect2_righteye)), -1.0, 1.0))\n",
    "            angle3_righteye =  np.sign(np.dot(eyesight_dir,vect3_righteye))*np.arccos(np.clip(np.dot(eyesight_dir/np.linalg.norm(eyesight_dir), vect3_righteye/np.linalg.norm(vect3_righteye)), -1.0, 1.0))\n",
    "            angle4_righteye =  np.sign(np.dot(eyesight_dir,vect4_righteye))*np.arccos(np.clip(np.dot(eyesight_dir/np.linalg.norm(eyesight_dir), vect4_righteye/np.linalg.norm(vect4_righteye)), -1.0, 1.0))\n",
    "            angle5_righteye =  np.sign(np.dot(eyesight_dir,vect5_righteye))*np.arccos(np.clip(np.dot(eyesight_dir/np.linalg.norm(eyesight_dir), vect5_righteye/np.linalg.norm(vect5_righteye)), -1.0, 1.0))\n",
    "            angle6_righteye =  np.sign(np.dot(eyesight_dir,vect6_righteye))*np.arccos(np.clip(np.dot(eyesight_dir/np.linalg.norm(eyesight_dir), vect6_righteye/np.linalg.norm(vect6_righteye)), -1.0, 1.0))\n",
    "        \n",
    "            lefteye_contact_thres = ((angle1_lefteye>0)&(angle1_lefteye<angle_thres))|((angle2_lefteye>0)&(angle2_lefteye<angle_thres))\n",
    "            lefteye_lookface_thres = ((angle3_lefteye>0)&(angle3_lefteye<angle_thres))|((angle4_lefteye>0)&(angle4_lefteye<angle_thres))|((angle5_lefteye>0)&(angle5_lefteye<angle_thres))|((angle6_lefteye>0)&(angle6_lefteye<angle_thres))\n",
    "            righteye_contact_thres = ((angle1_righteye>0)&(angle1_righteye<angle_thres))|((angle2_righteye>0)&(angle2_righteye<angle_thres))\n",
    "            righteye_lookface_thres = ((angle3_righteye>0)&(angle3_righteye<angle_thres))|((angle4_righteye>0)&(angle4_righteye<angle_thres))|((angle5_righteye>0)&(angle5_righteye<angle_thres))|((angle6_righteye>0)&(angle6_righteye<angle_thres))\n",
    "        \n",
    "            eye_contact_frames.append(np.int(lefteye_contact_thres|righteye_contact_thres))\n",
    "            look_at_face_frames.append(np.int(lefteye_contact_thres|righteye_contact_thres|lefteye_lookface_thres|righteye_lookface_thres))\n",
    "        \n",
    "        # save to the summarized data\n",
    "        eye_direction_merge[(iname)] = eye_dir_frames\n",
    "        eye_contact_or_not_merge[(iname)] = eye_contact_frames\n",
    "        look_at_face_or_not_merge[(iname)] = look_at_face_frames\n",
    "        \n",
    "    return eye_direction_merge, eye_contact_or_not_merge, look_at_face_or_not_merge\n",
    "        "
   ]
  },
  {
   "cell_type": "markdown",
   "id": "0dd7e75b",
   "metadata": {},
   "source": [
    "### Define time point of behavioral events"
   ]
  },
  {
   "cell_type": "code",
   "execution_count": 7,
   "id": "1dfb672f",
   "metadata": {},
   "outputs": [],
   "source": [
    "def bhv_events_timepoint(bhv_data, eye_direction_merge, eye_contact_or_not_merge, look_at_face_or_not_merge):\n",
    "    time_point_pull1 = bhv_data[\"time_points\"][bhv_data[\"behavior_events\"]==1]\n",
    "    time_point_pull2 = bhv_data[\"time_points\"][bhv_data[\"behavior_events\"]==2]\n",
    "    ind_lookatotherface1 = np.where(np.array(look_at_face_or_not_merge[animal1])==1)\n",
    "    time_point_lookatotherface1 = look_at_face_or_not_merge[\"time_in_second\"][ind_lookatotherface1]\n",
    "    ind_lookatotherface2 = np.where(np.array(look_at_face_or_not_merge[animal2])==1)\n",
    "    time_point_lookatotherface2 = look_at_face_or_not_merge[\"time_in_second\"][ind_lookatotherface2]\n",
    "\n",
    "    ind_eyecontact1 = np.where(np.array(eye_contact_or_not_merge[animal1])==1)\n",
    "    time_point_eyecontact1 = eye_contact_or_not_merge[\"time_in_second\"][ind_eyecontact1]\n",
    "    ind_eyecontact2 = np.where(np.array(eye_contact_or_not_merge[animal2])==1)\n",
    "    time_point_eyecontact2 = eye_contact_or_not_merge[\"time_in_second\"][ind_eyecontact2]\n",
    "\n",
    "    # calculate the oneway gaze or mutual gaze\n",
    "    animal1_gaze = np.round(np.concatenate((time_point_eyecontact1,time_point_lookatotherface1)),1)\n",
    "    animal1_gaze = np.unique(np.sort(animal1_gaze))\n",
    "    animal2_gaze = np.round(np.concatenate((time_point_eyecontact2,time_point_lookatotherface2)),1)\n",
    "    animal2_gaze = np.unique(np.sort(animal2_gaze))\n",
    "\n",
    "    ngaze1 = len(animal1_gaze)\n",
    "    ngaze2 = len(animal2_gaze)\n",
    "    oneway_gaze1 = []\n",
    "    oneway_gaze2 = []\n",
    "    mutual_gaze1 = []\n",
    "    mutual_gaze2 = []\n",
    "    # \n",
    "    for igaze1 in np.arange(0, ngaze1, 1):\n",
    "        for igaze2 in np.arange(0,ngaze2,1):\n",
    "            if abs(animal1_gaze[igaze1]-animal2_gaze[igaze2])<1:\n",
    "                mutual_gaze1.append(animal1_gaze[igaze1])\n",
    "                mutual_gaze2.append(animal2_gaze[igaze2])\n",
    "    mutual_gaze1 = np.unique(mutual_gaze1)   \n",
    "    mutual_gaze2 = np.unique(mutual_gaze2)\n",
    "    oneway_gaze1 = animal1_gaze[~np.isin(animal1_gaze,mutual_gaze1)]\n",
    "    oneway_gaze2 = animal2_gaze[~np.isin(animal2_gaze,mutual_gaze2)]\n",
    "    \n",
    "    time_point_pull1 = np.round(time_point_pull1,2)\n",
    "    time_point_pull2 = np.round(time_point_pull2,2)\n",
    "    \n",
    "    return time_point_pull1, time_point_pull2, oneway_gaze1, oneway_gaze2, mutual_gaze1, mutual_gaze2"
   ]
  },
  {
   "cell_type": "markdown",
   "id": "0ef4ab8c",
   "metadata": {},
   "source": [
    "### plot behavioral events"
   ]
  },
  {
   "cell_type": "code",
   "execution_count": 8,
   "id": "eb2ba678",
   "metadata": {},
   "outputs": [],
   "source": [
    "def plot_bhv_events(animal1, animal2, session_start_time, time_point_pull1, time_point_pull2, oneway_gaze1, oneway_gaze2, mutual_gaze1, mutual_gaze2):\n",
    "    fig, axs = plt.subplots(2,1)\n",
    "    fig.set_figheight(5)\n",
    "    fig.set_figwidth(25)\n",
    "    # plot for animal 1\n",
    "    ind_plot = time_point_pull1 < (720 - session_start_time)\n",
    "    #for itime in np.arange(0,720,1):\n",
    "    #    plt.plot([itime,itime],[0,1],linewidth = 2.0,color=(0.5,0.5,0.5))\n",
    "    for itime in time_point_pull1[ind_plot]:\n",
    "        line1, = axs[0].plot([itime,itime],[0,1],linewidth = 2.0,color=(0.0,0.5,0.5),label = 'lever pull')\n",
    "    try:\n",
    "        for itime in oneway_gaze1:\n",
    "            line2, = axs[0].plot([itime,itime],[0,1],linewidth = 2.0,color=(0.5,0.0,0.5),label = 'one-way gaze')  \n",
    "    except:\n",
    "        print(\"no oneway gaze\")\n",
    "    try:\n",
    "        for itime in mutual_gaze1:\n",
    "            line3, = axs[0].plot([itime,itime],[0,1],linewidth = 2.0,color=(0.5,0.5,0.0),label = 'mutual gaze')  \n",
    "    except:\n",
    "        print(\"no mutual gaze\")\n",
    "    axs[0].set_title(animal1,fontsize = 18)\n",
    "    axs[0].set_xlim([-10,700])\n",
    "    axs[0].set_xlabel(\"\")\n",
    "    axs[0].set_xticklabels(\"\")\n",
    "    axs[0].set_yticklabels(\"\")\n",
    "    try:\n",
    "        axs[0].legend(handles=[line1,line2,line3], fontsize = 13)\n",
    "    except:\n",
    "        try: \n",
    "            axs[0].legend(handles=[line1,line2], fontsize = 13)\n",
    "        except:\n",
    "            axs[0].legend(handles=[line1], fontsize = 13)    \n",
    "\n",
    "    # plot for animal 2\n",
    "    ind_plot = time_point_pull2 < (720 - session_start_time)\n",
    "    #for itime in np.arange(0,720,1):\n",
    "    #    plt.plot([itime,itime],[0,1],linewidth = 2.0,color=(0.5,0.5,0.5))\n",
    "    for itime in time_point_pull2[ind_plot]:\n",
    "        line1, = axs[1].plot([itime,itime],[0,1],linewidth = 2.0,color=(0.0,0.5,0.5))\n",
    "    try:\n",
    "        for itime in oneway_gaze2:\n",
    "            line2, = axs[1].plot([itime,itime],[0,1],linewidth = 2.0,color=(0.5,0.0,0.5))    \n",
    "    except:\n",
    "        print(\"no oneway gaze\")\n",
    "    try:\n",
    "        for itime in mutual_gaze2:\n",
    "            line3, = axs[1].plot([itime,itime],[0,1],linewidth = 2.0,color=(0.5,0.5,0.0))    \n",
    "    except:\n",
    "        print(\"no mutual gaze\")\n",
    "    axs[1].set_title(animal2,fontsize = 18)\n",
    "    axs[1].set_xlim([-10,700])\n",
    "    axs[1].set_xlabel(\"time/s\",fontsize = 19)\n",
    "    axs[1].set_yticklabels(\"\")\n",
    "    axs[1].tick_params(labelsize = 15)\n"
   ]
  },
  {
   "cell_type": "markdown",
   "id": "1f9c724b",
   "metadata": {},
   "source": [
    "### plot inter-pull interval"
   ]
  },
  {
   "cell_type": "code",
   "execution_count": 9,
   "id": "9327925b",
   "metadata": {},
   "outputs": [],
   "source": [
    "def plot_interpull_interval(animal1, animal2, time_point_pull1, time_point_pull2):\n",
    "    time_point_pull1_n0 = time_point_pull1.reset_index(drop = True)[0:time_point_pull1.shape[0]-1]\n",
    "    time_point_pull1_n1 = time_point_pull1.reset_index(drop = True)[1:time_point_pull1.shape[0]]\n",
    "    time_point_pull2_n0 = time_point_pull2.reset_index(drop = True)[0:time_point_pull2.shape[0]-1]\n",
    "    time_point_pull2_n1 = time_point_pull2.reset_index(drop = True)[1:time_point_pull2.shape[0]]\n",
    "    ipi_1 = time_point_pull1_n1.reset_index(drop = True) - time_point_pull1_n0.reset_index(drop = True)\n",
    "    ipi_2 = time_point_pull2_n1.reset_index(drop = True) - time_point_pull2_n0.reset_index(drop = True)\n",
    "    #\n",
    "    fig2, axs2 = plt.subplots(1,2)\n",
    "    fig2.set_figheight(5)\n",
    "    fig2.set_figwidth(20)\n",
    "    axs2[0].hist(ipi_1, alpha=0.5, bins=np.arange(0,25,1))\n",
    "    axs2[0].set_title(animal1)\n",
    "    axs2[1].hist(ipi_2, alpha=0.5, bins=np.arange(0,25,1))\n",
    "    axs2[1].set_title(animal2)\n",
    "    print('animal1 median',int(np.median(ipi_1)),'s')\n",
    "    print('animal2 median',int(np.median(ipi_2)),'s')"
   ]
  },
  {
   "cell_type": "markdown",
   "id": "69920a6a",
   "metadata": {},
   "source": [
    "### interval between all behavioral events"
   ]
  },
  {
   "cell_type": "code",
   "execution_count": 10,
   "id": "a804dbc6",
   "metadata": {},
   "outputs": [],
   "source": [
    "def bhv_events_interval(totalsess_time, time_point_pull1, time_point_pull2, oneway_gaze1, oneway_gaze2, mutual_gaze1, mutual_gaze2):\n",
    "    #\n",
    "    total_time = int((totalsess_time - session_start_time))\n",
    "    time_point_pull1_round = time_point_pull1.reset_index(drop = True)\n",
    "    time_point_pull1_round = time_point_pull1_round[time_point_pull1_round<total_time]\n",
    "    time_point_pull2_round  = time_point_pull2.reset_index(drop = True)\n",
    "    time_point_pull2_round = time_point_pull2_round[time_point_pull2_round<total_time]\n",
    "    time_point_onewaygaze1_round = pd.Series(oneway_gaze1).reset_index(drop = True)\n",
    "    time_point_onewaygaze2_round = pd.Series(oneway_gaze2).reset_index(drop = True)\n",
    "    time_point_mutualgaze1_round = pd.Series(mutual_gaze1).reset_index(drop = True)\n",
    "    time_point_mutualgaze2_round = pd.Series(mutual_gaze2).reset_index(drop = True)\n",
    "    time_point_onewaygaze1_round = time_point_onewaygaze1_round[(time_point_onewaygaze1_round>0)&(time_point_onewaygaze1_round<total_time)]\n",
    "    time_point_onewaygaze2_round = time_point_onewaygaze2_round[(time_point_onewaygaze2_round>0)&(time_point_onewaygaze2_round<total_time)]\n",
    "    time_point_mutualgaze1_round = time_point_mutualgaze1_round[(time_point_mutualgaze1_round>0)&(time_point_mutualgaze1_round<total_time)]\n",
    "    time_point_mutualgaze2_round = time_point_mutualgaze2_round[(time_point_mutualgaze2_round>0)&(time_point_mutualgaze2_round<total_time)]\n",
    "    #     \n",
    "    time_point_bhv_events = time_point_pull1_round\n",
    "    time_point_bhv_events = time_point_bhv_events.append(time_point_pull2_round)\n",
    "    time_point_bhv_events = time_point_bhv_events.append(time_point_mutualgaze1_round)\n",
    "    time_point_bhv_events = time_point_bhv_events.append(time_point_mutualgaze2_round)\n",
    "    time_point_bhv_events = time_point_bhv_events.append(time_point_onewaygaze1_round)\n",
    "    time_point_bhv_events = time_point_bhv_events.append(time_point_onewaygaze2_round)\n",
    "\n",
    "    time_point_bhv_events = time_point_bhv_events.reset_index(drop=True)\n",
    "    time_point_bhv_events = np.sort(time_point_bhv_events)\n",
    "    nevents = np.shape(time_point_bhv_events)[0]\n",
    "    bhv_events_interval = time_point_bhv_events[1:nevents]-time_point_bhv_events[0:nevents-1]\n",
    "\n",
    "    Q1 = np.quantile(bhv_events_interval,0.25)\n",
    "    Q2 = np.quantile(bhv_events_interval,0.5)\n",
    "    Q3 = np.quantile(bhv_events_interval,0.75)\n",
    "    low_lim = Q1 - 1.5 * (Q3-Q1)\n",
    "    up_lim = Q3 + 1.5 * (Q3-Q1)\n",
    "\n",
    "    if low_lim < 0.5:\n",
    "        low_lim = 0.5\n",
    "    if up_lim < 1:\n",
    "        up_lim = np.max(bhv_events_interval)/2\n",
    "    low_lim = np.round(low_lim*2)/2\n",
    "    up_lim = np.round(up_lim*2)/2\n",
    "    \n",
    "    return low_lim, up_lim"
   ]
  },
  {
   "cell_type": "markdown",
   "id": "e8ac4ea0",
   "metadata": {},
   "source": [
    "### train the dynamic bayesian network"
   ]
  },
  {
   "cell_type": "code",
   "execution_count": 11,
   "id": "037084bb",
   "metadata": {},
   "outputs": [],
   "source": [
    "def train_DBN(totalsess_time, temp_resolu, time_point_pull1, time_point_pull2, oneway_gaze1, oneway_gaze2, mutual_gaze1, mutual_gaze2):\n",
    "# temp_resolu: temporal resolution, the time different between each step\n",
    "# e.g. temp_resolu = 0.5s, each step is 0.5s\n",
    "    total_time = int((totalsess_time - session_start_time)/temp_resolu)\n",
    "    time_point_pull1_round = np.floor(time_point_pull1/temp_resolu).reset_index(drop = True).astype(int)\n",
    "    time_point_pull1_round = time_point_pull1_round[time_point_pull1_round<total_time]\n",
    "    time_point_pull2_round  = np.floor(time_point_pull2/temp_resolu).reset_index(drop = True).astype(int)\n",
    "    time_point_pull2_round = time_point_pull2_round[time_point_pull2_round<total_time]\n",
    "    time_point_onewaygaze1_round = np.floor(pd.Series(oneway_gaze1)/temp_resolu).reset_index(drop = True).astype(int)\n",
    "    time_point_onewaygaze2_round = np.floor(pd.Series(oneway_gaze2)/temp_resolu).reset_index(drop = True).astype(int)\n",
    "    time_point_mutualgaze1_round = np.floor(pd.Series(mutual_gaze1)/temp_resolu).reset_index(drop = True).astype(int)\n",
    "    time_point_mutualgaze2_round = np.floor(pd.Series(mutual_gaze2)/temp_resolu).reset_index(drop = True).astype(int)\n",
    "    time_point_onewaygaze1_round = time_point_onewaygaze1_round[(time_point_onewaygaze1_round>0)&(time_point_onewaygaze1_round<total_time)]\n",
    "    time_point_onewaygaze2_round = time_point_onewaygaze2_round[(time_point_onewaygaze2_round>0)&(time_point_onewaygaze2_round<total_time)]\n",
    "    time_point_mutualgaze1_round = time_point_mutualgaze1_round[(time_point_mutualgaze1_round>0)&(time_point_mutualgaze1_round<total_time)]\n",
    "    time_point_mutualgaze2_round = time_point_mutualgaze2_round[(time_point_mutualgaze2_round>0)&(time_point_mutualgaze2_round<total_time)]\n",
    "    # t0\n",
    "    pull1_t0 = np.zeros((total_time+1,1))\n",
    "    pull1_t0[np.array(time_point_pull1_round)] = 1\n",
    "    pull2_t0 = np.zeros((total_time+1,1))\n",
    "    pull2_t0[np.array(time_point_pull2_round)] = 1\n",
    "    owgaze1_t0 = np.zeros((total_time+1,1))\n",
    "    owgaze1_t0[np.array(time_point_onewaygaze1_round)] = 1\n",
    "    owgaze2_t0 = np.zeros((total_time+1,1))\n",
    "    owgaze2_t0[np.array(time_point_onewaygaze2_round)] = 1\n",
    "    mtgaze1_t0 = np.zeros((total_time+1,1))\n",
    "    mtgaze1_t0[np.array(time_point_mutualgaze1_round)] = 1\n",
    "    mtgaze2_t0 = np.zeros((total_time+1,1))\n",
    "    mtgaze2_t0[np.array(time_point_mutualgaze2_round)] = 1\n",
    "    # t1\n",
    "    pull1_t1 = np.zeros((total_time+1,1))\n",
    "    pull1_t1[np.array(time_point_pull1_round)+1] = 1\n",
    "    pull2_t1 = np.zeros((total_time+1,1))\n",
    "    pull2_t1[np.array(time_point_pull2_round)+1] = 1\n",
    "    owgaze1_t1 = np.zeros((total_time+1,1))\n",
    "    owgaze1_t1[np.array(time_point_onewaygaze1_round)+1] = 1\n",
    "    owgaze2_t1 = np.zeros((total_time+1,1))\n",
    "    owgaze2_t1[np.array(time_point_onewaygaze2_round)+1] = 1\n",
    "    mtgaze1_t1 = np.zeros((total_time+1,1))\n",
    "    mtgaze1_t1[np.array(time_point_mutualgaze1_round)+1] = 1\n",
    "    mtgaze2_t1 = np.zeros((total_time+1,1))\n",
    "    mtgaze2_t1[np.array(time_point_mutualgaze2_round)+1] = 1\n",
    "    ## create dataframe\n",
    "    # data = np.concatenate((pull1_t0,pull2_t0,owgaze1_t0,owgaze2_t0,mtgaze1_t0,mtgaze2_t0,pull1_t1,pull2_t1,owgaze1_t1,owgaze2_t1,mtgaze1_t1,mtgaze2_t1),axis = 1)\n",
    "    # colnames = [(\"pull1\",0),(\"pull2\",0),(\"owgaze1\",0),(\"owgaze2\",0),(\"mtgaze1\",0),(\"mtgaze2\",0),(\"pull1\",1),(\"pull2\",1),(\"owgaze1\",1),(\"owgaze2\",1),(\"mtgaze1\",1),(\"mtgaze2\",1)]\n",
    "    # df = pd.DataFrame(data, columns=colnames)\n",
    "    data = np.concatenate((pull1_t0,pull2_t0,owgaze1_t0,owgaze2_t0,pull1_t1,pull2_t1,owgaze1_t1,owgaze2_t1),axis = 1)\n",
    "    colnames = [(\"pull1\",0),(\"pull2\",0),(\"owgaze1\",0),(\"owgaze2\",0),(\"pull1\",1),(\"pull2\",1),(\"owgaze1\",1),(\"owgaze2\",1)]\n",
    "    df = pd.DataFrame(data, columns=colnames)\n",
    "\n",
    "    ## built the model structure\n",
    "    # model = DBN(\n",
    "    #    [\n",
    "    #        ((\"owgaze1\",0), (\"pull1\",1)),\n",
    "    #        ((\"owgaze1\",0), (\"mtgaze1\",1)),\n",
    "    #        ((\"mtgaze1\",0), (\"pull1\",1)),\n",
    "    #        ((\"pull1\",0), (\"owgaze1\",1)),\n",
    "    #        ((\"owgaze2\",0), (\"pull2\",1)),\n",
    "    #        ((\"owgaze2\",0), (\"mtgaze2\",1)),\n",
    "    #        ((\"mtgaze2\",0), (\"pull2\",1)),\n",
    "    #        ((\"pull2\",0), (\"owgaze2\",1)),\n",
    "    #    ]\n",
    "    # )\n",
    "    model = DBN(\n",
    "        [\n",
    "            ((\"owgaze1\",0), (\"pull1\",1)),\n",
    "            ((\"pull1\",0), (\"owgaze1\",1)),\n",
    "            ((\"owgaze2\",0), (\"pull2\",1)),\n",
    "            ((\"pull2\",0), (\"owgaze2\",1)),\n",
    "        ]\n",
    "    )\n",
    "    model.fit(df)\n",
    "    \n",
    "    return model"
   ]
  },
  {
   "cell_type": "markdown",
   "id": "424c0b97",
   "metadata": {},
   "source": [
    "### train the dynamic bayesian network - Alec's methods"
   ]
  },
  {
   "cell_type": "code",
   "execution_count": 12,
   "id": "1840a5f9",
   "metadata": {},
   "outputs": [],
   "source": [
    "def graph_to_matrix(edges,nevents,eventnames):\n",
    "\n",
    "    output_matrix = np.zeros((nevents,nevents)) \n",
    "    \n",
    "    column = 0\n",
    "    for from_layer in np.arange(0,nevents,1):\n",
    "        row = 0\n",
    "        #Loop through the receiving nodes (the last timeslice of each population)\n",
    "        for to_layer in np.arange(0,nevents,1): \n",
    "            from_pop = eventnames[from_layer]+'_t0'\n",
    "            to_pop = eventnames[to_layer]+'_t1'\n",
    "\n",
    "            if (from_pop, to_pop) in edges:\n",
    "                output_matrix[row,column] = 1\n",
    "            else:\n",
    "                output_matrix[row,column] = 0\n",
    "            row+=1\n",
    "        column+=1\n",
    "                    \n",
    "    return output_matrix"
   ]
  },
  {
   "cell_type": "code",
   "execution_count": 13,
   "id": "139bcf08",
   "metadata": {},
   "outputs": [],
   "source": [
    "def get_weighted_dags(binaryDags,nNewBootstraps = 100):\n",
    "    ### Step 1: Create Bootstraps of \"discrete\" DAGs for weighted DAGs\n",
    "    [nTrials,frNodes,toNodes] = binaryDags.shape\n",
    "    \n",
    "    bootstrap_graphs = np.zeros([nNewBootstraps,nTrials,frNodes,toNodes])\n",
    "    for iBootstrap in range(nNewBootstraps):\n",
    "        bootstrap_graphs[iBootstrap,:,:,:] = binaryDags[np.random.randint(nTrials, size=(nTrials)),:,:]\n",
    "\n",
    "    ### Step 2: Get Weighted DAGs\n",
    "    wtd_graphs = np.nanmean(bootstrap_graphs, axis=1)\n",
    "    \n",
    "    return wtd_graphs"
   ]
  },
  {
   "cell_type": "code",
   "execution_count": 14,
   "id": "003d7d37",
   "metadata": {},
   "outputs": [],
   "source": [
    "def train_DBN_alec(totalsess_time, temp_resolu, time_point_pull1, time_point_pull2, oneway_gaze1, oneway_gaze2, mutual_gaze1, mutual_gaze2):\n",
    "# temp_resolu: temporal resolution, the time different between each step\n",
    "# e.g. temp_resolu = 0.5s, each step is 0.5s\n",
    "# totalsess_time: the time (s) of the total session\n",
    "    total_time = int(np.floor((totalsess_time - session_start_time)/temp_resolu))\n",
    "    time_point_pull1_round = np.floor(time_point_pull1/temp_resolu).reset_index(drop = True).astype(int)\n",
    "    time_point_pull1_round = time_point_pull1_round[time_point_pull1_round<total_time]\n",
    "    time_point_pull2_round  = np.floor(time_point_pull2/temp_resolu).reset_index(drop = True).astype(int)\n",
    "    time_point_pull2_round = time_point_pull2_round[time_point_pull2_round<total_time]\n",
    "    time_point_onewaygaze1_round = np.floor(pd.Series(oneway_gaze1)/temp_resolu).reset_index(drop = True).astype(int)\n",
    "    time_point_onewaygaze2_round = np.floor(pd.Series(oneway_gaze2)/temp_resolu).reset_index(drop = True).astype(int)\n",
    "    time_point_mutualgaze1_round = np.floor(pd.Series(mutual_gaze1)/temp_resolu).reset_index(drop = True).astype(int)\n",
    "    time_point_mutualgaze2_round = np.floor(pd.Series(mutual_gaze2)/temp_resolu).reset_index(drop = True).astype(int)\n",
    "    time_point_onewaygaze1_round = time_point_onewaygaze1_round[(time_point_onewaygaze1_round>0)&(time_point_onewaygaze1_round<total_time)]\n",
    "    time_point_onewaygaze2_round = time_point_onewaygaze2_round[(time_point_onewaygaze2_round>0)&(time_point_onewaygaze2_round<total_time)]\n",
    "    time_point_mutualgaze1_round = time_point_mutualgaze1_round[(time_point_mutualgaze1_round>0)&(time_point_mutualgaze1_round<total_time)]\n",
    "    time_point_mutualgaze2_round = time_point_mutualgaze2_round[(time_point_mutualgaze2_round>0)&(time_point_mutualgaze2_round<total_time)]\n",
    "    # t0\n",
    "    pull1_t0 = np.zeros((total_time+1,1))\n",
    "    pull1_t0[np.array(time_point_pull1_round)] = 1\n",
    "    pull2_t0 = np.zeros((total_time+1,1))\n",
    "    pull2_t0[np.array(time_point_pull2_round)] = 1\n",
    "    owgaze1_t0 = np.zeros((total_time+1,1))\n",
    "    owgaze1_t0[np.array(time_point_onewaygaze1_round)] = 1\n",
    "    owgaze2_t0 = np.zeros((total_time+1,1))\n",
    "    owgaze2_t0[np.array(time_point_onewaygaze2_round)] = 1\n",
    "    mtgaze1_t0 = np.zeros((total_time+1,1))\n",
    "    mtgaze1_t0[np.array(time_point_mutualgaze1_round)] = 1\n",
    "    mtgaze2_t0 = np.zeros((total_time+1,1))\n",
    "    mtgaze2_t0[np.array(time_point_mutualgaze2_round)] = 1\n",
    "    # t1\n",
    "    pull1_t1 = np.zeros((total_time+1,1))\n",
    "    pull1_t1[np.array(time_point_pull1_round)+1] = 1\n",
    "    pull2_t1 = np.zeros((total_time+1,1))\n",
    "    pull2_t1[np.array(time_point_pull2_round)+1] = 1\n",
    "    owgaze1_t1 = np.zeros((total_time+1,1))\n",
    "    owgaze1_t1[np.array(time_point_onewaygaze1_round)+1] = 1\n",
    "    owgaze2_t1 = np.zeros((total_time+1,1))\n",
    "    owgaze2_t1[np.array(time_point_onewaygaze2_round)+1] = 1\n",
    "    mtgaze1_t1 = np.zeros((total_time+1,1))\n",
    "    mtgaze1_t1[np.array(time_point_mutualgaze1_round)+1] = 1\n",
    "    mtgaze2_t1 = np.zeros((total_time+1,1))\n",
    "    mtgaze2_t1[np.array(time_point_mutualgaze2_round)+1] = 1\n",
    "    \n",
    "    # clean up dataframe\n",
    "    data = np.concatenate((pull1_t0,pull2_t0,owgaze1_t0,owgaze2_t0,pull1_t1,pull2_t1,owgaze1_t1,owgaze2_t1),axis = 1)\n",
    "    colnames = [\"pull1_t0\",\"pull2_t0\",\"owgaze1_t0\",\"owgaze2_t0\",\"pull1_t1\",\"pull2_t1\",\"owgaze1_t1\",\"owgaze2_t1\"]\n",
    "    eventnames = [\"pull1\",\"pull2\",\"owgaze1\",\"owgaze2\"]\n",
    "    nevents = np.size(eventnames)\n",
    "    bhv_df = pd.DataFrame(data, columns=colnames)\n",
    "\n",
    "    # define DBN structures\n",
    "    all_pops = list(bhv_df.columns)\n",
    "    from_pops = [pop for pop in all_pops if not pop.endswith('t1')]\n",
    "    to_pops = [pop for pop in all_pops if pop.endswith('t1')]\n",
    "    causal_whitelist = [(from_pop,to_pop) for from_pop in from_pops for to_pop in to_pops]\n",
    "\n",
    "    # train the DBN for the edges\n",
    "    bhv_hc = HillClimbSearch(bhv_df)\n",
    "    best_model = bhv_hc.estimate(max_indegree=None, white_list = causal_whitelist, scoring_method=BicScore(bhv_df))\n",
    "    edges = best_model.edges()\n",
    "    \n",
    "    nFromNodes = nevents\n",
    "    nToNodes = nevents\n",
    "    nTrials = 1\n",
    "    DAGs = np.zeros((nTrials, nFromNodes, nToNodes))\n",
    "    DAGs[0,:,:] = graph_to_matrix(list(edges),nevents,eventnames)\n",
    "\n",
    "    return best_model, edges, DAGs, eventnames, from_pops, to_pops"
   ]
  },
  {
   "cell_type": "markdown",
   "id": "c5d1858b",
   "metadata": {},
   "source": [
    "### methods used by Alec - separate into different \"trials\""
   ]
  },
  {
   "cell_type": "code",
   "execution_count": 15,
   "id": "798ae9d3",
   "metadata": {},
   "outputs": [],
   "source": [
    "def train_DBN_alec_eachtrial(totalsess_time, temp_resolu, time_point_pull1, time_point_pull2, oneway_gaze1, oneway_gaze2, mutual_gaze1, mutual_gaze2):\n",
    "# temp_resolu: temporal resolution, the time different between each step\n",
    "# e.g. temp_resolu = 0.5s, each step is 0.5s\n",
    "# totalsess_time: the time (s) of the total session\n",
    "    total_time = int((totalsess_time - session_start_time)/temp_resolu)\n",
    "    time_point_pull1_round = np.floor(time_point_pull1/temp_resolu).reset_index(drop = True).astype(int)\n",
    "    time_point_pull1_round = time_point_pull1_round[time_point_pull1_round<total_time]\n",
    "    time_point_pull2_round  = np.floor(time_point_pull2/temp_resolu).reset_index(drop = True).astype(int)\n",
    "    time_point_pull2_round = time_point_pull2_round[time_point_pull2_round<total_time]\n",
    "    time_point_onewaygaze1_round = np.floor(pd.Series(oneway_gaze1)/temp_resolu).reset_index(drop = True).astype(int)\n",
    "    time_point_onewaygaze2_round = np.floor(pd.Series(oneway_gaze2)/temp_resolu).reset_index(drop = True).astype(int)\n",
    "    time_point_mutualgaze1_round = np.floor(pd.Series(mutual_gaze1)/temp_resolu).reset_index(drop = True).astype(int)\n",
    "    time_point_mutualgaze2_round = np.floor(pd.Series(mutual_gaze2)/temp_resolu).reset_index(drop = True).astype(int)\n",
    "    time_point_onewaygaze1_round = time_point_onewaygaze1_round[(time_point_onewaygaze1_round>0)&(time_point_onewaygaze1_round<total_time)]\n",
    "    time_point_onewaygaze2_round = time_point_onewaygaze2_round[(time_point_onewaygaze2_round>0)&(time_point_onewaygaze2_round<total_time)]\n",
    "    time_point_mutualgaze1_round = time_point_mutualgaze1_round[(time_point_mutualgaze1_round>0)&(time_point_mutualgaze1_round<total_time)]\n",
    "    time_point_mutualgaze2_round = time_point_mutualgaze2_round[(time_point_mutualgaze2_round>0)&(time_point_mutualgaze2_round<total_time)]\n",
    "    # t0\n",
    "    pull1_t0 = np.zeros((total_time+1,1))\n",
    "    pull1_t0[np.array(time_point_pull1_round)] = 1\n",
    "    pull2_t0 = np.zeros((total_time+1,1))\n",
    "    pull2_t0[np.array(time_point_pull2_round)] = 1\n",
    "    owgaze1_t0 = np.zeros((total_time+1,1))\n",
    "    owgaze1_t0[np.array(time_point_onewaygaze1_round)] = 1\n",
    "    owgaze2_t0 = np.zeros((total_time+1,1))\n",
    "    owgaze2_t0[np.array(time_point_onewaygaze2_round)] = 1\n",
    "    mtgaze1_t0 = np.zeros((total_time+1,1))\n",
    "    mtgaze1_t0[np.array(time_point_mutualgaze1_round)] = 1\n",
    "    mtgaze2_t0 = np.zeros((total_time+1,1))\n",
    "    mtgaze2_t0[np.array(time_point_mutualgaze2_round)] = 1\n",
    "    # t1\n",
    "    pull1_t1 = np.zeros((total_time+1,1))\n",
    "    pull1_t1[np.array(time_point_pull1_round)+1] = 1\n",
    "    pull2_t1 = np.zeros((total_time+1,1))\n",
    "    pull2_t1[np.array(time_point_pull2_round)+1] = 1\n",
    "    owgaze1_t1 = np.zeros((total_time+1,1))\n",
    "    owgaze1_t1[np.array(time_point_onewaygaze1_round)+1] = 1\n",
    "    owgaze2_t1 = np.zeros((total_time+1,1))\n",
    "    owgaze2_t1[np.array(time_point_onewaygaze2_round)+1] = 1\n",
    "    mtgaze1_t1 = np.zeros((total_time+1,1))\n",
    "    mtgaze1_t1[np.array(time_point_mutualgaze1_round)+1] = 1\n",
    "    mtgaze2_t1 = np.zeros((total_time+1,1))\n",
    "    mtgaze2_t1[np.array(time_point_mutualgaze2_round)+1] = 1\n",
    "    \n",
    "    # clean up dataframe\n",
    "    data = np.concatenate((pull1_t0,pull2_t0,owgaze1_t0,owgaze2_t0,pull1_t1,pull2_t1,owgaze1_t1,owgaze2_t1),axis = 1)\n",
    "    colnames = [\"pull1_t0\",\"pull2_t0\",\"owgaze1_t0\",\"owgaze2_t0\",\"pull1_t1\",\"pull2_t1\",\"owgaze1_t1\",\"owgaze2_t1\"]\n",
    "    eventnames = [\"pull1\",\"pull2\",\"owgaze1\",\"owgaze2\"]\n",
    "    nevents = np.size(eventnames)\n",
    "    bhv_df = pd.DataFrame(data, columns=colnames)\n",
    "    \n",
    "    # every 10s (20 0.5s steps) as a \"trial\"\n",
    "    # total 720s \"session\" will be 72 \"trials\"\n",
    "    ntrials = int(np.floor(totalsess_time/10))\n",
    "    nFromNodes = nevents\n",
    "    nToNodes = nevents\n",
    "    for itrial in np.arange(0,ntrials,1):\n",
    "        bhv_df_itrial = bhv_df.iloc[itrial*(10/temp_resolu):(itrial+1)*(10/temp_resolu)]\n",
    "        # define DBN structures\n",
    "        all_pops = list(bhv_df_itrial.columns)\n",
    "        from_pops = [pop for pop in all_pops if not pop.endswith('t1')]\n",
    "        to_pops = [pop for pop in all_pops if pop.endswith('t1')]\n",
    "        causal_whitelist = [(from_pop,to_pop) for from_pop in from_pops for to_pop in to_pops]\n",
    "    \n",
    "        # train the DBN for the edges\n",
    "        bhv_hc = HillClimbSearch(bhv_df_itrial)\n",
    "        best_model = bhv_hc.estimate(max_indegree=None, white_list = causal_whitelist, scoring_method=BicScore(bhv_df))\n",
    "        edges_itrial = best_model.edges()   \n",
    "    \n",
    "        DAGs_itrial = np.zeros((ntrials, nFromNodes, nToNodes))\n",
    "        DAGs_itrial[0,:,:] = graph_to_matrix(list(edges_itrial),nevents,eventnames)\n",
    "\n",
    "    weighted_graphs = get_weighted_dags(DAGs_itrial,nNewBootstraps = 1)\n",
    "    return DAGs_itrial, weighted_graphs, eventnames, from_pops, to_pops"
   ]
  },
  {
   "cell_type": "markdown",
   "id": "0819c438",
   "metadata": {},
   "source": [
    "## Analyze each session"
   ]
  },
  {
   "cell_type": "code",
   "execution_count": 41,
   "id": "94968120",
   "metadata": {},
   "outputs": [
    {
     "data": {
      "application/vnd.jupyter.widget-view+json": {
       "model_id": "232fe799f2a7427bb1419f6979fcf873",
       "version_major": 2,
       "version_minor": 0
      },
      "text/plain": [
       "  0%|          | 0/1000000 [00:00<?, ?it/s]"
      ]
     },
     "metadata": {},
     "output_type": "display_data"
    },
    {
     "name": "stdout",
     "output_type": "stream",
     "text": [
      "[('pull2_t0', 'owgaze2_t1'), ('owgaze1_t0', 'owgaze1_t1')]\n"
     ]
    },
    {
     "data": {
      "application/vnd.jupyter.widget-view+json": {
       "model_id": "c859c05ce2714ad8834c0bb0200a8215",
       "version_major": 2,
       "version_minor": 0
      },
      "text/plain": [
       "  0%|          | 0/1000000 [00:00<?, ?it/s]"
      ]
     },
     "metadata": {},
     "output_type": "display_data"
    },
    {
     "name": "stdout",
     "output_type": "stream",
     "text": [
      "[('pull2_t0', 'pull2_t1'), ('owgaze1_t0', 'owgaze1_t1')]\n"
     ]
    },
    {
     "data": {
      "application/vnd.jupyter.widget-view+json": {
       "model_id": "6fc626df0f774753987b170555e43e26",
       "version_major": 2,
       "version_minor": 0
      },
      "text/plain": [
       "  0%|          | 0/1000000 [00:00<?, ?it/s]"
      ]
     },
     "metadata": {},
     "output_type": "display_data"
    },
    {
     "name": "stdout",
     "output_type": "stream",
     "text": [
      "[('owgaze1_t0', 'owgaze1_t1')]\n"
     ]
    },
    {
     "data": {
      "application/vnd.jupyter.widget-view+json": {
       "model_id": "0cbeb08391cb44a0acc058d3b95bd2a6",
       "version_major": 2,
       "version_minor": 0
      },
      "text/plain": [
       "  0%|          | 0/1000000 [00:00<?, ?it/s]"
      ]
     },
     "metadata": {},
     "output_type": "display_data"
    },
    {
     "name": "stdout",
     "output_type": "stream",
     "text": [
      "[('owgaze1_t0', 'owgaze1_t1')]\n"
     ]
    },
    {
     "data": {
      "application/vnd.jupyter.widget-view+json": {
       "model_id": "8f9aa9c9deff4ea3bde4e9cf6569a5fe",
       "version_major": 2,
       "version_minor": 0
      },
      "text/plain": [
       "  0%|          | 0/1000000 [00:00<?, ?it/s]"
      ]
     },
     "metadata": {},
     "output_type": "display_data"
    },
    {
     "name": "stdout",
     "output_type": "stream",
     "text": [
      "[('owgaze1_t0', 'owgaze1_t1')]\n"
     ]
    },
    {
     "data": {
      "application/vnd.jupyter.widget-view+json": {
       "model_id": "c6eb35eaafb841a294ff47ef92e87398",
       "version_major": 2,
       "version_minor": 0
      },
      "text/plain": [
       "  0%|          | 0/1000000 [00:00<?, ?it/s]"
      ]
     },
     "metadata": {},
     "output_type": "display_data"
    },
    {
     "name": "stdout",
     "output_type": "stream",
     "text": [
      "[('pull2_t0', 'pull1_t1'), ('owgaze1_t0', 'owgaze1_t1')]\n"
     ]
    },
    {
     "data": {
      "application/vnd.jupyter.widget-view+json": {
       "model_id": "4e108960681644a8ba7eed759c3c6f63",
       "version_major": 2,
       "version_minor": 0
      },
      "text/plain": [
       "  0%|          | 0/1000000 [00:00<?, ?it/s]"
      ]
     },
     "metadata": {},
     "output_type": "display_data"
    },
    {
     "name": "stdout",
     "output_type": "stream",
     "text": [
      "[('owgaze1_t0', 'owgaze1_t1')]\n"
     ]
    },
    {
     "data": {
      "application/vnd.jupyter.widget-view+json": {
       "model_id": "3483ea869e904ba4878e53e9850d1c86",
       "version_major": 2,
       "version_minor": 0
      },
      "text/plain": [
       "  0%|          | 0/1000000 [00:00<?, ?it/s]"
      ]
     },
     "metadata": {},
     "output_type": "display_data"
    },
    {
     "name": "stdout",
     "output_type": "stream",
     "text": [
      "[('owgaze1_t0', 'owgaze1_t1')]\n"
     ]
    },
    {
     "data": {
      "application/vnd.jupyter.widget-view+json": {
       "model_id": "d204c01dddff4b60b08002d4bf3a20ab",
       "version_major": 2,
       "version_minor": 0
      },
      "text/plain": [
       "  0%|          | 0/1000000 [00:00<?, ?it/s]"
      ]
     },
     "metadata": {},
     "output_type": "display_data"
    },
    {
     "name": "stdout",
     "output_type": "stream",
     "text": [
      "[('owgaze1_t0', 'owgaze1_t1')]\n"
     ]
    },
    {
     "data": {
      "application/vnd.jupyter.widget-view+json": {
       "model_id": "4e6035e7b62d4de5b5c92cf3cc41f195",
       "version_major": 2,
       "version_minor": 0
      },
      "text/plain": [
       "  0%|          | 0/1000000 [00:00<?, ?it/s]"
      ]
     },
     "metadata": {},
     "output_type": "display_data"
    },
    {
     "name": "stdout",
     "output_type": "stream",
     "text": [
      "[('pull2_t0', 'pull2_t1'), ('owgaze1_t0', 'owgaze1_t1')]\n"
     ]
    },
    {
     "data": {
      "application/vnd.jupyter.widget-view+json": {
       "model_id": "f9812e2ac98449ab8531cc825eb4a320",
       "version_major": 2,
       "version_minor": 0
      },
      "text/plain": [
       "  0%|          | 0/1000000 [00:00<?, ?it/s]"
      ]
     },
     "metadata": {},
     "output_type": "display_data"
    },
    {
     "name": "stdout",
     "output_type": "stream",
     "text": [
      "[('pull2_t0', 'pull2_t1')]\n"
     ]
    },
    {
     "data": {
      "application/vnd.jupyter.widget-view+json": {
       "model_id": "ac9d6d56227d4e44aa982a461a349154",
       "version_major": 2,
       "version_minor": 0
      },
      "text/plain": [
       "  0%|          | 0/1000000 [00:00<?, ?it/s]"
      ]
     },
     "metadata": {},
     "output_type": "display_data"
    },
    {
     "name": "stdout",
     "output_type": "stream",
     "text": [
      "[('pull1_t0', 'pull2_t1'), ('pull2_t0', 'pull2_t1'), ('pull2_t0', 'pull1_t1'), ('owgaze1_t0', 'owgaze1_t1')]\n"
     ]
    },
    {
     "data": {
      "application/vnd.jupyter.widget-view+json": {
       "model_id": "734eb8b283ed49289730896f69a54c46",
       "version_major": 2,
       "version_minor": 0
      },
      "text/plain": [
       "  0%|          | 0/1000000 [00:00<?, ?it/s]"
      ]
     },
     "metadata": {},
     "output_type": "display_data"
    },
    {
     "name": "stdout",
     "output_type": "stream",
     "text": [
      "[('pull2_t0', 'pull2_t1'), ('pull2_t0', 'owgaze2_t1')]\n"
     ]
    },
    {
     "data": {
      "application/vnd.jupyter.widget-view+json": {
       "model_id": "014db835bdd94c938ad75380fc63e069",
       "version_major": 2,
       "version_minor": 0
      },
      "text/plain": [
       "  0%|          | 0/1000000 [00:00<?, ?it/s]"
      ]
     },
     "metadata": {},
     "output_type": "display_data"
    },
    {
     "name": "stdout",
     "output_type": "stream",
     "text": [
      "[('pull2_t0', 'pull2_t1'), ('pull2_t0', 'owgaze2_t1'), ('owgaze1_t0', 'owgaze1_t1')]\n"
     ]
    },
    {
     "data": {
      "application/vnd.jupyter.widget-view+json": {
       "model_id": "f2261d2775bb4bfd8a9a91793e92ec42",
       "version_major": 2,
       "version_minor": 0
      },
      "text/plain": [
       "  0%|          | 0/1000000 [00:00<?, ?it/s]"
      ]
     },
     "metadata": {},
     "output_type": "display_data"
    },
    {
     "name": "stdout",
     "output_type": "stream",
     "text": [
      "[('pull2_t0', 'pull2_t1'), ('pull2_t0', 'pull1_t1'), ('owgaze1_t0', 'owgaze1_t1')]\n"
     ]
    },
    {
     "data": {
      "application/vnd.jupyter.widget-view+json": {
       "model_id": "d706aad89900410bb2e83063a3c512f1",
       "version_major": 2,
       "version_minor": 0
      },
      "text/plain": [
       "  0%|          | 0/1000000 [00:00<?, ?it/s]"
      ]
     },
     "metadata": {},
     "output_type": "display_data"
    },
    {
     "name": "stdout",
     "output_type": "stream",
     "text": [
      "[('pull1_t0', 'pull1_t1'), ('pull2_t0', 'pull2_t1'), ('pull2_t0', 'owgaze2_t1')]\n"
     ]
    },
    {
     "data": {
      "application/vnd.jupyter.widget-view+json": {
       "model_id": "fcc80e680c7c4ce5988a9d1b9d1e433d",
       "version_major": 2,
       "version_minor": 0
      },
      "text/plain": [
       "  0%|          | 0/1000000 [00:00<?, ?it/s]"
      ]
     },
     "metadata": {},
     "output_type": "display_data"
    },
    {
     "name": "stdout",
     "output_type": "stream",
     "text": [
      "[('pull1_t0', 'pull1_t1'), ('pull2_t0', 'pull2_t1'), ('pull2_t0', 'owgaze2_t1'), ('owgaze1_t0', 'owgaze1_t1')]\n"
     ]
    },
    {
     "data": {
      "application/vnd.jupyter.widget-view+json": {
       "model_id": "30e86d18e6f94a6e8108347a83bb3cbc",
       "version_major": 2,
       "version_minor": 0
      },
      "text/plain": [
       "  0%|          | 0/1000000 [00:00<?, ?it/s]"
      ]
     },
     "metadata": {},
     "output_type": "display_data"
    },
    {
     "name": "stdout",
     "output_type": "stream",
     "text": [
      "[('pull1_t0', 'pull2_t1'), ('pull2_t0', 'pull2_t1'), ('pull2_t0', 'pull1_t1')]\n"
     ]
    },
    {
     "data": {
      "application/vnd.jupyter.widget-view+json": {
       "model_id": "39ce670a8c4a46b2bda20d0a67a85442",
       "version_major": 2,
       "version_minor": 0
      },
      "text/plain": [
       "  0%|          | 0/1000000 [00:00<?, ?it/s]"
      ]
     },
     "metadata": {},
     "output_type": "display_data"
    },
    {
     "name": "stdout",
     "output_type": "stream",
     "text": [
      "[('pull2_t0', 'pull2_t1'), ('pull2_t0', 'owgaze2_t1')]\n"
     ]
    },
    {
     "data": {
      "application/vnd.jupyter.widget-view+json": {
       "model_id": "3023f422fd9b4cd4b9b72348ad4f3054",
       "version_major": 2,
       "version_minor": 0
      },
      "text/plain": [
       "  0%|          | 0/1000000 [00:00<?, ?it/s]"
      ]
     },
     "metadata": {},
     "output_type": "display_data"
    },
    {
     "name": "stdout",
     "output_type": "stream",
     "text": [
      "[('pull2_t0', 'pull2_t1')]\n"
     ]
    },
    {
     "data": {
      "application/vnd.jupyter.widget-view+json": {
       "model_id": "d28b0c87e513432f9825c767bc869522",
       "version_major": 2,
       "version_minor": 0
      },
      "text/plain": [
       "  0%|          | 0/1000000 [00:00<?, ?it/s]"
      ]
     },
     "metadata": {},
     "output_type": "display_data"
    },
    {
     "name": "stdout",
     "output_type": "stream",
     "text": [
      "[('pull2_t0', 'pull2_t1')]\n"
     ]
    },
    {
     "data": {
      "application/vnd.jupyter.widget-view+json": {
       "model_id": "3c51054133764b0bbfe45f78b4b1b0a6",
       "version_major": 2,
       "version_minor": 0
      },
      "text/plain": [
       "  0%|          | 0/1000000 [00:00<?, ?it/s]"
      ]
     },
     "metadata": {},
     "output_type": "display_data"
    },
    {
     "name": "stdout",
     "output_type": "stream",
     "text": [
      "[('pull2_t0', 'pull2_t1'), ('pull2_t0', 'pull1_t1'), ('pull2_t0', 'owgaze2_t1')]\n"
     ]
    },
    {
     "data": {
      "application/vnd.jupyter.widget-view+json": {
       "model_id": "aea6872ceb594910a14692cf4a9ce489",
       "version_major": 2,
       "version_minor": 0
      },
      "text/plain": [
       "  0%|          | 0/1000000 [00:00<?, ?it/s]"
      ]
     },
     "metadata": {},
     "output_type": "display_data"
    },
    {
     "name": "stdout",
     "output_type": "stream",
     "text": [
      "[('pull2_t0', 'pull2_t1')]\n"
     ]
    },
    {
     "data": {
      "application/vnd.jupyter.widget-view+json": {
       "model_id": "175be4b862a64254a9e560bf893c0a95",
       "version_major": 2,
       "version_minor": 0
      },
      "text/plain": [
       "  0%|          | 0/1000000 [00:00<?, ?it/s]"
      ]
     },
     "metadata": {},
     "output_type": "display_data"
    },
    {
     "name": "stdout",
     "output_type": "stream",
     "text": [
      "[('pull2_t0', 'pull2_t1'), ('pull2_t0', 'pull1_t1'), ('owgaze1_t0', 'owgaze1_t1')]\n"
     ]
    },
    {
     "data": {
      "application/vnd.jupyter.widget-view+json": {
       "model_id": "c73c1412eb514973b759e0e375ee5766",
       "version_major": 2,
       "version_minor": 0
      },
      "text/plain": [
       "  0%|          | 0/1000000 [00:00<?, ?it/s]"
      ]
     },
     "metadata": {},
     "output_type": "display_data"
    },
    {
     "name": "stdout",
     "output_type": "stream",
     "text": [
      "[('pull1_t0', 'pull1_t1'), ('pull2_t0', 'pull2_t1'), ('owgaze1_t0', 'owgaze1_t1')]\n"
     ]
    },
    {
     "data": {
      "application/vnd.jupyter.widget-view+json": {
       "model_id": "5f509f395bfc4a6f9d2f123af01cf988",
       "version_major": 2,
       "version_minor": 0
      },
      "text/plain": [
       "  0%|          | 0/1000000 [00:00<?, ?it/s]"
      ]
     },
     "metadata": {},
     "output_type": "display_data"
    },
    {
     "name": "stdout",
     "output_type": "stream",
     "text": [
      "[('pull1_t0', 'pull1_t1'), ('pull1_t0', 'owgaze1_t1'), ('pull2_t0', 'pull2_t1')]\n"
     ]
    },
    {
     "data": {
      "application/vnd.jupyter.widget-view+json": {
       "model_id": "7c0fa7aa4be147deb14cbca2a32d922f",
       "version_major": 2,
       "version_minor": 0
      },
      "text/plain": [
       "  0%|          | 0/1000000 [00:00<?, ?it/s]"
      ]
     },
     "metadata": {},
     "output_type": "display_data"
    },
    {
     "name": "stdout",
     "output_type": "stream",
     "text": [
      "[('pull1_t0', 'pull1_t1'), ('pull2_t0', 'pull2_t1'), ('owgaze1_t0', 'pull2_t1')]\n"
     ]
    },
    {
     "data": {
      "application/vnd.jupyter.widget-view+json": {
       "model_id": "08c14dd672c3485186ebe734659d60a9",
       "version_major": 2,
       "version_minor": 0
      },
      "text/plain": [
       "  0%|          | 0/1000000 [00:00<?, ?it/s]"
      ]
     },
     "metadata": {},
     "output_type": "display_data"
    },
    {
     "name": "stdout",
     "output_type": "stream",
     "text": [
      "[('pull1_t0', 'pull1_t1'), ('pull2_t0', 'pull2_t1')]\n"
     ]
    },
    {
     "data": {
      "application/vnd.jupyter.widget-view+json": {
       "model_id": "d3b1c95d2591496d9ca1efdc9db42ea3",
       "version_major": 2,
       "version_minor": 0
      },
      "text/plain": [
       "  0%|          | 0/1000000 [00:00<?, ?it/s]"
      ]
     },
     "metadata": {},
     "output_type": "display_data"
    },
    {
     "name": "stdout",
     "output_type": "stream",
     "text": [
      "[('pull1_t0', 'pull1_t1'), ('pull2_t0', 'pull2_t1')]\n"
     ]
    },
    {
     "data": {
      "application/vnd.jupyter.widget-view+json": {
       "model_id": "52b6963892904631a0aa7f2c0ebfbce7",
       "version_major": 2,
       "version_minor": 0
      },
      "text/plain": [
       "  0%|          | 0/1000000 [00:00<?, ?it/s]"
      ]
     },
     "metadata": {},
     "output_type": "display_data"
    },
    {
     "name": "stdout",
     "output_type": "stream",
     "text": [
      "[('pull1_t0', 'pull1_t1'), ('pull2_t0', 'pull2_t1')]\n"
     ]
    },
    {
     "data": {
      "application/vnd.jupyter.widget-view+json": {
       "model_id": "3a0e823a9b35495e96330939cb8a5284",
       "version_major": 2,
       "version_minor": 0
      },
      "text/plain": [
       "  0%|          | 0/1000000 [00:00<?, ?it/s]"
      ]
     },
     "metadata": {},
     "output_type": "display_data"
    },
    {
     "name": "stdout",
     "output_type": "stream",
     "text": [
      "[('pull1_t0', 'pull1_t1'), ('pull2_t0', 'pull2_t1'), ('owgaze1_t0', 'pull1_t1')]\n"
     ]
    },
    {
     "data": {
      "application/vnd.jupyter.widget-view+json": {
       "model_id": "994e157a142e4f0e8733a62c557b56d3",
       "version_major": 2,
       "version_minor": 0
      },
      "text/plain": [
       "  0%|          | 0/1000000 [00:00<?, ?it/s]"
      ]
     },
     "metadata": {},
     "output_type": "display_data"
    },
    {
     "name": "stdout",
     "output_type": "stream",
     "text": [
      "[('pull1_t0', 'pull1_t1'), ('pull2_t0', 'pull2_t1')]\n"
     ]
    },
    {
     "data": {
      "application/vnd.jupyter.widget-view+json": {
       "model_id": "d55afea607314c949a2d43d331eb8464",
       "version_major": 2,
       "version_minor": 0
      },
      "text/plain": [
       "  0%|          | 0/1000000 [00:00<?, ?it/s]"
      ]
     },
     "metadata": {},
     "output_type": "display_data"
    },
    {
     "name": "stdout",
     "output_type": "stream",
     "text": [
      "[('pull1_t0', 'pull1_t1'), ('pull2_t0', 'pull2_t1')]\n"
     ]
    },
    {
     "data": {
      "application/vnd.jupyter.widget-view+json": {
       "model_id": "fb043410a33745779cf8953360c091ba",
       "version_major": 2,
       "version_minor": 0
      },
      "text/plain": [
       "  0%|          | 0/1000000 [00:00<?, ?it/s]"
      ]
     },
     "metadata": {},
     "output_type": "display_data"
    },
    {
     "name": "stdout",
     "output_type": "stream",
     "text": [
      "[('pull2_t0', 'pull2_t1')]\n"
     ]
    },
    {
     "data": {
      "application/vnd.jupyter.widget-view+json": {
       "model_id": "d9c27d0489bb4c73aeb77269bef1a25b",
       "version_major": 2,
       "version_minor": 0
      },
      "text/plain": [
       "  0%|          | 0/1000000 [00:00<?, ?it/s]"
      ]
     },
     "metadata": {},
     "output_type": "display_data"
    },
    {
     "name": "stdout",
     "output_type": "stream",
     "text": [
      "[]\n"
     ]
    },
    {
     "data": {
      "application/vnd.jupyter.widget-view+json": {
       "model_id": "5e654c1ea60e4cd7904983fde64a4a51",
       "version_major": 2,
       "version_minor": 0
      },
      "text/plain": [
       "  0%|          | 0/1000000 [00:00<?, ?it/s]"
      ]
     },
     "metadata": {},
     "output_type": "display_data"
    },
    {
     "name": "stdout",
     "output_type": "stream",
     "text": [
      "[]\n"
     ]
    },
    {
     "data": {
      "application/vnd.jupyter.widget-view+json": {
       "model_id": "170969ad862842a1baa170ddfee7e042",
       "version_major": 2,
       "version_minor": 0
      },
      "text/plain": [
       "  0%|          | 0/1000000 [00:00<?, ?it/s]"
      ]
     },
     "metadata": {},
     "output_type": "display_data"
    },
    {
     "name": "stdout",
     "output_type": "stream",
     "text": [
      "[]\n"
     ]
    },
    {
     "data": {
      "application/vnd.jupyter.widget-view+json": {
       "model_id": "945ed32d192845769c66c71dc73c36fb",
       "version_major": 2,
       "version_minor": 0
      },
      "text/plain": [
       "  0%|          | 0/1000000 [00:00<?, ?it/s]"
      ]
     },
     "metadata": {},
     "output_type": "display_data"
    },
    {
     "name": "stdout",
     "output_type": "stream",
     "text": [
      "[('pull2_t0', 'pull1_t1'), ('pull2_t0', 'pull2_t1')]\n"
     ]
    },
    {
     "data": {
      "application/vnd.jupyter.widget-view+json": {
       "model_id": "a4d81bb0c6534c2faf73e014339566ca",
       "version_major": 2,
       "version_minor": 0
      },
      "text/plain": [
       "  0%|          | 0/1000000 [00:00<?, ?it/s]"
      ]
     },
     "metadata": {},
     "output_type": "display_data"
    },
    {
     "name": "stdout",
     "output_type": "stream",
     "text": [
      "[]\n"
     ]
    },
    {
     "data": {
      "application/vnd.jupyter.widget-view+json": {
       "model_id": "555734141fe84a0292d0c09aa7681d7a",
       "version_major": 2,
       "version_minor": 0
      },
      "text/plain": [
       "  0%|          | 0/1000000 [00:00<?, ?it/s]"
      ]
     },
     "metadata": {},
     "output_type": "display_data"
    },
    {
     "name": "stdout",
     "output_type": "stream",
     "text": [
      "[('owgaze2_t0', 'pull2_t1')]\n"
     ]
    },
    {
     "data": {
      "application/vnd.jupyter.widget-view+json": {
       "model_id": "3549166732124dd7ab77377faad50bcc",
       "version_major": 2,
       "version_minor": 0
      },
      "text/plain": [
       "  0%|          | 0/1000000 [00:00<?, ?it/s]"
      ]
     },
     "metadata": {},
     "output_type": "display_data"
    },
    {
     "name": "stdout",
     "output_type": "stream",
     "text": [
      "[('owgaze2_t0', 'pull2_t1')]\n"
     ]
    },
    {
     "data": {
      "application/vnd.jupyter.widget-view+json": {
       "model_id": "4a205ebb53424940840b4f3502b07695",
       "version_major": 2,
       "version_minor": 0
      },
      "text/plain": [
       "  0%|          | 0/1000000 [00:00<?, ?it/s]"
      ]
     },
     "metadata": {},
     "output_type": "display_data"
    },
    {
     "name": "stdout",
     "output_type": "stream",
     "text": [
      "[('pull1_t0', 'pull1_t1')]\n"
     ]
    },
    {
     "data": {
      "application/vnd.jupyter.widget-view+json": {
       "model_id": "f723e68b4cd046f18265689b6d32eaa8",
       "version_major": 2,
       "version_minor": 0
      },
      "text/plain": [
       "  0%|          | 0/1000000 [00:00<?, ?it/s]"
      ]
     },
     "metadata": {},
     "output_type": "display_data"
    },
    {
     "name": "stdout",
     "output_type": "stream",
     "text": [
      "[('pull2_t0', 'pull1_t1')]\n"
     ]
    },
    {
     "data": {
      "application/vnd.jupyter.widget-view+json": {
       "model_id": "6b967028f97d495ab91235f9b6e861f6",
       "version_major": 2,
       "version_minor": 0
      },
      "text/plain": [
       "  0%|          | 0/1000000 [00:00<?, ?it/s]"
      ]
     },
     "metadata": {},
     "output_type": "display_data"
    },
    {
     "name": "stdout",
     "output_type": "stream",
     "text": [
      "[('pull2_t0', 'pull1_t1')]\n"
     ]
    },
    {
     "data": {
      "application/vnd.jupyter.widget-view+json": {
       "model_id": "8012138fbedb4b6686c5e7696893a627",
       "version_major": 2,
       "version_minor": 0
      },
      "text/plain": [
       "  0%|          | 0/1000000 [00:00<?, ?it/s]"
      ]
     },
     "metadata": {},
     "output_type": "display_data"
    },
    {
     "name": "stdout",
     "output_type": "stream",
     "text": [
      "[('pull2_t0', 'pull2_t1'), ('owgaze2_t0', 'owgaze2_t1')]\n"
     ]
    },
    {
     "data": {
      "application/vnd.jupyter.widget-view+json": {
       "model_id": "c8b4f1fc747f4155a7780556d9be7332",
       "version_major": 2,
       "version_minor": 0
      },
      "text/plain": [
       "  0%|          | 0/1000000 [00:00<?, ?it/s]"
      ]
     },
     "metadata": {},
     "output_type": "display_data"
    },
    {
     "name": "stdout",
     "output_type": "stream",
     "text": [
      "[('pull2_t0', 'pull2_t1'), ('owgaze2_t0', 'owgaze2_t1')]\n"
     ]
    },
    {
     "data": {
      "application/vnd.jupyter.widget-view+json": {
       "model_id": "af333321a5ab4b1d89f1dd750dccdcd8",
       "version_major": 2,
       "version_minor": 0
      },
      "text/plain": [
       "  0%|          | 0/1000000 [00:00<?, ?it/s]"
      ]
     },
     "metadata": {},
     "output_type": "display_data"
    },
    {
     "name": "stdout",
     "output_type": "stream",
     "text": [
      "[('pull2_t0', 'pull2_t1'), ('owgaze2_t0', 'owgaze2_t1')]\n"
     ]
    },
    {
     "data": {
      "application/vnd.jupyter.widget-view+json": {
       "model_id": "e15949ef54994168804e437a8ed1e282",
       "version_major": 2,
       "version_minor": 0
      },
      "text/plain": [
       "  0%|          | 0/1000000 [00:00<?, ?it/s]"
      ]
     },
     "metadata": {},
     "output_type": "display_data"
    },
    {
     "name": "stdout",
     "output_type": "stream",
     "text": [
      "[('pull1_t0', 'pull1_t1'), ('pull1_t0', 'pull2_t1'), ('pull2_t0', 'pull2_t1'), ('owgaze2_t0', 'owgaze2_t1')]\n"
     ]
    },
    {
     "data": {
      "application/vnd.jupyter.widget-view+json": {
       "model_id": "5dfa9b79e0134f5fbe4d9600fcf2513d",
       "version_major": 2,
       "version_minor": 0
      },
      "text/plain": [
       "  0%|          | 0/1000000 [00:00<?, ?it/s]"
      ]
     },
     "metadata": {},
     "output_type": "display_data"
    },
    {
     "name": "stdout",
     "output_type": "stream",
     "text": [
      "[('pull1_t0', 'pull1_t1'), ('pull2_t0', 'pull2_t1'), ('owgaze2_t0', 'owgaze2_t1')]\n"
     ]
    },
    {
     "data": {
      "application/vnd.jupyter.widget-view+json": {
       "model_id": "3271811276664effbddd8aa7f22c6268",
       "version_major": 2,
       "version_minor": 0
      },
      "text/plain": [
       "  0%|          | 0/1000000 [00:00<?, ?it/s]"
      ]
     },
     "metadata": {},
     "output_type": "display_data"
    },
    {
     "name": "stdout",
     "output_type": "stream",
     "text": [
      "[('pull1_t0', 'pull1_t1'), ('pull2_t0', 'pull2_t1')]\n"
     ]
    },
    {
     "data": {
      "application/vnd.jupyter.widget-view+json": {
       "model_id": "fa01f5cb572c4568aba6741a07e6eadf",
       "version_major": 2,
       "version_minor": 0
      },
      "text/plain": [
       "  0%|          | 0/1000000 [00:00<?, ?it/s]"
      ]
     },
     "metadata": {},
     "output_type": "display_data"
    },
    {
     "name": "stdout",
     "output_type": "stream",
     "text": [
      "[('pull1_t0', 'pull1_t1'), ('pull2_t0', 'pull2_t1'), ('owgaze2_t0', 'owgaze2_t1')]\n"
     ]
    },
    {
     "data": {
      "application/vnd.jupyter.widget-view+json": {
       "model_id": "de2bd7ce95cf42ebbcce747aed8c66d9",
       "version_major": 2,
       "version_minor": 0
      },
      "text/plain": [
       "  0%|          | 0/1000000 [00:00<?, ?it/s]"
      ]
     },
     "metadata": {},
     "output_type": "display_data"
    },
    {
     "name": "stdout",
     "output_type": "stream",
     "text": [
      "[('pull1_t0', 'pull1_t1'), ('pull2_t0', 'pull2_t1'), ('owgaze2_t0', 'owgaze2_t1')]\n"
     ]
    },
    {
     "data": {
      "application/vnd.jupyter.widget-view+json": {
       "model_id": "2baa944cfde14927a958c2de1f67a768",
       "version_major": 2,
       "version_minor": 0
      },
      "text/plain": [
       "  0%|          | 0/1000000 [00:00<?, ?it/s]"
      ]
     },
     "metadata": {},
     "output_type": "display_data"
    },
    {
     "name": "stdout",
     "output_type": "stream",
     "text": [
      "[('pull1_t0', 'pull1_t1'), ('pull2_t0', 'pull2_t1')]\n"
     ]
    },
    {
     "data": {
      "application/vnd.jupyter.widget-view+json": {
       "model_id": "10b791eaacee48d19f2514d09b7168b7",
       "version_major": 2,
       "version_minor": 0
      },
      "text/plain": [
       "  0%|          | 0/1000000 [00:00<?, ?it/s]"
      ]
     },
     "metadata": {},
     "output_type": "display_data"
    },
    {
     "name": "stdout",
     "output_type": "stream",
     "text": [
      "[('pull1_t0', 'pull1_t1'), ('pull2_t0', 'pull2_t1')]\n"
     ]
    },
    {
     "data": {
      "application/vnd.jupyter.widget-view+json": {
       "model_id": "3fca521958c64c77811859fbae5ac3c0",
       "version_major": 2,
       "version_minor": 0
      },
      "text/plain": [
       "  0%|          | 0/1000000 [00:00<?, ?it/s]"
      ]
     },
     "metadata": {},
     "output_type": "display_data"
    },
    {
     "name": "stdout",
     "output_type": "stream",
     "text": [
      "[('pull1_t0', 'pull1_t1')]\n"
     ]
    },
    {
     "data": {
      "application/vnd.jupyter.widget-view+json": {
       "model_id": "267be7a9d2b34f78b3cb424ed5e00927",
       "version_major": 2,
       "version_minor": 0
      },
      "text/plain": [
       "  0%|          | 0/1000000 [00:00<?, ?it/s]"
      ]
     },
     "metadata": {},
     "output_type": "display_data"
    },
    {
     "name": "stdout",
     "output_type": "stream",
     "text": [
      "[('pull1_t0', 'pull1_t1'), ('owgaze2_t0', 'owgaze2_t1')]\n"
     ]
    },
    {
     "data": {
      "application/vnd.jupyter.widget-view+json": {
       "model_id": "1e414dd98c394aa18fed59f8d1272b6c",
       "version_major": 2,
       "version_minor": 0
      },
      "text/plain": [
       "  0%|          | 0/1000000 [00:00<?, ?it/s]"
      ]
     },
     "metadata": {},
     "output_type": "display_data"
    },
    {
     "name": "stdout",
     "output_type": "stream",
     "text": [
      "[('pull1_t0', 'pull1_t1'), ('pull1_t0', 'pull2_t1')]\n"
     ]
    },
    {
     "data": {
      "application/vnd.jupyter.widget-view+json": {
       "model_id": "9225600b00c64b0aaefcab9c9ffb11b3",
       "version_major": 2,
       "version_minor": 0
      },
      "text/plain": [
       "  0%|          | 0/1000000 [00:00<?, ?it/s]"
      ]
     },
     "metadata": {},
     "output_type": "display_data"
    },
    {
     "name": "stdout",
     "output_type": "stream",
     "text": [
      "[('pull1_t0', 'pull1_t1')]\n"
     ]
    },
    {
     "data": {
      "application/vnd.jupyter.widget-view+json": {
       "model_id": "555f66d758da4ad2845b55c840e76300",
       "version_major": 2,
       "version_minor": 0
      },
      "text/plain": [
       "  0%|          | 0/1000000 [00:00<?, ?it/s]"
      ]
     },
     "metadata": {},
     "output_type": "display_data"
    },
    {
     "name": "stdout",
     "output_type": "stream",
     "text": [
      "[('pull1_t0', 'pull1_t1')]\n"
     ]
    },
    {
     "data": {
      "application/vnd.jupyter.widget-view+json": {
       "model_id": "0434e67ccc1c4d53ac962280f4b4d309",
       "version_major": 2,
       "version_minor": 0
      },
      "text/plain": [
       "  0%|          | 0/1000000 [00:00<?, ?it/s]"
      ]
     },
     "metadata": {},
     "output_type": "display_data"
    },
    {
     "name": "stdout",
     "output_type": "stream",
     "text": [
      "[('pull1_t0', 'pull1_t1'), ('owgaze2_t0', 'owgaze2_t1')]\n"
     ]
    },
    {
     "data": {
      "application/vnd.jupyter.widget-view+json": {
       "model_id": "e088cdab3f9b46ec990280a53ce0d410",
       "version_major": 2,
       "version_minor": 0
      },
      "text/plain": [
       "  0%|          | 0/1000000 [00:00<?, ?it/s]"
      ]
     },
     "metadata": {},
     "output_type": "display_data"
    },
    {
     "name": "stdout",
     "output_type": "stream",
     "text": [
      "[('owgaze2_t0', 'owgaze2_t1')]\n"
     ]
    },
    {
     "data": {
      "application/vnd.jupyter.widget-view+json": {
       "model_id": "93d3fcdd834d4303819bf529fa91adda",
       "version_major": 2,
       "version_minor": 0
      },
      "text/plain": [
       "  0%|          | 0/1000000 [00:00<?, ?it/s]"
      ]
     },
     "metadata": {},
     "output_type": "display_data"
    },
    {
     "name": "stdout",
     "output_type": "stream",
     "text": [
      "[('pull1_t0', 'pull1_t1')]\n"
     ]
    },
    {
     "data": {
      "application/vnd.jupyter.widget-view+json": {
       "model_id": "e6480d93c9f145978ab37304936beb82",
       "version_major": 2,
       "version_minor": 0
      },
      "text/plain": [
       "  0%|          | 0/1000000 [00:00<?, ?it/s]"
      ]
     },
     "metadata": {},
     "output_type": "display_data"
    },
    {
     "name": "stdout",
     "output_type": "stream",
     "text": [
      "[]\n"
     ]
    },
    {
     "data": {
      "application/vnd.jupyter.widget-view+json": {
       "model_id": "03e16720c5964ef88ac905710e769250",
       "version_major": 2,
       "version_minor": 0
      },
      "text/plain": [
       "  0%|          | 0/1000000 [00:00<?, ?it/s]"
      ]
     },
     "metadata": {},
     "output_type": "display_data"
    },
    {
     "name": "stdout",
     "output_type": "stream",
     "text": [
      "[('owgaze2_t0', 'owgaze2_t1')]\n"
     ]
    },
    {
     "data": {
      "application/vnd.jupyter.widget-view+json": {
       "model_id": "a1fbfe4e0d5942c097223cfae893ac27",
       "version_major": 2,
       "version_minor": 0
      },
      "text/plain": [
       "  0%|          | 0/1000000 [00:00<?, ?it/s]"
      ]
     },
     "metadata": {},
     "output_type": "display_data"
    },
    {
     "name": "stdout",
     "output_type": "stream",
     "text": [
      "[('pull2_t0', 'pull2_t1'), ('owgaze2_t0', 'owgaze2_t1')]\n"
     ]
    },
    {
     "data": {
      "application/vnd.jupyter.widget-view+json": {
       "model_id": "b6c7fbeaf66b46959982d08469426a50",
       "version_major": 2,
       "version_minor": 0
      },
      "text/plain": [
       "  0%|          | 0/1000000 [00:00<?, ?it/s]"
      ]
     },
     "metadata": {},
     "output_type": "display_data"
    },
    {
     "name": "stdout",
     "output_type": "stream",
     "text": [
      "[('pull2_t0', 'pull2_t1'), ('owgaze2_t0', 'owgaze2_t1')]\n"
     ]
    },
    {
     "data": {
      "application/vnd.jupyter.widget-view+json": {
       "model_id": "bab4cb3a991f45b2a8053fe05bbb2988",
       "version_major": 2,
       "version_minor": 0
      },
      "text/plain": [
       "  0%|          | 0/1000000 [00:00<?, ?it/s]"
      ]
     },
     "metadata": {},
     "output_type": "display_data"
    },
    {
     "name": "stdout",
     "output_type": "stream",
     "text": [
      "[('pull2_t0', 'pull2_t1'), ('owgaze2_t0', 'owgaze2_t1')]\n"
     ]
    },
    {
     "data": {
      "application/vnd.jupyter.widget-view+json": {
       "model_id": "f1c1153f69fa423c8658cc0021ba159e",
       "version_major": 2,
       "version_minor": 0
      },
      "text/plain": [
       "  0%|          | 0/1000000 [00:00<?, ?it/s]"
      ]
     },
     "metadata": {},
     "output_type": "display_data"
    },
    {
     "name": "stdout",
     "output_type": "stream",
     "text": [
      "[('pull2_t0', 'pull2_t1'), ('owgaze2_t0', 'owgaze2_t1')]\n"
     ]
    },
    {
     "data": {
      "application/vnd.jupyter.widget-view+json": {
       "model_id": "8f0bbeb27b9a4857a168d4ebefd30b51",
       "version_major": 2,
       "version_minor": 0
      },
      "text/plain": [
       "  0%|          | 0/1000000 [00:00<?, ?it/s]"
      ]
     },
     "metadata": {},
     "output_type": "display_data"
    },
    {
     "name": "stdout",
     "output_type": "stream",
     "text": [
      "[('pull2_t0', 'pull2_t1'), ('owgaze2_t0', 'owgaze2_t1')]\n"
     ]
    },
    {
     "data": {
      "application/vnd.jupyter.widget-view+json": {
       "model_id": "36b6f7f56a0f43c7a05d0b0d491ee173",
       "version_major": 2,
       "version_minor": 0
      },
      "text/plain": [
       "  0%|          | 0/1000000 [00:00<?, ?it/s]"
      ]
     },
     "metadata": {},
     "output_type": "display_data"
    },
    {
     "name": "stdout",
     "output_type": "stream",
     "text": [
      "[('pull2_t0', 'pull2_t1'), ('owgaze2_t0', 'owgaze2_t1')]\n"
     ]
    },
    {
     "data": {
      "application/vnd.jupyter.widget-view+json": {
       "model_id": "b72ad540c02d4b25bb5050ca0e61c615",
       "version_major": 2,
       "version_minor": 0
      },
      "text/plain": [
       "  0%|          | 0/1000000 [00:00<?, ?it/s]"
      ]
     },
     "metadata": {},
     "output_type": "display_data"
    },
    {
     "name": "stdout",
     "output_type": "stream",
     "text": [
      "[('pull2_t0', 'pull1_t1'), ('owgaze2_t0', 'owgaze2_t1')]\n"
     ]
    },
    {
     "data": {
      "application/vnd.jupyter.widget-view+json": {
       "model_id": "b083f19f90b0497aa5d55d887408f2e9",
       "version_major": 2,
       "version_minor": 0
      },
      "text/plain": [
       "  0%|          | 0/1000000 [00:00<?, ?it/s]"
      ]
     },
     "metadata": {},
     "output_type": "display_data"
    },
    {
     "name": "stdout",
     "output_type": "stream",
     "text": [
      "[('pull2_t0', 'pull1_t1'), ('owgaze2_t0', 'owgaze2_t1')]\n"
     ]
    },
    {
     "data": {
      "application/vnd.jupyter.widget-view+json": {
       "model_id": "572eed04514a4a9a8e49da7fd20940af",
       "version_major": 2,
       "version_minor": 0
      },
      "text/plain": [
       "  0%|          | 0/1000000 [00:00<?, ?it/s]"
      ]
     },
     "metadata": {},
     "output_type": "display_data"
    },
    {
     "name": "stdout",
     "output_type": "stream",
     "text": [
      "[('pull2_t0', 'pull2_t1'), ('owgaze2_t0', 'owgaze2_t1')]\n"
     ]
    },
    {
     "data": {
      "application/vnd.jupyter.widget-view+json": {
       "model_id": "78934e2b88dd44e29b338346e48ba572",
       "version_major": 2,
       "version_minor": 0
      },
      "text/plain": [
       "  0%|          | 0/1000000 [00:00<?, ?it/s]"
      ]
     },
     "metadata": {},
     "output_type": "display_data"
    },
    {
     "name": "stdout",
     "output_type": "stream",
     "text": [
      "[('pull1_t0', 'pull2_t1'), ('pull2_t0', 'pull2_t1'), ('pull2_t0', 'pull1_t1'), ('owgaze2_t0', 'owgaze2_t1')]\n"
     ]
    },
    {
     "data": {
      "application/vnd.jupyter.widget-view+json": {
       "model_id": "35c6669983dd41d4a01b45185d81b5e4",
       "version_major": 2,
       "version_minor": 0
      },
      "text/plain": [
       "  0%|          | 0/1000000 [00:00<?, ?it/s]"
      ]
     },
     "metadata": {},
     "output_type": "display_data"
    },
    {
     "name": "stdout",
     "output_type": "stream",
     "text": [
      "[('pull2_t0', 'pull2_t1'), ('pull2_t0', 'pull1_t1'), ('owgaze2_t0', 'owgaze2_t1')]\n"
     ]
    },
    {
     "data": {
      "application/vnd.jupyter.widget-view+json": {
       "model_id": "713ef09d87494ac281514ac851ba5fe0",
       "version_major": 2,
       "version_minor": 0
      },
      "text/plain": [
       "  0%|          | 0/1000000 [00:00<?, ?it/s]"
      ]
     },
     "metadata": {},
     "output_type": "display_data"
    },
    {
     "name": "stdout",
     "output_type": "stream",
     "text": [
      "[('pull1_t0', 'owgaze2_t1'), ('pull2_t0', 'pull2_t1'), ('pull2_t0', 'pull1_t1'), ('owgaze2_t0', 'owgaze2_t1')]\n"
     ]
    },
    {
     "data": {
      "application/vnd.jupyter.widget-view+json": {
       "model_id": "c81aea5dd72e45e192328a0de232b967",
       "version_major": 2,
       "version_minor": 0
      },
      "text/plain": [
       "  0%|          | 0/1000000 [00:00<?, ?it/s]"
      ]
     },
     "metadata": {},
     "output_type": "display_data"
    },
    {
     "name": "stdout",
     "output_type": "stream",
     "text": [
      "[('pull2_t0', 'pull2_t1'), ('pull2_t0', 'pull1_t1')]\n"
     ]
    },
    {
     "data": {
      "application/vnd.jupyter.widget-view+json": {
       "model_id": "5eebbc3b5f4f4ae3804420997c802365",
       "version_major": 2,
       "version_minor": 0
      },
      "text/plain": [
       "  0%|          | 0/1000000 [00:00<?, ?it/s]"
      ]
     },
     "metadata": {},
     "output_type": "display_data"
    },
    {
     "name": "stdout",
     "output_type": "stream",
     "text": [
      "[('pull2_t0', 'pull2_t1'), ('pull2_t0', 'pull1_t1')]\n"
     ]
    },
    {
     "data": {
      "application/vnd.jupyter.widget-view+json": {
       "model_id": "333545adf0de429ab7cbeb3f21849fdd",
       "version_major": 2,
       "version_minor": 0
      },
      "text/plain": [
       "  0%|          | 0/1000000 [00:00<?, ?it/s]"
      ]
     },
     "metadata": {},
     "output_type": "display_data"
    },
    {
     "name": "stdout",
     "output_type": "stream",
     "text": [
      "[('pull2_t0', 'pull2_t1'), ('pull2_t0', 'pull1_t1')]\n"
     ]
    },
    {
     "data": {
      "application/vnd.jupyter.widget-view+json": {
       "model_id": "3501190ae5bd4f03a77bd7b67e2a1f00",
       "version_major": 2,
       "version_minor": 0
      },
      "text/plain": [
       "  0%|          | 0/1000000 [00:00<?, ?it/s]"
      ]
     },
     "metadata": {},
     "output_type": "display_data"
    },
    {
     "name": "stdout",
     "output_type": "stream",
     "text": [
      "[('pull1_t0', 'pull1_t1'), ('pull2_t0', 'pull2_t1')]\n"
     ]
    },
    {
     "data": {
      "application/vnd.jupyter.widget-view+json": {
       "model_id": "ec4e69787b874d6598668127ee67586b",
       "version_major": 2,
       "version_minor": 0
      },
      "text/plain": [
       "  0%|          | 0/1000000 [00:00<?, ?it/s]"
      ]
     },
     "metadata": {},
     "output_type": "display_data"
    },
    {
     "name": "stdout",
     "output_type": "stream",
     "text": [
      "[('pull1_t0', 'pull1_t1'), ('pull2_t0', 'pull2_t1'), ('pull2_t0', 'pull1_t1')]\n"
     ]
    },
    {
     "data": {
      "application/vnd.jupyter.widget-view+json": {
       "model_id": "f8382133864f4682bbcf89d25eed52aa",
       "version_major": 2,
       "version_minor": 0
      },
      "text/plain": [
       "  0%|          | 0/1000000 [00:00<?, ?it/s]"
      ]
     },
     "metadata": {},
     "output_type": "display_data"
    },
    {
     "name": "stdout",
     "output_type": "stream",
     "text": [
      "[('pull1_t0', 'pull1_t1'), ('pull2_t0', 'pull2_t1')]\n"
     ]
    },
    {
     "data": {
      "application/vnd.jupyter.widget-view+json": {
       "model_id": "2bbf8dc087334ba9b99fe6463164624e",
       "version_major": 2,
       "version_minor": 0
      },
      "text/plain": [
       "  0%|          | 0/1000000 [00:00<?, ?it/s]"
      ]
     },
     "metadata": {},
     "output_type": "display_data"
    },
    {
     "name": "stdout",
     "output_type": "stream",
     "text": [
      "[('pull1_t0', 'pull1_t1'), ('pull2_t0', 'pull2_t1')]\n"
     ]
    },
    {
     "data": {
      "application/vnd.jupyter.widget-view+json": {
       "model_id": "a2ee4eb8d7bb47e59495de0fbbd8ba83",
       "version_major": 2,
       "version_minor": 0
      },
      "text/plain": [
       "  0%|          | 0/1000000 [00:00<?, ?it/s]"
      ]
     },
     "metadata": {},
     "output_type": "display_data"
    },
    {
     "name": "stdout",
     "output_type": "stream",
     "text": [
      "[('pull1_t0', 'pull1_t1'), ('pull2_t0', 'pull2_t1')]\n"
     ]
    },
    {
     "data": {
      "application/vnd.jupyter.widget-view+json": {
       "model_id": "2a69d8d38cf54a469fadda5f42879fc0",
       "version_major": 2,
       "version_minor": 0
      },
      "text/plain": [
       "  0%|          | 0/1000000 [00:00<?, ?it/s]"
      ]
     },
     "metadata": {},
     "output_type": "display_data"
    },
    {
     "name": "stdout",
     "output_type": "stream",
     "text": [
      "[('pull1_t0', 'pull1_t1'), ('pull2_t0', 'pull2_t1')]\n"
     ]
    },
    {
     "data": {
      "application/vnd.jupyter.widget-view+json": {
       "model_id": "11196747f8ce40b68b4f63dd69d1352f",
       "version_major": 2,
       "version_minor": 0
      },
      "text/plain": [
       "  0%|          | 0/1000000 [00:00<?, ?it/s]"
      ]
     },
     "metadata": {},
     "output_type": "display_data"
    },
    {
     "name": "stdout",
     "output_type": "stream",
     "text": [
      "[('pull1_t0', 'pull1_t1'), ('pull2_t0', 'pull2_t1')]\n"
     ]
    },
    {
     "data": {
      "application/vnd.jupyter.widget-view+json": {
       "model_id": "a5bb910b43764e09bfbf1382fd7ff0fd",
       "version_major": 2,
       "version_minor": 0
      },
      "text/plain": [
       "  0%|          | 0/1000000 [00:00<?, ?it/s]"
      ]
     },
     "metadata": {},
     "output_type": "display_data"
    },
    {
     "name": "stdout",
     "output_type": "stream",
     "text": [
      "[('pull1_t0', 'pull1_t1'), ('pull2_t0', 'pull2_t1')]\n"
     ]
    },
    {
     "data": {
      "application/vnd.jupyter.widget-view+json": {
       "model_id": "33d76296d18d48299d87dadf59a5a30a",
       "version_major": 2,
       "version_minor": 0
      },
      "text/plain": [
       "  0%|          | 0/1000000 [00:00<?, ?it/s]"
      ]
     },
     "metadata": {},
     "output_type": "display_data"
    },
    {
     "name": "stdout",
     "output_type": "stream",
     "text": [
      "[('owgaze1_t0', 'owgaze1_t1')]\n"
     ]
    },
    {
     "data": {
      "application/vnd.jupyter.widget-view+json": {
       "model_id": "45b574fc380842379d3ff5a556ca3043",
       "version_major": 2,
       "version_minor": 0
      },
      "text/plain": [
       "  0%|          | 0/1000000 [00:00<?, ?it/s]"
      ]
     },
     "metadata": {},
     "output_type": "display_data"
    },
    {
     "name": "stdout",
     "output_type": "stream",
     "text": [
      "[('pull2_t0', 'pull2_t1')]\n"
     ]
    },
    {
     "data": {
      "application/vnd.jupyter.widget-view+json": {
       "model_id": "5c355c3779cb42fc82246c37110c6e43",
       "version_major": 2,
       "version_minor": 0
      },
      "text/plain": [
       "  0%|          | 0/1000000 [00:00<?, ?it/s]"
      ]
     },
     "metadata": {},
     "output_type": "display_data"
    },
    {
     "name": "stdout",
     "output_type": "stream",
     "text": [
      "[('pull2_t0', 'pull2_t1')]\n"
     ]
    },
    {
     "data": {
      "application/vnd.jupyter.widget-view+json": {
       "model_id": "8534fc6f4a57440d9c8dda7d503d78b6",
       "version_major": 2,
       "version_minor": 0
      },
      "text/plain": [
       "  0%|          | 0/1000000 [00:00<?, ?it/s]"
      ]
     },
     "metadata": {},
     "output_type": "display_data"
    },
    {
     "name": "stdout",
     "output_type": "stream",
     "text": [
      "[('pull2_t0', 'pull2_t1')]\n"
     ]
    },
    {
     "data": {
      "application/vnd.jupyter.widget-view+json": {
       "model_id": "e8fbc9f52e94405eab465bd1c9e31ad0",
       "version_major": 2,
       "version_minor": 0
      },
      "text/plain": [
       "  0%|          | 0/1000000 [00:00<?, ?it/s]"
      ]
     },
     "metadata": {},
     "output_type": "display_data"
    },
    {
     "name": "stdout",
     "output_type": "stream",
     "text": [
      "[('pull2_t0', 'pull2_t1'), ('owgaze2_t0', 'pull1_t1')]\n"
     ]
    },
    {
     "data": {
      "application/vnd.jupyter.widget-view+json": {
       "model_id": "8c02300982674687b19b32e7b21ac55c",
       "version_major": 2,
       "version_minor": 0
      },
      "text/plain": [
       "  0%|          | 0/1000000 [00:00<?, ?it/s]"
      ]
     },
     "metadata": {},
     "output_type": "display_data"
    },
    {
     "name": "stdout",
     "output_type": "stream",
     "text": [
      "[('pull2_t0', 'pull2_t1'), ('owgaze2_t0', 'pull1_t1')]\n"
     ]
    },
    {
     "data": {
      "application/vnd.jupyter.widget-view+json": {
       "model_id": "9e03ea44e0b747f9972770e902e71fb6",
       "version_major": 2,
       "version_minor": 0
      },
      "text/plain": [
       "  0%|          | 0/1000000 [00:00<?, ?it/s]"
      ]
     },
     "metadata": {},
     "output_type": "display_data"
    },
    {
     "name": "stdout",
     "output_type": "stream",
     "text": [
      "[('pull2_t0', 'pull2_t1'), ('owgaze2_t0', 'pull1_t1')]\n"
     ]
    },
    {
     "data": {
      "application/vnd.jupyter.widget-view+json": {
       "model_id": "a84057688f99464db55a573031656e4d",
       "version_major": 2,
       "version_minor": 0
      },
      "text/plain": [
       "  0%|          | 0/1000000 [00:00<?, ?it/s]"
      ]
     },
     "metadata": {},
     "output_type": "display_data"
    },
    {
     "name": "stdout",
     "output_type": "stream",
     "text": [
      "[('owgaze2_t0', 'pull1_t1')]\n"
     ]
    },
    {
     "data": {
      "application/vnd.jupyter.widget-view+json": {
       "model_id": "e588707428004702bb4a57acbb27e070",
       "version_major": 2,
       "version_minor": 0
      },
      "text/plain": [
       "  0%|          | 0/1000000 [00:00<?, ?it/s]"
      ]
     },
     "metadata": {},
     "output_type": "display_data"
    },
    {
     "name": "stdout",
     "output_type": "stream",
     "text": [
      "[('owgaze2_t0', 'pull1_t1')]\n"
     ]
    },
    {
     "data": {
      "application/vnd.jupyter.widget-view+json": {
       "model_id": "9577db43aa594861ab0e061acba520ff",
       "version_major": 2,
       "version_minor": 0
      },
      "text/plain": [
       "  0%|          | 0/1000000 [00:00<?, ?it/s]"
      ]
     },
     "metadata": {},
     "output_type": "display_data"
    },
    {
     "name": "stdout",
     "output_type": "stream",
     "text": [
      "[('owgaze1_t0', 'pull1_t1')]\n"
     ]
    },
    {
     "data": {
      "application/vnd.jupyter.widget-view+json": {
       "model_id": "30fef9db378641cc8e406192d2ab7d01",
       "version_major": 2,
       "version_minor": 0
      },
      "text/plain": [
       "  0%|          | 0/1000000 [00:00<?, ?it/s]"
      ]
     },
     "metadata": {},
     "output_type": "display_data"
    },
    {
     "name": "stdout",
     "output_type": "stream",
     "text": [
      "[('owgaze2_t0', 'pull2_t1')]\n"
     ]
    },
    {
     "data": {
      "application/vnd.jupyter.widget-view+json": {
       "model_id": "09f610c1a1f9493f9a8f2249a8983fb6",
       "version_major": 2,
       "version_minor": 0
      },
      "text/plain": [
       "  0%|          | 0/1000000 [00:00<?, ?it/s]"
      ]
     },
     "metadata": {},
     "output_type": "display_data"
    },
    {
     "name": "stdout",
     "output_type": "stream",
     "text": [
      "[('owgaze1_t0', 'pull1_t1'), ('owgaze2_t0', 'pull1_t1'), ('owgaze2_t0', 'pull2_t1')]\n"
     ]
    },
    {
     "data": {
      "application/vnd.jupyter.widget-view+json": {
       "model_id": "42424d7de49145caa7f3e914251b7c97",
       "version_major": 2,
       "version_minor": 0
      },
      "text/plain": [
       "  0%|          | 0/1000000 [00:00<?, ?it/s]"
      ]
     },
     "metadata": {},
     "output_type": "display_data"
    },
    {
     "name": "stdout",
     "output_type": "stream",
     "text": [
      "[('pull1_t0', 'owgaze2_t1'), ('owgaze2_t0', 'pull1_t1'), ('owgaze2_t0', 'pull2_t1')]\n"
     ]
    },
    {
     "data": {
      "application/vnd.jupyter.widget-view+json": {
       "model_id": "886ed6d1ade746f0bb9dadf8d3a78ddb",
       "version_major": 2,
       "version_minor": 0
      },
      "text/plain": [
       "  0%|          | 0/1000000 [00:00<?, ?it/s]"
      ]
     },
     "metadata": {},
     "output_type": "display_data"
    },
    {
     "name": "stdout",
     "output_type": "stream",
     "text": [
      "[('pull1_t0', 'owgaze2_t1'), ('owgaze1_t0', 'pull1_t1'), ('owgaze2_t0', 'pull1_t1'), ('owgaze2_t0', 'pull2_t1')]\n"
     ]
    },
    {
     "data": {
      "application/vnd.jupyter.widget-view+json": {
       "model_id": "035ac941cb634143abd628c63f7caf33",
       "version_major": 2,
       "version_minor": 0
      },
      "text/plain": [
       "  0%|          | 0/1000000 [00:00<?, ?it/s]"
      ]
     },
     "metadata": {},
     "output_type": "display_data"
    },
    {
     "name": "stdout",
     "output_type": "stream",
     "text": [
      "[('owgaze1_t0', 'pull1_t1')]\n"
     ]
    },
    {
     "data": {
      "application/vnd.jupyter.widget-view+json": {
       "model_id": "9d95240ef93b406b930d0040116f32b4",
       "version_major": 2,
       "version_minor": 0
      },
      "text/plain": [
       "  0%|          | 0/1000000 [00:00<?, ?it/s]"
      ]
     },
     "metadata": {},
     "output_type": "display_data"
    },
    {
     "name": "stdout",
     "output_type": "stream",
     "text": [
      "[('owgaze1_t0', 'pull1_t1')]\n"
     ]
    },
    {
     "data": {
      "application/vnd.jupyter.widget-view+json": {
       "model_id": "c4c75bfb083640bda432ab5c910849ed",
       "version_major": 2,
       "version_minor": 0
      },
      "text/plain": [
       "  0%|          | 0/1000000 [00:00<?, ?it/s]"
      ]
     },
     "metadata": {},
     "output_type": "display_data"
    },
    {
     "name": "stdout",
     "output_type": "stream",
     "text": [
      "[]\n"
     ]
    },
    {
     "data": {
      "application/vnd.jupyter.widget-view+json": {
       "model_id": "d96171f559d247c5b25f9948c1a27272",
       "version_major": 2,
       "version_minor": 0
      },
      "text/plain": [
       "  0%|          | 0/1000000 [00:00<?, ?it/s]"
      ]
     },
     "metadata": {},
     "output_type": "display_data"
    },
    {
     "name": "stdout",
     "output_type": "stream",
     "text": [
      "[('pull1_t0', 'owgaze2_t1'), ('owgaze1_t0', 'pull1_t1')]\n"
     ]
    },
    {
     "data": {
      "application/vnd.jupyter.widget-view+json": {
       "model_id": "dbb5dd4ee0964ded8aa14ddeb831a6d5",
       "version_major": 2,
       "version_minor": 0
      },
      "text/plain": [
       "  0%|          | 0/1000000 [00:00<?, ?it/s]"
      ]
     },
     "metadata": {},
     "output_type": "display_data"
    },
    {
     "name": "stdout",
     "output_type": "stream",
     "text": [
      "[('pull1_t0', 'owgaze2_t1'), ('owgaze1_t0', 'pull1_t1')]\n"
     ]
    },
    {
     "data": {
      "application/vnd.jupyter.widget-view+json": {
       "model_id": "4be049685f07409cbbe750b9e3db846e",
       "version_major": 2,
       "version_minor": 0
      },
      "text/plain": [
       "  0%|          | 0/1000000 [00:00<?, ?it/s]"
      ]
     },
     "metadata": {},
     "output_type": "display_data"
    },
    {
     "name": "stdout",
     "output_type": "stream",
     "text": [
      "[('pull1_t0', 'owgaze2_t1'), ('owgaze1_t0', 'pull1_t1')]\n"
     ]
    },
    {
     "data": {
      "application/vnd.jupyter.widget-view+json": {
       "model_id": "debc3b19a01741a59e71343e335cf3d2",
       "version_major": 2,
       "version_minor": 0
      },
      "text/plain": [
       "  0%|          | 0/1000000 [00:00<?, ?it/s]"
      ]
     },
     "metadata": {},
     "output_type": "display_data"
    },
    {
     "name": "stdout",
     "output_type": "stream",
     "text": [
      "[('pull1_t0', 'owgaze2_t1'), ('owgaze1_t0', 'pull1_t1')]\n"
     ]
    },
    {
     "data": {
      "application/vnd.jupyter.widget-view+json": {
       "model_id": "2c8daf6e162e462fa36fc20b478b78d1",
       "version_major": 2,
       "version_minor": 0
      },
      "text/plain": [
       "  0%|          | 0/1000000 [00:00<?, ?it/s]"
      ]
     },
     "metadata": {},
     "output_type": "display_data"
    },
    {
     "name": "stdout",
     "output_type": "stream",
     "text": [
      "[('pull1_t0', 'owgaze2_t1'), ('owgaze1_t0', 'pull1_t1')]\n"
     ]
    },
    {
     "data": {
      "application/vnd.jupyter.widget-view+json": {
       "model_id": "cc4b076391044dfd8fe4a1a7755c8df8",
       "version_major": 2,
       "version_minor": 0
      },
      "text/plain": [
       "  0%|          | 0/1000000 [00:00<?, ?it/s]"
      ]
     },
     "metadata": {},
     "output_type": "display_data"
    },
    {
     "name": "stdout",
     "output_type": "stream",
     "text": [
      "[('pull1_t0', 'pull2_t1'), ('owgaze1_t0', 'owgaze2_t1'), ('owgaze2_t0', 'pull1_t1')]\n"
     ]
    },
    {
     "data": {
      "application/vnd.jupyter.widget-view+json": {
       "model_id": "52dfecc7d97e4119bea2a1902a738b38",
       "version_major": 2,
       "version_minor": 0
      },
      "text/plain": [
       "  0%|          | 0/1000000 [00:00<?, ?it/s]"
      ]
     },
     "metadata": {},
     "output_type": "display_data"
    },
    {
     "name": "stdout",
     "output_type": "stream",
     "text": [
      "[('pull1_t0', 'pull2_t1'), ('owgaze1_t0', 'owgaze2_t1'), ('owgaze2_t0', 'pull1_t1')]\n"
     ]
    },
    {
     "data": {
      "application/vnd.jupyter.widget-view+json": {
       "model_id": "000d240eacdf4155b28317f26b4f5547",
       "version_major": 2,
       "version_minor": 0
      },
      "text/plain": [
       "  0%|          | 0/1000000 [00:00<?, ?it/s]"
      ]
     },
     "metadata": {},
     "output_type": "display_data"
    },
    {
     "name": "stdout",
     "output_type": "stream",
     "text": [
      "[('pull2_t0', 'pull2_t1'), ('owgaze2_t0', 'owgaze2_t1')]\n"
     ]
    },
    {
     "data": {
      "application/vnd.jupyter.widget-view+json": {
       "model_id": "89030d98d2f84983865b5e203d89fc0a",
       "version_major": 2,
       "version_minor": 0
      },
      "text/plain": [
       "  0%|          | 0/1000000 [00:00<?, ?it/s]"
      ]
     },
     "metadata": {},
     "output_type": "display_data"
    },
    {
     "name": "stdout",
     "output_type": "stream",
     "text": [
      "[('pull2_t0', 'pull2_t1'), ('owgaze2_t0', 'owgaze2_t1'), ('owgaze2_t0', 'pull1_t1')]\n"
     ]
    },
    {
     "data": {
      "application/vnd.jupyter.widget-view+json": {
       "model_id": "9425f3d6bf6d4178ac9550d0aa355bb9",
       "version_major": 2,
       "version_minor": 0
      },
      "text/plain": [
       "  0%|          | 0/1000000 [00:00<?, ?it/s]"
      ]
     },
     "metadata": {},
     "output_type": "display_data"
    },
    {
     "name": "stdout",
     "output_type": "stream",
     "text": [
      "[('pull2_t0', 'pull2_t1'), ('owgaze2_t0', 'owgaze2_t1'), ('owgaze2_t0', 'pull1_t1')]\n"
     ]
    },
    {
     "data": {
      "application/vnd.jupyter.widget-view+json": {
       "model_id": "1b6bba008bc24fa5a61d2072f71ef1e2",
       "version_major": 2,
       "version_minor": 0
      },
      "text/plain": [
       "  0%|          | 0/1000000 [00:00<?, ?it/s]"
      ]
     },
     "metadata": {},
     "output_type": "display_data"
    },
    {
     "name": "stdout",
     "output_type": "stream",
     "text": [
      "[('pull2_t0', 'pull2_t1'), ('owgaze2_t0', 'owgaze2_t1'), ('owgaze2_t0', 'pull1_t1')]\n"
     ]
    },
    {
     "data": {
      "application/vnd.jupyter.widget-view+json": {
       "model_id": "a48013172a7544b4abb42149281117d0",
       "version_major": 2,
       "version_minor": 0
      },
      "text/plain": [
       "  0%|          | 0/1000000 [00:00<?, ?it/s]"
      ]
     },
     "metadata": {},
     "output_type": "display_data"
    },
    {
     "name": "stdout",
     "output_type": "stream",
     "text": [
      "[('pull2_t0', 'pull2_t1'), ('pull2_t0', 'pull1_t1'), ('owgaze1_t0', 'owgaze1_t1')]\n"
     ]
    },
    {
     "data": {
      "application/vnd.jupyter.widget-view+json": {
       "model_id": "8261fb596e3d4a9993a1c80bf5eae391",
       "version_major": 2,
       "version_minor": 0
      },
      "text/plain": [
       "  0%|          | 0/1000000 [00:00<?, ?it/s]"
      ]
     },
     "metadata": {},
     "output_type": "display_data"
    },
    {
     "name": "stdout",
     "output_type": "stream",
     "text": [
      "[('pull2_t0', 'pull2_t1'), ('pull2_t0', 'pull1_t1')]\n"
     ]
    },
    {
     "data": {
      "application/vnd.jupyter.widget-view+json": {
       "model_id": "f21160364e3248a4b5897c3bcae79d38",
       "version_major": 2,
       "version_minor": 0
      },
      "text/plain": [
       "  0%|          | 0/1000000 [00:00<?, ?it/s]"
      ]
     },
     "metadata": {},
     "output_type": "display_data"
    },
    {
     "name": "stdout",
     "output_type": "stream",
     "text": [
      "[('pull1_t0', 'pull1_t1'), ('pull2_t0', 'pull2_t1')]\n"
     ]
    },
    {
     "data": {
      "application/vnd.jupyter.widget-view+json": {
       "model_id": "81075bebddab4d3b8dac31fa95acb01f",
       "version_major": 2,
       "version_minor": 0
      },
      "text/plain": [
       "  0%|          | 0/1000000 [00:00<?, ?it/s]"
      ]
     },
     "metadata": {},
     "output_type": "display_data"
    },
    {
     "name": "stdout",
     "output_type": "stream",
     "text": [
      "[('pull1_t0', 'pull1_t1'), ('pull2_t0', 'pull2_t1')]\n"
     ]
    },
    {
     "data": {
      "application/vnd.jupyter.widget-view+json": {
       "model_id": "0ea4a5c772f1495fb1769f6b3b1effe6",
       "version_major": 2,
       "version_minor": 0
      },
      "text/plain": [
       "  0%|          | 0/1000000 [00:00<?, ?it/s]"
      ]
     },
     "metadata": {},
     "output_type": "display_data"
    },
    {
     "name": "stdout",
     "output_type": "stream",
     "text": [
      "[('pull1_t0', 'pull1_t1'), ('pull2_t0', 'pull2_t1')]\n"
     ]
    },
    {
     "data": {
      "application/vnd.jupyter.widget-view+json": {
       "model_id": "4e5212fd68fe405f9a836165bbf88da2",
       "version_major": 2,
       "version_minor": 0
      },
      "text/plain": [
       "  0%|          | 0/1000000 [00:00<?, ?it/s]"
      ]
     },
     "metadata": {},
     "output_type": "display_data"
    },
    {
     "name": "stdout",
     "output_type": "stream",
     "text": [
      "[('pull1_t0', 'pull1_t1'), ('pull2_t0', 'pull2_t1'), ('pull2_t0', 'owgaze1_t1')]\n"
     ]
    },
    {
     "data": {
      "application/vnd.jupyter.widget-view+json": {
       "model_id": "abb5f51fff254b7c925ecd070e274ce8",
       "version_major": 2,
       "version_minor": 0
      },
      "text/plain": [
       "  0%|          | 0/1000000 [00:00<?, ?it/s]"
      ]
     },
     "metadata": {},
     "output_type": "display_data"
    },
    {
     "name": "stdout",
     "output_type": "stream",
     "text": [
      "[('pull1_t0', 'pull1_t1'), ('pull1_t0', 'owgaze1_t1'), ('pull2_t0', 'pull2_t1')]\n"
     ]
    },
    {
     "data": {
      "application/vnd.jupyter.widget-view+json": {
       "model_id": "eb4b6475622a4e1c9a3a85d43667b424",
       "version_major": 2,
       "version_minor": 0
      },
      "text/plain": [
       "  0%|          | 0/1000000 [00:00<?, ?it/s]"
      ]
     },
     "metadata": {},
     "output_type": "display_data"
    },
    {
     "name": "stdout",
     "output_type": "stream",
     "text": [
      "[]\n"
     ]
    },
    {
     "data": {
      "application/vnd.jupyter.widget-view+json": {
       "model_id": "c38f97f1fdfc4b51b6da1f18179bd42d",
       "version_major": 2,
       "version_minor": 0
      },
      "text/plain": [
       "  0%|          | 0/1000000 [00:00<?, ?it/s]"
      ]
     },
     "metadata": {},
     "output_type": "display_data"
    },
    {
     "name": "stdout",
     "output_type": "stream",
     "text": [
      "[('pull2_t0', 'pull1_t1')]\n"
     ]
    },
    {
     "data": {
      "application/vnd.jupyter.widget-view+json": {
       "model_id": "f03a0388a93c4cc9a95e0de171d0ac06",
       "version_major": 2,
       "version_minor": 0
      },
      "text/plain": [
       "  0%|          | 0/1000000 [00:00<?, ?it/s]"
      ]
     },
     "metadata": {},
     "output_type": "display_data"
    },
    {
     "name": "stdout",
     "output_type": "stream",
     "text": [
      "[]\n"
     ]
    },
    {
     "data": {
      "application/vnd.jupyter.widget-view+json": {
       "model_id": "09f5816de0454c7c9fa48c5625fc646d",
       "version_major": 2,
       "version_minor": 0
      },
      "text/plain": [
       "  0%|          | 0/1000000 [00:00<?, ?it/s]"
      ]
     },
     "metadata": {},
     "output_type": "display_data"
    },
    {
     "name": "stdout",
     "output_type": "stream",
     "text": [
      "[('owgaze1_t0', 'owgaze1_t1')]\n"
     ]
    },
    {
     "data": {
      "application/vnd.jupyter.widget-view+json": {
       "model_id": "c3c3a87a7e144041b20b81144777d849",
       "version_major": 2,
       "version_minor": 0
      },
      "text/plain": [
       "  0%|          | 0/1000000 [00:00<?, ?it/s]"
      ]
     },
     "metadata": {},
     "output_type": "display_data"
    },
    {
     "name": "stdout",
     "output_type": "stream",
     "text": [
      "[]\n"
     ]
    },
    {
     "data": {
      "application/vnd.jupyter.widget-view+json": {
       "model_id": "697049d84a364a1ca4fca0fec89ac36c",
       "version_major": 2,
       "version_minor": 0
      },
      "text/plain": [
       "  0%|          | 0/1000000 [00:00<?, ?it/s]"
      ]
     },
     "metadata": {},
     "output_type": "display_data"
    },
    {
     "name": "stdout",
     "output_type": "stream",
     "text": [
      "[]\n"
     ]
    },
    {
     "data": {
      "application/vnd.jupyter.widget-view+json": {
       "model_id": "39836923c79e4e949e59f979aed00f04",
       "version_major": 2,
       "version_minor": 0
      },
      "text/plain": [
       "  0%|          | 0/1000000 [00:00<?, ?it/s]"
      ]
     },
     "metadata": {},
     "output_type": "display_data"
    },
    {
     "name": "stdout",
     "output_type": "stream",
     "text": [
      "[('pull1_t0', 'pull1_t1'), ('owgaze1_t0', 'owgaze1_t1')]\n"
     ]
    },
    {
     "data": {
      "application/vnd.jupyter.widget-view+json": {
       "model_id": "6ef0c87b9e554c0694dc4b02c8688599",
       "version_major": 2,
       "version_minor": 0
      },
      "text/plain": [
       "  0%|          | 0/1000000 [00:00<?, ?it/s]"
      ]
     },
     "metadata": {},
     "output_type": "display_data"
    },
    {
     "name": "stdout",
     "output_type": "stream",
     "text": [
      "[('pull1_t0', 'pull1_t1')]\n"
     ]
    },
    {
     "data": {
      "application/vnd.jupyter.widget-view+json": {
       "model_id": "e131fe2c71784430ab0423b2ea2f1cb0",
       "version_major": 2,
       "version_minor": 0
      },
      "text/plain": [
       "  0%|          | 0/1000000 [00:00<?, ?it/s]"
      ]
     },
     "metadata": {},
     "output_type": "display_data"
    },
    {
     "name": "stdout",
     "output_type": "stream",
     "text": [
      "[('pull1_t0', 'pull1_t1'), ('owgaze1_t0', 'owgaze1_t1')]\n"
     ]
    },
    {
     "data": {
      "application/vnd.jupyter.widget-view+json": {
       "model_id": "2d40a5529dc04fc5b311f9269444a17c",
       "version_major": 2,
       "version_minor": 0
      },
      "text/plain": [
       "  0%|          | 0/1000000 [00:00<?, ?it/s]"
      ]
     },
     "metadata": {},
     "output_type": "display_data"
    },
    {
     "name": "stdout",
     "output_type": "stream",
     "text": [
      "[('pull1_t0', 'pull1_t1')]\n"
     ]
    },
    {
     "data": {
      "image/png": "[encoded data removed]",
      "text/plain": [
       "<Figure size 1800x360 with 2 Axes>"
      ]
     },
     "metadata": {
      "needs_background": "light"
     },
     "output_type": "display_data"
    },
    {
     "data": {
      "image/png": "[encoded data removed]",
      "text/plain": [
       "<Figure size 1800x360 with 2 Axes>"
      ]
     },
     "metadata": {
      "needs_background": "light"
     },
     "output_type": "display_data"
    },
    {
     "data": {
      "image/png": "[encoded data removed]",
      "text/plain": [
       "<Figure size 1800x360 with 2 Axes>"
      ]
     },
     "metadata": {
      "needs_background": "light"
     },
     "output_type": "display_data"
    },
    {
     "data": {
      "image/png": "[encoded data removed]",
      "text/plain": [
       "<Figure size 1800x360 with 2 Axes>"
      ]
     },
     "metadata": {
      "needs_background": "light"
     },
     "output_type": "display_data"
    },
    {
     "data": {
      "image/png": "[encoded data removed]",
      "text/plain": [
       "<Figure size 1800x360 with 2 Axes>"
      ]
     },
     "metadata": {
      "needs_background": "light"
     },
     "output_type": "display_data"
    },
    {
     "data": {
      "image/png": "[encoded data removed]",
      "text/plain": [
       "<Figure size 1800x360 with 2 Axes>"
      ]
     },
     "metadata": {
      "needs_background": "light"
     },
     "output_type": "display_data"
    },
    {
     "data": {
      "image/png": "[encoded data removed]",
      "text/plain": [
       "<Figure size 1800x360 with 2 Axes>"
      ]
     },
     "metadata": {
      "needs_background": "light"
     },
     "output_type": "display_data"
    }
   ],
   "source": [
    "# gaze angle threshold\n",
    "# angle_thres = np.pi/36 # 5 degree\n",
    "# angle_thres = np.pi/18 # 10 degree\n",
    "angle_thres = np.pi/6 # 30 degree\n",
    "angle_thres_name = '30'\n",
    "\n",
    "merge_campair = '_pair23' # '': merge the two pairs; \"_pair12(23)\": use camera pair 1 and 2 (2 and 3) \n",
    "\n",
    "# get the fps of the analyzed video\n",
    "fps = 30\n",
    "\n",
    "# re-analyze the video or not\n",
    "reanalyze_video = 0\n",
    "\n",
    "dates_list = [\"20220909\",\"20220912\",\"20220915\",\"20220920\",\"20220922\",\"20220923\",\"20221010\"]\n",
    "# dates_list = [\"20221010\"]\n",
    "ndates = np.shape(dates_list)[0]\n",
    "\n",
    "animal1_fixedorder = 'dodson'\n",
    "animal2_fixedorder = 'scorch'\n",
    "\n",
    "# aligned with the audio\n",
    "# get the session start time from \"videosound_bhv_sync.py/.ipynb\"\n",
    "# currently the session_start_time will be manually typed in. It can be updated after a better method is used\n",
    "session_start_times = [6.50,18.10,0,33.03,549.0,116.80,6.50] # in second\n",
    "# session_start_times = [6.50] # in second\n",
    "session_start_frames = session_start_times * fps # fps is 30Hz\n",
    "\n",
    "DAGs_all_dates = np.zeros((ndates,4,4))\n",
    "DAGs_thres_dates = np.zeros((ndates,4,4))\n",
    "ntempres_dates = np.zeros((ndates,1,1))\n",
    "tasktypes_all_dates = np.zeros((ndates,1))\n",
    "coopthres_all_dates = np.zeros((ndates,1))\n",
    "\n",
    "for idate in np.arange(0,ndates,1):\n",
    "    date_tgt = dates_list[idate]\n",
    "    session_start_time = session_start_times[idate]\n",
    "    \n",
    "    # folder path\n",
    "    camera12_analyzed_path = \"/ysm-gpfs/pi/jadi/VideoTracker_SocialInter/test_video_3d/\"+date_tgt+\"_Dodson_Scorch_camera12/\"\n",
    "    camera23_analyzed_path = \"/ysm-gpfs/pi/jadi/VideoTracker_SocialInter/test_video_3d/\"+date_tgt+\"_Dodson_Scorch_camera23/\"\n",
    "    \n",
    "    \n",
    "    # load camera tracking results\n",
    "    try:\n",
    "        if reanalyze_video:\n",
    "            print(\"re-analyze the data\")\n",
    "            dummy\n",
    "        ## read\n",
    "        with open(camera23_analyzed_path + 'body_part_locs_camera23.pkl', 'rb') as f:\n",
    "            body_part_locs_camera23 = pickle.load(f) \n",
    "        with open(camera12_analyzed_path + 'body_part_locs_camera12.pkl', 'rb') as f:\n",
    "            body_part_locs_camera12 = pickle.load(f) \n",
    "    except:\n",
    "        print(\"did not save data - body part tracking\")\n",
    "        # analyze and save\n",
    "        camera12_h5_file = camera12_analyzed_path +date_tgt+\"_Dodson_Scorch_weikang.h5\"\n",
    "        camera12_h5_data = pd.read_hdf(camera12_h5_file)\n",
    "        body_part_locs_camera12 = body_part_locs_eachpair(camera12_h5_data)\n",
    "        with open(camera12_analyzed_path + 'body_part_locs_camera12.pkl', 'wb') as f:\n",
    "            pickle.dump(body_part_locs_camera12, f)\n",
    "        #\n",
    "        camera23_h5_file = camera23_analyzed_path +date_tgt+\"_Dodson_Scorch_weikang.h5\"\n",
    "        camera23_h5_data = pd.read_hdf(camera23_h5_file)\n",
    "        body_part_locs_camera23 = body_part_locs_eachpair(camera23_h5_data)\n",
    "        with open(camera23_analyzed_path + 'body_part_locs_camera23.pkl', 'wb') as f:\n",
    "            pickle.dump(body_part_locs_camera23, f)\n",
    "    \n",
    "    # load behavioral results\n",
    "    try:\n",
    "        bhv_data_path = \"/home/ws523/marmoset_tracking_bhv_data_from_task_code/\"+date_tgt+\"_Dodson_Scorch/\"\n",
    "        trial_record_json = bhv_data_path +date_tgt+\"_Scorch_Dodson_TrialRecord_1.json\"\n",
    "        bhv_data_json = bhv_data_path + date_tgt+\"_Scorch_Dodson_bhv_data_1.json\"\n",
    "        session_info_json = bhv_data_path + date_tgt+\"_Scorch_Dodson_session_info_1.json\"\n",
    "        #\n",
    "        trial_record = pd.read_json(trial_record_json)\n",
    "        bhv_data = pd.read_json(bhv_data_json)\n",
    "        session_info = pd.read_json(session_info_json)\n",
    "    except:\n",
    "        bhv_data_path = \"/home/ws523/marmoset_tracking_bhv_data_from_task_code/\"+date_tgt+\"_Dodson_Scorch/\"\n",
    "        trial_record_json = bhv_data_path + date_tgt+\"_Dodson_Scorch_TrialRecord_1.json\"\n",
    "        bhv_data_json = bhv_data_path + date_tgt+\"_Dodson_Scorch_bhv_data_1.json\"\n",
    "        session_info_json = bhv_data_path + date_tgt+\"_Dodson_Scorch_session_info_1.json\"\n",
    "        #\n",
    "        trial_record = pd.read_json(trial_record_json)\n",
    "        bhv_data = pd.read_json(bhv_data_json)\n",
    "        session_info = pd.read_json(session_info_json)\n",
    "    \n",
    "    # get animal info\n",
    "    animal1 = session_info['lever1_animal'][0].lower()\n",
    "    animal2 = session_info['lever2_animal'][0].lower()\n",
    "    \n",
    "    # get task type and cooperation threshold\n",
    "    try:\n",
    "        coop_thres = session_info[\"pulltime_thres\"][0]\n",
    "        tasktype = session_info[\"task_type\"][0]\n",
    "    except:\n",
    "        coop_thres = 0\n",
    "        tasktype = 1\n",
    "    \n",
    "    tasktypes_all_dates[idate] = tasktype\n",
    "    coopthres_all_dates[idate] = coop_thres\n",
    "\n",
    "    \n",
    "    # clean up the trial_record\n",
    "    warnings.filterwarnings('ignore')\n",
    "    trial_record_clean = pd.DataFrame(columns=trial_record.columns)\n",
    "    for itrial in np.arange(0,np.max(trial_record['trial_number']),1):\n",
    "        # trial_record_clean.loc[itrial] = trial_record[trial_record['trial_number']==itrial+1].iloc[[0]]\n",
    "        trial_record_clean = trial_record_clean.append(trial_record[trial_record['trial_number']==itrial+1].iloc[[0]])\n",
    "    trial_record_clean = trial_record_clean.reset_index(drop = True)\n",
    "    \n",
    "    # change bhv_data time to the absolute time\n",
    "    time_points_new = pd.DataFrame(np.zeros(np.shape(bhv_data)[0]),columns=[\"time_points_new\"])\n",
    "    for itrial in np.arange(0,np.max(trial_record_clean['trial_number']),1):\n",
    "        ind = bhv_data[\"trial_number\"]==itrial+1\n",
    "        new_time_itrial = bhv_data[ind][\"time_points\"] + trial_record_clean[\"trial_starttime\"].iloc[itrial]\n",
    "        time_points_new[\"time_points_new\"][ind] = new_time_itrial\n",
    "    bhv_data[\"time_points\"] = time_points_new[\"time_points_new\"]\n",
    "    bhv_data = bhv_data[bhv_data[\"time_points\"] != 0]\n",
    "\n",
    "    \n",
    "    # load behavioral event results\n",
    "    try:\n",
    "        # dummy\n",
    "        if reanalyze_video:\n",
    "            print(\"re-analyze the data\")\n",
    "            dummy\n",
    "        # load data\n",
    "        with open(camera23_analyzed_path + 'time_point_pull1'+merge_campair+'_gazeAngle'+angle_thres_name+'.pkl', 'rb') as f:\n",
    "            time_point_pull1 = pickle.load(f) \n",
    "        with open(camera23_analyzed_path + 'time_point_pull2'+merge_campair+'_gazeAngle'+angle_thres_name+'.pkl', 'rb') as f:\n",
    "            time_point_pull2 = pickle.load(f) \n",
    "        with open(camera23_analyzed_path + 'oneway_gaze1'+merge_campair+'_gazeAngle'+angle_thres_name+'.pkl', 'rb') as f:\n",
    "            oneway_gaze1 = pickle.load(f) \n",
    "        with open(camera23_analyzed_path + 'oneway_gaze2'+merge_campair+'_gazeAngle'+angle_thres_name+'.pkl', 'rb') as f:\n",
    "            oneway_gaze2 = pickle.load(f) \n",
    "        with open(camera23_analyzed_path + 'mutual_gaze1'+merge_campair+'_gazeAngle'+angle_thres_name+'.pkl', 'rb') as f:\n",
    "            mutual_gaze1 = pickle.load(f) \n",
    "        with open(camera23_analyzed_path + 'mutual_gaze2'+merge_campair+'_gazeAngle'+angle_thres_name+'.pkl', 'rb') as f:\n",
    "            mutual_gaze2 = pickle.load(f) \n",
    "    except:\n",
    "        if merge_campair == '':\n",
    "            print(\"did not save data - align two pairs and get social gazes\")\n",
    "            # Align the two pairs of camera\n",
    "            RR_sum, tt_sum, err_sum = camera_align(body_part_locs_camera23, body_part_locs_camera12)\n",
    "            # Merge two pairs of camera\n",
    "            body_part_locs_merge = camera_merge(body_part_locs_camera23, body_part_locs_camera12, RR_sum, tt_sum, err_sum)\n",
    "        elif merge_campair == '_pair12':\n",
    "            print(\"did not save data - only use camera pair 1 and 2\")\n",
    "            body_part_locs_merge = body_part_locs_camera12\n",
    "        elif merge_campair == '_pair23':\n",
    "            print(\"did not save data - only use camera pair 2 and 3\")\n",
    "            body_part_locs_merge = body_part_locs_camera23\n",
    "            \n",
    "        # get social gaze information \n",
    "        eye_direction_merge, eye_contact_or_not_merge, look_at_face_or_not_merge = find_socialgaze_timepoint(body_part_locs_camera23, body_part_locs_camera12, body_part_locs_merge, angle_thres)\n",
    "        # change the unit to second\n",
    "        session_start_time = session_start_times[idate]\n",
    "        eye_direction_merge['time_in_second'] = np.arange(0,np.shape(eye_direction_merge['dodson'])[0],1)/fps - session_start_time\n",
    "        eye_contact_or_not_merge['time_in_second'] = np.arange(0,np.shape(eye_contact_or_not_merge['dodson'])[0],1)/fps - session_start_time\n",
    "        look_at_face_or_not_merge['time_in_second'] = np.arange(0,np.shape(look_at_face_or_not_merge['dodson'])[0],1)/fps - session_start_time \n",
    "  \n",
    "        # fine time point of behavioral events\n",
    "        time_point_pull1, time_point_pull2, oneway_gaze1, oneway_gaze2, mutual_gaze1, mutual_gaze2 = bhv_events_timepoint(bhv_data, eye_direction_merge, eye_contact_or_not_merge, look_at_face_or_not_merge)\n",
    "        # save data\n",
    "        with open(camera23_analyzed_path + 'time_point_pull1'+merge_campair+'_gazeAngle'+angle_thres_name+'.pkl', 'wb') as f:\n",
    "            pickle.dump(time_point_pull1, f)\n",
    "        with open(camera23_analyzed_path + 'time_point_pull2'+merge_campair+'_gazeAngle'+angle_thres_name+'.pkl', 'wb') as f:\n",
    "            pickle.dump(time_point_pull2, f)\n",
    "        with open(camera23_analyzed_path + 'oneway_gaze1'+merge_campair+'_gazeAngle'+angle_thres_name+'.pkl', 'wb') as f:\n",
    "            pickle.dump(oneway_gaze1, f)\n",
    "        with open(camera23_analyzed_path + 'oneway_gaze2'+merge_campair+'_gazeAngle'+angle_thres_name+'.pkl', 'wb') as f:\n",
    "            pickle.dump(oneway_gaze2, f)\n",
    "        with open(camera23_analyzed_path + 'mutual_gaze1'+merge_campair+'_gazeAngle'+angle_thres_name+'.pkl', 'wb') as f:\n",
    "            pickle.dump(mutual_gaze1, f)\n",
    "        with open(camera23_analyzed_path + 'mutual_gaze2'+merge_campair+'_gazeAngle'+angle_thres_name+'.pkl', 'wb') as f:\n",
    "            pickle.dump(mutual_gaze2, f)\n",
    "    \n",
    "    \n",
    "    # # plot the merged tracking demo\n",
    "    if 0:\n",
    "        body_part_locs = body_part_locs_merge\n",
    "        # nframes = list(body_part_locs.values())[0].shape[0]\n",
    "        nframes = 100\n",
    "        tracking_video_demo(camera23_analyzed_path, body_part_locs, nframes)\n",
    "    \n",
    "    \n",
    "    # # plot behavioral events\n",
    "    if animal1 == animal1_fixedorder:\n",
    "        plot_bhv_events(animal1, animal2, session_start_time, time_point_pull1, time_point_pull2, oneway_gaze1, oneway_gaze2, mutual_gaze1, mutual_gaze2)\n",
    "    else:\n",
    "        plot_bhv_events(animal2, animal1, session_start_time, time_point_pull2, time_point_pull1, oneway_gaze2, oneway_gaze1, mutual_gaze2, mutual_gaze1)\n",
    "        \n",
    "    # # plot inter-pull interval\n",
    "    # plot_interpull_interval(animal1, animal2, time_point_pull1, time_point_pull2)\n",
    "    \n",
    "    # # train the dynamic bayesian network - simple model\n",
    "    # temp_resolu = 0.5 # temporala resolution in the DBN model 0.5 means 500ms\n",
    "    # model = train_DBN(totalsess_time,temp_resolu, time_point_pull1, time_point_pull2, oneway_gaze1, oneway_gaze2, mutual_gaze1, mutual_gaze2)\n",
    "    # plot the simple DBN\n",
    "    # pos=nx.spring_layout(model)\n",
    "    # nx.draw(model,pos,with_labels = True)\n",
    "    # labels = nx.get_edge_attributes(model,'weight')\n",
    "    # nx.draw_networkx_edge_labels(model,pos,edge_labels=labels\n",
    "    # model.get_cpds()\n",
    "    \n",
    "    # # train the dynamic bayesian network - Alec's model\n",
    "    # temp_resolu = 2 # temporal resolution in the DBN model, eg: 0.5 means 500ms\n",
    "    # totalsess_time = 660 # total session time in s\n",
    "    # best_model, edges, DAGs,_,_,_ = train_DBN_alec(totalsess_time, temp_resolu, time_point_pull1, time_point_pull2, oneway_gaze1, oneway_gaze2, mutual_gaze1, mutual_gaze2)\n",
    "    \n",
    "    # # train the dynamic bayesian network - Alec's model for separate \"trials\"\n",
    "    # temp_resolu = 2 # temporala resolution in the DBN model 0.5 means 500ms\n",
    "    # totalsess_time = 600 # total session time in s\n",
    "    # DAGs_itrial, weighted_graphs,_,_,_ = train_DBN_alec_eachtrial(totalsess_time, temp_resolu, time_point_pull1, time_point_pull2, oneway_gaze1, oneway_gaze2, mutual_gaze1, mutual_gaze2)\n",
    "    \n",
    "    # # train the dynamic bayesian network - Alec's model, try different time step\n",
    "    # temp_resolus = [0.5,1,1.5,2,2.5,3,3.5,4,4.5,5,5.5,6,6.5,7,7.5,8,8.5] # temporal resolution in the DBN model, eg: 0.5 means 500ms\n",
    "    # use bhv event to decide temporal resolution\n",
    "    totalsess_time = 660 # total session time in s\n",
    "    low_lim, up_lim = bhv_events_interval(totalsess_time, time_point_pull1, time_point_pull2, oneway_gaze1, oneway_gaze2, mutual_gaze1, mutual_gaze2)\n",
    "    temp_resolus = temp_resolus = np.arange(low_lim,up_lim,0.5)\n",
    "    \n",
    "    ntemp_reses = np.shape(temp_resolus)[0]\n",
    "    \n",
    "    DAGs_all_tempres = np.zeros([4,4])\n",
    "    for temp_resolu in temp_resolus:\n",
    "        if animal1 == animal1_fixedorder:\n",
    "            best_model,edges,DAGs,eventnames,from_pops,to_pops = train_DBN_alec(totalsess_time, temp_resolu, time_point_pull1, time_point_pull2, oneway_gaze1, oneway_gaze2, mutual_gaze1, mutual_gaze2)\n",
    "        else:\n",
    "            best_model,edges,DAGs,eventnames,from_pops,to_pops = train_DBN_alec(totalsess_time, temp_resolu, time_point_pull2, time_point_pull1, oneway_gaze2, oneway_gaze1, mutual_gaze2, mutual_gaze1)     \n",
    "        print(edges)\n",
    "        DAGs[0][np.isnan(DAGs[0])]=0\n",
    "        DAGs_all_tempres = DAGs_all_tempres + DAGs[0]\n",
    "        \n",
    "    DAGs_all_tempres = DAGs_all_tempres/ntemp_reses\n",
    "    DAGs_thres_tempres = np.zeros([4,4])\n",
    "    DAGs_thres_tempres[DAGs_all_tempres>0.5]=1\n",
    "    #\n",
    "    DAGs_all_dates[idate,:,:]= DAGs_all_tempres\n",
    "    DAGs_thres_dates[idate,:,:] = DAGs_thres_tempres\n",
    "    ntempres_dates[idate,:,:] = ntemp_reses\n",
    "    #\n",
    "    # edge_list = [(from_pop,to_pop) for from_pop in from_pops for to_pop in to_pops]\n",
    "    # ind_edges = np.reshape(np.transpose(np.mean(DAGs_thres_dates,axis=0)>0.15),(16,1))\n",
    "    # edges_good = [edge_list[i] for i in np.where(ind_edges)[0]]"
   ]
  },
  {
   "cell_type": "markdown",
   "id": "3827e076",
   "metadata": {},
   "source": [
    "### plot the transition probability from social gaze to pull"
   ]
  },
  {
   "cell_type": "code",
   "execution_count": 42,
   "id": "90c618d1",
   "metadata": {},
   "outputs": [
    {
     "data": {
      "image/png": "[encoded data removed]",
      "text/plain": [
       "<Figure size 720x360 with 2 Axes>"
      ]
     },
     "metadata": {
      "needs_background": "light"
     },
     "output_type": "display_data"
    }
   ],
   "source": [
    "fig, ax1 = plt.subplots(figsize=(10, 5))\n",
    "#\n",
    "ax1.plot(DAGs_all_dates[:,2,0],'o-',label = \"socialgaze1->pull1\")\n",
    "ax1.plot(DAGs_all_dates[:,2,1],'o-',label = \"socialgaze1->pull2\")\n",
    "ax1.plot(DAGs_all_dates[:,3,0],'o-',label = \"socialgaze2->pull1\")\n",
    "ax1.plot(DAGs_all_dates[:,3,1],'o-',label = \"socialgaze2->pull2\")\n",
    "ax1.legend(fontsize=12)\n",
    "ax1.set_ylim(-0.1,1.1)\n",
    "ax1.set_ylabel(\"transition probability\",fontsize=13)\n",
    "#\n",
    "plt.xticks(np.arange(0,ndates,1),dates_list, rotation=90,fontsize=10)\n",
    "plt.yticks(fontsize=10)\n",
    "plt.title(\"transition probability from social gaze to pull\", fontsize = 14)\n",
    "#\n",
    "ax2 = ax1.twinx()\n",
    "ax2.plot(coopthres_all_dates,'y.')\n",
    "ax2.set_ylim(-3.1,5.1)\n",
    "ax2.set_ylabel(\"cooperation threshold\",fontsize=13)\n",
    "#\n",
    "plt.show()"
   ]
  },
  {
   "cell_type": "markdown",
   "id": "cf0edf68",
   "metadata": {},
   "source": [
    "### plot the transition probability from pull to social gaze"
   ]
  },
  {
   "cell_type": "code",
   "execution_count": 43,
   "id": "ef786b88",
   "metadata": {},
   "outputs": [
    {
     "data": {
      "image/png": "[encoded data removed]",
      "text/plain": [
       "<Figure size 720x360 with 2 Axes>"
      ]
     },
     "metadata": {
      "needs_background": "light"
     },
     "output_type": "display_data"
    }
   ],
   "source": [
    "fig, ax1 = plt.subplots(figsize=(10, 5))\n",
    "#\n",
    "ax1.plot(DAGs_all_dates[:,0,2],'o-',label = \"pull1->socialgaze1\")\n",
    "ax1.plot(DAGs_all_dates[:,1,2],'o-',label = \"pull2->socialgaze1\")\n",
    "ax1.plot(DAGs_all_dates[:,0,3],'o-',label = \"pull1->socialgaze2\")\n",
    "ax1.plot(DAGs_all_dates[:,1,3],'o-',label = \"pull2->socialgaze2\")\n",
    "ax1.legend(fontsize=12)\n",
    "ax1.set_ylim(-0.1,1.1)\n",
    "ax1.set_ylabel(\"transition probability\",fontsize=13)\n",
    "#\n",
    "plt.xticks(np.arange(0,ndates,1),dates_list, rotation=90,fontsize=10)\n",
    "plt.yticks(fontsize=10)\n",
    "plt.title(\"transition probability from pull to social gaze\", fontsize = 14)\n",
    "#\n",
    "ax2 = ax1.twinx()\n",
    "ax2.plot(coopthres_all_dates,'y.')\n",
    "ax2.set_ylim(-3.1,5.1)\n",
    "ax2.set_ylabel(\"cooperation threshold\",fontsize=13)\n",
    "#\n",
    "plt.show()"
   ]
  },
  {
   "cell_type": "markdown",
   "id": "f5a41800",
   "metadata": {},
   "source": [
    "### plot the transition probability from pull to pull"
   ]
  },
  {
   "cell_type": "code",
   "execution_count": 44,
   "id": "2573b1bd",
   "metadata": {},
   "outputs": [
    {
     "data": {
      "image/png": "[encoded data removed]",
      "text/plain": [
       "<Figure size 720x360 with 2 Axes>"
      ]
     },
     "metadata": {
      "needs_background": "light"
     },
     "output_type": "display_data"
    }
   ],
   "source": [
    "fig, ax1 = plt.subplots(figsize=(10, 5))\n",
    "#\n",
    "ax1.plot(DAGs_all_dates[:,0,0],'o-',label = \"pull1->pull1\")\n",
    "ax1.plot(DAGs_all_dates[:,1,1],'o-',label = \"pull2->pull2\")\n",
    "ax1.plot(DAGs_all_dates[:,0,1],'o-',label = \"pull1->pull2\")\n",
    "ax1.plot(DAGs_all_dates[:,1,0],'o-',label = \"pull2->pull1\")\n",
    "ax1.legend(fontsize=12)\n",
    "ax1.set_ylim(-0.1,1.1)\n",
    "ax1.set_ylabel(\"transition probability\",fontsize=13)\n",
    "#\n",
    "plt.xticks(np.arange(0,ndates,1),dates_list, rotation=90,fontsize=10)\n",
    "plt.yticks(fontsize=10)\n",
    "plt.title(\"transition probability from pull to pull\", fontsize = 14)\n",
    "#\n",
    "ax2 = ax1.twinx()\n",
    "ax2.plot(coopthres_all_dates,'y.')\n",
    "ax2.set_ylim(-15.1,5.1)\n",
    "ax2.set_ylabel(\"cooperation threshold\",fontsize=13)\n",
    "#\n",
    "plt.show()"
   ]
  },
  {
   "cell_type": "markdown",
   "id": "896f2b51",
   "metadata": {},
   "source": [
    "### plot the transition probability from social gaze to social gaze"
   ]
  },
  {
   "cell_type": "code",
   "execution_count": 45,
   "id": "c29712c2",
   "metadata": {},
   "outputs": [
    {
     "data": {
      "image/png": "[encoded data removed]",
      "text/plain": [
       "<Figure size 720x360 with 2 Axes>"
      ]
     },
     "metadata": {
      "needs_background": "light"
     },
     "output_type": "display_data"
    }
   ],
   "source": [
    "fig, ax1 = plt.subplots(figsize=(10, 5))\n",
    "#\n",
    "ax1.plot(DAGs_all_dates[:,2,2],'o-',label = \"socialgaze1->socialgaze1\")\n",
    "ax1.plot(DAGs_all_dates[:,3,3],'o-',label = \"socialgaze2->socialgaze2\")\n",
    "ax1.plot(DAGs_all_dates[:,2,3],'o-',label = \"socialgaze1->socialgaze2\")\n",
    "ax1.plot(DAGs_all_dates[:,3,2],'o-',label = \"socialgaze2->socialgaze1\")\n",
    "ax1.legend(fontsize=12)\n",
    "ax1.set_ylim(-0.1,1.1)\n",
    "ax1.set_ylabel(\"transition probability\",fontsize=13)\n",
    "#\n",
    "plt.xticks(np.arange(0,ndates,1),dates_list, rotation=90,fontsize=10)\n",
    "plt.yticks(fontsize=10)\n",
    "plt.title(\"transition probability from social gaze to social gaze\", fontsize = 14)\n",
    "#\n",
    "ax2 = ax1.twinx()\n",
    "ax2.plot(coopthres_all_dates,'y.')\n",
    "ax2.set_ylim(-15.1,5.1)\n",
    "ax2.set_ylabel(\"cooperation threshold\",fontsize=13)\n",
    "#\n",
    "plt.show()"
   ]
  },
  {
   "cell_type": "code",
   "execution_count": 40,
   "id": "e09861ec",
   "metadata": {},
   "outputs": [],
   "source": [
    "bhv_data = bhv_data[bhv_data[\"time_points\"] != 0]\n",
    "         "
   ]
  },
  {
   "cell_type": "code",
   "execution_count": null,
   "id": "a72d69d2",
   "metadata": {},
   "outputs": [],
   "source": []
  },
  {
   "cell_type": "code",
   "execution_count": null,
   "id": "d43964b1",
   "metadata": {},
   "outputs": [],
   "source": []
  },
  {
   "cell_type": "code",
   "execution_count": null,
   "id": "5fccf32e",
   "metadata": {},
   "outputs": [],
   "source": []
  },
  {
   "cell_type": "code",
   "execution_count": null,
   "id": "c05adab2",
   "metadata": {},
   "outputs": [],
   "source": []
  },
  {
   "cell_type": "code",
   "execution_count": null,
   "id": "2f7cfffc",
   "metadata": {},
   "outputs": [],
   "source": []
  },
  {
   "cell_type": "code",
   "execution_count": null,
   "id": "169ec475",
   "metadata": {},
   "outputs": [],
   "source": []
  }
 ],
 "metadata": {
  "kernelspec": {
   "display_name": "Python 3 (ipykernel)",
   "language": "python",
   "name": "python3"
  },
  "language_info": {
   "codemirror_mode": {
    "name": "ipython",
    "version": 3
   },
   "file_extension": ".py",
   "mimetype": "text/x-python",
   "name": "python",
   "nbconvert_exporter": "python",
   "pygments_lexer": "ipython3",
   "version": "3.8.6"
  }
 },
 "nbformat": 4,
 "nbformat_minor": 5
}
