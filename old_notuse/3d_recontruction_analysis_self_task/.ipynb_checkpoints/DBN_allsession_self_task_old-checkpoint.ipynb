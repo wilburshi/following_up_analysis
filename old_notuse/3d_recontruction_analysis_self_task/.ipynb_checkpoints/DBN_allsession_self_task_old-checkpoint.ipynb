{
 "cells": [
  {
   "cell_type": "code",
   "execution_count": 14,
   "id": "f1849ae6",
   "metadata": {},
   "outputs": [],
   "source": [
    "import pandas as pd\n",
    "import numpy as np\n",
    "import matplotlib.pyplot as plt\n",
    "import scipy\n",
    "import string\n",
    "import warnings\n",
    "import pickle\n",
    "from pgmpy.models import BayesianModel\n",
    "from pgmpy.models import DynamicBayesianNetwork as DBN\n",
    "from pgmpy.estimators import BayesianEstimator\n",
    "from pgmpy.estimators import HillClimbSearch,BicScore\n",
    "import networkx as nx"
   ]
  },
  {
   "cell_type": "markdown",
   "id": "d6ae6f98",
   "metadata": {},
   "source": [
    "### function - align the two cameras"
   ]
  },
  {
   "cell_type": "code",
   "execution_count": 15,
   "id": "31b03438",
   "metadata": {},
   "outputs": [],
   "source": [
    "def camera_align(body_part_locs_camera23, body_part_locs_camera12):\n",
    "# try the rotation on all possible pairs\n",
    "    animal_names_unique = pd.unique(pd.DataFrame(body_part_locs_camera23.keys()).iloc[:,0])\n",
    "    body_parts_unique = pd.unique(pd.DataFrame(body_part_locs_camera23.keys()).iloc[:,1])\n",
    "    \n",
    "    RR_sum = {}\n",
    "    tt_sum = {}\n",
    "    err_sum = {}\n",
    "    for iname in animal_names_unique:\n",
    "        for ibody in body_parts_unique:\n",
    "            xxx = body_part_locs_camera23[(iname,ibody)]\n",
    "            yyy = body_part_locs_camera12[(iname,ibody)]\n",
    "            min_length = np.min([xxx.shape[0],yyy.shape[0]])\n",
    "        \n",
    "            xxx = xxx.loc[np.arange(0,min_length,1),:]\n",
    "            yyy = yyy.loc[np.arange(0,min_length,1),:]     \n",
    "        \n",
    "            ind_good = (~np.isnan(xxx.iloc[:,0]) & ~np.isnan(xxx.iloc[:,1]) & ~np.isnan(xxx.iloc[:,2])) & (~np.isnan(yyy.iloc[:,0]) & ~np.isnan(yyy.iloc[:,1]) & ~np.isnan(yyy.iloc[:,2])) \n",
    "            xxx_values = pd.DataFrame.transpose(xxx.loc[ind_good,:]).values\n",
    "            yyy_values = pd.DataFrame.transpose(yyy.loc[ind_good,:]).values\n",
    "        \n",
    "            xxx_centroid = np.dot(np.mean(xxx_values,axis = 1).reshape(3,1), np.ones((1,np.shape(xxx_values)[1])))\n",
    "            yyy_centroid = np.dot(np.mean(yyy_values,axis = 1).reshape(3,1), np.ones((1,np.shape(xxx_values)[1])))\n",
    "            HH = np.dot((xxx_values - xxx_centroid), np.transpose(yyy_values - yyy_centroid))\n",
    "            u, s, vh = np.linalg.svd(HH, full_matrices=True)\n",
    "            RR = np.dot(np.transpose(vh),np.transpose(u))\n",
    "            tt= yyy_centroid - np.dot(RR,xxx_centroid)\n",
    "            tt = tt[:,1].reshape(3,1)\n",
    "        \n",
    "            RR_sum[(iname,ibody)] = RR\n",
    "            tt_sum[(iname,ibody)] = tt\n",
    "            err_sum[(iname,ibody)] = np.sum(np.square(yyy_values - (np.dot(RR,xxx_values)+np.dot(tt, np.ones((1,np.shape(xxx_values)[1]))))))\n",
    "    \n",
    "    return RR_sum, tt_sum, err_sum"
   ]
  },
  {
   "cell_type": "markdown",
   "id": "494356c2",
   "metadata": {},
   "source": [
    "### function - merge the two pairs of cameras"
   ]
  },
  {
   "cell_type": "code",
   "execution_count": 16,
   "id": "3bda6cfa",
   "metadata": {},
   "outputs": [],
   "source": [
    "def camera_merge(body_part_locs_camera23, body_part_locs_camera12, RR_sum, tt_sum, err_sum):\n",
    "# merge the two pairs of cameras\n",
    "    animal_names_unique = pd.unique(pd.DataFrame(body_part_locs_camera23.keys()).iloc[:,0])\n",
    "    body_parts_unique = pd.unique(pd.DataFrame(body_part_locs_camera23.keys()).iloc[:,1])\n",
    "    \n",
    "    body_part_locs_merge = {}\n",
    "    for iname in animal_names_unique:\n",
    "        for ibody in body_parts_unique:\n",
    "            xxx = body_part_locs_camera23[(iname,ibody)]\n",
    "            yyy = body_part_locs_camera12[(iname,ibody)]\n",
    "            min_length = np.min([xxx.shape[0],yyy.shape[0]])\n",
    "            \n",
    "            # RR = RR_sum[min(err_sum, key=err_sum.get)]\n",
    "            # tt = tt_sum[min(err_sum, key=err_sum.get)]\n",
    "            RR = RR_sum[(iname,ibody)]\n",
    "            tt = tt_sum[(iname,ibody)]\n",
    "            body_part_x = np.transpose(xxx.loc[np.arange(0,min_length,1),:])\n",
    "            body_part_project = np.transpose(np.dot(RR,body_part_x) + np.dot(tt, np.ones((1,np.shape(body_part_x)[1]))))\n",
    "            body_part_origin = yyy.loc[np.arange(0,min_length,1),:].values\n",
    "            body_part_origin[np.sum(np.isnan(body_part_origin),axis=1)>0,:] = body_part_project[np.sum(np.isnan(body_part_origin),axis=1)>0,:]\n",
    "            #\n",
    "            body_part_locs_merge[(iname,ibody)] = body_part_origin\n",
    "    \n",
    "    return body_part_locs_merge"
   ]
  },
  {
   "cell_type": "markdown",
   "id": "23dc7f6a",
   "metadata": {},
   "source": [
    "### function - find social gaze time point"
   ]
  },
  {
   "cell_type": "code",
   "execution_count": 17,
   "id": "71f6ec00",
   "metadata": {},
   "outputs": [],
   "source": [
    "def find_socialgaze_timepoint(body_part_locs_camera23, body_part_locs_camera12, body_part_locs_merge, angle_thres):\n",
    "    \n",
    "    animal_names_unique = pd.unique(pd.DataFrame(body_part_locs_camera23.keys()).iloc[:,0])\n",
    "    body_parts_unique = pd.unique(pd.DataFrame(body_part_locs_camera23.keys()).iloc[:,1])\n",
    "    min_length = np.min([list(body_part_locs_camera23.values())[0].shape[0],list(body_part_locs_camera12.values())[0].shape[0]])\n",
    "\n",
    "    warnings.filterwarnings('ignore')\n",
    "    eye_direction_merge = {}\n",
    "    eye_contact_or_not_merge = {}\n",
    "    look_at_face_or_not_merge = {}\n",
    "    \n",
    "    for iname in animal_names_unique:\n",
    "        eye_dir_frames = []\n",
    "        eye_contact_frames = []\n",
    "        look_at_face_frames = []\n",
    "        \n",
    "        for iframe in np.arange(0,min_length,1):\n",
    "            lefteye_loc = body_part_locs_merge[(iname,'leftEye')][iframe,:]\n",
    "            righteye_loc = body_part_locs_merge[(iname,'rightEye')][iframe,:]\n",
    "            lefttuft_loc = body_part_locs_merge[(iname,'leftTuft')][iframe,:]\n",
    "            righttuft_loc = body_part_locs_merge[(iname,'rightTuft')][iframe,:]\n",
    "            whiblz_loc = body_part_locs_merge[(iname,'whiteBlaze')][iframe,:]\n",
    "            mouth_loc = body_part_locs_merge[(iname,'mouth')][iframe,:]\n",
    "        \n",
    "            Vect1 = lefteye_loc - righteye_loc\n",
    "            Vect2 = whiblz_loc - mouth_loc\n",
    "            Vect3 = lefttuft_loc - lefteye_loc\n",
    "            Vect4 = righttuft_loc - righteye_loc\n",
    "        \n",
    "            try:       \n",
    "                Vect1 = Vect1 / scipy.linalg.norm(Vect1)\n",
    "                Vect2 = Vect2 / scipy.linalg.norm(Vect2) \n",
    "            except:\n",
    "                Vect1 = Vect1\n",
    "                Vect2 = Vect2\n",
    "            eyesight_dir = np.cross(Vect1, Vect2)\n",
    "        \n",
    "            if ((np.dot(eyesight_dir, Vect3)>0) | (np.dot(eyesight_dir, Vect4)>0)):\n",
    "                eyesight_dir = -eyesight_dir\n",
    "        \n",
    "            eye_dir_frames.append(eyesight_dir)      \n",
    "        \n",
    "            # examine whether this animal is looking at the other's eyes or face\n",
    "            if (iname == animal_names_unique[0]): \n",
    "                iname_other = animal_names_unique[1]\n",
    "            elif (iname == animal_names_unique[1]): \n",
    "                iname_other = animal_names_unique[0]\n",
    "            \n",
    "            lefteye_loc_other = body_part_locs_merge[(iname_other,'leftEye')][iframe,:]\n",
    "            righteye_loc_other = body_part_locs_merge[(iname_other,'rightEye')][iframe,:]\n",
    "            lefttuft_loc_other = body_part_locs_merge[(iname_other,'leftTuft')][iframe,:]\n",
    "            righttuft_loc_other = body_part_locs_merge[(iname_other,'rightTuft')][iframe,:]\n",
    "            whiblz_loc_other = body_part_locs_merge[(iname_other,'whiteBlaze')][iframe,:]\n",
    "            mouth_loc_other = body_part_locs_merge[(iname_other,'mouth')][iframe,:]\n",
    "        \n",
    "            # where left eye is looking\n",
    "            # vector between body part\n",
    "            vect1_lefteye = lefteye_loc_other - lefteye_loc\n",
    "            vect2_lefteye = righteye_loc_other - lefteye_loc\n",
    "            vect3_lefteye = lefttuft_loc_other - lefteye_loc\n",
    "            vect4_lefteye = righttuft_loc_other - lefteye_loc\n",
    "            vect5_lefteye = whiblz_loc_other - lefteye_loc\n",
    "            vect6_lefteye = mouth_loc_other - lefteye_loc\n",
    "            # angle between body part vector and eyesight direction\n",
    "            angle1_lefteye =  np.sign(np.dot(eyesight_dir,vect1_lefteye))*np.arccos(np.clip(np.dot(eyesight_dir/np.linalg.norm(eyesight_dir), vect1_lefteye/np.linalg.norm(vect1_lefteye)), -1.0, 1.0))       \n",
    "            angle2_lefteye =  np.sign(np.dot(eyesight_dir,vect2_lefteye))*np.arccos(np.clip(np.dot(eyesight_dir/np.linalg.norm(eyesight_dir), vect2_lefteye/np.linalg.norm(vect2_lefteye)), -1.0, 1.0))\n",
    "            angle3_lefteye =  np.sign(np.dot(eyesight_dir,vect3_lefteye))*np.arccos(np.clip(np.dot(eyesight_dir/np.linalg.norm(eyesight_dir), vect3_lefteye/np.linalg.norm(vect3_lefteye)), -1.0, 1.0))\n",
    "            angle4_lefteye =  np.sign(np.dot(eyesight_dir,vect4_lefteye))*np.arccos(np.clip(np.dot(eyesight_dir/np.linalg.norm(eyesight_dir), vect4_lefteye/np.linalg.norm(vect4_lefteye)), -1.0, 1.0))\n",
    "            angle5_lefteye =  np.sign(np.dot(eyesight_dir,vect5_lefteye))*np.arccos(np.clip(np.dot(eyesight_dir/np.linalg.norm(eyesight_dir), vect5_lefteye/np.linalg.norm(vect5_lefteye)), -1.0, 1.0))\n",
    "            angle6_lefteye =  np.sign(np.dot(eyesight_dir,vect6_lefteye))*np.arccos(np.clip(np.dot(eyesight_dir/np.linalg.norm(eyesight_dir), vect6_lefteye/np.linalg.norm(vect6_lefteye)), -1.0, 1.0))\n",
    "        \n",
    "            # where right eye is looking\n",
    "            # vector between body part\n",
    "            vect1_righteye = lefteye_loc_other - righteye_loc\n",
    "            vect2_righteye = righteye_loc_other - righteye_loc\n",
    "            vect3_righteye = lefttuft_loc_other - righteye_loc\n",
    "            vect4_righteye = righttuft_loc_other - righteye_loc\n",
    "            vect5_righteye = whiblz_loc_other - righteye_loc\n",
    "            vect6_righteye = mouth_loc_other - righteye_loc\n",
    "            # angle between body part vector and eyesight direction\n",
    "            angle1_righteye =  np.sign(np.dot(eyesight_dir,vect1_righteye))*np.arccos(np.clip(np.dot(eyesight_dir/np.linalg.norm(eyesight_dir), vect1_righteye/np.linalg.norm(vect1_righteye)), -1.0, 1.0))       \n",
    "            angle2_righteye =  np.sign(np.dot(eyesight_dir,vect2_righteye))*np.arccos(np.clip(np.dot(eyesight_dir/np.linalg.norm(eyesight_dir), vect2_righteye/np.linalg.norm(vect2_righteye)), -1.0, 1.0))\n",
    "            angle3_righteye =  np.sign(np.dot(eyesight_dir,vect3_righteye))*np.arccos(np.clip(np.dot(eyesight_dir/np.linalg.norm(eyesight_dir), vect3_righteye/np.linalg.norm(vect3_righteye)), -1.0, 1.0))\n",
    "            angle4_righteye =  np.sign(np.dot(eyesight_dir,vect4_righteye))*np.arccos(np.clip(np.dot(eyesight_dir/np.linalg.norm(eyesight_dir), vect4_righteye/np.linalg.norm(vect4_righteye)), -1.0, 1.0))\n",
    "            angle5_righteye =  np.sign(np.dot(eyesight_dir,vect5_righteye))*np.arccos(np.clip(np.dot(eyesight_dir/np.linalg.norm(eyesight_dir), vect5_righteye/np.linalg.norm(vect5_righteye)), -1.0, 1.0))\n",
    "            angle6_righteye =  np.sign(np.dot(eyesight_dir,vect6_righteye))*np.arccos(np.clip(np.dot(eyesight_dir/np.linalg.norm(eyesight_dir), vect6_righteye/np.linalg.norm(vect6_righteye)), -1.0, 1.0))\n",
    "        \n",
    "            lefteye_contact_thres = ((angle1_lefteye>0)&(angle1_lefteye<angle_thres))|((angle2_lefteye>0)&(angle2_lefteye<angle_thres))\n",
    "            lefteye_lookface_thres = ((angle3_lefteye>0)&(angle3_lefteye<angle_thres))|((angle4_lefteye>0)&(angle4_lefteye<angle_thres))|((angle5_lefteye>0)&(angle5_lefteye<angle_thres))|((angle6_lefteye>0)&(angle6_lefteye<angle_thres))\n",
    "            righteye_contact_thres = ((angle1_righteye>0)&(angle1_righteye<angle_thres))|((angle2_righteye>0)&(angle2_righteye<angle_thres))\n",
    "            righteye_lookface_thres = ((angle3_righteye>0)&(angle3_righteye<angle_thres))|((angle4_righteye>0)&(angle4_righteye<angle_thres))|((angle5_righteye>0)&(angle5_righteye<angle_thres))|((angle6_righteye>0)&(angle6_righteye<angle_thres))\n",
    "        \n",
    "            eye_contact_frames.append(np.int(lefteye_contact_thres|righteye_contact_thres))\n",
    "            look_at_face_frames.append(np.int(lefteye_contact_thres|righteye_contact_thres|lefteye_lookface_thres|righteye_lookface_thres))\n",
    "        \n",
    "        # save to the summarized data\n",
    "        eye_direction_merge[(iname)] = eye_dir_frames\n",
    "        eye_contact_or_not_merge[(iname)] = eye_contact_frames\n",
    "        look_at_face_or_not_merge[(iname)] = look_at_face_frames\n",
    "        \n",
    "    return eye_direction_merge, eye_contact_or_not_merge, look_at_face_or_not_merge\n",
    "        "
   ]
  },
  {
   "cell_type": "markdown",
   "id": "0dd7e75b",
   "metadata": {},
   "source": [
    "### Define time point of behavioral events"
   ]
  },
  {
   "cell_type": "code",
   "execution_count": 18,
   "id": "1dfb672f",
   "metadata": {},
   "outputs": [],
   "source": [
    "def bhv_events_timepoint(bhv_data, eye_direction_merge, eye_contact_or_not_merge, look_at_face_or_not_merge):\n",
    "    time_point_pull1 = bhv_data[\"time_points\"][bhv_data[\"behavior_events\"]==1]\n",
    "    time_point_pull2 = bhv_data[\"time_points\"][bhv_data[\"behavior_events\"]==2]\n",
    "    ind_lookatotherface1 = np.where(np.array(look_at_face_or_not_merge[animal1])==1)\n",
    "    time_point_lookatotherface1 = look_at_face_or_not_merge[\"time_in_second\"][ind_lookatotherface1]\n",
    "    ind_lookatotherface2 = np.where(np.array(look_at_face_or_not_merge[animal2])==1)\n",
    "    time_point_lookatotherface2 = look_at_face_or_not_merge[\"time_in_second\"][ind_lookatotherface2]\n",
    "\n",
    "    ind_eyecontact1 = np.where(np.array(eye_contact_or_not_merge[animal1])==1)\n",
    "    time_point_eyecontact1 = eye_contact_or_not_merge[\"time_in_second\"][ind_eyecontact1]\n",
    "    ind_eyecontact2 = np.where(np.array(eye_contact_or_not_merge[animal2])==1)\n",
    "    time_point_eyecontact2 = eye_contact_or_not_merge[\"time_in_second\"][ind_eyecontact2]\n",
    "\n",
    "    # calculate the oneway gaze or mutual gaze\n",
    "    animal1_gaze = np.round(np.concatenate((time_point_eyecontact1,time_point_lookatotherface1)),1)\n",
    "    animal1_gaze = np.unique(np.sort(animal1_gaze))\n",
    "    animal2_gaze = np.round(np.concatenate((time_point_eyecontact2,time_point_lookatotherface2)),1)\n",
    "    animal2_gaze = np.unique(np.sort(animal2_gaze))\n",
    "\n",
    "    ngaze1 = len(animal1_gaze)\n",
    "    ngaze2 = len(animal2_gaze)\n",
    "    oneway_gaze1 = []\n",
    "    oneway_gaze2 = []\n",
    "    mutual_gaze1 = []\n",
    "    mutual_gaze2 = []\n",
    "    # \n",
    "    for igaze1 in np.arange(0, ngaze1, 1):\n",
    "        for igaze2 in np.arange(0,ngaze2,1):\n",
    "            if abs(animal1_gaze[igaze1]-animal2_gaze[igaze2])<1:\n",
    "                mutual_gaze1.append(animal1_gaze[igaze1])\n",
    "                mutual_gaze2.append(animal2_gaze[igaze2])\n",
    "    mutual_gaze1 = np.unique(mutual_gaze1)   \n",
    "    mutual_gaze2 = np.unique(mutual_gaze2)\n",
    "    oneway_gaze1 = animal1_gaze[~np.isin(animal1_gaze,mutual_gaze1)]\n",
    "    oneway_gaze2 = animal2_gaze[~np.isin(animal2_gaze,mutual_gaze2)]\n",
    "    \n",
    "    time_point_pull1 = np.round(time_point_pull1,2)\n",
    "    time_point_pull2 = np.round(time_point_pull2,2)\n",
    "    \n",
    "    return time_point_pull1, time_point_pull2, oneway_gaze1, oneway_gaze2, mutual_gaze1, mutual_gaze2"
   ]
  },
  {
   "cell_type": "markdown",
   "id": "0ef4ab8c",
   "metadata": {},
   "source": [
    "### plot behavioral events"
   ]
  },
  {
   "cell_type": "code",
   "execution_count": 19,
   "id": "eb2ba678",
   "metadata": {},
   "outputs": [],
   "source": [
    "def plot_bhv_events(animal1, animal2, session_start_time, time_point_pull1, time_point_pull2, oneway_gaze1, oneway_gaze2, mutual_gaze1, mutual_gaze2):\n",
    "    fig, axs = plt.subplots(2,1)\n",
    "    fig.set_figheight(5)\n",
    "    fig.set_figwidth(25)\n",
    "    # plot for animal 1\n",
    "    ind_plot = time_point_pull1 < (720 - session_start_time)\n",
    "    #for itime in np.arange(0,720,1):\n",
    "    #    plt.plot([itime,itime],[0,1],linewidth = 2.0,color=(0.5,0.5,0.5))\n",
    "    for itime in time_point_pull1[ind_plot]:\n",
    "        line1, = axs[0].plot([itime,itime],[0,1],linewidth = 2.0,color=(0.0,0.5,0.5),label = 'lever pull')\n",
    "    try:\n",
    "        for itime in oneway_gaze1:\n",
    "            line2, = axs[0].plot([itime,itime],[0,1],linewidth = 2.0,color=(0.5,0.0,0.5),label = 'one-way gaze')  \n",
    "    except:\n",
    "        print(\"no oneway gaze\")\n",
    "    try:\n",
    "        for itime in mutual_gaze1:\n",
    "            line3, = axs[0].plot([itime,itime],[0,1],linewidth = 2.0,color=(0.5,0.5,0.0),label = 'mutual gaze')  \n",
    "    except:\n",
    "        print(\"no mutual gaze\")\n",
    "    axs[0].set_title(animal1,fontsize = 18)\n",
    "    axs[0].set_xlim([-10,700])\n",
    "    axs[0].set_xlabel(\"\")\n",
    "    axs[0].set_xticklabels(\"\")\n",
    "    axs[0].set_yticklabels(\"\")\n",
    "    try:\n",
    "        axs[0].legend(handles=[line1,line2,line3], fontsize = 13)\n",
    "    except:\n",
    "        try: \n",
    "            axs[0].legend(handles=[line1,line2], fontsize = 13)\n",
    "        except:\n",
    "            axs[0].legend(handles=[line1], fontsize = 13)    \n",
    "\n",
    "    # plot for animal 2\n",
    "    ind_plot = time_point_pull2 < (720 - session_start_time)\n",
    "    #for itime in np.arange(0,720,1):\n",
    "    #    plt.plot([itime,itime],[0,1],linewidth = 2.0,color=(0.5,0.5,0.5))\n",
    "    for itime in time_point_pull2[ind_plot]:\n",
    "        line1, = axs[1].plot([itime,itime],[0,1],linewidth = 2.0,color=(0.0,0.5,0.5))\n",
    "    try:\n",
    "        for itime in oneway_gaze2:\n",
    "            line2, = axs[1].plot([itime,itime],[0,1],linewidth = 2.0,color=(0.5,0.0,0.5))    \n",
    "    except:\n",
    "        print(\"no oneway gaze\")\n",
    "    try:\n",
    "        for itime in mutual_gaze2:\n",
    "            line3, = axs[1].plot([itime,itime],[0,1],linewidth = 2.0,color=(0.5,0.5,0.0))    \n",
    "    except:\n",
    "        print(\"no mutual gaze\")\n",
    "    axs[1].set_title(animal2,fontsize = 18)\n",
    "    axs[1].set_xlim([-10,700])\n",
    "    axs[1].set_xlabel(\"time/s\",fontsize = 19)\n",
    "    axs[1].set_yticklabels(\"\")\n",
    "    axs[1].tick_params(labelsize = 15)\n"
   ]
  },
  {
   "cell_type": "markdown",
   "id": "1f9c724b",
   "metadata": {},
   "source": [
    "### plot inter-pull interval"
   ]
  },
  {
   "cell_type": "code",
   "execution_count": 20,
   "id": "9327925b",
   "metadata": {},
   "outputs": [],
   "source": [
    "def plot_interpull_interval(animal1, animal2, time_point_pull1, time_point_pull2):\n",
    "    time_point_pull1_n0 = time_point_pull1.reset_index(drop = True)[0:time_point_pull1.shape[0]-1]\n",
    "    time_point_pull1_n1 = time_point_pull1.reset_index(drop = True)[1:time_point_pull1.shape[0]]\n",
    "    time_point_pull2_n0 = time_point_pull2.reset_index(drop = True)[0:time_point_pull2.shape[0]-1]\n",
    "    time_point_pull2_n1 = time_point_pull2.reset_index(drop = True)[1:time_point_pull2.shape[0]]\n",
    "    ipi_1 = time_point_pull1_n1.reset_index(drop = True) - time_point_pull1_n0.reset_index(drop = True)\n",
    "    ipi_2 = time_point_pull2_n1.reset_index(drop = True) - time_point_pull2_n0.reset_index(drop = True)\n",
    "    #\n",
    "    fig2, axs2 = plt.subplots(1,2)\n",
    "    fig2.set_figheight(5)\n",
    "    fig2.set_figwidth(20)\n",
    "    axs2[0].hist(ipi_1, alpha=0.5, bins=np.arange(0,25,1))\n",
    "    axs2[0].set_title(animal1)\n",
    "    axs2[1].hist(ipi_2, alpha=0.5, bins=np.arange(0,25,1))\n",
    "    axs2[1].set_title(animal2)\n",
    "    print('animal1 median',int(np.median(ipi_1)),'s')\n",
    "    print('animal2 median',int(np.median(ipi_2)),'s')"
   ]
  },
  {
   "cell_type": "markdown",
   "id": "69920a6a",
   "metadata": {},
   "source": [
    "### interval between all behavioral events"
   ]
  },
  {
   "cell_type": "code",
   "execution_count": 21,
   "id": "a804dbc6",
   "metadata": {},
   "outputs": [],
   "source": [
    "def bhv_events_interval(totalsess_time, time_point_pull1, time_point_pull2, oneway_gaze1, oneway_gaze2, mutual_gaze1, mutual_gaze2):\n",
    "    #\n",
    "    total_time = int((totalsess_time - session_start_time))\n",
    "    time_point_pull1_round = time_point_pull1.reset_index(drop = True)\n",
    "    time_point_pull1_round = time_point_pull1_round[time_point_pull1_round<total_time]\n",
    "    time_point_pull2_round  = time_point_pull2.reset_index(drop = True)\n",
    "    time_point_pull2_round = time_point_pull2_round[time_point_pull2_round<total_time]\n",
    "    time_point_onewaygaze1_round = pd.Series(oneway_gaze1).reset_index(drop = True)\n",
    "    time_point_onewaygaze2_round = pd.Series(oneway_gaze2).reset_index(drop = True)\n",
    "    time_point_mutualgaze1_round = pd.Series(mutual_gaze1).reset_index(drop = True)\n",
    "    time_point_mutualgaze2_round = pd.Series(mutual_gaze2).reset_index(drop = True)\n",
    "    time_point_onewaygaze1_round = time_point_onewaygaze1_round[(time_point_onewaygaze1_round>0)&(time_point_onewaygaze1_round<total_time)]\n",
    "    time_point_onewaygaze2_round = time_point_onewaygaze2_round[(time_point_onewaygaze2_round>0)&(time_point_onewaygaze2_round<total_time)]\n",
    "    time_point_mutualgaze1_round = time_point_mutualgaze1_round[(time_point_mutualgaze1_round>0)&(time_point_mutualgaze1_round<total_time)]\n",
    "    time_point_mutualgaze2_round = time_point_mutualgaze2_round[(time_point_mutualgaze2_round>0)&(time_point_mutualgaze2_round<total_time)]\n",
    "    #     \n",
    "    time_point_bhv_events = time_point_pull1_round\n",
    "    time_point_bhv_events = time_point_bhv_events.append(time_point_pull2_round)\n",
    "    time_point_bhv_events = time_point_bhv_events.append(time_point_mutualgaze1_round)\n",
    "    time_point_bhv_events = time_point_bhv_events.append(time_point_mutualgaze2_round)\n",
    "    time_point_bhv_events = time_point_bhv_events.append(time_point_onewaygaze1_round)\n",
    "    time_point_bhv_events = time_point_bhv_events.append(time_point_onewaygaze2_round)\n",
    "\n",
    "    time_point_bhv_events = time_point_bhv_events.reset_index(drop=True)\n",
    "    nevents = np.shape(time_point_bhv_events)[0]\n",
    "    bhv_events_interval = time_point_bhv_events[1:nevents].reset_index(drop=True)-time_point_bhv_events[0:nevents-1].reset_index(drop=True)\n",
    "\n",
    "    Q1 = np.quantile(bhv_events_interval,0.25)\n",
    "    Q2 = np.quantile(bhv_events_interval,0.5)\n",
    "    Q3 = np.quantile(bhv_events_interval,0.75)\n",
    "    low_lim = Q1 - 1.5 * (Q3-Q1)\n",
    "    up_lim = Q3 + 1.5 * (Q3-Q1)\n",
    "\n",
    "    if low_lim < 0:\n",
    "        low_lim = 0.5\n",
    "    low_lim = np.round(low_lim*2)/2\n",
    "    up_lim = np.round(up_lim*2)/2\n",
    "    \n",
    "    return low_lim, up_lim"
   ]
  },
  {
   "cell_type": "markdown",
   "id": "e8ac4ea0",
   "metadata": {},
   "source": [
    "### train the dynamic bayesian network"
   ]
  },
  {
   "cell_type": "code",
   "execution_count": 22,
   "id": "037084bb",
   "metadata": {},
   "outputs": [],
   "source": [
    "def train_DBN(totalsess_time, temp_resolu, time_point_pull1, time_point_pull2, oneway_gaze1, oneway_gaze2, mutual_gaze1, mutual_gaze2):\n",
    "# temp_resolu: temporal resolution, the time different between each step\n",
    "# e.g. temp_resolu = 0.5s, each step is 0.5s\n",
    "    total_time = int((totalsess_time - session_start_time)/temp_resolu)\n",
    "    time_point_pull1_round = np.floor(time_point_pull1/temp_resolu).reset_index(drop = True).astype(int)\n",
    "    time_point_pull1_round = time_point_pull1_round[time_point_pull1_round<total_time]\n",
    "    time_point_pull2_round  = np.floor(time_point_pull2/temp_resolu).reset_index(drop = True).astype(int)\n",
    "    time_point_pull2_round = time_point_pull2_round[time_point_pull2_round<total_time]\n",
    "    time_point_onewaygaze1_round = np.floor(pd.Series(oneway_gaze1)/temp_resolu).reset_index(drop = True).astype(int)\n",
    "    time_point_onewaygaze2_round = np.floor(pd.Series(oneway_gaze2)/temp_resolu).reset_index(drop = True).astype(int)\n",
    "    time_point_mutualgaze1_round = np.floor(pd.Series(mutual_gaze1)/temp_resolu).reset_index(drop = True).astype(int)\n",
    "    time_point_mutualgaze2_round = np.floor(pd.Series(mutual_gaze2)/temp_resolu).reset_index(drop = True).astype(int)\n",
    "    time_point_onewaygaze1_round = time_point_onewaygaze1_round[(time_point_onewaygaze1_round>0)&(time_point_onewaygaze1_round<total_time)]\n",
    "    time_point_onewaygaze2_round = time_point_onewaygaze2_round[(time_point_onewaygaze2_round>0)&(time_point_onewaygaze2_round<total_time)]\n",
    "    time_point_mutualgaze1_round = time_point_mutualgaze1_round[(time_point_mutualgaze1_round>0)&(time_point_mutualgaze1_round<total_time)]\n",
    "    time_point_mutualgaze2_round = time_point_mutualgaze2_round[(time_point_mutualgaze2_round>0)&(time_point_mutualgaze2_round<total_time)]\n",
    "    # t0\n",
    "    pull1_t0 = np.zeros((total_time+1,1))\n",
    "    pull1_t0[np.array(time_point_pull1_round)] = 1\n",
    "    pull2_t0 = np.zeros((total_time+1,1))\n",
    "    pull2_t0[np.array(time_point_pull2_round)] = 1\n",
    "    owgaze1_t0 = np.zeros((total_time+1,1))\n",
    "    owgaze1_t0[np.array(time_point_onewaygaze1_round)] = 1\n",
    "    owgaze2_t0 = np.zeros((total_time+1,1))\n",
    "    owgaze2_t0[np.array(time_point_onewaygaze2_round)] = 1\n",
    "    mtgaze1_t0 = np.zeros((total_time+1,1))\n",
    "    mtgaze1_t0[np.array(time_point_mutualgaze1_round)] = 1\n",
    "    mtgaze2_t0 = np.zeros((total_time+1,1))\n",
    "    mtgaze2_t0[np.array(time_point_mutualgaze2_round)] = 1\n",
    "    # t1\n",
    "    pull1_t1 = np.zeros((total_time+1,1))\n",
    "    pull1_t1[np.array(time_point_pull1_round)+1] = 1\n",
    "    pull2_t1 = np.zeros((total_time+1,1))\n",
    "    pull2_t1[np.array(time_point_pull2_round)+1] = 1\n",
    "    owgaze1_t1 = np.zeros((total_time+1,1))\n",
    "    owgaze1_t1[np.array(time_point_onewaygaze1_round)+1] = 1\n",
    "    owgaze2_t1 = np.zeros((total_time+1,1))\n",
    "    owgaze2_t1[np.array(time_point_onewaygaze2_round)+1] = 1\n",
    "    mtgaze1_t1 = np.zeros((total_time+1,1))\n",
    "    mtgaze1_t1[np.array(time_point_mutualgaze1_round)+1] = 1\n",
    "    mtgaze2_t1 = np.zeros((total_time+1,1))\n",
    "    mtgaze2_t1[np.array(time_point_mutualgaze2_round)+1] = 1\n",
    "    ## create dataframe\n",
    "    # data = np.concatenate((pull1_t0,pull2_t0,owgaze1_t0,owgaze2_t0,mtgaze1_t0,mtgaze2_t0,pull1_t1,pull2_t1,owgaze1_t1,owgaze2_t1,mtgaze1_t1,mtgaze2_t1),axis = 1)\n",
    "    # colnames = [(\"pull1\",0),(\"pull2\",0),(\"owgaze1\",0),(\"owgaze2\",0),(\"mtgaze1\",0),(\"mtgaze2\",0),(\"pull1\",1),(\"pull2\",1),(\"owgaze1\",1),(\"owgaze2\",1),(\"mtgaze1\",1),(\"mtgaze2\",1)]\n",
    "    # df = pd.DataFrame(data, columns=colnames)\n",
    "    data = np.concatenate((pull1_t0,pull2_t0,owgaze1_t0,owgaze2_t0,pull1_t1,pull2_t1,owgaze1_t1,owgaze2_t1),axis = 1)\n",
    "    colnames = [(\"pull1\",0),(\"pull2\",0),(\"owgaze1\",0),(\"owgaze2\",0),(\"pull1\",1),(\"pull2\",1),(\"owgaze1\",1),(\"owgaze2\",1)]\n",
    "    df = pd.DataFrame(data, columns=colnames)\n",
    "\n",
    "    ## built the model structure\n",
    "    # model = DBN(\n",
    "    #    [\n",
    "    #        ((\"owgaze1\",0), (\"pull1\",1)),\n",
    "    #        ((\"owgaze1\",0), (\"mtgaze1\",1)),\n",
    "    #        ((\"mtgaze1\",0), (\"pull1\",1)),\n",
    "    #        ((\"pull1\",0), (\"owgaze1\",1)),\n",
    "    #        ((\"owgaze2\",0), (\"pull2\",1)),\n",
    "    #        ((\"owgaze2\",0), (\"mtgaze2\",1)),\n",
    "    #        ((\"mtgaze2\",0), (\"pull2\",1)),\n",
    "    #        ((\"pull2\",0), (\"owgaze2\",1)),\n",
    "    #    ]\n",
    "    # )\n",
    "    model = DBN(\n",
    "        [\n",
    "            ((\"owgaze1\",0), (\"pull1\",1)),\n",
    "            ((\"pull1\",0), (\"owgaze1\",1)),\n",
    "            ((\"owgaze2\",0), (\"pull2\",1)),\n",
    "            ((\"pull2\",0), (\"owgaze2\",1)),\n",
    "        ]\n",
    "    )\n",
    "    model.fit(df)\n",
    "    \n",
    "    return model"
   ]
  },
  {
   "cell_type": "markdown",
   "id": "424c0b97",
   "metadata": {},
   "source": [
    "### train the dynamic bayesian network - Alec's methods"
   ]
  },
  {
   "cell_type": "code",
   "execution_count": 23,
   "id": "1840a5f9",
   "metadata": {},
   "outputs": [],
   "source": [
    "def graph_to_matrix(edges,nevents,eventnames):\n",
    "\n",
    "    output_matrix = np.zeros((nevents,nevents)) \n",
    "    \n",
    "    column = 0\n",
    "    for from_layer in np.arange(0,nevents,1):\n",
    "        row = 0\n",
    "        #Loop through the receiving nodes (the last timeslice of each population)\n",
    "        for to_layer in np.arange(0,nevents,1): \n",
    "            from_pop = eventnames[from_layer]+'_t0'\n",
    "            to_pop = eventnames[to_layer]+'_t1'\n",
    "\n",
    "            if (from_pop, to_pop) in edges:\n",
    "                output_matrix[row,column] = 1\n",
    "            else:\n",
    "                output_matrix[row,column] = 0\n",
    "            row+=1\n",
    "        column+=1\n",
    "                    \n",
    "    return output_matrix"
   ]
  },
  {
   "cell_type": "code",
   "execution_count": 24,
   "id": "139bcf08",
   "metadata": {},
   "outputs": [],
   "source": [
    "def get_weighted_dags(binaryDags,nNewBootstraps = 100):\n",
    "    ### Step 1: Create Bootstraps of \"discrete\" DAGs for weighted DAGs\n",
    "    [nTrials,frNodes,toNodes] = binaryDags.shape\n",
    "    \n",
    "    bootstrap_graphs = np.zeros([nNewBootstraps,nTrials,frNodes,toNodes])\n",
    "    for iBootstrap in range(nNewBootstraps):\n",
    "        bootstrap_graphs[iBootstrap,:,:,:] = binaryDags[np.random.randint(nTrials, size=(nTrials)),:,:]\n",
    "\n",
    "    ### Step 2: Get Weighted DAGs\n",
    "    wtd_graphs = np.nanmean(bootstrap_graphs, axis=1)\n",
    "    \n",
    "    return wtd_graphs"
   ]
  },
  {
   "cell_type": "code",
   "execution_count": 25,
   "id": "003d7d37",
   "metadata": {},
   "outputs": [],
   "source": [
    "def train_DBN_alec(totalsess_time, temp_resolu, time_point_pull1, time_point_pull2, oneway_gaze1, oneway_gaze2, mutual_gaze1, mutual_gaze2):\n",
    "# temp_resolu: temporal resolution, the time different between each step\n",
    "# e.g. temp_resolu = 0.5s, each step is 0.5s\n",
    "# totalsess_time: the time (s) of the total session\n",
    "    total_time = int(np.floor((totalsess_time - session_start_time)/temp_resolu))\n",
    "    time_point_pull1_round = np.floor(time_point_pull1/temp_resolu).reset_index(drop = True).astype(int)\n",
    "    time_point_pull1_round = time_point_pull1_round[time_point_pull1_round<total_time]\n",
    "    time_point_pull2_round  = np.floor(time_point_pull2/temp_resolu).reset_index(drop = True).astype(int)\n",
    "    time_point_pull2_round = time_point_pull2_round[time_point_pull2_round<total_time]\n",
    "    time_point_onewaygaze1_round = np.floor(pd.Series(oneway_gaze1)/temp_resolu).reset_index(drop = True).astype(int)\n",
    "    time_point_onewaygaze2_round = np.floor(pd.Series(oneway_gaze2)/temp_resolu).reset_index(drop = True).astype(int)\n",
    "    time_point_mutualgaze1_round = np.floor(pd.Series(mutual_gaze1)/temp_resolu).reset_index(drop = True).astype(int)\n",
    "    time_point_mutualgaze2_round = np.floor(pd.Series(mutual_gaze2)/temp_resolu).reset_index(drop = True).astype(int)\n",
    "    time_point_onewaygaze1_round = time_point_onewaygaze1_round[(time_point_onewaygaze1_round>0)&(time_point_onewaygaze1_round<total_time)]\n",
    "    time_point_onewaygaze2_round = time_point_onewaygaze2_round[(time_point_onewaygaze2_round>0)&(time_point_onewaygaze2_round<total_time)]\n",
    "    time_point_mutualgaze1_round = time_point_mutualgaze1_round[(time_point_mutualgaze1_round>0)&(time_point_mutualgaze1_round<total_time)]\n",
    "    time_point_mutualgaze2_round = time_point_mutualgaze2_round[(time_point_mutualgaze2_round>0)&(time_point_mutualgaze2_round<total_time)]\n",
    "    # t0\n",
    "    pull1_t0 = np.zeros((total_time+1,1))\n",
    "    pull1_t0[np.array(time_point_pull1_round)] = 1\n",
    "    pull2_t0 = np.zeros((total_time+1,1))\n",
    "    pull2_t0[np.array(time_point_pull2_round)] = 1\n",
    "    owgaze1_t0 = np.zeros((total_time+1,1))\n",
    "    owgaze1_t0[np.array(time_point_onewaygaze1_round)] = 1\n",
    "    owgaze2_t0 = np.zeros((total_time+1,1))\n",
    "    owgaze2_t0[np.array(time_point_onewaygaze2_round)] = 1\n",
    "    mtgaze1_t0 = np.zeros((total_time+1,1))\n",
    "    mtgaze1_t0[np.array(time_point_mutualgaze1_round)] = 1\n",
    "    mtgaze2_t0 = np.zeros((total_time+1,1))\n",
    "    mtgaze2_t0[np.array(time_point_mutualgaze2_round)] = 1\n",
    "    # t1\n",
    "    pull1_t1 = np.zeros((total_time+1,1))\n",
    "    pull1_t1[np.array(time_point_pull1_round)+1] = 1\n",
    "    pull2_t1 = np.zeros((total_time+1,1))\n",
    "    pull2_t1[np.array(time_point_pull2_round)+1] = 1\n",
    "    owgaze1_t1 = np.zeros((total_time+1,1))\n",
    "    owgaze1_t1[np.array(time_point_onewaygaze1_round)+1] = 1\n",
    "    owgaze2_t1 = np.zeros((total_time+1,1))\n",
    "    owgaze2_t1[np.array(time_point_onewaygaze2_round)+1] = 1\n",
    "    mtgaze1_t1 = np.zeros((total_time+1,1))\n",
    "    mtgaze1_t1[np.array(time_point_mutualgaze1_round)+1] = 1\n",
    "    mtgaze2_t1 = np.zeros((total_time+1,1))\n",
    "    mtgaze2_t1[np.array(time_point_mutualgaze2_round)+1] = 1\n",
    "    \n",
    "    # clean up dataframe\n",
    "    data = np.concatenate((pull1_t0,pull2_t0,owgaze1_t0,owgaze2_t0,pull1_t1,pull2_t1,owgaze1_t1,owgaze2_t1),axis = 1)\n",
    "    colnames = [\"pull1_t0\",\"pull2_t0\",\"owgaze1_t0\",\"owgaze2_t0\",\"pull1_t1\",\"pull2_t1\",\"owgaze1_t1\",\"owgaze2_t1\"]\n",
    "    eventnames = [\"pull1\",\"pull2\",\"owgaze1\",\"owgaze2\"]\n",
    "    nevents = np.size(eventnames)\n",
    "    bhv_df = pd.DataFrame(data, columns=colnames)\n",
    "\n",
    "    # define DBN structures\n",
    "    all_pops = list(bhv_df.columns)\n",
    "    from_pops = [pop for pop in all_pops if not pop.endswith('t1')]\n",
    "    to_pops = [pop for pop in all_pops if pop.endswith('t1')]\n",
    "    causal_whitelist = [(from_pop,to_pop) for from_pop in from_pops for to_pop in to_pops]\n",
    "\n",
    "    # train the DBN for the edges\n",
    "    bhv_hc = HillClimbSearch(bhv_df)\n",
    "    best_model = bhv_hc.estimate(max_indegree=None, white_list = causal_whitelist, scoring_method=BicScore(bhv_df))\n",
    "    edges = best_model.edges()\n",
    "    \n",
    "    nFromNodes = nevents\n",
    "    nToNodes = nevents\n",
    "    nTrials = 1\n",
    "    DAGs = np.zeros((nTrials, nFromNodes, nToNodes))\n",
    "    DAGs[0,:,:] = graph_to_matrix(list(edges),nevents,eventnames)\n",
    "\n",
    "    return best_model, edges, DAGs, eventnames, from_pops, to_pops"
   ]
  },
  {
   "cell_type": "markdown",
   "id": "c5d1858b",
   "metadata": {},
   "source": [
    "### methods used by Alec - separate into different \"trials\""
   ]
  },
  {
   "cell_type": "code",
   "execution_count": 26,
   "id": "798ae9d3",
   "metadata": {},
   "outputs": [],
   "source": [
    "def train_DBN_alec_eachtrial(totalsess_time, temp_resolu, time_point_pull1, time_point_pull2, oneway_gaze1, oneway_gaze2, mutual_gaze1, mutual_gaze2):\n",
    "# temp_resolu: temporal resolution, the time different between each step\n",
    "# e.g. temp_resolu = 0.5s, each step is 0.5s\n",
    "# totalsess_time: the time (s) of the total session\n",
    "    total_time = int((totalsess_time - session_start_time)/temp_resolu)\n",
    "    time_point_pull1_round = np.floor(time_point_pull1/temp_resolu).reset_index(drop = True).astype(int)\n",
    "    time_point_pull1_round = time_point_pull1_round[time_point_pull1_round<total_time]\n",
    "    time_point_pull2_round  = np.floor(time_point_pull2/temp_resolu).reset_index(drop = True).astype(int)\n",
    "    time_point_pull2_round = time_point_pull2_round[time_point_pull2_round<total_time]\n",
    "    time_point_onewaygaze1_round = np.floor(pd.Series(oneway_gaze1)/temp_resolu).reset_index(drop = True).astype(int)\n",
    "    time_point_onewaygaze2_round = np.floor(pd.Series(oneway_gaze2)/temp_resolu).reset_index(drop = True).astype(int)\n",
    "    time_point_mutualgaze1_round = np.floor(pd.Series(mutual_gaze1)/temp_resolu).reset_index(drop = True).astype(int)\n",
    "    time_point_mutualgaze2_round = np.floor(pd.Series(mutual_gaze2)/temp_resolu).reset_index(drop = True).astype(int)\n",
    "    time_point_onewaygaze1_round = time_point_onewaygaze1_round[(time_point_onewaygaze1_round>0)&(time_point_onewaygaze1_round<total_time)]\n",
    "    time_point_onewaygaze2_round = time_point_onewaygaze2_round[(time_point_onewaygaze2_round>0)&(time_point_onewaygaze2_round<total_time)]\n",
    "    time_point_mutualgaze1_round = time_point_mutualgaze1_round[(time_point_mutualgaze1_round>0)&(time_point_mutualgaze1_round<total_time)]\n",
    "    time_point_mutualgaze2_round = time_point_mutualgaze2_round[(time_point_mutualgaze2_round>0)&(time_point_mutualgaze2_round<total_time)]\n",
    "    # t0\n",
    "    pull1_t0 = np.zeros((total_time+1,1))\n",
    "    pull1_t0[np.array(time_point_pull1_round)] = 1\n",
    "    pull2_t0 = np.zeros((total_time+1,1))\n",
    "    pull2_t0[np.array(time_point_pull2_round)] = 1\n",
    "    owgaze1_t0 = np.zeros((total_time+1,1))\n",
    "    owgaze1_t0[np.array(time_point_onewaygaze1_round)] = 1\n",
    "    owgaze2_t0 = np.zeros((total_time+1,1))\n",
    "    owgaze2_t0[np.array(time_point_onewaygaze2_round)] = 1\n",
    "    mtgaze1_t0 = np.zeros((total_time+1,1))\n",
    "    mtgaze1_t0[np.array(time_point_mutualgaze1_round)] = 1\n",
    "    mtgaze2_t0 = np.zeros((total_time+1,1))\n",
    "    mtgaze2_t0[np.array(time_point_mutualgaze2_round)] = 1\n",
    "    # t1\n",
    "    pull1_t1 = np.zeros((total_time+1,1))\n",
    "    pull1_t1[np.array(time_point_pull1_round)+1] = 1\n",
    "    pull2_t1 = np.zeros((total_time+1,1))\n",
    "    pull2_t1[np.array(time_point_pull2_round)+1] = 1\n",
    "    owgaze1_t1 = np.zeros((total_time+1,1))\n",
    "    owgaze1_t1[np.array(time_point_onewaygaze1_round)+1] = 1\n",
    "    owgaze2_t1 = np.zeros((total_time+1,1))\n",
    "    owgaze2_t1[np.array(time_point_onewaygaze2_round)+1] = 1\n",
    "    mtgaze1_t1 = np.zeros((total_time+1,1))\n",
    "    mtgaze1_t1[np.array(time_point_mutualgaze1_round)+1] = 1\n",
    "    mtgaze2_t1 = np.zeros((total_time+1,1))\n",
    "    mtgaze2_t1[np.array(time_point_mutualgaze2_round)+1] = 1\n",
    "    \n",
    "    # clean up dataframe\n",
    "    data = np.concatenate((pull1_t0,pull2_t0,owgaze1_t0,owgaze2_t0,pull1_t1,pull2_t1,owgaze1_t1,owgaze2_t1),axis = 1)\n",
    "    colnames = [\"pull1_t0\",\"pull2_t0\",\"owgaze1_t0\",\"owgaze2_t0\",\"pull1_t1\",\"pull2_t1\",\"owgaze1_t1\",\"owgaze2_t1\"]\n",
    "    eventnames = [\"pull1\",\"pull2\",\"owgaze1\",\"owgaze2\"]\n",
    "    nevents = np.size(eventnames)\n",
    "    bhv_df = pd.DataFrame(data, columns=colnames)\n",
    "    \n",
    "    # every 10s (20 0.5s steps) as a \"trial\"\n",
    "    # total 720s \"session\" will be 72 \"trials\"\n",
    "    ntrials = int(np.floor(totalsess_time/10))\n",
    "    nFromNodes = nevents\n",
    "    nToNodes = nevents\n",
    "    for itrial in np.arange(0,ntrials,1):\n",
    "        bhv_df_itrial = bhv_df.iloc[itrial*(10/temp_resolu):(itrial+1)*(10/temp_resolu)]\n",
    "        # define DBN structures\n",
    "        all_pops = list(bhv_df_itrial.columns)\n",
    "        from_pops = [pop for pop in all_pops if not pop.endswith('t1')]\n",
    "        to_pops = [pop for pop in all_pops if pop.endswith('t1')]\n",
    "        causal_whitelist = [(from_pop,to_pop) for from_pop in from_pops for to_pop in to_pops]\n",
    "    \n",
    "        # train the DBN for the edges\n",
    "        bhv_hc = HillClimbSearch(bhv_df_itrial)\n",
    "        best_model = bhv_hc.estimate(max_indegree=None, white_list = causal_whitelist, scoring_method=BicScore(bhv_df))\n",
    "        edges_itrial = best_model.edges()   \n",
    "    \n",
    "        DAGs_itrial = np.zeros((ntrials, nFromNodes, nToNodes))\n",
    "        DAGs_itrial[0,:,:] = graph_to_matrix(list(edges_itrial),nevents,eventnames)\n",
    "\n",
    "    weighted_graphs = get_weighted_dags(DAGs_itrial,nNewBootstraps = 1)\n",
    "    return DAGs_itrial, weighted_graphs, eventnames, from_pops, to_pops"
   ]
  },
  {
   "cell_type": "markdown",
   "id": "0819c438",
   "metadata": {},
   "source": [
    "## Analyze each session"
   ]
  },
  {
   "cell_type": "code",
   "execution_count": 40,
   "id": "94968120",
   "metadata": {},
   "outputs": [
    {
     "data": {
      "application/vnd.jupyter.widget-view+json": {
       "model_id": "045a432eb84f466faf3fa0c342e7b4fc",
       "version_major": 2,
       "version_minor": 0
      },
      "text/plain": [
       "  0%|          | 0/1000000 [00:00<?, ?it/s]"
      ]
     },
     "metadata": {},
     "output_type": "display_data"
    },
    {
     "name": "stdout",
     "output_type": "stream",
     "text": [
      "[('owgaze1_t0', 'owgaze1_t1')]\n"
     ]
    },
    {
     "data": {
      "application/vnd.jupyter.widget-view+json": {
       "model_id": "90243d382355421f931974beeae4932e",
       "version_major": 2,
       "version_minor": 0
      },
      "text/plain": [
       "  0%|          | 0/1000000 [00:00<?, ?it/s]"
      ]
     },
     "metadata": {},
     "output_type": "display_data"
    },
    {
     "name": "stdout",
     "output_type": "stream",
     "text": [
      "[('pull2_t0', 'pull2_t1'), ('owgaze1_t0', 'owgaze1_t1')]\n"
     ]
    },
    {
     "data": {
      "application/vnd.jupyter.widget-view+json": {
       "model_id": "e415099089b840ccac3ce1aee14488b8",
       "version_major": 2,
       "version_minor": 0
      },
      "text/plain": [
       "  0%|          | 0/1000000 [00:00<?, ?it/s]"
      ]
     },
     "metadata": {},
     "output_type": "display_data"
    },
    {
     "name": "stdout",
     "output_type": "stream",
     "text": [
      "[('owgaze1_t0', 'owgaze1_t1')]\n"
     ]
    },
    {
     "data": {
      "application/vnd.jupyter.widget-view+json": {
       "model_id": "11d99d7d69e047ee9cd15d0bd0bf5a84",
       "version_major": 2,
       "version_minor": 0
      },
      "text/plain": [
       "  0%|          | 0/1000000 [00:00<?, ?it/s]"
      ]
     },
     "metadata": {},
     "output_type": "display_data"
    },
    {
     "name": "stdout",
     "output_type": "stream",
     "text": [
      "[('owgaze1_t0', 'owgaze1_t1')]\n"
     ]
    },
    {
     "data": {
      "application/vnd.jupyter.widget-view+json": {
       "model_id": "2f7b3717c1ec496fb6295de4b12b80d1",
       "version_major": 2,
       "version_minor": 0
      },
      "text/plain": [
       "  0%|          | 0/1000000 [00:00<?, ?it/s]"
      ]
     },
     "metadata": {},
     "output_type": "display_data"
    },
    {
     "name": "stdout",
     "output_type": "stream",
     "text": [
      "[]\n"
     ]
    },
    {
     "data": {
      "application/vnd.jupyter.widget-view+json": {
       "model_id": "f51f158e35a14985bdeb3fde3a47b442",
       "version_major": 2,
       "version_minor": 0
      },
      "text/plain": [
       "  0%|          | 0/1000000 [00:00<?, ?it/s]"
      ]
     },
     "metadata": {},
     "output_type": "display_data"
    },
    {
     "name": "stdout",
     "output_type": "stream",
     "text": [
      "[('pull2_t0', 'pull1_t1'), ('owgaze1_t0', 'owgaze1_t1')]\n"
     ]
    },
    {
     "data": {
      "application/vnd.jupyter.widget-view+json": {
       "model_id": "802051405f5c4e0393ce9630d942fedb",
       "version_major": 2,
       "version_minor": 0
      },
      "text/plain": [
       "  0%|          | 0/1000000 [00:00<?, ?it/s]"
      ]
     },
     "metadata": {},
     "output_type": "display_data"
    },
    {
     "name": "stdout",
     "output_type": "stream",
     "text": [
      "[('owgaze1_t0', 'owgaze1_t1')]\n"
     ]
    },
    {
     "data": {
      "application/vnd.jupyter.widget-view+json": {
       "model_id": "6b8cf9cf624f493792a8eb06b492f510",
       "version_major": 2,
       "version_minor": 0
      },
      "text/plain": [
       "  0%|          | 0/1000000 [00:00<?, ?it/s]"
      ]
     },
     "metadata": {},
     "output_type": "display_data"
    },
    {
     "name": "stdout",
     "output_type": "stream",
     "text": [
      "[]\n"
     ]
    },
    {
     "data": {
      "application/vnd.jupyter.widget-view+json": {
       "model_id": "db43ed0548b34214939ff62c701b538e",
       "version_major": 2,
       "version_minor": 0
      },
      "text/plain": [
       "  0%|          | 0/1000000 [00:00<?, ?it/s]"
      ]
     },
     "metadata": {},
     "output_type": "display_data"
    },
    {
     "name": "stdout",
     "output_type": "stream",
     "text": [
      "[]\n"
     ]
    },
    {
     "data": {
      "application/vnd.jupyter.widget-view+json": {
       "model_id": "91678843570a468e805f0028a922f5f0",
       "version_major": 2,
       "version_minor": 0
      },
      "text/plain": [
       "  0%|          | 0/1000000 [00:00<?, ?it/s]"
      ]
     },
     "metadata": {},
     "output_type": "display_data"
    },
    {
     "name": "stdout",
     "output_type": "stream",
     "text": [
      "[('pull2_t0', 'pull2_t1')]\n"
     ]
    },
    {
     "data": {
      "application/vnd.jupyter.widget-view+json": {
       "model_id": "f8046adcd4ff4d1c9b5de9616492a51f",
       "version_major": 2,
       "version_minor": 0
      },
      "text/plain": [
       "  0%|          | 0/1000000 [00:00<?, ?it/s]"
      ]
     },
     "metadata": {},
     "output_type": "display_data"
    },
    {
     "name": "stdout",
     "output_type": "stream",
     "text": [
      "[('pull2_t0', 'pull2_t1')]\n"
     ]
    },
    {
     "data": {
      "application/vnd.jupyter.widget-view+json": {
       "model_id": "9332a2bfc748468ea60ca61571ab62b6",
       "version_major": 2,
       "version_minor": 0
      },
      "text/plain": [
       "  0%|          | 0/1000000 [00:00<?, ?it/s]"
      ]
     },
     "metadata": {},
     "output_type": "display_data"
    },
    {
     "name": "stdout",
     "output_type": "stream",
     "text": [
      "[('pull1_t0', 'pull2_t1'), ('pull2_t0', 'pull2_t1'), ('pull2_t0', 'pull1_t1'), ('pull2_t0', 'owgaze2_t1')]\n"
     ]
    },
    {
     "data": {
      "application/vnd.jupyter.widget-view+json": {
       "model_id": "e4659a83fbfe46ed872212d2fb79dd3c",
       "version_major": 2,
       "version_minor": 0
      },
      "text/plain": [
       "  0%|          | 0/1000000 [00:00<?, ?it/s]"
      ]
     },
     "metadata": {},
     "output_type": "display_data"
    },
    {
     "name": "stdout",
     "output_type": "stream",
     "text": [
      "[('pull2_t0', 'pull2_t1')]\n"
     ]
    },
    {
     "data": {
      "application/vnd.jupyter.widget-view+json": {
       "model_id": "19a318f2dc094490af2858eb3b5e7ff2",
       "version_major": 2,
       "version_minor": 0
      },
      "text/plain": [
       "  0%|          | 0/1000000 [00:00<?, ?it/s]"
      ]
     },
     "metadata": {},
     "output_type": "display_data"
    },
    {
     "name": "stdout",
     "output_type": "stream",
     "text": [
      "[('pull2_t0', 'pull2_t1'), ('owgaze1_t0', 'owgaze1_t1')]\n"
     ]
    },
    {
     "data": {
      "application/vnd.jupyter.widget-view+json": {
       "model_id": "cb2cdbbec8bf4112b0abca3581a66ad9",
       "version_major": 2,
       "version_minor": 0
      },
      "text/plain": [
       "  0%|          | 0/1000000 [00:00<?, ?it/s]"
      ]
     },
     "metadata": {},
     "output_type": "display_data"
    },
    {
     "name": "stdout",
     "output_type": "stream",
     "text": [
      "[('pull2_t0', 'pull2_t1'), ('pull2_t0', 'pull1_t1')]\n"
     ]
    },
    {
     "data": {
      "application/vnd.jupyter.widget-view+json": {
       "model_id": "949a1b264c224ad7a59b4e157e437ada",
       "version_major": 2,
       "version_minor": 0
      },
      "text/plain": [
       "  0%|          | 0/1000000 [00:00<?, ?it/s]"
      ]
     },
     "metadata": {},
     "output_type": "display_data"
    },
    {
     "name": "stdout",
     "output_type": "stream",
     "text": [
      "[('pull1_t0', 'pull1_t1'), ('pull2_t0', 'pull2_t1')]\n"
     ]
    },
    {
     "data": {
      "application/vnd.jupyter.widget-view+json": {
       "model_id": "f5ef57f99b14473fa4ea4c332b34e2b1",
       "version_major": 2,
       "version_minor": 0
      },
      "text/plain": [
       "  0%|          | 0/1000000 [00:00<?, ?it/s]"
      ]
     },
     "metadata": {},
     "output_type": "display_data"
    },
    {
     "name": "stdout",
     "output_type": "stream",
     "text": [
      "[('pull1_t0', 'pull1_t1'), ('pull2_t0', 'pull2_t1')]\n"
     ]
    },
    {
     "data": {
      "application/vnd.jupyter.widget-view+json": {
       "model_id": "6d2a529dfb4e4bb69c676a0e26cfb0fe",
       "version_major": 2,
       "version_minor": 0
      },
      "text/plain": [
       "  0%|          | 0/1000000 [00:00<?, ?it/s]"
      ]
     },
     "metadata": {},
     "output_type": "display_data"
    },
    {
     "name": "stdout",
     "output_type": "stream",
     "text": [
      "[('pull1_t0', 'pull2_t1'), ('pull2_t0', 'pull2_t1'), ('pull2_t0', 'pull1_t1'), ('pull2_t0', 'owgaze2_t1')]\n"
     ]
    },
    {
     "data": {
      "application/vnd.jupyter.widget-view+json": {
       "model_id": "44e5e637131841f6acf1aca9aae5e91d",
       "version_major": 2,
       "version_minor": 0
      },
      "text/plain": [
       "  0%|          | 0/1000000 [00:00<?, ?it/s]"
      ]
     },
     "metadata": {},
     "output_type": "display_data"
    },
    {
     "name": "stdout",
     "output_type": "stream",
     "text": [
      "[('pull2_t0', 'pull2_t1'), ('pull2_t0', 'owgaze2_t1')]\n"
     ]
    },
    {
     "data": {
      "application/vnd.jupyter.widget-view+json": {
       "model_id": "210f21e3a04d423e84f9513872168e49",
       "version_major": 2,
       "version_minor": 0
      },
      "text/plain": [
       "  0%|          | 0/1000000 [00:00<?, ?it/s]"
      ]
     },
     "metadata": {},
     "output_type": "display_data"
    },
    {
     "name": "stdout",
     "output_type": "stream",
     "text": [
      "[('pull2_t0', 'pull2_t1'), ('pull2_t0', 'owgaze2_t1')]\n"
     ]
    },
    {
     "data": {
      "application/vnd.jupyter.widget-view+json": {
       "model_id": "37d89327c61540c3b6b5c46b3f691bf9",
       "version_major": 2,
       "version_minor": 0
      },
      "text/plain": [
       "  0%|          | 0/1000000 [00:00<?, ?it/s]"
      ]
     },
     "metadata": {},
     "output_type": "display_data"
    },
    {
     "name": "stdout",
     "output_type": "stream",
     "text": [
      "[('pull2_t0', 'pull2_t1'), ('pull2_t0', 'owgaze2_t1')]\n"
     ]
    },
    {
     "data": {
      "application/vnd.jupyter.widget-view+json": {
       "model_id": "6c11240f482e44f497c8d218f6fff68f",
       "version_major": 2,
       "version_minor": 0
      },
      "text/plain": [
       "  0%|          | 0/1000000 [00:00<?, ?it/s]"
      ]
     },
     "metadata": {},
     "output_type": "display_data"
    },
    {
     "name": "stdout",
     "output_type": "stream",
     "text": [
      "[('pull2_t0', 'pull2_t1'), ('pull2_t0', 'pull1_t1'), ('pull2_t0', 'owgaze2_t1')]\n"
     ]
    },
    {
     "data": {
      "application/vnd.jupyter.widget-view+json": {
       "model_id": "9f2b2f9bb308434babe5d1f879c6f77f",
       "version_major": 2,
       "version_minor": 0
      },
      "text/plain": [
       "  0%|          | 0/1000000 [00:00<?, ?it/s]"
      ]
     },
     "metadata": {},
     "output_type": "display_data"
    },
    {
     "name": "stdout",
     "output_type": "stream",
     "text": [
      "[('pull2_t0', 'pull2_t1'), ('pull2_t0', 'owgaze2_t1')]\n"
     ]
    },
    {
     "data": {
      "application/vnd.jupyter.widget-view+json": {
       "model_id": "5c98b5109347410ea5ae0d755f487e24",
       "version_major": 2,
       "version_minor": 0
      },
      "text/plain": [
       "  0%|          | 0/1000000 [00:00<?, ?it/s]"
      ]
     },
     "metadata": {},
     "output_type": "display_data"
    },
    {
     "name": "stdout",
     "output_type": "stream",
     "text": [
      "[('pull2_t0', 'pull2_t1'), ('pull2_t0', 'pull1_t1'), ('pull2_t0', 'owgaze2_t1')]\n"
     ]
    },
    {
     "data": {
      "application/vnd.jupyter.widget-view+json": {
       "model_id": "4dbe55ef3cb14758aa41c9c7bdef67ec",
       "version_major": 2,
       "version_minor": 0
      },
      "text/plain": [
       "  0%|          | 0/1000000 [00:00<?, ?it/s]"
      ]
     },
     "metadata": {},
     "output_type": "display_data"
    },
    {
     "name": "stdout",
     "output_type": "stream",
     "text": [
      "[('pull1_t0', 'pull1_t1'), ('pull2_t0', 'pull2_t1'), ('pull2_t0', 'owgaze2_t1')]\n"
     ]
    },
    {
     "data": {
      "application/vnd.jupyter.widget-view+json": {
       "model_id": "54a4ccf8943c41f8baf98462dcbdaa8b",
       "version_major": 2,
       "version_minor": 0
      },
      "text/plain": [
       "  0%|          | 0/1000000 [00:00<?, ?it/s]"
      ]
     },
     "metadata": {},
     "output_type": "display_data"
    },
    {
     "name": "stdout",
     "output_type": "stream",
     "text": [
      "[('pull1_t0', 'pull1_t1'), ('pull2_t0', 'pull2_t1'), ('pull2_t0', 'owgaze2_t1')]\n"
     ]
    },
    {
     "data": {
      "application/vnd.jupyter.widget-view+json": {
       "model_id": "164692ae836946c286f0ac84b4f1a1c1",
       "version_major": 2,
       "version_minor": 0
      },
      "text/plain": [
       "  0%|          | 0/1000000 [00:00<?, ?it/s]"
      ]
     },
     "metadata": {},
     "output_type": "display_data"
    },
    {
     "name": "stdout",
     "output_type": "stream",
     "text": [
      "[('pull1_t0', 'pull1_t1'), ('pull2_t0', 'pull2_t1'), ('pull2_t0', 'owgaze2_t1')]\n"
     ]
    },
    {
     "data": {
      "application/vnd.jupyter.widget-view+json": {
       "model_id": "41df3a4fce28435db1cc98392aed4d81",
       "version_major": 2,
       "version_minor": 0
      },
      "text/plain": [
       "  0%|          | 0/1000000 [00:00<?, ?it/s]"
      ]
     },
     "metadata": {},
     "output_type": "display_data"
    },
    {
     "name": "stdout",
     "output_type": "stream",
     "text": [
      "[('pull1_t0', 'pull1_t1'), ('pull2_t0', 'pull2_t1'), ('pull2_t0', 'owgaze2_t1')]\n"
     ]
    },
    {
     "data": {
      "application/vnd.jupyter.widget-view+json": {
       "model_id": "16741938af1a4902a36c84b604d80f9d",
       "version_major": 2,
       "version_minor": 0
      },
      "text/plain": [
       "  0%|          | 0/1000000 [00:00<?, ?it/s]"
      ]
     },
     "metadata": {},
     "output_type": "display_data"
    },
    {
     "name": "stdout",
     "output_type": "stream",
     "text": [
      "[('pull1_t0', 'pull1_t1'), ('pull2_t0', 'pull2_t1'), ('pull2_t0', 'owgaze2_t1')]\n"
     ]
    },
    {
     "data": {
      "application/vnd.jupyter.widget-view+json": {
       "model_id": "5baa921ef1c849e98e2ded500d7e713f",
       "version_major": 2,
       "version_minor": 0
      },
      "text/plain": [
       "  0%|          | 0/1000000 [00:00<?, ?it/s]"
      ]
     },
     "metadata": {},
     "output_type": "display_data"
    },
    {
     "name": "stdout",
     "output_type": "stream",
     "text": [
      "[('pull2_t0', 'pull2_t1'), ('pull2_t0', 'owgaze2_t1'), ('owgaze2_t0', 'pull1_t1')]\n"
     ]
    },
    {
     "data": {
      "application/vnd.jupyter.widget-view+json": {
       "model_id": "cb79efb499434868b367fb04d2de23d6",
       "version_major": 2,
       "version_minor": 0
      },
      "text/plain": [
       "  0%|          | 0/1000000 [00:00<?, ?it/s]"
      ]
     },
     "metadata": {},
     "output_type": "display_data"
    },
    {
     "name": "stdout",
     "output_type": "stream",
     "text": [
      "[('pull1_t0', 'pull1_t1'), ('pull2_t0', 'pull2_t1'), ('pull2_t0', 'owgaze2_t1')]\n"
     ]
    },
    {
     "data": {
      "application/vnd.jupyter.widget-view+json": {
       "model_id": "d95f8b4731f54b01a04d4eb27c8ad106",
       "version_major": 2,
       "version_minor": 0
      },
      "text/plain": [
       "  0%|          | 0/1000000 [00:00<?, ?it/s]"
      ]
     },
     "metadata": {},
     "output_type": "display_data"
    },
    {
     "name": "stdout",
     "output_type": "stream",
     "text": [
      "[('pull2_t0', 'pull2_t1'), ('pull2_t0', 'owgaze2_t1'), ('owgaze2_t0', 'pull1_t1')]\n"
     ]
    },
    {
     "data": {
      "application/vnd.jupyter.widget-view+json": {
       "model_id": "4cf706b20df248cdb388bee4d9b45f97",
       "version_major": 2,
       "version_minor": 0
      },
      "text/plain": [
       "  0%|          | 0/1000000 [00:00<?, ?it/s]"
      ]
     },
     "metadata": {},
     "output_type": "display_data"
    },
    {
     "name": "stdout",
     "output_type": "stream",
     "text": [
      "[('pull1_t0', 'pull1_t1'), ('pull2_t0', 'pull2_t1'), ('owgaze1_t0', 'owgaze2_t1')]\n"
     ]
    },
    {
     "data": {
      "application/vnd.jupyter.widget-view+json": {
       "model_id": "b893a3d974ef4fc68a2b469ddaec73c5",
       "version_major": 2,
       "version_minor": 0
      },
      "text/plain": [
       "  0%|          | 0/1000000 [00:00<?, ?it/s]"
      ]
     },
     "metadata": {},
     "output_type": "display_data"
    },
    {
     "name": "stdout",
     "output_type": "stream",
     "text": [
      "[('pull2_t0', 'pull2_t1'), ('pull2_t0', 'owgaze2_t1'), ('owgaze2_t0', 'pull1_t1')]\n"
     ]
    },
    {
     "data": {
      "application/vnd.jupyter.widget-view+json": {
       "model_id": "ec6a68e983c14754a8fbb37f959788d4",
       "version_major": 2,
       "version_minor": 0
      },
      "text/plain": [
       "  0%|          | 0/1000000 [00:00<?, ?it/s]"
      ]
     },
     "metadata": {},
     "output_type": "display_data"
    },
    {
     "name": "stdout",
     "output_type": "stream",
     "text": [
      "[('pull2_t0', 'pull2_t1'), ('pull2_t0', 'owgaze2_t1'), ('owgaze2_t0', 'pull1_t1')]\n"
     ]
    },
    {
     "data": {
      "application/vnd.jupyter.widget-view+json": {
       "model_id": "f5403681b506488fa5cf160274f704a5",
       "version_major": 2,
       "version_minor": 0
      },
      "text/plain": [
       "  0%|          | 0/1000000 [00:00<?, ?it/s]"
      ]
     },
     "metadata": {},
     "output_type": "display_data"
    },
    {
     "name": "stdout",
     "output_type": "stream",
     "text": [
      "[('pull2_t0', 'pull2_t1'), ('pull2_t0', 'pull1_t1'), ('pull2_t0', 'owgaze2_t1')]\n"
     ]
    },
    {
     "data": {
      "application/vnd.jupyter.widget-view+json": {
       "model_id": "01b81f2702ae49e1a6d71536be4a08c6",
       "version_major": 2,
       "version_minor": 0
      },
      "text/plain": [
       "  0%|          | 0/1000000 [00:00<?, ?it/s]"
      ]
     },
     "metadata": {},
     "output_type": "display_data"
    },
    {
     "name": "stdout",
     "output_type": "stream",
     "text": [
      "[('pull1_t0', 'owgaze1_t1'), ('pull2_t0', 'pull2_t1'), ('pull2_t0', 'owgaze2_t1'), ('owgaze2_t0', 'pull1_t1')]\n"
     ]
    },
    {
     "data": {
      "application/vnd.jupyter.widget-view+json": {
       "model_id": "47c1c27cf025484cac44645d5d9f7e62",
       "version_major": 2,
       "version_minor": 0
      },
      "text/plain": [
       "  0%|          | 0/1000000 [00:00<?, ?it/s]"
      ]
     },
     "metadata": {},
     "output_type": "display_data"
    },
    {
     "name": "stdout",
     "output_type": "stream",
     "text": [
      "[('pull1_t0', 'owgaze2_t1'), ('pull2_t0', 'pull2_t1'), ('owgaze2_t0', 'pull1_t1')]\n"
     ]
    },
    {
     "data": {
      "application/vnd.jupyter.widget-view+json": {
       "model_id": "fdd19930a93649f19481207910acf5c7",
       "version_major": 2,
       "version_minor": 0
      },
      "text/plain": [
       "  0%|          | 0/1000000 [00:00<?, ?it/s]"
      ]
     },
     "metadata": {},
     "output_type": "display_data"
    },
    {
     "name": "stdout",
     "output_type": "stream",
     "text": [
      "[('pull1_t0', 'owgaze1_t1'), ('pull2_t0', 'pull2_t1'), ('owgaze1_t0', 'owgaze2_t1'), ('owgaze2_t0', 'pull1_t1')]\n"
     ]
    },
    {
     "data": {
      "application/vnd.jupyter.widget-view+json": {
       "model_id": "e2453ad545054d1092ca2c68ca7f020b",
       "version_major": 2,
       "version_minor": 0
      },
      "text/plain": [
       "  0%|          | 0/1000000 [00:00<?, ?it/s]"
      ]
     },
     "metadata": {},
     "output_type": "display_data"
    },
    {
     "name": "stdout",
     "output_type": "stream",
     "text": [
      "[('pull1_t0', 'pull1_t1'), ('pull2_t0', 'pull2_t1'), ('pull2_t0', 'owgaze2_t1')]\n"
     ]
    },
    {
     "data": {
      "application/vnd.jupyter.widget-view+json": {
       "model_id": "999e8f78df034d3f897cd90a461f996e",
       "version_major": 2,
       "version_minor": 0
      },
      "text/plain": [
       "  0%|          | 0/1000000 [00:00<?, ?it/s]"
      ]
     },
     "metadata": {},
     "output_type": "display_data"
    },
    {
     "name": "stdout",
     "output_type": "stream",
     "text": [
      "[('pull2_t0', 'pull2_t1'), ('owgaze1_t0', 'owgaze2_t1'), ('owgaze2_t0', 'pull1_t1')]\n"
     ]
    },
    {
     "data": {
      "application/vnd.jupyter.widget-view+json": {
       "model_id": "cca1f112c93040e1accc38068a328039",
       "version_major": 2,
       "version_minor": 0
      },
      "text/plain": [
       "  0%|          | 0/1000000 [00:00<?, ?it/s]"
      ]
     },
     "metadata": {},
     "output_type": "display_data"
    },
    {
     "name": "stdout",
     "output_type": "stream",
     "text": [
      "[('pull1_t0', 'owgaze1_t1'), ('pull1_t0', 'owgaze2_t1'), ('pull2_t0', 'pull2_t1'), ('owgaze2_t0', 'pull1_t1')]\n"
     ]
    },
    {
     "data": {
      "application/vnd.jupyter.widget-view+json": {
       "model_id": "18ef8adb59e442a4a94f3e7b8be16a0c",
       "version_major": 2,
       "version_minor": 0
      },
      "text/plain": [
       "  0%|          | 0/1000000 [00:00<?, ?it/s]"
      ]
     },
     "metadata": {},
     "output_type": "display_data"
    },
    {
     "name": "stdout",
     "output_type": "stream",
     "text": [
      "[('pull2_t0', 'pull2_t1'), ('pull2_t0', 'owgaze2_t1'), ('owgaze1_t0', 'owgaze2_t1'), ('owgaze2_t0', 'pull1_t1')]\n"
     ]
    },
    {
     "data": {
      "application/vnd.jupyter.widget-view+json": {
       "model_id": "d5cabd9839f042c799b250f591a87268",
       "version_major": 2,
       "version_minor": 0
      },
      "text/plain": [
       "  0%|          | 0/1000000 [00:00<?, ?it/s]"
      ]
     },
     "metadata": {},
     "output_type": "display_data"
    },
    {
     "name": "stdout",
     "output_type": "stream",
     "text": [
      "[('pull1_t0', 'pull1_t1'), ('pull2_t0', 'pull2_t1'), ('owgaze1_t0', 'owgaze2_t1')]\n"
     ]
    },
    {
     "data": {
      "application/vnd.jupyter.widget-view+json": {
       "model_id": "5b18ebeb5e584e049fe457e1462cdeb7",
       "version_major": 2,
       "version_minor": 0
      },
      "text/plain": [
       "  0%|          | 0/1000000 [00:00<?, ?it/s]"
      ]
     },
     "metadata": {},
     "output_type": "display_data"
    },
    {
     "name": "stdout",
     "output_type": "stream",
     "text": [
      "[('pull1_t0', 'owgaze1_t1'), ('pull2_t0', 'pull2_t1'), ('pull2_t0', 'owgaze2_t1'), ('owgaze1_t0', 'owgaze2_t1'), ('owgaze2_t0', 'pull1_t1')]\n"
     ]
    },
    {
     "data": {
      "application/vnd.jupyter.widget-view+json": {
       "model_id": "950dc7a74cb84c5db980da8a0a83bd57",
       "version_major": 2,
       "version_minor": 0
      },
      "text/plain": [
       "  0%|          | 0/1000000 [00:00<?, ?it/s]"
      ]
     },
     "metadata": {},
     "output_type": "display_data"
    },
    {
     "name": "stdout",
     "output_type": "stream",
     "text": [
      "[('pull2_t0', 'pull2_t1'), ('owgaze1_t0', 'owgaze2_t1'), ('owgaze2_t0', 'pull1_t1')]\n"
     ]
    },
    {
     "data": {
      "application/vnd.jupyter.widget-view+json": {
       "model_id": "c8257019dc2d4c7ca05a0a9fd2e4a865",
       "version_major": 2,
       "version_minor": 0
      },
      "text/plain": [
       "  0%|          | 0/1000000 [00:00<?, ?it/s]"
      ]
     },
     "metadata": {},
     "output_type": "display_data"
    },
    {
     "name": "stdout",
     "output_type": "stream",
     "text": [
      "[('pull1_t0', 'owgaze2_t1'), ('pull1_t0', 'pull1_t1'), ('pull2_t0', 'pull2_t1')]\n"
     ]
    },
    {
     "data": {
      "application/vnd.jupyter.widget-view+json": {
       "model_id": "19776b73e2b04f279c61161a98f440b2",
       "version_major": 2,
       "version_minor": 0
      },
      "text/plain": [
       "  0%|          | 0/1000000 [00:00<?, ?it/s]"
      ]
     },
     "metadata": {},
     "output_type": "display_data"
    },
    {
     "name": "stdout",
     "output_type": "stream",
     "text": [
      "[('pull1_t0', 'owgaze1_t1'), ('pull2_t0', 'pull2_t1'), ('pull2_t0', 'owgaze2_t1'), ('owgaze2_t0', 'pull1_t1')]\n"
     ]
    },
    {
     "data": {
      "application/vnd.jupyter.widget-view+json": {
       "model_id": "7b7ce4be50fa4426bb43b2e7440a3974",
       "version_major": 2,
       "version_minor": 0
      },
      "text/plain": [
       "  0%|          | 0/1000000 [00:00<?, ?it/s]"
      ]
     },
     "metadata": {},
     "output_type": "display_data"
    },
    {
     "name": "stdout",
     "output_type": "stream",
     "text": [
      "[('pull1_t0', 'owgaze1_t1'), ('pull2_t0', 'pull2_t1'), ('owgaze1_t0', 'owgaze2_t1'), ('owgaze2_t0', 'pull1_t1')]\n"
     ]
    },
    {
     "data": {
      "application/vnd.jupyter.widget-view+json": {
       "model_id": "a1a3110b3a5d4a3ab56b7e1aed540dc1",
       "version_major": 2,
       "version_minor": 0
      },
      "text/plain": [
       "  0%|          | 0/1000000 [00:00<?, ?it/s]"
      ]
     },
     "metadata": {},
     "output_type": "display_data"
    },
    {
     "name": "stdout",
     "output_type": "stream",
     "text": [
      "[('pull1_t0', 'pull1_t1'), ('pull2_t0', 'pull2_t1'), ('pull2_t0', 'owgaze2_t1')]\n"
     ]
    },
    {
     "data": {
      "application/vnd.jupyter.widget-view+json": {
       "model_id": "fb9cf4206cd346f3a7b404de956bed56",
       "version_major": 2,
       "version_minor": 0
      },
      "text/plain": [
       "  0%|          | 0/1000000 [00:00<?, ?it/s]"
      ]
     },
     "metadata": {},
     "output_type": "display_data"
    },
    {
     "name": "stdout",
     "output_type": "stream",
     "text": [
      "[('pull1_t0', 'pull1_t1'), ('pull1_t0', 'owgaze2_t1'), ('pull2_t0', 'pull2_t1'), ('owgaze1_t0', 'owgaze2_t1')]\n"
     ]
    },
    {
     "data": {
      "application/vnd.jupyter.widget-view+json": {
       "model_id": "1082995c171144a6a936e011816c9104",
       "version_major": 2,
       "version_minor": 0
      },
      "text/plain": [
       "  0%|          | 0/1000000 [00:00<?, ?it/s]"
      ]
     },
     "metadata": {},
     "output_type": "display_data"
    },
    {
     "name": "stdout",
     "output_type": "stream",
     "text": [
      "[('pull1_t0', 'owgaze1_t1'), ('pull2_t0', 'pull2_t1'), ('pull2_t0', 'owgaze2_t1'), ('owgaze2_t0', 'pull1_t1')]\n"
     ]
    },
    {
     "data": {
      "application/vnd.jupyter.widget-view+json": {
       "model_id": "0d9323068a2f49ac8ef6e3afccf74ce2",
       "version_major": 2,
       "version_minor": 0
      },
      "text/plain": [
       "  0%|          | 0/1000000 [00:00<?, ?it/s]"
      ]
     },
     "metadata": {},
     "output_type": "display_data"
    },
    {
     "name": "stdout",
     "output_type": "stream",
     "text": [
      "[('pull1_t0', 'owgaze1_t1'), ('pull2_t0', 'pull2_t1'), ('pull2_t0', 'pull1_t1'), ('owgaze1_t0', 'owgaze2_t1')]\n"
     ]
    },
    {
     "data": {
      "application/vnd.jupyter.widget-view+json": {
       "model_id": "ded2c217e06c43c89ce6f0b7fa35bf46",
       "version_major": 2,
       "version_minor": 0
      },
      "text/plain": [
       "  0%|          | 0/1000000 [00:00<?, ?it/s]"
      ]
     },
     "metadata": {},
     "output_type": "display_data"
    },
    {
     "name": "stdout",
     "output_type": "stream",
     "text": [
      "[('pull2_t0', 'owgaze1_t1'), ('pull2_t0', 'pull2_t1'), ('pull2_t0', 'pull1_t1'), ('owgaze1_t0', 'owgaze1_t1'), ('owgaze2_t0', 'owgaze2_t1')]\n"
     ]
    },
    {
     "data": {
      "application/vnd.jupyter.widget-view+json": {
       "model_id": "acf732f5ce9f44de9e682dc8f898ec43",
       "version_major": 2,
       "version_minor": 0
      },
      "text/plain": [
       "  0%|          | 0/1000000 [00:00<?, ?it/s]"
      ]
     },
     "metadata": {},
     "output_type": "display_data"
    },
    {
     "name": "stdout",
     "output_type": "stream",
     "text": [
      "[('pull1_t0', 'pull1_t1'), ('pull2_t0', 'owgaze1_t1'), ('pull2_t0', 'pull2_t1'), ('owgaze2_t0', 'owgaze2_t1')]\n"
     ]
    },
    {
     "data": {
      "application/vnd.jupyter.widget-view+json": {
       "model_id": "f4bcbdb1e8cb4a7381a8e3ab661b516b",
       "version_major": 2,
       "version_minor": 0
      },
      "text/plain": [
       "  0%|          | 0/1000000 [00:00<?, ?it/s]"
      ]
     },
     "metadata": {},
     "output_type": "display_data"
    },
    {
     "name": "stdout",
     "output_type": "stream",
     "text": [
      "[('pull1_t0', 'pull1_t1'), ('pull2_t0', 'pull2_t1'), ('owgaze2_t0', 'owgaze2_t1')]\n"
     ]
    },
    {
     "data": {
      "application/vnd.jupyter.widget-view+json": {
       "model_id": "3ce4487dd9e2418da7c7585c5947f680",
       "version_major": 2,
       "version_minor": 0
      },
      "text/plain": [
       "  0%|          | 0/1000000 [00:00<?, ?it/s]"
      ]
     },
     "metadata": {},
     "output_type": "display_data"
    },
    {
     "name": "stdout",
     "output_type": "stream",
     "text": [
      "[('pull1_t0', 'pull1_t1'), ('pull2_t0', 'pull2_t1')]\n"
     ]
    },
    {
     "data": {
      "application/vnd.jupyter.widget-view+json": {
       "model_id": "94f920109e8a44bfacf8c6a655cac5bd",
       "version_major": 2,
       "version_minor": 0
      },
      "text/plain": [
       "  0%|          | 0/1000000 [00:00<?, ?it/s]"
      ]
     },
     "metadata": {},
     "output_type": "display_data"
    },
    {
     "name": "stdout",
     "output_type": "stream",
     "text": [
      "[('pull1_t0', 'pull1_t1'), ('pull2_t0', 'pull2_t1')]\n"
     ]
    },
    {
     "data": {
      "application/vnd.jupyter.widget-view+json": {
       "model_id": "14169e381492494986c6919895f5ae9f",
       "version_major": 2,
       "version_minor": 0
      },
      "text/plain": [
       "  0%|          | 0/1000000 [00:00<?, ?it/s]"
      ]
     },
     "metadata": {},
     "output_type": "display_data"
    },
    {
     "name": "stdout",
     "output_type": "stream",
     "text": [
      "[('pull1_t0', 'pull1_t1'), ('pull2_t0', 'pull2_t1')]\n"
     ]
    },
    {
     "data": {
      "application/vnd.jupyter.widget-view+json": {
       "model_id": "e0b283b1cc244c9eac2958885827e162",
       "version_major": 2,
       "version_minor": 0
      },
      "text/plain": [
       "  0%|          | 0/1000000 [00:00<?, ?it/s]"
      ]
     },
     "metadata": {},
     "output_type": "display_data"
    },
    {
     "name": "stdout",
     "output_type": "stream",
     "text": [
      "[('pull1_t0', 'pull1_t1'), ('pull2_t0', 'pull2_t1')]\n"
     ]
    },
    {
     "data": {
      "application/vnd.jupyter.widget-view+json": {
       "model_id": "cd8f64d4fb194c7180a629b9bc8fe38f",
       "version_major": 2,
       "version_minor": 0
      },
      "text/plain": [
       "  0%|          | 0/1000000 [00:00<?, ?it/s]"
      ]
     },
     "metadata": {},
     "output_type": "display_data"
    },
    {
     "name": "stdout",
     "output_type": "stream",
     "text": [
      "[('pull1_t0', 'pull1_t1'), ('pull2_t0', 'pull2_t1')]\n"
     ]
    },
    {
     "data": {
      "application/vnd.jupyter.widget-view+json": {
       "model_id": "37d1e58dabd642a6ae69423f6421df95",
       "version_major": 2,
       "version_minor": 0
      },
      "text/plain": [
       "  0%|          | 0/1000000 [00:00<?, ?it/s]"
      ]
     },
     "metadata": {},
     "output_type": "display_data"
    },
    {
     "name": "stdout",
     "output_type": "stream",
     "text": [
      "[('pull1_t0', 'pull1_t1'), ('pull2_t0', 'pull2_t1'), ('owgaze2_t0', 'owgaze2_t1')]\n"
     ]
    },
    {
     "data": {
      "application/vnd.jupyter.widget-view+json": {
       "model_id": "7f771a91e2644866ad6cb5f801abaeaa",
       "version_major": 2,
       "version_minor": 0
      },
      "text/plain": [
       "  0%|          | 0/1000000 [00:00<?, ?it/s]"
      ]
     },
     "metadata": {},
     "output_type": "display_data"
    },
    {
     "name": "stdout",
     "output_type": "stream",
     "text": [
      "[('pull1_t0', 'pull1_t1'), ('pull1_t0', 'owgaze1_t1'), ('pull2_t0', 'pull2_t1')]\n"
     ]
    },
    {
     "data": {
      "application/vnd.jupyter.widget-view+json": {
       "model_id": "1f010a5cdc734efdb0c358d043c241e0",
       "version_major": 2,
       "version_minor": 0
      },
      "text/plain": [
       "  0%|          | 0/1000000 [00:00<?, ?it/s]"
      ]
     },
     "metadata": {},
     "output_type": "display_data"
    },
    {
     "name": "stdout",
     "output_type": "stream",
     "text": [
      "[('pull2_t0', 'pull2_t1')]\n"
     ]
    },
    {
     "data": {
      "application/vnd.jupyter.widget-view+json": {
       "model_id": "8630c8b49e574d6d8c1766d1ac9ec3c0",
       "version_major": 2,
       "version_minor": 0
      },
      "text/plain": [
       "  0%|          | 0/1000000 [00:00<?, ?it/s]"
      ]
     },
     "metadata": {},
     "output_type": "display_data"
    },
    {
     "name": "stdout",
     "output_type": "stream",
     "text": [
      "[]\n"
     ]
    },
    {
     "data": {
      "application/vnd.jupyter.widget-view+json": {
       "model_id": "96e91fab93ff483e8cfc5ec04ab9bcbf",
       "version_major": 2,
       "version_minor": 0
      },
      "text/plain": [
       "  0%|          | 0/1000000 [00:00<?, ?it/s]"
      ]
     },
     "metadata": {},
     "output_type": "display_data"
    },
    {
     "name": "stdout",
     "output_type": "stream",
     "text": [
      "[('pull1_t0', 'owgaze1_t1')]\n"
     ]
    },
    {
     "data": {
      "application/vnd.jupyter.widget-view+json": {
       "model_id": "8b579a9814834956b0e576458e816740",
       "version_major": 2,
       "version_minor": 0
      },
      "text/plain": [
       "  0%|          | 0/1000000 [00:00<?, ?it/s]"
      ]
     },
     "metadata": {},
     "output_type": "display_data"
    },
    {
     "name": "stdout",
     "output_type": "stream",
     "text": [
      "[('pull1_t0', 'owgaze1_t1')]\n"
     ]
    },
    {
     "data": {
      "application/vnd.jupyter.widget-view+json": {
       "model_id": "16d3c7dd9c9f44d3bed11d0ff83cb234",
       "version_major": 2,
       "version_minor": 0
      },
      "text/plain": [
       "  0%|          | 0/1000000 [00:00<?, ?it/s]"
      ]
     },
     "metadata": {},
     "output_type": "display_data"
    },
    {
     "name": "stdout",
     "output_type": "stream",
     "text": [
      "[('pull1_t0', 'owgaze1_t1'), ('pull2_t0', 'pull1_t1'), ('pull2_t0', 'pull2_t1')]\n"
     ]
    },
    {
     "data": {
      "application/vnd.jupyter.widget-view+json": {
       "model_id": "fece08782c0f45c6aa44c325b66683d2",
       "version_major": 2,
       "version_minor": 0
      },
      "text/plain": [
       "  0%|          | 0/1000000 [00:00<?, ?it/s]"
      ]
     },
     "metadata": {},
     "output_type": "display_data"
    },
    {
     "name": "stdout",
     "output_type": "stream",
     "text": [
      "[('pull1_t0', 'owgaze1_t1'), ('owgaze2_t0', 'owgaze2_t1')]\n"
     ]
    },
    {
     "data": {
      "application/vnd.jupyter.widget-view+json": {
       "model_id": "0ae9f5ede4e84c759767f6554c84aa72",
       "version_major": 2,
       "version_minor": 0
      },
      "text/plain": [
       "  0%|          | 0/1000000 [00:00<?, ?it/s]"
      ]
     },
     "metadata": {},
     "output_type": "display_data"
    },
    {
     "name": "stdout",
     "output_type": "stream",
     "text": [
      "[('pull1_t0', 'owgaze1_t1')]\n"
     ]
    },
    {
     "data": {
      "application/vnd.jupyter.widget-view+json": {
       "model_id": "86d97e734f17464eb318812581e54e2f",
       "version_major": 2,
       "version_minor": 0
      },
      "text/plain": [
       "  0%|          | 0/1000000 [00:00<?, ?it/s]"
      ]
     },
     "metadata": {},
     "output_type": "display_data"
    },
    {
     "name": "stdout",
     "output_type": "stream",
     "text": [
      "[('owgaze1_t0', 'owgaze1_t1')]\n"
     ]
    },
    {
     "data": {
      "application/vnd.jupyter.widget-view+json": {
       "model_id": "c5480b2002e240d19eb3c944b9a978a9",
       "version_major": 2,
       "version_minor": 0
      },
      "text/plain": [
       "  0%|          | 0/1000000 [00:00<?, ?it/s]"
      ]
     },
     "metadata": {},
     "output_type": "display_data"
    },
    {
     "name": "stdout",
     "output_type": "stream",
     "text": [
      "[('pull1_t0', 'pull1_t1'), ('owgaze1_t0', 'owgaze1_t1'), ('owgaze1_t0', 'pull2_t1')]\n"
     ]
    },
    {
     "data": {
      "application/vnd.jupyter.widget-view+json": {
       "model_id": "d3b42deecf85494aaf43671e6a7be773",
       "version_major": 2,
       "version_minor": 0
      },
      "text/plain": [
       "  0%|          | 0/1000000 [00:00<?, ?it/s]"
      ]
     },
     "metadata": {},
     "output_type": "display_data"
    },
    {
     "name": "stdout",
     "output_type": "stream",
     "text": [
      "[('pull2_t0', 'pull1_t1'), ('pull2_t0', 'owgaze1_t1')]\n"
     ]
    },
    {
     "data": {
      "application/vnd.jupyter.widget-view+json": {
       "model_id": "009ed18c343242588fb0c217106290d1",
       "version_major": 2,
       "version_minor": 0
      },
      "text/plain": [
       "  0%|          | 0/1000000 [00:00<?, ?it/s]"
      ]
     },
     "metadata": {},
     "output_type": "display_data"
    },
    {
     "name": "stdout",
     "output_type": "stream",
     "text": [
      "[('pull2_t0', 'pull1_t1'), ('owgaze1_t0', 'owgaze1_t1')]\n"
     ]
    },
    {
     "data": {
      "application/vnd.jupyter.widget-view+json": {
       "model_id": "8e0e586ad9b3460b86cb4d94915ec595",
       "version_major": 2,
       "version_minor": 0
      },
      "text/plain": [
       "  0%|          | 0/1000000 [00:00<?, ?it/s]"
      ]
     },
     "metadata": {},
     "output_type": "display_data"
    },
    {
     "name": "stdout",
     "output_type": "stream",
     "text": [
      "[('pull1_t0', 'pull1_t1'), ('owgaze1_t0', 'owgaze1_t1')]\n"
     ]
    },
    {
     "data": {
      "application/vnd.jupyter.widget-view+json": {
       "model_id": "6cd210b968b647aa87ed79c963ce4836",
       "version_major": 2,
       "version_minor": 0
      },
      "text/plain": [
       "  0%|          | 0/1000000 [00:00<?, ?it/s]"
      ]
     },
     "metadata": {},
     "output_type": "display_data"
    },
    {
     "name": "stdout",
     "output_type": "stream",
     "text": [
      "[('pull2_t0', 'pull1_t1'), ('owgaze1_t0', 'owgaze1_t1')]\n"
     ]
    },
    {
     "data": {
      "application/vnd.jupyter.widget-view+json": {
       "model_id": "b077eb4a7335408aae98ae5a7494fea4",
       "version_major": 2,
       "version_minor": 0
      },
      "text/plain": [
       "  0%|          | 0/1000000 [00:00<?, ?it/s]"
      ]
     },
     "metadata": {},
     "output_type": "display_data"
    },
    {
     "name": "stdout",
     "output_type": "stream",
     "text": [
      "[('pull1_t0', 'pull1_t1'), ('pull1_t0', 'pull2_t1'), ('owgaze1_t0', 'owgaze1_t1')]\n"
     ]
    },
    {
     "data": {
      "application/vnd.jupyter.widget-view+json": {
       "model_id": "7ec91c8c74644981a1c6d788eb04bb68",
       "version_major": 2,
       "version_minor": 0
      },
      "text/plain": [
       "  0%|          | 0/1000000 [00:00<?, ?it/s]"
      ]
     },
     "metadata": {},
     "output_type": "display_data"
    },
    {
     "name": "stdout",
     "output_type": "stream",
     "text": [
      "[('pull1_t0', 'pull1_t1'), ('pull1_t0', 'pull2_t1'), ('owgaze1_t0', 'owgaze1_t1')]\n"
     ]
    },
    {
     "data": {
      "application/vnd.jupyter.widget-view+json": {
       "model_id": "3c941178d4d945bcab38a97a0f3243a5",
       "version_major": 2,
       "version_minor": 0
      },
      "text/plain": [
       "  0%|          | 0/1000000 [00:00<?, ?it/s]"
      ]
     },
     "metadata": {},
     "output_type": "display_data"
    },
    {
     "name": "stdout",
     "output_type": "stream",
     "text": [
      "[('pull1_t0', 'pull1_t1'), ('owgaze1_t0', 'owgaze1_t1'), ('owgaze2_t0', 'owgaze2_t1')]\n"
     ]
    },
    {
     "data": {
      "application/vnd.jupyter.widget-view+json": {
       "model_id": "d43e245c60974e54877540a401ad8231",
       "version_major": 2,
       "version_minor": 0
      },
      "text/plain": [
       "  0%|          | 0/1000000 [00:00<?, ?it/s]"
      ]
     },
     "metadata": {},
     "output_type": "display_data"
    },
    {
     "name": "stdout",
     "output_type": "stream",
     "text": [
      "[('pull1_t0', 'pull1_t1'), ('owgaze1_t0', 'owgaze1_t1'), ('owgaze2_t0', 'owgaze2_t1')]\n"
     ]
    },
    {
     "data": {
      "application/vnd.jupyter.widget-view+json": {
       "model_id": "0188bac830894f2eb0e2df86e438f492",
       "version_major": 2,
       "version_minor": 0
      },
      "text/plain": [
       "  0%|          | 0/1000000 [00:00<?, ?it/s]"
      ]
     },
     "metadata": {},
     "output_type": "display_data"
    },
    {
     "name": "stdout",
     "output_type": "stream",
     "text": [
      "[('pull1_t0', 'pull2_t1'), ('owgaze1_t0', 'owgaze1_t1')]\n"
     ]
    },
    {
     "data": {
      "application/vnd.jupyter.widget-view+json": {
       "model_id": "af59e8060c4e44b188464311c43d7b00",
       "version_major": 2,
       "version_minor": 0
      },
      "text/plain": [
       "  0%|          | 0/1000000 [00:00<?, ?it/s]"
      ]
     },
     "metadata": {},
     "output_type": "display_data"
    },
    {
     "name": "stdout",
     "output_type": "stream",
     "text": [
      "[('owgaze1_t0', 'owgaze1_t1')]\n"
     ]
    },
    {
     "data": {
      "application/vnd.jupyter.widget-view+json": {
       "model_id": "29628a7658234c978a0c57397dcb30f1",
       "version_major": 2,
       "version_minor": 0
      },
      "text/plain": [
       "  0%|          | 0/1000000 [00:00<?, ?it/s]"
      ]
     },
     "metadata": {},
     "output_type": "display_data"
    },
    {
     "name": "stdout",
     "output_type": "stream",
     "text": [
      "[('owgaze1_t0', 'owgaze1_t1')]\n"
     ]
    },
    {
     "data": {
      "application/vnd.jupyter.widget-view+json": {
       "model_id": "71f3b5a88f7a40c2ad58477fabe63207",
       "version_major": 2,
       "version_minor": 0
      },
      "text/plain": [
       "  0%|          | 0/1000000 [00:00<?, ?it/s]"
      ]
     },
     "metadata": {},
     "output_type": "display_data"
    },
    {
     "name": "stdout",
     "output_type": "stream",
     "text": [
      "[('owgaze1_t0', 'owgaze1_t1')]\n"
     ]
    },
    {
     "data": {
      "application/vnd.jupyter.widget-view+json": {
       "model_id": "58f8995b1c984f5aa970a0b11c2d162e",
       "version_major": 2,
       "version_minor": 0
      },
      "text/plain": [
       "  0%|          | 0/1000000 [00:00<?, ?it/s]"
      ]
     },
     "metadata": {},
     "output_type": "display_data"
    },
    {
     "name": "stdout",
     "output_type": "stream",
     "text": [
      "[('owgaze1_t0', 'owgaze1_t1')]\n"
     ]
    },
    {
     "data": {
      "application/vnd.jupyter.widget-view+json": {
       "model_id": "a4e9c45c5e2243eeb680e26bf3a6c67e",
       "version_major": 2,
       "version_minor": 0
      },
      "text/plain": [
       "  0%|          | 0/1000000 [00:00<?, ?it/s]"
      ]
     },
     "metadata": {},
     "output_type": "display_data"
    },
    {
     "name": "stdout",
     "output_type": "stream",
     "text": [
      "[('owgaze1_t0', 'owgaze1_t1'), ('owgaze2_t0', 'owgaze2_t1')]\n"
     ]
    },
    {
     "data": {
      "application/vnd.jupyter.widget-view+json": {
       "model_id": "b25febfcacc341d48d7c63baa939e3dc",
       "version_major": 2,
       "version_minor": 0
      },
      "text/plain": [
       "  0%|          | 0/1000000 [00:00<?, ?it/s]"
      ]
     },
     "metadata": {},
     "output_type": "display_data"
    },
    {
     "name": "stdout",
     "output_type": "stream",
     "text": [
      "[('owgaze1_t0', 'owgaze1_t1'), ('owgaze2_t0', 'owgaze2_t1')]\n"
     ]
    },
    {
     "data": {
      "application/vnd.jupyter.widget-view+json": {
       "model_id": "ba75d146d092428e8052462c82e81b0c",
       "version_major": 2,
       "version_minor": 0
      },
      "text/plain": [
       "  0%|          | 0/1000000 [00:00<?, ?it/s]"
      ]
     },
     "metadata": {},
     "output_type": "display_data"
    },
    {
     "name": "stdout",
     "output_type": "stream",
     "text": [
      "[('owgaze1_t0', 'owgaze1_t1')]\n"
     ]
    },
    {
     "data": {
      "application/vnd.jupyter.widget-view+json": {
       "model_id": "d304ffb5134a47d28137ee5cef21dfe5",
       "version_major": 2,
       "version_minor": 0
      },
      "text/plain": [
       "  0%|          | 0/1000000 [00:00<?, ?it/s]"
      ]
     },
     "metadata": {},
     "output_type": "display_data"
    },
    {
     "name": "stdout",
     "output_type": "stream",
     "text": [
      "[('owgaze1_t0', 'owgaze1_t1')]\n"
     ]
    },
    {
     "data": {
      "application/vnd.jupyter.widget-view+json": {
       "model_id": "357036596f3f4c789f1f38a3fbbc9d67",
       "version_major": 2,
       "version_minor": 0
      },
      "text/plain": [
       "  0%|          | 0/1000000 [00:00<?, ?it/s]"
      ]
     },
     "metadata": {},
     "output_type": "display_data"
    },
    {
     "name": "stdout",
     "output_type": "stream",
     "text": [
      "[('owgaze1_t0', 'owgaze1_t1')]\n"
     ]
    },
    {
     "data": {
      "application/vnd.jupyter.widget-view+json": {
       "model_id": "35cc8b5c4bc447c5a041acfbb791c1c5",
       "version_major": 2,
       "version_minor": 0
      },
      "text/plain": [
       "  0%|          | 0/1000000 [00:00<?, ?it/s]"
      ]
     },
     "metadata": {},
     "output_type": "display_data"
    },
    {
     "name": "stdout",
     "output_type": "stream",
     "text": [
      "[]\n"
     ]
    },
    {
     "data": {
      "application/vnd.jupyter.widget-view+json": {
       "model_id": "957e0bafcd314bd9902e4d9591c7688a",
       "version_major": 2,
       "version_minor": 0
      },
      "text/plain": [
       "  0%|          | 0/1000000 [00:00<?, ?it/s]"
      ]
     },
     "metadata": {},
     "output_type": "display_data"
    },
    {
     "name": "stdout",
     "output_type": "stream",
     "text": [
      "[('owgaze1_t0', 'owgaze1_t1'), ('owgaze2_t0', 'owgaze2_t1')]\n"
     ]
    },
    {
     "data": {
      "application/vnd.jupyter.widget-view+json": {
       "model_id": "f61ff83c593c49b0af5a7222dfb852ab",
       "version_major": 2,
       "version_minor": 0
      },
      "text/plain": [
       "  0%|          | 0/1000000 [00:00<?, ?it/s]"
      ]
     },
     "metadata": {},
     "output_type": "display_data"
    },
    {
     "name": "stdout",
     "output_type": "stream",
     "text": [
      "[('pull1_t0', 'pull1_t1'), ('pull1_t0', 'pull2_t1'), ('owgaze1_t0', 'owgaze1_t1'), ('owgaze2_t0', 'owgaze2_t1')]\n"
     ]
    },
    {
     "data": {
      "application/vnd.jupyter.widget-view+json": {
       "model_id": "b9e447e7321a448da80d20723d2dedd2",
       "version_major": 2,
       "version_minor": 0
      },
      "text/plain": [
       "  0%|          | 0/1000000 [00:00<?, ?it/s]"
      ]
     },
     "metadata": {},
     "output_type": "display_data"
    },
    {
     "name": "stdout",
     "output_type": "stream",
     "text": [
      "[('owgaze1_t0', 'owgaze1_t1')]\n"
     ]
    },
    {
     "data": {
      "application/vnd.jupyter.widget-view+json": {
       "model_id": "00be64474f68496e9226adc9c80fab38",
       "version_major": 2,
       "version_minor": 0
      },
      "text/plain": [
       "  0%|          | 0/1000000 [00:00<?, ?it/s]"
      ]
     },
     "metadata": {},
     "output_type": "display_data"
    },
    {
     "name": "stdout",
     "output_type": "stream",
     "text": [
      "[('pull1_t0', 'pull1_t1'), ('pull1_t0', 'pull2_t1'), ('owgaze1_t0', 'owgaze1_t1')]\n"
     ]
    },
    {
     "data": {
      "application/vnd.jupyter.widget-view+json": {
       "model_id": "d3c9f23e0d144b1db28bd44b2f669ffe",
       "version_major": 2,
       "version_minor": 0
      },
      "text/plain": [
       "  0%|          | 0/1000000 [00:00<?, ?it/s]"
      ]
     },
     "metadata": {},
     "output_type": "display_data"
    },
    {
     "name": "stdout",
     "output_type": "stream",
     "text": [
      "[('owgaze1_t0', 'owgaze1_t1')]\n"
     ]
    },
    {
     "data": {
      "application/vnd.jupyter.widget-view+json": {
       "model_id": "b7be2c6f66e3401fa11d39091ebd9278",
       "version_major": 2,
       "version_minor": 0
      },
      "text/plain": [
       "  0%|          | 0/1000000 [00:00<?, ?it/s]"
      ]
     },
     "metadata": {},
     "output_type": "display_data"
    },
    {
     "name": "stdout",
     "output_type": "stream",
     "text": [
      "[('owgaze1_t0', 'owgaze1_t1')]\n"
     ]
    },
    {
     "data": {
      "application/vnd.jupyter.widget-view+json": {
       "model_id": "561a97416ecc48f682e7261b71aa614c",
       "version_major": 2,
       "version_minor": 0
      },
      "text/plain": [
       "  0%|          | 0/1000000 [00:00<?, ?it/s]"
      ]
     },
     "metadata": {},
     "output_type": "display_data"
    },
    {
     "name": "stdout",
     "output_type": "stream",
     "text": [
      "[('pull1_t0', 'pull2_t1'), ('pull1_t0', 'pull1_t1'), ('owgaze1_t0', 'owgaze1_t1')]\n"
     ]
    },
    {
     "data": {
      "application/vnd.jupyter.widget-view+json": {
       "model_id": "799999ffeff64724800640beb72fcfaf",
       "version_major": 2,
       "version_minor": 0
      },
      "text/plain": [
       "  0%|          | 0/1000000 [00:00<?, ?it/s]"
      ]
     },
     "metadata": {},
     "output_type": "display_data"
    },
    {
     "name": "stdout",
     "output_type": "stream",
     "text": [
      "[('pull1_t0', 'pull2_t1'), ('owgaze1_t0', 'owgaze1_t1')]\n"
     ]
    },
    {
     "data": {
      "application/vnd.jupyter.widget-view+json": {
       "model_id": "7ec0fcee5fe84d9486742a1da2ff2d7d",
       "version_major": 2,
       "version_minor": 0
      },
      "text/plain": [
       "  0%|          | 0/1000000 [00:00<?, ?it/s]"
      ]
     },
     "metadata": {},
     "output_type": "display_data"
    },
    {
     "name": "stdout",
     "output_type": "stream",
     "text": [
      "[('pull1_t0', 'pull2_t1'), ('owgaze1_t0', 'owgaze1_t1'), ('owgaze1_t0', 'pull1_t1')]\n"
     ]
    },
    {
     "data": {
      "application/vnd.jupyter.widget-view+json": {
       "model_id": "b2130f669195406892952764fe4c9a5d",
       "version_major": 2,
       "version_minor": 0
      },
      "text/plain": [
       "  0%|          | 0/1000000 [00:00<?, ?it/s]"
      ]
     },
     "metadata": {},
     "output_type": "display_data"
    },
    {
     "name": "stdout",
     "output_type": "stream",
     "text": [
      "[('pull1_t0', 'pull2_t1'), ('owgaze1_t0', 'owgaze1_t1')]\n"
     ]
    },
    {
     "data": {
      "application/vnd.jupyter.widget-view+json": {
       "model_id": "4c21baf0bb0745249aff12ebf7b24c1d",
       "version_major": 2,
       "version_minor": 0
      },
      "text/plain": [
       "  0%|          | 0/1000000 [00:00<?, ?it/s]"
      ]
     },
     "metadata": {},
     "output_type": "display_data"
    },
    {
     "name": "stdout",
     "output_type": "stream",
     "text": [
      "[('pull1_t0', 'pull2_t1'), ('owgaze1_t0', 'owgaze1_t1')]\n"
     ]
    },
    {
     "data": {
      "application/vnd.jupyter.widget-view+json": {
       "model_id": "81dd0d492726450195f54bceaf6509fb",
       "version_major": 2,
       "version_minor": 0
      },
      "text/plain": [
       "  0%|          | 0/1000000 [00:00<?, ?it/s]"
      ]
     },
     "metadata": {},
     "output_type": "display_data"
    },
    {
     "name": "stdout",
     "output_type": "stream",
     "text": [
      "[('pull1_t0', 'pull2_t1'), ('owgaze1_t0', 'owgaze1_t1')]\n"
     ]
    },
    {
     "data": {
      "application/vnd.jupyter.widget-view+json": {
       "model_id": "7424cf8ef6f941f0908856397ee86fe9",
       "version_major": 2,
       "version_minor": 0
      },
      "text/plain": [
       "  0%|          | 0/1000000 [00:00<?, ?it/s]"
      ]
     },
     "metadata": {},
     "output_type": "display_data"
    },
    {
     "name": "stdout",
     "output_type": "stream",
     "text": [
      "[('pull2_t0', 'pull2_t1'), ('owgaze1_t0', 'owgaze1_t1')]\n"
     ]
    },
    {
     "data": {
      "application/vnd.jupyter.widget-view+json": {
       "model_id": "0cf0722b7f274767b19d2ed9102d0670",
       "version_major": 2,
       "version_minor": 0
      },
      "text/plain": [
       "  0%|          | 0/1000000 [00:00<?, ?it/s]"
      ]
     },
     "metadata": {},
     "output_type": "display_data"
    },
    {
     "name": "stdout",
     "output_type": "stream",
     "text": [
      "[('pull2_t0', 'pull2_t1'), ('owgaze1_t0', 'owgaze1_t1'), ('owgaze2_t0', 'pull1_t1')]\n"
     ]
    },
    {
     "data": {
      "application/vnd.jupyter.widget-view+json": {
       "model_id": "c870204557f5496c9d508053684d90e7",
       "version_major": 2,
       "version_minor": 0
      },
      "text/plain": [
       "  0%|          | 0/1000000 [00:00<?, ?it/s]"
      ]
     },
     "metadata": {},
     "output_type": "display_data"
    },
    {
     "name": "stdout",
     "output_type": "stream",
     "text": [
      "[('pull2_t0', 'pull2_t1')]\n"
     ]
    },
    {
     "data": {
      "application/vnd.jupyter.widget-view+json": {
       "model_id": "1d5b386dfe1d46c8bf3b51492c68b692",
       "version_major": 2,
       "version_minor": 0
      },
      "text/plain": [
       "  0%|          | 0/1000000 [00:00<?, ?it/s]"
      ]
     },
     "metadata": {},
     "output_type": "display_data"
    },
    {
     "name": "stdout",
     "output_type": "stream",
     "text": [
      "[('pull1_t0', 'pull1_t1'), ('pull1_t0', 'pull2_t1'), ('pull2_t0', 'pull2_t1')]\n"
     ]
    },
    {
     "data": {
      "application/vnd.jupyter.widget-view+json": {
       "model_id": "1f14b4ffeca84a9f93c061fb462a1ad0",
       "version_major": 2,
       "version_minor": 0
      },
      "text/plain": [
       "  0%|          | 0/1000000 [00:00<?, ?it/s]"
      ]
     },
     "metadata": {},
     "output_type": "display_data"
    },
    {
     "name": "stdout",
     "output_type": "stream",
     "text": [
      "[('pull1_t0', 'pull1_t1'), ('pull2_t0', 'pull2_t1')]\n"
     ]
    },
    {
     "data": {
      "application/vnd.jupyter.widget-view+json": {
       "model_id": "bae93d99ecc24630b38e5902540f1773",
       "version_major": 2,
       "version_minor": 0
      },
      "text/plain": [
       "  0%|          | 0/1000000 [00:00<?, ?it/s]"
      ]
     },
     "metadata": {},
     "output_type": "display_data"
    },
    {
     "name": "stdout",
     "output_type": "stream",
     "text": [
      "[('pull1_t0', 'pull1_t1'), ('pull2_t0', 'pull2_t1')]\n"
     ]
    },
    {
     "data": {
      "application/vnd.jupyter.widget-view+json": {
       "model_id": "427d93f043534c6fb4e8cc11b69b144a",
       "version_major": 2,
       "version_minor": 0
      },
      "text/plain": [
       "  0%|          | 0/1000000 [00:00<?, ?it/s]"
      ]
     },
     "metadata": {},
     "output_type": "display_data"
    },
    {
     "name": "stdout",
     "output_type": "stream",
     "text": [
      "[('pull1_t0', 'pull1_t1'), ('pull2_t0', 'pull2_t1')]\n"
     ]
    },
    {
     "data": {
      "application/vnd.jupyter.widget-view+json": {
       "model_id": "48f67da366b845b99c1ec1649f2fcaaa",
       "version_major": 2,
       "version_minor": 0
      },
      "text/plain": [
       "  0%|          | 0/1000000 [00:00<?, ?it/s]"
      ]
     },
     "metadata": {},
     "output_type": "display_data"
    },
    {
     "name": "stdout",
     "output_type": "stream",
     "text": [
      "[('pull1_t0', 'pull1_t1'), ('pull2_t0', 'pull2_t1')]\n"
     ]
    },
    {
     "data": {
      "application/vnd.jupyter.widget-view+json": {
       "model_id": "59d2cd3f4a9d48898f472c7f0a97f3e1",
       "version_major": 2,
       "version_minor": 0
      },
      "text/plain": [
       "  0%|          | 0/1000000 [00:00<?, ?it/s]"
      ]
     },
     "metadata": {},
     "output_type": "display_data"
    },
    {
     "name": "stdout",
     "output_type": "stream",
     "text": [
      "[('pull1_t0', 'pull1_t1'), ('pull2_t0', 'pull2_t1')]\n"
     ]
    },
    {
     "data": {
      "application/vnd.jupyter.widget-view+json": {
       "model_id": "c0b7cdf84cbe43dda8bb08e4aed3fa79",
       "version_major": 2,
       "version_minor": 0
      },
      "text/plain": [
       "  0%|          | 0/1000000 [00:00<?, ?it/s]"
      ]
     },
     "metadata": {},
     "output_type": "display_data"
    },
    {
     "name": "stdout",
     "output_type": "stream",
     "text": [
      "[('pull1_t0', 'pull1_t1'), ('pull2_t0', 'pull2_t1')]\n"
     ]
    },
    {
     "data": {
      "application/vnd.jupyter.widget-view+json": {
       "model_id": "02835d173ac347158d7ba79d6cf77aee",
       "version_major": 2,
       "version_minor": 0
      },
      "text/plain": [
       "  0%|          | 0/1000000 [00:00<?, ?it/s]"
      ]
     },
     "metadata": {},
     "output_type": "display_data"
    },
    {
     "name": "stdout",
     "output_type": "stream",
     "text": [
      "[('pull1_t0', 'pull1_t1')]\n"
     ]
    },
    {
     "data": {
      "application/vnd.jupyter.widget-view+json": {
       "model_id": "4d1e9ca9b2df4ea882936fe61278a896",
       "version_major": 2,
       "version_minor": 0
      },
      "text/plain": [
       "  0%|          | 0/1000000 [00:00<?, ?it/s]"
      ]
     },
     "metadata": {},
     "output_type": "display_data"
    },
    {
     "name": "stdout",
     "output_type": "stream",
     "text": [
      "[('pull1_t0', 'pull1_t1'), ('owgaze1_t0', 'pull2_t1')]\n"
     ]
    },
    {
     "data": {
      "application/vnd.jupyter.widget-view+json": {
       "model_id": "a9f87ae029d34ad5b19e750cbfcf168b",
       "version_major": 2,
       "version_minor": 0
      },
      "text/plain": [
       "  0%|          | 0/1000000 [00:00<?, ?it/s]"
      ]
     },
     "metadata": {},
     "output_type": "display_data"
    },
    {
     "name": "stdout",
     "output_type": "stream",
     "text": [
      "[('pull1_t0', 'pull1_t1'), ('pull1_t0', 'pull2_t1')]\n"
     ]
    },
    {
     "data": {
      "application/vnd.jupyter.widget-view+json": {
       "model_id": "23f02bbb1dc64fc4957b5fdcbe364d12",
       "version_major": 2,
       "version_minor": 0
      },
      "text/plain": [
       "  0%|          | 0/1000000 [00:00<?, ?it/s]"
      ]
     },
     "metadata": {},
     "output_type": "display_data"
    },
    {
     "name": "stdout",
     "output_type": "stream",
     "text": [
      "[('pull1_t0', 'pull1_t1')]\n"
     ]
    },
    {
     "data": {
      "application/vnd.jupyter.widget-view+json": {
       "model_id": "79cf88ab05594181a72c5b2d6c7c7efc",
       "version_major": 2,
       "version_minor": 0
      },
      "text/plain": [
       "  0%|          | 0/1000000 [00:00<?, ?it/s]"
      ]
     },
     "metadata": {},
     "output_type": "display_data"
    },
    {
     "name": "stdout",
     "output_type": "stream",
     "text": [
      "[('pull1_t0', 'pull1_t1')]\n"
     ]
    },
    {
     "data": {
      "application/vnd.jupyter.widget-view+json": {
       "model_id": "351fcedd80094793a8c86209c4e86a18",
       "version_major": 2,
       "version_minor": 0
      },
      "text/plain": [
       "  0%|          | 0/1000000 [00:00<?, ?it/s]"
      ]
     },
     "metadata": {},
     "output_type": "display_data"
    },
    {
     "name": "stdout",
     "output_type": "stream",
     "text": [
      "[('pull1_t0', 'pull1_t1')]\n"
     ]
    },
    {
     "data": {
      "application/vnd.jupyter.widget-view+json": {
       "model_id": "1889d701bf714e33858b4d73f8482f34",
       "version_major": 2,
       "version_minor": 0
      },
      "text/plain": [
       "  0%|          | 0/1000000 [00:00<?, ?it/s]"
      ]
     },
     "metadata": {},
     "output_type": "display_data"
    },
    {
     "name": "stdout",
     "output_type": "stream",
     "text": [
      "[]\n"
     ]
    },
    {
     "data": {
      "application/vnd.jupyter.widget-view+json": {
       "model_id": "aba64c2e4e01406d8c936d07216de0fd",
       "version_major": 2,
       "version_minor": 0
      },
      "text/plain": [
       "  0%|          | 0/1000000 [00:00<?, ?it/s]"
      ]
     },
     "metadata": {},
     "output_type": "display_data"
    },
    {
     "name": "stdout",
     "output_type": "stream",
     "text": [
      "[('pull1_t0', 'pull1_t1')]\n"
     ]
    },
    {
     "data": {
      "application/vnd.jupyter.widget-view+json": {
       "model_id": "96461b4733164407a9199e8b4430e9e7",
       "version_major": 2,
       "version_minor": 0
      },
      "text/plain": [
       "  0%|          | 0/1000000 [00:00<?, ?it/s]"
      ]
     },
     "metadata": {},
     "output_type": "display_data"
    },
    {
     "name": "stdout",
     "output_type": "stream",
     "text": [
      "[]\n"
     ]
    },
    {
     "data": {
      "application/vnd.jupyter.widget-view+json": {
       "model_id": "7117ef7b6eed4963a85349b01342617e",
       "version_major": 2,
       "version_minor": 0
      },
      "text/plain": [
       "  0%|          | 0/1000000 [00:00<?, ?it/s]"
      ]
     },
     "metadata": {},
     "output_type": "display_data"
    },
    {
     "name": "stdout",
     "output_type": "stream",
     "text": [
      "[]\n"
     ]
    },
    {
     "data": {
      "application/vnd.jupyter.widget-view+json": {
       "model_id": "f6dae0e1646f4bf0bf1e7068bf3c2046",
       "version_major": 2,
       "version_minor": 0
      },
      "text/plain": [
       "  0%|          | 0/1000000 [00:00<?, ?it/s]"
      ]
     },
     "metadata": {},
     "output_type": "display_data"
    },
    {
     "name": "stdout",
     "output_type": "stream",
     "text": [
      "[('pull2_t0', 'pull1_t1')]\n"
     ]
    },
    {
     "data": {
      "application/vnd.jupyter.widget-view+json": {
       "model_id": "35fedde380d74bea86ca0a601eb2a57a",
       "version_major": 2,
       "version_minor": 0
      },
      "text/plain": [
       "  0%|          | 0/1000000 [00:00<?, ?it/s]"
      ]
     },
     "metadata": {},
     "output_type": "display_data"
    },
    {
     "name": "stdout",
     "output_type": "stream",
     "text": [
      "[]\n"
     ]
    },
    {
     "data": {
      "application/vnd.jupyter.widget-view+json": {
       "model_id": "84c0db8e41854528a6e27d58e6d04994",
       "version_major": 2,
       "version_minor": 0
      },
      "text/plain": [
       "  0%|          | 0/1000000 [00:00<?, ?it/s]"
      ]
     },
     "metadata": {},
     "output_type": "display_data"
    },
    {
     "name": "stdout",
     "output_type": "stream",
     "text": [
      "[]\n"
     ]
    },
    {
     "data": {
      "application/vnd.jupyter.widget-view+json": {
       "model_id": "fd9dbf6a5a074333b42e4fb40c71b946",
       "version_major": 2,
       "version_minor": 0
      },
      "text/plain": [
       "  0%|          | 0/1000000 [00:00<?, ?it/s]"
      ]
     },
     "metadata": {},
     "output_type": "display_data"
    },
    {
     "name": "stdout",
     "output_type": "stream",
     "text": [
      "[]\n"
     ]
    },
    {
     "data": {
      "application/vnd.jupyter.widget-view+json": {
       "model_id": "73a60a03c83f404ba7095037c7750141",
       "version_major": 2,
       "version_minor": 0
      },
      "text/plain": [
       "  0%|          | 0/1000000 [00:00<?, ?it/s]"
      ]
     },
     "metadata": {},
     "output_type": "display_data"
    },
    {
     "name": "stdout",
     "output_type": "stream",
     "text": [
      "[]\n"
     ]
    },
    {
     "data": {
      "application/vnd.jupyter.widget-view+json": {
       "model_id": "7cae68c1d8e5402dac001ac495e671c2",
       "version_major": 2,
       "version_minor": 0
      },
      "text/plain": [
       "  0%|          | 0/1000000 [00:00<?, ?it/s]"
      ]
     },
     "metadata": {},
     "output_type": "display_data"
    },
    {
     "name": "stdout",
     "output_type": "stream",
     "text": [
      "[]\n"
     ]
    },
    {
     "data": {
      "application/vnd.jupyter.widget-view+json": {
       "model_id": "8bf1a9f1a5dd4a78bcf2059d60e313de",
       "version_major": 2,
       "version_minor": 0
      },
      "text/plain": [
       "  0%|          | 0/1000000 [00:00<?, ?it/s]"
      ]
     },
     "metadata": {},
     "output_type": "display_data"
    },
    {
     "name": "stdout",
     "output_type": "stream",
     "text": [
      "[('owgaze2_t0', 'pull1_t1')]\n"
     ]
    },
    {
     "data": {
      "application/vnd.jupyter.widget-view+json": {
       "model_id": "dee0c0eaf2c04ba391fb04f19e5867c1",
       "version_major": 2,
       "version_minor": 0
      },
      "text/plain": [
       "  0%|          | 0/1000000 [00:00<?, ?it/s]"
      ]
     },
     "metadata": {},
     "output_type": "display_data"
    },
    {
     "name": "stdout",
     "output_type": "stream",
     "text": [
      "[]\n"
     ]
    },
    {
     "data": {
      "application/vnd.jupyter.widget-view+json": {
       "model_id": "0065d347fdbb4b78a35271461eb76d15",
       "version_major": 2,
       "version_minor": 0
      },
      "text/plain": [
       "  0%|          | 0/1000000 [00:00<?, ?it/s]"
      ]
     },
     "metadata": {},
     "output_type": "display_data"
    },
    {
     "name": "stdout",
     "output_type": "stream",
     "text": [
      "[]\n"
     ]
    },
    {
     "data": {
      "application/vnd.jupyter.widget-view+json": {
       "model_id": "ff8aab1f1cb84c608e7efb85f76976ae",
       "version_major": 2,
       "version_minor": 0
      },
      "text/plain": [
       "  0%|          | 0/1000000 [00:00<?, ?it/s]"
      ]
     },
     "metadata": {},
     "output_type": "display_data"
    },
    {
     "name": "stdout",
     "output_type": "stream",
     "text": [
      "[]\n"
     ]
    },
    {
     "data": {
      "application/vnd.jupyter.widget-view+json": {
       "model_id": "18f51ca87f114676b7891664945c8968",
       "version_major": 2,
       "version_minor": 0
      },
      "text/plain": [
       "  0%|          | 0/1000000 [00:00<?, ?it/s]"
      ]
     },
     "metadata": {},
     "output_type": "display_data"
    },
    {
     "name": "stdout",
     "output_type": "stream",
     "text": [
      "[]\n"
     ]
    },
    {
     "data": {
      "application/vnd.jupyter.widget-view+json": {
       "model_id": "a16a1f407b4d46479a4b7d6d0224dab8",
       "version_major": 2,
       "version_minor": 0
      },
      "text/plain": [
       "  0%|          | 0/1000000 [00:00<?, ?it/s]"
      ]
     },
     "metadata": {},
     "output_type": "display_data"
    },
    {
     "name": "stdout",
     "output_type": "stream",
     "text": [
      "[]\n"
     ]
    },
    {
     "data": {
      "application/vnd.jupyter.widget-view+json": {
       "model_id": "919c471f0edd4e578cc82f131ca1d093",
       "version_major": 2,
       "version_minor": 0
      },
      "text/plain": [
       "  0%|          | 0/1000000 [00:00<?, ?it/s]"
      ]
     },
     "metadata": {},
     "output_type": "display_data"
    },
    {
     "name": "stdout",
     "output_type": "stream",
     "text": [
      "[]\n"
     ]
    },
    {
     "data": {
      "application/vnd.jupyter.widget-view+json": {
       "model_id": "b068964ad59a4235bc01304dbadfee63",
       "version_major": 2,
       "version_minor": 0
      },
      "text/plain": [
       "  0%|          | 0/1000000 [00:00<?, ?it/s]"
      ]
     },
     "metadata": {},
     "output_type": "display_data"
    },
    {
     "name": "stdout",
     "output_type": "stream",
     "text": [
      "[]\n"
     ]
    },
    {
     "data": {
      "application/vnd.jupyter.widget-view+json": {
       "model_id": "2482ac18d6b849c883eb8eb6c020a1d0",
       "version_major": 2,
       "version_minor": 0
      },
      "text/plain": [
       "  0%|          | 0/1000000 [00:00<?, ?it/s]"
      ]
     },
     "metadata": {},
     "output_type": "display_data"
    },
    {
     "name": "stdout",
     "output_type": "stream",
     "text": [
      "[]\n"
     ]
    },
    {
     "data": {
      "application/vnd.jupyter.widget-view+json": {
       "model_id": "14ee0e2d5fd846c9b500f69c49512c34",
       "version_major": 2,
       "version_minor": 0
      },
      "text/plain": [
       "  0%|          | 0/1000000 [00:00<?, ?it/s]"
      ]
     },
     "metadata": {},
     "output_type": "display_data"
    },
    {
     "name": "stdout",
     "output_type": "stream",
     "text": [
      "[('pull1_t0', 'owgaze2_t1')]\n"
     ]
    },
    {
     "data": {
      "application/vnd.jupyter.widget-view+json": {
       "model_id": "0082b88fc8354f82a1bf151d33729247",
       "version_major": 2,
       "version_minor": 0
      },
      "text/plain": [
       "  0%|          | 0/1000000 [00:00<?, ?it/s]"
      ]
     },
     "metadata": {},
     "output_type": "display_data"
    },
    {
     "name": "stdout",
     "output_type": "stream",
     "text": [
      "[]\n"
     ]
    },
    {
     "data": {
      "application/vnd.jupyter.widget-view+json": {
       "model_id": "4f47e70521214ec3978838c956475128",
       "version_major": 2,
       "version_minor": 0
      },
      "text/plain": [
       "  0%|          | 0/1000000 [00:00<?, ?it/s]"
      ]
     },
     "metadata": {},
     "output_type": "display_data"
    },
    {
     "name": "stdout",
     "output_type": "stream",
     "text": [
      "[('owgaze2_t0', 'pull1_t1')]\n"
     ]
    },
    {
     "data": {
      "application/vnd.jupyter.widget-view+json": {
       "model_id": "63316947e29147bab0423bd36052564d",
       "version_major": 2,
       "version_minor": 0
      },
      "text/plain": [
       "  0%|          | 0/1000000 [00:00<?, ?it/s]"
      ]
     },
     "metadata": {},
     "output_type": "display_data"
    },
    {
     "name": "stdout",
     "output_type": "stream",
     "text": [
      "[]\n"
     ]
    },
    {
     "data": {
      "application/vnd.jupyter.widget-view+json": {
       "model_id": "d5b891fd6ee14a9ea951d8f5f0b5f2be",
       "version_major": 2,
       "version_minor": 0
      },
      "text/plain": [
       "  0%|          | 0/1000000 [00:00<?, ?it/s]"
      ]
     },
     "metadata": {},
     "output_type": "display_data"
    },
    {
     "name": "stdout",
     "output_type": "stream",
     "text": [
      "[]\n"
     ]
    },
    {
     "data": {
      "application/vnd.jupyter.widget-view+json": {
       "model_id": "2913538c342144448cdd4661c629049e",
       "version_major": 2,
       "version_minor": 0
      },
      "text/plain": [
       "  0%|          | 0/1000000 [00:00<?, ?it/s]"
      ]
     },
     "metadata": {},
     "output_type": "display_data"
    },
    {
     "name": "stdout",
     "output_type": "stream",
     "text": [
      "[('pull1_t0', 'pull1_t1')]\n"
     ]
    },
    {
     "data": {
      "application/vnd.jupyter.widget-view+json": {
       "model_id": "17e0c4852a88404ba1db07d0f7989eab",
       "version_major": 2,
       "version_minor": 0
      },
      "text/plain": [
       "  0%|          | 0/1000000 [00:00<?, ?it/s]"
      ]
     },
     "metadata": {},
     "output_type": "display_data"
    },
    {
     "name": "stdout",
     "output_type": "stream",
     "text": [
      "[]\n"
     ]
    },
    {
     "data": {
      "application/vnd.jupyter.widget-view+json": {
       "model_id": "0acbd2455c78442283701df4d6018ca5",
       "version_major": 2,
       "version_minor": 0
      },
      "text/plain": [
       "  0%|          | 0/1000000 [00:00<?, ?it/s]"
      ]
     },
     "metadata": {},
     "output_type": "display_data"
    },
    {
     "name": "stdout",
     "output_type": "stream",
     "text": [
      "[]\n"
     ]
    },
    {
     "data": {
      "application/vnd.jupyter.widget-view+json": {
       "model_id": "65a02c8cf3024a5487d0468460a9ae0d",
       "version_major": 2,
       "version_minor": 0
      },
      "text/plain": [
       "  0%|          | 0/1000000 [00:00<?, ?it/s]"
      ]
     },
     "metadata": {},
     "output_type": "display_data"
    },
    {
     "name": "stdout",
     "output_type": "stream",
     "text": [
      "[]\n"
     ]
    },
    {
     "data": {
      "application/vnd.jupyter.widget-view+json": {
       "model_id": "da78eb5d885846868f1b70fee125905c",
       "version_major": 2,
       "version_minor": 0
      },
      "text/plain": [
       "  0%|          | 0/1000000 [00:00<?, ?it/s]"
      ]
     },
     "metadata": {},
     "output_type": "display_data"
    },
    {
     "name": "stdout",
     "output_type": "stream",
     "text": [
      "[]\n"
     ]
    },
    {
     "data": {
      "application/vnd.jupyter.widget-view+json": {
       "model_id": "2eed9ab13a78486eb10d473a92a49890",
       "version_major": 2,
       "version_minor": 0
      },
      "text/plain": [
       "  0%|          | 0/1000000 [00:00<?, ?it/s]"
      ]
     },
     "metadata": {},
     "output_type": "display_data"
    },
    {
     "name": "stdout",
     "output_type": "stream",
     "text": [
      "[('pull2_t0', 'pull1_t1')]\n"
     ]
    },
    {
     "data": {
      "application/vnd.jupyter.widget-view+json": {
       "model_id": "435fe5fb1c454e6081c065686dfcd90e",
       "version_major": 2,
       "version_minor": 0
      },
      "text/plain": [
       "  0%|          | 0/1000000 [00:00<?, ?it/s]"
      ]
     },
     "metadata": {},
     "output_type": "display_data"
    },
    {
     "name": "stdout",
     "output_type": "stream",
     "text": [
      "[]\n"
     ]
    },
    {
     "data": {
      "application/vnd.jupyter.widget-view+json": {
       "model_id": "66591f4f160641ad815efbf73b5bc7f2",
       "version_major": 2,
       "version_minor": 0
      },
      "text/plain": [
       "  0%|          | 0/1000000 [00:00<?, ?it/s]"
      ]
     },
     "metadata": {},
     "output_type": "display_data"
    },
    {
     "name": "stdout",
     "output_type": "stream",
     "text": [
      "[]\n"
     ]
    },
    {
     "data": {
      "application/vnd.jupyter.widget-view+json": {
       "model_id": "485a579e23f3410abe14f498c7e10ab9",
       "version_major": 2,
       "version_minor": 0
      },
      "text/plain": [
       "  0%|          | 0/1000000 [00:00<?, ?it/s]"
      ]
     },
     "metadata": {},
     "output_type": "display_data"
    },
    {
     "name": "stdout",
     "output_type": "stream",
     "text": [
      "[]\n"
     ]
    },
    {
     "data": {
      "application/vnd.jupyter.widget-view+json": {
       "model_id": "701445cb49a744b3beced8dd4b36dad9",
       "version_major": 2,
       "version_minor": 0
      },
      "text/plain": [
       "  0%|          | 0/1000000 [00:00<?, ?it/s]"
      ]
     },
     "metadata": {},
     "output_type": "display_data"
    },
    {
     "name": "stdout",
     "output_type": "stream",
     "text": [
      "[('pull1_t0', 'owgaze1_t1')]\n"
     ]
    },
    {
     "data": {
      "application/vnd.jupyter.widget-view+json": {
       "model_id": "a1fd579cc25b4fb3b91a2626faa042d2",
       "version_major": 2,
       "version_minor": 0
      },
      "text/plain": [
       "  0%|          | 0/1000000 [00:00<?, ?it/s]"
      ]
     },
     "metadata": {},
     "output_type": "display_data"
    },
    {
     "name": "stdout",
     "output_type": "stream",
     "text": [
      "[('pull1_t0', 'owgaze1_t1'), ('owgaze1_t0', 'pull1_t1'), ('owgaze2_t0', 'pull1_t1')]\n"
     ]
    },
    {
     "data": {
      "application/vnd.jupyter.widget-view+json": {
       "model_id": "c6b80830a8934af1b24756378ee4f433",
       "version_major": 2,
       "version_minor": 0
      },
      "text/plain": [
       "  0%|          | 0/1000000 [00:00<?, ?it/s]"
      ]
     },
     "metadata": {},
     "output_type": "display_data"
    },
    {
     "name": "stdout",
     "output_type": "stream",
     "text": [
      "[('pull1_t0', 'owgaze2_t1')]\n"
     ]
    },
    {
     "data": {
      "application/vnd.jupyter.widget-view+json": {
       "model_id": "85676a1efb8a464c9c69f5183a074146",
       "version_major": 2,
       "version_minor": 0
      },
      "text/plain": [
       "  0%|          | 0/1000000 [00:00<?, ?it/s]"
      ]
     },
     "metadata": {},
     "output_type": "display_data"
    },
    {
     "name": "stdout",
     "output_type": "stream",
     "text": [
      "[('pull2_t0', 'pull1_t1'), ('owgaze1_t0', 'owgaze2_t1')]\n"
     ]
    },
    {
     "data": {
      "application/vnd.jupyter.widget-view+json": {
       "model_id": "7ab4b2568a4f4d56be799cf97c67206a",
       "version_major": 2,
       "version_minor": 0
      },
      "text/plain": [
       "  0%|          | 0/1000000 [00:00<?, ?it/s]"
      ]
     },
     "metadata": {},
     "output_type": "display_data"
    },
    {
     "name": "stdout",
     "output_type": "stream",
     "text": [
      "[('pull2_t0', 'pull2_t1'), ('pull2_t0', 'owgaze2_t1'), ('owgaze1_t0', 'owgaze1_t1')]\n"
     ]
    },
    {
     "data": {
      "application/vnd.jupyter.widget-view+json": {
       "model_id": "28e6b04af117486381b1c80cf8bc756d",
       "version_major": 2,
       "version_minor": 0
      },
      "text/plain": [
       "  0%|          | 0/1000000 [00:00<?, ?it/s]"
      ]
     },
     "metadata": {},
     "output_type": "display_data"
    },
    {
     "name": "stdout",
     "output_type": "stream",
     "text": [
      "[('pull2_t0', 'pull2_t1'), ('pull2_t0', 'owgaze2_t1')]\n"
     ]
    },
    {
     "data": {
      "application/vnd.jupyter.widget-view+json": {
       "model_id": "0e8d3a16ba3c4454a2a24498292ba23c",
       "version_major": 2,
       "version_minor": 0
      },
      "text/plain": [
       "  0%|          | 0/1000000 [00:00<?, ?it/s]"
      ]
     },
     "metadata": {},
     "output_type": "display_data"
    },
    {
     "name": "stdout",
     "output_type": "stream",
     "text": [
      "[('pull2_t0', 'pull2_t1'), ('owgaze1_t0', 'owgaze1_t1')]\n"
     ]
    },
    {
     "data": {
      "application/vnd.jupyter.widget-view+json": {
       "model_id": "62fd0fb396124898b6c356db5d3b14a5",
       "version_major": 2,
       "version_minor": 0
      },
      "text/plain": [
       "  0%|          | 0/1000000 [00:00<?, ?it/s]"
      ]
     },
     "metadata": {},
     "output_type": "display_data"
    },
    {
     "name": "stdout",
     "output_type": "stream",
     "text": [
      "[('pull2_t0', 'pull2_t1'), ('owgaze1_t0', 'owgaze1_t1')]\n"
     ]
    },
    {
     "data": {
      "application/vnd.jupyter.widget-view+json": {
       "model_id": "532a407991a04450a03ad9d4d1a2894e",
       "version_major": 2,
       "version_minor": 0
      },
      "text/plain": [
       "  0%|          | 0/1000000 [00:00<?, ?it/s]"
      ]
     },
     "metadata": {},
     "output_type": "display_data"
    },
    {
     "name": "stdout",
     "output_type": "stream",
     "text": [
      "[('pull2_t0', 'pull2_t1')]\n"
     ]
    },
    {
     "data": {
      "application/vnd.jupyter.widget-view+json": {
       "model_id": "22509de8e8ac47f992d2cf00743084b2",
       "version_major": 2,
       "version_minor": 0
      },
      "text/plain": [
       "  0%|          | 0/1000000 [00:00<?, ?it/s]"
      ]
     },
     "metadata": {},
     "output_type": "display_data"
    },
    {
     "name": "stdout",
     "output_type": "stream",
     "text": [
      "[('pull2_t0', 'pull2_t1'), ('owgaze1_t0', 'owgaze1_t1')]\n"
     ]
    },
    {
     "data": {
      "application/vnd.jupyter.widget-view+json": {
       "model_id": "3f3162888fca492a8dd89f79fe07f935",
       "version_major": 2,
       "version_minor": 0
      },
      "text/plain": [
       "  0%|          | 0/1000000 [00:00<?, ?it/s]"
      ]
     },
     "metadata": {},
     "output_type": "display_data"
    },
    {
     "name": "stdout",
     "output_type": "stream",
     "text": [
      "[('pull2_t0', 'pull1_t1')]\n"
     ]
    },
    {
     "data": {
      "application/vnd.jupyter.widget-view+json": {
       "model_id": "325acf1a0a1649488eec8712f75f01ca",
       "version_major": 2,
       "version_minor": 0
      },
      "text/plain": [
       "  0%|          | 0/1000000 [00:00<?, ?it/s]"
      ]
     },
     "metadata": {},
     "output_type": "display_data"
    },
    {
     "name": "stdout",
     "output_type": "stream",
     "text": [
      "[('pull2_t0', 'pull1_t1'), ('owgaze2_t0', 'pull2_t1')]\n"
     ]
    },
    {
     "data": {
      "application/vnd.jupyter.widget-view+json": {
       "model_id": "25a5c62522c54f5ba3068cb33971664e",
       "version_major": 2,
       "version_minor": 0
      },
      "text/plain": [
       "  0%|          | 0/1000000 [00:00<?, ?it/s]"
      ]
     },
     "metadata": {},
     "output_type": "display_data"
    },
    {
     "name": "stdout",
     "output_type": "stream",
     "text": [
      "[('pull2_t0', 'pull2_t1')]\n"
     ]
    },
    {
     "data": {
      "application/vnd.jupyter.widget-view+json": {
       "model_id": "5e0b2713eabc441abd448da1469f4043",
       "version_major": 2,
       "version_minor": 0
      },
      "text/plain": [
       "  0%|          | 0/1000000 [00:00<?, ?it/s]"
      ]
     },
     "metadata": {},
     "output_type": "display_data"
    },
    {
     "name": "stdout",
     "output_type": "stream",
     "text": [
      "[('pull1_t0', 'pull2_t1'), ('pull1_t0', 'owgaze2_t1'), ('pull2_t0', 'pull2_t1'), ('pull2_t0', 'pull1_t1')]\n"
     ]
    },
    {
     "data": {
      "application/vnd.jupyter.widget-view+json": {
       "model_id": "8e317df45fcf413ca4db1ec27fe3394a",
       "version_major": 2,
       "version_minor": 0
      },
      "text/plain": [
       "  0%|          | 0/1000000 [00:00<?, ?it/s]"
      ]
     },
     "metadata": {},
     "output_type": "display_data"
    },
    {
     "name": "stdout",
     "output_type": "stream",
     "text": [
      "[('pull1_t0', 'owgaze2_t1'), ('pull2_t0', 'pull2_t1'), ('owgaze2_t0', 'pull1_t1')]\n"
     ]
    },
    {
     "data": {
      "application/vnd.jupyter.widget-view+json": {
       "model_id": "c6cd9cba7b2d4092ae8b46d5b194a2c8",
       "version_major": 2,
       "version_minor": 0
      },
      "text/plain": [
       "  0%|          | 0/1000000 [00:00<?, ?it/s]"
      ]
     },
     "metadata": {},
     "output_type": "display_data"
    },
    {
     "name": "stdout",
     "output_type": "stream",
     "text": [
      "[('pull2_t0', 'pull2_t1'), ('pull2_t0', 'pull1_t1')]\n"
     ]
    },
    {
     "data": {
      "application/vnd.jupyter.widget-view+json": {
       "model_id": "79c9aa129e3041ef918faeaf0fb49106",
       "version_major": 2,
       "version_minor": 0
      },
      "text/plain": [
       "  0%|          | 0/1000000 [00:00<?, ?it/s]"
      ]
     },
     "metadata": {},
     "output_type": "display_data"
    },
    {
     "name": "stdout",
     "output_type": "stream",
     "text": [
      "[('pull2_t0', 'pull2_t1'), ('pull2_t0', 'pull1_t1'), ('owgaze1_t0', 'pull2_t1')]\n"
     ]
    },
    {
     "data": {
      "application/vnd.jupyter.widget-view+json": {
       "model_id": "15888ce0a6c345089201f85b5fda0a7a",
       "version_major": 2,
       "version_minor": 0
      },
      "text/plain": [
       "  0%|          | 0/1000000 [00:00<?, ?it/s]"
      ]
     },
     "metadata": {},
     "output_type": "display_data"
    },
    {
     "name": "stdout",
     "output_type": "stream",
     "text": [
      "[('pull2_t0', 'pull2_t1'), ('pull2_t0', 'pull1_t1')]\n"
     ]
    },
    {
     "data": {
      "application/vnd.jupyter.widget-view+json": {
       "model_id": "65329d54a98940338f7aaed94dbddfec",
       "version_major": 2,
       "version_minor": 0
      },
      "text/plain": [
       "  0%|          | 0/1000000 [00:00<?, ?it/s]"
      ]
     },
     "metadata": {},
     "output_type": "display_data"
    },
    {
     "name": "stdout",
     "output_type": "stream",
     "text": [
      "[('pull2_t0', 'pull2_t1'), ('pull2_t0', 'pull1_t1')]\n"
     ]
    },
    {
     "data": {
      "application/vnd.jupyter.widget-view+json": {
       "model_id": "673e1ae6d37b4a41bba28872df82f56e",
       "version_major": 2,
       "version_minor": 0
      },
      "text/plain": [
       "  0%|          | 0/1000000 [00:00<?, ?it/s]"
      ]
     },
     "metadata": {},
     "output_type": "display_data"
    },
    {
     "name": "stdout",
     "output_type": "stream",
     "text": [
      "[('pull1_t0', 'pull1_t1'), ('pull2_t0', 'pull2_t1')]\n"
     ]
    },
    {
     "data": {
      "application/vnd.jupyter.widget-view+json": {
       "model_id": "aa9b136fe05343f191ab86a35b7f2176",
       "version_major": 2,
       "version_minor": 0
      },
      "text/plain": [
       "  0%|          | 0/1000000 [00:00<?, ?it/s]"
      ]
     },
     "metadata": {},
     "output_type": "display_data"
    },
    {
     "name": "stdout",
     "output_type": "stream",
     "text": [
      "[('pull1_t0', 'pull1_t1'), ('pull2_t0', 'pull2_t1'), ('pull2_t0', 'pull1_t1')]\n"
     ]
    },
    {
     "data": {
      "application/vnd.jupyter.widget-view+json": {
       "model_id": "74fd2e37e3f341f2896e309e5d92da0f",
       "version_major": 2,
       "version_minor": 0
      },
      "text/plain": [
       "  0%|          | 0/1000000 [00:00<?, ?it/s]"
      ]
     },
     "metadata": {},
     "output_type": "display_data"
    },
    {
     "name": "stdout",
     "output_type": "stream",
     "text": [
      "[('pull1_t0', 'pull1_t1'), ('pull2_t0', 'pull2_t1')]\n"
     ]
    },
    {
     "data": {
      "application/vnd.jupyter.widget-view+json": {
       "model_id": "a4d6fa48d86a42f391ed8d401f8e6731",
       "version_major": 2,
       "version_minor": 0
      },
      "text/plain": [
       "  0%|          | 0/1000000 [00:00<?, ?it/s]"
      ]
     },
     "metadata": {},
     "output_type": "display_data"
    },
    {
     "name": "stdout",
     "output_type": "stream",
     "text": [
      "[('pull1_t0', 'pull1_t1'), ('pull2_t0', 'pull2_t1')]\n"
     ]
    },
    {
     "data": {
      "application/vnd.jupyter.widget-view+json": {
       "model_id": "1b035427a35c4d08b6c4e2a986c3f0c5",
       "version_major": 2,
       "version_minor": 0
      },
      "text/plain": [
       "  0%|          | 0/1000000 [00:00<?, ?it/s]"
      ]
     },
     "metadata": {},
     "output_type": "display_data"
    },
    {
     "name": "stdout",
     "output_type": "stream",
     "text": [
      "[('pull1_t0', 'pull1_t1'), ('pull2_t0', 'pull2_t1')]\n"
     ]
    },
    {
     "data": {
      "application/vnd.jupyter.widget-view+json": {
       "model_id": "dc78673cc58f436bb98fbb60d76d8849",
       "version_major": 2,
       "version_minor": 0
      },
      "text/plain": [
       "  0%|          | 0/1000000 [00:00<?, ?it/s]"
      ]
     },
     "metadata": {},
     "output_type": "display_data"
    },
    {
     "name": "stdout",
     "output_type": "stream",
     "text": [
      "[('pull1_t0', 'pull1_t1'), ('pull2_t0', 'pull2_t1')]\n"
     ]
    },
    {
     "data": {
      "application/vnd.jupyter.widget-view+json": {
       "model_id": "bc5805ba350c46fb8a9a1ba3e89fdfb0",
       "version_major": 2,
       "version_minor": 0
      },
      "text/plain": [
       "  0%|          | 0/1000000 [00:00<?, ?it/s]"
      ]
     },
     "metadata": {},
     "output_type": "display_data"
    },
    {
     "name": "stdout",
     "output_type": "stream",
     "text": [
      "[('pull1_t0', 'pull1_t1'), ('pull2_t0', 'pull2_t1')]\n"
     ]
    },
    {
     "data": {
      "application/vnd.jupyter.widget-view+json": {
       "model_id": "6241ac2127bc412facddd55ff49ebc00",
       "version_major": 2,
       "version_minor": 0
      },
      "text/plain": [
       "  0%|          | 0/1000000 [00:00<?, ?it/s]"
      ]
     },
     "metadata": {},
     "output_type": "display_data"
    },
    {
     "name": "stdout",
     "output_type": "stream",
     "text": [
      "[('pull1_t0', 'pull1_t1'), ('pull2_t0', 'pull2_t1')]\n"
     ]
    },
    {
     "data": {
      "application/vnd.jupyter.widget-view+json": {
       "model_id": "ab533be79c6a490792cfe31ea2e76daa",
       "version_major": 2,
       "version_minor": 0
      },
      "text/plain": [
       "  0%|          | 0/1000000 [00:00<?, ?it/s]"
      ]
     },
     "metadata": {},
     "output_type": "display_data"
    },
    {
     "name": "stdout",
     "output_type": "stream",
     "text": [
      "[('pull1_t0', 'pull1_t1'), ('pull2_t0', 'pull2_t1')]\n"
     ]
    },
    {
     "data": {
      "application/vnd.jupyter.widget-view+json": {
       "model_id": "7b297c8214714728a7c30b984ba02676",
       "version_major": 2,
       "version_minor": 0
      },
      "text/plain": [
       "  0%|          | 0/1000000 [00:00<?, ?it/s]"
      ]
     },
     "metadata": {},
     "output_type": "display_data"
    },
    {
     "name": "stdout",
     "output_type": "stream",
     "text": [
      "[('pull1_t0', 'pull1_t1'), ('pull2_t0', 'pull2_t1')]\n"
     ]
    },
    {
     "data": {
      "application/vnd.jupyter.widget-view+json": {
       "model_id": "bc418ac48fdb4e26ab090b89db55e351",
       "version_major": 2,
       "version_minor": 0
      },
      "text/plain": [
       "  0%|          | 0/1000000 [00:00<?, ?it/s]"
      ]
     },
     "metadata": {},
     "output_type": "display_data"
    },
    {
     "name": "stdout",
     "output_type": "stream",
     "text": [
      "[('pull1_t0', 'pull1_t1'), ('pull2_t0', 'pull2_t1')]\n"
     ]
    },
    {
     "data": {
      "application/vnd.jupyter.widget-view+json": {
       "model_id": "01a94d6aaee841eca0b7f51d728bbe1f",
       "version_major": 2,
       "version_minor": 0
      },
      "text/plain": [
       "  0%|          | 0/1000000 [00:00<?, ?it/s]"
      ]
     },
     "metadata": {},
     "output_type": "display_data"
    },
    {
     "name": "stdout",
     "output_type": "stream",
     "text": [
      "[('pull2_t0', 'pull2_t1'), ('pull2_t0', 'pull1_t1')]\n"
     ]
    },
    {
     "data": {
      "application/vnd.jupyter.widget-view+json": {
       "model_id": "f72908d74795474996fce48d45f76382",
       "version_major": 2,
       "version_minor": 0
      },
      "text/plain": [
       "  0%|          | 0/1000000 [00:00<?, ?it/s]"
      ]
     },
     "metadata": {},
     "output_type": "display_data"
    },
    {
     "name": "stdout",
     "output_type": "stream",
     "text": [
      "[('pull1_t0', 'pull1_t1'), ('pull2_t0', 'pull2_t1'), ('owgaze2_t0', 'owgaze1_t1')]\n"
     ]
    },
    {
     "data": {
      "application/vnd.jupyter.widget-view+json": {
       "model_id": "687623f96d7f4e1f9841311ae867fe8b",
       "version_major": 2,
       "version_minor": 0
      },
      "text/plain": [
       "  0%|          | 0/1000000 [00:00<?, ?it/s]"
      ]
     },
     "metadata": {},
     "output_type": "display_data"
    },
    {
     "name": "stdout",
     "output_type": "stream",
     "text": [
      "[('pull1_t0', 'pull1_t1'), ('pull2_t0', 'pull2_t1')]\n"
     ]
    },
    {
     "data": {
      "application/vnd.jupyter.widget-view+json": {
       "model_id": "95180164c91b4169b883cd69f9888b82",
       "version_major": 2,
       "version_minor": 0
      },
      "text/plain": [
       "  0%|          | 0/1000000 [00:00<?, ?it/s]"
      ]
     },
     "metadata": {},
     "output_type": "display_data"
    },
    {
     "name": "stdout",
     "output_type": "stream",
     "text": [
      "[('pull1_t0', 'pull1_t1'), ('pull2_t0', 'pull2_t1')]\n"
     ]
    },
    {
     "data": {
      "application/vnd.jupyter.widget-view+json": {
       "model_id": "14ffcb4036764121ad75873f0117d0c0",
       "version_major": 2,
       "version_minor": 0
      },
      "text/plain": [
       "  0%|          | 0/1000000 [00:00<?, ?it/s]"
      ]
     },
     "metadata": {},
     "output_type": "display_data"
    },
    {
     "name": "stdout",
     "output_type": "stream",
     "text": [
      "[('pull1_t0', 'pull1_t1'), ('pull2_t0', 'pull2_t1')]\n"
     ]
    },
    {
     "data": {
      "application/vnd.jupyter.widget-view+json": {
       "model_id": "32230fdf69bb4ce080e88b08f1f28b2d",
       "version_major": 2,
       "version_minor": 0
      },
      "text/plain": [
       "  0%|          | 0/1000000 [00:00<?, ?it/s]"
      ]
     },
     "metadata": {},
     "output_type": "display_data"
    },
    {
     "name": "stdout",
     "output_type": "stream",
     "text": [
      "[('pull1_t0', 'pull1_t1'), ('pull2_t0', 'pull2_t1')]\n"
     ]
    },
    {
     "data": {
      "application/vnd.jupyter.widget-view+json": {
       "model_id": "9c7be341e73f402ebbcd00ab47a1eeef",
       "version_major": 2,
       "version_minor": 0
      },
      "text/plain": [
       "  0%|          | 0/1000000 [00:00<?, ?it/s]"
      ]
     },
     "metadata": {},
     "output_type": "display_data"
    },
    {
     "name": "stdout",
     "output_type": "stream",
     "text": [
      "[('pull1_t0', 'pull1_t1'), ('pull2_t0', 'pull2_t1')]\n"
     ]
    },
    {
     "data": {
      "application/vnd.jupyter.widget-view+json": {
       "model_id": "c3b13be938f045ddbaffb46db0c711b2",
       "version_major": 2,
       "version_minor": 0
      },
      "text/plain": [
       "  0%|          | 0/1000000 [00:00<?, ?it/s]"
      ]
     },
     "metadata": {},
     "output_type": "display_data"
    },
    {
     "name": "stdout",
     "output_type": "stream",
     "text": [
      "[('pull1_t0', 'pull1_t1'), ('pull2_t0', 'pull2_t1')]\n"
     ]
    },
    {
     "data": {
      "application/vnd.jupyter.widget-view+json": {
       "model_id": "ab594f4014d1403a8939ad0a4d5d5e7c",
       "version_major": 2,
       "version_minor": 0
      },
      "text/plain": [
       "  0%|          | 0/1000000 [00:00<?, ?it/s]"
      ]
     },
     "metadata": {},
     "output_type": "display_data"
    },
    {
     "name": "stdout",
     "output_type": "stream",
     "text": [
      "[('pull1_t0', 'pull1_t1'), ('pull2_t0', 'pull2_t1')]\n"
     ]
    },
    {
     "data": {
      "application/vnd.jupyter.widget-view+json": {
       "model_id": "8a9704cae2464add84612687fb169287",
       "version_major": 2,
       "version_minor": 0
      },
      "text/plain": [
       "  0%|          | 0/1000000 [00:00<?, ?it/s]"
      ]
     },
     "metadata": {},
     "output_type": "display_data"
    },
    {
     "name": "stdout",
     "output_type": "stream",
     "text": [
      "[('pull1_t0', 'pull1_t1'), ('pull2_t0', 'pull2_t1')]\n"
     ]
    },
    {
     "data": {
      "application/vnd.jupyter.widget-view+json": {
       "model_id": "0f1289b51ca348278a1ac1b8e4b457b6",
       "version_major": 2,
       "version_minor": 0
      },
      "text/plain": [
       "  0%|          | 0/1000000 [00:00<?, ?it/s]"
      ]
     },
     "metadata": {},
     "output_type": "display_data"
    },
    {
     "name": "stdout",
     "output_type": "stream",
     "text": [
      "[('pull1_t0', 'pull1_t1'), ('pull2_t0', 'pull2_t1')]\n"
     ]
    },
    {
     "data": {
      "application/vnd.jupyter.widget-view+json": {
       "model_id": "96e0dc3ad8934341842fd0bb05cc30b3",
       "version_major": 2,
       "version_minor": 0
      },
      "text/plain": [
       "  0%|          | 0/1000000 [00:00<?, ?it/s]"
      ]
     },
     "metadata": {},
     "output_type": "display_data"
    },
    {
     "name": "stdout",
     "output_type": "stream",
     "text": [
      "[('pull1_t0', 'pull1_t1'), ('pull2_t0', 'pull2_t1')]\n"
     ]
    },
    {
     "data": {
      "application/vnd.jupyter.widget-view+json": {
       "model_id": "714b5ae888194540badd453f95268407",
       "version_major": 2,
       "version_minor": 0
      },
      "text/plain": [
       "  0%|          | 0/1000000 [00:00<?, ?it/s]"
      ]
     },
     "metadata": {},
     "output_type": "display_data"
    },
    {
     "name": "stdout",
     "output_type": "stream",
     "text": [
      "[('pull1_t0', 'pull1_t1'), ('pull2_t0', 'pull2_t1'), ('owgaze2_t0', 'owgaze1_t1')]\n"
     ]
    },
    {
     "data": {
      "application/vnd.jupyter.widget-view+json": {
       "model_id": "584258f96b824dafa7bb0cdaaf2a222e",
       "version_major": 2,
       "version_minor": 0
      },
      "text/plain": [
       "  0%|          | 0/1000000 [00:00<?, ?it/s]"
      ]
     },
     "metadata": {},
     "output_type": "display_data"
    },
    {
     "name": "stdout",
     "output_type": "stream",
     "text": [
      "[('pull1_t0', 'pull1_t1'), ('pull2_t0', 'pull2_t1')]\n"
     ]
    },
    {
     "data": {
      "application/vnd.jupyter.widget-view+json": {
       "model_id": "32c14ec08cb941e5980c4bb068a4d111",
       "version_major": 2,
       "version_minor": 0
      },
      "text/plain": [
       "  0%|          | 0/1000000 [00:00<?, ?it/s]"
      ]
     },
     "metadata": {},
     "output_type": "display_data"
    },
    {
     "name": "stdout",
     "output_type": "stream",
     "text": [
      "[]\n"
     ]
    },
    {
     "data": {
      "application/vnd.jupyter.widget-view+json": {
       "model_id": "625dbdfef7f24497a5d02d273afe2e8b",
       "version_major": 2,
       "version_minor": 0
      },
      "text/plain": [
       "  0%|          | 0/1000000 [00:00<?, ?it/s]"
      ]
     },
     "metadata": {},
     "output_type": "display_data"
    },
    {
     "name": "stdout",
     "output_type": "stream",
     "text": [
      "[('pull2_t0', 'pull2_t1')]\n"
     ]
    },
    {
     "data": {
      "application/vnd.jupyter.widget-view+json": {
       "model_id": "1b9d29b368c8422ba4c7520a343b2132",
       "version_major": 2,
       "version_minor": 0
      },
      "text/plain": [
       "  0%|          | 0/1000000 [00:00<?, ?it/s]"
      ]
     },
     "metadata": {},
     "output_type": "display_data"
    },
    {
     "name": "stdout",
     "output_type": "stream",
     "text": [
      "[('pull2_t0', 'pull2_t1')]\n"
     ]
    },
    {
     "data": {
      "application/vnd.jupyter.widget-view+json": {
       "model_id": "0f8b56c05b6a456a9acbad6d1f9fc589",
       "version_major": 2,
       "version_minor": 0
      },
      "text/plain": [
       "  0%|          | 0/1000000 [00:00<?, ?it/s]"
      ]
     },
     "metadata": {},
     "output_type": "display_data"
    },
    {
     "name": "stdout",
     "output_type": "stream",
     "text": [
      "[('pull2_t0', 'pull2_t1')]\n"
     ]
    },
    {
     "data": {
      "application/vnd.jupyter.widget-view+json": {
       "model_id": "375dede2a03944a6916af0034d7faa25",
       "version_major": 2,
       "version_minor": 0
      },
      "text/plain": [
       "  0%|          | 0/1000000 [00:00<?, ?it/s]"
      ]
     },
     "metadata": {},
     "output_type": "display_data"
    },
    {
     "name": "stdout",
     "output_type": "stream",
     "text": [
      "[('pull2_t0', 'pull2_t1')]\n"
     ]
    },
    {
     "data": {
      "application/vnd.jupyter.widget-view+json": {
       "model_id": "fb0a6be2ff96494ba29d6fb126004a70",
       "version_major": 2,
       "version_minor": 0
      },
      "text/plain": [
       "  0%|          | 0/1000000 [00:00<?, ?it/s]"
      ]
     },
     "metadata": {},
     "output_type": "display_data"
    },
    {
     "name": "stdout",
     "output_type": "stream",
     "text": [
      "[('pull2_t0', 'pull2_t1')]\n"
     ]
    },
    {
     "data": {
      "application/vnd.jupyter.widget-view+json": {
       "model_id": "3355562cd2c042a19b16de35746cad01",
       "version_major": 2,
       "version_minor": 0
      },
      "text/plain": [
       "  0%|          | 0/1000000 [00:00<?, ?it/s]"
      ]
     },
     "metadata": {},
     "output_type": "display_data"
    },
    {
     "name": "stdout",
     "output_type": "stream",
     "text": [
      "[('pull2_t0', 'pull2_t1')]\n"
     ]
    },
    {
     "data": {
      "application/vnd.jupyter.widget-view+json": {
       "model_id": "0e67f9c2b6c84ffa841da8c1ecd09085",
       "version_major": 2,
       "version_minor": 0
      },
      "text/plain": [
       "  0%|          | 0/1000000 [00:00<?, ?it/s]"
      ]
     },
     "metadata": {},
     "output_type": "display_data"
    },
    {
     "name": "stdout",
     "output_type": "stream",
     "text": [
      "[]\n"
     ]
    },
    {
     "data": {
      "application/vnd.jupyter.widget-view+json": {
       "model_id": "6db17b6058054656bb2226e5921151cf",
       "version_major": 2,
       "version_minor": 0
      },
      "text/plain": [
       "  0%|          | 0/1000000 [00:00<?, ?it/s]"
      ]
     },
     "metadata": {},
     "output_type": "display_data"
    },
    {
     "name": "stdout",
     "output_type": "stream",
     "text": [
      "[('owgaze1_t0', 'pull2_t1')]\n"
     ]
    },
    {
     "data": {
      "application/vnd.jupyter.widget-view+json": {
       "model_id": "5109e5428c774c3c83d1b4e46786ebf8",
       "version_major": 2,
       "version_minor": 0
      },
      "text/plain": [
       "  0%|          | 0/1000000 [00:00<?, ?it/s]"
      ]
     },
     "metadata": {},
     "output_type": "display_data"
    },
    {
     "name": "stdout",
     "output_type": "stream",
     "text": [
      "[('pull2_t0', 'pull2_t1'), ('owgaze1_t0', 'pull2_t1'), ('owgaze2_t0', 'owgaze1_t1')]\n"
     ]
    },
    {
     "data": {
      "application/vnd.jupyter.widget-view+json": {
       "model_id": "86465a8c074f47f4bb841f82cb46730a",
       "version_major": 2,
       "version_minor": 0
      },
      "text/plain": [
       "  0%|          | 0/1000000 [00:00<?, ?it/s]"
      ]
     },
     "metadata": {},
     "output_type": "display_data"
    },
    {
     "name": "stdout",
     "output_type": "stream",
     "text": [
      "[]\n"
     ]
    },
    {
     "data": {
      "application/vnd.jupyter.widget-view+json": {
       "model_id": "86c9a7b4da844e6b96f7e2b7232c887f",
       "version_major": 2,
       "version_minor": 0
      },
      "text/plain": [
       "  0%|          | 0/1000000 [00:00<?, ?it/s]"
      ]
     },
     "metadata": {},
     "output_type": "display_data"
    },
    {
     "name": "stdout",
     "output_type": "stream",
     "text": [
      "[]\n"
     ]
    },
    {
     "data": {
      "application/vnd.jupyter.widget-view+json": {
       "model_id": "4c01cca9dcee47968e1e645d78d8526c",
       "version_major": 2,
       "version_minor": 0
      },
      "text/plain": [
       "  0%|          | 0/1000000 [00:00<?, ?it/s]"
      ]
     },
     "metadata": {},
     "output_type": "display_data"
    },
    {
     "name": "stdout",
     "output_type": "stream",
     "text": [
      "[]\n"
     ]
    },
    {
     "data": {
      "application/vnd.jupyter.widget-view+json": {
       "model_id": "4c221685992945648f28222d7b57f299",
       "version_major": 2,
       "version_minor": 0
      },
      "text/plain": [
       "  0%|          | 0/1000000 [00:00<?, ?it/s]"
      ]
     },
     "metadata": {},
     "output_type": "display_data"
    },
    {
     "name": "stdout",
     "output_type": "stream",
     "text": [
      "[]\n"
     ]
    },
    {
     "data": {
      "application/vnd.jupyter.widget-view+json": {
       "model_id": "65917a23214d436c947ea7627ab89dcc",
       "version_major": 2,
       "version_minor": 0
      },
      "text/plain": [
       "  0%|          | 0/1000000 [00:00<?, ?it/s]"
      ]
     },
     "metadata": {},
     "output_type": "display_data"
    },
    {
     "name": "stdout",
     "output_type": "stream",
     "text": [
      "[]\n"
     ]
    },
    {
     "data": {
      "application/vnd.jupyter.widget-view+json": {
       "model_id": "54cc963c09994fe9a1ef14f2acb66fde",
       "version_major": 2,
       "version_minor": 0
      },
      "text/plain": [
       "  0%|          | 0/1000000 [00:00<?, ?it/s]"
      ]
     },
     "metadata": {},
     "output_type": "display_data"
    },
    {
     "name": "stdout",
     "output_type": "stream",
     "text": [
      "[('pull2_t0', 'owgaze2_t1')]\n"
     ]
    },
    {
     "data": {
      "application/vnd.jupyter.widget-view+json": {
       "model_id": "35ff2862fe8444aaa19b0e7dbe8ed849",
       "version_major": 2,
       "version_minor": 0
      },
      "text/plain": [
       "  0%|          | 0/1000000 [00:00<?, ?it/s]"
      ]
     },
     "metadata": {},
     "output_type": "display_data"
    },
    {
     "name": "stdout",
     "output_type": "stream",
     "text": [
      "[('owgaze1_t0', 'owgaze1_t1')]\n"
     ]
    },
    {
     "data": {
      "application/vnd.jupyter.widget-view+json": {
       "model_id": "f590272a96a44a0781d04ffc8f55201a",
       "version_major": 2,
       "version_minor": 0
      },
      "text/plain": [
       "  0%|          | 0/1000000 [00:00<?, ?it/s]"
      ]
     },
     "metadata": {},
     "output_type": "display_data"
    },
    {
     "name": "stdout",
     "output_type": "stream",
     "text": [
      "[('owgaze1_t0', 'owgaze1_t1')]\n"
     ]
    },
    {
     "data": {
      "application/vnd.jupyter.widget-view+json": {
       "model_id": "3e1b03eed5b548baa11f7f3776ccd4e6",
       "version_major": 2,
       "version_minor": 0
      },
      "text/plain": [
       "  0%|          | 0/1000000 [00:00<?, ?it/s]"
      ]
     },
     "metadata": {},
     "output_type": "display_data"
    },
    {
     "name": "stdout",
     "output_type": "stream",
     "text": [
      "[('pull2_t0', 'owgaze2_t1')]\n"
     ]
    },
    {
     "data": {
      "application/vnd.jupyter.widget-view+json": {
       "model_id": "186c83cfd12d4ae98a5c35a10dd5f7e3",
       "version_major": 2,
       "version_minor": 0
      },
      "text/plain": [
       "  0%|          | 0/1000000 [00:00<?, ?it/s]"
      ]
     },
     "metadata": {},
     "output_type": "display_data"
    },
    {
     "name": "stdout",
     "output_type": "stream",
     "text": [
      "[('owgaze1_t0', 'owgaze1_t1')]\n"
     ]
    },
    {
     "data": {
      "application/vnd.jupyter.widget-view+json": {
       "model_id": "4463ccf3dad24f2c8e175ef92c88e13d",
       "version_major": 2,
       "version_minor": 0
      },
      "text/plain": [
       "  0%|          | 0/1000000 [00:00<?, ?it/s]"
      ]
     },
     "metadata": {},
     "output_type": "display_data"
    },
    {
     "name": "stdout",
     "output_type": "stream",
     "text": [
      "[('pull2_t0', 'owgaze2_t1'), ('owgaze2_t0', 'owgaze1_t1')]\n"
     ]
    },
    {
     "data": {
      "application/vnd.jupyter.widget-view+json": {
       "model_id": "fcde14945ed3443580a4f2d9be57bc16",
       "version_major": 2,
       "version_minor": 0
      },
      "text/plain": [
       "  0%|          | 0/1000000 [00:00<?, ?it/s]"
      ]
     },
     "metadata": {},
     "output_type": "display_data"
    },
    {
     "name": "stdout",
     "output_type": "stream",
     "text": [
      "[('owgaze2_t0', 'owgaze1_t1')]\n"
     ]
    },
    {
     "data": {
      "application/vnd.jupyter.widget-view+json": {
       "model_id": "fedec2833d9941fbbc2e812dd1821474",
       "version_major": 2,
       "version_minor": 0
      },
      "text/plain": [
       "  0%|          | 0/1000000 [00:00<?, ?it/s]"
      ]
     },
     "metadata": {},
     "output_type": "display_data"
    },
    {
     "name": "stdout",
     "output_type": "stream",
     "text": [
      "[('pull1_t0', 'pull2_t1'), ('pull2_t0', 'owgaze2_t1'), ('owgaze1_t0', 'owgaze1_t1')]\n"
     ]
    },
    {
     "data": {
      "application/vnd.jupyter.widget-view+json": {
       "model_id": "74eabea29ee141698f7c985215aed428",
       "version_major": 2,
       "version_minor": 0
      },
      "text/plain": [
       "  0%|          | 0/1000000 [00:00<?, ?it/s]"
      ]
     },
     "metadata": {},
     "output_type": "display_data"
    },
    {
     "name": "stdout",
     "output_type": "stream",
     "text": [
      "[('pull1_t0', 'pull2_t1'), ('pull2_t0', 'owgaze2_t1'), ('owgaze1_t0', 'owgaze1_t1')]\n"
     ]
    },
    {
     "data": {
      "application/vnd.jupyter.widget-view+json": {
       "model_id": "f3c50da961e045c0837d7e36990dd5e9",
       "version_major": 2,
       "version_minor": 0
      },
      "text/plain": [
       "  0%|          | 0/1000000 [00:00<?, ?it/s]"
      ]
     },
     "metadata": {},
     "output_type": "display_data"
    },
    {
     "name": "stdout",
     "output_type": "stream",
     "text": [
      "[('pull1_t0', 'pull2_t1'), ('pull2_t0', 'owgaze2_t1'), ('owgaze1_t0', 'owgaze1_t1')]\n"
     ]
    },
    {
     "data": {
      "application/vnd.jupyter.widget-view+json": {
       "model_id": "92c297171c3c4337ab011e796081ee1d",
       "version_major": 2,
       "version_minor": 0
      },
      "text/plain": [
       "  0%|          | 0/1000000 [00:00<?, ?it/s]"
      ]
     },
     "metadata": {},
     "output_type": "display_data"
    },
    {
     "name": "stdout",
     "output_type": "stream",
     "text": [
      "[('pull1_t0', 'pull2_t1'), ('pull2_t0', 'owgaze2_t1'), ('owgaze2_t0', 'owgaze1_t1')]\n"
     ]
    },
    {
     "data": {
      "application/vnd.jupyter.widget-view+json": {
       "model_id": "ac57e531f4244c58a74ac052b293009f",
       "version_major": 2,
       "version_minor": 0
      },
      "text/plain": [
       "  0%|          | 0/1000000 [00:00<?, ?it/s]"
      ]
     },
     "metadata": {},
     "output_type": "display_data"
    },
    {
     "name": "stdout",
     "output_type": "stream",
     "text": [
      "[('pull1_t0', 'pull2_t1'), ('pull2_t0', 'owgaze2_t1'), ('owgaze2_t0', 'owgaze1_t1')]\n"
     ]
    },
    {
     "data": {
      "application/vnd.jupyter.widget-view+json": {
       "model_id": "5db8c71b39264ae4a3806b50bec0e3ba",
       "version_major": 2,
       "version_minor": 0
      },
      "text/plain": [
       "  0%|          | 0/1000000 [00:00<?, ?it/s]"
      ]
     },
     "metadata": {},
     "output_type": "display_data"
    },
    {
     "name": "stdout",
     "output_type": "stream",
     "text": [
      "[('pull1_t0', 'pull2_t1'), ('owgaze1_t0', 'owgaze2_t1'), ('owgaze2_t0', 'owgaze1_t1'), ('owgaze2_t0', 'pull1_t1')]\n"
     ]
    },
    {
     "data": {
      "application/vnd.jupyter.widget-view+json": {
       "model_id": "c0105a689a5746f995418f6b93ea5b3b",
       "version_major": 2,
       "version_minor": 0
      },
      "text/plain": [
       "  0%|          | 0/1000000 [00:00<?, ?it/s]"
      ]
     },
     "metadata": {},
     "output_type": "display_data"
    },
    {
     "name": "stdout",
     "output_type": "stream",
     "text": [
      "[('pull1_t0', 'pull2_t1'), ('pull2_t0', 'owgaze2_t1')]\n"
     ]
    },
    {
     "data": {
      "application/vnd.jupyter.widget-view+json": {
       "model_id": "8246056154b7434eb032c6bf6fb2024c",
       "version_major": 2,
       "version_minor": 0
      },
      "text/plain": [
       "  0%|          | 0/1000000 [00:00<?, ?it/s]"
      ]
     },
     "metadata": {},
     "output_type": "display_data"
    },
    {
     "name": "stdout",
     "output_type": "stream",
     "text": [
      "[('pull2_t0', 'pull2_t1'), ('owgaze2_t0', 'owgaze2_t1')]\n"
     ]
    },
    {
     "data": {
      "application/vnd.jupyter.widget-view+json": {
       "model_id": "81282dc0a6b949c7a1d3a8bb6da9833f",
       "version_major": 2,
       "version_minor": 0
      },
      "text/plain": [
       "  0%|          | 0/1000000 [00:00<?, ?it/s]"
      ]
     },
     "metadata": {},
     "output_type": "display_data"
    },
    {
     "name": "stdout",
     "output_type": "stream",
     "text": [
      "[('pull2_t0', 'pull2_t1'), ('owgaze2_t0', 'owgaze2_t1')]\n"
     ]
    },
    {
     "data": {
      "application/vnd.jupyter.widget-view+json": {
       "model_id": "e56485def1b049bf92726a7259b0fd3a",
       "version_major": 2,
       "version_minor": 0
      },
      "text/plain": [
       "  0%|          | 0/1000000 [00:00<?, ?it/s]"
      ]
     },
     "metadata": {},
     "output_type": "display_data"
    },
    {
     "name": "stdout",
     "output_type": "stream",
     "text": [
      "[('pull2_t0', 'pull2_t1')]\n"
     ]
    },
    {
     "data": {
      "application/vnd.jupyter.widget-view+json": {
       "model_id": "c8e0f62eca2e40d1bce1ae3afe3b986c",
       "version_major": 2,
       "version_minor": 0
      },
      "text/plain": [
       "  0%|          | 0/1000000 [00:00<?, ?it/s]"
      ]
     },
     "metadata": {},
     "output_type": "display_data"
    },
    {
     "name": "stdout",
     "output_type": "stream",
     "text": [
      "[('pull2_t0', 'pull2_t1')]\n"
     ]
    },
    {
     "data": {
      "application/vnd.jupyter.widget-view+json": {
       "model_id": "9f4bee8f15674dacba2a654ec4ade2f7",
       "version_major": 2,
       "version_minor": 0
      },
      "text/plain": [
       "  0%|          | 0/1000000 [00:00<?, ?it/s]"
      ]
     },
     "metadata": {},
     "output_type": "display_data"
    },
    {
     "name": "stdout",
     "output_type": "stream",
     "text": [
      "[('pull2_t0', 'pull2_t1'), ('owgaze2_t0', 'pull1_t1')]\n"
     ]
    },
    {
     "data": {
      "application/vnd.jupyter.widget-view+json": {
       "model_id": "e969584233624f60b2466dfa801a8342",
       "version_major": 2,
       "version_minor": 0
      },
      "text/plain": [
       "  0%|          | 0/1000000 [00:00<?, ?it/s]"
      ]
     },
     "metadata": {},
     "output_type": "display_data"
    },
    {
     "name": "stdout",
     "output_type": "stream",
     "text": [
      "[('pull2_t0', 'pull2_t1'), ('owgaze2_t0', 'pull1_t1')]\n"
     ]
    },
    {
     "data": {
      "application/vnd.jupyter.widget-view+json": {
       "model_id": "38e8f8743d764231af7430958bbf1b8f",
       "version_major": 2,
       "version_minor": 0
      },
      "text/plain": [
       "  0%|          | 0/1000000 [00:00<?, ?it/s]"
      ]
     },
     "metadata": {},
     "output_type": "display_data"
    },
    {
     "name": "stdout",
     "output_type": "stream",
     "text": [
      "[('pull1_t0', 'pull1_t1'), ('pull2_t0', 'pull2_t1')]\n"
     ]
    },
    {
     "data": {
      "application/vnd.jupyter.widget-view+json": {
       "model_id": "3ffeaa44ad6a47018edca1598d0d1529",
       "version_major": 2,
       "version_minor": 0
      },
      "text/plain": [
       "  0%|          | 0/1000000 [00:00<?, ?it/s]"
      ]
     },
     "metadata": {},
     "output_type": "display_data"
    },
    {
     "name": "stdout",
     "output_type": "stream",
     "text": [
      "[('pull1_t0', 'pull1_t1')]\n"
     ]
    },
    {
     "data": {
      "application/vnd.jupyter.widget-view+json": {
       "model_id": "5802abec6e794c61a240a65539e42f01",
       "version_major": 2,
       "version_minor": 0
      },
      "text/plain": [
       "  0%|          | 0/1000000 [00:00<?, ?it/s]"
      ]
     },
     "metadata": {},
     "output_type": "display_data"
    },
    {
     "name": "stdout",
     "output_type": "stream",
     "text": [
      "[('owgaze2_t0', 'pull1_t1')]\n"
     ]
    },
    {
     "data": {
      "application/vnd.jupyter.widget-view+json": {
       "model_id": "afb21e2db64f438682313ab2a2a229ea",
       "version_major": 2,
       "version_minor": 0
      },
      "text/plain": [
       "  0%|          | 0/1000000 [00:00<?, ?it/s]"
      ]
     },
     "metadata": {},
     "output_type": "display_data"
    },
    {
     "name": "stdout",
     "output_type": "stream",
     "text": [
      "[('owgaze2_t0', 'owgaze2_t1')]\n"
     ]
    },
    {
     "data": {
      "application/vnd.jupyter.widget-view+json": {
       "model_id": "2102b8098d8a4d1798a7dd73ec6f6f63",
       "version_major": 2,
       "version_minor": 0
      },
      "text/plain": [
       "  0%|          | 0/1000000 [00:00<?, ?it/s]"
      ]
     },
     "metadata": {},
     "output_type": "display_data"
    },
    {
     "name": "stdout",
     "output_type": "stream",
     "text": [
      "[]\n"
     ]
    },
    {
     "data": {
      "application/vnd.jupyter.widget-view+json": {
       "model_id": "1793ae7b25814cf9833683c14f854629",
       "version_major": 2,
       "version_minor": 0
      },
      "text/plain": [
       "  0%|          | 0/1000000 [00:00<?, ?it/s]"
      ]
     },
     "metadata": {},
     "output_type": "display_data"
    },
    {
     "name": "stdout",
     "output_type": "stream",
     "text": [
      "[]\n"
     ]
    },
    {
     "data": {
      "application/vnd.jupyter.widget-view+json": {
       "model_id": "49dc2fea38ca4b7fb09f9d162aba4e76",
       "version_major": 2,
       "version_minor": 0
      },
      "text/plain": [
       "  0%|          | 0/1000000 [00:00<?, ?it/s]"
      ]
     },
     "metadata": {},
     "output_type": "display_data"
    },
    {
     "name": "stdout",
     "output_type": "stream",
     "text": [
      "[('pull1_t0', 'pull1_t1')]\n"
     ]
    },
    {
     "data": {
      "application/vnd.jupyter.widget-view+json": {
       "model_id": "00ab7902b8e0497382d7f71ec4cd4ca8",
       "version_major": 2,
       "version_minor": 0
      },
      "text/plain": [
       "  0%|          | 0/1000000 [00:00<?, ?it/s]"
      ]
     },
     "metadata": {},
     "output_type": "display_data"
    },
    {
     "name": "stdout",
     "output_type": "stream",
     "text": [
      "[('pull1_t0', 'pull1_t1'), ('owgaze2_t0', 'pull1_t1')]\n"
     ]
    },
    {
     "data": {
      "application/vnd.jupyter.widget-view+json": {
       "model_id": "bd862136837d4c599f86f520549331ee",
       "version_major": 2,
       "version_minor": 0
      },
      "text/plain": [
       "  0%|          | 0/1000000 [00:00<?, ?it/s]"
      ]
     },
     "metadata": {},
     "output_type": "display_data"
    },
    {
     "name": "stdout",
     "output_type": "stream",
     "text": [
      "[('pull1_t0', 'pull1_t1')]\n"
     ]
    },
    {
     "data": {
      "application/vnd.jupyter.widget-view+json": {
       "model_id": "469f843dc54c460db6be59bc6bdce7a9",
       "version_major": 2,
       "version_minor": 0
      },
      "text/plain": [
       "  0%|          | 0/1000000 [00:00<?, ?it/s]"
      ]
     },
     "metadata": {},
     "output_type": "display_data"
    },
    {
     "name": "stdout",
     "output_type": "stream",
     "text": [
      "[('pull1_t0', 'pull1_t1')]\n"
     ]
    },
    {
     "data": {
      "application/vnd.jupyter.widget-view+json": {
       "model_id": "bb9d8a5f6f954b9988232abd07fa6ef4",
       "version_major": 2,
       "version_minor": 0
      },
      "text/plain": [
       "  0%|          | 0/1000000 [00:00<?, ?it/s]"
      ]
     },
     "metadata": {},
     "output_type": "display_data"
    },
    {
     "name": "stdout",
     "output_type": "stream",
     "text": [
      "[('pull1_t0', 'pull1_t1'), ('pull1_t0', 'pull2_t1'), ('owgaze2_t0', 'pull1_t1')]\n"
     ]
    },
    {
     "data": {
      "application/vnd.jupyter.widget-view+json": {
       "model_id": "06b58d8ebe6d4842b8c7a2183172c086",
       "version_major": 2,
       "version_minor": 0
      },
      "text/plain": [
       "  0%|          | 0/1000000 [00:00<?, ?it/s]"
      ]
     },
     "metadata": {},
     "output_type": "display_data"
    },
    {
     "name": "stdout",
     "output_type": "stream",
     "text": [
      "[('pull1_t0', 'pull1_t1'), ('pull1_t0', 'pull2_t1')]\n"
     ]
    },
    {
     "data": {
      "application/vnd.jupyter.widget-view+json": {
       "model_id": "fdada84e853c42dcadc857e795098b4f",
       "version_major": 2,
       "version_minor": 0
      },
      "text/plain": [
       "  0%|          | 0/1000000 [00:00<?, ?it/s]"
      ]
     },
     "metadata": {},
     "output_type": "display_data"
    },
    {
     "name": "stdout",
     "output_type": "stream",
     "text": [
      "[('pull1_t0', 'pull1_t1'), ('pull1_t0', 'pull2_t1')]\n"
     ]
    },
    {
     "data": {
      "application/vnd.jupyter.widget-view+json": {
       "model_id": "8d0f9f0abbf54170955b46155bdce85d",
       "version_major": 2,
       "version_minor": 0
      },
      "text/plain": [
       "  0%|          | 0/1000000 [00:00<?, ?it/s]"
      ]
     },
     "metadata": {},
     "output_type": "display_data"
    },
    {
     "name": "stdout",
     "output_type": "stream",
     "text": [
      "[('pull1_t0', 'pull1_t1')]\n"
     ]
    },
    {
     "data": {
      "application/vnd.jupyter.widget-view+json": {
       "model_id": "0fe46391c854461889d948f098c74262",
       "version_major": 2,
       "version_minor": 0
      },
      "text/plain": [
       "  0%|          | 0/1000000 [00:00<?, ?it/s]"
      ]
     },
     "metadata": {},
     "output_type": "display_data"
    },
    {
     "name": "stdout",
     "output_type": "stream",
     "text": [
      "[('pull1_t0', 'pull1_t1'), ('pull1_t0', 'pull2_t1')]\n"
     ]
    },
    {
     "data": {
      "application/vnd.jupyter.widget-view+json": {
       "model_id": "057c4d68a90b41298e006ecccfc2ea45",
       "version_major": 2,
       "version_minor": 0
      },
      "text/plain": [
       "  0%|          | 0/1000000 [00:00<?, ?it/s]"
      ]
     },
     "metadata": {},
     "output_type": "display_data"
    },
    {
     "name": "stdout",
     "output_type": "stream",
     "text": [
      "[('pull1_t0', 'pull1_t1'), ('owgaze2_t0', 'pull1_t1')]\n"
     ]
    },
    {
     "data": {
      "application/vnd.jupyter.widget-view+json": {
       "model_id": "0568fd52e0d7411cb931e20bbe868f82",
       "version_major": 2,
       "version_minor": 0
      },
      "text/plain": [
       "  0%|          | 0/1000000 [00:00<?, ?it/s]"
      ]
     },
     "metadata": {},
     "output_type": "display_data"
    },
    {
     "name": "stdout",
     "output_type": "stream",
     "text": [
      "[('pull1_t0', 'pull1_t1'), ('pull2_t0', 'owgaze2_t1')]\n"
     ]
    },
    {
     "data": {
      "application/vnd.jupyter.widget-view+json": {
       "model_id": "acbdde9be4f044ba976a65cbeb77bee0",
       "version_major": 2,
       "version_minor": 0
      },
      "text/plain": [
       "  0%|          | 0/1000000 [00:00<?, ?it/s]"
      ]
     },
     "metadata": {},
     "output_type": "display_data"
    },
    {
     "name": "stdout",
     "output_type": "stream",
     "text": [
      "[('pull1_t0', 'pull1_t1')]\n"
     ]
    },
    {
     "data": {
      "application/vnd.jupyter.widget-view+json": {
       "model_id": "fdcf86bd05c7405a85a1c9feef192392",
       "version_major": 2,
       "version_minor": 0
      },
      "text/plain": [
       "  0%|          | 0/1000000 [00:00<?, ?it/s]"
      ]
     },
     "metadata": {},
     "output_type": "display_data"
    },
    {
     "name": "stdout",
     "output_type": "stream",
     "text": [
      "[('pull1_t0', 'pull1_t1'), ('owgaze2_t0', 'pull1_t1')]\n"
     ]
    },
    {
     "data": {
      "application/vnd.jupyter.widget-view+json": {
       "model_id": "9a70d5452cf346b895d8cce7474bea16",
       "version_major": 2,
       "version_minor": 0
      },
      "text/plain": [
       "  0%|          | 0/1000000 [00:00<?, ?it/s]"
      ]
     },
     "metadata": {},
     "output_type": "display_data"
    },
    {
     "name": "stdout",
     "output_type": "stream",
     "text": [
      "[('pull1_t0', 'pull1_t1')]\n"
     ]
    },
    {
     "data": {
      "application/vnd.jupyter.widget-view+json": {
       "model_id": "602e3d9766884be2a440466d4f49ea83",
       "version_major": 2,
       "version_minor": 0
      },
      "text/plain": [
       "  0%|          | 0/1000000 [00:00<?, ?it/s]"
      ]
     },
     "metadata": {},
     "output_type": "display_data"
    },
    {
     "name": "stdout",
     "output_type": "stream",
     "text": [
      "[('pull1_t0', 'pull1_t1'), ('pull2_t0', 'owgaze2_t1')]\n"
     ]
    },
    {
     "data": {
      "application/vnd.jupyter.widget-view+json": {
       "model_id": "4456d868761740cb856b04b51754f8bc",
       "version_major": 2,
       "version_minor": 0
      },
      "text/plain": [
       "  0%|          | 0/1000000 [00:00<?, ?it/s]"
      ]
     },
     "metadata": {},
     "output_type": "display_data"
    },
    {
     "name": "stdout",
     "output_type": "stream",
     "text": [
      "[('pull1_t0', 'pull1_t1'), ('owgaze2_t0', 'owgaze2_t1'), ('owgaze2_t0', 'pull1_t1')]\n"
     ]
    },
    {
     "data": {
      "application/vnd.jupyter.widget-view+json": {
       "model_id": "900f1a0f5e23457a8dbcb6ce80bea6dc",
       "version_major": 2,
       "version_minor": 0
      },
      "text/plain": [
       "  0%|          | 0/1000000 [00:00<?, ?it/s]"
      ]
     },
     "metadata": {},
     "output_type": "display_data"
    },
    {
     "name": "stdout",
     "output_type": "stream",
     "text": [
      "[('pull1_t0', 'pull1_t1'), ('pull2_t0', 'owgaze2_t1')]\n"
     ]
    },
    {
     "data": {
      "application/vnd.jupyter.widget-view+json": {
       "model_id": "7da1d6520dd64b0986ca4a8564eabd4e",
       "version_major": 2,
       "version_minor": 0
      },
      "text/plain": [
       "  0%|          | 0/1000000 [00:00<?, ?it/s]"
      ]
     },
     "metadata": {},
     "output_type": "display_data"
    },
    {
     "name": "stdout",
     "output_type": "stream",
     "text": [
      "[('pull1_t0', 'pull1_t1')]\n"
     ]
    },
    {
     "data": {
      "application/vnd.jupyter.widget-view+json": {
       "model_id": "371cead1b4fe4ecd95ff65772c79dd2d",
       "version_major": 2,
       "version_minor": 0
      },
      "text/plain": [
       "  0%|          | 0/1000000 [00:00<?, ?it/s]"
      ]
     },
     "metadata": {},
     "output_type": "display_data"
    },
    {
     "name": "stdout",
     "output_type": "stream",
     "text": [
      "[('pull1_t0', 'pull1_t1')]\n"
     ]
    },
    {
     "data": {
      "application/vnd.jupyter.widget-view+json": {
       "model_id": "e2ef36117fc34e0d88d93c6cf2a60c83",
       "version_major": 2,
       "version_minor": 0
      },
      "text/plain": [
       "  0%|          | 0/1000000 [00:00<?, ?it/s]"
      ]
     },
     "metadata": {},
     "output_type": "display_data"
    },
    {
     "name": "stdout",
     "output_type": "stream",
     "text": [
      "[('pull1_t0', 'pull1_t1')]\n"
     ]
    },
    {
     "data": {
      "application/vnd.jupyter.widget-view+json": {
       "model_id": "ad218a0e28174486af57b6a319802a86",
       "version_major": 2,
       "version_minor": 0
      },
      "text/plain": [
       "  0%|          | 0/1000000 [00:00<?, ?it/s]"
      ]
     },
     "metadata": {},
     "output_type": "display_data"
    },
    {
     "name": "stdout",
     "output_type": "stream",
     "text": [
      "[('pull1_t0', 'pull1_t1'), ('owgaze2_t0', 'owgaze2_t1'), ('owgaze2_t0', 'pull1_t1')]\n"
     ]
    },
    {
     "data": {
      "application/vnd.jupyter.widget-view+json": {
       "model_id": "5cc18106ba954388afd78f03d1a0fc21",
       "version_major": 2,
       "version_minor": 0
      },
      "text/plain": [
       "  0%|          | 0/1000000 [00:00<?, ?it/s]"
      ]
     },
     "metadata": {},
     "output_type": "display_data"
    },
    {
     "name": "stdout",
     "output_type": "stream",
     "text": [
      "[('pull2_t0', 'pull2_t1'), ('pull2_t0', 'pull1_t1'), ('owgaze1_t0', 'owgaze1_t1'), ('owgaze2_t0', 'owgaze2_t1')]\n"
     ]
    },
    {
     "data": {
      "application/vnd.jupyter.widget-view+json": {
       "model_id": "fc7a9b4b6cc846ffaac3aa02adf36077",
       "version_major": 2,
       "version_minor": 0
      },
      "text/plain": [
       "  0%|          | 0/1000000 [00:00<?, ?it/s]"
      ]
     },
     "metadata": {},
     "output_type": "display_data"
    },
    {
     "name": "stdout",
     "output_type": "stream",
     "text": [
      "[('pull2_t0', 'pull2_t1'), ('pull2_t0', 'pull1_t1'), ('owgaze1_t0', 'owgaze1_t1'), ('owgaze2_t0', 'owgaze2_t1')]\n"
     ]
    },
    {
     "data": {
      "application/vnd.jupyter.widget-view+json": {
       "model_id": "f8cafad9f6874c1e8c0d8af31582852c",
       "version_major": 2,
       "version_minor": 0
      },
      "text/plain": [
       "  0%|          | 0/1000000 [00:00<?, ?it/s]"
      ]
     },
     "metadata": {},
     "output_type": "display_data"
    },
    {
     "name": "stdout",
     "output_type": "stream",
     "text": [
      "[('pull1_t0', 'pull1_t1'), ('pull2_t0', 'pull2_t1'), ('owgaze1_t0', 'owgaze1_t1')]\n"
     ]
    },
    {
     "data": {
      "application/vnd.jupyter.widget-view+json": {
       "model_id": "2acde39e382e4e4cb19eebb218493a4e",
       "version_major": 2,
       "version_minor": 0
      },
      "text/plain": [
       "  0%|          | 0/1000000 [00:00<?, ?it/s]"
      ]
     },
     "metadata": {},
     "output_type": "display_data"
    },
    {
     "name": "stdout",
     "output_type": "stream",
     "text": [
      "[('pull1_t0', 'pull1_t1'), ('pull2_t0', 'pull2_t1')]\n"
     ]
    },
    {
     "data": {
      "application/vnd.jupyter.widget-view+json": {
       "model_id": "55def1ef523147fe929214e17a6010b6",
       "version_major": 2,
       "version_minor": 0
      },
      "text/plain": [
       "  0%|          | 0/1000000 [00:00<?, ?it/s]"
      ]
     },
     "metadata": {},
     "output_type": "display_data"
    },
    {
     "name": "stdout",
     "output_type": "stream",
     "text": [
      "[('pull1_t0', 'pull1_t1'), ('pull2_t0', 'pull2_t1'), ('owgaze1_t0', 'owgaze1_t1'), ('owgaze2_t0', 'owgaze2_t1')]\n"
     ]
    },
    {
     "data": {
      "application/vnd.jupyter.widget-view+json": {
       "model_id": "50f81ddc6031458c8a34c9e37be2e380",
       "version_major": 2,
       "version_minor": 0
      },
      "text/plain": [
       "  0%|          | 0/1000000 [00:00<?, ?it/s]"
      ]
     },
     "metadata": {},
     "output_type": "display_data"
    },
    {
     "name": "stdout",
     "output_type": "stream",
     "text": [
      "[('pull1_t0', 'pull1_t1'), ('pull2_t0', 'pull2_t1')]\n"
     ]
    },
    {
     "data": {
      "application/vnd.jupyter.widget-view+json": {
       "model_id": "af8545ebc4f84c83b0ea3087f0ee63aa",
       "version_major": 2,
       "version_minor": 0
      },
      "text/plain": [
       "  0%|          | 0/1000000 [00:00<?, ?it/s]"
      ]
     },
     "metadata": {},
     "output_type": "display_data"
    },
    {
     "name": "stdout",
     "output_type": "stream",
     "text": [
      "[('pull1_t0', 'pull1_t1'), ('pull2_t0', 'pull2_t1'), ('owgaze1_t0', 'owgaze1_t1')]\n"
     ]
    },
    {
     "data": {
      "application/vnd.jupyter.widget-view+json": {
       "model_id": "f2a32bb935b641ae8819aa648506ada5",
       "version_major": 2,
       "version_minor": 0
      },
      "text/plain": [
       "  0%|          | 0/1000000 [00:00<?, ?it/s]"
      ]
     },
     "metadata": {},
     "output_type": "display_data"
    },
    {
     "name": "stdout",
     "output_type": "stream",
     "text": [
      "[('pull1_t0', 'owgaze1_t1'), ('owgaze1_t0', 'pull1_t1'), ('owgaze1_t0', 'pull2_t1')]\n"
     ]
    },
    {
     "data": {
      "application/vnd.jupyter.widget-view+json": {
       "model_id": "7760b9b0107444f59894654c88f1b38f",
       "version_major": 2,
       "version_minor": 0
      },
      "text/plain": [
       "  0%|          | 0/1000000 [00:00<?, ?it/s]"
      ]
     },
     "metadata": {},
     "output_type": "display_data"
    },
    {
     "name": "stdout",
     "output_type": "stream",
     "text": [
      "[('pull2_t0', 'pull1_t1')]\n"
     ]
    },
    {
     "data": {
      "application/vnd.jupyter.widget-view+json": {
       "model_id": "743eeb195f4d40e09649887645d7eb34",
       "version_major": 2,
       "version_minor": 0
      },
      "text/plain": [
       "  0%|          | 0/1000000 [00:00<?, ?it/s]"
      ]
     },
     "metadata": {},
     "output_type": "display_data"
    },
    {
     "name": "stdout",
     "output_type": "stream",
     "text": [
      "[]\n"
     ]
    },
    {
     "data": {
      "application/vnd.jupyter.widget-view+json": {
       "model_id": "31fd54bc206445da8c5bc1b9f6b1f384",
       "version_major": 2,
       "version_minor": 0
      },
      "text/plain": [
       "  0%|          | 0/1000000 [00:00<?, ?it/s]"
      ]
     },
     "metadata": {},
     "output_type": "display_data"
    },
    {
     "name": "stdout",
     "output_type": "stream",
     "text": [
      "[('owgaze1_t0', 'pull1_t1')]\n"
     ]
    },
    {
     "data": {
      "application/vnd.jupyter.widget-view+json": {
       "model_id": "887ae5e063b44217b860039ae95f263a",
       "version_major": 2,
       "version_minor": 0
      },
      "text/plain": [
       "  0%|          | 0/1000000 [00:00<?, ?it/s]"
      ]
     },
     "metadata": {},
     "output_type": "display_data"
    },
    {
     "name": "stdout",
     "output_type": "stream",
     "text": [
      "[]\n"
     ]
    },
    {
     "data": {
      "application/vnd.jupyter.widget-view+json": {
       "model_id": "3df2f761216d4b49bb4c8222756c94dd",
       "version_major": 2,
       "version_minor": 0
      },
      "text/plain": [
       "  0%|          | 0/1000000 [00:00<?, ?it/s]"
      ]
     },
     "metadata": {},
     "output_type": "display_data"
    },
    {
     "name": "stdout",
     "output_type": "stream",
     "text": [
      "[('owgaze1_t0', 'owgaze1_t1')]\n"
     ]
    },
    {
     "data": {
      "application/vnd.jupyter.widget-view+json": {
       "model_id": "019a732f4eee4852bdd37bc18ca9beb3",
       "version_major": 2,
       "version_minor": 0
      },
      "text/plain": [
       "  0%|          | 0/1000000 [00:00<?, ?it/s]"
      ]
     },
     "metadata": {},
     "output_type": "display_data"
    },
    {
     "name": "stdout",
     "output_type": "stream",
     "text": [
      "[('pull1_t0', 'pull1_t1'), ('pull1_t0', 'owgaze2_t1'), ('owgaze1_t0', 'owgaze1_t1'), ('owgaze1_t0', 'pull1_t1')]\n"
     ]
    },
    {
     "data": {
      "application/vnd.jupyter.widget-view+json": {
       "model_id": "be37e7c51ccb49cba10d9b6f7382014a",
       "version_major": 2,
       "version_minor": 0
      },
      "text/plain": [
       "  0%|          | 0/1000000 [00:00<?, ?it/s]"
      ]
     },
     "metadata": {},
     "output_type": "display_data"
    },
    {
     "name": "stdout",
     "output_type": "stream",
     "text": [
      "[('pull1_t0', 'pull1_t1'), ('owgaze1_t0', 'owgaze1_t1')]\n"
     ]
    },
    {
     "data": {
      "application/vnd.jupyter.widget-view+json": {
       "model_id": "61caaae9fe4f41169ff5ee48bcd4f791",
       "version_major": 2,
       "version_minor": 0
      },
      "text/plain": [
       "  0%|          | 0/1000000 [00:00<?, ?it/s]"
      ]
     },
     "metadata": {},
     "output_type": "display_data"
    },
    {
     "name": "stdout",
     "output_type": "stream",
     "text": [
      "[('pull1_t0', 'pull1_t1'), ('pull1_t0', 'owgaze2_t1')]\n"
     ]
    },
    {
     "data": {
      "application/vnd.jupyter.widget-view+json": {
       "model_id": "47209ae1ae6f4e04a3d3ab52185f6f62",
       "version_major": 2,
       "version_minor": 0
      },
      "text/plain": [
       "  0%|          | 0/1000000 [00:00<?, ?it/s]"
      ]
     },
     "metadata": {},
     "output_type": "display_data"
    },
    {
     "name": "stdout",
     "output_type": "stream",
     "text": [
      "[('pull1_t0', 'pull1_t1'), ('pull1_t0', 'owgaze2_t1')]\n"
     ]
    },
    {
     "data": {
      "application/vnd.jupyter.widget-view+json": {
       "model_id": "e391445356844c6785376bfd78c3320f",
       "version_major": 2,
       "version_minor": 0
      },
      "text/plain": [
       "  0%|          | 0/1000000 [00:00<?, ?it/s]"
      ]
     },
     "metadata": {},
     "output_type": "display_data"
    },
    {
     "name": "stdout",
     "output_type": "stream",
     "text": [
      "[('pull1_t0', 'pull1_t1'), ('pull1_t0', 'owgaze2_t1')]\n"
     ]
    },
    {
     "data": {
      "application/vnd.jupyter.widget-view+json": {
       "model_id": "9e0fbbb5d144420795c5376bdfe82894",
       "version_major": 2,
       "version_minor": 0
      },
      "text/plain": [
       "  0%|          | 0/1000000 [00:00<?, ?it/s]"
      ]
     },
     "metadata": {},
     "output_type": "display_data"
    },
    {
     "name": "stdout",
     "output_type": "stream",
     "text": [
      "[('pull1_t0', 'pull1_t1'), ('pull2_t0', 'owgaze1_t1'), ('pull2_t0', 'pull2_t1')]\n"
     ]
    },
    {
     "data": {
      "application/vnd.jupyter.widget-view+json": {
       "model_id": "ba84942d4b0249c5a8cef401a4aa569a",
       "version_major": 2,
       "version_minor": 0
      },
      "text/plain": [
       "  0%|          | 0/1000000 [00:00<?, ?it/s]"
      ]
     },
     "metadata": {},
     "output_type": "display_data"
    },
    {
     "name": "stdout",
     "output_type": "stream",
     "text": [
      "[('pull1_t0', 'pull1_t1')]\n"
     ]
    },
    {
     "data": {
      "application/vnd.jupyter.widget-view+json": {
       "model_id": "4195512fd87346069ba9f65ad7564ead",
       "version_major": 2,
       "version_minor": 0
      },
      "text/plain": [
       "  0%|          | 0/1000000 [00:00<?, ?it/s]"
      ]
     },
     "metadata": {},
     "output_type": "display_data"
    },
    {
     "name": "stdout",
     "output_type": "stream",
     "text": [
      "[('pull1_t0', 'pull1_t1')]\n"
     ]
    },
    {
     "data": {
      "application/vnd.jupyter.widget-view+json": {
       "model_id": "6cc4bb1a470140c3b3314c0e373553ac",
       "version_major": 2,
       "version_minor": 0
      },
      "text/plain": [
       "  0%|          | 0/1000000 [00:00<?, ?it/s]"
      ]
     },
     "metadata": {},
     "output_type": "display_data"
    },
    {
     "name": "stdout",
     "output_type": "stream",
     "text": [
      "[('pull1_t0', 'pull1_t1')]\n"
     ]
    },
    {
     "data": {
      "application/vnd.jupyter.widget-view+json": {
       "model_id": "928518b01f5249a08742ac21d69d44f5",
       "version_major": 2,
       "version_minor": 0
      },
      "text/plain": [
       "  0%|          | 0/1000000 [00:00<?, ?it/s]"
      ]
     },
     "metadata": {},
     "output_type": "display_data"
    },
    {
     "name": "stdout",
     "output_type": "stream",
     "text": [
      "[('pull1_t0', 'pull1_t1'), ('owgaze2_t0', 'owgaze1_t1')]\n"
     ]
    },
    {
     "data": {
      "image/png": "[encoded data removed]",
      "text/plain": [
       "<Figure size 1800x360 with 2 Axes>"
      ]
     },
     "metadata": {
      "needs_background": "light"
     },
     "output_type": "display_data"
    },
    {
     "data": {
      "image/png": "[encoded data removed]",
      "text/plain": [
       "<Figure size 1800x360 with 2 Axes>"
      ]
     },
     "metadata": {
      "needs_background": "light"
     },
     "output_type": "display_data"
    },
    {
     "data": {
      "image/png": "[encoded data removed]",
      "text/plain": [
       "<Figure size 1800x360 with 2 Axes>"
      ]
     },
     "metadata": {
      "needs_background": "light"
     },
     "output_type": "display_data"
    },
    {
     "data": {
      "image/png": "[encoded data removed]",
      "text/plain": [
       "<Figure size 1800x360 with 2 Axes>"
      ]
     },
     "metadata": {
      "needs_background": "light"
     },
     "output_type": "display_data"
    },
    {
     "data": {
      "image/png": "[encoded data removed]",
      "text/plain": [
       "<Figure size 1800x360 with 2 Axes>"
      ]
     },
     "metadata": {
      "needs_background": "light"
     },
     "output_type": "display_data"
    },
    {
     "data": {
      "image/png": "[encoded data removed]",
      "text/plain": [
       "<Figure size 1800x360 with 2 Axes>"
      ]
     },
     "metadata": {
      "needs_background": "light"
     },
     "output_type": "display_data"
    },
    {
     "data": {
      "image/png": "[encoded data removed]",
      "text/plain": [
       "<Figure size 1800x360 with 2 Axes>"
      ]
     },
     "metadata": {
      "needs_background": "light"
     },
     "output_type": "display_data"
    }
   ],
   "source": [
    "# gaze angle threshold\n",
    "# angle_thres = np.pi/36 # 5 degree\n",
    "angle_thres = np.pi/18 # 10 degree\n",
    "\n",
    "# get the fps of the analyzed video\n",
    "fps = 30\n",
    "\n",
    "dates_list = [\"20220909\",\"20220912\",\"20220915\",\"20220920\",\"20220922\",\"20220923\",\"20221010\"]\n",
    "# dates_list = [\"20221010\"]\n",
    "ndates = np.shape(dates_list)[0]\n",
    "\n",
    "animal1_fixedorder = 'dodson'\n",
    "animal2_fixedorder = 'scorch'\n",
    "\n",
    "# aligned with the audio\n",
    "# get the session start time from \"videosound_bhv_sync.py/.ipynb\"\n",
    "# currently the session_start_time will be manually typed in. It can be updated after a better method is used\n",
    "session_start_times = [6.50,18.10,0,33.03,549.0,116.80,6.50] # in second\n",
    "# session_start_times = [6.50] # in second\n",
    "session_start_frames = session_start_times * fps # fps is 30Hz\n",
    "\n",
    "DAGs_all_dates = np.zeros((ndates,4,4))\n",
    "DAGs_thres_dates = np.zeros((ndates,4,4))\n",
    "ntempres_dates = np.zeros((ndates,1,1))\n",
    "\n",
    "for idate in np.arange(0,ndates,1):\n",
    "    date_tgt = dates_list[idate]\n",
    "    session_start_time = session_start_times[idate]\n",
    "    \n",
    "    # folder path\n",
    "    camera12_analyzed_path = \"/ysm-gpfs/pi/jadi/VideoTracker_SocialInter/test_video_3d/\"+date_tgt+\"_Dodson_Scorch_camera12/\"\n",
    "    camera23_analyzed_path = \"/ysm-gpfs/pi/jadi/VideoTracker_SocialInter/test_video_3d/\"+date_tgt+\"_Dodson_Scorch_camera23/\"\n",
    "    \n",
    "    \n",
    "    # load camera tracking results\n",
    "    try:\n",
    "        ## read\n",
    "        with open(camera23_analyzed_path + 'body_part_locs_camera23.pkl', 'rb') as f:\n",
    "            body_part_locs_camera23 = pickle.load(f) \n",
    "        with open(camera12_analyzed_path + 'body_part_locs_camera12.pkl', 'rb') as f:\n",
    "            body_part_locs_camera12 = pickle.load(f) \n",
    "    except:\n",
    "        print(\"did not save data\")\n",
    "    \n",
    "    \n",
    "    # load behavioral results\n",
    "    try:\n",
    "        bhv_data_path = \"/home/ws523/marmoset_tracking_bhv_data_from_task_code/\"+date_tgt+\"_Dodson_Scorch/\"\n",
    "        trial_record_json = bhv_data_path +date_tgt+\"_Scorch_Dodson_TrialRecord_1.json\"\n",
    "        bhv_data_json = bhv_data_path + date_tgt+\"_Scorch_Dodson_bhv_data_1.json\"\n",
    "        session_info_json = bhv_data_path + date_tgt+\"_Scorch_Dodson_session_info_1.json\"\n",
    "        #\n",
    "        trial_record = pd.read_json(trial_record_json)\n",
    "        bhv_data = pd.read_json(bhv_data_json)\n",
    "        session_info = pd.read_json(session_info_json)\n",
    "    except:\n",
    "        bhv_data_path = \"/home/ws523/marmoset_tracking_bhv_data_from_task_code/\"+date_tgt+\"_Dodson_Scorch/\"\n",
    "        trial_record_json = bhv_data_path + date_tgt+\"_Dodson_Scorch_TrialRecord_1.json\"\n",
    "        bhv_data_json = bhv_data_path + date_tgt+\"_Dodson_Scorch_bhv_data_1.json\"\n",
    "        session_info_json = bhv_data_path + date_tgt+\"_Dodson_Scorch_session_info_1.json\"\n",
    "        #\n",
    "        trial_record = pd.read_json(trial_record_json)\n",
    "        bhv_data = pd.read_json(bhv_data_json)\n",
    "        session_info = pd.read_json(session_info_json)\n",
    "    \n",
    "    # get animal info\n",
    "    animal1 = session_info['lever1_animal'][0].lower()\n",
    "    animal2 = session_info['lever2_animal'][0].lower()\n",
    "    \n",
    "    # clean up the trial_record\n",
    "    warnings.filterwarnings('ignore')\n",
    "    trial_record_clean = pd.DataFrame(columns=trial_record.columns)\n",
    "    for itrial in np.arange(0,np.max(trial_record['trial_number']),1):\n",
    "        # trial_record_clean.loc[itrial] = trial_record[trial_record['trial_number']==itrial+1].iloc[[0]]\n",
    "        trial_record_clean = trial_record_clean.append(trial_record[trial_record['trial_number']==itrial+1].iloc[[0]])\n",
    "    trial_record_clean = trial_record_clean.reset_index(drop = True)\n",
    "    \n",
    "    # change bhv_data time to the absolute time\n",
    "    time_points_new = pd.DataFrame(np.zeros(np.shape(bhv_data)[0]),columns=[\"time_points_new\"])\n",
    "    for itrial in np.arange(0,np.max(trial_record_clean['trial_number']),1):\n",
    "        ind = bhv_data[\"trial_number\"]==itrial+1\n",
    "        new_time_itrial = bhv_data[ind][\"time_points\"] + trial_record_clean[\"trial_starttime\"].iloc[itrial]\n",
    "        time_points_new[\"time_points_new\"][ind] = new_time_itrial\n",
    "    bhv_data[\"time_points\"] = time_points_new[\"time_points_new\"]\n",
    "    \n",
    "    \n",
    "    # load behavioral event results\n",
    "    try:\n",
    "        # load data\n",
    "        with open(camera23_analyzed_path + 'time_point_pull1.pkl', 'rb') as f:\n",
    "            time_point_pull1 = pickle.load(f) \n",
    "        with open(camera23_analyzed_path + 'time_point_pull2.pkl', 'rb') as f:\n",
    "            time_point_pull2 = pickle.load(f) \n",
    "        with open(camera23_analyzed_path + 'oneway_gaze1.pkl', 'rb') as f:\n",
    "            oneway_gaze1 = pickle.load(f) \n",
    "        with open(camera23_analyzed_path + 'oneway_gaze2.pkl', 'rb') as f:\n",
    "            oneway_gaze2 = pickle.load(f) \n",
    "        with open(camera23_analyzed_path + 'mutual_gaze1.pkl', 'rb') as f:\n",
    "            mutual_gaze1 = pickle.load(f) \n",
    "        with open(camera23_analyzed_path + 'mutual_gaze2.pkl', 'rb') as f:\n",
    "            mutual_gaze2 = pickle.load(f) \n",
    "    except:\n",
    "        # Align the two pairs of camera\n",
    "        RR_sum, tt_sum, err_sum = camera_align(body_part_locs_camera23, body_part_locs_camera12)\n",
    "    \n",
    "        # Merge two pairs of camera\n",
    "        body_part_locs_merge = camera_merge(body_part_locs_camera23, body_part_locs_camera12, RR_sum, tt_sum, err_sum)\n",
    "    \n",
    "        # get social gaze information \n",
    "        eye_direction_merge, eye_contact_or_not_merge, look_at_face_or_not_merge = find_socialgaze_timepoint(body_part_locs_camera23, body_part_locs_camera12, body_part_locs_merge, angle_thres)\n",
    "        # change the unit to second\n",
    "        session_start_time = session_start_times[idate]\n",
    "        eye_direction_merge['time_in_second'] = np.arange(0,np.shape(eye_direction_merge['dodson'])[0],1)/fps - session_start_time\n",
    "        eye_contact_or_not_merge['time_in_second'] = np.arange(0,np.shape(eye_contact_or_not_merge['dodson'])[0],1)/fps - session_start_time\n",
    "        look_at_face_or_not_merge['time_in_second'] = np.arange(0,np.shape(look_at_face_or_not_merge['dodson'])[0],1)/fps - session_start_time \n",
    "  \n",
    "        # fine time point of behavioral events\n",
    "        time_point_pull1, time_point_pull2, oneway_gaze1, oneway_gaze2, mutual_gaze1, mutual_gaze2 = bhv_events_timepoint(bhv_data, eye_direction_merge, eye_contact_or_not_merge, look_at_face_or_not_merge)\n",
    "        # save data\n",
    "        with open(camera23_analyzed_path + 'time_point_pull1.pkl', 'wb') as f:\n",
    "            pickle.dump(time_point_pull1, f)\n",
    "        with open(camera23_analyzed_path + 'time_point_pull2.pkl', 'wb') as f:\n",
    "            pickle.dump(time_point_pull2, f)\n",
    "        with open(camera23_analyzed_path + 'oneway_gaze1.pkl', 'wb') as f:\n",
    "            pickle.dump(oneway_gaze1, f)\n",
    "        with open(camera23_analyzed_path + 'oneway_gaze2.pkl', 'wb') as f:\n",
    "            pickle.dump(oneway_gaze2, f)\n",
    "        with open(camera23_analyzed_path + 'mutual_gaze1.pkl', 'wb') as f:\n",
    "            pickle.dump(mutual_gaze1, f)\n",
    "        with open(camera23_analyzed_path + 'mutual_gaze2.pkl', 'wb') as f:\n",
    "            pickle.dump(mutual_gaze2, f)\n",
    "    \n",
    "    \n",
    "    # # plot behavioral events\n",
    "    if animal1 == animal1_fixedorder:\n",
    "        plot_bhv_events(animal1, animal2, session_start_time, time_point_pull1, time_point_pull2, oneway_gaze1, oneway_gaze2, mutual_gaze1, mutual_gaze2)\n",
    "    else:\n",
    "        plot_bhv_events(animal2, animal1, session_start_time, time_point_pull2, time_point_pull1, oneway_gaze2, oneway_gaze1, mutual_gaze2, mutual_gaze1)\n",
    "        \n",
    "    # # plot inter-pull interval\n",
    "    # plot_interpull_interval(animal1, animal2, time_point_pull1, time_point_pull2)\n",
    "    \n",
    "    # # train the dynamic bayesian network - simple model\n",
    "    # temp_resolu = 0.5 # temporala resolution in the DBN model 0.5 means 500ms\n",
    "    # model = train_DBN(totalsess_time,temp_resolu, time_point_pull1, time_point_pull2, oneway_gaze1, oneway_gaze2, mutual_gaze1, mutual_gaze2)\n",
    "    # plot the simple DBN\n",
    "    # pos=nx.spring_layout(model)\n",
    "    # nx.draw(model,pos,with_labels = True)\n",
    "    # labels = nx.get_edge_attributes(model,'weight')\n",
    "    # nx.draw_networkx_edge_labels(model,pos,edge_labels=labels\n",
    "    # model.get_cpds()\n",
    "    \n",
    "    # # train the dynamic bayesian network - Alec's model\n",
    "    # temp_resolu = 2 # temporal resolution in the DBN model, eg: 0.5 means 500ms\n",
    "    # totalsess_time = 660 # total session time in s\n",
    "    # best_model, edges, DAGs,_,_,_ = train_DBN_alec(totalsess_time, temp_resolu, time_point_pull1, time_point_pull2, oneway_gaze1, oneway_gaze2, mutual_gaze1, mutual_gaze2)\n",
    "    \n",
    "    # # train the dynamic bayesian network - Alec's model for separate \"trials\"\n",
    "    # temp_resolu = 2 # temporala resolution in the DBN model 0.5 means 500ms\n",
    "    # totalsess_time = 600 # total session time in s\n",
    "    # DAGs_itrial, weighted_graphs,_,_,_ = train_DBN_alec_eachtrial(totalsess_time, temp_resolu, time_point_pull1, time_point_pull2, oneway_gaze1, oneway_gaze2, mutual_gaze1, mutual_gaze2)\n",
    "    \n",
    "    # # train the dynamic bayesian network - Alec's model, try different time step\n",
    "    # temp_resolus = [0.5,1,1.5,2,2.5,3,3.5,4,4.5,5,5.5,6,6.5,7,7.5,8,8.5] # temporal resolution in the DBN model, eg: 0.5 means 500ms\n",
    "    # use bhv event to decide temporal resolution\n",
    "    totalsess_time = 660 # total session time in s\n",
    "    low_lim, up_lim = bhv_events_interval(totalsess_time, time_point_pull1, time_point_pull2, oneway_gaze1, oneway_gaze2, mutual_gaze1, mutual_gaze2)\n",
    "    temp_resolus = temp_resolus = np.arange(low_lim,up_lim,0.5)\n",
    "    \n",
    "    ntemp_reses = np.shape(temp_resolus)[0]\n",
    "    \n",
    "    DAGs_all_tempres = np.zeros([4,4])\n",
    "    for temp_resolu in temp_resolus:\n",
    "        if animal1 == animal1_fixedorder:\n",
    "            best_model,edges,DAGs,eventnames,from_pops,to_pops = train_DBN_alec(totalsess_time, temp_resolu, time_point_pull1, time_point_pull2, oneway_gaze1, oneway_gaze2, mutual_gaze1, mutual_gaze2)\n",
    "        else:\n",
    "            best_model,edges,DAGs,eventnames,from_pops,to_pops = train_DBN_alec(totalsess_time, temp_resolu, time_point_pull2, time_point_pull1, oneway_gaze2, oneway_gaze1, mutual_gaze2, mutual_gaze1)     \n",
    "        print(edges)\n",
    "        DAGs_all_tempres = DAGs_all_tempres + DAGs[0]\n",
    "    DAGs_all_tempres = DAGs_all_tempres/ntemp_reses\n",
    "    DAGs_thres_tempres = np.zeros([4,4])\n",
    "    DAGs_thres_tempres[DAGs_all_tempres>0.5]=1\n",
    "    #\n",
    "    DAGs_all_dates[idate,:,:]= DAGs_all_tempres\n",
    "    DAGs_thres_dates[idate,:,:] = DAGs_thres_tempres\n",
    "    ntempres_dates[idate,:,:] = ntemp_reses\n",
    "    #\n",
    "    edge_list = [(from_pop,to_pop) for from_pop in from_pops for to_pop in to_pops]\n",
    "    ind_edges = np.reshape(np.transpose(np.mean(DAGs_thres_dates,axis=0)>0.15),(16,1))\n",
    "    edges_good = [edge_list[i] for i in np.where(ind_edges)[0]]"
   ]
  },
  {
   "cell_type": "markdown",
   "id": "81286b9a",
   "metadata": {},
   "source": [
    "### plot transition probability from social gaze to pull"
   ]
  },
  {
   "cell_type": "code",
   "execution_count": 35,
   "id": "207701ce",
   "metadata": {},
   "outputs": [
    {
     "data": {
      "image/png": "[encoded data removed]",
      "text/plain": [
       "<Figure size 720x360 with 1 Axes>"
      ]
     },
     "metadata": {
      "needs_background": "light"
     },
     "output_type": "display_data"
    }
   ],
   "source": [
    "fig = plt.figure(figsize=(10, 5))\n",
    "plt.plot(DAGs_all_dates[:,2,0],'o-',label = \"socialgaze1->pull1\")\n",
    "plt.plot(DAGs_all_dates[:,2,1],'o-',label = \"socialgaze1->pull2\")\n",
    "plt.plot(DAGs_all_dates[:,3,0],'o-',label = \"socialgaze2->pull1\")\n",
    "plt.plot(DAGs_all_dates[:,3,1],'o-',label = \"socialgaze2->pull2\")\n",
    "plt.legend(fontsize=12)\n",
    "plt.xticks(np.arange(0,ndates,1),dates_list, rotation=90,fontsize=10)\n",
    "plt.yticks(fontsize=10)\n",
    "plt.ylim(-0.1,1.1)\n",
    "plt.ylabel(\"transition probability\",fontsize=13)\n",
    "plt.title(\"transition probability from social gaze to pull\", fontsize = 14)\n",
    "plt.show()"
   ]
  },
  {
   "cell_type": "markdown",
   "id": "1078cf9a",
   "metadata": {},
   "source": [
    "### plot the transition probability from pull to social gaze"
   ]
  },
  {
   "cell_type": "code",
   "execution_count": 37,
   "id": "bd26b0c2",
   "metadata": {},
   "outputs": [
    {
     "data": {
      "image/png": "[encoded data removed]",
      "text/plain": [
       "<Figure size 720x360 with 1 Axes>"
      ]
     },
     "metadata": {
      "needs_background": "light"
     },
     "output_type": "display_data"
    }
   ],
   "source": [
    "fig = plt.figure(figsize=(10, 5))\n",
    "plt.plot(DAGs_all_dates[:,0,2],'o-',label = \"pull1->socialgaze1\")\n",
    "plt.plot(DAGs_all_dates[:,1,2],'o-',label = \"pull2->socialgaze1\")\n",
    "plt.plot(DAGs_all_dates[:,0,3],'o-',label = \"pull1->socialgaze2\")\n",
    "plt.plot(DAGs_all_dates[:,1,3],'o-',label = \"pull2->socialgaze2\")\n",
    "plt.legend(fontsize=12)\n",
    "plt.xticks(np.arange(0,ndates,1),dates_list, rotation=90,fontsize=10)\n",
    "plt.yticks(fontsize=10)\n",
    "plt.ylim(-0.1,1.1)\n",
    "plt.ylabel(\"transition probability\",fontsize=13)\n",
    "plt.title(\"transition probability from pull to social gaze\", fontsize = 14)\n",
    "plt.show()"
   ]
  },
  {
   "cell_type": "markdown",
   "id": "006b4888",
   "metadata": {},
   "source": [
    "### plot the transition probability from pull to pull"
   ]
  },
  {
   "cell_type": "code",
   "execution_count": 38,
   "id": "cbbc2d3e",
   "metadata": {},
   "outputs": [
    {
     "data": {
      "image/png": "[encoded data removed]",
      "text/plain": [
       "<Figure size 720x360 with 1 Axes>"
      ]
     },
     "metadata": {
      "needs_background": "light"
     },
     "output_type": "display_data"
    }
   ],
   "source": [
    "fig = plt.figure(figsize=(10, 5))\n",
    "plt.plot(DAGs_all_dates[:,0,0],'o-',label = \"pull1->pull1\")\n",
    "plt.plot(DAGs_all_dates[:,1,1],'o-',label = \"pull2->pull2\")\n",
    "plt.plot(DAGs_all_dates[:,0,1],'o-',label = \"pull1->pull2\")\n",
    "plt.plot(DAGs_all_dates[:,1,0],'o-',label = \"pull2->pull1\")\n",
    "plt.legend(fontsize=12)\n",
    "plt.xticks(np.arange(0,ndates,1),dates_list, rotation=90,fontsize=10)\n",
    "plt.yticks(fontsize=10)\n",
    "plt.ylim(-0.1,1.1)\n",
    "plt.ylabel(\"transition probability\",fontsize=13)\n",
    "plt.title(\"transition probability from pull to pull\", fontsize = 14)\n",
    "plt.show()"
   ]
  },
  {
   "cell_type": "markdown",
   "id": "889ff0ee",
   "metadata": {},
   "source": [
    "### plot the transition probability from social gaze to social gaze"
   ]
  },
  {
   "cell_type": "code",
   "execution_count": 39,
   "id": "af20b1b9",
   "metadata": {},
   "outputs": [
    {
     "data": {
      "image/png": "[encoded data removed]",
      "text/plain": [
       "<Figure size 720x360 with 1 Axes>"
      ]
     },
     "metadata": {
      "needs_background": "light"
     },
     "output_type": "display_data"
    }
   ],
   "source": [
    "fig = plt.figure(figsize=(10, 5))\n",
    "plt.plot(DAGs_all_dates[:,2,2],'o-',label = \"socialgaze1->socialgaze1\")\n",
    "plt.plot(DAGs_all_dates[:,3,3],'o-',label = \"socialgaze2->socialgaze2\")\n",
    "plt.plot(DAGs_all_dates[:,2,3],'o-',label = \"socialgaze1->socialgaze2\")\n",
    "plt.plot(DAGs_all_dates[:,3,2],'o-',label = \"socialgaze2->socialgaze1\")\n",
    "plt.legend(fontsize=12)\n",
    "plt.xticks(np.arange(0,ndates,1),dates_list, rotation=90,fontsize=10)\n",
    "plt.yticks(fontsize=10)\n",
    "plt.ylim(-0.1,1.1)\n",
    "plt.ylabel(\"transition probability\",fontsize=13)\n",
    "plt.title(\"transition probability from social gaze to social gaze\", fontsize = 14)\n",
    "plt.show()"
   ]
  },
  {
   "cell_type": "code",
   "execution_count": 31,
   "id": "90c618d1",
   "metadata": {},
   "outputs": [
    {
     "data": {
      "text/plain": [
       "array([[0.40804477, 0.09471171, 0.0241861 , 0.09867151],\n",
       "       [0.09758045, 0.43272321, 0.02518739, 0.00357143],\n",
       "       [0.05030822, 0.01478261, 0.20921914, 0.04291069],\n",
       "       [0.04816008, 0.13454571, 0.0345757 , 0.07170713]])"
      ]
     },
     "execution_count": 31,
     "metadata": {},
     "output_type": "execute_result"
    }
   ],
   "source": [
    "DAGs_all_dates.mean(axis=0)"
   ]
  },
  {
   "cell_type": "code",
   "execution_count": null,
   "id": "395a6e5e",
   "metadata": {},
   "outputs": [],
   "source": []
  },
  {
   "cell_type": "code",
   "execution_count": null,
   "id": "0d9c1e16",
   "metadata": {},
   "outputs": [],
   "source": []
  }
 ],
 "metadata": {
  "kernelspec": {
   "display_name": "Python 3 (ipykernel)",
   "language": "python",
   "name": "python3"
  },
  "language_info": {
   "codemirror_mode": {
    "name": "ipython",
    "version": 3
   },
   "file_extension": ".py",
   "mimetype": "text/x-python",
   "name": "python",
   "nbconvert_exporter": "python",
   "pygments_lexer": "ipython3",
   "version": "3.8.6"
  }
 },
 "nbformat": 4,
 "nbformat_minor": 5
}
