{
 "cells": [
  {
   "cell_type": "code",
   "execution_count": 1,
   "id": "f1849ae6",
   "metadata": {},
   "outputs": [],
   "source": [
    "import pandas as pd\n",
    "import numpy as np\n",
    "import matplotlib.pyplot as plt\n",
    "import scipy\n",
    "import string\n",
    "import warnings\n",
    "import pickle\n",
    "from pgmpy.models import BayesianModel\n",
    "from pgmpy.models import DynamicBayesianNetwork as DBN\n",
    "from pgmpy.estimators import BayesianEstimator\n",
    "from pgmpy.estimators import HillClimbSearch,BicScore\n",
    "import networkx as nx"
   ]
  },
  {
   "cell_type": "markdown",
   "id": "d6ae6f98",
   "metadata": {},
   "source": [
    "### function - align the two cameras"
   ]
  },
  {
   "cell_type": "code",
   "execution_count": 2,
   "id": "31b03438",
   "metadata": {},
   "outputs": [],
   "source": [
    "def camera_align(body_part_locs_camera23, body_part_locs_camera12):\n",
    "# try the rotation on all possible pairs\n",
    "    animal_names_unique = pd.unique(pd.DataFrame(body_part_locs_camera23.keys()).iloc[:,0])\n",
    "    body_parts_unique = pd.unique(pd.DataFrame(body_part_locs_camera23.keys()).iloc[:,1])\n",
    "    \n",
    "    RR_sum = {}\n",
    "    tt_sum = {}\n",
    "    err_sum = {}\n",
    "    for iname in animal_names_unique:\n",
    "        for ibody in body_parts_unique:\n",
    "            xxx = body_part_locs_camera23[(iname,ibody)]\n",
    "            yyy = body_part_locs_camera12[(iname,ibody)]\n",
    "            min_length = np.min([xxx.shape[0],yyy.shape[0]])\n",
    "        \n",
    "            xxx = xxx.loc[np.arange(0,min_length,1),:]\n",
    "            yyy = yyy.loc[np.arange(0,min_length,1),:]     \n",
    "        \n",
    "            ind_good = (~np.isnan(xxx.iloc[:,0]) & ~np.isnan(xxx.iloc[:,1]) & ~np.isnan(xxx.iloc[:,2])) & (~np.isnan(yyy.iloc[:,0]) & ~np.isnan(yyy.iloc[:,1]) & ~np.isnan(yyy.iloc[:,2])) \n",
    "            xxx_values = pd.DataFrame.transpose(xxx.loc[ind_good,:]).values\n",
    "            yyy_values = pd.DataFrame.transpose(yyy.loc[ind_good,:]).values\n",
    "        \n",
    "            xxx_centroid = np.dot(np.mean(xxx_values,axis = 1).reshape(3,1), np.ones((1,np.shape(xxx_values)[1])))\n",
    "            yyy_centroid = np.dot(np.mean(yyy_values,axis = 1).reshape(3,1), np.ones((1,np.shape(xxx_values)[1])))\n",
    "            HH = np.dot((xxx_values - xxx_centroid), np.transpose(yyy_values - yyy_centroid))\n",
    "            u, s, vh = np.linalg.svd(HH, full_matrices=True)\n",
    "            RR = np.dot(np.transpose(vh),np.transpose(u))\n",
    "            tt= yyy_centroid - np.dot(RR,xxx_centroid)\n",
    "            tt = tt[:,1].reshape(3,1)\n",
    "        \n",
    "            RR_sum[(iname,ibody)] = RR\n",
    "            tt_sum[(iname,ibody)] = tt\n",
    "            err_sum[(iname,ibody)] = np.sum(np.square(yyy_values - (np.dot(RR,xxx_values)+np.dot(tt, np.ones((1,np.shape(xxx_values)[1]))))))\n",
    "    \n",
    "    return RR_sum, tt_sum, err_sum"
   ]
  },
  {
   "cell_type": "markdown",
   "id": "494356c2",
   "metadata": {},
   "source": [
    "### function - merge the two pairs of cameras"
   ]
  },
  {
   "cell_type": "code",
   "execution_count": 3,
   "id": "3bda6cfa",
   "metadata": {},
   "outputs": [],
   "source": [
    "def camera_merge(body_part_locs_camera23, body_part_locs_camera12, RR_sum, tt_sum, err_sum):\n",
    "# merge the two pairs of cameras\n",
    "    animal_names_unique = pd.unique(pd.DataFrame(body_part_locs_camera23.keys()).iloc[:,0])\n",
    "    body_parts_unique = pd.unique(pd.DataFrame(body_part_locs_camera23.keys()).iloc[:,1])\n",
    "    \n",
    "    body_part_locs_merge = {}\n",
    "    for iname in animal_names_unique:\n",
    "        for ibody in body_parts_unique:\n",
    "            xxx = body_part_locs_camera23[(iname,ibody)]\n",
    "            yyy = body_part_locs_camera12[(iname,ibody)]\n",
    "            min_length = np.min([xxx.shape[0],yyy.shape[0]])\n",
    "            \n",
    "            # RR = RR_sum[min(err_sum, key=err_sum.get)]\n",
    "            # tt = tt_sum[min(err_sum, key=err_sum.get)]\n",
    "            RR = RR_sum[(iname,ibody)]\n",
    "            tt = tt_sum[(iname,ibody)]\n",
    "            body_part_x = np.transpose(xxx.loc[np.arange(0,min_length,1),:])\n",
    "            body_part_project = np.transpose(np.dot(RR,body_part_x) + np.dot(tt, np.ones((1,np.shape(body_part_x)[1]))))\n",
    "            body_part_origin = yyy.loc[np.arange(0,min_length,1),:].values\n",
    "            body_part_origin[np.sum(np.isnan(body_part_origin),axis=1)>0,:] = body_part_project[np.sum(np.isnan(body_part_origin),axis=1)>0,:]\n",
    "            #\n",
    "            body_part_locs_merge[(iname,ibody)] = body_part_origin\n",
    "    \n",
    "    return body_part_locs_merge"
   ]
  },
  {
   "cell_type": "markdown",
   "id": "23dc7f6a",
   "metadata": {},
   "source": [
    "### function - find social gaze time point"
   ]
  },
  {
   "cell_type": "code",
   "execution_count": 4,
   "id": "71f6ec00",
   "metadata": {},
   "outputs": [],
   "source": [
    "def find_socialgaze_timepoint(body_part_locs_camera23, body_part_locs_camera12, body_part_locs_merge, angle_thres):\n",
    "    \n",
    "    animal_names_unique = pd.unique(pd.DataFrame(body_part_locs_camera23.keys()).iloc[:,0])\n",
    "    body_parts_unique = pd.unique(pd.DataFrame(body_part_locs_camera23.keys()).iloc[:,1])\n",
    "    min_length = np.min([list(body_part_locs_camera23.values())[0].shape[0],list(body_part_locs_camera12.values())[0].shape[0]])\n",
    "\n",
    "    warnings.filterwarnings('ignore')\n",
    "    eye_direction_merge = {}\n",
    "    eye_contact_or_not_merge = {}\n",
    "    look_at_face_or_not_merge = {}\n",
    "    \n",
    "    for iname in animal_names_unique:\n",
    "        eye_dir_frames = []\n",
    "        eye_contact_frames = []\n",
    "        look_at_face_frames = []\n",
    "        \n",
    "        for iframe in np.arange(0,min_length,1):\n",
    "            lefteye_loc = body_part_locs_merge[(iname,'leftEye')][iframe,:]\n",
    "            righteye_loc = body_part_locs_merge[(iname,'rightEye')][iframe,:]\n",
    "            lefttuft_loc = body_part_locs_merge[(iname,'leftTuft')][iframe,:]\n",
    "            righttuft_loc = body_part_locs_merge[(iname,'rightTuft')][iframe,:]\n",
    "            whiblz_loc = body_part_locs_merge[(iname,'whiteBlaze')][iframe,:]\n",
    "            mouth_loc = body_part_locs_merge[(iname,'mouth')][iframe,:]\n",
    "        \n",
    "            Vect1 = lefteye_loc - righteye_loc\n",
    "            Vect2 = whiblz_loc - mouth_loc\n",
    "            Vect3 = lefttuft_loc - lefteye_loc\n",
    "            Vect4 = righttuft_loc - righteye_loc\n",
    "        \n",
    "            try:       \n",
    "                Vect1 = Vect1 / scipy.linalg.norm(Vect1)\n",
    "                Vect2 = Vect2 / scipy.linalg.norm(Vect2) \n",
    "            except:\n",
    "                Vect1 = Vect1\n",
    "                Vect2 = Vect2\n",
    "            eyesight_dir = np.cross(Vect1, Vect2)\n",
    "        \n",
    "            if ((np.dot(eyesight_dir, Vect3)>0) | (np.dot(eyesight_dir, Vect4)>0)):\n",
    "                eyesight_dir = -eyesight_dir\n",
    "        \n",
    "            eye_dir_frames.append(eyesight_dir)      \n",
    "        \n",
    "            # examine whether this animal is looking at the other's eyes or face\n",
    "            if (iname == animal_names_unique[0]): \n",
    "                iname_other = animal_names_unique[1]\n",
    "            elif (iname == animal_names_unique[1]): \n",
    "                iname_other = animal_names_unique[0]\n",
    "            \n",
    "            lefteye_loc_other = body_part_locs_merge[(iname_other,'leftEye')][iframe,:]\n",
    "            righteye_loc_other = body_part_locs_merge[(iname_other,'rightEye')][iframe,:]\n",
    "            lefttuft_loc_other = body_part_locs_merge[(iname_other,'leftTuft')][iframe,:]\n",
    "            righttuft_loc_other = body_part_locs_merge[(iname_other,'rightTuft')][iframe,:]\n",
    "            whiblz_loc_other = body_part_locs_merge[(iname_other,'whiteBlaze')][iframe,:]\n",
    "            mouth_loc_other = body_part_locs_merge[(iname_other,'mouth')][iframe,:]\n",
    "        \n",
    "            # where left eye is looking\n",
    "            # vector between body part\n",
    "            vect1_lefteye = lefteye_loc_other - lefteye_loc\n",
    "            vect2_lefteye = righteye_loc_other - lefteye_loc\n",
    "            vect3_lefteye = lefttuft_loc_other - lefteye_loc\n",
    "            vect4_lefteye = righttuft_loc_other - lefteye_loc\n",
    "            vect5_lefteye = whiblz_loc_other - lefteye_loc\n",
    "            vect6_lefteye = mouth_loc_other - lefteye_loc\n",
    "            # angle between body part vector and eyesight direction\n",
    "            angle1_lefteye =  np.sign(np.dot(eyesight_dir,vect1_lefteye))*np.arccos(np.clip(np.dot(eyesight_dir/np.linalg.norm(eyesight_dir), vect1_lefteye/np.linalg.norm(vect1_lefteye)), -1.0, 1.0))       \n",
    "            angle2_lefteye =  np.sign(np.dot(eyesight_dir,vect2_lefteye))*np.arccos(np.clip(np.dot(eyesight_dir/np.linalg.norm(eyesight_dir), vect2_lefteye/np.linalg.norm(vect2_lefteye)), -1.0, 1.0))\n",
    "            angle3_lefteye =  np.sign(np.dot(eyesight_dir,vect3_lefteye))*np.arccos(np.clip(np.dot(eyesight_dir/np.linalg.norm(eyesight_dir), vect3_lefteye/np.linalg.norm(vect3_lefteye)), -1.0, 1.0))\n",
    "            angle4_lefteye =  np.sign(np.dot(eyesight_dir,vect4_lefteye))*np.arccos(np.clip(np.dot(eyesight_dir/np.linalg.norm(eyesight_dir), vect4_lefteye/np.linalg.norm(vect4_lefteye)), -1.0, 1.0))\n",
    "            angle5_lefteye =  np.sign(np.dot(eyesight_dir,vect5_lefteye))*np.arccos(np.clip(np.dot(eyesight_dir/np.linalg.norm(eyesight_dir), vect5_lefteye/np.linalg.norm(vect5_lefteye)), -1.0, 1.0))\n",
    "            angle6_lefteye =  np.sign(np.dot(eyesight_dir,vect6_lefteye))*np.arccos(np.clip(np.dot(eyesight_dir/np.linalg.norm(eyesight_dir), vect6_lefteye/np.linalg.norm(vect6_lefteye)), -1.0, 1.0))\n",
    "        \n",
    "            # where right eye is looking\n",
    "            # vector between body part\n",
    "            vect1_righteye = lefteye_loc_other - righteye_loc\n",
    "            vect2_righteye = righteye_loc_other - righteye_loc\n",
    "            vect3_righteye = lefttuft_loc_other - righteye_loc\n",
    "            vect4_righteye = righttuft_loc_other - righteye_loc\n",
    "            vect5_righteye = whiblz_loc_other - righteye_loc\n",
    "            vect6_righteye = mouth_loc_other - righteye_loc\n",
    "            # angle between body part vector and eyesight direction\n",
    "            angle1_righteye =  np.sign(np.dot(eyesight_dir,vect1_righteye))*np.arccos(np.clip(np.dot(eyesight_dir/np.linalg.norm(eyesight_dir), vect1_righteye/np.linalg.norm(vect1_righteye)), -1.0, 1.0))       \n",
    "            angle2_righteye =  np.sign(np.dot(eyesight_dir,vect2_righteye))*np.arccos(np.clip(np.dot(eyesight_dir/np.linalg.norm(eyesight_dir), vect2_righteye/np.linalg.norm(vect2_righteye)), -1.0, 1.0))\n",
    "            angle3_righteye =  np.sign(np.dot(eyesight_dir,vect3_righteye))*np.arccos(np.clip(np.dot(eyesight_dir/np.linalg.norm(eyesight_dir), vect3_righteye/np.linalg.norm(vect3_righteye)), -1.0, 1.0))\n",
    "            angle4_righteye =  np.sign(np.dot(eyesight_dir,vect4_righteye))*np.arccos(np.clip(np.dot(eyesight_dir/np.linalg.norm(eyesight_dir), vect4_righteye/np.linalg.norm(vect4_righteye)), -1.0, 1.0))\n",
    "            angle5_righteye =  np.sign(np.dot(eyesight_dir,vect5_righteye))*np.arccos(np.clip(np.dot(eyesight_dir/np.linalg.norm(eyesight_dir), vect5_righteye/np.linalg.norm(vect5_righteye)), -1.0, 1.0))\n",
    "            angle6_righteye =  np.sign(np.dot(eyesight_dir,vect6_righteye))*np.arccos(np.clip(np.dot(eyesight_dir/np.linalg.norm(eyesight_dir), vect6_righteye/np.linalg.norm(vect6_righteye)), -1.0, 1.0))\n",
    "        \n",
    "            lefteye_contact_thres = ((angle1_lefteye>0)&(angle1_lefteye<angle_thres))|((angle2_lefteye>0)&(angle2_lefteye<angle_thres))\n",
    "            lefteye_lookface_thres = ((angle3_lefteye>0)&(angle3_lefteye<angle_thres))|((angle4_lefteye>0)&(angle4_lefteye<angle_thres))|((angle5_lefteye>0)&(angle5_lefteye<angle_thres))|((angle6_lefteye>0)&(angle6_lefteye<angle_thres))\n",
    "            righteye_contact_thres = ((angle1_righteye>0)&(angle1_righteye<angle_thres))|((angle2_righteye>0)&(angle2_righteye<angle_thres))\n",
    "            righteye_lookface_thres = ((angle3_righteye>0)&(angle3_righteye<angle_thres))|((angle4_righteye>0)&(angle4_righteye<angle_thres))|((angle5_righteye>0)&(angle5_righteye<angle_thres))|((angle6_righteye>0)&(angle6_righteye<angle_thres))\n",
    "        \n",
    "            eye_contact_frames.append(np.int(lefteye_contact_thres|righteye_contact_thres))\n",
    "            look_at_face_frames.append(np.int(lefteye_contact_thres|righteye_contact_thres|lefteye_lookface_thres|righteye_lookface_thres))\n",
    "        \n",
    "        # save to the summarized data\n",
    "        eye_direction_merge[(iname)] = eye_dir_frames\n",
    "        eye_contact_or_not_merge[(iname)] = eye_contact_frames\n",
    "        look_at_face_or_not_merge[(iname)] = look_at_face_frames\n",
    "        \n",
    "    return eye_direction_merge, eye_contact_or_not_merge, look_at_face_or_not_merge\n",
    "        "
   ]
  },
  {
   "cell_type": "markdown",
   "id": "0dd7e75b",
   "metadata": {},
   "source": [
    "### Define time point of behavioral events"
   ]
  },
  {
   "cell_type": "code",
   "execution_count": 5,
   "id": "1dfb672f",
   "metadata": {},
   "outputs": [],
   "source": [
    "def bhv_events_timepoint(bhv_data, eye_direction_merge, eye_contact_or_not_merge, look_at_face_or_not_merge):\n",
    "    time_point_pull1 = bhv_data[\"time_points\"][bhv_data[\"behavior_events\"]==1]\n",
    "    time_point_pull2 = bhv_data[\"time_points\"][bhv_data[\"behavior_events\"]==2]\n",
    "    ind_lookatotherface1 = np.where(np.array(look_at_face_or_not_merge[animal1])==1)\n",
    "    time_point_lookatotherface1 = look_at_face_or_not_merge[\"time_in_second\"][ind_lookatotherface1]\n",
    "    ind_lookatotherface2 = np.where(np.array(look_at_face_or_not_merge[animal2])==1)\n",
    "    time_point_lookatotherface2 = look_at_face_or_not_merge[\"time_in_second\"][ind_lookatotherface2]\n",
    "\n",
    "    ind_eyecontact1 = np.where(np.array(eye_contact_or_not_merge[animal1])==1)\n",
    "    time_point_eyecontact1 = eye_contact_or_not_merge[\"time_in_second\"][ind_eyecontact1]\n",
    "    ind_eyecontact2 = np.where(np.array(eye_contact_or_not_merge[animal2])==1)\n",
    "    time_point_eyecontact2 = eye_contact_or_not_merge[\"time_in_second\"][ind_eyecontact2]\n",
    "\n",
    "    # calculate the oneway gaze or mutual gaze\n",
    "    animal1_gaze = np.round(np.concatenate((time_point_eyecontact1,time_point_lookatotherface1)),1)\n",
    "    animal1_gaze = np.unique(np.sort(animal1_gaze))\n",
    "    animal2_gaze = np.round(np.concatenate((time_point_eyecontact2,time_point_lookatotherface2)),1)\n",
    "    animal2_gaze = np.unique(np.sort(animal2_gaze))\n",
    "\n",
    "    ngaze1 = len(animal1_gaze)\n",
    "    ngaze2 = len(animal2_gaze)\n",
    "    oneway_gaze1 = []\n",
    "    oneway_gaze2 = []\n",
    "    mutual_gaze1 = []\n",
    "    mutual_gaze2 = []\n",
    "    # \n",
    "    for igaze1 in np.arange(0, ngaze1, 1):\n",
    "        for igaze2 in np.arange(0,ngaze2,1):\n",
    "            if abs(animal1_gaze[igaze1]-animal2_gaze[igaze2])<1:\n",
    "                mutual_gaze1.append(animal1_gaze[igaze1])\n",
    "                mutual_gaze2.append(animal2_gaze[igaze2])\n",
    "    mutual_gaze1 = np.unique(mutual_gaze1)   \n",
    "    mutual_gaze2 = np.unique(mutual_gaze2)\n",
    "    oneway_gaze1 = animal1_gaze[~np.isin(animal1_gaze,mutual_gaze1)]\n",
    "    oneway_gaze2 = animal2_gaze[~np.isin(animal2_gaze,mutual_gaze2)]\n",
    "    \n",
    "    time_point_pull1 = np.round(time_point_pull1,2)\n",
    "    time_point_pull2 = np.round(time_point_pull2,2)\n",
    "    \n",
    "    return time_point_pull1, time_point_pull2, oneway_gaze1, oneway_gaze2, mutual_gaze1, mutual_gaze2"
   ]
  },
  {
   "cell_type": "markdown",
   "id": "0ef4ab8c",
   "metadata": {},
   "source": [
    "### plot behavioral events"
   ]
  },
  {
   "cell_type": "code",
   "execution_count": 6,
   "id": "eb2ba678",
   "metadata": {},
   "outputs": [],
   "source": [
    "def plot_bhv_events(animal1, animal2, session_start_time, time_point_pull1, time_point_pull2, oneway_gaze1, oneway_gaze2, mutual_gaze1, mutual_gaze2):\n",
    "    fig, axs = plt.subplots(2,1)\n",
    "    fig.set_figheight(5)\n",
    "    fig.set_figwidth(25)\n",
    "    # plot for animal 1\n",
    "    ind_plot = time_point_pull1 < (720 - session_start_time)\n",
    "    #for itime in np.arange(0,720,1):\n",
    "    #    plt.plot([itime,itime],[0,1],linewidth = 2.0,color=(0.5,0.5,0.5))\n",
    "    for itime in time_point_pull1[ind_plot]:\n",
    "        line1, = axs[0].plot([itime,itime],[0,1],linewidth = 2.0,color=(0.0,0.5,0.5),label = 'lever pull')\n",
    "    try:\n",
    "        for itime in oneway_gaze1:\n",
    "            line2, = axs[0].plot([itime,itime],[0,1],linewidth = 2.0,color=(0.5,0.0,0.5),label = 'one-way gaze')  \n",
    "    except:\n",
    "        print(\"no oneway gaze\")\n",
    "    try:\n",
    "        for itime in mutual_gaze1:\n",
    "            line3, = axs[0].plot([itime,itime],[0,1],linewidth = 2.0,color=(0.5,0.5,0.0),label = 'mutual gaze')  \n",
    "    except:\n",
    "        print(\"no mutual gaze\")\n",
    "    axs[0].set_title(animal1,fontsize = 18)\n",
    "    axs[0].set_xlim([-10,700])\n",
    "    axs[0].set_xlabel(\"\")\n",
    "    axs[0].set_xticklabels(\"\")\n",
    "    axs[0].set_yticklabels(\"\")\n",
    "    try:\n",
    "        axs[0].legend(handles=[line1,line2,line3], fontsize = 13)\n",
    "    except:\n",
    "        try: \n",
    "            axs[0].legend(handles=[line1,line2], fontsize = 13)\n",
    "        except:\n",
    "            axs[0].legend(handles=[line1], fontsize = 13)    \n",
    "\n",
    "    # plot for animal 2\n",
    "    ind_plot = time_point_pull2 < (720 - session_start_time)\n",
    "    #for itime in np.arange(0,720,1):\n",
    "    #    plt.plot([itime,itime],[0,1],linewidth = 2.0,color=(0.5,0.5,0.5))\n",
    "    for itime in time_point_pull2[ind_plot]:\n",
    "        line1, = axs[1].plot([itime,itime],[0,1],linewidth = 2.0,color=(0.0,0.5,0.5))\n",
    "    try:\n",
    "        for itime in oneway_gaze2:\n",
    "            line2, = axs[1].plot([itime,itime],[0,1],linewidth = 2.0,color=(0.5,0.0,0.5))    \n",
    "    except:\n",
    "        print(\"no oneway gaze\")\n",
    "    try:\n",
    "        for itime in mutual_gaze2:\n",
    "            line3, = axs[1].plot([itime,itime],[0,1],linewidth = 2.0,color=(0.5,0.5,0.0))    \n",
    "    except:\n",
    "        print(\"no mutual gaze\")\n",
    "    axs[1].set_title(animal2,fontsize = 18)\n",
    "    axs[1].set_xlim([-10,700])\n",
    "    axs[1].set_xlabel(\"time/s\",fontsize = 19)\n",
    "    axs[1].set_yticklabels(\"\")\n",
    "    axs[1].tick_params(labelsize = 15)\n"
   ]
  },
  {
   "cell_type": "markdown",
   "id": "1f9c724b",
   "metadata": {},
   "source": [
    "### plot inter-pull interval"
   ]
  },
  {
   "cell_type": "code",
   "execution_count": 7,
   "id": "9327925b",
   "metadata": {},
   "outputs": [],
   "source": [
    "def plot_interpull_interval(animal1, animal2, time_point_pull1, time_point_pull2):\n",
    "    time_point_pull1_n0 = time_point_pull1.reset_index(drop = True)[0:time_point_pull1.shape[0]-1]\n",
    "    time_point_pull1_n1 = time_point_pull1.reset_index(drop = True)[1:time_point_pull1.shape[0]]\n",
    "    time_point_pull2_n0 = time_point_pull2.reset_index(drop = True)[0:time_point_pull2.shape[0]-1]\n",
    "    time_point_pull2_n1 = time_point_pull2.reset_index(drop = True)[1:time_point_pull2.shape[0]]\n",
    "    ipi_1 = time_point_pull1_n1.reset_index(drop = True) - time_point_pull1_n0.reset_index(drop = True)\n",
    "    ipi_2 = time_point_pull2_n1.reset_index(drop = True) - time_point_pull2_n0.reset_index(drop = True)\n",
    "    #\n",
    "    fig2, axs2 = plt.subplots(1,2)\n",
    "    fig2.set_figheight(5)\n",
    "    fig2.set_figwidth(20)\n",
    "    axs2[0].hist(ipi_1, alpha=0.5, bins=np.arange(0,25,1))\n",
    "    axs2[0].set_title(animal1)\n",
    "    axs2[1].hist(ipi_2, alpha=0.5, bins=np.arange(0,25,1))\n",
    "    axs2[1].set_title(animal2)\n",
    "    print('animal1 median',int(np.median(ipi_1)),'s')\n",
    "    print('animal2 median',int(np.median(ipi_2)),'s')"
   ]
  },
  {
   "cell_type": "markdown",
   "id": "e8ac4ea0",
   "metadata": {},
   "source": [
    "### train the dynamic bayesian network"
   ]
  },
  {
   "cell_type": "code",
   "execution_count": 8,
   "id": "037084bb",
   "metadata": {},
   "outputs": [],
   "source": [
    "def train_DBN(totalsess_time, temp_resolu, time_point_pull1, time_point_pull2, oneway_gaze1, oneway_gaze2, mutual_gaze1, mutual_gaze2):\n",
    "# temp_resolu: temporal resolution, the time different between each step\n",
    "# e.g. temp_resolu = 0.5s, each step is 0.5s\n",
    "    total_time = int((totalsess_time - session_start_time)/temp_resolu)\n",
    "    time_point_pull1_round = np.floor(time_point_pull1/temp_resolu).reset_index(drop = True).astype(int)\n",
    "    time_point_pull1_round = time_point_pull1_round[time_point_pull1_round<total_time]\n",
    "    time_point_pull2_round  = np.floor(time_point_pull2/temp_resolu).reset_index(drop = True).astype(int)\n",
    "    time_point_pull2_round = time_point_pull2_round[time_point_pull2_round<total_time]\n",
    "    time_point_onewaygaze1_round = np.floor(pd.Series(oneway_gaze1)/temp_resolu).reset_index(drop = True).astype(int)\n",
    "    time_point_onewaygaze2_round = np.floor(pd.Series(oneway_gaze2)/temp_resolu).reset_index(drop = True).astype(int)\n",
    "    time_point_mutualgaze1_round = np.floor(pd.Series(mutual_gaze1)/temp_resolu).reset_index(drop = True).astype(int)\n",
    "    time_point_mutualgaze2_round = np.floor(pd.Series(mutual_gaze2)/temp_resolu).reset_index(drop = True).astype(int)\n",
    "    time_point_onewaygaze1_round = time_point_onewaygaze1_round[(time_point_onewaygaze1_round>0)&(time_point_onewaygaze1_round<total_time)]\n",
    "    time_point_onewaygaze2_round = time_point_onewaygaze2_round[(time_point_onewaygaze2_round>0)&(time_point_onewaygaze2_round<total_time)]\n",
    "    time_point_mutualgaze1_round = time_point_mutualgaze1_round[(time_point_mutualgaze1_round>0)&(time_point_mutualgaze1_round<total_time)]\n",
    "    time_point_mutualgaze2_round = time_point_mutualgaze2_round[(time_point_mutualgaze2_round>0)&(time_point_mutualgaze2_round<total_time)]\n",
    "    # t0\n",
    "    pull1_t0 = np.zeros((total_time+1,1))\n",
    "    pull1_t0[np.array(time_point_pull1_round)] = 1\n",
    "    pull2_t0 = np.zeros((total_time+1,1))\n",
    "    pull2_t0[np.array(time_point_pull2_round)] = 1\n",
    "    owgaze1_t0 = np.zeros((total_time+1,1))\n",
    "    owgaze1_t0[np.array(time_point_onewaygaze1_round)] = 1\n",
    "    owgaze2_t0 = np.zeros((total_time+1,1))\n",
    "    owgaze2_t0[np.array(time_point_onewaygaze2_round)] = 1\n",
    "    mtgaze1_t0 = np.zeros((total_time+1,1))\n",
    "    mtgaze1_t0[np.array(time_point_mutualgaze1_round)] = 1\n",
    "    mtgaze2_t0 = np.zeros((total_time+1,1))\n",
    "    mtgaze2_t0[np.array(time_point_mutualgaze2_round)] = 1\n",
    "    # t1\n",
    "    pull1_t1 = np.zeros((total_time+1,1))\n",
    "    pull1_t1[np.array(time_point_pull1_round)+1] = 1\n",
    "    pull2_t1 = np.zeros((total_time+1,1))\n",
    "    pull2_t1[np.array(time_point_pull2_round)+1] = 1\n",
    "    owgaze1_t1 = np.zeros((total_time+1,1))\n",
    "    owgaze1_t1[np.array(time_point_onewaygaze1_round)+1] = 1\n",
    "    owgaze2_t1 = np.zeros((total_time+1,1))\n",
    "    owgaze2_t1[np.array(time_point_onewaygaze2_round)+1] = 1\n",
    "    mtgaze1_t1 = np.zeros((total_time+1,1))\n",
    "    mtgaze1_t1[np.array(time_point_mutualgaze1_round)+1] = 1\n",
    "    mtgaze2_t1 = np.zeros((total_time+1,1))\n",
    "    mtgaze2_t1[np.array(time_point_mutualgaze2_round)+1] = 1\n",
    "    ## create dataframe\n",
    "    # data = np.concatenate((pull1_t0,pull2_t0,owgaze1_t0,owgaze2_t0,mtgaze1_t0,mtgaze2_t0,pull1_t1,pull2_t1,owgaze1_t1,owgaze2_t1,mtgaze1_t1,mtgaze2_t1),axis = 1)\n",
    "    # colnames = [(\"pull1\",0),(\"pull2\",0),(\"owgaze1\",0),(\"owgaze2\",0),(\"mtgaze1\",0),(\"mtgaze2\",0),(\"pull1\",1),(\"pull2\",1),(\"owgaze1\",1),(\"owgaze2\",1),(\"mtgaze1\",1),(\"mtgaze2\",1)]\n",
    "    # df = pd.DataFrame(data, columns=colnames)\n",
    "    data = np.concatenate((pull1_t0,pull2_t0,owgaze1_t0,owgaze2_t0,pull1_t1,pull2_t1,owgaze1_t1,owgaze2_t1),axis = 1)\n",
    "    colnames = [(\"pull1\",0),(\"pull2\",0),(\"owgaze1\",0),(\"owgaze2\",0),(\"pull1\",1),(\"pull2\",1),(\"owgaze1\",1),(\"owgaze2\",1)]\n",
    "    df = pd.DataFrame(data, columns=colnames)\n",
    "\n",
    "    ## built the model structure\n",
    "    # model = DBN(\n",
    "    #    [\n",
    "    #        ((\"owgaze1\",0), (\"pull1\",1)),\n",
    "    #        ((\"owgaze1\",0), (\"mtgaze1\",1)),\n",
    "    #        ((\"mtgaze1\",0), (\"pull1\",1)),\n",
    "    #        ((\"pull1\",0), (\"owgaze1\",1)),\n",
    "    #        ((\"owgaze2\",0), (\"pull2\",1)),\n",
    "    #        ((\"owgaze2\",0), (\"mtgaze2\",1)),\n",
    "    #        ((\"mtgaze2\",0), (\"pull2\",1)),\n",
    "    #        ((\"pull2\",0), (\"owgaze2\",1)),\n",
    "    #    ]\n",
    "    # )\n",
    "    model = DBN(\n",
    "        [\n",
    "            ((\"owgaze1\",0), (\"pull1\",1)),\n",
    "            ((\"pull1\",0), (\"owgaze1\",1)),\n",
    "            ((\"owgaze2\",0), (\"pull2\",1)),\n",
    "            ((\"pull2\",0), (\"owgaze2\",1)),\n",
    "        ]\n",
    "    )\n",
    "    model.fit(df)\n",
    "    \n",
    "    return model"
   ]
  },
  {
   "cell_type": "markdown",
   "id": "424c0b97",
   "metadata": {},
   "source": [
    "### train the dynamic bayesian network - Alec's methods"
   ]
  },
  {
   "cell_type": "code",
   "execution_count": 9,
   "id": "1840a5f9",
   "metadata": {},
   "outputs": [],
   "source": [
    "def graph_to_matrix(edges,nevents,eventnames):\n",
    "\n",
    "    output_matrix = np.zeros((nevents,nevents)) \n",
    "    \n",
    "    column = 0\n",
    "    for from_layer in np.arange(0,nevents,1):\n",
    "        row = 0\n",
    "        #Loop through the receiving nodes (the last timeslice of each population)\n",
    "        for to_layer in np.arange(0,nevents,1): \n",
    "            from_pop = eventnames[from_layer]+'_t0'\n",
    "            to_pop = eventnames[to_layer]+'_t1'\n",
    "\n",
    "            if (from_pop, to_pop) in edges:\n",
    "                output_matrix[row,column] = 1\n",
    "            else:\n",
    "                output_matrix[row,column] = 0\n",
    "            row+=1\n",
    "        column+=1\n",
    "                    \n",
    "    return output_matrix"
   ]
  },
  {
   "cell_type": "code",
   "execution_count": 10,
   "id": "139bcf08",
   "metadata": {},
   "outputs": [],
   "source": [
    "def get_weighted_dags(binaryDags,nNewBootstraps = 100):\n",
    "    ### Step 1: Create Bootstraps of \"discrete\" DAGs for weighted DAGs\n",
    "    [nTrials,frNodes,toNodes] = binaryDags.shape\n",
    "    \n",
    "    bootstrap_graphs = np.zeros([nNewBootstraps,nTrials,frNodes,toNodes])\n",
    "    for iBootstrap in range(nNewBootstraps):\n",
    "        bootstrap_graphs[iBootstrap,:,:,:] = binaryDags[np.random.randint(nTrials, size=(nTrials)),:,:]\n",
    "\n",
    "    ### Step 2: Get Weighted DAGs\n",
    "    wtd_graphs = np.nanmean(bootstrap_graphs, axis=1)\n",
    "    \n",
    "    return wtd_graphs"
   ]
  },
  {
   "cell_type": "code",
   "execution_count": 11,
   "id": "003d7d37",
   "metadata": {},
   "outputs": [],
   "source": [
    "def train_DBN_alec(totalsess_time, temp_resolu, time_point_pull1, time_point_pull2, oneway_gaze1, oneway_gaze2, mutual_gaze1, mutual_gaze2):\n",
    "# temp_resolu: temporal resolution, the time different between each step\n",
    "# e.g. temp_resolu = 0.5s, each step is 0.5s\n",
    "# totalsess_time: the time (s) of the total session\n",
    "    total_time = int(np.floor((totalsess_time - session_start_time)/temp_resolu))\n",
    "    time_point_pull1_round = np.floor(time_point_pull1/temp_resolu).reset_index(drop = True).astype(int)\n",
    "    time_point_pull1_round = time_point_pull1_round[time_point_pull1_round<total_time]\n",
    "    time_point_pull2_round  = np.floor(time_point_pull2/temp_resolu).reset_index(drop = True).astype(int)\n",
    "    time_point_pull2_round = time_point_pull2_round[time_point_pull2_round<total_time]\n",
    "    time_point_onewaygaze1_round = np.floor(pd.Series(oneway_gaze1)/temp_resolu).reset_index(drop = True).astype(int)\n",
    "    time_point_onewaygaze2_round = np.floor(pd.Series(oneway_gaze2)/temp_resolu).reset_index(drop = True).astype(int)\n",
    "    time_point_mutualgaze1_round = np.floor(pd.Series(mutual_gaze1)/temp_resolu).reset_index(drop = True).astype(int)\n",
    "    time_point_mutualgaze2_round = np.floor(pd.Series(mutual_gaze2)/temp_resolu).reset_index(drop = True).astype(int)\n",
    "    time_point_onewaygaze1_round = time_point_onewaygaze1_round[(time_point_onewaygaze1_round>0)&(time_point_onewaygaze1_round<total_time)]\n",
    "    time_point_onewaygaze2_round = time_point_onewaygaze2_round[(time_point_onewaygaze2_round>0)&(time_point_onewaygaze2_round<total_time)]\n",
    "    time_point_mutualgaze1_round = time_point_mutualgaze1_round[(time_point_mutualgaze1_round>0)&(time_point_mutualgaze1_round<total_time)]\n",
    "    time_point_mutualgaze2_round = time_point_mutualgaze2_round[(time_point_mutualgaze2_round>0)&(time_point_mutualgaze2_round<total_time)]\n",
    "    # t0\n",
    "    pull1_t0 = np.zeros((total_time+1,1))\n",
    "    pull1_t0[np.array(time_point_pull1_round)] = 1\n",
    "    pull2_t0 = np.zeros((total_time+1,1))\n",
    "    pull2_t0[np.array(time_point_pull2_round)] = 1\n",
    "    owgaze1_t0 = np.zeros((total_time+1,1))\n",
    "    owgaze1_t0[np.array(time_point_onewaygaze1_round)] = 1\n",
    "    owgaze2_t0 = np.zeros((total_time+1,1))\n",
    "    owgaze2_t0[np.array(time_point_onewaygaze2_round)] = 1\n",
    "    mtgaze1_t0 = np.zeros((total_time+1,1))\n",
    "    mtgaze1_t0[np.array(time_point_mutualgaze1_round)] = 1\n",
    "    mtgaze2_t0 = np.zeros((total_time+1,1))\n",
    "    mtgaze2_t0[np.array(time_point_mutualgaze2_round)] = 1\n",
    "    # t1\n",
    "    pull1_t1 = np.zeros((total_time+1,1))\n",
    "    pull1_t1[np.array(time_point_pull1_round)+1] = 1\n",
    "    pull2_t1 = np.zeros((total_time+1,1))\n",
    "    pull2_t1[np.array(time_point_pull2_round)+1] = 1\n",
    "    owgaze1_t1 = np.zeros((total_time+1,1))\n",
    "    owgaze1_t1[np.array(time_point_onewaygaze1_round)+1] = 1\n",
    "    owgaze2_t1 = np.zeros((total_time+1,1))\n",
    "    owgaze2_t1[np.array(time_point_onewaygaze2_round)+1] = 1\n",
    "    mtgaze1_t1 = np.zeros((total_time+1,1))\n",
    "    mtgaze1_t1[np.array(time_point_mutualgaze1_round)+1] = 1\n",
    "    mtgaze2_t1 = np.zeros((total_time+1,1))\n",
    "    mtgaze2_t1[np.array(time_point_mutualgaze2_round)+1] = 1\n",
    "    \n",
    "    # clean up dataframe\n",
    "    data = np.concatenate((pull1_t0,pull2_t0,owgaze1_t0,owgaze2_t0,pull1_t1,pull2_t1,owgaze1_t1,owgaze2_t1),axis = 1)\n",
    "    colnames = [\"pull1_t0\",\"pull2_t0\",\"owgaze1_t0\",\"owgaze2_t0\",\"pull1_t1\",\"pull2_t1\",\"owgaze1_t1\",\"owgaze2_t1\"]\n",
    "    eventnames = [\"pull1\",\"pull2\",\"owgaze1\",\"owgaze2\"]\n",
    "    nevents = np.size(eventnames)\n",
    "    bhv_df = pd.DataFrame(data, columns=colnames)\n",
    "\n",
    "    # define DBN structures\n",
    "    all_pops = list(bhv_df.columns)\n",
    "    from_pops = [pop for pop in all_pops if not pop.endswith('t1')]\n",
    "    to_pops = [pop for pop in all_pops if pop.endswith('t1')]\n",
    "    causal_whitelist = [(from_pop,to_pop) for from_pop in from_pops for to_pop in to_pops]\n",
    "\n",
    "    # train the DBN for the edges\n",
    "    bhv_hc = HillClimbSearch(bhv_df)\n",
    "    best_model = bhv_hc.estimate(max_indegree=None, white_list = causal_whitelist, scoring_method=BicScore(bhv_df))\n",
    "    edges = best_model.edges()\n",
    "    \n",
    "    nFromNodes = nevents\n",
    "    nToNodes = nevents\n",
    "    nTrials = 1\n",
    "    DAGs = np.zeros((nTrials, nFromNodes, nToNodes))\n",
    "    DAGs[0,:,:] = graph_to_matrix(list(edges),nevents,eventnames)\n",
    "\n",
    "    return best_model, edges, DAGs, eventnames, from_pops, to_pops"
   ]
  },
  {
   "cell_type": "markdown",
   "id": "c5d1858b",
   "metadata": {},
   "source": [
    "### methods used by Alec - separate into different \"trials\""
   ]
  },
  {
   "cell_type": "code",
   "execution_count": 12,
   "id": "798ae9d3",
   "metadata": {},
   "outputs": [],
   "source": [
    "def train_DBN_alec_eachtrial(totalsess_time, temp_resolu, time_point_pull1, time_point_pull2, oneway_gaze1, oneway_gaze2, mutual_gaze1, mutual_gaze2):\n",
    "# temp_resolu: temporal resolution, the time different between each step\n",
    "# e.g. temp_resolu = 0.5s, each step is 0.5s\n",
    "# totalsess_time: the time (s) of the total session\n",
    "    total_time = int((totalsess_time - session_start_time)/temp_resolu)\n",
    "    time_point_pull1_round = np.floor(time_point_pull1/temp_resolu).reset_index(drop = True).astype(int)\n",
    "    time_point_pull1_round = time_point_pull1_round[time_point_pull1_round<total_time]\n",
    "    time_point_pull2_round  = np.floor(time_point_pull2/temp_resolu).reset_index(drop = True).astype(int)\n",
    "    time_point_pull2_round = time_point_pull2_round[time_point_pull2_round<total_time]\n",
    "    time_point_onewaygaze1_round = np.floor(pd.Series(oneway_gaze1)/temp_resolu).reset_index(drop = True).astype(int)\n",
    "    time_point_onewaygaze2_round = np.floor(pd.Series(oneway_gaze2)/temp_resolu).reset_index(drop = True).astype(int)\n",
    "    time_point_mutualgaze1_round = np.floor(pd.Series(mutual_gaze1)/temp_resolu).reset_index(drop = True).astype(int)\n",
    "    time_point_mutualgaze2_round = np.floor(pd.Series(mutual_gaze2)/temp_resolu).reset_index(drop = True).astype(int)\n",
    "    time_point_onewaygaze1_round = time_point_onewaygaze1_round[(time_point_onewaygaze1_round>0)&(time_point_onewaygaze1_round<total_time)]\n",
    "    time_point_onewaygaze2_round = time_point_onewaygaze2_round[(time_point_onewaygaze2_round>0)&(time_point_onewaygaze2_round<total_time)]\n",
    "    time_point_mutualgaze1_round = time_point_mutualgaze1_round[(time_point_mutualgaze1_round>0)&(time_point_mutualgaze1_round<total_time)]\n",
    "    time_point_mutualgaze2_round = time_point_mutualgaze2_round[(time_point_mutualgaze2_round>0)&(time_point_mutualgaze2_round<total_time)]\n",
    "    # t0\n",
    "    pull1_t0 = np.zeros((total_time+1,1))\n",
    "    pull1_t0[np.array(time_point_pull1_round)] = 1\n",
    "    pull2_t0 = np.zeros((total_time+1,1))\n",
    "    pull2_t0[np.array(time_point_pull2_round)] = 1\n",
    "    owgaze1_t0 = np.zeros((total_time+1,1))\n",
    "    owgaze1_t0[np.array(time_point_onewaygaze1_round)] = 1\n",
    "    owgaze2_t0 = np.zeros((total_time+1,1))\n",
    "    owgaze2_t0[np.array(time_point_onewaygaze2_round)] = 1\n",
    "    mtgaze1_t0 = np.zeros((total_time+1,1))\n",
    "    mtgaze1_t0[np.array(time_point_mutualgaze1_round)] = 1\n",
    "    mtgaze2_t0 = np.zeros((total_time+1,1))\n",
    "    mtgaze2_t0[np.array(time_point_mutualgaze2_round)] = 1\n",
    "    # t1\n",
    "    pull1_t1 = np.zeros((total_time+1,1))\n",
    "    pull1_t1[np.array(time_point_pull1_round)+1] = 1\n",
    "    pull2_t1 = np.zeros((total_time+1,1))\n",
    "    pull2_t1[np.array(time_point_pull2_round)+1] = 1\n",
    "    owgaze1_t1 = np.zeros((total_time+1,1))\n",
    "    owgaze1_t1[np.array(time_point_onewaygaze1_round)+1] = 1\n",
    "    owgaze2_t1 = np.zeros((total_time+1,1))\n",
    "    owgaze2_t1[np.array(time_point_onewaygaze2_round)+1] = 1\n",
    "    mtgaze1_t1 = np.zeros((total_time+1,1))\n",
    "    mtgaze1_t1[np.array(time_point_mutualgaze1_round)+1] = 1\n",
    "    mtgaze2_t1 = np.zeros((total_time+1,1))\n",
    "    mtgaze2_t1[np.array(time_point_mutualgaze2_round)+1] = 1\n",
    "    \n",
    "    # clean up dataframe\n",
    "    data = np.concatenate((pull1_t0,pull2_t0,owgaze1_t0,owgaze2_t0,pull1_t1,pull2_t1,owgaze1_t1,owgaze2_t1),axis = 1)\n",
    "    colnames = [\"pull1_t0\",\"pull2_t0\",\"owgaze1_t0\",\"owgaze2_t0\",\"pull1_t1\",\"pull2_t1\",\"owgaze1_t1\",\"owgaze2_t1\"]\n",
    "    eventnames = [\"pull1\",\"pull2\",\"owgaze1\",\"owgaze2\"]\n",
    "    nevents = np.size(eventnames)\n",
    "    bhv_df = pd.DataFrame(data, columns=colnames)\n",
    "    \n",
    "    # every 10s (20 0.5s steps) as a \"trial\"\n",
    "    # total 720s \"session\" will be 72 \"trials\"\n",
    "    ntrials = int(np.floor(totalsess_time/10))\n",
    "    nFromNodes = nevents\n",
    "    nToNodes = nevents\n",
    "    for itrial in np.arange(0,ntrials,1):\n",
    "        bhv_df_itrial = bhv_df.iloc[itrial*(10/temp_resolu):(itrial+1)*(10/temp_resolu)]\n",
    "        # define DBN structures\n",
    "        all_pops = list(bhv_df_itrial.columns)\n",
    "        from_pops = [pop for pop in all_pops if not pop.endswith('t1')]\n",
    "        to_pops = [pop for pop in all_pops if pop.endswith('t1')]\n",
    "        causal_whitelist = [(from_pop,to_pop) for from_pop in from_pops for to_pop in to_pops]\n",
    "    \n",
    "        # train the DBN for the edges\n",
    "        bhv_hc = HillClimbSearch(bhv_df_itrial)\n",
    "        best_model = bhv_hc.estimate(max_indegree=None, white_list = causal_whitelist, scoring_method=BicScore(bhv_df))\n",
    "        edges_itrial = best_model.edges()   \n",
    "    \n",
    "        DAGs_itrial = np.zeros((ntrials, nFromNodes, nToNodes))\n",
    "        DAGs_itrial[0,:,:] = graph_to_matrix(list(edges_itrial),nevents,eventnames)\n",
    "\n",
    "    weighted_graphs = get_weighted_dags(DAGs_itrial,nNewBootstraps = 1)\n",
    "    return DAGs_itrial, weighted_graphs, eventnames, from_pops, to_pops"
   ]
  },
  {
   "cell_type": "markdown",
   "id": "0819c438",
   "metadata": {},
   "source": [
    "## Analyze each session"
   ]
  },
  {
   "cell_type": "code",
   "execution_count": 162,
   "id": "94968120",
   "metadata": {},
   "outputs": [
    {
     "data": {
      "application/vnd.jupyter.widget-view+json": {
       "model_id": "45540d9b92024fea820c762f9d84fba2",
       "version_major": 2,
       "version_minor": 0
      },
      "text/plain": [
       "  0%|          | 0/1000000 [00:00<?, ?it/s]"
      ]
     },
     "metadata": {},
     "output_type": "display_data"
    },
    {
     "name": "stdout",
     "output_type": "stream",
     "text": [
      "[('pull2_t0', 'pull2_t1'), ('owgaze1_t0', 'owgaze1_t1'), ('owgaze2_t0', 'owgaze2_t1')]\n"
     ]
    },
    {
     "data": {
      "application/vnd.jupyter.widget-view+json": {
       "model_id": "7bbfbaa8acaf4f8b9ec7169cc3593417",
       "version_major": 2,
       "version_minor": 0
      },
      "text/plain": [
       "  0%|          | 0/1000000 [00:00<?, ?it/s]"
      ]
     },
     "metadata": {},
     "output_type": "display_data"
    },
    {
     "name": "stdout",
     "output_type": "stream",
     "text": [
      "[('owgaze1_t0', 'owgaze1_t1')]\n"
     ]
    },
    {
     "data": {
      "application/vnd.jupyter.widget-view+json": {
       "model_id": "9499ef87d9f345c3b9bef14fd01e4059",
       "version_major": 2,
       "version_minor": 0
      },
      "text/plain": [
       "  0%|          | 0/1000000 [00:00<?, ?it/s]"
      ]
     },
     "metadata": {},
     "output_type": "display_data"
    },
    {
     "name": "stdout",
     "output_type": "stream",
     "text": [
      "[('pull1_t0', 'pull2_t1'), ('owgaze1_t0', 'owgaze1_t1')]\n"
     ]
    },
    {
     "data": {
      "application/vnd.jupyter.widget-view+json": {
       "model_id": "e97748e91df24a218ed50b96a53d2b9d",
       "version_major": 2,
       "version_minor": 0
      },
      "text/plain": [
       "  0%|          | 0/1000000 [00:00<?, ?it/s]"
      ]
     },
     "metadata": {},
     "output_type": "display_data"
    },
    {
     "name": "stdout",
     "output_type": "stream",
     "text": [
      "[('pull1_t0', 'pull2_t1'), ('pull2_t0', 'owgaze1_t1'), ('pull2_t0', 'pull1_t1')]\n"
     ]
    },
    {
     "data": {
      "application/vnd.jupyter.widget-view+json": {
       "model_id": "f42553331a044e9f97d1b5faff097d97",
       "version_major": 2,
       "version_minor": 0
      },
      "text/plain": [
       "  0%|          | 0/1000000 [00:00<?, ?it/s]"
      ]
     },
     "metadata": {},
     "output_type": "display_data"
    },
    {
     "name": "stdout",
     "output_type": "stream",
     "text": [
      "[('pull2_t0', 'pull2_t1')]\n"
     ]
    },
    {
     "data": {
      "application/vnd.jupyter.widget-view+json": {
       "model_id": "c1b29410eea348edb373f63fa89145d1",
       "version_major": 2,
       "version_minor": 0
      },
      "text/plain": [
       "  0%|          | 0/1000000 [00:00<?, ?it/s]"
      ]
     },
     "metadata": {},
     "output_type": "display_data"
    },
    {
     "name": "stdout",
     "output_type": "stream",
     "text": [
      "[('pull1_t0', 'pull1_t1'), ('pull2_t0', 'pull2_t1')]\n"
     ]
    },
    {
     "data": {
      "application/vnd.jupyter.widget-view+json": {
       "model_id": "d3c979e517c840e193c449140388a000",
       "version_major": 2,
       "version_minor": 0
      },
      "text/plain": [
       "  0%|          | 0/1000000 [00:00<?, ?it/s]"
      ]
     },
     "metadata": {},
     "output_type": "display_data"
    },
    {
     "name": "stdout",
     "output_type": "stream",
     "text": [
      "[('pull1_t0', 'pull1_t1'), ('pull1_t0', 'pull2_t1'), ('pull2_t0', 'pull2_t1')]\n"
     ]
    },
    {
     "data": {
      "application/vnd.jupyter.widget-view+json": {
       "model_id": "401bbaf3ea404e6c815c6e200228c5f2",
       "version_major": 2,
       "version_minor": 0
      },
      "text/plain": [
       "  0%|          | 0/1000000 [00:00<?, ?it/s]"
      ]
     },
     "metadata": {},
     "output_type": "display_data"
    },
    {
     "name": "stdout",
     "output_type": "stream",
     "text": [
      "[('pull1_t0', 'pull1_t1'), ('pull2_t0', 'pull2_t1')]\n"
     ]
    },
    {
     "data": {
      "application/vnd.jupyter.widget-view+json": {
       "model_id": "8e9bf461b046480497afcea638937343",
       "version_major": 2,
       "version_minor": 0
      },
      "text/plain": [
       "  0%|          | 0/1000000 [00:00<?, ?it/s]"
      ]
     },
     "metadata": {},
     "output_type": "display_data"
    },
    {
     "name": "stdout",
     "output_type": "stream",
     "text": [
      "[('pull1_t0', 'pull1_t1'), ('pull2_t0', 'pull2_t1')]\n"
     ]
    },
    {
     "data": {
      "application/vnd.jupyter.widget-view+json": {
       "model_id": "fbc78fb9cc0140afacd05cf562bb0a50",
       "version_major": 2,
       "version_minor": 0
      },
      "text/plain": [
       "  0%|          | 0/1000000 [00:00<?, ?it/s]"
      ]
     },
     "metadata": {},
     "output_type": "display_data"
    },
    {
     "name": "stdout",
     "output_type": "stream",
     "text": [
      "[('pull1_t0', 'pull1_t1'), ('pull2_t0', 'pull2_t1')]\n"
     ]
    },
    {
     "data": {
      "application/vnd.jupyter.widget-view+json": {
       "model_id": "1be236471e434a77a407db30d9db57eb",
       "version_major": 2,
       "version_minor": 0
      },
      "text/plain": [
       "  0%|          | 0/1000000 [00:00<?, ?it/s]"
      ]
     },
     "metadata": {},
     "output_type": "display_data"
    },
    {
     "name": "stdout",
     "output_type": "stream",
     "text": [
      "[('pull1_t0', 'pull1_t1'), ('pull2_t0', 'pull2_t1')]\n"
     ]
    },
    {
     "data": {
      "application/vnd.jupyter.widget-view+json": {
       "model_id": "44614a44acd54719bbf0bd756d147911",
       "version_major": 2,
       "version_minor": 0
      },
      "text/plain": [
       "  0%|          | 0/1000000 [00:00<?, ?it/s]"
      ]
     },
     "metadata": {},
     "output_type": "display_data"
    },
    {
     "name": "stdout",
     "output_type": "stream",
     "text": [
      "[('pull1_t0', 'pull1_t1'), ('pull2_t0', 'pull2_t1')]\n"
     ]
    },
    {
     "data": {
      "application/vnd.jupyter.widget-view+json": {
       "model_id": "55dcd50e5d314f8c8ff1799129087089",
       "version_major": 2,
       "version_minor": 0
      },
      "text/plain": [
       "  0%|          | 0/1000000 [00:00<?, ?it/s]"
      ]
     },
     "metadata": {},
     "output_type": "display_data"
    },
    {
     "name": "stdout",
     "output_type": "stream",
     "text": [
      "[('pull1_t0', 'pull1_t1'), ('pull1_t0', 'pull2_t1'), ('pull2_t0', 'pull2_t1'), ('pull2_t0', 'pull1_t1')]\n"
     ]
    },
    {
     "data": {
      "application/vnd.jupyter.widget-view+json": {
       "model_id": "0812858efd244808ac6cf91722439106",
       "version_major": 2,
       "version_minor": 0
      },
      "text/plain": [
       "  0%|          | 0/1000000 [00:00<?, ?it/s]"
      ]
     },
     "metadata": {},
     "output_type": "display_data"
    },
    {
     "name": "stdout",
     "output_type": "stream",
     "text": [
      "[('pull2_t0', 'pull2_t1'), ('pull2_t0', 'pull1_t1')]\n"
     ]
    },
    {
     "data": {
      "application/vnd.jupyter.widget-view+json": {
       "model_id": "2ca9b0898018438b9b7ab13388d39b1e",
       "version_major": 2,
       "version_minor": 0
      },
      "text/plain": [
       "  0%|          | 0/1000000 [00:00<?, ?it/s]"
      ]
     },
     "metadata": {},
     "output_type": "display_data"
    },
    {
     "name": "stdout",
     "output_type": "stream",
     "text": [
      "[('pull1_t0', 'pull1_t1'), ('pull2_t0', 'pull2_t1')]\n"
     ]
    },
    {
     "data": {
      "application/vnd.jupyter.widget-view+json": {
       "model_id": "198de8ad9f724d889c9394a376f96a74",
       "version_major": 2,
       "version_minor": 0
      },
      "text/plain": [
       "  0%|          | 0/1000000 [00:00<?, ?it/s]"
      ]
     },
     "metadata": {},
     "output_type": "display_data"
    },
    {
     "name": "stdout",
     "output_type": "stream",
     "text": [
      "[('pull2_t0', 'pull2_t1'), ('pull2_t0', 'pull1_t1')]\n"
     ]
    },
    {
     "data": {
      "application/vnd.jupyter.widget-view+json": {
       "model_id": "bee087e5ddfc473581d8def73919bb35",
       "version_major": 2,
       "version_minor": 0
      },
      "text/plain": [
       "  0%|          | 0/1000000 [00:00<?, ?it/s]"
      ]
     },
     "metadata": {},
     "output_type": "display_data"
    },
    {
     "name": "stdout",
     "output_type": "stream",
     "text": [
      "[('pull1_t0', 'pull1_t1'), ('pull1_t0', 'pull2_t1'), ('pull2_t0', 'pull2_t1')]\n"
     ]
    },
    {
     "data": {
      "application/vnd.jupyter.widget-view+json": {
       "model_id": "524f8739c7864a52b68a5432e445b15f",
       "version_major": 2,
       "version_minor": 0
      },
      "text/plain": [
       "  0%|          | 0/1000000 [00:00<?, ?it/s]"
      ]
     },
     "metadata": {},
     "output_type": "display_data"
    },
    {
     "name": "stdout",
     "output_type": "stream",
     "text": [
      "[('pull2_t0', 'pull2_t1'), ('owgaze1_t0', 'owgaze1_t1'), ('owgaze1_t0', 'pull1_t1'), ('owgaze2_t0', 'owgaze2_t1')]\n"
     ]
    },
    {
     "data": {
      "application/vnd.jupyter.widget-view+json": {
       "model_id": "55c8c730137440fd930151d603df3806",
       "version_major": 2,
       "version_minor": 0
      },
      "text/plain": [
       "  0%|          | 0/1000000 [00:00<?, ?it/s]"
      ]
     },
     "metadata": {},
     "output_type": "display_data"
    },
    {
     "name": "stdout",
     "output_type": "stream",
     "text": [
      "[('pull1_t0', 'pull1_t1'), ('pull2_t0', 'pull2_t1'), ('pull2_t0', 'owgaze2_t1'), ('owgaze1_t0', 'pull1_t1')]\n"
     ]
    },
    {
     "data": {
      "application/vnd.jupyter.widget-view+json": {
       "model_id": "495ecf746d38455d8a05b1a4ee25c566",
       "version_major": 2,
       "version_minor": 0
      },
      "text/plain": [
       "  0%|          | 0/1000000 [00:00<?, ?it/s]"
      ]
     },
     "metadata": {},
     "output_type": "display_data"
    },
    {
     "name": "stdout",
     "output_type": "stream",
     "text": [
      "[('pull1_t0', 'pull1_t1'), ('pull1_t0', 'pull2_t1'), ('pull1_t0', 'owgaze2_t1'), ('pull2_t0', 'pull2_t1'), ('owgaze1_t0', 'owgaze2_t1'), ('owgaze2_t0', 'pull1_t1')]\n"
     ]
    },
    {
     "data": {
      "application/vnd.jupyter.widget-view+json": {
       "model_id": "9c0c1f65fb1446b9bbf882d78463474c",
       "version_major": 2,
       "version_minor": 0
      },
      "text/plain": [
       "  0%|          | 0/1000000 [00:00<?, ?it/s]"
      ]
     },
     "metadata": {},
     "output_type": "display_data"
    },
    {
     "name": "stdout",
     "output_type": "stream",
     "text": [
      "[('pull1_t0', 'pull1_t1'), ('pull1_t0', 'owgaze1_t1'), ('pull2_t0', 'pull1_t1'), ('pull2_t0', 'pull2_t1'), ('owgaze2_t0', 'owgaze2_t1')]\n"
     ]
    },
    {
     "data": {
      "application/vnd.jupyter.widget-view+json": {
       "model_id": "a657938316c745438a4cb0ee17c1c087",
       "version_major": 2,
       "version_minor": 0
      },
      "text/plain": [
       "  0%|          | 0/1000000 [00:00<?, ?it/s]"
      ]
     },
     "metadata": {},
     "output_type": "display_data"
    },
    {
     "name": "stdout",
     "output_type": "stream",
     "text": [
      "[('pull1_t0', 'pull1_t1'), ('pull1_t0', 'owgaze2_t1'), ('pull2_t0', 'pull1_t1'), ('pull2_t0', 'pull2_t1')]\n"
     ]
    },
    {
     "data": {
      "application/vnd.jupyter.widget-view+json": {
       "model_id": "58433861e4a942cbb793d539b7c42fd9",
       "version_major": 2,
       "version_minor": 0
      },
      "text/plain": [
       "  0%|          | 0/1000000 [00:00<?, ?it/s]"
      ]
     },
     "metadata": {},
     "output_type": "display_data"
    },
    {
     "name": "stdout",
     "output_type": "stream",
     "text": [
      "[('pull1_t0', 'pull1_t1'), ('pull2_t0', 'pull1_t1'), ('pull2_t0', 'pull2_t1')]\n"
     ]
    },
    {
     "data": {
      "application/vnd.jupyter.widget-view+json": {
       "model_id": "f527614c3ed7443f8442ba5450ac9e8b",
       "version_major": 2,
       "version_minor": 0
      },
      "text/plain": [
       "  0%|          | 0/1000000 [00:00<?, ?it/s]"
      ]
     },
     "metadata": {},
     "output_type": "display_data"
    },
    {
     "name": "stdout",
     "output_type": "stream",
     "text": [
      "[('pull1_t0', 'pull1_t1'), ('pull2_t0', 'pull1_t1'), ('pull2_t0', 'pull2_t1')]\n"
     ]
    },
    {
     "data": {
      "application/vnd.jupyter.widget-view+json": {
       "model_id": "6becd27be368499da41bdf4deb8f81d4",
       "version_major": 2,
       "version_minor": 0
      },
      "text/plain": [
       "  0%|          | 0/1000000 [00:00<?, ?it/s]"
      ]
     },
     "metadata": {},
     "output_type": "display_data"
    },
    {
     "name": "stdout",
     "output_type": "stream",
     "text": [
      "[('pull1_t0', 'pull1_t1')]\n"
     ]
    },
    {
     "data": {
      "application/vnd.jupyter.widget-view+json": {
       "model_id": "c90fee2e80b14b69be47585b05171a8b",
       "version_major": 2,
       "version_minor": 0
      },
      "text/plain": [
       "  0%|          | 0/1000000 [00:00<?, ?it/s]"
      ]
     },
     "metadata": {},
     "output_type": "display_data"
    },
    {
     "name": "stdout",
     "output_type": "stream",
     "text": [
      "[('pull1_t0', 'pull1_t1')]\n"
     ]
    },
    {
     "data": {
      "application/vnd.jupyter.widget-view+json": {
       "model_id": "d961f752fc2649659c03bf266c0b3cca",
       "version_major": 2,
       "version_minor": 0
      },
      "text/plain": [
       "  0%|          | 0/1000000 [00:00<?, ?it/s]"
      ]
     },
     "metadata": {},
     "output_type": "display_data"
    },
    {
     "name": "stdout",
     "output_type": "stream",
     "text": [
      "[('pull1_t0', 'pull1_t1')]\n"
     ]
    },
    {
     "data": {
      "application/vnd.jupyter.widget-view+json": {
       "model_id": "0f4bd1adc697492990dee0bf1ad92b7f",
       "version_major": 2,
       "version_minor": 0
      },
      "text/plain": [
       "  0%|          | 0/1000000 [00:00<?, ?it/s]"
      ]
     },
     "metadata": {},
     "output_type": "display_data"
    },
    {
     "name": "stdout",
     "output_type": "stream",
     "text": [
      "[('pull1_t0', 'pull1_t1'), ('owgaze2_t0', 'pull2_t1')]\n"
     ]
    },
    {
     "data": {
      "application/vnd.jupyter.widget-view+json": {
       "model_id": "1f0cd98b2d4247249f0d4ec0a7af0d4f",
       "version_major": 2,
       "version_minor": 0
      },
      "text/plain": [
       "  0%|          | 0/1000000 [00:00<?, ?it/s]"
      ]
     },
     "metadata": {},
     "output_type": "display_data"
    },
    {
     "name": "stdout",
     "output_type": "stream",
     "text": [
      "[('owgaze2_t0', 'owgaze2_t1')]\n"
     ]
    },
    {
     "data": {
      "application/vnd.jupyter.widget-view+json": {
       "model_id": "da353bf455db4ce49388231577c74563",
       "version_major": 2,
       "version_minor": 0
      },
      "text/plain": [
       "  0%|          | 0/1000000 [00:00<?, ?it/s]"
      ]
     },
     "metadata": {},
     "output_type": "display_data"
    },
    {
     "name": "stdout",
     "output_type": "stream",
     "text": [
      "[('owgaze2_t0', 'owgaze2_t1')]\n"
     ]
    },
    {
     "data": {
      "application/vnd.jupyter.widget-view+json": {
       "model_id": "940314cdc2894a0c88f42a266db76dbe",
       "version_major": 2,
       "version_minor": 0
      },
      "text/plain": [
       "  0%|          | 0/1000000 [00:00<?, ?it/s]"
      ]
     },
     "metadata": {},
     "output_type": "display_data"
    },
    {
     "name": "stdout",
     "output_type": "stream",
     "text": [
      "[('pull2_t0', 'pull1_t1'), ('owgaze2_t0', 'owgaze2_t1')]\n"
     ]
    },
    {
     "data": {
      "application/vnd.jupyter.widget-view+json": {
       "model_id": "1d25ebb992ce4177844a890787cd3c25",
       "version_major": 2,
       "version_minor": 0
      },
      "text/plain": [
       "  0%|          | 0/1000000 [00:00<?, ?it/s]"
      ]
     },
     "metadata": {},
     "output_type": "display_data"
    },
    {
     "name": "stdout",
     "output_type": "stream",
     "text": [
      "[]\n"
     ]
    },
    {
     "data": {
      "application/vnd.jupyter.widget-view+json": {
       "model_id": "c7eade2a73254c88b61b7663b7175ceb",
       "version_major": 2,
       "version_minor": 0
      },
      "text/plain": [
       "  0%|          | 0/1000000 [00:00<?, ?it/s]"
      ]
     },
     "metadata": {},
     "output_type": "display_data"
    },
    {
     "name": "stdout",
     "output_type": "stream",
     "text": [
      "[('owgaze2_t0', 'owgaze2_t1')]\n"
     ]
    },
    {
     "data": {
      "application/vnd.jupyter.widget-view+json": {
       "model_id": "60afd0bfbb9e4b2c9698550a1ddeee31",
       "version_major": 2,
       "version_minor": 0
      },
      "text/plain": [
       "  0%|          | 0/1000000 [00:00<?, ?it/s]"
      ]
     },
     "metadata": {},
     "output_type": "display_data"
    },
    {
     "name": "stdout",
     "output_type": "stream",
     "text": [
      "[('owgaze2_t0', 'owgaze2_t1')]\n"
     ]
    },
    {
     "data": {
      "application/vnd.jupyter.widget-view+json": {
       "model_id": "bf3cd5a7518e4942b06138b7d7ea123f",
       "version_major": 2,
       "version_minor": 0
      },
      "text/plain": [
       "  0%|          | 0/1000000 [00:00<?, ?it/s]"
      ]
     },
     "metadata": {},
     "output_type": "display_data"
    },
    {
     "name": "stdout",
     "output_type": "stream",
     "text": [
      "[('pull1_t0', 'owgaze1_t1')]\n"
     ]
    },
    {
     "data": {
      "application/vnd.jupyter.widget-view+json": {
       "model_id": "35ca7c4b71b04ccc901a85b8c78ccb76",
       "version_major": 2,
       "version_minor": 0
      },
      "text/plain": [
       "  0%|          | 0/1000000 [00:00<?, ?it/s]"
      ]
     },
     "metadata": {},
     "output_type": "display_data"
    },
    {
     "name": "stdout",
     "output_type": "stream",
     "text": [
      "[('pull1_t0', 'pull1_t1'), ('pull1_t0', 'owgaze1_t1'), ('pull2_t0', 'pull2_t1')]\n"
     ]
    },
    {
     "data": {
      "application/vnd.jupyter.widget-view+json": {
       "model_id": "51d2b56e6071465db9d7b3aa3362fe12",
       "version_major": 2,
       "version_minor": 0
      },
      "text/plain": [
       "  0%|          | 0/1000000 [00:00<?, ?it/s]"
      ]
     },
     "metadata": {},
     "output_type": "display_data"
    },
    {
     "name": "stdout",
     "output_type": "stream",
     "text": [
      "[('pull1_t0', 'pull1_t1'), ('pull2_t0', 'pull2_t1'), ('pull2_t0', 'pull1_t1')]\n"
     ]
    },
    {
     "data": {
      "application/vnd.jupyter.widget-view+json": {
       "model_id": "ad13a73f57ae4e0689947d8bd5146cc4",
       "version_major": 2,
       "version_minor": 0
      },
      "text/plain": [
       "  0%|          | 0/1000000 [00:00<?, ?it/s]"
      ]
     },
     "metadata": {},
     "output_type": "display_data"
    },
    {
     "name": "stdout",
     "output_type": "stream",
     "text": [
      "[('pull1_t0', 'pull1_t1'), ('pull1_t0', 'pull2_t1'), ('pull1_t0', 'owgaze1_t1'), ('pull2_t0', 'pull1_t1'), ('pull2_t0', 'pull2_t1'), ('owgaze1_t0', 'pull1_t1')]\n"
     ]
    },
    {
     "data": {
      "application/vnd.jupyter.widget-view+json": {
       "model_id": "4944df04fc944c0997dedf54a7c262f6",
       "version_major": 2,
       "version_minor": 0
      },
      "text/plain": [
       "  0%|          | 0/1000000 [00:00<?, ?it/s]"
      ]
     },
     "metadata": {},
     "output_type": "display_data"
    },
    {
     "name": "stdout",
     "output_type": "stream",
     "text": [
      "[('pull1_t0', 'pull1_t1'), ('pull1_t0', 'pull2_t1'), ('pull2_t0', 'pull1_t1'), ('pull2_t0', 'pull2_t1')]\n"
     ]
    },
    {
     "data": {
      "application/vnd.jupyter.widget-view+json": {
       "model_id": "ffe4295726b44aed8a4c2bee94bce540",
       "version_major": 2,
       "version_minor": 0
      },
      "text/plain": [
       "  0%|          | 0/1000000 [00:00<?, ?it/s]"
      ]
     },
     "metadata": {},
     "output_type": "display_data"
    },
    {
     "name": "stdout",
     "output_type": "stream",
     "text": [
      "[('pull1_t0', 'pull1_t1'), ('pull2_t0', 'pull2_t1'), ('pull2_t0', 'pull1_t1')]\n"
     ]
    },
    {
     "data": {
      "application/vnd.jupyter.widget-view+json": {
       "model_id": "d68a0d5c355a44baa4864270d0613a7b",
       "version_major": 2,
       "version_minor": 0
      },
      "text/plain": [
       "  0%|          | 0/1000000 [00:00<?, ?it/s]"
      ]
     },
     "metadata": {},
     "output_type": "display_data"
    },
    {
     "name": "stdout",
     "output_type": "stream",
     "text": [
      "[('pull1_t0', 'pull1_t1'), ('pull2_t0', 'pull2_t1')]\n"
     ]
    },
    {
     "data": {
      "application/vnd.jupyter.widget-view+json": {
       "model_id": "dcacd564165041419560a4b7e917cac0",
       "version_major": 2,
       "version_minor": 0
      },
      "text/plain": [
       "  0%|          | 0/1000000 [00:00<?, ?it/s]"
      ]
     },
     "metadata": {},
     "output_type": "display_data"
    },
    {
     "name": "stdout",
     "output_type": "stream",
     "text": [
      "[('pull1_t0', 'pull1_t1'), ('pull2_t0', 'pull2_t1')]\n"
     ]
    },
    {
     "data": {
      "application/vnd.jupyter.widget-view+json": {
       "model_id": "827ddf58e20f459d906c2994bfa7711e",
       "version_major": 2,
       "version_minor": 0
      },
      "text/plain": [
       "  0%|          | 0/1000000 [00:00<?, ?it/s]"
      ]
     },
     "metadata": {},
     "output_type": "display_data"
    },
    {
     "name": "stdout",
     "output_type": "stream",
     "text": [
      "[]\n"
     ]
    },
    {
     "data": {
      "application/vnd.jupyter.widget-view+json": {
       "model_id": "637f83a21f1d468a98292454790e738b",
       "version_major": 2,
       "version_minor": 0
      },
      "text/plain": [
       "  0%|          | 0/1000000 [00:00<?, ?it/s]"
      ]
     },
     "metadata": {},
     "output_type": "display_data"
    },
    {
     "name": "stdout",
     "output_type": "stream",
     "text": [
      "[('pull2_t0', 'pull1_t1')]\n"
     ]
    },
    {
     "data": {
      "application/vnd.jupyter.widget-view+json": {
       "model_id": "5ea888ad70d644c29fe0d410b23359ef",
       "version_major": 2,
       "version_minor": 0
      },
      "text/plain": [
       "  0%|          | 0/1000000 [00:00<?, ?it/s]"
      ]
     },
     "metadata": {},
     "output_type": "display_data"
    },
    {
     "name": "stdout",
     "output_type": "stream",
     "text": [
      "[]\n"
     ]
    },
    {
     "data": {
      "application/vnd.jupyter.widget-view+json": {
       "model_id": "42600b711ebb466e96a2f355a9995b52",
       "version_major": 2,
       "version_minor": 0
      },
      "text/plain": [
       "  0%|          | 0/1000000 [00:00<?, ?it/s]"
      ]
     },
     "metadata": {},
     "output_type": "display_data"
    },
    {
     "name": "stdout",
     "output_type": "stream",
     "text": [
      "[('pull1_t0', 'pull1_t1')]\n"
     ]
    },
    {
     "data": {
      "application/vnd.jupyter.widget-view+json": {
       "model_id": "bd224a4fad5f4bb890b8c63685f99ac4",
       "version_major": 2,
       "version_minor": 0
      },
      "text/plain": [
       "  0%|          | 0/1000000 [00:00<?, ?it/s]"
      ]
     },
     "metadata": {},
     "output_type": "display_data"
    },
    {
     "name": "stdout",
     "output_type": "stream",
     "text": [
      "[('pull1_t0', 'pull1_t1')]\n"
     ]
    },
    {
     "data": {
      "application/vnd.jupyter.widget-view+json": {
       "model_id": "ab0dbee70dd54f9389d07f924446cbb2",
       "version_major": 2,
       "version_minor": 0
      },
      "text/plain": [
       "  0%|          | 0/1000000 [00:00<?, ?it/s]"
      ]
     },
     "metadata": {},
     "output_type": "display_data"
    },
    {
     "name": "stdout",
     "output_type": "stream",
     "text": [
      "[('pull1_t0', 'pull2_t1'), ('pull1_t0', 'pull1_t1'), ('pull1_t0', 'owgaze1_t1')]\n"
     ]
    },
    {
     "data": {
      "application/vnd.jupyter.widget-view+json": {
       "model_id": "11d00454434a40ffbb0a41dbd064797d",
       "version_major": 2,
       "version_minor": 0
      },
      "text/plain": [
       "  0%|          | 0/1000000 [00:00<?, ?it/s]"
      ]
     },
     "metadata": {},
     "output_type": "display_data"
    },
    {
     "name": "stdout",
     "output_type": "stream",
     "text": [
      "[('pull1_t0', 'pull1_t1'), ('pull1_t0', 'pull2_t1')]\n"
     ]
    },
    {
     "data": {
      "application/vnd.jupyter.widget-view+json": {
       "model_id": "0c531a19f6b248e0be8f2f23ab586f40",
       "version_major": 2,
       "version_minor": 0
      },
      "text/plain": [
       "  0%|          | 0/1000000 [00:00<?, ?it/s]"
      ]
     },
     "metadata": {},
     "output_type": "display_data"
    },
    {
     "name": "stdout",
     "output_type": "stream",
     "text": [
      "[('pull1_t0', 'pull1_t1'), ('pull1_t0', 'pull2_t1'), ('pull2_t0', 'owgaze1_t1')]\n"
     ]
    },
    {
     "data": {
      "application/vnd.jupyter.widget-view+json": {
       "model_id": "c2117ff0cbe04a87987d3bb973fdba50",
       "version_major": 2,
       "version_minor": 0
      },
      "text/plain": [
       "  0%|          | 0/1000000 [00:00<?, ?it/s]"
      ]
     },
     "metadata": {},
     "output_type": "display_data"
    },
    {
     "name": "stdout",
     "output_type": "stream",
     "text": [
      "[('pull1_t0', 'pull1_t1'), ('pull1_t0', 'owgaze1_t1'), ('pull1_t0', 'pull2_t1')]\n"
     ]
    },
    {
     "data": {
      "application/vnd.jupyter.widget-view+json": {
       "model_id": "6ea9b570815f47e6bd8446e067d29fe5",
       "version_major": 2,
       "version_minor": 0
      },
      "text/plain": [
       "  0%|          | 0/1000000 [00:00<?, ?it/s]"
      ]
     },
     "metadata": {},
     "output_type": "display_data"
    },
    {
     "name": "stdout",
     "output_type": "stream",
     "text": [
      "[('owgaze1_t0', 'owgaze1_t1'), ('owgaze2_t0', 'owgaze2_t1')]\n"
     ]
    },
    {
     "data": {
      "application/vnd.jupyter.widget-view+json": {
       "model_id": "3b258acff6304e8fa618f7179f0a4f47",
       "version_major": 2,
       "version_minor": 0
      },
      "text/plain": [
       "  0%|          | 0/1000000 [00:00<?, ?it/s]"
      ]
     },
     "metadata": {},
     "output_type": "display_data"
    },
    {
     "name": "stdout",
     "output_type": "stream",
     "text": [
      "[('owgaze1_t0', 'owgaze1_t1'), ('owgaze2_t0', 'owgaze2_t1')]\n"
     ]
    },
    {
     "data": {
      "application/vnd.jupyter.widget-view+json": {
       "model_id": "f0216ec6cf13435b99b1dbc428e80c4b",
       "version_major": 2,
       "version_minor": 0
      },
      "text/plain": [
       "  0%|          | 0/1000000 [00:00<?, ?it/s]"
      ]
     },
     "metadata": {},
     "output_type": "display_data"
    },
    {
     "name": "stdout",
     "output_type": "stream",
     "text": [
      "[('pull1_t0', 'pull2_t1'), ('pull2_t0', 'pull1_t1'), ('owgaze1_t0', 'owgaze1_t1')]\n"
     ]
    },
    {
     "data": {
      "application/vnd.jupyter.widget-view+json": {
       "model_id": "c315441e62d64d4daebf5377246aa70d",
       "version_major": 2,
       "version_minor": 0
      },
      "text/plain": [
       "  0%|          | 0/1000000 [00:00<?, ?it/s]"
      ]
     },
     "metadata": {},
     "output_type": "display_data"
    },
    {
     "name": "stdout",
     "output_type": "stream",
     "text": [
      "[('pull2_t0', 'pull1_t1'), ('owgaze1_t0', 'owgaze1_t1'), ('owgaze1_t0', 'owgaze2_t1')]\n"
     ]
    },
    {
     "data": {
      "application/vnd.jupyter.widget-view+json": {
       "model_id": "237e64aa274d48ab8c301a58bac2c4f3",
       "version_major": 2,
       "version_minor": 0
      },
      "text/plain": [
       "  0%|          | 0/1000000 [00:00<?, ?it/s]"
      ]
     },
     "metadata": {},
     "output_type": "display_data"
    },
    {
     "name": "stdout",
     "output_type": "stream",
     "text": [
      "[('pull1_t0', 'pull1_t1'), ('pull2_t0', 'pull1_t1'), ('owgaze1_t0', 'owgaze1_t1'), ('owgaze1_t0', 'owgaze2_t1')]\n"
     ]
    },
    {
     "data": {
      "application/vnd.jupyter.widget-view+json": {
       "model_id": "734a28cb69fc4ff19f676ee086e545e7",
       "version_major": 2,
       "version_minor": 0
      },
      "text/plain": [
       "  0%|          | 0/1000000 [00:00<?, ?it/s]"
      ]
     },
     "metadata": {},
     "output_type": "display_data"
    },
    {
     "name": "stdout",
     "output_type": "stream",
     "text": [
      "[('pull1_t0', 'pull1_t1'), ('pull1_t0', 'pull2_t1'), ('pull2_t0', 'pull1_t1'), ('owgaze1_t0', 'owgaze2_t1'), ('owgaze2_t0', 'owgaze1_t1')]\n"
     ]
    },
    {
     "data": {
      "application/vnd.jupyter.widget-view+json": {
       "model_id": "0f4714e7f397465fae6bcece79aaa112",
       "version_major": 2,
       "version_minor": 0
      },
      "text/plain": [
       "  0%|          | 0/1000000 [00:00<?, ?it/s]"
      ]
     },
     "metadata": {},
     "output_type": "display_data"
    },
    {
     "name": "stdout",
     "output_type": "stream",
     "text": [
      "[('pull1_t0', 'pull1_t1'), ('pull2_t0', 'pull1_t1'), ('owgaze1_t0', 'owgaze1_t1')]\n"
     ]
    },
    {
     "data": {
      "application/vnd.jupyter.widget-view+json": {
       "model_id": "a1018ad514944eeeab15ff7327ace7f5",
       "version_major": 2,
       "version_minor": 0
      },
      "text/plain": [
       "  0%|          | 0/1000000 [00:00<?, ?it/s]"
      ]
     },
     "metadata": {},
     "output_type": "display_data"
    },
    {
     "name": "stdout",
     "output_type": "stream",
     "text": [
      "[('pull1_t0', 'pull1_t1'), ('owgaze1_t0', 'owgaze1_t1'), ('owgaze1_t0', 'owgaze2_t1')]\n"
     ]
    },
    {
     "data": {
      "application/vnd.jupyter.widget-view+json": {
       "model_id": "462fce24676e4f4a90c9e3a4ba36f2af",
       "version_major": 2,
       "version_minor": 0
      },
      "text/plain": [
       "  0%|          | 0/1000000 [00:00<?, ?it/s]"
      ]
     },
     "metadata": {},
     "output_type": "display_data"
    },
    {
     "name": "stdout",
     "output_type": "stream",
     "text": [
      "[('pull1_t0', 'pull1_t1'), ('owgaze1_t0', 'owgaze1_t1')]\n"
     ]
    },
    {
     "data": {
      "application/vnd.jupyter.widget-view+json": {
       "model_id": "ee1567f3e3f24f0e9e88844e86bbe5be",
       "version_major": 2,
       "version_minor": 0
      },
      "text/plain": [
       "  0%|          | 0/1000000 [00:00<?, ?it/s]"
      ]
     },
     "metadata": {},
     "output_type": "display_data"
    },
    {
     "name": "stdout",
     "output_type": "stream",
     "text": [
      "[('pull1_t0', 'pull1_t1'), ('owgaze1_t0', 'owgaze1_t1'), ('owgaze2_t0', 'owgaze2_t1')]\n"
     ]
    },
    {
     "data": {
      "application/vnd.jupyter.widget-view+json": {
       "model_id": "67474c9745314e72a8ae36843c0b7347",
       "version_major": 2,
       "version_minor": 0
      },
      "text/plain": [
       "  0%|          | 0/1000000 [00:00<?, ?it/s]"
      ]
     },
     "metadata": {},
     "output_type": "display_data"
    },
    {
     "name": "stdout",
     "output_type": "stream",
     "text": [
      "[('owgaze1_t0', 'owgaze1_t1'), ('owgaze2_t0', 'owgaze2_t1')]\n"
     ]
    },
    {
     "data": {
      "application/vnd.jupyter.widget-view+json": {
       "model_id": "e566ba1f48564257a9858af80dbc87d8",
       "version_major": 2,
       "version_minor": 0
      },
      "text/plain": [
       "  0%|          | 0/1000000 [00:00<?, ?it/s]"
      ]
     },
     "metadata": {},
     "output_type": "display_data"
    },
    {
     "name": "stdout",
     "output_type": "stream",
     "text": [
      "[('owgaze1_t0', 'owgaze1_t1'), ('owgaze2_t0', 'owgaze2_t1')]\n"
     ]
    },
    {
     "data": {
      "application/vnd.jupyter.widget-view+json": {
       "model_id": "91f3c56eadc347abb3162620aeebff3e",
       "version_major": 2,
       "version_minor": 0
      },
      "text/plain": [
       "  0%|          | 0/1000000 [00:00<?, ?it/s]"
      ]
     },
     "metadata": {},
     "output_type": "display_data"
    },
    {
     "name": "stdout",
     "output_type": "stream",
     "text": [
      "[('pull1_t0', 'pull2_t1'), ('pull2_t0', 'pull1_t1'), ('owgaze1_t0', 'owgaze1_t1'), ('owgaze2_t0', 'owgaze2_t1')]\n"
     ]
    },
    {
     "data": {
      "application/vnd.jupyter.widget-view+json": {
       "model_id": "060583a451b64264a3d50ba1de7c0ffa",
       "version_major": 2,
       "version_minor": 0
      },
      "text/plain": [
       "  0%|          | 0/1000000 [00:00<?, ?it/s]"
      ]
     },
     "metadata": {},
     "output_type": "display_data"
    },
    {
     "name": "stdout",
     "output_type": "stream",
     "text": [
      "[('owgaze1_t0', 'owgaze1_t1'), ('owgaze2_t0', 'owgaze2_t1')]\n"
     ]
    },
    {
     "data": {
      "application/vnd.jupyter.widget-view+json": {
       "model_id": "d8d73eefe9c943f785e34c2ec5b68584",
       "version_major": 2,
       "version_minor": 0
      },
      "text/plain": [
       "  0%|          | 0/1000000 [00:00<?, ?it/s]"
      ]
     },
     "metadata": {},
     "output_type": "display_data"
    },
    {
     "name": "stdout",
     "output_type": "stream",
     "text": [
      "[('pull1_t0', 'pull2_t1'), ('owgaze1_t0', 'owgaze1_t1'), ('owgaze2_t0', 'owgaze2_t1')]\n"
     ]
    },
    {
     "data": {
      "application/vnd.jupyter.widget-view+json": {
       "model_id": "fca606cf44964b7ea50b675c5cacd227",
       "version_major": 2,
       "version_minor": 0
      },
      "text/plain": [
       "  0%|          | 0/1000000 [00:00<?, ?it/s]"
      ]
     },
     "metadata": {},
     "output_type": "display_data"
    },
    {
     "name": "stdout",
     "output_type": "stream",
     "text": [
      "[('owgaze1_t0', 'owgaze1_t1')]\n"
     ]
    },
    {
     "data": {
      "application/vnd.jupyter.widget-view+json": {
       "model_id": "e0905305fdd247d6b7142a3810f653e0",
       "version_major": 2,
       "version_minor": 0
      },
      "text/plain": [
       "  0%|          | 0/1000000 [00:00<?, ?it/s]"
      ]
     },
     "metadata": {},
     "output_type": "display_data"
    },
    {
     "name": "stdout",
     "output_type": "stream",
     "text": [
      "[('owgaze1_t0', 'owgaze1_t1'), ('owgaze2_t0', 'owgaze2_t1'), ('owgaze2_t0', 'pull2_t1')]\n"
     ]
    },
    {
     "data": {
      "application/vnd.jupyter.widget-view+json": {
       "model_id": "39c788fd54ec4308859283c932a77fe4",
       "version_major": 2,
       "version_minor": 0
      },
      "text/plain": [
       "  0%|          | 0/1000000 [00:00<?, ?it/s]"
      ]
     },
     "metadata": {},
     "output_type": "display_data"
    },
    {
     "name": "stdout",
     "output_type": "stream",
     "text": [
      "[('owgaze1_t0', 'owgaze1_t1'), ('owgaze2_t0', 'owgaze2_t1')]\n"
     ]
    },
    {
     "data": {
      "application/vnd.jupyter.widget-view+json": {
       "model_id": "9372ce0523a84d9aa2d887d63d5370da",
       "version_major": 2,
       "version_minor": 0
      },
      "text/plain": [
       "  0%|          | 0/1000000 [00:00<?, ?it/s]"
      ]
     },
     "metadata": {},
     "output_type": "display_data"
    },
    {
     "name": "stdout",
     "output_type": "stream",
     "text": [
      "[('pull1_t0', 'pull2_t1'), ('owgaze2_t0', 'owgaze2_t1')]\n"
     ]
    },
    {
     "data": {
      "application/vnd.jupyter.widget-view+json": {
       "model_id": "157e0576747e4488813dceda555cdc88",
       "version_major": 2,
       "version_minor": 0
      },
      "text/plain": [
       "  0%|          | 0/1000000 [00:00<?, ?it/s]"
      ]
     },
     "metadata": {},
     "output_type": "display_data"
    },
    {
     "name": "stdout",
     "output_type": "stream",
     "text": [
      "[('pull1_t0', 'pull2_t1'), ('owgaze1_t0', 'pull1_t1'), ('owgaze2_t0', 'owgaze2_t1')]\n"
     ]
    },
    {
     "data": {
      "application/vnd.jupyter.widget-view+json": {
       "model_id": "1083859bff1c4b29953a3f4fa9490c5f",
       "version_major": 2,
       "version_minor": 0
      },
      "text/plain": [
       "  0%|          | 0/1000000 [00:00<?, ?it/s]"
      ]
     },
     "metadata": {},
     "output_type": "display_data"
    },
    {
     "name": "stdout",
     "output_type": "stream",
     "text": [
      "[('pull1_t0', 'pull2_t1'), ('pull2_t0', 'pull2_t1'), ('owgaze1_t0', 'pull1_t1'), ('owgaze2_t0', 'owgaze2_t1')]\n"
     ]
    },
    {
     "data": {
      "application/vnd.jupyter.widget-view+json": {
       "model_id": "3dc231851ad74d3da795054b77ab2c0a",
       "version_major": 2,
       "version_minor": 0
      },
      "text/plain": [
       "  0%|          | 0/1000000 [00:00<?, ?it/s]"
      ]
     },
     "metadata": {},
     "output_type": "display_data"
    },
    {
     "name": "stdout",
     "output_type": "stream",
     "text": [
      "[('pull1_t0', 'pull2_t1'), ('pull2_t0', 'pull2_t1'), ('pull2_t0', 'owgaze1_t1'), ('owgaze2_t0', 'owgaze2_t1')]\n"
     ]
    },
    {
     "data": {
      "application/vnd.jupyter.widget-view+json": {
       "model_id": "64020ba753f3474c86ad2498baa83ecf",
       "version_major": 2,
       "version_minor": 0
      },
      "text/plain": [
       "  0%|          | 0/1000000 [00:00<?, ?it/s]"
      ]
     },
     "metadata": {},
     "output_type": "display_data"
    },
    {
     "name": "stdout",
     "output_type": "stream",
     "text": [
      "[('pull2_t0', 'pull2_t1'), ('pull2_t0', 'owgaze1_t1'), ('owgaze1_t0', 'pull2_t1'), ('owgaze2_t0', 'owgaze2_t1')]\n"
     ]
    },
    {
     "data": {
      "application/vnd.jupyter.widget-view+json": {
       "model_id": "cd5e01ad377049ee9e2e96e86768fe86",
       "version_major": 2,
       "version_minor": 0
      },
      "text/plain": [
       "  0%|          | 0/1000000 [00:00<?, ?it/s]"
      ]
     },
     "metadata": {},
     "output_type": "display_data"
    },
    {
     "name": "stdout",
     "output_type": "stream",
     "text": [
      "[('pull2_t0', 'pull2_t1'), ('owgaze1_t0', 'pull2_t1'), ('owgaze2_t0', 'owgaze2_t1')]\n"
     ]
    },
    {
     "data": {
      "application/vnd.jupyter.widget-view+json": {
       "model_id": "8a33eb21cbcb4023ab10d4fee44ec950",
       "version_major": 2,
       "version_minor": 0
      },
      "text/plain": [
       "  0%|          | 0/1000000 [00:00<?, ?it/s]"
      ]
     },
     "metadata": {},
     "output_type": "display_data"
    },
    {
     "name": "stdout",
     "output_type": "stream",
     "text": [
      "[('pull1_t0', 'pull2_t1'), ('pull1_t0', 'owgaze1_t1'), ('pull2_t0', 'pull2_t1'), ('pull2_t0', 'owgaze1_t1')]\n"
     ]
    },
    {
     "data": {
      "application/vnd.jupyter.widget-view+json": {
       "model_id": "f6f1aa8ececa46d99ffe0da13060d25c",
       "version_major": 2,
       "version_minor": 0
      },
      "text/plain": [
       "  0%|          | 0/1000000 [00:00<?, ?it/s]"
      ]
     },
     "metadata": {},
     "output_type": "display_data"
    },
    {
     "name": "stdout",
     "output_type": "stream",
     "text": [
      "[('pull1_t0', 'owgaze1_t1'), ('pull2_t0', 'pull2_t1'), ('pull2_t0', 'owgaze1_t1'), ('pull2_t0', 'pull1_t1')]\n"
     ]
    },
    {
     "data": {
      "application/vnd.jupyter.widget-view+json": {
       "model_id": "7148cc222c8a4be4bb29fd8856235126",
       "version_major": 2,
       "version_minor": 0
      },
      "text/plain": [
       "  0%|          | 0/1000000 [00:00<?, ?it/s]"
      ]
     },
     "metadata": {},
     "output_type": "display_data"
    },
    {
     "name": "stdout",
     "output_type": "stream",
     "text": [
      "[('pull1_t0', 'pull1_t1'), ('pull1_t0', 'pull2_t1'), ('pull1_t0', 'owgaze1_t1'), ('pull2_t0', 'pull2_t1'), ('pull2_t0', 'owgaze1_t1')]\n"
     ]
    },
    {
     "data": {
      "application/vnd.jupyter.widget-view+json": {
       "model_id": "f3a9b48d153e441d83865056192bbd74",
       "version_major": 2,
       "version_minor": 0
      },
      "text/plain": [
       "  0%|          | 0/1000000 [00:00<?, ?it/s]"
      ]
     },
     "metadata": {},
     "output_type": "display_data"
    },
    {
     "name": "stdout",
     "output_type": "stream",
     "text": [
      "[('pull1_t0', 'pull1_t1'), ('pull1_t0', 'pull2_t1'), ('pull2_t0', 'pull2_t1'), ('pull2_t0', 'owgaze1_t1')]\n"
     ]
    },
    {
     "data": {
      "application/vnd.jupyter.widget-view+json": {
       "model_id": "1aa3551b53374068963fd1d735e21023",
       "version_major": 2,
       "version_minor": 0
      },
      "text/plain": [
       "  0%|          | 0/1000000 [00:00<?, ?it/s]"
      ]
     },
     "metadata": {},
     "output_type": "display_data"
    },
    {
     "name": "stdout",
     "output_type": "stream",
     "text": [
      "[('pull1_t0', 'pull1_t1'), ('pull1_t0', 'owgaze1_t1'), ('pull2_t0', 'pull2_t1'), ('pull2_t0', 'owgaze1_t1')]\n"
     ]
    },
    {
     "data": {
      "application/vnd.jupyter.widget-view+json": {
       "model_id": "b2f132e204f64ae4ad3b26a7d7b9f342",
       "version_major": 2,
       "version_minor": 0
      },
      "text/plain": [
       "  0%|          | 0/1000000 [00:00<?, ?it/s]"
      ]
     },
     "metadata": {},
     "output_type": "display_data"
    },
    {
     "name": "stdout",
     "output_type": "stream",
     "text": [
      "[('pull1_t0', 'pull1_t1'), ('pull2_t0', 'pull2_t1'), ('pull2_t0', 'owgaze1_t1')]\n"
     ]
    },
    {
     "data": {
      "application/vnd.jupyter.widget-view+json": {
       "model_id": "c034adaaa93049148e1cafc28572fe5f",
       "version_major": 2,
       "version_minor": 0
      },
      "text/plain": [
       "  0%|          | 0/1000000 [00:00<?, ?it/s]"
      ]
     },
     "metadata": {},
     "output_type": "display_data"
    },
    {
     "name": "stdout",
     "output_type": "stream",
     "text": [
      "[('pull1_t0', 'pull2_t1'), ('pull2_t0', 'pull2_t1'), ('pull2_t0', 'owgaze1_t1'), ('pull2_t0', 'pull1_t1')]\n"
     ]
    },
    {
     "data": {
      "application/vnd.jupyter.widget-view+json": {
       "model_id": "b5ab96a3df1f425ba0cbf3c39bd6b77a",
       "version_major": 2,
       "version_minor": 0
      },
      "text/plain": [
       "  0%|          | 0/1000000 [00:00<?, ?it/s]"
      ]
     },
     "metadata": {},
     "output_type": "display_data"
    },
    {
     "name": "stdout",
     "output_type": "stream",
     "text": [
      "[('pull2_t0', 'pull2_t1'), ('pull2_t0', 'owgaze1_t1'), ('pull2_t0', 'pull1_t1')]\n"
     ]
    },
    {
     "data": {
      "application/vnd.jupyter.widget-view+json": {
       "model_id": "3cfb7dbe81f14b9d9368205135ee6ad5",
       "version_major": 2,
       "version_minor": 0
      },
      "text/plain": [
       "  0%|          | 0/1000000 [00:00<?, ?it/s]"
      ]
     },
     "metadata": {},
     "output_type": "display_data"
    },
    {
     "name": "stdout",
     "output_type": "stream",
     "text": [
      "[('pull1_t0', 'owgaze1_t1'), ('pull1_t0', 'pull2_t1'), ('pull2_t0', 'pull2_t1'), ('pull2_t0', 'pull1_t1')]\n"
     ]
    },
    {
     "data": {
      "application/vnd.jupyter.widget-view+json": {
       "model_id": "db4b58e7588940ffb80c65ec8edbf2ad",
       "version_major": 2,
       "version_minor": 0
      },
      "text/plain": [
       "  0%|          | 0/1000000 [00:00<?, ?it/s]"
      ]
     },
     "metadata": {},
     "output_type": "display_data"
    },
    {
     "name": "stdout",
     "output_type": "stream",
     "text": [
      "[('pull1_t0', 'pull1_t1'), ('pull1_t0', 'pull2_t1'), ('pull2_t0', 'pull2_t1'), ('pull2_t0', 'owgaze1_t1'), ('pull2_t0', 'pull1_t1')]\n"
     ]
    },
    {
     "data": {
      "application/vnd.jupyter.widget-view+json": {
       "model_id": "a01bb231bf4243038b5829377605523a",
       "version_major": 2,
       "version_minor": 0
      },
      "text/plain": [
       "  0%|          | 0/1000000 [00:00<?, ?it/s]"
      ]
     },
     "metadata": {},
     "output_type": "display_data"
    },
    {
     "name": "stdout",
     "output_type": "stream",
     "text": [
      "[('pull2_t0', 'pull2_t1'), ('owgaze1_t0', 'owgaze1_t1'), ('owgaze2_t0', 'owgaze2_t1')]\n"
     ]
    },
    {
     "data": {
      "application/vnd.jupyter.widget-view+json": {
       "model_id": "5958b63029ae4edab5f700486ef886c7",
       "version_major": 2,
       "version_minor": 0
      },
      "text/plain": [
       "  0%|          | 0/1000000 [00:00<?, ?it/s]"
      ]
     },
     "metadata": {},
     "output_type": "display_data"
    },
    {
     "name": "stdout",
     "output_type": "stream",
     "text": [
      "[('owgaze2_t0', 'owgaze2_t1')]\n"
     ]
    },
    {
     "data": {
      "application/vnd.jupyter.widget-view+json": {
       "model_id": "bec8c6de81174b34a9bd591f5a8513d7",
       "version_major": 2,
       "version_minor": 0
      },
      "text/plain": [
       "  0%|          | 0/1000000 [00:00<?, ?it/s]"
      ]
     },
     "metadata": {},
     "output_type": "display_data"
    },
    {
     "name": "stdout",
     "output_type": "stream",
     "text": [
      "[('pull2_t0', 'owgaze1_t1'), ('owgaze2_t0', 'owgaze2_t1')]\n"
     ]
    },
    {
     "data": {
      "application/vnd.jupyter.widget-view+json": {
       "model_id": "c8de6c8c917b46c2a7547f80fbc2be76",
       "version_major": 2,
       "version_minor": 0
      },
      "text/plain": [
       "  0%|          | 0/1000000 [00:00<?, ?it/s]"
      ]
     },
     "metadata": {},
     "output_type": "display_data"
    },
    {
     "name": "stdout",
     "output_type": "stream",
     "text": [
      "[('pull2_t0', 'pull2_t1'), ('owgaze2_t0', 'owgaze2_t1')]\n"
     ]
    },
    {
     "data": {
      "application/vnd.jupyter.widget-view+json": {
       "model_id": "d9ecbf2230e940d3a5ac3f3e91b777eb",
       "version_major": 2,
       "version_minor": 0
      },
      "text/plain": [
       "  0%|          | 0/1000000 [00:00<?, ?it/s]"
      ]
     },
     "metadata": {},
     "output_type": "display_data"
    },
    {
     "name": "stdout",
     "output_type": "stream",
     "text": [
      "[('pull2_t0', 'pull2_t1'), ('owgaze2_t0', 'owgaze2_t1')]\n"
     ]
    },
    {
     "data": {
      "application/vnd.jupyter.widget-view+json": {
       "model_id": "a0d5c3342b9a41fd973f80d826c08a50",
       "version_major": 2,
       "version_minor": 0
      },
      "text/plain": [
       "  0%|          | 0/1000000 [00:00<?, ?it/s]"
      ]
     },
     "metadata": {},
     "output_type": "display_data"
    },
    {
     "name": "stdout",
     "output_type": "stream",
     "text": [
      "[('pull2_t0', 'pull2_t1'), ('owgaze2_t0', 'owgaze2_t1')]\n"
     ]
    },
    {
     "data": {
      "application/vnd.jupyter.widget-view+json": {
       "model_id": "d450492c97164ee3a1909944d350c86e",
       "version_major": 2,
       "version_minor": 0
      },
      "text/plain": [
       "  0%|          | 0/1000000 [00:00<?, ?it/s]"
      ]
     },
     "metadata": {},
     "output_type": "display_data"
    },
    {
     "name": "stdout",
     "output_type": "stream",
     "text": [
      "[('pull2_t0', 'pull2_t1'), ('pull2_t0', 'owgaze1_t1'), ('owgaze2_t0', 'owgaze2_t1')]\n"
     ]
    },
    {
     "data": {
      "application/vnd.jupyter.widget-view+json": {
       "model_id": "0a07e9dd679f406184c59a69224c8d53",
       "version_major": 2,
       "version_minor": 0
      },
      "text/plain": [
       "  0%|          | 0/1000000 [00:00<?, ?it/s]"
      ]
     },
     "metadata": {},
     "output_type": "display_data"
    },
    {
     "name": "stdout",
     "output_type": "stream",
     "text": [
      "[('pull2_t0', 'pull2_t1'), ('owgaze2_t0', 'pull1_t1')]\n"
     ]
    },
    {
     "data": {
      "application/vnd.jupyter.widget-view+json": {
       "model_id": "69f4f3abc4da4ed48c9ba3bb2d240608",
       "version_major": 2,
       "version_minor": 0
      },
      "text/plain": [
       "  0%|          | 0/1000000 [00:00<?, ?it/s]"
      ]
     },
     "metadata": {},
     "output_type": "display_data"
    },
    {
     "name": "stdout",
     "output_type": "stream",
     "text": [
      "[('pull1_t0', 'pull1_t1'), ('pull2_t0', 'pull2_t1'), ('pull2_t0', 'owgaze1_t1'), ('pull2_t0', 'pull1_t1')]\n"
     ]
    },
    {
     "data": {
      "application/vnd.jupyter.widget-view+json": {
       "model_id": "d22e6bff41a14cb9ad6ee839217bc51b",
       "version_major": 2,
       "version_minor": 0
      },
      "text/plain": [
       "  0%|          | 0/1000000 [00:00<?, ?it/s]"
      ]
     },
     "metadata": {},
     "output_type": "display_data"
    },
    {
     "name": "stdout",
     "output_type": "stream",
     "text": [
      "[('pull1_t0', 'pull1_t1'), ('pull2_t0', 'pull2_t1'), ('pull2_t0', 'owgaze1_t1'), ('pull2_t0', 'pull1_t1'), ('owgaze2_t0', 'owgaze2_t1')]\n"
     ]
    },
    {
     "data": {
      "application/vnd.jupyter.widget-view+json": {
       "model_id": "87f7fb77824748e6b0bb5cbeeb6a5dbf",
       "version_major": 2,
       "version_minor": 0
      },
      "text/plain": [
       "  0%|          | 0/1000000 [00:00<?, ?it/s]"
      ]
     },
     "metadata": {},
     "output_type": "display_data"
    },
    {
     "name": "stdout",
     "output_type": "stream",
     "text": [
      "[('pull1_t0', 'pull1_t1'), ('pull2_t0', 'pull2_t1'), ('pull2_t0', 'pull1_t1'), ('owgaze1_t0', 'owgaze1_t1'), ('owgaze2_t0', 'owgaze2_t1')]\n"
     ]
    },
    {
     "data": {
      "application/vnd.jupyter.widget-view+json": {
       "model_id": "262a5f09aaf14bbc88c10b3765374d91",
       "version_major": 2,
       "version_minor": 0
      },
      "text/plain": [
       "  0%|          | 0/1000000 [00:00<?, ?it/s]"
      ]
     },
     "metadata": {},
     "output_type": "display_data"
    },
    {
     "name": "stdout",
     "output_type": "stream",
     "text": [
      "[('pull1_t0', 'pull1_t1'), ('pull2_t0', 'pull2_t1'), ('pull2_t0', 'pull1_t1'), ('pull2_t0', 'owgaze1_t1'), ('pull2_t0', 'owgaze2_t1')]\n"
     ]
    },
    {
     "data": {
      "application/vnd.jupyter.widget-view+json": {
       "model_id": "f56104aac41349ada355655de06905a7",
       "version_major": 2,
       "version_minor": 0
      },
      "text/plain": [
       "  0%|          | 0/1000000 [00:00<?, ?it/s]"
      ]
     },
     "metadata": {},
     "output_type": "display_data"
    },
    {
     "name": "stdout",
     "output_type": "stream",
     "text": [
      "[('pull1_t0', 'owgaze1_t1'), ('pull1_t0', 'pull1_t1'), ('pull2_t0', 'pull2_t1'), ('pull2_t0', 'pull1_t1'), ('pull2_t0', 'owgaze1_t1'), ('owgaze2_t0', 'owgaze2_t1')]\n"
     ]
    },
    {
     "data": {
      "application/vnd.jupyter.widget-view+json": {
       "model_id": "0294ad7d07f14ce895febc42a9d6b056",
       "version_major": 2,
       "version_minor": 0
      },
      "text/plain": [
       "  0%|          | 0/1000000 [00:00<?, ?it/s]"
      ]
     },
     "metadata": {},
     "output_type": "display_data"
    },
    {
     "name": "stdout",
     "output_type": "stream",
     "text": [
      "[('pull2_t0', 'pull2_t1'), ('pull2_t0', 'owgaze1_t1'), ('owgaze2_t0', 'owgaze2_t1')]\n"
     ]
    },
    {
     "data": {
      "application/vnd.jupyter.widget-view+json": {
       "model_id": "d4e2e72a84cd4800b8d394ff959a0c59",
       "version_major": 2,
       "version_minor": 0
      },
      "text/plain": [
       "  0%|          | 0/1000000 [00:00<?, ?it/s]"
      ]
     },
     "metadata": {},
     "output_type": "display_data"
    },
    {
     "name": "stdout",
     "output_type": "stream",
     "text": [
      "[('pull1_t0', 'owgaze1_t1'), ('pull1_t0', 'pull1_t1'), ('pull2_t0', 'pull2_t1'), ('pull2_t0', 'pull1_t1'), ('owgaze2_t0', 'owgaze2_t1')]\n"
     ]
    },
    {
     "data": {
      "application/vnd.jupyter.widget-view+json": {
       "model_id": "737fb9e4ad894ef2960a0c3974c10f85",
       "version_major": 2,
       "version_minor": 0
      },
      "text/plain": [
       "  0%|          | 0/1000000 [00:00<?, ?it/s]"
      ]
     },
     "metadata": {},
     "output_type": "display_data"
    },
    {
     "name": "stdout",
     "output_type": "stream",
     "text": [
      "[('pull1_t0', 'pull2_t1'), ('pull1_t0', 'pull1_t1'), ('pull2_t0', 'pull2_t1'), ('pull2_t0', 'owgaze1_t1'), ('pull2_t0', 'pull1_t1'), ('owgaze2_t0', 'owgaze2_t1')]\n"
     ]
    },
    {
     "data": {
      "application/vnd.jupyter.widget-view+json": {
       "model_id": "128b509ea95848fe8974484c5c54d557",
       "version_major": 2,
       "version_minor": 0
      },
      "text/plain": [
       "  0%|          | 0/1000000 [00:00<?, ?it/s]"
      ]
     },
     "metadata": {},
     "output_type": "display_data"
    },
    {
     "name": "stdout",
     "output_type": "stream",
     "text": [
      "[('pull1_t0', 'pull1_t1'), ('pull2_t0', 'pull2_t1'), ('pull2_t0', 'owgaze1_t1'), ('pull2_t0', 'pull1_t1'), ('owgaze2_t0', 'owgaze2_t1')]\n"
     ]
    },
    {
     "data": {
      "application/vnd.jupyter.widget-view+json": {
       "model_id": "42ba746a5f094ce294e55516f06ae337",
       "version_major": 2,
       "version_minor": 0
      },
      "text/plain": [
       "  0%|          | 0/1000000 [00:00<?, ?it/s]"
      ]
     },
     "metadata": {},
     "output_type": "display_data"
    },
    {
     "name": "stdout",
     "output_type": "stream",
     "text": [
      "[('pull2_t0', 'pull2_t1'), ('owgaze1_t0', 'owgaze1_t1'), ('owgaze2_t0', 'owgaze2_t1')]\n"
     ]
    },
    {
     "data": {
      "application/vnd.jupyter.widget-view+json": {
       "model_id": "326001acbd9a43f2961e4e3306574316",
       "version_major": 2,
       "version_minor": 0
      },
      "text/plain": [
       "  0%|          | 0/1000000 [00:00<?, ?it/s]"
      ]
     },
     "metadata": {},
     "output_type": "display_data"
    },
    {
     "name": "stdout",
     "output_type": "stream",
     "text": [
      "[('owgaze1_t0', 'owgaze1_t1')]\n"
     ]
    },
    {
     "data": {
      "application/vnd.jupyter.widget-view+json": {
       "model_id": "e754a47da0fd49908183e799487bfb05",
       "version_major": 2,
       "version_minor": 0
      },
      "text/plain": [
       "  0%|          | 0/1000000 [00:00<?, ?it/s]"
      ]
     },
     "metadata": {},
     "output_type": "display_data"
    },
    {
     "name": "stdout",
     "output_type": "stream",
     "text": [
      "[('pull1_t0', 'pull2_t1'), ('pull2_t0', 'pull1_t1'), ('owgaze1_t0', 'owgaze1_t1')]\n"
     ]
    },
    {
     "data": {
      "application/vnd.jupyter.widget-view+json": {
       "model_id": "5e1cecf10a054da79b72f7c5c8717a2b",
       "version_major": 2,
       "version_minor": 0
      },
      "text/plain": [
       "  0%|          | 0/1000000 [00:00<?, ?it/s]"
      ]
     },
     "metadata": {},
     "output_type": "display_data"
    },
    {
     "name": "stdout",
     "output_type": "stream",
     "text": [
      "[('pull1_t0', 'pull2_t1'), ('pull2_t0', 'pull1_t1')]\n"
     ]
    },
    {
     "data": {
      "application/vnd.jupyter.widget-view+json": {
       "model_id": "8a88fca3efba457e92788130838a0cb2",
       "version_major": 2,
       "version_minor": 0
      },
      "text/plain": [
       "  0%|          | 0/1000000 [00:00<?, ?it/s]"
      ]
     },
     "metadata": {},
     "output_type": "display_data"
    },
    {
     "name": "stdout",
     "output_type": "stream",
     "text": [
      "[('pull1_t0', 'pull1_t1'), ('pull1_t0', 'pull2_t1'), ('pull1_t0', 'owgaze2_t1'), ('pull2_t0', 'owgaze1_t1'), ('pull2_t0', 'pull1_t1')]\n"
     ]
    },
    {
     "data": {
      "application/vnd.jupyter.widget-view+json": {
       "model_id": "2881c9f431db4a839846e19d089b2676",
       "version_major": 2,
       "version_minor": 0
      },
      "text/plain": [
       "  0%|          | 0/1000000 [00:00<?, ?it/s]"
      ]
     },
     "metadata": {},
     "output_type": "display_data"
    },
    {
     "name": "stdout",
     "output_type": "stream",
     "text": [
      "[('pull1_t0', 'pull2_t1'), ('pull2_t0', 'owgaze1_t1')]\n"
     ]
    },
    {
     "data": {
      "application/vnd.jupyter.widget-view+json": {
       "model_id": "d4d0234ce8ea46f3a581e692366a5aa9",
       "version_major": 2,
       "version_minor": 0
      },
      "text/plain": [
       "  0%|          | 0/1000000 [00:00<?, ?it/s]"
      ]
     },
     "metadata": {},
     "output_type": "display_data"
    },
    {
     "name": "stdout",
     "output_type": "stream",
     "text": [
      "[('pull1_t0', 'pull2_t1'), ('pull1_t0', 'pull1_t1'), ('pull2_t0', 'owgaze1_t1')]\n"
     ]
    },
    {
     "data": {
      "application/vnd.jupyter.widget-view+json": {
       "model_id": "68f387cddf6a45a492ec475bcd07687c",
       "version_major": 2,
       "version_minor": 0
      },
      "text/plain": [
       "  0%|          | 0/1000000 [00:00<?, ?it/s]"
      ]
     },
     "metadata": {},
     "output_type": "display_data"
    },
    {
     "name": "stdout",
     "output_type": "stream",
     "text": [
      "[('pull1_t0', 'pull2_t1'), ('pull2_t0', 'owgaze1_t1'), ('pull2_t0', 'pull2_t1')]\n"
     ]
    },
    {
     "data": {
      "application/vnd.jupyter.widget-view+json": {
       "model_id": "73edd987f3a34bf8b9b20974e8144748",
       "version_major": 2,
       "version_minor": 0
      },
      "text/plain": [
       "  0%|          | 0/1000000 [00:00<?, ?it/s]"
      ]
     },
     "metadata": {},
     "output_type": "display_data"
    },
    {
     "name": "stdout",
     "output_type": "stream",
     "text": [
      "[('pull1_t0', 'pull2_t1'), ('pull1_t0', 'pull1_t1'), ('pull2_t0', 'owgaze1_t1'), ('owgaze1_t0', 'pull2_t1'), ('owgaze1_t0', 'owgaze1_t1')]\n"
     ]
    },
    {
     "data": {
      "application/vnd.jupyter.widget-view+json": {
       "model_id": "45d8250f84ca45b2ae0270c8bdcf5e00",
       "version_major": 2,
       "version_minor": 0
      },
      "text/plain": [
       "  0%|          | 0/1000000 [00:00<?, ?it/s]"
      ]
     },
     "metadata": {},
     "output_type": "display_data"
    },
    {
     "name": "stdout",
     "output_type": "stream",
     "text": [
      "[('pull2_t0', 'owgaze1_t1'), ('pull2_t0', 'pull2_t1'), ('owgaze1_t0', 'owgaze1_t1'), ('owgaze1_t0', 'pull2_t1')]\n"
     ]
    },
    {
     "data": {
      "application/vnd.jupyter.widget-view+json": {
       "model_id": "786472a174214e81a6d947f3d4af1d6b",
       "version_major": 2,
       "version_minor": 0
      },
      "text/plain": [
       "  0%|          | 0/1000000 [00:00<?, ?it/s]"
      ]
     },
     "metadata": {},
     "output_type": "display_data"
    },
    {
     "name": "stdout",
     "output_type": "stream",
     "text": [
      "[('pull1_t0', 'pull2_t1'), ('pull2_t0', 'owgaze1_t1'), ('pull2_t0', 'pull2_t1'), ('pull2_t0', 'pull1_t1')]\n"
     ]
    },
    {
     "data": {
      "application/vnd.jupyter.widget-view+json": {
       "model_id": "152d5ca4570a42c3a8a1c698827d5098",
       "version_major": 2,
       "version_minor": 0
      },
      "text/plain": [
       "  0%|          | 0/1000000 [00:00<?, ?it/s]"
      ]
     },
     "metadata": {},
     "output_type": "display_data"
    },
    {
     "name": "stdout",
     "output_type": "stream",
     "text": [
      "[('pull1_t0', 'pull1_t1'), ('pull2_t0', 'owgaze1_t1'), ('pull2_t0', 'pull1_t1'), ('owgaze1_t0', 'pull2_t1'), ('owgaze1_t0', 'owgaze1_t1')]\n"
     ]
    },
    {
     "data": {
      "application/vnd.jupyter.widget-view+json": {
       "model_id": "43965966b36d4c5d82c9553233bdd8ec",
       "version_major": 2,
       "version_minor": 0
      },
      "text/plain": [
       "  0%|          | 0/1000000 [00:00<?, ?it/s]"
      ]
     },
     "metadata": {},
     "output_type": "display_data"
    },
    {
     "name": "stdout",
     "output_type": "stream",
     "text": [
      "[('pull1_t0', 'pull2_t1'), ('pull1_t0', 'owgaze1_t1'), ('pull1_t0', 'pull1_t1'), ('pull2_t0', 'owgaze1_t1'), ('pull2_t0', 'pull2_t1'), ('pull2_t0', 'pull1_t1')]\n"
     ]
    },
    {
     "data": {
      "application/vnd.jupyter.widget-view+json": {
       "model_id": "dae27dd0357547e1b2eb9c6b24a0cb16",
       "version_major": 2,
       "version_minor": 0
      },
      "text/plain": [
       "  0%|          | 0/1000000 [00:00<?, ?it/s]"
      ]
     },
     "metadata": {},
     "output_type": "display_data"
    },
    {
     "name": "stdout",
     "output_type": "stream",
     "text": [
      "[('pull1_t0', 'pull2_t1'), ('pull1_t0', 'owgaze1_t1'), ('pull1_t0', 'pull1_t1'), ('pull2_t0', 'owgaze1_t1'), ('pull2_t0', 'pull2_t1'), ('pull2_t0', 'pull1_t1')]\n"
     ]
    },
    {
     "data": {
      "application/vnd.jupyter.widget-view+json": {
       "model_id": "dc895a7d831c4068b773226be9d8686b",
       "version_major": 2,
       "version_minor": 0
      },
      "text/plain": [
       "  0%|          | 0/1000000 [00:00<?, ?it/s]"
      ]
     },
     "metadata": {},
     "output_type": "display_data"
    },
    {
     "name": "stdout",
     "output_type": "stream",
     "text": [
      "[('pull1_t0', 'pull2_t1'), ('pull1_t0', 'owgaze1_t1'), ('pull2_t0', 'pull2_t1'), ('pull2_t0', 'owgaze1_t1'), ('pull2_t0', 'pull1_t1')]\n"
     ]
    },
    {
     "data": {
      "application/vnd.jupyter.widget-view+json": {
       "model_id": "f80469e068dc4c189126a73d0fe48623",
       "version_major": 2,
       "version_minor": 0
      },
      "text/plain": [
       "  0%|          | 0/1000000 [00:00<?, ?it/s]"
      ]
     },
     "metadata": {},
     "output_type": "display_data"
    },
    {
     "name": "stdout",
     "output_type": "stream",
     "text": [
      "[('pull1_t0', 'pull1_t1'), ('pull2_t0', 'pull2_t1'), ('pull2_t0', 'owgaze1_t1'), ('pull2_t0', 'pull1_t1')]\n"
     ]
    },
    {
     "data": {
      "application/vnd.jupyter.widget-view+json": {
       "model_id": "b5594511489640709794a1e155276e98",
       "version_major": 2,
       "version_minor": 0
      },
      "text/plain": [
       "  0%|          | 0/1000000 [00:00<?, ?it/s]"
      ]
     },
     "metadata": {},
     "output_type": "display_data"
    },
    {
     "name": "stdout",
     "output_type": "stream",
     "text": [
      "[('pull2_t0', 'pull2_t1'), ('pull2_t0', 'owgaze1_t1'), ('owgaze1_t0', 'pull1_t1')]\n"
     ]
    },
    {
     "data": {
      "application/vnd.jupyter.widget-view+json": {
       "model_id": "ef7a18cf85234fd4b661798ed7b0ed22",
       "version_major": 2,
       "version_minor": 0
      },
      "text/plain": [
       "  0%|          | 0/1000000 [00:00<?, ?it/s]"
      ]
     },
     "metadata": {},
     "output_type": "display_data"
    },
    {
     "name": "stdout",
     "output_type": "stream",
     "text": [
      "[('pull2_t0', 'pull2_t1'), ('owgaze1_t0', 'owgaze1_t1'), ('owgaze2_t0', 'owgaze2_t1')]\n"
     ]
    },
    {
     "data": {
      "application/vnd.jupyter.widget-view+json": {
       "model_id": "c0c12e948637403c9028054b5a7eea29",
       "version_major": 2,
       "version_minor": 0
      },
      "text/plain": [
       "  0%|          | 0/1000000 [00:00<?, ?it/s]"
      ]
     },
     "metadata": {},
     "output_type": "display_data"
    },
    {
     "name": "stdout",
     "output_type": "stream",
     "text": [
      "[('pull1_t0', 'pull1_t1'), ('owgaze1_t0', 'owgaze1_t1'), ('owgaze2_t0', 'owgaze2_t1')]\n"
     ]
    },
    {
     "data": {
      "application/vnd.jupyter.widget-view+json": {
       "model_id": "556134e43df045d1900aa38229011b5d",
       "version_major": 2,
       "version_minor": 0
      },
      "text/plain": [
       "  0%|          | 0/1000000 [00:00<?, ?it/s]"
      ]
     },
     "metadata": {},
     "output_type": "display_data"
    },
    {
     "name": "stdout",
     "output_type": "stream",
     "text": [
      "[('pull1_t0', 'pull1_t1'), ('pull1_t0', 'pull2_t1'), ('owgaze2_t0', 'owgaze2_t1')]\n"
     ]
    },
    {
     "data": {
      "application/vnd.jupyter.widget-view+json": {
       "model_id": "f3994262787842b8893853fab4bb2a03",
       "version_major": 2,
       "version_minor": 0
      },
      "text/plain": [
       "  0%|          | 0/1000000 [00:00<?, ?it/s]"
      ]
     },
     "metadata": {},
     "output_type": "display_data"
    },
    {
     "name": "stdout",
     "output_type": "stream",
     "text": [
      "[('pull1_t0', 'pull1_t1'), ('pull1_t0', 'pull2_t1'), ('pull2_t0', 'pull1_t1'), ('owgaze2_t0', 'owgaze2_t1')]\n"
     ]
    },
    {
     "data": {
      "application/vnd.jupyter.widget-view+json": {
       "model_id": "6714b188c5ed444cae9ac63247dc57e4",
       "version_major": 2,
       "version_minor": 0
      },
      "text/plain": [
       "  0%|          | 0/1000000 [00:00<?, ?it/s]"
      ]
     },
     "metadata": {},
     "output_type": "display_data"
    },
    {
     "name": "stdout",
     "output_type": "stream",
     "text": [
      "[('pull1_t0', 'pull1_t1'), ('pull2_t0', 'pull1_t1'), ('pull2_t0', 'owgaze2_t1')]\n"
     ]
    },
    {
     "data": {
      "application/vnd.jupyter.widget-view+json": {
       "model_id": "df67011ce638408c96a5a983bc02cefe",
       "version_major": 2,
       "version_minor": 0
      },
      "text/plain": [
       "  0%|          | 0/1000000 [00:00<?, ?it/s]"
      ]
     },
     "metadata": {},
     "output_type": "display_data"
    },
    {
     "name": "stdout",
     "output_type": "stream",
     "text": [
      "[('pull1_t0', 'pull1_t1'), ('pull1_t0', 'pull2_t1'), ('pull2_t0', 'pull1_t1'), ('owgaze2_t0', 'owgaze2_t1')]\n"
     ]
    },
    {
     "data": {
      "application/vnd.jupyter.widget-view+json": {
       "model_id": "bf8d144a67ce4021b74f7ffc8af05669",
       "version_major": 2,
       "version_minor": 0
      },
      "text/plain": [
       "  0%|          | 0/1000000 [00:00<?, ?it/s]"
      ]
     },
     "metadata": {},
     "output_type": "display_data"
    },
    {
     "name": "stdout",
     "output_type": "stream",
     "text": [
      "[('pull1_t0', 'pull1_t1'), ('pull1_t0', 'pull2_t1'), ('pull2_t0', 'pull1_t1'), ('pull2_t0', 'pull2_t1'), ('owgaze2_t0', 'owgaze2_t1')]\n"
     ]
    },
    {
     "data": {
      "application/vnd.jupyter.widget-view+json": {
       "model_id": "cf3235ca5ee246aea2feb43b2c43f6a9",
       "version_major": 2,
       "version_minor": 0
      },
      "text/plain": [
       "  0%|          | 0/1000000 [00:00<?, ?it/s]"
      ]
     },
     "metadata": {},
     "output_type": "display_data"
    },
    {
     "name": "stdout",
     "output_type": "stream",
     "text": [
      "[('pull1_t0', 'pull1_t1'), ('pull1_t0', 'pull2_t1'), ('pull2_t0', 'pull1_t1'), ('owgaze2_t0', 'owgaze2_t1')]\n"
     ]
    },
    {
     "data": {
      "application/vnd.jupyter.widget-view+json": {
       "model_id": "b2165c11aaf64c3ab0ea10ff20a8d38c",
       "version_major": 2,
       "version_minor": 0
      },
      "text/plain": [
       "  0%|          | 0/1000000 [00:00<?, ?it/s]"
      ]
     },
     "metadata": {},
     "output_type": "display_data"
    },
    {
     "name": "stdout",
     "output_type": "stream",
     "text": [
      "[('pull1_t0', 'pull2_t1'), ('pull2_t0', 'pull1_t1'), ('owgaze2_t0', 'owgaze2_t1')]\n"
     ]
    },
    {
     "data": {
      "application/vnd.jupyter.widget-view+json": {
       "model_id": "2784c6cfd02642bf924d1a6e7526de45",
       "version_major": 2,
       "version_minor": 0
      },
      "text/plain": [
       "  0%|          | 0/1000000 [00:00<?, ?it/s]"
      ]
     },
     "metadata": {},
     "output_type": "display_data"
    },
    {
     "name": "stdout",
     "output_type": "stream",
     "text": [
      "[('pull1_t0', 'pull2_t1'), ('pull1_t0', 'pull1_t1')]\n"
     ]
    },
    {
     "data": {
      "application/vnd.jupyter.widget-view+json": {
       "model_id": "f585c73ee78342e4be16fbbb684398dc",
       "version_major": 2,
       "version_minor": 0
      },
      "text/plain": [
       "  0%|          | 0/1000000 [00:00<?, ?it/s]"
      ]
     },
     "metadata": {},
     "output_type": "display_data"
    },
    {
     "name": "stdout",
     "output_type": "stream",
     "text": [
      "[('pull1_t0', 'pull1_t1'), ('pull1_t0', 'pull2_t1'), ('owgaze2_t0', 'owgaze2_t1')]\n"
     ]
    },
    {
     "data": {
      "application/vnd.jupyter.widget-view+json": {
       "model_id": "d8c6c47956a449db88c132b5b69db602",
       "version_major": 2,
       "version_minor": 0
      },
      "text/plain": [
       "  0%|          | 0/1000000 [00:00<?, ?it/s]"
      ]
     },
     "metadata": {},
     "output_type": "display_data"
    },
    {
     "name": "stdout",
     "output_type": "stream",
     "text": [
      "[('pull1_t0', 'pull1_t1'), ('pull1_t0', 'pull2_t1'), ('owgaze2_t0', 'owgaze2_t1')]\n"
     ]
    },
    {
     "data": {
      "application/vnd.jupyter.widget-view+json": {
       "model_id": "5e0c10d3b5244d749259c5bd6da11add",
       "version_major": 2,
       "version_minor": 0
      },
      "text/plain": [
       "  0%|          | 0/1000000 [00:00<?, ?it/s]"
      ]
     },
     "metadata": {},
     "output_type": "display_data"
    },
    {
     "name": "stdout",
     "output_type": "stream",
     "text": [
      "[('pull1_t0', 'pull1_t1'), ('pull2_t0', 'pull2_t1')]\n"
     ]
    },
    {
     "data": {
      "application/vnd.jupyter.widget-view+json": {
       "model_id": "ca6b11d028924802b4469421e2bbef13",
       "version_major": 2,
       "version_minor": 0
      },
      "text/plain": [
       "  0%|          | 0/1000000 [00:00<?, ?it/s]"
      ]
     },
     "metadata": {},
     "output_type": "display_data"
    },
    {
     "name": "stdout",
     "output_type": "stream",
     "text": [
      "[('pull2_t0', 'pull2_t1'), ('pull2_t0', 'pull1_t1'), ('owgaze2_t0', 'owgaze2_t1')]\n"
     ]
    },
    {
     "data": {
      "application/vnd.jupyter.widget-view+json": {
       "model_id": "f11f931e5c0045a285b4db42dbf42bc1",
       "version_major": 2,
       "version_minor": 0
      },
      "text/plain": [
       "  0%|          | 0/1000000 [00:00<?, ?it/s]"
      ]
     },
     "metadata": {},
     "output_type": "display_data"
    },
    {
     "name": "stdout",
     "output_type": "stream",
     "text": [
      "[('pull2_t0', 'pull2_t1')]\n"
     ]
    },
    {
     "data": {
      "application/vnd.jupyter.widget-view+json": {
       "model_id": "33d25ebd2b3342d5ac7894f2d7aba22b",
       "version_major": 2,
       "version_minor": 0
      },
      "text/plain": [
       "  0%|          | 0/1000000 [00:00<?, ?it/s]"
      ]
     },
     "metadata": {},
     "output_type": "display_data"
    },
    {
     "name": "stdout",
     "output_type": "stream",
     "text": [
      "[('pull2_t0', 'pull2_t1')]\n"
     ]
    },
    {
     "data": {
      "application/vnd.jupyter.widget-view+json": {
       "model_id": "fcac7d8bb90041d38062312be59777d0",
       "version_major": 2,
       "version_minor": 0
      },
      "text/plain": [
       "  0%|          | 0/1000000 [00:00<?, ?it/s]"
      ]
     },
     "metadata": {},
     "output_type": "display_data"
    },
    {
     "name": "stdout",
     "output_type": "stream",
     "text": [
      "[('pull2_t0', 'pull2_t1'), ('pull2_t0', 'pull1_t1')]\n"
     ]
    },
    {
     "data": {
      "application/vnd.jupyter.widget-view+json": {
       "model_id": "438228fe2e11487d86b5f47f6d413ebc",
       "version_major": 2,
       "version_minor": 0
      },
      "text/plain": [
       "  0%|          | 0/1000000 [00:00<?, ?it/s]"
      ]
     },
     "metadata": {},
     "output_type": "display_data"
    },
    {
     "name": "stdout",
     "output_type": "stream",
     "text": [
      "[('pull2_t0', 'owgaze1_t1')]\n"
     ]
    },
    {
     "data": {
      "application/vnd.jupyter.widget-view+json": {
       "model_id": "63116d28ef2e44b8934d276aac861336",
       "version_major": 2,
       "version_minor": 0
      },
      "text/plain": [
       "  0%|          | 0/1000000 [00:00<?, ?it/s]"
      ]
     },
     "metadata": {},
     "output_type": "display_data"
    },
    {
     "name": "stdout",
     "output_type": "stream",
     "text": [
      "[('pull1_t0', 'owgaze2_t1'), ('pull2_t0', 'owgaze1_t1')]\n"
     ]
    },
    {
     "data": {
      "application/vnd.jupyter.widget-view+json": {
       "model_id": "538ceec7db0745b3a3bc77c2116cc0ce",
       "version_major": 2,
       "version_minor": 0
      },
      "text/plain": [
       "  0%|          | 0/1000000 [00:00<?, ?it/s]"
      ]
     },
     "metadata": {},
     "output_type": "display_data"
    },
    {
     "name": "stdout",
     "output_type": "stream",
     "text": [
      "[('pull1_t0', 'pull1_t1'), ('pull1_t0', 'pull2_t1'), ('owgaze1_t0', 'owgaze1_t1')]\n"
     ]
    },
    {
     "data": {
      "application/vnd.jupyter.widget-view+json": {
       "model_id": "79785cb696954083be0128596509d856",
       "version_major": 2,
       "version_minor": 0
      },
      "text/plain": [
       "  0%|          | 0/1000000 [00:00<?, ?it/s]"
      ]
     },
     "metadata": {},
     "output_type": "display_data"
    },
    {
     "name": "stdout",
     "output_type": "stream",
     "text": [
      "[]\n"
     ]
    },
    {
     "data": {
      "application/vnd.jupyter.widget-view+json": {
       "model_id": "5e3fefa8a81849779556fe23aedc261c",
       "version_major": 2,
       "version_minor": 0
      },
      "text/plain": [
       "  0%|          | 0/1000000 [00:00<?, ?it/s]"
      ]
     },
     "metadata": {},
     "output_type": "display_data"
    },
    {
     "name": "stdout",
     "output_type": "stream",
     "text": [
      "[]\n"
     ]
    },
    {
     "data": {
      "application/vnd.jupyter.widget-view+json": {
       "model_id": "26a33202ec184f439f702292d66be70d",
       "version_major": 2,
       "version_minor": 0
      },
      "text/plain": [
       "  0%|          | 0/1000000 [00:00<?, ?it/s]"
      ]
     },
     "metadata": {},
     "output_type": "display_data"
    },
    {
     "name": "stdout",
     "output_type": "stream",
     "text": [
      "[]\n"
     ]
    },
    {
     "data": {
      "application/vnd.jupyter.widget-view+json": {
       "model_id": "f5794358b1f14d0daac09b427bd4bece",
       "version_major": 2,
       "version_minor": 0
      },
      "text/plain": [
       "  0%|          | 0/1000000 [00:00<?, ?it/s]"
      ]
     },
     "metadata": {},
     "output_type": "display_data"
    },
    {
     "name": "stdout",
     "output_type": "stream",
     "text": [
      "[('pull1_t0', 'owgaze2_t1'), ('pull1_t0', 'pull2_t1'), ('pull2_t0', 'pull2_t1')]\n"
     ]
    },
    {
     "data": {
      "application/vnd.jupyter.widget-view+json": {
       "model_id": "c322a460cd9e4772a3c3a0382b38c163",
       "version_major": 2,
       "version_minor": 0
      },
      "text/plain": [
       "  0%|          | 0/1000000 [00:00<?, ?it/s]"
      ]
     },
     "metadata": {},
     "output_type": "display_data"
    },
    {
     "name": "stdout",
     "output_type": "stream",
     "text": [
      "[('pull1_t0', 'pull2_t1'), ('pull1_t0', 'owgaze2_t1'), ('pull2_t0', 'pull2_t1')]\n"
     ]
    },
    {
     "data": {
      "application/vnd.jupyter.widget-view+json": {
       "model_id": "0a9107e40f454b1782f352c2b8060d8f",
       "version_major": 2,
       "version_minor": 0
      },
      "text/plain": [
       "  0%|          | 0/1000000 [00:00<?, ?it/s]"
      ]
     },
     "metadata": {},
     "output_type": "display_data"
    },
    {
     "name": "stdout",
     "output_type": "stream",
     "text": [
      "[('pull2_t0', 'pull2_t1')]\n"
     ]
    },
    {
     "data": {
      "application/vnd.jupyter.widget-view+json": {
       "model_id": "e37a1639e7da4a3592cf9ddf08c7a363",
       "version_major": 2,
       "version_minor": 0
      },
      "text/plain": [
       "  0%|          | 0/1000000 [00:00<?, ?it/s]"
      ]
     },
     "metadata": {},
     "output_type": "display_data"
    },
    {
     "name": "stdout",
     "output_type": "stream",
     "text": [
      "[('pull1_t0', 'pull2_t1'), ('pull2_t0', 'pull2_t1')]\n"
     ]
    },
    {
     "data": {
      "application/vnd.jupyter.widget-view+json": {
       "model_id": "5209af1a3ff140ed987e1e8b82b5d61e",
       "version_major": 2,
       "version_minor": 0
      },
      "text/plain": [
       "  0%|          | 0/1000000 [00:00<?, ?it/s]"
      ]
     },
     "metadata": {},
     "output_type": "display_data"
    },
    {
     "name": "stdout",
     "output_type": "stream",
     "text": [
      "[('pull2_t0', 'pull2_t1'), ('pull2_t0', 'pull1_t1')]\n"
     ]
    },
    {
     "data": {
      "application/vnd.jupyter.widget-view+json": {
       "model_id": "c104affbb6274fc9a18f8309fb0422f4",
       "version_major": 2,
       "version_minor": 0
      },
      "text/plain": [
       "  0%|          | 0/1000000 [00:00<?, ?it/s]"
      ]
     },
     "metadata": {},
     "output_type": "display_data"
    },
    {
     "name": "stdout",
     "output_type": "stream",
     "text": [
      "[('pull1_t0', 'pull2_t1'), ('pull2_t0', 'pull2_t1'), ('pull2_t0', 'pull1_t1')]\n"
     ]
    },
    {
     "data": {
      "application/vnd.jupyter.widget-view+json": {
       "model_id": "e4241711ae7043689ef30ae53a00aad8",
       "version_major": 2,
       "version_minor": 0
      },
      "text/plain": [
       "  0%|          | 0/1000000 [00:00<?, ?it/s]"
      ]
     },
     "metadata": {},
     "output_type": "display_data"
    },
    {
     "name": "stdout",
     "output_type": "stream",
     "text": [
      "[('pull1_t0', 'pull2_t1'), ('pull2_t0', 'pull2_t1'), ('pull2_t0', 'pull1_t1')]\n"
     ]
    },
    {
     "data": {
      "application/vnd.jupyter.widget-view+json": {
       "model_id": "3076aede08b24652b40ef70398e8175d",
       "version_major": 2,
       "version_minor": 0
      },
      "text/plain": [
       "  0%|          | 0/1000000 [00:00<?, ?it/s]"
      ]
     },
     "metadata": {},
     "output_type": "display_data"
    },
    {
     "name": "stdout",
     "output_type": "stream",
     "text": [
      "[('pull1_t0', 'pull2_t1'), ('pull2_t0', 'pull2_t1'), ('pull2_t0', 'pull1_t1')]\n"
     ]
    },
    {
     "data": {
      "application/vnd.jupyter.widget-view+json": {
       "model_id": "a1ce41387ee04f65a5621260940ea602",
       "version_major": 2,
       "version_minor": 0
      },
      "text/plain": [
       "  0%|          | 0/1000000 [00:00<?, ?it/s]"
      ]
     },
     "metadata": {},
     "output_type": "display_data"
    },
    {
     "name": "stdout",
     "output_type": "stream",
     "text": [
      "[('pull2_t0', 'pull2_t1'), ('pull2_t0', 'pull1_t1')]\n"
     ]
    },
    {
     "data": {
      "application/vnd.jupyter.widget-view+json": {
       "model_id": "65c04cdf4ff54a7691767ad02896b8ed",
       "version_major": 2,
       "version_minor": 0
      },
      "text/plain": [
       "  0%|          | 0/1000000 [00:00<?, ?it/s]"
      ]
     },
     "metadata": {},
     "output_type": "display_data"
    },
    {
     "name": "stdout",
     "output_type": "stream",
     "text": [
      "[('pull1_t0', 'pull2_t1'), ('pull2_t0', 'pull2_t1'), ('pull2_t0', 'pull1_t1')]\n"
     ]
    },
    {
     "data": {
      "application/vnd.jupyter.widget-view+json": {
       "model_id": "126c9432ca6344e79517ce85f72bbdf6",
       "version_major": 2,
       "version_minor": 0
      },
      "text/plain": [
       "  0%|          | 0/1000000 [00:00<?, ?it/s]"
      ]
     },
     "metadata": {},
     "output_type": "display_data"
    },
    {
     "name": "stdout",
     "output_type": "stream",
     "text": [
      "[('pull1_t0', 'pull2_t1'), ('pull2_t0', 'pull2_t1'), ('pull2_t0', 'pull1_t1')]\n"
     ]
    },
    {
     "data": {
      "application/vnd.jupyter.widget-view+json": {
       "model_id": "89adff15b22b4108bf891bd464739a96",
       "version_major": 2,
       "version_minor": 0
      },
      "text/plain": [
       "  0%|          | 0/1000000 [00:00<?, ?it/s]"
      ]
     },
     "metadata": {},
     "output_type": "display_data"
    },
    {
     "name": "stdout",
     "output_type": "stream",
     "text": [
      "[('pull1_t0', 'pull2_t1'), ('pull1_t0', 'owgaze2_t1'), ('pull2_t0', 'pull2_t1'), ('owgaze1_t0', 'owgaze1_t1')]\n"
     ]
    },
    {
     "data": {
      "application/vnd.jupyter.widget-view+json": {
       "model_id": "36b8dd6d505942c0b9510af017b68608",
       "version_major": 2,
       "version_minor": 0
      },
      "text/plain": [
       "  0%|          | 0/1000000 [00:00<?, ?it/s]"
      ]
     },
     "metadata": {},
     "output_type": "display_data"
    },
    {
     "name": "stdout",
     "output_type": "stream",
     "text": [
      "[('pull1_t0', 'pull2_t1'), ('owgaze1_t0', 'owgaze1_t1')]\n"
     ]
    },
    {
     "data": {
      "application/vnd.jupyter.widget-view+json": {
       "model_id": "ccd3aec711f14a3fa81f88b4f5a3e596",
       "version_major": 2,
       "version_minor": 0
      },
      "text/plain": [
       "  0%|          | 0/1000000 [00:00<?, ?it/s]"
      ]
     },
     "metadata": {},
     "output_type": "display_data"
    },
    {
     "name": "stdout",
     "output_type": "stream",
     "text": [
      "[('pull1_t0', 'pull2_t1'), ('pull2_t0', 'pull2_t1'), ('owgaze1_t0', 'owgaze1_t1'), ('owgaze1_t0', 'pull1_t1')]\n"
     ]
    },
    {
     "data": {
      "application/vnd.jupyter.widget-view+json": {
       "model_id": "263f7d438af34e1ea0a25ceb4526c9c8",
       "version_major": 2,
       "version_minor": 0
      },
      "text/plain": [
       "  0%|          | 0/1000000 [00:00<?, ?it/s]"
      ]
     },
     "metadata": {},
     "output_type": "display_data"
    },
    {
     "name": "stdout",
     "output_type": "stream",
     "text": [
      "[('pull1_t0', 'pull2_t1'), ('pull1_t0', 'pull1_t1'), ('pull2_t0', 'pull2_t1'), ('owgaze1_t0', 'owgaze1_t1')]\n"
     ]
    },
    {
     "data": {
      "application/vnd.jupyter.widget-view+json": {
       "model_id": "56b057d1e9bd413ca57e199b9e7338e5",
       "version_major": 2,
       "version_minor": 0
      },
      "text/plain": [
       "  0%|          | 0/1000000 [00:00<?, ?it/s]"
      ]
     },
     "metadata": {},
     "output_type": "display_data"
    },
    {
     "name": "stdout",
     "output_type": "stream",
     "text": [
      "[('pull1_t0', 'pull2_t1'), ('pull2_t0', 'pull2_t1'), ('owgaze1_t0', 'owgaze1_t1'), ('owgaze1_t0', 'pull1_t1')]\n"
     ]
    },
    {
     "data": {
      "application/vnd.jupyter.widget-view+json": {
       "model_id": "1222a2d863ae4a12b1b8a91cdb3fed38",
       "version_major": 2,
       "version_minor": 0
      },
      "text/plain": [
       "  0%|          | 0/1000000 [00:00<?, ?it/s]"
      ]
     },
     "metadata": {},
     "output_type": "display_data"
    },
    {
     "name": "stdout",
     "output_type": "stream",
     "text": [
      "[('pull1_t0', 'pull2_t1'), ('pull2_t0', 'pull2_t1'), ('owgaze1_t0', 'owgaze1_t1'), ('owgaze1_t0', 'owgaze2_t1')]\n"
     ]
    },
    {
     "data": {
      "application/vnd.jupyter.widget-view+json": {
       "model_id": "1d957b5c977842aea306ff9a413545be",
       "version_major": 2,
       "version_minor": 0
      },
      "text/plain": [
       "  0%|          | 0/1000000 [00:00<?, ?it/s]"
      ]
     },
     "metadata": {},
     "output_type": "display_data"
    },
    {
     "name": "stdout",
     "output_type": "stream",
     "text": [
      "[('pull1_t0', 'pull2_t1'), ('pull2_t0', 'pull2_t1'), ('pull2_t0', 'pull1_t1'), ('owgaze1_t0', 'owgaze1_t1')]\n"
     ]
    },
    {
     "data": {
      "application/vnd.jupyter.widget-view+json": {
       "model_id": "533690e9ce444bd78cd8feea6b0b5a5a",
       "version_major": 2,
       "version_minor": 0
      },
      "text/plain": [
       "  0%|          | 0/1000000 [00:00<?, ?it/s]"
      ]
     },
     "metadata": {},
     "output_type": "display_data"
    },
    {
     "name": "stdout",
     "output_type": "stream",
     "text": [
      "[('pull1_t0', 'pull2_t1'), ('pull2_t0', 'pull2_t1'), ('pull2_t0', 'pull1_t1'), ('owgaze1_t0', 'owgaze1_t1')]\n"
     ]
    },
    {
     "data": {
      "application/vnd.jupyter.widget-view+json": {
       "model_id": "7ea36020cdca4fb8b307d7e7c26b57f5",
       "version_major": 2,
       "version_minor": 0
      },
      "text/plain": [
       "  0%|          | 0/1000000 [00:00<?, ?it/s]"
      ]
     },
     "metadata": {},
     "output_type": "display_data"
    },
    {
     "name": "stdout",
     "output_type": "stream",
     "text": [
      "[('pull1_t0', 'pull2_t1'), ('pull2_t0', 'pull2_t1'), ('pull2_t0', 'pull1_t1'), ('owgaze1_t0', 'owgaze1_t1')]\n"
     ]
    },
    {
     "data": {
      "application/vnd.jupyter.widget-view+json": {
       "model_id": "1eb2274269054c168583cd7f7e346a40",
       "version_major": 2,
       "version_minor": 0
      },
      "text/plain": [
       "  0%|          | 0/1000000 [00:00<?, ?it/s]"
      ]
     },
     "metadata": {},
     "output_type": "display_data"
    },
    {
     "name": "stdout",
     "output_type": "stream",
     "text": [
      "[('pull1_t0', 'pull1_t1'), ('pull1_t0', 'pull2_t1'), ('pull2_t0', 'pull2_t1'), ('pull2_t0', 'pull1_t1'), ('owgaze1_t0', 'owgaze1_t1')]\n"
     ]
    },
    {
     "data": {
      "application/vnd.jupyter.widget-view+json": {
       "model_id": "317597905766453a81aeb609130f48d3",
       "version_major": 2,
       "version_minor": 0
      },
      "text/plain": [
       "  0%|          | 0/1000000 [00:00<?, ?it/s]"
      ]
     },
     "metadata": {},
     "output_type": "display_data"
    },
    {
     "name": "stdout",
     "output_type": "stream",
     "text": [
      "[('pull1_t0', 'pull2_t1'), ('pull1_t0', 'pull1_t1'), ('pull2_t0', 'pull2_t1'), ('pull2_t0', 'pull1_t1'), ('owgaze1_t0', 'owgaze1_t1')]\n"
     ]
    },
    {
     "data": {
      "application/vnd.jupyter.widget-view+json": {
       "model_id": "6681e6a4fbc4464aac8c9d7c1a73d55c",
       "version_major": 2,
       "version_minor": 0
      },
      "text/plain": [
       "  0%|          | 0/1000000 [00:00<?, ?it/s]"
      ]
     },
     "metadata": {},
     "output_type": "display_data"
    },
    {
     "name": "stdout",
     "output_type": "stream",
     "text": [
      "[('pull1_t0', 'pull2_t1'), ('pull2_t0', 'pull2_t1'), ('pull2_t0', 'pull1_t1')]\n"
     ]
    },
    {
     "data": {
      "application/vnd.jupyter.widget-view+json": {
       "model_id": "0c59e24db6434a3ab6fd9963929d9177",
       "version_major": 2,
       "version_minor": 0
      },
      "text/plain": [
       "  0%|          | 0/1000000 [00:00<?, ?it/s]"
      ]
     },
     "metadata": {},
     "output_type": "display_data"
    },
    {
     "name": "stdout",
     "output_type": "stream",
     "text": [
      "[('pull1_t0', 'pull2_t1'), ('pull2_t0', 'pull2_t1'), ('pull2_t0', 'pull1_t1'), ('owgaze1_t0', 'owgaze1_t1')]\n"
     ]
    },
    {
     "data": {
      "application/vnd.jupyter.widget-view+json": {
       "model_id": "7b676a05c3c943ce8450660ce0598a0c",
       "version_major": 2,
       "version_minor": 0
      },
      "text/plain": [
       "  0%|          | 0/1000000 [00:00<?, ?it/s]"
      ]
     },
     "metadata": {},
     "output_type": "display_data"
    },
    {
     "name": "stdout",
     "output_type": "stream",
     "text": [
      "[('pull2_t0', 'pull2_t1'), ('pull2_t0', 'pull1_t1'), ('owgaze1_t0', 'owgaze1_t1')]\n"
     ]
    },
    {
     "data": {
      "application/vnd.jupyter.widget-view+json": {
       "model_id": "02f83b9c213048fcab737cee54ab51ba",
       "version_major": 2,
       "version_minor": 0
      },
      "text/plain": [
       "  0%|          | 0/1000000 [00:00<?, ?it/s]"
      ]
     },
     "metadata": {},
     "output_type": "display_data"
    },
    {
     "name": "stdout",
     "output_type": "stream",
     "text": [
      "[('pull1_t0', 'owgaze1_t1'), ('pull2_t0', 'pull2_t1'), ('pull2_t0', 'pull1_t1')]\n"
     ]
    },
    {
     "data": {
      "application/vnd.jupyter.widget-view+json": {
       "model_id": "add443e827af4416a039fd0474e7daa9",
       "version_major": 2,
       "version_minor": 0
      },
      "text/plain": [
       "  0%|          | 0/1000000 [00:00<?, ?it/s]"
      ]
     },
     "metadata": {},
     "output_type": "display_data"
    },
    {
     "name": "stdout",
     "output_type": "stream",
     "text": [
      "[('pull1_t0', 'owgaze1_t1'), ('pull2_t0', 'pull2_t1'), ('pull2_t0', 'pull1_t1')]\n"
     ]
    },
    {
     "data": {
      "application/vnd.jupyter.widget-view+json": {
       "model_id": "1a07503d5a2148a799038bddad043c92",
       "version_major": 2,
       "version_minor": 0
      },
      "text/plain": [
       "  0%|          | 0/1000000 [00:00<?, ?it/s]"
      ]
     },
     "metadata": {},
     "output_type": "display_data"
    },
    {
     "name": "stdout",
     "output_type": "stream",
     "text": [
      "[('pull2_t0', 'pull1_t1'), ('pull2_t0', 'pull2_t1')]\n"
     ]
    },
    {
     "data": {
      "image/png": "[encoded data removed]",
      "text/plain": [
       "<Figure size 1800x360 with 2 Axes>"
      ]
     },
     "metadata": {
      "needs_background": "light"
     },
     "output_type": "display_data"
    },
    {
     "data": {
      "image/png": "[encoded data removed]",
      "text/plain": [
       "<Figure size 1800x360 with 2 Axes>"
      ]
     },
     "metadata": {
      "needs_background": "light"
     },
     "output_type": "display_data"
    },
    {
     "data": {
      "image/png": "[encoded data removed]",
      "text/plain": [
       "<Figure size 1800x360 with 2 Axes>"
      ]
     },
     "metadata": {
      "needs_background": "light"
     },
     "output_type": "display_data"
    },
    {
     "data": {
      "image/png": "[encoded data removed]",
      "text/plain": [
       "<Figure size 1800x360 with 2 Axes>"
      ]
     },
     "metadata": {
      "needs_background": "light"
     },
     "output_type": "display_data"
    },
    {
     "data": {
      "image/png": "[encoded data removed]",
      "text/plain": [
       "<Figure size 1800x360 with 2 Axes>"
      ]
     },
     "metadata": {
      "needs_background": "light"
     },
     "output_type": "display_data"
    },
    {
     "data": {
      "image/png": "[encoded data removed]",
      "text/plain": [
       "<Figure size 1800x360 with 2 Axes>"
      ]
     },
     "metadata": {
      "needs_background": "light"
     },
     "output_type": "display_data"
    },
    {
     "data": {
      "image/png": "[encoded data removed]",
      "text/plain": [
       "<Figure size 1800x360 with 2 Axes>"
      ]
     },
     "metadata": {
      "needs_background": "light"
     },
     "output_type": "display_data"
    },
    {
     "data": {
      "image/png": "[encoded data removed]",
      "text/plain": [
       "<Figure size 1800x360 with 2 Axes>"
      ]
     },
     "metadata": {
      "needs_background": "light"
     },
     "output_type": "display_data"
    },
    {
     "data": {
      "image/png": "[encoded data removed]",
      "text/plain": [
       "<Figure size 1800x360 with 2 Axes>"
      ]
     },
     "metadata": {
      "needs_background": "light"
     },
     "output_type": "display_data"
    },
    {
     "data": {
      "image/png": "[encoded data removed]",
      "text/plain": [
       "<Figure size 1800x360 with 2 Axes>"
      ]
     },
     "metadata": {
      "needs_background": "light"
     },
     "output_type": "display_data"
    }
   ],
   "source": [
    "# gaze angle threshold\n",
    "# angle_thres = np.pi/36 # 5 degree\n",
    "angle_thres = np.pi/18 # 10 degree\n",
    "\n",
    "# get the fps of the analyzed video\n",
    "fps = 30\n",
    "\n",
    "dates_list = [\"20220909\",\"20220912\",\"20220915\",\"20220920\",\"20220922\".\"20220923\"]\n",
    "# dates_list = [\"20221022\"]\n",
    "ndates = np.shape(dates_list)[0]\n",
    "\n",
    "animal1_fixedorder = 'dodson'\n",
    "animal2_fixedorder = 'scorch'\n",
    "\n",
    "# aligned with the audio\n",
    "# get the session start time from \"videosound_bhv_sync.py/.ipynb\"\n",
    "# currently the session_start_time will be manually typed in. It can be updated after a better method is used\n",
    "session_start_times = [2.80, 27.80, 272.50, 27.90, 27.00, 28.70, 45.30, 21.10, 27.10, 51.90] # in second\n",
    "# session_start_times = [51.90] # in second\n",
    "session_start_frames = session_start_times * fps # fps is 30Hz\n",
    "\n",
    "DAGs_all_dates = np.zeros((ndates,4,4))\n",
    "DAGs_thres_dates = np.zeros((ndates,4,4))\n",
    "\n",
    "for idate in np.arange(0,ndates,1):\n",
    "    date_tgt = dates_list[idate]\n",
    "    session_start_time = session_start_times[idate]\n",
    "    \n",
    "    # folder path\n",
    "    camera12_analyzed_path = \"/ysm-gpfs/pi/jadi/VideoTracker_SocialInter/test_video_cooperative_task_3d/\"+date_tgt+\"_Dodson_Scorch_camera12/\"\n",
    "    camera23_analyzed_path = \"/ysm-gpfs/pi/jadi/VideoTracker_SocialInter/test_video_cooperative_task_3d/\"+date_tgt+\"_Dodson_Scorch_camera23/\"\n",
    "    \n",
    "    \n",
    "    # load camera tracking results\n",
    "    try:\n",
    "        ## read\n",
    "        with open(camera23_analyzed_path + 'body_part_locs_camera23.pkl', 'rb') as f:\n",
    "            body_part_locs_camera23 = pickle.load(f) \n",
    "        with open(camera12_analyzed_path + 'body_part_locs_camera12.pkl', 'rb') as f:\n",
    "            body_part_locs_camera12 = pickle.load(f) \n",
    "    except:\n",
    "        print(\"did not save data\")\n",
    "    \n",
    "    \n",
    "    # load behavioral results\n",
    "    try:\n",
    "        bhv_data_path = \"/home/ws523/marmoset_tracking_bhv_data_from_task_code/\"+date_tgt+\"_Dodson_Scorch/\"\n",
    "        trial_record_json = bhv_data_path +date_tgt+\"_Scorch_Dodson_TrialRecord_1.json\"\n",
    "        bhv_data_json = bhv_data_path + date_tgt+\"_Scorch_Dodson_bhv_data_1.json\"\n",
    "        session_info_json = bhv_data_path + date_tgt+\"_Scorch_Dodson_session_info_1.json\"\n",
    "        #\n",
    "        trial_record = pd.read_json(trial_record_json)\n",
    "        bhv_data = pd.read_json(bhv_data_json)\n",
    "        session_info = pd.read_json(session_info_json)\n",
    "    except:\n",
    "        bhv_data_path = \"/home/ws523/marmoset_tracking_bhv_data_from_task_code/\"+date_tgt+\"_Dodson_Scorch/\"\n",
    "        trial_record_json = bhv_data_path + date_tgt+\"_Dodson_Scorch_TrialRecord_1.json\"\n",
    "        bhv_data_json = bhv_data_path + date_tgt+\"_Dodson_Scorch_bhv_data_1.json\"\n",
    "        session_info_json = bhv_data_path + date_tgt+\"_Dodson_Scorch_session_info_1.json\"\n",
    "        #\n",
    "        trial_record = pd.read_json(trial_record_json)\n",
    "        bhv_data = pd.read_json(bhv_data_json)\n",
    "        session_info = pd.read_json(session_info_json)\n",
    "    \n",
    "    # get animal info\n",
    "    animal1 = session_info['lever1_animal'][0].lower()\n",
    "    animal2 = session_info['lever2_animal'][0].lower()\n",
    "    \n",
    "    # clean up the trial_record\n",
    "    warnings.filterwarnings('ignore')\n",
    "    trial_record_clean = pd.DataFrame(columns=trial_record.columns)\n",
    "    for itrial in np.arange(0,np.max(trial_record['trial_number']),1):\n",
    "        # trial_record_clean.loc[itrial] = trial_record[trial_record['trial_number']==itrial+1].iloc[[0]]\n",
    "        trial_record_clean = trial_record_clean.append(trial_record[trial_record['trial_number']==itrial+1].iloc[[0]])\n",
    "    trial_record_clean = trial_record_clean.reset_index(drop = True)\n",
    "    \n",
    "    # change bhv_data time to the absolute time\n",
    "    time_points_new = pd.DataFrame(np.zeros(np.shape(bhv_data)[0]),columns=[\"time_points_new\"])\n",
    "    for itrial in np.arange(0,np.max(trial_record_clean['trial_number']),1):\n",
    "        ind = bhv_data[\"trial_number\"]==itrial+1\n",
    "        new_time_itrial = bhv_data[ind][\"time_points\"] + trial_record_clean[\"trial_starttime\"].iloc[itrial]\n",
    "        time_points_new[\"time_points_new\"][ind] = new_time_itrial\n",
    "    bhv_data[\"time_points\"] = time_points_new[\"time_points_new\"]\n",
    "    \n",
    "    \n",
    "    # load behavioral event results\n",
    "    try:\n",
    "        # load data\n",
    "        with open(camera23_analyzed_path + 'time_point_pull1.pkl', 'rb') as f:\n",
    "            time_point_pull1 = pickle.load(f) \n",
    "        with open(camera23_analyzed_path + 'time_point_pull2.pkl', 'rb') as f:\n",
    "            time_point_pull2 = pickle.load(f) \n",
    "        with open(camera23_analyzed_path + 'oneway_gaze1.pkl', 'rb') as f:\n",
    "            oneway_gaze1 = pickle.load(f) \n",
    "        with open(camera23_analyzed_path + 'oneway_gaze2.pkl', 'rb') as f:\n",
    "            oneway_gaze2 = pickle.load(f) \n",
    "        with open(camera23_analyzed_path + 'mutual_gaze1.pkl', 'rb') as f:\n",
    "            mutual_gaze1 = pickle.load(f) \n",
    "        with open(camera23_analyzed_path + 'mutual_gaze2.pkl', 'rb') as f:\n",
    "            mutual_gaze2 = pickle.load(f) \n",
    "    except:\n",
    "        # Align the two pairs of camera\n",
    "        RR_sum, tt_sum, err_sum = camera_align(body_part_locs_camera23, body_part_locs_camera12)\n",
    "    \n",
    "        # Merge two pairs of camera\n",
    "        body_part_locs_merge = camera_merge(body_part_locs_camera23, body_part_locs_camera12, RR_sum, tt_sum, err_sum)\n",
    "    \n",
    "        # get social gaze information \n",
    "        eye_direction_merge, eye_contact_or_not_merge, look_at_face_or_not_merge = find_socialgaze_timepoint(body_part_locs_camera23, body_part_locs_camera12, body_part_locs_merge, angle_thres)\n",
    "    \n",
    "        session_start_time = session_start_times[idate]\n",
    "        eye_direction_merge['time_in_second'] = np.arange(0,np.shape(eye_direction_merge['dodson'])[0],1)/fps - session_start_time\n",
    "        eye_contact_or_not_merge['time_in_second'] = np.arange(0,np.shape(eye_contact_or_not_merge['dodson'])[0],1)/fps - session_start_time\n",
    "        look_at_face_or_not_merge['time_in_second'] = np.arange(0,np.shape(look_at_face_or_not_merge['dodson'])[0],1)/fps - session_start_time \n",
    "  \n",
    "        # fine time point of behavioral events\n",
    "        time_point_pull1, time_point_pull2, oneway_gaze1, oneway_gaze2, mutual_gaze1, mutual_gaze2 = bhv_events_timepoint(bhv_data, eye_direction_merge, eye_contact_or_not_merge, look_at_face_or_not_merge)\n",
    "        # save data\n",
    "        with open(camera23_analyzed_path + 'time_point_pull1.pkl', 'wb') as f:\n",
    "            pickle.dump(time_point_pull1, f)\n",
    "        with open(camera23_analyzed_path + 'time_point_pull2.pkl', 'wb') as f:\n",
    "            pickle.dump(time_point_pull2, f)\n",
    "        with open(camera23_analyzed_path + 'oneway_gaze1.pkl', 'wb') as f:\n",
    "            pickle.dump(oneway_gaze1, f)\n",
    "        with open(camera23_analyzed_path + 'oneway_gaze2.pkl', 'wb') as f:\n",
    "            pickle.dump(oneway_gaze2, f)\n",
    "        with open(camera23_analyzed_path + 'mutual_gaze1.pkl', 'wb') as f:\n",
    "            pickle.dump(mutual_gaze1, f)\n",
    "        with open(camera23_analyzed_path + 'mutual_gaze2.pkl', 'wb') as f:\n",
    "            pickle.dump(mutual_gaze2, f)\n",
    "    \n",
    "    \n",
    "    # # plot behavioral events\n",
    "    if animal1 == animal1_fixedorder:\n",
    "        plot_bhv_events(animal1, animal2, session_start_time, time_point_pull1, time_point_pull2, oneway_gaze1, oneway_gaze2, mutual_gaze1, mutual_gaze2)\n",
    "    else:\n",
    "        plot_bhv_events(animal2, animal1, session_start_time, time_point_pull2, time_point_pull1, oneway_gaze2, oneway_gaze1, mutual_gaze2, mutual_gaze1)\n",
    "        \n",
    "    # # plot inter-pull interval\n",
    "    # plot_interpull_interval(animal1, animal2, time_point_pull1, time_point_pull2)\n",
    "    \n",
    "    # # train the dynamic bayesian network - simple model\n",
    "    # temp_resolu = 0.5 # temporala resolution in the DBN model 0.5 means 500ms\n",
    "    # model = train_DBN(totalsess_time,temp_resolu, time_point_pull1, time_point_pull2, oneway_gaze1, oneway_gaze2, mutual_gaze1, mutual_gaze2)\n",
    "    # plot the simple DBN\n",
    "    # pos=nx.spring_layout(model)\n",
    "    # nx.draw(model,pos,with_labels = True)\n",
    "    # labels = nx.get_edge_attributes(model,'weight')\n",
    "    # nx.draw_networkx_edge_labels(model,pos,edge_labels=labels\n",
    "    # model.get_cpds()\n",
    "    \n",
    "    # # train the dynamic bayesian network - Alec's model\n",
    "    # temp_resolu = 2 # temporal resolution in the DBN model, eg: 0.5 means 500ms\n",
    "    # totalsess_time = 660 # total session time in s\n",
    "    # best_model, edges, DAGs,_,_,_ = train_DBN_alec(totalsess_time, temp_resolu, time_point_pull1, time_point_pull2, oneway_gaze1, oneway_gaze2, mutual_gaze1, mutual_gaze2)\n",
    "    \n",
    "    # # train the dynamic bayesian network - Alec's model for separate \"trials\"\n",
    "    # temp_resolu = 2 # temporala resolution in the DBN model 0.5 means 500ms\n",
    "    # totalsess_time = 600 # total session time in s\n",
    "    # DAGs_itrial, weighted_graphs,_,_,_ = train_DBN_alec_eachtrial(totalsess_time, temp_resolu, time_point_pull1, time_point_pull2, oneway_gaze1, oneway_gaze2, mutual_gaze1, mutual_gaze2)\n",
    "    \n",
    "    # # train the dynamic bayesian network - Alec's model, try different time step\n",
    "    temp_resolus = [0.5,1,1.5,2,2.5,3,3.5,4,4.5,5,5.5,6,6.5,7,7.5,8,8.5] # temporal resolution in the DBN model, eg: 0.5 means 500ms\n",
    "    ntemp_reses = np.shape(temp_resolus)[0]\n",
    "    totalsess_time = 660 # total session time in s\n",
    "    DAGs_all_tempres = np.zeros([4,4])\n",
    "    for temp_resolu in temp_resolus:\n",
    "        if animal1 == animal1_fixedorder:\n",
    "            best_model,edges,DAGs,eventnames,from_pops,to_pops = train_DBN_alec(totalsess_time, temp_resolu, time_point_pull1, time_point_pull2, oneway_gaze1, oneway_gaze2, mutual_gaze1, mutual_gaze2)\n",
    "        else:\n",
    "            best_model,edges,DAGs,eventnames,from_pops,to_pops = train_DBN_alec(totalsess_time, temp_resolu, time_point_pull2, time_point_pull1, oneway_gaze2, oneway_gaze1, mutual_gaze2, mutual_gaze1)     \n",
    "        print(edges)\n",
    "        DAGs_all_tempres = DAGs_all_tempres + DAGs[0]\n",
    "    DAGs_all_tempres = DAGs_all_tempres/ntemp_reses\n",
    "    DAGs_thres_tempres = np.zeros([4,4])\n",
    "    DAGs_thres_tempres[DAGs_all_tempres>0.5]=1\n",
    "    #\n",
    "    DAGs_all_dates[idate,:,:]= DAGs_all_tempres\n",
    "    DAGs_thres_dates[idate,:,:] = DAGs_thres_tempres\n",
    "    #\n",
    "    edge_list = [(from_pop,to_pop) for from_pop in from_pops for to_pop in to_pops]\n",
    "    ind_edges = np.reshape(np.transpose(np.mean(DAGs_thres_dates,axis=0)>0.15),(16,1))\n",
    "    edges_good = [edge_list[i] for i in np.where(ind_edges)[0]]"
   ]
  },
  {
   "cell_type": "code",
   "execution_count": 163,
   "id": "ee34c346",
   "metadata": {},
   "outputs": [
    {
     "data": {
      "text/plain": [
       "[('pull1_t0', 'pull1_t1'),\n",
       " ('pull1_t0', 'pull2_t1'),\n",
       " ('pull2_t0', 'pull1_t1'),\n",
       " ('pull2_t0', 'pull2_t1'),\n",
       " ('pull2_t0', 'owgaze1_t1'),\n",
       " ('owgaze1_t0', 'owgaze1_t1'),\n",
       " ('owgaze2_t0', 'owgaze2_t1')]"
      ]
     },
     "execution_count": 163,
     "metadata": {},
     "output_type": "execute_result"
    }
   ],
   "source": [
    "edges_good"
   ]
  },
  {
   "cell_type": "code",
   "execution_count": 164,
   "id": "a9df4ee5",
   "metadata": {},
   "outputs": [
    {
     "data": {
      "text/plain": [
       "array([[0.4, 0.2, 0. , 0. ],\n",
       "       [0.5, 0.6, 0. , 0. ],\n",
       "       [0. , 0.3, 0.2, 0. ],\n",
       "       [0. , 0. , 0. , 0.3]])"
      ]
     },
     "execution_count": 164,
     "metadata": {},
     "output_type": "execute_result"
    }
   ],
   "source": [
    "np.mean(DAGs_thres_dates,axis=0)"
   ]
  },
  {
   "cell_type": "code",
   "execution_count": null,
   "id": "48f9862b",
   "metadata": {},
   "outputs": [],
   "source": []
  }
 ],
 "metadata": {
  "kernelspec": {
   "display_name": "Python 3 (ipykernel)",
   "language": "python",
   "name": "python3"
  },
  "language_info": {
   "codemirror_mode": {
    "name": "ipython",
    "version": 3
   },
   "file_extension": ".py",
   "mimetype": "text/x-python",
   "name": "python",
   "nbconvert_exporter": "python",
   "pygments_lexer": "ipython3",
   "version": "3.8.6"
  }
 },
 "nbformat": 4,
 "nbformat_minor": 5
}
