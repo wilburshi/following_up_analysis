{
 "cells": [
  {
   "cell_type": "code",
   "execution_count": 1,
   "id": "f1849ae6",
   "metadata": {},
   "outputs": [],
   "source": [
    "import pandas as pd\n",
    "import numpy as np\n",
    "import matplotlib.pyplot as plt\n",
    "import scipy\n",
    "import string\n",
    "import warnings\n",
    "import pickle\n",
    "from pgmpy.models import BayesianModel\n",
    "from pgmpy.models import DynamicBayesianNetwork as DBN\n",
    "from pgmpy.estimators import BayesianEstimator\n",
    "from pgmpy.estimators import HillClimbSearch,BicScore\n",
    "import networkx as nx"
   ]
  },
  {
   "cell_type": "markdown",
   "id": "d6ae6f98",
   "metadata": {},
   "source": [
    "### function - align the two cameras"
   ]
  },
  {
   "cell_type": "code",
   "execution_count": 2,
   "id": "31b03438",
   "metadata": {},
   "outputs": [],
   "source": [
    "def camera_align(body_part_locs_camera23, body_part_locs_camera12):\n",
    "# try the rotation on all possible pairs\n",
    "    animal_names_unique = pd.unique(pd.DataFrame(body_part_locs_camera23.keys()).iloc[:,0])\n",
    "    body_parts_unique = pd.unique(pd.DataFrame(body_part_locs_camera23.keys()).iloc[:,1])\n",
    "    \n",
    "    RR_sum = {}\n",
    "    tt_sum = {}\n",
    "    err_sum = {}\n",
    "    for iname in animal_names_unique:\n",
    "        for ibody in body_parts_unique:\n",
    "            xxx = body_part_locs_camera23[(iname,ibody)]\n",
    "            yyy = body_part_locs_camera12[(iname,ibody)]\n",
    "            min_length = np.min([xxx.shape[0],yyy.shape[0]])\n",
    "        \n",
    "            xxx = xxx.loc[np.arange(0,min_length,1),:]\n",
    "            yyy = yyy.loc[np.arange(0,min_length,1),:]     \n",
    "        \n",
    "            ind_good = (~np.isnan(xxx.iloc[:,0]) & ~np.isnan(xxx.iloc[:,1]) & ~np.isnan(xxx.iloc[:,2])) & (~np.isnan(yyy.iloc[:,0]) & ~np.isnan(yyy.iloc[:,1]) & ~np.isnan(yyy.iloc[:,2])) \n",
    "            xxx_values = pd.DataFrame.transpose(xxx.loc[ind_good,:]).values\n",
    "            yyy_values = pd.DataFrame.transpose(yyy.loc[ind_good,:]).values\n",
    "        \n",
    "            xxx_centroid = np.dot(np.mean(xxx_values,axis = 1).reshape(3,1), np.ones((1,np.shape(xxx_values)[1])))\n",
    "            yyy_centroid = np.dot(np.mean(yyy_values,axis = 1).reshape(3,1), np.ones((1,np.shape(xxx_values)[1])))\n",
    "            HH = np.dot((xxx_values - xxx_centroid), np.transpose(yyy_values - yyy_centroid))\n",
    "            u, s, vh = np.linalg.svd(HH, full_matrices=True)\n",
    "            RR = np.dot(np.transpose(vh),np.transpose(u))\n",
    "            tt= yyy_centroid - np.dot(RR,xxx_centroid)\n",
    "            tt = tt[:,1].reshape(3,1)\n",
    "        \n",
    "            RR_sum[(iname,ibody)] = RR\n",
    "            tt_sum[(iname,ibody)] = tt\n",
    "            err_sum[(iname,ibody)] = np.sum(np.square(yyy_values - (np.dot(RR,xxx_values)+np.dot(tt, np.ones((1,np.shape(xxx_values)[1]))))))\n",
    "    \n",
    "    return RR_sum, tt_sum, err_sum"
   ]
  },
  {
   "cell_type": "markdown",
   "id": "494356c2",
   "metadata": {},
   "source": [
    "### function - merge the two pairs of cameras"
   ]
  },
  {
   "cell_type": "code",
   "execution_count": 3,
   "id": "3bda6cfa",
   "metadata": {},
   "outputs": [],
   "source": [
    "def camera_merge(body_part_locs_camera23, body_part_locs_camera12, RR_sum, tt_sum, err_sum):\n",
    "# merge the two pairs of cameras\n",
    "    animal_names_unique = pd.unique(pd.DataFrame(body_part_locs_camera23.keys()).iloc[:,0])\n",
    "    body_parts_unique = pd.unique(pd.DataFrame(body_part_locs_camera23.keys()).iloc[:,1])\n",
    "    \n",
    "    body_part_locs_merge = {}\n",
    "    for iname in animal_names_unique:\n",
    "        for ibody in body_parts_unique:\n",
    "            xxx = body_part_locs_camera23[(iname,ibody)]\n",
    "            yyy = body_part_locs_camera12[(iname,ibody)]\n",
    "            min_length = np.min([xxx.shape[0],yyy.shape[0]])\n",
    "            \n",
    "            # RR = RR_sum[min(err_sum, key=err_sum.get)]\n",
    "            # tt = tt_sum[min(err_sum, key=err_sum.get)]\n",
    "            RR = RR_sum[(iname,ibody)]\n",
    "            tt = tt_sum[(iname,ibody)]\n",
    "            body_part_x = np.transpose(xxx.loc[np.arange(0,min_length,1),:])\n",
    "            body_part_project = np.transpose(np.dot(RR,body_part_x) + np.dot(tt, np.ones((1,np.shape(body_part_x)[1]))))\n",
    "            body_part_origin = yyy.loc[np.arange(0,min_length,1),:].values\n",
    "            body_part_origin[np.sum(np.isnan(body_part_origin),axis=1)>0,:] = body_part_project[np.sum(np.isnan(body_part_origin),axis=1)>0,:]\n",
    "            #\n",
    "            body_part_locs_merge[(iname,ibody)] = body_part_origin\n",
    "    \n",
    "    return body_part_locs_merge"
   ]
  },
  {
   "cell_type": "markdown",
   "id": "23dc7f6a",
   "metadata": {},
   "source": [
    "### function - find social gaze time point"
   ]
  },
  {
   "cell_type": "code",
   "execution_count": 4,
   "id": "71f6ec00",
   "metadata": {},
   "outputs": [],
   "source": [
    "def find_socialgaze_timepoint(body_part_locs_camera23, body_part_locs_camera12, body_part_locs_merge, angle_thres):\n",
    "    \n",
    "    animal_names_unique = pd.unique(pd.DataFrame(body_part_locs_camera23.keys()).iloc[:,0])\n",
    "    body_parts_unique = pd.unique(pd.DataFrame(body_part_locs_camera23.keys()).iloc[:,1])\n",
    "    min_length = np.min([list(body_part_locs_camera23.values())[0].shape[0],list(body_part_locs_camera12.values())[0].shape[0]])\n",
    "\n",
    "    warnings.filterwarnings('ignore')\n",
    "    eye_direction_merge = {}\n",
    "    eye_contact_or_not_merge = {}\n",
    "    look_at_face_or_not_merge = {}\n",
    "    \n",
    "    for iname in animal_names_unique:\n",
    "        eye_dir_frames = []\n",
    "        eye_contact_frames = []\n",
    "        look_at_face_frames = []\n",
    "        \n",
    "        for iframe in np.arange(0,min_length,1):\n",
    "            lefteye_loc = body_part_locs_merge[(iname,'leftEye')][iframe,:]\n",
    "            righteye_loc = body_part_locs_merge[(iname,'rightEye')][iframe,:]\n",
    "            lefttuft_loc = body_part_locs_merge[(iname,'leftTuft')][iframe,:]\n",
    "            righttuft_loc = body_part_locs_merge[(iname,'rightTuft')][iframe,:]\n",
    "            whiblz_loc = body_part_locs_merge[(iname,'whiteBlaze')][iframe,:]\n",
    "            mouth_loc = body_part_locs_merge[(iname,'mouth')][iframe,:]\n",
    "        \n",
    "            Vect1 = lefteye_loc - righteye_loc\n",
    "            Vect2 = whiblz_loc - mouth_loc\n",
    "            Vect3 = lefttuft_loc - lefteye_loc\n",
    "            Vect4 = righttuft_loc - righteye_loc\n",
    "        \n",
    "            try:       \n",
    "                Vect1 = Vect1 / scipy.linalg.norm(Vect1)\n",
    "                Vect2 = Vect2 / scipy.linalg.norm(Vect2) \n",
    "            except:\n",
    "                Vect1 = Vect1\n",
    "                Vect2 = Vect2\n",
    "            eyesight_dir = np.cross(Vect1, Vect2)\n",
    "        \n",
    "            if ((np.dot(eyesight_dir, Vect3)>0) | (np.dot(eyesight_dir, Vect4)>0)):\n",
    "                eyesight_dir = -eyesight_dir\n",
    "        \n",
    "            eye_dir_frames.append(eyesight_dir)      \n",
    "        \n",
    "            # examine whether this animal is looking at the other's eyes or face\n",
    "            if (iname == animal_names_unique[0]): \n",
    "                iname_other = animal_names_unique[1]\n",
    "            elif (iname == animal_names_unique[1]): \n",
    "                iname_other = animal_names_unique[0]\n",
    "            \n",
    "            lefteye_loc_other = body_part_locs_merge[(iname_other,'leftEye')][iframe,:]\n",
    "            righteye_loc_other = body_part_locs_merge[(iname_other,'rightEye')][iframe,:]\n",
    "            lefttuft_loc_other = body_part_locs_merge[(iname_other,'leftTuft')][iframe,:]\n",
    "            righttuft_loc_other = body_part_locs_merge[(iname_other,'rightTuft')][iframe,:]\n",
    "            whiblz_loc_other = body_part_locs_merge[(iname_other,'whiteBlaze')][iframe,:]\n",
    "            mouth_loc_other = body_part_locs_merge[(iname_other,'mouth')][iframe,:]\n",
    "        \n",
    "            # where left eye is looking\n",
    "            # vector between body part\n",
    "            vect1_lefteye = lefteye_loc_other - lefteye_loc\n",
    "            vect2_lefteye = righteye_loc_other - lefteye_loc\n",
    "            vect3_lefteye = lefttuft_loc_other - lefteye_loc\n",
    "            vect4_lefteye = righttuft_loc_other - lefteye_loc\n",
    "            vect5_lefteye = whiblz_loc_other - lefteye_loc\n",
    "            vect6_lefteye = mouth_loc_other - lefteye_loc\n",
    "            # angle between body part vector and eyesight direction\n",
    "            angle1_lefteye =  np.sign(np.dot(eyesight_dir,vect1_lefteye))*np.arccos(np.clip(np.dot(eyesight_dir/np.linalg.norm(eyesight_dir), vect1_lefteye/np.linalg.norm(vect1_lefteye)), -1.0, 1.0))       \n",
    "            angle2_lefteye =  np.sign(np.dot(eyesight_dir,vect2_lefteye))*np.arccos(np.clip(np.dot(eyesight_dir/np.linalg.norm(eyesight_dir), vect2_lefteye/np.linalg.norm(vect2_lefteye)), -1.0, 1.0))\n",
    "            angle3_lefteye =  np.sign(np.dot(eyesight_dir,vect3_lefteye))*np.arccos(np.clip(np.dot(eyesight_dir/np.linalg.norm(eyesight_dir), vect3_lefteye/np.linalg.norm(vect3_lefteye)), -1.0, 1.0))\n",
    "            angle4_lefteye =  np.sign(np.dot(eyesight_dir,vect4_lefteye))*np.arccos(np.clip(np.dot(eyesight_dir/np.linalg.norm(eyesight_dir), vect4_lefteye/np.linalg.norm(vect4_lefteye)), -1.0, 1.0))\n",
    "            angle5_lefteye =  np.sign(np.dot(eyesight_dir,vect5_lefteye))*np.arccos(np.clip(np.dot(eyesight_dir/np.linalg.norm(eyesight_dir), vect5_lefteye/np.linalg.norm(vect5_lefteye)), -1.0, 1.0))\n",
    "            angle6_lefteye =  np.sign(np.dot(eyesight_dir,vect6_lefteye))*np.arccos(np.clip(np.dot(eyesight_dir/np.linalg.norm(eyesight_dir), vect6_lefteye/np.linalg.norm(vect6_lefteye)), -1.0, 1.0))\n",
    "        \n",
    "            # where right eye is looking\n",
    "            # vector between body part\n",
    "            vect1_righteye = lefteye_loc_other - righteye_loc\n",
    "            vect2_righteye = righteye_loc_other - righteye_loc\n",
    "            vect3_righteye = lefttuft_loc_other - righteye_loc\n",
    "            vect4_righteye = righttuft_loc_other - righteye_loc\n",
    "            vect5_righteye = whiblz_loc_other - righteye_loc\n",
    "            vect6_righteye = mouth_loc_other - righteye_loc\n",
    "            # angle between body part vector and eyesight direction\n",
    "            angle1_righteye =  np.sign(np.dot(eyesight_dir,vect1_righteye))*np.arccos(np.clip(np.dot(eyesight_dir/np.linalg.norm(eyesight_dir), vect1_righteye/np.linalg.norm(vect1_righteye)), -1.0, 1.0))       \n",
    "            angle2_righteye =  np.sign(np.dot(eyesight_dir,vect2_righteye))*np.arccos(np.clip(np.dot(eyesight_dir/np.linalg.norm(eyesight_dir), vect2_righteye/np.linalg.norm(vect2_righteye)), -1.0, 1.0))\n",
    "            angle3_righteye =  np.sign(np.dot(eyesight_dir,vect3_righteye))*np.arccos(np.clip(np.dot(eyesight_dir/np.linalg.norm(eyesight_dir), vect3_righteye/np.linalg.norm(vect3_righteye)), -1.0, 1.0))\n",
    "            angle4_righteye =  np.sign(np.dot(eyesight_dir,vect4_righteye))*np.arccos(np.clip(np.dot(eyesight_dir/np.linalg.norm(eyesight_dir), vect4_righteye/np.linalg.norm(vect4_righteye)), -1.0, 1.0))\n",
    "            angle5_righteye =  np.sign(np.dot(eyesight_dir,vect5_righteye))*np.arccos(np.clip(np.dot(eyesight_dir/np.linalg.norm(eyesight_dir), vect5_righteye/np.linalg.norm(vect5_righteye)), -1.0, 1.0))\n",
    "            angle6_righteye =  np.sign(np.dot(eyesight_dir,vect6_righteye))*np.arccos(np.clip(np.dot(eyesight_dir/np.linalg.norm(eyesight_dir), vect6_righteye/np.linalg.norm(vect6_righteye)), -1.0, 1.0))\n",
    "        \n",
    "            lefteye_contact_thres = ((angle1_lefteye>0)&(angle1_lefteye<angle_thres))|((angle2_lefteye>0)&(angle2_lefteye<angle_thres))\n",
    "            lefteye_lookface_thres = ((angle3_lefteye>0)&(angle3_lefteye<angle_thres))|((angle4_lefteye>0)&(angle4_lefteye<angle_thres))|((angle5_lefteye>0)&(angle5_lefteye<angle_thres))|((angle6_lefteye>0)&(angle6_lefteye<angle_thres))\n",
    "            righteye_contact_thres = ((angle1_righteye>0)&(angle1_righteye<angle_thres))|((angle2_righteye>0)&(angle2_righteye<angle_thres))\n",
    "            righteye_lookface_thres = ((angle3_righteye>0)&(angle3_righteye<angle_thres))|((angle4_righteye>0)&(angle4_righteye<angle_thres))|((angle5_righteye>0)&(angle5_righteye<angle_thres))|((angle6_righteye>0)&(angle6_righteye<angle_thres))\n",
    "        \n",
    "            eye_contact_frames.append(np.int(lefteye_contact_thres|righteye_contact_thres))\n",
    "            look_at_face_frames.append(np.int(lefteye_contact_thres|righteye_contact_thres|lefteye_lookface_thres|righteye_lookface_thres))\n",
    "        \n",
    "        # save to the summarized data\n",
    "        eye_direction_merge[(iname)] = eye_dir_frames\n",
    "        eye_contact_or_not_merge[(iname)] = eye_contact_frames\n",
    "        look_at_face_or_not_merge[(iname)] = look_at_face_frames\n",
    "        \n",
    "    return eye_direction_merge, eye_contact_or_not_merge, look_at_face_or_not_merge\n",
    "        "
   ]
  },
  {
   "cell_type": "markdown",
   "id": "0dd7e75b",
   "metadata": {},
   "source": [
    "### Define time point of behavioral events"
   ]
  },
  {
   "cell_type": "code",
   "execution_count": 5,
   "id": "1dfb672f",
   "metadata": {},
   "outputs": [],
   "source": [
    "def bhv_events_timepoint(bhv_data, eye_direction_merge, eye_contact_or_not_merge, look_at_face_or_not_merge):\n",
    "    time_point_pull1 = bhv_data[\"time_points\"][bhv_data[\"behavior_events\"]==1]\n",
    "    time_point_pull2 = bhv_data[\"time_points\"][bhv_data[\"behavior_events\"]==2]\n",
    "    ind_lookatotherface1 = np.where(np.array(look_at_face_or_not_merge[animal1])==1)\n",
    "    time_point_lookatotherface1 = look_at_face_or_not_merge[\"time_in_second\"][ind_lookatotherface1]\n",
    "    ind_lookatotherface2 = np.where(np.array(look_at_face_or_not_merge[animal2])==1)\n",
    "    time_point_lookatotherface2 = look_at_face_or_not_merge[\"time_in_second\"][ind_lookatotherface2]\n",
    "\n",
    "    ind_eyecontact1 = np.where(np.array(eye_contact_or_not_merge[animal1])==1)\n",
    "    time_point_eyecontact1 = eye_contact_or_not_merge[\"time_in_second\"][ind_eyecontact1]\n",
    "    ind_eyecontact2 = np.where(np.array(eye_contact_or_not_merge[animal2])==1)\n",
    "    time_point_eyecontact2 = eye_contact_or_not_merge[\"time_in_second\"][ind_eyecontact2]\n",
    "\n",
    "    # calculate the oneway gaze or mutual gaze\n",
    "    animal1_gaze = np.round(np.concatenate((time_point_eyecontact1,time_point_lookatotherface1)),1)\n",
    "    animal1_gaze = np.unique(np.sort(animal1_gaze))\n",
    "    animal2_gaze = np.round(np.concatenate((time_point_eyecontact2,time_point_lookatotherface2)),1)\n",
    "    animal2_gaze = np.unique(np.sort(animal2_gaze))\n",
    "\n",
    "    ngaze1 = len(animal1_gaze)\n",
    "    ngaze2 = len(animal2_gaze)\n",
    "    oneway_gaze1 = []\n",
    "    oneway_gaze2 = []\n",
    "    mutual_gaze1 = []\n",
    "    mutual_gaze2 = []\n",
    "    # \n",
    "    for igaze1 in np.arange(0, ngaze1, 1):\n",
    "        for igaze2 in np.arange(0,ngaze2,1):\n",
    "            if abs(animal1_gaze[igaze1]-animal2_gaze[igaze2])<1:\n",
    "                mutual_gaze1.append(animal1_gaze[igaze1])\n",
    "                mutual_gaze2.append(animal2_gaze[igaze2])\n",
    "    mutual_gaze1 = np.unique(mutual_gaze1)   \n",
    "    mutual_gaze2 = np.unique(mutual_gaze2)\n",
    "    oneway_gaze1 = animal1_gaze[~np.isin(animal1_gaze,mutual_gaze1)]\n",
    "    oneway_gaze2 = animal2_gaze[~np.isin(animal2_gaze,mutual_gaze2)]\n",
    "    \n",
    "    time_point_pull1 = np.round(time_point_pull1,2)\n",
    "    time_point_pull2 = np.round(time_point_pull2,2)\n",
    "    \n",
    "    return time_point_pull1, time_point_pull2, oneway_gaze1, oneway_gaze2, mutual_gaze1, mutual_gaze2"
   ]
  },
  {
   "cell_type": "markdown",
   "id": "0ef4ab8c",
   "metadata": {},
   "source": [
    "### plot behavioral events"
   ]
  },
  {
   "cell_type": "code",
   "execution_count": 6,
   "id": "eb2ba678",
   "metadata": {},
   "outputs": [],
   "source": [
    "def plot_bhv_events(animal1, animal2, session_start_time, time_point_pull1, time_point_pull2, oneway_gaze1, oneway_gaze2, mutual_gaze1, mutual_gaze2):\n",
    "    fig, axs = plt.subplots(2,1)\n",
    "    fig.set_figheight(5)\n",
    "    fig.set_figwidth(25)\n",
    "    # plot for animal 1\n",
    "    ind_plot = time_point_pull1 < (720 - session_start_time)\n",
    "    #for itime in np.arange(0,720,1):\n",
    "    #    plt.plot([itime,itime],[0,1],linewidth = 2.0,color=(0.5,0.5,0.5))\n",
    "    for itime in time_point_pull1[ind_plot]:\n",
    "        line1, = axs[0].plot([itime,itime],[0,1],linewidth = 2.0,color=(0.0,0.5,0.5),label = 'lever pull')\n",
    "    try:\n",
    "        for itime in oneway_gaze1:\n",
    "            line2, = axs[0].plot([itime,itime],[0,1],linewidth = 2.0,color=(0.5,0.0,0.5),label = 'one-way gaze')  \n",
    "    except:\n",
    "        print(\"no oneway gaze\")\n",
    "    try:\n",
    "        for itime in mutual_gaze1:\n",
    "            line3, = axs[0].plot([itime,itime],[0,1],linewidth = 2.0,color=(0.5,0.5,0.0),label = 'mutual gaze')  \n",
    "    except:\n",
    "        print(\"no mutual gaze\")\n",
    "    axs[0].set_title(animal1,fontsize = 18)\n",
    "    axs[0].set_xlim([-10,700])\n",
    "    axs[0].set_xlabel(\"\")\n",
    "    axs[0].set_xticklabels(\"\")\n",
    "    axs[0].set_yticklabels(\"\")\n",
    "    try:\n",
    "        axs[0].legend(handles=[line1,line2,line3], fontsize = 13)\n",
    "    except:\n",
    "        try: \n",
    "            axs[0].legend(handles=[line1,line2], fontsize = 13)\n",
    "        except:\n",
    "            axs[0].legend(handles=[line1], fontsize = 13)    \n",
    "\n",
    "    # plot for animal 2\n",
    "    ind_plot = time_point_pull2 < (720 - session_start_time)\n",
    "    #for itime in np.arange(0,720,1):\n",
    "    #    plt.plot([itime,itime],[0,1],linewidth = 2.0,color=(0.5,0.5,0.5))\n",
    "    for itime in time_point_pull2[ind_plot]:\n",
    "        line1, = axs[1].plot([itime,itime],[0,1],linewidth = 2.0,color=(0.0,0.5,0.5))\n",
    "    try:\n",
    "        for itime in oneway_gaze2:\n",
    "            line2, = axs[1].plot([itime,itime],[0,1],linewidth = 2.0,color=(0.5,0.0,0.5))    \n",
    "    except:\n",
    "        print(\"no oneway gaze\")\n",
    "    try:\n",
    "        for itime in mutual_gaze2:\n",
    "            line3, = axs[1].plot([itime,itime],[0,1],linewidth = 2.0,color=(0.5,0.5,0.0))    \n",
    "    except:\n",
    "        print(\"no mutual gaze\")\n",
    "    axs[1].set_title(animal2,fontsize = 18)\n",
    "    axs[1].set_xlim([-10,700])\n",
    "    axs[1].set_xlabel(\"time/s\",fontsize = 19)\n",
    "    axs[1].set_yticklabels(\"\")\n",
    "    axs[1].tick_params(labelsize = 15)\n"
   ]
  },
  {
   "cell_type": "markdown",
   "id": "1f9c724b",
   "metadata": {},
   "source": [
    "### plot inter-pull interval"
   ]
  },
  {
   "cell_type": "code",
   "execution_count": 7,
   "id": "9327925b",
   "metadata": {},
   "outputs": [],
   "source": [
    "def plot_interpull_interval(animal1, animal2, time_point_pull1, time_point_pull2):\n",
    "    time_point_pull1_n0 = time_point_pull1.reset_index(drop = True)[0:time_point_pull1.shape[0]-1]\n",
    "    time_point_pull1_n1 = time_point_pull1.reset_index(drop = True)[1:time_point_pull1.shape[0]]\n",
    "    time_point_pull2_n0 = time_point_pull2.reset_index(drop = True)[0:time_point_pull2.shape[0]-1]\n",
    "    time_point_pull2_n1 = time_point_pull2.reset_index(drop = True)[1:time_point_pull2.shape[0]]\n",
    "    ipi_1 = time_point_pull1_n1.reset_index(drop = True) - time_point_pull1_n0.reset_index(drop = True)\n",
    "    ipi_2 = time_point_pull2_n1.reset_index(drop = True) - time_point_pull2_n0.reset_index(drop = True)\n",
    "    #\n",
    "    fig2, axs2 = plt.subplots(1,2)\n",
    "    fig2.set_figheight(5)\n",
    "    fig2.set_figwidth(20)\n",
    "    axs2[0].hist(ipi_1, alpha=0.5, bins=np.arange(0,25,1))\n",
    "    axs2[0].set_title(animal1)\n",
    "    axs2[1].hist(ipi_2, alpha=0.5, bins=np.arange(0,25,1))\n",
    "    axs2[1].set_title(animal2)\n",
    "    print('animal1 median',int(np.median(ipi_1)),'s')\n",
    "    print('animal2 median',int(np.median(ipi_2)),'s')"
   ]
  },
  {
   "cell_type": "markdown",
   "id": "69920a6a",
   "metadata": {},
   "source": [
    "### interval between all behavioral events"
   ]
  },
  {
   "cell_type": "code",
   "execution_count": 8,
   "id": "a804dbc6",
   "metadata": {},
   "outputs": [],
   "source": [
    "def bhv_events_interval(totalsess_time, time_point_pull1, time_point_pull2, oneway_gaze1, oneway_gaze2, mutual_gaze1, mutual_gaze2):\n",
    "    #\n",
    "    total_time = int((totalsess_time - session_start_time))\n",
    "    time_point_pull1_round = time_point_pull1.reset_index(drop = True)\n",
    "    time_point_pull1_round = time_point_pull1_round[time_point_pull1_round<total_time]\n",
    "    time_point_pull2_round  = time_point_pull2.reset_index(drop = True)\n",
    "    time_point_pull2_round = time_point_pull2_round[time_point_pull2_round<total_time]\n",
    "    time_point_onewaygaze1_round = pd.Series(oneway_gaze1).reset_index(drop = True)\n",
    "    time_point_onewaygaze2_round = pd.Series(oneway_gaze2).reset_index(drop = True)\n",
    "    time_point_mutualgaze1_round = pd.Series(mutual_gaze1).reset_index(drop = True)\n",
    "    time_point_mutualgaze2_round = pd.Series(mutual_gaze2).reset_index(drop = True)\n",
    "    time_point_onewaygaze1_round = time_point_onewaygaze1_round[(time_point_onewaygaze1_round>0)&(time_point_onewaygaze1_round<total_time)]\n",
    "    time_point_onewaygaze2_round = time_point_onewaygaze2_round[(time_point_onewaygaze2_round>0)&(time_point_onewaygaze2_round<total_time)]\n",
    "    time_point_mutualgaze1_round = time_point_mutualgaze1_round[(time_point_mutualgaze1_round>0)&(time_point_mutualgaze1_round<total_time)]\n",
    "    time_point_mutualgaze2_round = time_point_mutualgaze2_round[(time_point_mutualgaze2_round>0)&(time_point_mutualgaze2_round<total_time)]\n",
    "    #     \n",
    "    time_point_bhv_events = time_point_pull1_round\n",
    "    time_point_bhv_events = time_point_bhv_events.append(time_point_pull2_round)\n",
    "    time_point_bhv_events = time_point_bhv_events.append(time_point_mutualgaze1_round)\n",
    "    time_point_bhv_events = time_point_bhv_events.append(time_point_mutualgaze2_round)\n",
    "    time_point_bhv_events = time_point_bhv_events.append(time_point_onewaygaze1_round)\n",
    "    time_point_bhv_events = time_point_bhv_events.append(time_point_onewaygaze2_round)\n",
    "\n",
    "    time_point_bhv_events = time_point_bhv_events.reset_index(drop=True)\n",
    "    nevents = np.shape(time_point_bhv_events)[0]\n",
    "    bhv_events_interval = time_point_bhv_events[1:nevents].reset_index(drop=True)-time_point_bhv_events[0:nevents-1].reset_index(drop=True)\n",
    "\n",
    "    Q1 = np.quantile(bhv_events_interval,0.25)\n",
    "    Q2 = np.quantile(bhv_events_interval,0.5)\n",
    "    Q3 = np.quantile(bhv_events_interval,0.75)\n",
    "    low_lim = Q1 - 1.5 * (Q3-Q1)\n",
    "    up_lim = Q3 + 1.5 * (Q3-Q1)\n",
    "\n",
    "    if low_lim < 0:\n",
    "        low_lim = 0.5\n",
    "    low_lim = np.round(low_lim*2)/2\n",
    "    up_lim = np.round(up_lim*2)/2\n",
    "    \n",
    "    return low_lim, up_lim"
   ]
  },
  {
   "cell_type": "markdown",
   "id": "e8ac4ea0",
   "metadata": {},
   "source": [
    "### train the dynamic bayesian network"
   ]
  },
  {
   "cell_type": "code",
   "execution_count": 9,
   "id": "037084bb",
   "metadata": {},
   "outputs": [],
   "source": [
    "def train_DBN(totalsess_time, temp_resolu, time_point_pull1, time_point_pull2, oneway_gaze1, oneway_gaze2, mutual_gaze1, mutual_gaze2):\n",
    "# temp_resolu: temporal resolution, the time different between each step\n",
    "# e.g. temp_resolu = 0.5s, each step is 0.5s\n",
    "    total_time = int((totalsess_time - session_start_time)/temp_resolu)\n",
    "    time_point_pull1_round = np.floor(time_point_pull1/temp_resolu).reset_index(drop = True).astype(int)\n",
    "    time_point_pull1_round = time_point_pull1_round[time_point_pull1_round<total_time]\n",
    "    time_point_pull2_round  = np.floor(time_point_pull2/temp_resolu).reset_index(drop = True).astype(int)\n",
    "    time_point_pull2_round = time_point_pull2_round[time_point_pull2_round<total_time]\n",
    "    time_point_onewaygaze1_round = np.floor(pd.Series(oneway_gaze1)/temp_resolu).reset_index(drop = True).astype(int)\n",
    "    time_point_onewaygaze2_round = np.floor(pd.Series(oneway_gaze2)/temp_resolu).reset_index(drop = True).astype(int)\n",
    "    time_point_mutualgaze1_round = np.floor(pd.Series(mutual_gaze1)/temp_resolu).reset_index(drop = True).astype(int)\n",
    "    time_point_mutualgaze2_round = np.floor(pd.Series(mutual_gaze2)/temp_resolu).reset_index(drop = True).astype(int)\n",
    "    time_point_onewaygaze1_round = time_point_onewaygaze1_round[(time_point_onewaygaze1_round>0)&(time_point_onewaygaze1_round<total_time)]\n",
    "    time_point_onewaygaze2_round = time_point_onewaygaze2_round[(time_point_onewaygaze2_round>0)&(time_point_onewaygaze2_round<total_time)]\n",
    "    time_point_mutualgaze1_round = time_point_mutualgaze1_round[(time_point_mutualgaze1_round>0)&(time_point_mutualgaze1_round<total_time)]\n",
    "    time_point_mutualgaze2_round = time_point_mutualgaze2_round[(time_point_mutualgaze2_round>0)&(time_point_mutualgaze2_round<total_time)]\n",
    "    # t0\n",
    "    pull1_t0 = np.zeros((total_time+1,1))\n",
    "    pull1_t0[np.array(time_point_pull1_round)] = 1\n",
    "    pull2_t0 = np.zeros((total_time+1,1))\n",
    "    pull2_t0[np.array(time_point_pull2_round)] = 1\n",
    "    owgaze1_t0 = np.zeros((total_time+1,1))\n",
    "    owgaze1_t0[np.array(time_point_onewaygaze1_round)] = 1\n",
    "    owgaze2_t0 = np.zeros((total_time+1,1))\n",
    "    owgaze2_t0[np.array(time_point_onewaygaze2_round)] = 1\n",
    "    mtgaze1_t0 = np.zeros((total_time+1,1))\n",
    "    mtgaze1_t0[np.array(time_point_mutualgaze1_round)] = 1\n",
    "    mtgaze2_t0 = np.zeros((total_time+1,1))\n",
    "    mtgaze2_t0[np.array(time_point_mutualgaze2_round)] = 1\n",
    "    # t1\n",
    "    pull1_t1 = np.zeros((total_time+1,1))\n",
    "    pull1_t1[np.array(time_point_pull1_round)+1] = 1\n",
    "    pull2_t1 = np.zeros((total_time+1,1))\n",
    "    pull2_t1[np.array(time_point_pull2_round)+1] = 1\n",
    "    owgaze1_t1 = np.zeros((total_time+1,1))\n",
    "    owgaze1_t1[np.array(time_point_onewaygaze1_round)+1] = 1\n",
    "    owgaze2_t1 = np.zeros((total_time+1,1))\n",
    "    owgaze2_t1[np.array(time_point_onewaygaze2_round)+1] = 1\n",
    "    mtgaze1_t1 = np.zeros((total_time+1,1))\n",
    "    mtgaze1_t1[np.array(time_point_mutualgaze1_round)+1] = 1\n",
    "    mtgaze2_t1 = np.zeros((total_time+1,1))\n",
    "    mtgaze2_t1[np.array(time_point_mutualgaze2_round)+1] = 1\n",
    "    ## create dataframe\n",
    "    # data = np.concatenate((pull1_t0,pull2_t0,owgaze1_t0,owgaze2_t0,mtgaze1_t0,mtgaze2_t0,pull1_t1,pull2_t1,owgaze1_t1,owgaze2_t1,mtgaze1_t1,mtgaze2_t1),axis = 1)\n",
    "    # colnames = [(\"pull1\",0),(\"pull2\",0),(\"owgaze1\",0),(\"owgaze2\",0),(\"mtgaze1\",0),(\"mtgaze2\",0),(\"pull1\",1),(\"pull2\",1),(\"owgaze1\",1),(\"owgaze2\",1),(\"mtgaze1\",1),(\"mtgaze2\",1)]\n",
    "    # df = pd.DataFrame(data, columns=colnames)\n",
    "    data = np.concatenate((pull1_t0,pull2_t0,owgaze1_t0,owgaze2_t0,pull1_t1,pull2_t1,owgaze1_t1,owgaze2_t1),axis = 1)\n",
    "    colnames = [(\"pull1\",0),(\"pull2\",0),(\"owgaze1\",0),(\"owgaze2\",0),(\"pull1\",1),(\"pull2\",1),(\"owgaze1\",1),(\"owgaze2\",1)]\n",
    "    df = pd.DataFrame(data, columns=colnames)\n",
    "\n",
    "    ## built the model structure\n",
    "    # model = DBN(\n",
    "    #    [\n",
    "    #        ((\"owgaze1\",0), (\"pull1\",1)),\n",
    "    #        ((\"owgaze1\",0), (\"mtgaze1\",1)),\n",
    "    #        ((\"mtgaze1\",0), (\"pull1\",1)),\n",
    "    #        ((\"pull1\",0), (\"owgaze1\",1)),\n",
    "    #        ((\"owgaze2\",0), (\"pull2\",1)),\n",
    "    #        ((\"owgaze2\",0), (\"mtgaze2\",1)),\n",
    "    #        ((\"mtgaze2\",0), (\"pull2\",1)),\n",
    "    #        ((\"pull2\",0), (\"owgaze2\",1)),\n",
    "    #    ]\n",
    "    # )\n",
    "    model = DBN(\n",
    "        [\n",
    "            ((\"owgaze1\",0), (\"pull1\",1)),\n",
    "            ((\"pull1\",0), (\"owgaze1\",1)),\n",
    "            ((\"owgaze2\",0), (\"pull2\",1)),\n",
    "            ((\"pull2\",0), (\"owgaze2\",1)),\n",
    "        ]\n",
    "    )\n",
    "    model.fit(df)\n",
    "    \n",
    "    return model"
   ]
  },
  {
   "cell_type": "markdown",
   "id": "424c0b97",
   "metadata": {},
   "source": [
    "### train the dynamic bayesian network - Alec's methods"
   ]
  },
  {
   "cell_type": "code",
   "execution_count": 10,
   "id": "1840a5f9",
   "metadata": {},
   "outputs": [],
   "source": [
    "def graph_to_matrix(edges,nevents,eventnames):\n",
    "\n",
    "    output_matrix = np.zeros((nevents,nevents)) \n",
    "    \n",
    "    column = 0\n",
    "    for from_layer in np.arange(0,nevents,1):\n",
    "        row = 0\n",
    "        #Loop through the receiving nodes (the last timeslice of each population)\n",
    "        for to_layer in np.arange(0,nevents,1): \n",
    "            from_pop = eventnames[from_layer]+'_t0'\n",
    "            to_pop = eventnames[to_layer]+'_t1'\n",
    "\n",
    "            if (from_pop, to_pop) in edges:\n",
    "                output_matrix[row,column] = 1\n",
    "            else:\n",
    "                output_matrix[row,column] = 0\n",
    "            row+=1\n",
    "        column+=1\n",
    "                    \n",
    "    return output_matrix"
   ]
  },
  {
   "cell_type": "code",
   "execution_count": 11,
   "id": "139bcf08",
   "metadata": {},
   "outputs": [],
   "source": [
    "def get_weighted_dags(binaryDags,nNewBootstraps = 100):\n",
    "    ### Step 1: Create Bootstraps of \"discrete\" DAGs for weighted DAGs\n",
    "    [nTrials,frNodes,toNodes] = binaryDags.shape\n",
    "    \n",
    "    bootstrap_graphs = np.zeros([nNewBootstraps,nTrials,frNodes,toNodes])\n",
    "    for iBootstrap in range(nNewBootstraps):\n",
    "        bootstrap_graphs[iBootstrap,:,:,:] = binaryDags[np.random.randint(nTrials, size=(nTrials)),:,:]\n",
    "\n",
    "    ### Step 2: Get Weighted DAGs\n",
    "    wtd_graphs = np.nanmean(bootstrap_graphs, axis=1)\n",
    "    \n",
    "    return wtd_graphs"
   ]
  },
  {
   "cell_type": "code",
   "execution_count": 12,
   "id": "003d7d37",
   "metadata": {},
   "outputs": [],
   "source": [
    "def train_DBN_alec(totalsess_time, temp_resolu, time_point_pull1, time_point_pull2, oneway_gaze1, oneway_gaze2, mutual_gaze1, mutual_gaze2):\n",
    "# temp_resolu: temporal resolution, the time different between each step\n",
    "# e.g. temp_resolu = 0.5s, each step is 0.5s\n",
    "# totalsess_time: the time (s) of the total session\n",
    "    total_time = int(np.floor((totalsess_time - session_start_time)/temp_resolu))\n",
    "    time_point_pull1_round = np.floor(time_point_pull1/temp_resolu).reset_index(drop = True).astype(int)\n",
    "    time_point_pull1_round = time_point_pull1_round[time_point_pull1_round<total_time]\n",
    "    time_point_pull2_round  = np.floor(time_point_pull2/temp_resolu).reset_index(drop = True).astype(int)\n",
    "    time_point_pull2_round = time_point_pull2_round[time_point_pull2_round<total_time]\n",
    "    time_point_onewaygaze1_round = np.floor(pd.Series(oneway_gaze1)/temp_resolu).reset_index(drop = True).astype(int)\n",
    "    time_point_onewaygaze2_round = np.floor(pd.Series(oneway_gaze2)/temp_resolu).reset_index(drop = True).astype(int)\n",
    "    time_point_mutualgaze1_round = np.floor(pd.Series(mutual_gaze1)/temp_resolu).reset_index(drop = True).astype(int)\n",
    "    time_point_mutualgaze2_round = np.floor(pd.Series(mutual_gaze2)/temp_resolu).reset_index(drop = True).astype(int)\n",
    "    time_point_onewaygaze1_round = time_point_onewaygaze1_round[(time_point_onewaygaze1_round>0)&(time_point_onewaygaze1_round<total_time)]\n",
    "    time_point_onewaygaze2_round = time_point_onewaygaze2_round[(time_point_onewaygaze2_round>0)&(time_point_onewaygaze2_round<total_time)]\n",
    "    time_point_mutualgaze1_round = time_point_mutualgaze1_round[(time_point_mutualgaze1_round>0)&(time_point_mutualgaze1_round<total_time)]\n",
    "    time_point_mutualgaze2_round = time_point_mutualgaze2_round[(time_point_mutualgaze2_round>0)&(time_point_mutualgaze2_round<total_time)]\n",
    "    # t0\n",
    "    pull1_t0 = np.zeros((total_time+1,1))\n",
    "    pull1_t0[np.array(time_point_pull1_round)] = 1\n",
    "    pull2_t0 = np.zeros((total_time+1,1))\n",
    "    pull2_t0[np.array(time_point_pull2_round)] = 1\n",
    "    owgaze1_t0 = np.zeros((total_time+1,1))\n",
    "    owgaze1_t0[np.array(time_point_onewaygaze1_round)] = 1\n",
    "    owgaze2_t0 = np.zeros((total_time+1,1))\n",
    "    owgaze2_t0[np.array(time_point_onewaygaze2_round)] = 1\n",
    "    mtgaze1_t0 = np.zeros((total_time+1,1))\n",
    "    mtgaze1_t0[np.array(time_point_mutualgaze1_round)] = 1\n",
    "    mtgaze2_t0 = np.zeros((total_time+1,1))\n",
    "    mtgaze2_t0[np.array(time_point_mutualgaze2_round)] = 1\n",
    "    # t1\n",
    "    pull1_t1 = np.zeros((total_time+1,1))\n",
    "    pull1_t1[np.array(time_point_pull1_round)+1] = 1\n",
    "    pull2_t1 = np.zeros((total_time+1,1))\n",
    "    pull2_t1[np.array(time_point_pull2_round)+1] = 1\n",
    "    owgaze1_t1 = np.zeros((total_time+1,1))\n",
    "    owgaze1_t1[np.array(time_point_onewaygaze1_round)+1] = 1\n",
    "    owgaze2_t1 = np.zeros((total_time+1,1))\n",
    "    owgaze2_t1[np.array(time_point_onewaygaze2_round)+1] = 1\n",
    "    mtgaze1_t1 = np.zeros((total_time+1,1))\n",
    "    mtgaze1_t1[np.array(time_point_mutualgaze1_round)+1] = 1\n",
    "    mtgaze2_t1 = np.zeros((total_time+1,1))\n",
    "    mtgaze2_t1[np.array(time_point_mutualgaze2_round)+1] = 1\n",
    "    \n",
    "    # clean up dataframe\n",
    "    data = np.concatenate((pull1_t0,pull2_t0,owgaze1_t0,owgaze2_t0,pull1_t1,pull2_t1,owgaze1_t1,owgaze2_t1),axis = 1)\n",
    "    colnames = [\"pull1_t0\",\"pull2_t0\",\"owgaze1_t0\",\"owgaze2_t0\",\"pull1_t1\",\"pull2_t1\",\"owgaze1_t1\",\"owgaze2_t1\"]\n",
    "    eventnames = [\"pull1\",\"pull2\",\"owgaze1\",\"owgaze2\"]\n",
    "    nevents = np.size(eventnames)\n",
    "    bhv_df = pd.DataFrame(data, columns=colnames)\n",
    "\n",
    "    # define DBN structures\n",
    "    all_pops = list(bhv_df.columns)\n",
    "    from_pops = [pop for pop in all_pops if not pop.endswith('t1')]\n",
    "    to_pops = [pop for pop in all_pops if pop.endswith('t1')]\n",
    "    causal_whitelist = [(from_pop,to_pop) for from_pop in from_pops for to_pop in to_pops]\n",
    "\n",
    "    # train the DBN for the edges\n",
    "    bhv_hc = HillClimbSearch(bhv_df)\n",
    "    best_model = bhv_hc.estimate(max_indegree=None, white_list = causal_whitelist, scoring_method=BicScore(bhv_df))\n",
    "    edges = best_model.edges()\n",
    "    \n",
    "    nFromNodes = nevents\n",
    "    nToNodes = nevents\n",
    "    nTrials = 1\n",
    "    DAGs = np.zeros((nTrials, nFromNodes, nToNodes))\n",
    "    DAGs[0,:,:] = graph_to_matrix(list(edges),nevents,eventnames)\n",
    "\n",
    "    return best_model, edges, DAGs, eventnames, from_pops, to_pops"
   ]
  },
  {
   "cell_type": "markdown",
   "id": "c5d1858b",
   "metadata": {},
   "source": [
    "### methods used by Alec - separate into different \"trials\""
   ]
  },
  {
   "cell_type": "code",
   "execution_count": 13,
   "id": "798ae9d3",
   "metadata": {},
   "outputs": [],
   "source": [
    "def train_DBN_alec_eachtrial(totalsess_time, temp_resolu, time_point_pull1, time_point_pull2, oneway_gaze1, oneway_gaze2, mutual_gaze1, mutual_gaze2):\n",
    "# temp_resolu: temporal resolution, the time different between each step\n",
    "# e.g. temp_resolu = 0.5s, each step is 0.5s\n",
    "# totalsess_time: the time (s) of the total session\n",
    "    total_time = int((totalsess_time - session_start_time)/temp_resolu)\n",
    "    time_point_pull1_round = np.floor(time_point_pull1/temp_resolu).reset_index(drop = True).astype(int)\n",
    "    time_point_pull1_round = time_point_pull1_round[time_point_pull1_round<total_time]\n",
    "    time_point_pull2_round  = np.floor(time_point_pull2/temp_resolu).reset_index(drop = True).astype(int)\n",
    "    time_point_pull2_round = time_point_pull2_round[time_point_pull2_round<total_time]\n",
    "    time_point_onewaygaze1_round = np.floor(pd.Series(oneway_gaze1)/temp_resolu).reset_index(drop = True).astype(int)\n",
    "    time_point_onewaygaze2_round = np.floor(pd.Series(oneway_gaze2)/temp_resolu).reset_index(drop = True).astype(int)\n",
    "    time_point_mutualgaze1_round = np.floor(pd.Series(mutual_gaze1)/temp_resolu).reset_index(drop = True).astype(int)\n",
    "    time_point_mutualgaze2_round = np.floor(pd.Series(mutual_gaze2)/temp_resolu).reset_index(drop = True).astype(int)\n",
    "    time_point_onewaygaze1_round = time_point_onewaygaze1_round[(time_point_onewaygaze1_round>0)&(time_point_onewaygaze1_round<total_time)]\n",
    "    time_point_onewaygaze2_round = time_point_onewaygaze2_round[(time_point_onewaygaze2_round>0)&(time_point_onewaygaze2_round<total_time)]\n",
    "    time_point_mutualgaze1_round = time_point_mutualgaze1_round[(time_point_mutualgaze1_round>0)&(time_point_mutualgaze1_round<total_time)]\n",
    "    time_point_mutualgaze2_round = time_point_mutualgaze2_round[(time_point_mutualgaze2_round>0)&(time_point_mutualgaze2_round<total_time)]\n",
    "    # t0\n",
    "    pull1_t0 = np.zeros((total_time+1,1))\n",
    "    pull1_t0[np.array(time_point_pull1_round)] = 1\n",
    "    pull2_t0 = np.zeros((total_time+1,1))\n",
    "    pull2_t0[np.array(time_point_pull2_round)] = 1\n",
    "    owgaze1_t0 = np.zeros((total_time+1,1))\n",
    "    owgaze1_t0[np.array(time_point_onewaygaze1_round)] = 1\n",
    "    owgaze2_t0 = np.zeros((total_time+1,1))\n",
    "    owgaze2_t0[np.array(time_point_onewaygaze2_round)] = 1\n",
    "    mtgaze1_t0 = np.zeros((total_time+1,1))\n",
    "    mtgaze1_t0[np.array(time_point_mutualgaze1_round)] = 1\n",
    "    mtgaze2_t0 = np.zeros((total_time+1,1))\n",
    "    mtgaze2_t0[np.array(time_point_mutualgaze2_round)] = 1\n",
    "    # t1\n",
    "    pull1_t1 = np.zeros((total_time+1,1))\n",
    "    pull1_t1[np.array(time_point_pull1_round)+1] = 1\n",
    "    pull2_t1 = np.zeros((total_time+1,1))\n",
    "    pull2_t1[np.array(time_point_pull2_round)+1] = 1\n",
    "    owgaze1_t1 = np.zeros((total_time+1,1))\n",
    "    owgaze1_t1[np.array(time_point_onewaygaze1_round)+1] = 1\n",
    "    owgaze2_t1 = np.zeros((total_time+1,1))\n",
    "    owgaze2_t1[np.array(time_point_onewaygaze2_round)+1] = 1\n",
    "    mtgaze1_t1 = np.zeros((total_time+1,1))\n",
    "    mtgaze1_t1[np.array(time_point_mutualgaze1_round)+1] = 1\n",
    "    mtgaze2_t1 = np.zeros((total_time+1,1))\n",
    "    mtgaze2_t1[np.array(time_point_mutualgaze2_round)+1] = 1\n",
    "    \n",
    "    # clean up dataframe\n",
    "    data = np.concatenate((pull1_t0,pull2_t0,owgaze1_t0,owgaze2_t0,pull1_t1,pull2_t1,owgaze1_t1,owgaze2_t1),axis = 1)\n",
    "    colnames = [\"pull1_t0\",\"pull2_t0\",\"owgaze1_t0\",\"owgaze2_t0\",\"pull1_t1\",\"pull2_t1\",\"owgaze1_t1\",\"owgaze2_t1\"]\n",
    "    eventnames = [\"pull1\",\"pull2\",\"owgaze1\",\"owgaze2\"]\n",
    "    nevents = np.size(eventnames)\n",
    "    bhv_df = pd.DataFrame(data, columns=colnames)\n",
    "    \n",
    "    # every 10s (20 0.5s steps) as a \"trial\"\n",
    "    # total 720s \"session\" will be 72 \"trials\"\n",
    "    ntrials = int(np.floor(totalsess_time/10))\n",
    "    nFromNodes = nevents\n",
    "    nToNodes = nevents\n",
    "    for itrial in np.arange(0,ntrials,1):\n",
    "        bhv_df_itrial = bhv_df.iloc[itrial*(10/temp_resolu):(itrial+1)*(10/temp_resolu)]\n",
    "        # define DBN structures\n",
    "        all_pops = list(bhv_df_itrial.columns)\n",
    "        from_pops = [pop for pop in all_pops if not pop.endswith('t1')]\n",
    "        to_pops = [pop for pop in all_pops if pop.endswith('t1')]\n",
    "        causal_whitelist = [(from_pop,to_pop) for from_pop in from_pops for to_pop in to_pops]\n",
    "    \n",
    "        # train the DBN for the edges\n",
    "        bhv_hc = HillClimbSearch(bhv_df_itrial)\n",
    "        best_model = bhv_hc.estimate(max_indegree=None, white_list = causal_whitelist, scoring_method=BicScore(bhv_df))\n",
    "        edges_itrial = best_model.edges()   \n",
    "    \n",
    "        DAGs_itrial = np.zeros((ntrials, nFromNodes, nToNodes))\n",
    "        DAGs_itrial[0,:,:] = graph_to_matrix(list(edges_itrial),nevents,eventnames)\n",
    "\n",
    "    weighted_graphs = get_weighted_dags(DAGs_itrial,nNewBootstraps = 1)\n",
    "    return DAGs_itrial, weighted_graphs, eventnames, from_pops, to_pops"
   ]
  },
  {
   "cell_type": "markdown",
   "id": "0819c438",
   "metadata": {},
   "source": [
    "## Analyze each session"
   ]
  },
  {
   "cell_type": "code",
   "execution_count": 98,
   "id": "94968120",
   "metadata": {},
   "outputs": [
    {
     "data": {
      "application/vnd.jupyter.widget-view+json": {
       "model_id": "fd2c07fd392741b7b2e15adb9ece5dea",
       "version_major": 2,
       "version_minor": 0
      },
      "text/plain": [
       "  0%|          | 0/1000000 [00:00<?, ?it/s]"
      ]
     },
     "metadata": {},
     "output_type": "display_data"
    },
    {
     "name": "stdout",
     "output_type": "stream",
     "text": [
      "[('pull2_t0', 'pull2_t1'), ('owgaze1_t0', 'owgaze1_t1'), ('owgaze2_t0', 'owgaze2_t1')]\n"
     ]
    },
    {
     "data": {
      "application/vnd.jupyter.widget-view+json": {
       "model_id": "806b72b2944349ecaf2914513e480902",
       "version_major": 2,
       "version_minor": 0
      },
      "text/plain": [
       "  0%|          | 0/1000000 [00:00<?, ?it/s]"
      ]
     },
     "metadata": {},
     "output_type": "display_data"
    },
    {
     "name": "stdout",
     "output_type": "stream",
     "text": [
      "[('owgaze1_t0', 'owgaze1_t1')]\n"
     ]
    },
    {
     "data": {
      "application/vnd.jupyter.widget-view+json": {
       "model_id": "09d23ec0c24541268980e5786f4d1cfb",
       "version_major": 2,
       "version_minor": 0
      },
      "text/plain": [
       "  0%|          | 0/1000000 [00:00<?, ?it/s]"
      ]
     },
     "metadata": {},
     "output_type": "display_data"
    },
    {
     "name": "stdout",
     "output_type": "stream",
     "text": [
      "[('pull1_t0', 'pull2_t1'), ('owgaze1_t0', 'owgaze1_t1')]\n"
     ]
    },
    {
     "data": {
      "application/vnd.jupyter.widget-view+json": {
       "model_id": "d3d98655e1664e04a2b4d1c853ae0710",
       "version_major": 2,
       "version_minor": 0
      },
      "text/plain": [
       "  0%|          | 0/1000000 [00:00<?, ?it/s]"
      ]
     },
     "metadata": {},
     "output_type": "display_data"
    },
    {
     "name": "stdout",
     "output_type": "stream",
     "text": [
      "[('pull1_t0', 'pull2_t1'), ('pull2_t0', 'owgaze1_t1'), ('pull2_t0', 'pull1_t1')]\n"
     ]
    },
    {
     "data": {
      "application/vnd.jupyter.widget-view+json": {
       "model_id": "cffed802923b48839e1a89034b9ced60",
       "version_major": 2,
       "version_minor": 0
      },
      "text/plain": [
       "  0%|          | 0/1000000 [00:00<?, ?it/s]"
      ]
     },
     "metadata": {},
     "output_type": "display_data"
    },
    {
     "name": "stdout",
     "output_type": "stream",
     "text": [
      "[('pull2_t0', 'pull2_t1')]\n"
     ]
    },
    {
     "data": {
      "application/vnd.jupyter.widget-view+json": {
       "model_id": "76f3ecffd67a43b3ac005a8b4003ef7f",
       "version_major": 2,
       "version_minor": 0
      },
      "text/plain": [
       "  0%|          | 0/1000000 [00:00<?, ?it/s]"
      ]
     },
     "metadata": {},
     "output_type": "display_data"
    },
    {
     "name": "stdout",
     "output_type": "stream",
     "text": [
      "[('pull1_t0', 'pull1_t1'), ('pull2_t0', 'pull2_t1')]\n"
     ]
    },
    {
     "data": {
      "application/vnd.jupyter.widget-view+json": {
       "model_id": "fa77763eeb274ae1abaffb198f4c1ea2",
       "version_major": 2,
       "version_minor": 0
      },
      "text/plain": [
       "  0%|          | 0/1000000 [00:00<?, ?it/s]"
      ]
     },
     "metadata": {},
     "output_type": "display_data"
    },
    {
     "name": "stdout",
     "output_type": "stream",
     "text": [
      "[('pull1_t0', 'pull1_t1'), ('pull1_t0', 'pull2_t1'), ('pull2_t0', 'pull2_t1')]\n"
     ]
    },
    {
     "data": {
      "application/vnd.jupyter.widget-view+json": {
       "model_id": "932892526b9d4b9ab37251ee1e421590",
       "version_major": 2,
       "version_minor": 0
      },
      "text/plain": [
       "  0%|          | 0/1000000 [00:00<?, ?it/s]"
      ]
     },
     "metadata": {},
     "output_type": "display_data"
    },
    {
     "name": "stdout",
     "output_type": "stream",
     "text": [
      "[('pull1_t0', 'pull1_t1'), ('pull2_t0', 'pull2_t1')]\n"
     ]
    },
    {
     "data": {
      "application/vnd.jupyter.widget-view+json": {
       "model_id": "a5556dcf69f74baba9cb1dd9cb887d9f",
       "version_major": 2,
       "version_minor": 0
      },
      "text/plain": [
       "  0%|          | 0/1000000 [00:00<?, ?it/s]"
      ]
     },
     "metadata": {},
     "output_type": "display_data"
    },
    {
     "name": "stdout",
     "output_type": "stream",
     "text": [
      "[('pull1_t0', 'pull1_t1'), ('pull2_t0', 'pull2_t1')]\n"
     ]
    },
    {
     "data": {
      "application/vnd.jupyter.widget-view+json": {
       "model_id": "c2563dba383b427991162ec2cdd49259",
       "version_major": 2,
       "version_minor": 0
      },
      "text/plain": [
       "  0%|          | 0/1000000 [00:00<?, ?it/s]"
      ]
     },
     "metadata": {},
     "output_type": "display_data"
    },
    {
     "name": "stdout",
     "output_type": "stream",
     "text": [
      "[('pull1_t0', 'pull1_t1'), ('pull2_t0', 'pull2_t1')]\n"
     ]
    },
    {
     "data": {
      "application/vnd.jupyter.widget-view+json": {
       "model_id": "10607ab56270419787757cd5d767a471",
       "version_major": 2,
       "version_minor": 0
      },
      "text/plain": [
       "  0%|          | 0/1000000 [00:00<?, ?it/s]"
      ]
     },
     "metadata": {},
     "output_type": "display_data"
    },
    {
     "name": "stdout",
     "output_type": "stream",
     "text": [
      "[('pull1_t0', 'pull1_t1'), ('pull2_t0', 'pull2_t1')]\n"
     ]
    },
    {
     "data": {
      "application/vnd.jupyter.widget-view+json": {
       "model_id": "4138d898f90b43c2a8ba54144c53ac6d",
       "version_major": 2,
       "version_minor": 0
      },
      "text/plain": [
       "  0%|          | 0/1000000 [00:00<?, ?it/s]"
      ]
     },
     "metadata": {},
     "output_type": "display_data"
    },
    {
     "name": "stdout",
     "output_type": "stream",
     "text": [
      "[('pull1_t0', 'pull1_t1'), ('pull2_t0', 'pull2_t1')]\n"
     ]
    },
    {
     "data": {
      "application/vnd.jupyter.widget-view+json": {
       "model_id": "422d8fb3c8814c50a820f7a2a40d5235",
       "version_major": 2,
       "version_minor": 0
      },
      "text/plain": [
       "  0%|          | 0/1000000 [00:00<?, ?it/s]"
      ]
     },
     "metadata": {},
     "output_type": "display_data"
    },
    {
     "name": "stdout",
     "output_type": "stream",
     "text": [
      "[('pull1_t0', 'pull1_t1'), ('pull1_t0', 'pull2_t1'), ('pull2_t0', 'pull2_t1'), ('pull2_t0', 'pull1_t1')]\n"
     ]
    },
    {
     "data": {
      "application/vnd.jupyter.widget-view+json": {
       "model_id": "7f2beb6d462f4c1e8852a28c33f64078",
       "version_major": 2,
       "version_minor": 0
      },
      "text/plain": [
       "  0%|          | 0/1000000 [00:00<?, ?it/s]"
      ]
     },
     "metadata": {},
     "output_type": "display_data"
    },
    {
     "name": "stdout",
     "output_type": "stream",
     "text": [
      "[('pull2_t0', 'pull2_t1'), ('pull2_t0', 'pull1_t1')]\n"
     ]
    },
    {
     "data": {
      "application/vnd.jupyter.widget-view+json": {
       "model_id": "54142e1565b14a7db4ff8e338f33033c",
       "version_major": 2,
       "version_minor": 0
      },
      "text/plain": [
       "  0%|          | 0/1000000 [00:00<?, ?it/s]"
      ]
     },
     "metadata": {},
     "output_type": "display_data"
    },
    {
     "name": "stdout",
     "output_type": "stream",
     "text": [
      "[('pull1_t0', 'pull1_t1'), ('pull2_t0', 'pull2_t1')]\n"
     ]
    },
    {
     "data": {
      "application/vnd.jupyter.widget-view+json": {
       "model_id": "0369b27cb7804f63806e112d4aac3cc7",
       "version_major": 2,
       "version_minor": 0
      },
      "text/plain": [
       "  0%|          | 0/1000000 [00:00<?, ?it/s]"
      ]
     },
     "metadata": {},
     "output_type": "display_data"
    },
    {
     "name": "stdout",
     "output_type": "stream",
     "text": [
      "[('pull2_t0', 'pull2_t1'), ('pull2_t0', 'pull1_t1')]\n"
     ]
    },
    {
     "data": {
      "application/vnd.jupyter.widget-view+json": {
       "model_id": "f9df6dd3642f49c68283264012d6e5d9",
       "version_major": 2,
       "version_minor": 0
      },
      "text/plain": [
       "  0%|          | 0/1000000 [00:00<?, ?it/s]"
      ]
     },
     "metadata": {},
     "output_type": "display_data"
    },
    {
     "name": "stdout",
     "output_type": "stream",
     "text": [
      "[('pull1_t0', 'pull1_t1'), ('pull1_t0', 'pull2_t1'), ('pull2_t0', 'pull2_t1')]\n"
     ]
    },
    {
     "data": {
      "application/vnd.jupyter.widget-view+json": {
       "model_id": "f75e1a35e8424a66808aff934aec48dc",
       "version_major": 2,
       "version_minor": 0
      },
      "text/plain": [
       "  0%|          | 0/1000000 [00:00<?, ?it/s]"
      ]
     },
     "metadata": {},
     "output_type": "display_data"
    },
    {
     "name": "stdout",
     "output_type": "stream",
     "text": [
      "[('pull1_t0', 'pull1_t1'), ('pull2_t0', 'pull2_t1')]\n"
     ]
    },
    {
     "data": {
      "application/vnd.jupyter.widget-view+json": {
       "model_id": "f78ba7368ee546738dcac9cb88903177",
       "version_major": 2,
       "version_minor": 0
      },
      "text/plain": [
       "  0%|          | 0/1000000 [00:00<?, ?it/s]"
      ]
     },
     "metadata": {},
     "output_type": "display_data"
    },
    {
     "name": "stdout",
     "output_type": "stream",
     "text": [
      "[('pull1_t0', 'pull1_t1'), ('pull2_t0', 'pull2_t1')]\n"
     ]
    },
    {
     "data": {
      "application/vnd.jupyter.widget-view+json": {
       "model_id": "1c0dfa4988874191aff00df76a8c3722",
       "version_major": 2,
       "version_minor": 0
      },
      "text/plain": [
       "  0%|          | 0/1000000 [00:00<?, ?it/s]"
      ]
     },
     "metadata": {},
     "output_type": "display_data"
    },
    {
     "name": "stdout",
     "output_type": "stream",
     "text": [
      "[('pull1_t0', 'pull1_t1'), ('pull1_t0', 'pull2_t1'), ('pull2_t0', 'pull2_t1')]\n"
     ]
    },
    {
     "data": {
      "application/vnd.jupyter.widget-view+json": {
       "model_id": "c208a63849b64849bc4cf7efee7baffa",
       "version_major": 2,
       "version_minor": 0
      },
      "text/plain": [
       "  0%|          | 0/1000000 [00:00<?, ?it/s]"
      ]
     },
     "metadata": {},
     "output_type": "display_data"
    },
    {
     "name": "stdout",
     "output_type": "stream",
     "text": [
      "[('pull2_t0', 'pull2_t1'), ('pull2_t0', 'pull1_t1'), ('owgaze1_t0', 'owgaze2_t1')]\n"
     ]
    },
    {
     "data": {
      "application/vnd.jupyter.widget-view+json": {
       "model_id": "f9e6a49cc11a4ea3bd074d2aea47bb92",
       "version_major": 2,
       "version_minor": 0
      },
      "text/plain": [
       "  0%|          | 0/1000000 [00:00<?, ?it/s]"
      ]
     },
     "metadata": {},
     "output_type": "display_data"
    },
    {
     "name": "stdout",
     "output_type": "stream",
     "text": [
      "[('pull1_t0', 'pull1_t1'), ('pull2_t0', 'pull2_t1')]\n"
     ]
    },
    {
     "data": {
      "application/vnd.jupyter.widget-view+json": {
       "model_id": "e8dadd9e96be4882bd88d82f10ecce2d",
       "version_major": 2,
       "version_minor": 0
      },
      "text/plain": [
       "  0%|          | 0/1000000 [00:00<?, ?it/s]"
      ]
     },
     "metadata": {},
     "output_type": "display_data"
    },
    {
     "name": "stdout",
     "output_type": "stream",
     "text": [
      "[('pull2_t0', 'pull2_t1'), ('pull2_t0', 'pull1_t1')]\n"
     ]
    },
    {
     "data": {
      "application/vnd.jupyter.widget-view+json": {
       "model_id": "e5b9fbb8475543329fc9fa7ee5eb4ca8",
       "version_major": 2,
       "version_minor": 0
      },
      "text/plain": [
       "  0%|          | 0/1000000 [00:00<?, ?it/s]"
      ]
     },
     "metadata": {},
     "output_type": "display_data"
    },
    {
     "name": "stdout",
     "output_type": "stream",
     "text": [
      "[('pull1_t0', 'pull1_t1'), ('pull2_t0', 'pull2_t1')]\n"
     ]
    },
    {
     "data": {
      "application/vnd.jupyter.widget-view+json": {
       "model_id": "64adbc89a56e4f46b7e58bef27e55022",
       "version_major": 2,
       "version_minor": 0
      },
      "text/plain": [
       "  0%|          | 0/1000000 [00:00<?, ?it/s]"
      ]
     },
     "metadata": {},
     "output_type": "display_data"
    },
    {
     "name": "stdout",
     "output_type": "stream",
     "text": [
      "[('pull2_t0', 'pull2_t1'), ('pull2_t0', 'pull1_t1')]\n"
     ]
    },
    {
     "data": {
      "application/vnd.jupyter.widget-view+json": {
       "model_id": "313f4acfe11e44cd9b6aea99c8824d67",
       "version_major": 2,
       "version_minor": 0
      },
      "text/plain": [
       "  0%|          | 0/1000000 [00:00<?, ?it/s]"
      ]
     },
     "metadata": {},
     "output_type": "display_data"
    },
    {
     "name": "stdout",
     "output_type": "stream",
     "text": [
      "[('pull2_t0', 'pull2_t1'), ('pull2_t0', 'pull1_t1')]\n"
     ]
    },
    {
     "data": {
      "application/vnd.jupyter.widget-view+json": {
       "model_id": "3e0a17edbd36492f8a4ca62f66a3730a",
       "version_major": 2,
       "version_minor": 0
      },
      "text/plain": [
       "  0%|          | 0/1000000 [00:00<?, ?it/s]"
      ]
     },
     "metadata": {},
     "output_type": "display_data"
    },
    {
     "name": "stdout",
     "output_type": "stream",
     "text": [
      "[('pull1_t0', 'pull1_t1'), ('pull2_t0', 'pull2_t1')]\n"
     ]
    },
    {
     "data": {
      "application/vnd.jupyter.widget-view+json": {
       "model_id": "681cd2616f4242009ec41e63ca595762",
       "version_major": 2,
       "version_minor": 0
      },
      "text/plain": [
       "  0%|          | 0/1000000 [00:00<?, ?it/s]"
      ]
     },
     "metadata": {},
     "output_type": "display_data"
    },
    {
     "name": "stdout",
     "output_type": "stream",
     "text": [
      "[('pull2_t0', 'pull2_t1'), ('pull2_t0', 'pull1_t1')]\n"
     ]
    },
    {
     "data": {
      "application/vnd.jupyter.widget-view+json": {
       "model_id": "95ab4ffd195d4bd892c68fbc827bcbd0",
       "version_major": 2,
       "version_minor": 0
      },
      "text/plain": [
       "  0%|          | 0/1000000 [00:00<?, ?it/s]"
      ]
     },
     "metadata": {},
     "output_type": "display_data"
    },
    {
     "name": "stdout",
     "output_type": "stream",
     "text": [
      "[('pull1_t0', 'pull1_t1'), ('pull2_t0', 'pull2_t1')]\n"
     ]
    },
    {
     "data": {
      "application/vnd.jupyter.widget-view+json": {
       "model_id": "b6eaaed950a9410f83aff00de0946929",
       "version_major": 2,
       "version_minor": 0
      },
      "text/plain": [
       "  0%|          | 0/1000000 [00:00<?, ?it/s]"
      ]
     },
     "metadata": {},
     "output_type": "display_data"
    },
    {
     "name": "stdout",
     "output_type": "stream",
     "text": [
      "[('pull1_t0', 'pull1_t1'), ('pull2_t0', 'pull2_t1')]\n"
     ]
    },
    {
     "data": {
      "application/vnd.jupyter.widget-view+json": {
       "model_id": "c52a76e53d48430e9982c14f6bf44b14",
       "version_major": 2,
       "version_minor": 0
      },
      "text/plain": [
       "  0%|          | 0/1000000 [00:00<?, ?it/s]"
      ]
     },
     "metadata": {},
     "output_type": "display_data"
    },
    {
     "name": "stdout",
     "output_type": "stream",
     "text": [
      "[('pull1_t0', 'pull1_t1'), ('pull2_t0', 'pull2_t1')]\n"
     ]
    },
    {
     "data": {
      "application/vnd.jupyter.widget-view+json": {
       "model_id": "08691b4a442a45628242bfb37a4dfb6e",
       "version_major": 2,
       "version_minor": 0
      },
      "text/plain": [
       "  0%|          | 0/1000000 [00:00<?, ?it/s]"
      ]
     },
     "metadata": {},
     "output_type": "display_data"
    },
    {
     "name": "stdout",
     "output_type": "stream",
     "text": [
      "[('pull1_t0', 'pull1_t1'), ('pull2_t0', 'pull2_t1')]\n"
     ]
    },
    {
     "data": {
      "application/vnd.jupyter.widget-view+json": {
       "model_id": "2c06bc1bdd974730b81a3026eb6e7ac2",
       "version_major": 2,
       "version_minor": 0
      },
      "text/plain": [
       "  0%|          | 0/1000000 [00:00<?, ?it/s]"
      ]
     },
     "metadata": {},
     "output_type": "display_data"
    },
    {
     "name": "stdout",
     "output_type": "stream",
     "text": [
      "[('pull1_t0', 'pull1_t1'), ('pull2_t0', 'pull2_t1')]\n"
     ]
    },
    {
     "data": {
      "application/vnd.jupyter.widget-view+json": {
       "model_id": "f5f9d6c7783b490a9d03c01b5695d2c6",
       "version_major": 2,
       "version_minor": 0
      },
      "text/plain": [
       "  0%|          | 0/1000000 [00:00<?, ?it/s]"
      ]
     },
     "metadata": {},
     "output_type": "display_data"
    },
    {
     "name": "stdout",
     "output_type": "stream",
     "text": [
      "[('pull1_t0', 'pull1_t1'), ('pull2_t0', 'pull2_t1'), ('owgaze2_t0', 'owgaze2_t1')]\n"
     ]
    },
    {
     "data": {
      "application/vnd.jupyter.widget-view+json": {
       "model_id": "cfae5784775b4b488eff947de1eeb880",
       "version_major": 2,
       "version_minor": 0
      },
      "text/plain": [
       "  0%|          | 0/1000000 [00:00<?, ?it/s]"
      ]
     },
     "metadata": {},
     "output_type": "display_data"
    },
    {
     "name": "stdout",
     "output_type": "stream",
     "text": [
      "[('pull1_t0', 'pull1_t1'), ('pull1_t0', 'pull2_t1'), ('owgaze1_t0', 'owgaze2_t1')]\n"
     ]
    },
    {
     "data": {
      "application/vnd.jupyter.widget-view+json": {
       "model_id": "eb8ef6c080f441d29079b37631c92bd9",
       "version_major": 2,
       "version_minor": 0
      },
      "text/plain": [
       "  0%|          | 0/1000000 [00:00<?, ?it/s]"
      ]
     },
     "metadata": {},
     "output_type": "display_data"
    },
    {
     "name": "stdout",
     "output_type": "stream",
     "text": [
      "[('pull1_t0', 'pull1_t1'), ('pull2_t0', 'pull2_t1'), ('owgaze1_t0', 'owgaze2_t1')]\n"
     ]
    },
    {
     "data": {
      "application/vnd.jupyter.widget-view+json": {
       "model_id": "2010083cd894479590574995165ff0e7",
       "version_major": 2,
       "version_minor": 0
      },
      "text/plain": [
       "  0%|          | 0/1000000 [00:00<?, ?it/s]"
      ]
     },
     "metadata": {},
     "output_type": "display_data"
    },
    {
     "name": "stdout",
     "output_type": "stream",
     "text": [
      "[('pull1_t0', 'pull1_t1'), ('pull2_t0', 'pull2_t1')]\n"
     ]
    },
    {
     "data": {
      "application/vnd.jupyter.widget-view+json": {
       "model_id": "0c92471fb73648cf80d25777f177a6ab",
       "version_major": 2,
       "version_minor": 0
      },
      "text/plain": [
       "  0%|          | 0/1000000 [00:00<?, ?it/s]"
      ]
     },
     "metadata": {},
     "output_type": "display_data"
    },
    {
     "name": "stdout",
     "output_type": "stream",
     "text": [
      "[('pull1_t0', 'pull1_t1'), ('pull2_t0', 'pull2_t1'), ('owgaze2_t0', 'owgaze1_t1')]\n"
     ]
    },
    {
     "data": {
      "application/vnd.jupyter.widget-view+json": {
       "model_id": "62f393a1e8d8421d8ff6f502a88f6a54",
       "version_major": 2,
       "version_minor": 0
      },
      "text/plain": [
       "  0%|          | 0/1000000 [00:00<?, ?it/s]"
      ]
     },
     "metadata": {},
     "output_type": "display_data"
    },
    {
     "name": "stdout",
     "output_type": "stream",
     "text": [
      "[('pull1_t0', 'pull1_t1'), ('pull2_t0', 'pull2_t1'), ('owgaze1_t0', 'owgaze2_t1')]\n"
     ]
    },
    {
     "data": {
      "application/vnd.jupyter.widget-view+json": {
       "model_id": "31be0a035a064d34a9aec205dff72977",
       "version_major": 2,
       "version_minor": 0
      },
      "text/plain": [
       "  0%|          | 0/1000000 [00:00<?, ?it/s]"
      ]
     },
     "metadata": {},
     "output_type": "display_data"
    },
    {
     "name": "stdout",
     "output_type": "stream",
     "text": [
      "[('pull1_t0', 'pull1_t1'), ('pull2_t0', 'pull2_t1')]\n"
     ]
    },
    {
     "data": {
      "application/vnd.jupyter.widget-view+json": {
       "model_id": "6ce969d5fa0e449092c440d6d034c2b1",
       "version_major": 2,
       "version_minor": 0
      },
      "text/plain": [
       "  0%|          | 0/1000000 [00:00<?, ?it/s]"
      ]
     },
     "metadata": {},
     "output_type": "display_data"
    },
    {
     "name": "stdout",
     "output_type": "stream",
     "text": [
      "[('pull1_t0', 'pull1_t1'), ('pull2_t0', 'pull2_t1'), ('owgaze2_t0', 'owgaze1_t1')]\n"
     ]
    },
    {
     "data": {
      "application/vnd.jupyter.widget-view+json": {
       "model_id": "55e4326d90a5454f955aa22237740d72",
       "version_major": 2,
       "version_minor": 0
      },
      "text/plain": [
       "  0%|          | 0/1000000 [00:00<?, ?it/s]"
      ]
     },
     "metadata": {},
     "output_type": "display_data"
    },
    {
     "name": "stdout",
     "output_type": "stream",
     "text": [
      "[('pull1_t0', 'pull1_t1'), ('pull2_t0', 'pull2_t1')]\n"
     ]
    },
    {
     "data": {
      "application/vnd.jupyter.widget-view+json": {
       "model_id": "0a5fd2dd96d849b3903e43c03794503d",
       "version_major": 2,
       "version_minor": 0
      },
      "text/plain": [
       "  0%|          | 0/1000000 [00:00<?, ?it/s]"
      ]
     },
     "metadata": {},
     "output_type": "display_data"
    },
    {
     "name": "stdout",
     "output_type": "stream",
     "text": [
      "[('pull1_t0', 'pull1_t1'), ('pull2_t0', 'pull2_t1')]\n"
     ]
    },
    {
     "data": {
      "application/vnd.jupyter.widget-view+json": {
       "model_id": "f6e88b1a7f7346b28570a63fae5e9c39",
       "version_major": 2,
       "version_minor": 0
      },
      "text/plain": [
       "  0%|          | 0/1000000 [00:00<?, ?it/s]"
      ]
     },
     "metadata": {},
     "output_type": "display_data"
    },
    {
     "name": "stdout",
     "output_type": "stream",
     "text": [
      "[('pull2_t0', 'pull2_t1'), ('owgaze1_t0', 'owgaze1_t1'), ('owgaze1_t0', 'pull1_t1'), ('owgaze2_t0', 'owgaze2_t1')]\n"
     ]
    },
    {
     "data": {
      "application/vnd.jupyter.widget-view+json": {
       "model_id": "b7a2bed0430a4e9792e9826bb11f1089",
       "version_major": 2,
       "version_minor": 0
      },
      "text/plain": [
       "  0%|          | 0/1000000 [00:00<?, ?it/s]"
      ]
     },
     "metadata": {},
     "output_type": "display_data"
    },
    {
     "name": "stdout",
     "output_type": "stream",
     "text": [
      "[('pull1_t0', 'pull1_t1'), ('pull2_t0', 'pull2_t1'), ('pull2_t0', 'owgaze2_t1'), ('owgaze1_t0', 'pull1_t1')]\n"
     ]
    },
    {
     "data": {
      "application/vnd.jupyter.widget-view+json": {
       "model_id": "8a9e206fa0b34776a3dde78ab24b9d97",
       "version_major": 2,
       "version_minor": 0
      },
      "text/plain": [
       "  0%|          | 0/1000000 [00:00<?, ?it/s]"
      ]
     },
     "metadata": {},
     "output_type": "display_data"
    },
    {
     "name": "stdout",
     "output_type": "stream",
     "text": [
      "[('pull1_t0', 'pull1_t1'), ('pull1_t0', 'pull2_t1'), ('pull1_t0', 'owgaze2_t1'), ('pull2_t0', 'pull2_t1'), ('owgaze1_t0', 'owgaze2_t1'), ('owgaze2_t0', 'pull1_t1')]\n"
     ]
    },
    {
     "data": {
      "application/vnd.jupyter.widget-view+json": {
       "model_id": "121863cff52c43afbec1a637caf9be64",
       "version_major": 2,
       "version_minor": 0
      },
      "text/plain": [
       "  0%|          | 0/1000000 [00:00<?, ?it/s]"
      ]
     },
     "metadata": {},
     "output_type": "display_data"
    },
    {
     "name": "stdout",
     "output_type": "stream",
     "text": [
      "[('pull1_t0', 'pull1_t1'), ('pull1_t0', 'owgaze1_t1'), ('pull2_t0', 'pull1_t1'), ('pull2_t0', 'pull2_t1'), ('owgaze2_t0', 'owgaze2_t1')]\n"
     ]
    },
    {
     "data": {
      "application/vnd.jupyter.widget-view+json": {
       "model_id": "a99577f0cbde4fb88dfe280c68fb46e1",
       "version_major": 2,
       "version_minor": 0
      },
      "text/plain": [
       "  0%|          | 0/1000000 [00:00<?, ?it/s]"
      ]
     },
     "metadata": {},
     "output_type": "display_data"
    },
    {
     "name": "stdout",
     "output_type": "stream",
     "text": [
      "[('pull1_t0', 'pull1_t1'), ('pull1_t0', 'owgaze2_t1'), ('pull2_t0', 'pull1_t1'), ('pull2_t0', 'pull2_t1')]\n"
     ]
    },
    {
     "data": {
      "application/vnd.jupyter.widget-view+json": {
       "model_id": "30d1690f666141109fb9b96610a2b9c4",
       "version_major": 2,
       "version_minor": 0
      },
      "text/plain": [
       "  0%|          | 0/1000000 [00:00<?, ?it/s]"
      ]
     },
     "metadata": {},
     "output_type": "display_data"
    },
    {
     "name": "stdout",
     "output_type": "stream",
     "text": [
      "[('pull1_t0', 'pull1_t1'), ('pull2_t0', 'pull1_t1'), ('pull2_t0', 'pull2_t1')]\n"
     ]
    },
    {
     "data": {
      "application/vnd.jupyter.widget-view+json": {
       "model_id": "dc9f3326226841f3aed256a2f744a270",
       "version_major": 2,
       "version_minor": 0
      },
      "text/plain": [
       "  0%|          | 0/1000000 [00:00<?, ?it/s]"
      ]
     },
     "metadata": {},
     "output_type": "display_data"
    },
    {
     "name": "stdout",
     "output_type": "stream",
     "text": [
      "[('pull1_t0', 'pull1_t1'), ('pull2_t0', 'pull1_t1'), ('pull2_t0', 'pull2_t1')]\n"
     ]
    },
    {
     "data": {
      "application/vnd.jupyter.widget-view+json": {
       "model_id": "a99095d69a844a2daf09176bbae2f359",
       "version_major": 2,
       "version_minor": 0
      },
      "text/plain": [
       "  0%|          | 0/1000000 [00:00<?, ?it/s]"
      ]
     },
     "metadata": {},
     "output_type": "display_data"
    },
    {
     "name": "stdout",
     "output_type": "stream",
     "text": [
      "[('pull1_t0', 'pull1_t1')]\n"
     ]
    },
    {
     "data": {
      "application/vnd.jupyter.widget-view+json": {
       "model_id": "af0a1cd2d3f84ab3a758ef409d18b968",
       "version_major": 2,
       "version_minor": 0
      },
      "text/plain": [
       "  0%|          | 0/1000000 [00:00<?, ?it/s]"
      ]
     },
     "metadata": {},
     "output_type": "display_data"
    },
    {
     "name": "stdout",
     "output_type": "stream",
     "text": [
      "[('pull1_t0', 'pull1_t1')]\n"
     ]
    },
    {
     "data": {
      "application/vnd.jupyter.widget-view+json": {
       "model_id": "ec9a48ea8a9e436ebb2617cf8b355be8",
       "version_major": 2,
       "version_minor": 0
      },
      "text/plain": [
       "  0%|          | 0/1000000 [00:00<?, ?it/s]"
      ]
     },
     "metadata": {},
     "output_type": "display_data"
    },
    {
     "name": "stdout",
     "output_type": "stream",
     "text": [
      "[('pull1_t0', 'pull1_t1')]\n"
     ]
    },
    {
     "data": {
      "application/vnd.jupyter.widget-view+json": {
       "model_id": "55729571cc44486480d327a2d484a132",
       "version_major": 2,
       "version_minor": 0
      },
      "text/plain": [
       "  0%|          | 0/1000000 [00:00<?, ?it/s]"
      ]
     },
     "metadata": {},
     "output_type": "display_data"
    },
    {
     "name": "stdout",
     "output_type": "stream",
     "text": [
      "[('pull1_t0', 'pull1_t1'), ('owgaze2_t0', 'pull2_t1')]\n"
     ]
    },
    {
     "data": {
      "application/vnd.jupyter.widget-view+json": {
       "model_id": "f0b035b44dde42668ae8731e6af6000a",
       "version_major": 2,
       "version_minor": 0
      },
      "text/plain": [
       "  0%|          | 0/1000000 [00:00<?, ?it/s]"
      ]
     },
     "metadata": {},
     "output_type": "display_data"
    },
    {
     "name": "stdout",
     "output_type": "stream",
     "text": [
      "[('owgaze2_t0', 'owgaze2_t1')]\n"
     ]
    },
    {
     "data": {
      "application/vnd.jupyter.widget-view+json": {
       "model_id": "b5aeb9b6eedf4c2a98978f7a71a8e192",
       "version_major": 2,
       "version_minor": 0
      },
      "text/plain": [
       "  0%|          | 0/1000000 [00:00<?, ?it/s]"
      ]
     },
     "metadata": {},
     "output_type": "display_data"
    },
    {
     "name": "stdout",
     "output_type": "stream",
     "text": [
      "[('owgaze2_t0', 'owgaze2_t1')]\n"
     ]
    },
    {
     "data": {
      "application/vnd.jupyter.widget-view+json": {
       "model_id": "0e0d6e50d89440548ffe46c1b511c3bb",
       "version_major": 2,
       "version_minor": 0
      },
      "text/plain": [
       "  0%|          | 0/1000000 [00:00<?, ?it/s]"
      ]
     },
     "metadata": {},
     "output_type": "display_data"
    },
    {
     "name": "stdout",
     "output_type": "stream",
     "text": [
      "[('pull2_t0', 'pull1_t1'), ('owgaze2_t0', 'owgaze2_t1')]\n"
     ]
    },
    {
     "data": {
      "application/vnd.jupyter.widget-view+json": {
       "model_id": "8a5d744cbcd345dcb87d7bc29f4d56ce",
       "version_major": 2,
       "version_minor": 0
      },
      "text/plain": [
       "  0%|          | 0/1000000 [00:00<?, ?it/s]"
      ]
     },
     "metadata": {},
     "output_type": "display_data"
    },
    {
     "name": "stdout",
     "output_type": "stream",
     "text": [
      "[]\n"
     ]
    },
    {
     "data": {
      "application/vnd.jupyter.widget-view+json": {
       "model_id": "8e4de36d18a049e9a478f1141b74d45a",
       "version_major": 2,
       "version_minor": 0
      },
      "text/plain": [
       "  0%|          | 0/1000000 [00:00<?, ?it/s]"
      ]
     },
     "metadata": {},
     "output_type": "display_data"
    },
    {
     "name": "stdout",
     "output_type": "stream",
     "text": [
      "[('owgaze2_t0', 'owgaze2_t1')]\n"
     ]
    },
    {
     "data": {
      "application/vnd.jupyter.widget-view+json": {
       "model_id": "f1161bd1ab5e4a5fb12e230caee4331d",
       "version_major": 2,
       "version_minor": 0
      },
      "text/plain": [
       "  0%|          | 0/1000000 [00:00<?, ?it/s]"
      ]
     },
     "metadata": {},
     "output_type": "display_data"
    },
    {
     "name": "stdout",
     "output_type": "stream",
     "text": [
      "[('owgaze2_t0', 'owgaze2_t1')]\n"
     ]
    },
    {
     "data": {
      "application/vnd.jupyter.widget-view+json": {
       "model_id": "cc5de899b9104a858dfea08cbe3c7184",
       "version_major": 2,
       "version_minor": 0
      },
      "text/plain": [
       "  0%|          | 0/1000000 [00:00<?, ?it/s]"
      ]
     },
     "metadata": {},
     "output_type": "display_data"
    },
    {
     "name": "stdout",
     "output_type": "stream",
     "text": [
      "[('owgaze2_t0', 'owgaze2_t1')]\n"
     ]
    },
    {
     "data": {
      "application/vnd.jupyter.widget-view+json": {
       "model_id": "f22fee3742ca428395eda113459eb6f9",
       "version_major": 2,
       "version_minor": 0
      },
      "text/plain": [
       "  0%|          | 0/1000000 [00:00<?, ?it/s]"
      ]
     },
     "metadata": {},
     "output_type": "display_data"
    },
    {
     "name": "stdout",
     "output_type": "stream",
     "text": [
      "[('owgaze2_t0', 'owgaze2_t1')]\n"
     ]
    },
    {
     "data": {
      "application/vnd.jupyter.widget-view+json": {
       "model_id": "5a4d1127e5074a288bffd8fc6ec2c10b",
       "version_major": 2,
       "version_minor": 0
      },
      "text/plain": [
       "  0%|          | 0/1000000 [00:00<?, ?it/s]"
      ]
     },
     "metadata": {},
     "output_type": "display_data"
    },
    {
     "name": "stdout",
     "output_type": "stream",
     "text": [
      "[('owgaze2_t0', 'owgaze2_t1')]\n"
     ]
    },
    {
     "data": {
      "application/vnd.jupyter.widget-view+json": {
       "model_id": "c59e91e4d629492fb784031a8b0239b3",
       "version_major": 2,
       "version_minor": 0
      },
      "text/plain": [
       "  0%|          | 0/1000000 [00:00<?, ?it/s]"
      ]
     },
     "metadata": {},
     "output_type": "display_data"
    },
    {
     "name": "stdout",
     "output_type": "stream",
     "text": [
      "[('owgaze2_t0', 'owgaze2_t1')]\n"
     ]
    },
    {
     "data": {
      "application/vnd.jupyter.widget-view+json": {
       "model_id": "8cc1d7b60542455e9a52bedc83e0e964",
       "version_major": 2,
       "version_minor": 0
      },
      "text/plain": [
       "  0%|          | 0/1000000 [00:00<?, ?it/s]"
      ]
     },
     "metadata": {},
     "output_type": "display_data"
    },
    {
     "name": "stdout",
     "output_type": "stream",
     "text": [
      "[('owgaze2_t0', 'owgaze2_t1')]\n"
     ]
    },
    {
     "data": {
      "application/vnd.jupyter.widget-view+json": {
       "model_id": "3521aa8717974e889616525d8add2bd6",
       "version_major": 2,
       "version_minor": 0
      },
      "text/plain": [
       "  0%|          | 0/1000000 [00:00<?, ?it/s]"
      ]
     },
     "metadata": {},
     "output_type": "display_data"
    },
    {
     "name": "stdout",
     "output_type": "stream",
     "text": [
      "[('owgaze2_t0', 'owgaze2_t1')]\n"
     ]
    },
    {
     "data": {
      "application/vnd.jupyter.widget-view+json": {
       "model_id": "a384dc6684ee4ad5bc99c1dd9172faca",
       "version_major": 2,
       "version_minor": 0
      },
      "text/plain": [
       "  0%|          | 0/1000000 [00:00<?, ?it/s]"
      ]
     },
     "metadata": {},
     "output_type": "display_data"
    },
    {
     "name": "stdout",
     "output_type": "stream",
     "text": [
      "[('owgaze1_t0', 'owgaze2_t1'), ('owgaze2_t0', 'owgaze2_t1')]\n"
     ]
    },
    {
     "data": {
      "application/vnd.jupyter.widget-view+json": {
       "model_id": "64b6f656c21e406fa49e21860c39a0a6",
       "version_major": 2,
       "version_minor": 0
      },
      "text/plain": [
       "  0%|          | 0/1000000 [00:00<?, ?it/s]"
      ]
     },
     "metadata": {},
     "output_type": "display_data"
    },
    {
     "name": "stdout",
     "output_type": "stream",
     "text": [
      "[('owgaze2_t0', 'owgaze2_t1')]\n"
     ]
    },
    {
     "data": {
      "application/vnd.jupyter.widget-view+json": {
       "model_id": "e5ab41e842014193b9c7141492fa419b",
       "version_major": 2,
       "version_minor": 0
      },
      "text/plain": [
       "  0%|          | 0/1000000 [00:00<?, ?it/s]"
      ]
     },
     "metadata": {},
     "output_type": "display_data"
    },
    {
     "name": "stdout",
     "output_type": "stream",
     "text": [
      "[('pull1_t0', 'owgaze2_t1')]\n"
     ]
    },
    {
     "data": {
      "application/vnd.jupyter.widget-view+json": {
       "model_id": "de8d2490100b4495b91646b7ead45ebb",
       "version_major": 2,
       "version_minor": 0
      },
      "text/plain": [
       "  0%|          | 0/1000000 [00:00<?, ?it/s]"
      ]
     },
     "metadata": {},
     "output_type": "display_data"
    },
    {
     "name": "stdout",
     "output_type": "stream",
     "text": [
      "[('pull1_t0', 'pull2_t1')]\n"
     ]
    },
    {
     "data": {
      "application/vnd.jupyter.widget-view+json": {
       "model_id": "beae96d699cd41c68860e3d04547586f",
       "version_major": 2,
       "version_minor": 0
      },
      "text/plain": [
       "  0%|          | 0/1000000 [00:00<?, ?it/s]"
      ]
     },
     "metadata": {},
     "output_type": "display_data"
    },
    {
     "name": "stdout",
     "output_type": "stream",
     "text": [
      "[('pull1_t0', 'pull2_t1'), ('owgaze1_t0', 'owgaze2_t1')]\n"
     ]
    },
    {
     "data": {
      "application/vnd.jupyter.widget-view+json": {
       "model_id": "56cbfe11b69e44058db8ea035c9b97d1",
       "version_major": 2,
       "version_minor": 0
      },
      "text/plain": [
       "  0%|          | 0/1000000 [00:00<?, ?it/s]"
      ]
     },
     "metadata": {},
     "output_type": "display_data"
    },
    {
     "name": "stdout",
     "output_type": "stream",
     "text": [
      "[('pull1_t0', 'pull2_t1'), ('pull1_t0', 'pull1_t1')]\n"
     ]
    },
    {
     "data": {
      "application/vnd.jupyter.widget-view+json": {
       "model_id": "95d5ac6edc504e90a2ea0794285ef1df",
       "version_major": 2,
       "version_minor": 0
      },
      "text/plain": [
       "  0%|          | 0/1000000 [00:00<?, ?it/s]"
      ]
     },
     "metadata": {},
     "output_type": "display_data"
    },
    {
     "name": "stdout",
     "output_type": "stream",
     "text": [
      "[('pull1_t0', 'pull2_t1'), ('owgaze1_t0', 'owgaze2_t1')]\n"
     ]
    },
    {
     "data": {
      "application/vnd.jupyter.widget-view+json": {
       "model_id": "beab8b4e32754cb8b31c337e3d59fdd6",
       "version_major": 2,
       "version_minor": 0
      },
      "text/plain": [
       "  0%|          | 0/1000000 [00:00<?, ?it/s]"
      ]
     },
     "metadata": {},
     "output_type": "display_data"
    },
    {
     "name": "stdout",
     "output_type": "stream",
     "text": [
      "[('pull1_t0', 'pull2_t1'), ('pull1_t0', 'owgaze2_t1')]\n"
     ]
    },
    {
     "data": {
      "application/vnd.jupyter.widget-view+json": {
       "model_id": "0556b80be03d424897634af167764318",
       "version_major": 2,
       "version_minor": 0
      },
      "text/plain": [
       "  0%|          | 0/1000000 [00:00<?, ?it/s]"
      ]
     },
     "metadata": {},
     "output_type": "display_data"
    },
    {
     "name": "stdout",
     "output_type": "stream",
     "text": [
      "[('pull1_t0', 'pull2_t1'), ('pull1_t0', 'owgaze2_t1')]\n"
     ]
    },
    {
     "data": {
      "application/vnd.jupyter.widget-view+json": {
       "model_id": "6179f666d04c4dcf8a8e0d968ba13c5c",
       "version_major": 2,
       "version_minor": 0
      },
      "text/plain": [
       "  0%|          | 0/1000000 [00:00<?, ?it/s]"
      ]
     },
     "metadata": {},
     "output_type": "display_data"
    },
    {
     "name": "stdout",
     "output_type": "stream",
     "text": [
      "[('pull1_t0', 'owgaze1_t1')]\n"
     ]
    },
    {
     "data": {
      "application/vnd.jupyter.widget-view+json": {
       "model_id": "4a41e9843c014b27b27462e8a317e0a3",
       "version_major": 2,
       "version_minor": 0
      },
      "text/plain": [
       "  0%|          | 0/1000000 [00:00<?, ?it/s]"
      ]
     },
     "metadata": {},
     "output_type": "display_data"
    },
    {
     "name": "stdout",
     "output_type": "stream",
     "text": [
      "[('pull1_t0', 'pull1_t1'), ('pull1_t0', 'owgaze1_t1'), ('pull2_t0', 'pull2_t1')]\n"
     ]
    },
    {
     "data": {
      "application/vnd.jupyter.widget-view+json": {
       "model_id": "26d0bf86f730458ebde9ff974fe7c43c",
       "version_major": 2,
       "version_minor": 0
      },
      "text/plain": [
       "  0%|          | 0/1000000 [00:00<?, ?it/s]"
      ]
     },
     "metadata": {},
     "output_type": "display_data"
    },
    {
     "name": "stdout",
     "output_type": "stream",
     "text": [
      "[('pull1_t0', 'pull1_t1'), ('pull2_t0', 'pull2_t1'), ('pull2_t0', 'pull1_t1')]\n"
     ]
    },
    {
     "data": {
      "application/vnd.jupyter.widget-view+json": {
       "model_id": "aedd970add114300967a57fdbda07e4a",
       "version_major": 2,
       "version_minor": 0
      },
      "text/plain": [
       "  0%|          | 0/1000000 [00:00<?, ?it/s]"
      ]
     },
     "metadata": {},
     "output_type": "display_data"
    },
    {
     "name": "stdout",
     "output_type": "stream",
     "text": [
      "[('pull1_t0', 'pull1_t1'), ('pull1_t0', 'pull2_t1'), ('pull1_t0', 'owgaze1_t1'), ('pull2_t0', 'pull1_t1'), ('pull2_t0', 'pull2_t1'), ('owgaze1_t0', 'pull1_t1')]\n"
     ]
    },
    {
     "data": {
      "application/vnd.jupyter.widget-view+json": {
       "model_id": "c55719d3583445df9f16b97175f66cba",
       "version_major": 2,
       "version_minor": 0
      },
      "text/plain": [
       "  0%|          | 0/1000000 [00:00<?, ?it/s]"
      ]
     },
     "metadata": {},
     "output_type": "display_data"
    },
    {
     "name": "stdout",
     "output_type": "stream",
     "text": [
      "[('pull1_t0', 'pull1_t1'), ('pull1_t0', 'pull2_t1'), ('pull2_t0', 'pull1_t1'), ('pull2_t0', 'pull2_t1')]\n"
     ]
    },
    {
     "data": {
      "application/vnd.jupyter.widget-view+json": {
       "model_id": "e31abde8e4ad4da49b0b5b4517082827",
       "version_major": 2,
       "version_minor": 0
      },
      "text/plain": [
       "  0%|          | 0/1000000 [00:00<?, ?it/s]"
      ]
     },
     "metadata": {},
     "output_type": "display_data"
    },
    {
     "name": "stdout",
     "output_type": "stream",
     "text": [
      "[('pull1_t0', 'pull1_t1'), ('pull2_t0', 'pull2_t1'), ('pull2_t0', 'pull1_t1')]\n"
     ]
    },
    {
     "data": {
      "application/vnd.jupyter.widget-view+json": {
       "model_id": "141263aa22be49099516574cd892fbc2",
       "version_major": 2,
       "version_minor": 0
      },
      "text/plain": [
       "  0%|          | 0/1000000 [00:00<?, ?it/s]"
      ]
     },
     "metadata": {},
     "output_type": "display_data"
    },
    {
     "name": "stdout",
     "output_type": "stream",
     "text": [
      "[('pull1_t0', 'pull1_t1'), ('pull2_t0', 'pull2_t1')]\n"
     ]
    },
    {
     "data": {
      "application/vnd.jupyter.widget-view+json": {
       "model_id": "6a05f393b6ed432e9a0f42e123010592",
       "version_major": 2,
       "version_minor": 0
      },
      "text/plain": [
       "  0%|          | 0/1000000 [00:00<?, ?it/s]"
      ]
     },
     "metadata": {},
     "output_type": "display_data"
    },
    {
     "name": "stdout",
     "output_type": "stream",
     "text": [
      "[('pull1_t0', 'pull1_t1'), ('pull2_t0', 'pull2_t1')]\n"
     ]
    },
    {
     "data": {
      "application/vnd.jupyter.widget-view+json": {
       "model_id": "ab87e0530c454e9abd58793348443f4c",
       "version_major": 2,
       "version_minor": 0
      },
      "text/plain": [
       "  0%|          | 0/1000000 [00:00<?, ?it/s]"
      ]
     },
     "metadata": {},
     "output_type": "display_data"
    },
    {
     "name": "stdout",
     "output_type": "stream",
     "text": [
      "[]\n"
     ]
    },
    {
     "data": {
      "application/vnd.jupyter.widget-view+json": {
       "model_id": "9616fa78ca7c4466aff135f7cf18c417",
       "version_major": 2,
       "version_minor": 0
      },
      "text/plain": [
       "  0%|          | 0/1000000 [00:00<?, ?it/s]"
      ]
     },
     "metadata": {},
     "output_type": "display_data"
    },
    {
     "name": "stdout",
     "output_type": "stream",
     "text": [
      "[('pull2_t0', 'pull1_t1')]\n"
     ]
    },
    {
     "data": {
      "application/vnd.jupyter.widget-view+json": {
       "model_id": "92bb6197aca642139d9b40d7f93bf9cc",
       "version_major": 2,
       "version_minor": 0
      },
      "text/plain": [
       "  0%|          | 0/1000000 [00:00<?, ?it/s]"
      ]
     },
     "metadata": {},
     "output_type": "display_data"
    },
    {
     "name": "stdout",
     "output_type": "stream",
     "text": [
      "[]\n"
     ]
    },
    {
     "data": {
      "application/vnd.jupyter.widget-view+json": {
       "model_id": "e8c22b2720894fc196d925affb8cba4a",
       "version_major": 2,
       "version_minor": 0
      },
      "text/plain": [
       "  0%|          | 0/1000000 [00:00<?, ?it/s]"
      ]
     },
     "metadata": {},
     "output_type": "display_data"
    },
    {
     "name": "stdout",
     "output_type": "stream",
     "text": [
      "[('pull1_t0', 'pull1_t1')]\n"
     ]
    },
    {
     "data": {
      "application/vnd.jupyter.widget-view+json": {
       "model_id": "60c4994fd91a4b0b980e0927f0ce6f26",
       "version_major": 2,
       "version_minor": 0
      },
      "text/plain": [
       "  0%|          | 0/1000000 [00:00<?, ?it/s]"
      ]
     },
     "metadata": {},
     "output_type": "display_data"
    },
    {
     "name": "stdout",
     "output_type": "stream",
     "text": [
      "[('pull1_t0', 'pull1_t1')]\n"
     ]
    },
    {
     "data": {
      "application/vnd.jupyter.widget-view+json": {
       "model_id": "0683f77a046247ea96ed8c616b48e94f",
       "version_major": 2,
       "version_minor": 0
      },
      "text/plain": [
       "  0%|          | 0/1000000 [00:00<?, ?it/s]"
      ]
     },
     "metadata": {},
     "output_type": "display_data"
    },
    {
     "name": "stdout",
     "output_type": "stream",
     "text": [
      "[('pull1_t0', 'pull2_t1'), ('pull1_t0', 'pull1_t1'), ('pull1_t0', 'owgaze1_t1')]\n"
     ]
    },
    {
     "data": {
      "application/vnd.jupyter.widget-view+json": {
       "model_id": "16f24064b4a043b492587d1fdd2c48ed",
       "version_major": 2,
       "version_minor": 0
      },
      "text/plain": [
       "  0%|          | 0/1000000 [00:00<?, ?it/s]"
      ]
     },
     "metadata": {},
     "output_type": "display_data"
    },
    {
     "name": "stdout",
     "output_type": "stream",
     "text": [
      "[('pull1_t0', 'pull1_t1'), ('pull1_t0', 'pull2_t1')]\n"
     ]
    },
    {
     "data": {
      "application/vnd.jupyter.widget-view+json": {
       "model_id": "c6056ff0647f431d82cecfc6fcd2b20f",
       "version_major": 2,
       "version_minor": 0
      },
      "text/plain": [
       "  0%|          | 0/1000000 [00:00<?, ?it/s]"
      ]
     },
     "metadata": {},
     "output_type": "display_data"
    },
    {
     "name": "stdout",
     "output_type": "stream",
     "text": [
      "[('pull1_t0', 'pull1_t1'), ('pull1_t0', 'pull2_t1'), ('pull2_t0', 'owgaze1_t1')]\n"
     ]
    },
    {
     "data": {
      "application/vnd.jupyter.widget-view+json": {
       "model_id": "1457445baa754168ab7541be75febc92",
       "version_major": 2,
       "version_minor": 0
      },
      "text/plain": [
       "  0%|          | 0/1000000 [00:00<?, ?it/s]"
      ]
     },
     "metadata": {},
     "output_type": "display_data"
    },
    {
     "name": "stdout",
     "output_type": "stream",
     "text": [
      "[('pull1_t0', 'pull1_t1'), ('pull1_t0', 'owgaze1_t1'), ('pull1_t0', 'pull2_t1')]\n"
     ]
    },
    {
     "data": {
      "application/vnd.jupyter.widget-view+json": {
       "model_id": "a7ece9a2d565431faf0d546e7fe1cc4d",
       "version_major": 2,
       "version_minor": 0
      },
      "text/plain": [
       "  0%|          | 0/1000000 [00:00<?, ?it/s]"
      ]
     },
     "metadata": {},
     "output_type": "display_data"
    },
    {
     "name": "stdout",
     "output_type": "stream",
     "text": [
      "[('pull1_t0', 'pull1_t1'), ('pull1_t0', 'pull2_t1'), ('pull2_t0', 'owgaze1_t1')]\n"
     ]
    },
    {
     "data": {
      "application/vnd.jupyter.widget-view+json": {
       "model_id": "ce044302cd3c4a4aab178e097ec6180e",
       "version_major": 2,
       "version_minor": 0
      },
      "text/plain": [
       "  0%|          | 0/1000000 [00:00<?, ?it/s]"
      ]
     },
     "metadata": {},
     "output_type": "display_data"
    },
    {
     "name": "stdout",
     "output_type": "stream",
     "text": [
      "[('pull1_t0', 'pull1_t1'), ('pull1_t0', 'owgaze1_t1'), ('pull1_t0', 'pull2_t1')]\n"
     ]
    },
    {
     "data": {
      "application/vnd.jupyter.widget-view+json": {
       "model_id": "db8d962fa30244e5887b6a1dc63c154f",
       "version_major": 2,
       "version_minor": 0
      },
      "text/plain": [
       "  0%|          | 0/1000000 [00:00<?, ?it/s]"
      ]
     },
     "metadata": {},
     "output_type": "display_data"
    },
    {
     "name": "stdout",
     "output_type": "stream",
     "text": [
      "[('pull1_t0', 'pull1_t1'), ('pull1_t0', 'owgaze1_t1'), ('owgaze1_t0', 'pull2_t1')]\n"
     ]
    },
    {
     "data": {
      "application/vnd.jupyter.widget-view+json": {
       "model_id": "8c97cef7c3b946739537c90928bfa073",
       "version_major": 2,
       "version_minor": 0
      },
      "text/plain": [
       "  0%|          | 0/1000000 [00:00<?, ?it/s]"
      ]
     },
     "metadata": {},
     "output_type": "display_data"
    },
    {
     "name": "stdout",
     "output_type": "stream",
     "text": [
      "[('pull1_t0', 'pull1_t1'), ('pull1_t0', 'pull2_t1'), ('pull2_t0', 'owgaze1_t1')]\n"
     ]
    },
    {
     "data": {
      "application/vnd.jupyter.widget-view+json": {
       "model_id": "797f385f4f4b4721b54ae74f4c0dc75a",
       "version_major": 2,
       "version_minor": 0
      },
      "text/plain": [
       "  0%|          | 0/1000000 [00:00<?, ?it/s]"
      ]
     },
     "metadata": {},
     "output_type": "display_data"
    },
    {
     "name": "stdout",
     "output_type": "stream",
     "text": [
      "[('pull1_t0', 'pull1_t1'), ('pull2_t0', 'owgaze1_t1')]\n"
     ]
    },
    {
     "data": {
      "application/vnd.jupyter.widget-view+json": {
       "model_id": "4223ddeb50fa4840b410714a702247bc",
       "version_major": 2,
       "version_minor": 0
      },
      "text/plain": [
       "  0%|          | 0/1000000 [00:00<?, ?it/s]"
      ]
     },
     "metadata": {},
     "output_type": "display_data"
    },
    {
     "name": "stdout",
     "output_type": "stream",
     "text": [
      "[('pull1_t0', 'pull1_t1'), ('owgaze1_t0', 'pull2_t1')]\n"
     ]
    },
    {
     "data": {
      "application/vnd.jupyter.widget-view+json": {
       "model_id": "7880d708737240d290bbec5349348dd8",
       "version_major": 2,
       "version_minor": 0
      },
      "text/plain": [
       "  0%|          | 0/1000000 [00:00<?, ?it/s]"
      ]
     },
     "metadata": {},
     "output_type": "display_data"
    },
    {
     "name": "stdout",
     "output_type": "stream",
     "text": [
      "[('pull1_t0', 'owgaze1_t1'), ('pull1_t0', 'pull1_t1'), ('owgaze1_t0', 'pull2_t1')]\n"
     ]
    },
    {
     "data": {
      "application/vnd.jupyter.widget-view+json": {
       "model_id": "ed25e4dd64fc4f579ee7aed29a049f64",
       "version_major": 2,
       "version_minor": 0
      },
      "text/plain": [
       "  0%|          | 0/1000000 [00:00<?, ?it/s]"
      ]
     },
     "metadata": {},
     "output_type": "display_data"
    },
    {
     "name": "stdout",
     "output_type": "stream",
     "text": [
      "[('pull1_t0', 'pull1_t1'), ('pull1_t0', 'pull2_t1'), ('pull2_t0', 'owgaze1_t1')]\n"
     ]
    },
    {
     "data": {
      "application/vnd.jupyter.widget-view+json": {
       "model_id": "bde66175813f4cb9b0ab9cd48b6cf1df",
       "version_major": 2,
       "version_minor": 0
      },
      "text/plain": [
       "  0%|          | 0/1000000 [00:00<?, ?it/s]"
      ]
     },
     "metadata": {},
     "output_type": "display_data"
    },
    {
     "name": "stdout",
     "output_type": "stream",
     "text": [
      "[('pull1_t0', 'pull2_t1'), ('pull1_t0', 'pull1_t1')]\n"
     ]
    },
    {
     "data": {
      "application/vnd.jupyter.widget-view+json": {
       "model_id": "5799d723d57b4ee5b5b4013ac4ffeec9",
       "version_major": 2,
       "version_minor": 0
      },
      "text/plain": [
       "  0%|          | 0/1000000 [00:00<?, ?it/s]"
      ]
     },
     "metadata": {},
     "output_type": "display_data"
    },
    {
     "name": "stdout",
     "output_type": "stream",
     "text": [
      "[('pull1_t0', 'pull1_t1'), ('pull1_t0', 'pull2_t1'), ('pull1_t0', 'owgaze1_t1')]\n"
     ]
    },
    {
     "data": {
      "application/vnd.jupyter.widget-view+json": {
       "model_id": "a7523e701acc4d55a5e121ba23328a63",
       "version_major": 2,
       "version_minor": 0
      },
      "text/plain": [
       "  0%|          | 0/1000000 [00:00<?, ?it/s]"
      ]
     },
     "metadata": {},
     "output_type": "display_data"
    },
    {
     "name": "stdout",
     "output_type": "stream",
     "text": [
      "[('pull1_t0', 'owgaze1_t1'), ('pull1_t0', 'pull1_t1'), ('owgaze1_t0', 'pull2_t1')]\n"
     ]
    },
    {
     "data": {
      "application/vnd.jupyter.widget-view+json": {
       "model_id": "4f69780614bf4dd9b9e5fa1a0588babe",
       "version_major": 2,
       "version_minor": 0
      },
      "text/plain": [
       "  0%|          | 0/1000000 [00:00<?, ?it/s]"
      ]
     },
     "metadata": {},
     "output_type": "display_data"
    },
    {
     "name": "stdout",
     "output_type": "stream",
     "text": [
      "[('pull1_t0', 'pull1_t1'), ('owgaze1_t0', 'pull2_t1')]\n"
     ]
    },
    {
     "data": {
      "application/vnd.jupyter.widget-view+json": {
       "model_id": "6e97c7a9f65345f1b7eed852b9a0b2f0",
       "version_major": 2,
       "version_minor": 0
      },
      "text/plain": [
       "  0%|          | 0/1000000 [00:00<?, ?it/s]"
      ]
     },
     "metadata": {},
     "output_type": "display_data"
    },
    {
     "name": "stdout",
     "output_type": "stream",
     "text": [
      "[('pull1_t0', 'pull1_t1'), ('pull1_t0', 'owgaze1_t1'), ('owgaze1_t0', 'pull2_t1')]\n"
     ]
    },
    {
     "data": {
      "application/vnd.jupyter.widget-view+json": {
       "model_id": "46a968ea55ba463cb6133911fa2d710b",
       "version_major": 2,
       "version_minor": 0
      },
      "text/plain": [
       "  0%|          | 0/1000000 [00:00<?, ?it/s]"
      ]
     },
     "metadata": {},
     "output_type": "display_data"
    },
    {
     "name": "stdout",
     "output_type": "stream",
     "text": [
      "[('owgaze1_t0', 'owgaze1_t1'), ('owgaze2_t0', 'owgaze2_t1')]\n"
     ]
    },
    {
     "data": {
      "application/vnd.jupyter.widget-view+json": {
       "model_id": "9f2f4464bef84c0ead6131a921fe0fcd",
       "version_major": 2,
       "version_minor": 0
      },
      "text/plain": [
       "  0%|          | 0/1000000 [00:00<?, ?it/s]"
      ]
     },
     "metadata": {},
     "output_type": "display_data"
    },
    {
     "name": "stdout",
     "output_type": "stream",
     "text": [
      "[('owgaze1_t0', 'owgaze1_t1'), ('owgaze2_t0', 'owgaze2_t1')]\n"
     ]
    },
    {
     "data": {
      "application/vnd.jupyter.widget-view+json": {
       "model_id": "4704315011404ee2aa1ac751f5478a20",
       "version_major": 2,
       "version_minor": 0
      },
      "text/plain": [
       "  0%|          | 0/1000000 [00:00<?, ?it/s]"
      ]
     },
     "metadata": {},
     "output_type": "display_data"
    },
    {
     "name": "stdout",
     "output_type": "stream",
     "text": [
      "[('pull1_t0', 'pull2_t1'), ('pull2_t0', 'pull1_t1'), ('owgaze1_t0', 'owgaze1_t1')]\n"
     ]
    },
    {
     "data": {
      "application/vnd.jupyter.widget-view+json": {
       "model_id": "7bc5502b2a954851867c001609ca87ec",
       "version_major": 2,
       "version_minor": 0
      },
      "text/plain": [
       "  0%|          | 0/1000000 [00:00<?, ?it/s]"
      ]
     },
     "metadata": {},
     "output_type": "display_data"
    },
    {
     "name": "stdout",
     "output_type": "stream",
     "text": [
      "[('pull2_t0', 'pull1_t1'), ('owgaze1_t0', 'owgaze1_t1'), ('owgaze1_t0', 'owgaze2_t1')]\n"
     ]
    },
    {
     "data": {
      "application/vnd.jupyter.widget-view+json": {
       "model_id": "4150b278513048d0a924b17a312a4bda",
       "version_major": 2,
       "version_minor": 0
      },
      "text/plain": [
       "  0%|          | 0/1000000 [00:00<?, ?it/s]"
      ]
     },
     "metadata": {},
     "output_type": "display_data"
    },
    {
     "name": "stdout",
     "output_type": "stream",
     "text": [
      "[('pull1_t0', 'pull1_t1'), ('pull2_t0', 'pull1_t1'), ('owgaze1_t0', 'owgaze1_t1'), ('owgaze1_t0', 'owgaze2_t1')]\n"
     ]
    },
    {
     "data": {
      "application/vnd.jupyter.widget-view+json": {
       "model_id": "64f45c6121af45bdbe77fb5e77b5bebc",
       "version_major": 2,
       "version_minor": 0
      },
      "text/plain": [
       "  0%|          | 0/1000000 [00:00<?, ?it/s]"
      ]
     },
     "metadata": {},
     "output_type": "display_data"
    },
    {
     "name": "stdout",
     "output_type": "stream",
     "text": [
      "[('pull1_t0', 'pull1_t1'), ('pull1_t0', 'pull2_t1'), ('pull2_t0', 'pull1_t1'), ('owgaze1_t0', 'owgaze2_t1'), ('owgaze2_t0', 'owgaze1_t1')]\n"
     ]
    },
    {
     "data": {
      "application/vnd.jupyter.widget-view+json": {
       "model_id": "ab9a3e1d69cd44299516f20b72b05a1f",
       "version_major": 2,
       "version_minor": 0
      },
      "text/plain": [
       "  0%|          | 0/1000000 [00:00<?, ?it/s]"
      ]
     },
     "metadata": {},
     "output_type": "display_data"
    },
    {
     "name": "stdout",
     "output_type": "stream",
     "text": [
      "[('pull1_t0', 'pull1_t1'), ('pull2_t0', 'pull1_t1'), ('owgaze1_t0', 'owgaze1_t1')]\n"
     ]
    },
    {
     "data": {
      "application/vnd.jupyter.widget-view+json": {
       "model_id": "bd1d96b58e904dd889e68b7df1f4c310",
       "version_major": 2,
       "version_minor": 0
      },
      "text/plain": [
       "  0%|          | 0/1000000 [00:00<?, ?it/s]"
      ]
     },
     "metadata": {},
     "output_type": "display_data"
    },
    {
     "name": "stdout",
     "output_type": "stream",
     "text": [
      "[('pull1_t0', 'pull1_t1'), ('owgaze1_t0', 'owgaze1_t1'), ('owgaze1_t0', 'owgaze2_t1')]\n"
     ]
    },
    {
     "data": {
      "application/vnd.jupyter.widget-view+json": {
       "model_id": "c766db49c19f49f3a588003dd4909500",
       "version_major": 2,
       "version_minor": 0
      },
      "text/plain": [
       "  0%|          | 0/1000000 [00:00<?, ?it/s]"
      ]
     },
     "metadata": {},
     "output_type": "display_data"
    },
    {
     "name": "stdout",
     "output_type": "stream",
     "text": [
      "[('pull1_t0', 'pull1_t1'), ('owgaze1_t0', 'owgaze1_t1')]\n"
     ]
    },
    {
     "data": {
      "application/vnd.jupyter.widget-view+json": {
       "model_id": "f038b9892e54472f81129de4df181ce5",
       "version_major": 2,
       "version_minor": 0
      },
      "text/plain": [
       "  0%|          | 0/1000000 [00:00<?, ?it/s]"
      ]
     },
     "metadata": {},
     "output_type": "display_data"
    },
    {
     "name": "stdout",
     "output_type": "stream",
     "text": [
      "[('pull1_t0', 'pull1_t1'), ('owgaze1_t0', 'owgaze1_t1'), ('owgaze2_t0', 'owgaze2_t1')]\n"
     ]
    },
    {
     "data": {
      "application/vnd.jupyter.widget-view+json": {
       "model_id": "9be85f4cf72e4a08ae5ad566b0b1f693",
       "version_major": 2,
       "version_minor": 0
      },
      "text/plain": [
       "  0%|          | 0/1000000 [00:00<?, ?it/s]"
      ]
     },
     "metadata": {},
     "output_type": "display_data"
    },
    {
     "name": "stdout",
     "output_type": "stream",
     "text": [
      "[('owgaze1_t0', 'owgaze1_t1'), ('owgaze2_t0', 'owgaze2_t1')]\n"
     ]
    },
    {
     "data": {
      "application/vnd.jupyter.widget-view+json": {
       "model_id": "55a55fa585104c0bbebd5e1dafd66c54",
       "version_major": 2,
       "version_minor": 0
      },
      "text/plain": [
       "  0%|          | 0/1000000 [00:00<?, ?it/s]"
      ]
     },
     "metadata": {},
     "output_type": "display_data"
    },
    {
     "name": "stdout",
     "output_type": "stream",
     "text": [
      "[('owgaze1_t0', 'owgaze1_t1'), ('owgaze2_t0', 'owgaze2_t1')]\n"
     ]
    },
    {
     "data": {
      "application/vnd.jupyter.widget-view+json": {
       "model_id": "1fc24c4a3bf343bab30bc74f0c97058f",
       "version_major": 2,
       "version_minor": 0
      },
      "text/plain": [
       "  0%|          | 0/1000000 [00:00<?, ?it/s]"
      ]
     },
     "metadata": {},
     "output_type": "display_data"
    },
    {
     "name": "stdout",
     "output_type": "stream",
     "text": [
      "[('pull1_t0', 'pull2_t1'), ('pull2_t0', 'pull1_t1'), ('owgaze1_t0', 'owgaze1_t1'), ('owgaze2_t0', 'owgaze2_t1')]\n"
     ]
    },
    {
     "data": {
      "application/vnd.jupyter.widget-view+json": {
       "model_id": "b8eb8a9a2f5b49a0ae5907d50a93c181",
       "version_major": 2,
       "version_minor": 0
      },
      "text/plain": [
       "  0%|          | 0/1000000 [00:00<?, ?it/s]"
      ]
     },
     "metadata": {},
     "output_type": "display_data"
    },
    {
     "name": "stdout",
     "output_type": "stream",
     "text": [
      "[('owgaze1_t0', 'owgaze1_t1'), ('owgaze2_t0', 'owgaze2_t1')]\n"
     ]
    },
    {
     "data": {
      "application/vnd.jupyter.widget-view+json": {
       "model_id": "363005316cd84f0db8a24daf3b23913d",
       "version_major": 2,
       "version_minor": 0
      },
      "text/plain": [
       "  0%|          | 0/1000000 [00:00<?, ?it/s]"
      ]
     },
     "metadata": {},
     "output_type": "display_data"
    },
    {
     "name": "stdout",
     "output_type": "stream",
     "text": [
      "[('pull1_t0', 'pull2_t1'), ('owgaze1_t0', 'owgaze1_t1'), ('owgaze2_t0', 'owgaze2_t1')]\n"
     ]
    },
    {
     "data": {
      "application/vnd.jupyter.widget-view+json": {
       "model_id": "d8c39f8a40a74c728f921dcd56955e34",
       "version_major": 2,
       "version_minor": 0
      },
      "text/plain": [
       "  0%|          | 0/1000000 [00:00<?, ?it/s]"
      ]
     },
     "metadata": {},
     "output_type": "display_data"
    },
    {
     "name": "stdout",
     "output_type": "stream",
     "text": [
      "[('owgaze1_t0', 'owgaze1_t1')]\n"
     ]
    },
    {
     "data": {
      "application/vnd.jupyter.widget-view+json": {
       "model_id": "1376adbdaf0148abad847c761f95d1a2",
       "version_major": 2,
       "version_minor": 0
      },
      "text/plain": [
       "  0%|          | 0/1000000 [00:00<?, ?it/s]"
      ]
     },
     "metadata": {},
     "output_type": "display_data"
    },
    {
     "name": "stdout",
     "output_type": "stream",
     "text": [
      "[('owgaze1_t0', 'owgaze1_t1'), ('owgaze2_t0', 'owgaze2_t1'), ('owgaze2_t0', 'pull2_t1')]\n"
     ]
    },
    {
     "data": {
      "application/vnd.jupyter.widget-view+json": {
       "model_id": "0ea94cabe2bc41949ee266833cb72c84",
       "version_major": 2,
       "version_minor": 0
      },
      "text/plain": [
       "  0%|          | 0/1000000 [00:00<?, ?it/s]"
      ]
     },
     "metadata": {},
     "output_type": "display_data"
    },
    {
     "name": "stdout",
     "output_type": "stream",
     "text": [
      "[('owgaze1_t0', 'owgaze1_t1'), ('owgaze2_t0', 'pull2_t1')]\n"
     ]
    },
    {
     "data": {
      "application/vnd.jupyter.widget-view+json": {
       "model_id": "e99cf23b26574248a130d11bfdfc0b88",
       "version_major": 2,
       "version_minor": 0
      },
      "text/plain": [
       "  0%|          | 0/1000000 [00:00<?, ?it/s]"
      ]
     },
     "metadata": {},
     "output_type": "display_data"
    },
    {
     "name": "stdout",
     "output_type": "stream",
     "text": [
      "[('pull1_t0', 'pull1_t1'), ('owgaze1_t0', 'owgaze1_t1'), ('owgaze2_t0', 'owgaze1_t1')]\n"
     ]
    },
    {
     "data": {
      "application/vnd.jupyter.widget-view+json": {
       "model_id": "e7147889130c41f7820b73f5d0a71b86",
       "version_major": 2,
       "version_minor": 0
      },
      "text/plain": [
       "  0%|          | 0/1000000 [00:00<?, ?it/s]"
      ]
     },
     "metadata": {},
     "output_type": "display_data"
    },
    {
     "name": "stdout",
     "output_type": "stream",
     "text": [
      "[('pull1_t0', 'pull1_t1'), ('owgaze1_t0', 'owgaze1_t1'), ('owgaze2_t0', 'pull2_t1')]\n"
     ]
    },
    {
     "data": {
      "application/vnd.jupyter.widget-view+json": {
       "model_id": "72b60ac6ce084b2281f7fa3e5485202a",
       "version_major": 2,
       "version_minor": 0
      },
      "text/plain": [
       "  0%|          | 0/1000000 [00:00<?, ?it/s]"
      ]
     },
     "metadata": {},
     "output_type": "display_data"
    },
    {
     "name": "stdout",
     "output_type": "stream",
     "text": [
      "[('pull1_t0', 'pull1_t1'), ('owgaze1_t0', 'owgaze1_t1'), ('owgaze2_t0', 'pull2_t1'), ('owgaze2_t0', 'owgaze2_t1')]\n"
     ]
    },
    {
     "data": {
      "application/vnd.jupyter.widget-view+json": {
       "model_id": "217858bc09294c7db6b1b189deee840b",
       "version_major": 2,
       "version_minor": 0
      },
      "text/plain": [
       "  0%|          | 0/1000000 [00:00<?, ?it/s]"
      ]
     },
     "metadata": {},
     "output_type": "display_data"
    },
    {
     "name": "stdout",
     "output_type": "stream",
     "text": [
      "[('pull1_t0', 'pull1_t1'), ('owgaze1_t0', 'owgaze1_t1')]\n"
     ]
    },
    {
     "data": {
      "application/vnd.jupyter.widget-view+json": {
       "model_id": "f56d664be82c4d188d9722669f398731",
       "version_major": 2,
       "version_minor": 0
      },
      "text/plain": [
       "  0%|          | 0/1000000 [00:00<?, ?it/s]"
      ]
     },
     "metadata": {},
     "output_type": "display_data"
    },
    {
     "name": "stdout",
     "output_type": "stream",
     "text": [
      "[('pull1_t0', 'pull1_t1'), ('owgaze1_t0', 'owgaze1_t1'), ('owgaze2_t0', 'pull2_t1')]\n"
     ]
    },
    {
     "data": {
      "application/vnd.jupyter.widget-view+json": {
       "model_id": "11cd26c9076246008a8510666230c26d",
       "version_major": 2,
       "version_minor": 0
      },
      "text/plain": [
       "  0%|          | 0/1000000 [00:00<?, ?it/s]"
      ]
     },
     "metadata": {},
     "output_type": "display_data"
    },
    {
     "name": "stdout",
     "output_type": "stream",
     "text": [
      "[('pull1_t0', 'pull1_t1'), ('owgaze1_t0', 'owgaze1_t1')]\n"
     ]
    },
    {
     "data": {
      "application/vnd.jupyter.widget-view+json": {
       "model_id": "c1f04f1c0aab409b8aefe624b9345edb",
       "version_major": 2,
       "version_minor": 0
      },
      "text/plain": [
       "  0%|          | 0/1000000 [00:00<?, ?it/s]"
      ]
     },
     "metadata": {},
     "output_type": "display_data"
    },
    {
     "name": "stdout",
     "output_type": "stream",
     "text": [
      "[('pull1_t0', 'pull1_t1'), ('owgaze1_t0', 'owgaze1_t1'), ('owgaze2_t0', 'pull2_t1')]\n"
     ]
    },
    {
     "data": {
      "application/vnd.jupyter.widget-view+json": {
       "model_id": "1510639ee25249b7898a041b039eedac",
       "version_major": 2,
       "version_minor": 0
      },
      "text/plain": [
       "  0%|          | 0/1000000 [00:00<?, ?it/s]"
      ]
     },
     "metadata": {},
     "output_type": "display_data"
    },
    {
     "name": "stdout",
     "output_type": "stream",
     "text": [
      "[('owgaze1_t0', 'owgaze1_t1'), ('owgaze2_t0', 'owgaze2_t1')]\n"
     ]
    },
    {
     "data": {
      "application/vnd.jupyter.widget-view+json": {
       "model_id": "c920085fc6db4590aac65647a3588458",
       "version_major": 2,
       "version_minor": 0
      },
      "text/plain": [
       "  0%|          | 0/1000000 [00:00<?, ?it/s]"
      ]
     },
     "metadata": {},
     "output_type": "display_data"
    },
    {
     "name": "stdout",
     "output_type": "stream",
     "text": [
      "[('pull1_t0', 'pull2_t1'), ('owgaze2_t0', 'owgaze2_t1')]\n"
     ]
    },
    {
     "data": {
      "application/vnd.jupyter.widget-view+json": {
       "model_id": "834ff59bd01040d5bbc0c78f7d67730a",
       "version_major": 2,
       "version_minor": 0
      },
      "text/plain": [
       "  0%|          | 0/1000000 [00:00<?, ?it/s]"
      ]
     },
     "metadata": {},
     "output_type": "display_data"
    },
    {
     "name": "stdout",
     "output_type": "stream",
     "text": [
      "[('pull1_t0', 'pull2_t1'), ('owgaze1_t0', 'pull1_t1'), ('owgaze2_t0', 'owgaze2_t1')]\n"
     ]
    },
    {
     "data": {
      "application/vnd.jupyter.widget-view+json": {
       "model_id": "f77b0f4c7f0b4662970e00fd87487d8a",
       "version_major": 2,
       "version_minor": 0
      },
      "text/plain": [
       "  0%|          | 0/1000000 [00:00<?, ?it/s]"
      ]
     },
     "metadata": {},
     "output_type": "display_data"
    },
    {
     "name": "stdout",
     "output_type": "stream",
     "text": [
      "[('pull1_t0', 'pull2_t1'), ('pull2_t0', 'pull2_t1'), ('owgaze1_t0', 'pull1_t1'), ('owgaze2_t0', 'owgaze2_t1')]\n"
     ]
    },
    {
     "data": {
      "application/vnd.jupyter.widget-view+json": {
       "model_id": "625c61d817d14698854bf397ff1c71e6",
       "version_major": 2,
       "version_minor": 0
      },
      "text/plain": [
       "  0%|          | 0/1000000 [00:00<?, ?it/s]"
      ]
     },
     "metadata": {},
     "output_type": "display_data"
    },
    {
     "name": "stdout",
     "output_type": "stream",
     "text": [
      "[('pull1_t0', 'pull2_t1'), ('pull2_t0', 'pull2_t1'), ('pull2_t0', 'owgaze1_t1'), ('owgaze2_t0', 'owgaze2_t1')]\n"
     ]
    },
    {
     "data": {
      "application/vnd.jupyter.widget-view+json": {
       "model_id": "e369a5326b634e57badb1f0f8c3f4c74",
       "version_major": 2,
       "version_minor": 0
      },
      "text/plain": [
       "  0%|          | 0/1000000 [00:00<?, ?it/s]"
      ]
     },
     "metadata": {},
     "output_type": "display_data"
    },
    {
     "name": "stdout",
     "output_type": "stream",
     "text": [
      "[('pull2_t0', 'pull2_t1'), ('pull2_t0', 'owgaze1_t1'), ('owgaze1_t0', 'pull2_t1'), ('owgaze2_t0', 'owgaze2_t1')]\n"
     ]
    },
    {
     "data": {
      "application/vnd.jupyter.widget-view+json": {
       "model_id": "59f0b99e2d74497891ee01b4a38133d2",
       "version_major": 2,
       "version_minor": 0
      },
      "text/plain": [
       "  0%|          | 0/1000000 [00:00<?, ?it/s]"
      ]
     },
     "metadata": {},
     "output_type": "display_data"
    },
    {
     "name": "stdout",
     "output_type": "stream",
     "text": [
      "[('pull2_t0', 'pull2_t1'), ('owgaze1_t0', 'pull2_t1'), ('owgaze2_t0', 'owgaze2_t1')]\n"
     ]
    },
    {
     "data": {
      "application/vnd.jupyter.widget-view+json": {
       "model_id": "d09f2fd5863d4a84ab88b0f8e9f8a7d8",
       "version_major": 2,
       "version_minor": 0
      },
      "text/plain": [
       "  0%|          | 0/1000000 [00:00<?, ?it/s]"
      ]
     },
     "metadata": {},
     "output_type": "display_data"
    },
    {
     "name": "stdout",
     "output_type": "stream",
     "text": [
      "[('pull1_t0', 'pull2_t1'), ('pull1_t0', 'owgaze1_t1'), ('pull2_t0', 'pull2_t1'), ('pull2_t0', 'owgaze1_t1')]\n"
     ]
    },
    {
     "data": {
      "application/vnd.jupyter.widget-view+json": {
       "model_id": "f50a23cb975e42139befc80d1d280738",
       "version_major": 2,
       "version_minor": 0
      },
      "text/plain": [
       "  0%|          | 0/1000000 [00:00<?, ?it/s]"
      ]
     },
     "metadata": {},
     "output_type": "display_data"
    },
    {
     "name": "stdout",
     "output_type": "stream",
     "text": [
      "[('pull1_t0', 'owgaze1_t1'), ('pull2_t0', 'pull2_t1'), ('pull2_t0', 'owgaze1_t1'), ('pull2_t0', 'pull1_t1')]\n"
     ]
    },
    {
     "data": {
      "application/vnd.jupyter.widget-view+json": {
       "model_id": "d3d78f2f5ddd4a13aafedfa32032dec8",
       "version_major": 2,
       "version_minor": 0
      },
      "text/plain": [
       "  0%|          | 0/1000000 [00:00<?, ?it/s]"
      ]
     },
     "metadata": {},
     "output_type": "display_data"
    },
    {
     "name": "stdout",
     "output_type": "stream",
     "text": [
      "[('pull1_t0', 'pull1_t1'), ('pull1_t0', 'pull2_t1'), ('pull1_t0', 'owgaze1_t1'), ('pull2_t0', 'pull2_t1'), ('pull2_t0', 'owgaze1_t1')]\n"
     ]
    },
    {
     "data": {
      "application/vnd.jupyter.widget-view+json": {
       "model_id": "a21d25ddd9144d4d9fd353ec81d9a434",
       "version_major": 2,
       "version_minor": 0
      },
      "text/plain": [
       "  0%|          | 0/1000000 [00:00<?, ?it/s]"
      ]
     },
     "metadata": {},
     "output_type": "display_data"
    },
    {
     "name": "stdout",
     "output_type": "stream",
     "text": [
      "[('pull1_t0', 'pull1_t1'), ('pull1_t0', 'pull2_t1'), ('pull2_t0', 'pull2_t1'), ('pull2_t0', 'owgaze1_t1')]\n"
     ]
    },
    {
     "data": {
      "application/vnd.jupyter.widget-view+json": {
       "model_id": "984e8862ccbf460593ced7ee96eb8440",
       "version_major": 2,
       "version_minor": 0
      },
      "text/plain": [
       "  0%|          | 0/1000000 [00:00<?, ?it/s]"
      ]
     },
     "metadata": {},
     "output_type": "display_data"
    },
    {
     "name": "stdout",
     "output_type": "stream",
     "text": [
      "[('pull1_t0', 'pull1_t1'), ('pull1_t0', 'owgaze1_t1'), ('pull2_t0', 'pull2_t1'), ('pull2_t0', 'owgaze1_t1')]\n"
     ]
    },
    {
     "data": {
      "application/vnd.jupyter.widget-view+json": {
       "model_id": "22b9d6ea19b74ff48116967d5b4c7fc3",
       "version_major": 2,
       "version_minor": 0
      },
      "text/plain": [
       "  0%|          | 0/1000000 [00:00<?, ?it/s]"
      ]
     },
     "metadata": {},
     "output_type": "display_data"
    },
    {
     "name": "stdout",
     "output_type": "stream",
     "text": [
      "[('pull1_t0', 'pull1_t1'), ('pull2_t0', 'pull2_t1'), ('pull2_t0', 'owgaze1_t1')]\n"
     ]
    },
    {
     "data": {
      "application/vnd.jupyter.widget-view+json": {
       "model_id": "f21a788271cf443196844bcd1292d5fb",
       "version_major": 2,
       "version_minor": 0
      },
      "text/plain": [
       "  0%|          | 0/1000000 [00:00<?, ?it/s]"
      ]
     },
     "metadata": {},
     "output_type": "display_data"
    },
    {
     "name": "stdout",
     "output_type": "stream",
     "text": [
      "[('pull1_t0', 'pull2_t1'), ('pull2_t0', 'pull2_t1'), ('pull2_t0', 'owgaze1_t1'), ('pull2_t0', 'pull1_t1')]\n"
     ]
    },
    {
     "data": {
      "application/vnd.jupyter.widget-view+json": {
       "model_id": "58db981241fc4ee2b092ad57d45f07f0",
       "version_major": 2,
       "version_minor": 0
      },
      "text/plain": [
       "  0%|          | 0/1000000 [00:00<?, ?it/s]"
      ]
     },
     "metadata": {},
     "output_type": "display_data"
    },
    {
     "name": "stdout",
     "output_type": "stream",
     "text": [
      "[('pull2_t0', 'pull2_t1'), ('pull2_t0', 'owgaze1_t1'), ('pull2_t0', 'pull1_t1')]\n"
     ]
    },
    {
     "data": {
      "application/vnd.jupyter.widget-view+json": {
       "model_id": "537ce125199f4fff8b9466efa731487b",
       "version_major": 2,
       "version_minor": 0
      },
      "text/plain": [
       "  0%|          | 0/1000000 [00:00<?, ?it/s]"
      ]
     },
     "metadata": {},
     "output_type": "display_data"
    },
    {
     "name": "stdout",
     "output_type": "stream",
     "text": [
      "[('pull1_t0', 'owgaze1_t1'), ('pull1_t0', 'pull2_t1'), ('pull2_t0', 'pull2_t1'), ('pull2_t0', 'pull1_t1')]\n"
     ]
    },
    {
     "data": {
      "application/vnd.jupyter.widget-view+json": {
       "model_id": "b089678e4432493b83da05d45209c355",
       "version_major": 2,
       "version_minor": 0
      },
      "text/plain": [
       "  0%|          | 0/1000000 [00:00<?, ?it/s]"
      ]
     },
     "metadata": {},
     "output_type": "display_data"
    },
    {
     "name": "stdout",
     "output_type": "stream",
     "text": [
      "[('pull1_t0', 'pull1_t1'), ('pull1_t0', 'pull2_t1'), ('pull2_t0', 'pull2_t1'), ('pull2_t0', 'owgaze1_t1'), ('pull2_t0', 'pull1_t1')]\n"
     ]
    },
    {
     "data": {
      "application/vnd.jupyter.widget-view+json": {
       "model_id": "6de60e1c1fbe403b99f490f8ec4ac188",
       "version_major": 2,
       "version_minor": 0
      },
      "text/plain": [
       "  0%|          | 0/1000000 [00:00<?, ?it/s]"
      ]
     },
     "metadata": {},
     "output_type": "display_data"
    },
    {
     "name": "stdout",
     "output_type": "stream",
     "text": [
      "[('pull2_t0', 'pull2_t1'), ('pull2_t0', 'owgaze1_t1'), ('pull2_t0', 'pull1_t1'), ('owgaze1_t0', 'pull2_t1')]\n"
     ]
    },
    {
     "data": {
      "application/vnd.jupyter.widget-view+json": {
       "model_id": "df3030f708c74e2591e8b6de2cc794f3",
       "version_major": 2,
       "version_minor": 0
      },
      "text/plain": [
       "  0%|          | 0/1000000 [00:00<?, ?it/s]"
      ]
     },
     "metadata": {},
     "output_type": "display_data"
    },
    {
     "name": "stdout",
     "output_type": "stream",
     "text": [
      "[('pull1_t0', 'pull2_t1'), ('pull2_t0', 'pull2_t1'), ('pull2_t0', 'owgaze1_t1'), ('pull2_t0', 'pull1_t1'), ('owgaze2_t0', 'pull1_t1')]\n"
     ]
    },
    {
     "data": {
      "application/vnd.jupyter.widget-view+json": {
       "model_id": "fb8d6ec0e4324b66a48f8ef9a12c5c93",
       "version_major": 2,
       "version_minor": 0
      },
      "text/plain": [
       "  0%|          | 0/1000000 [00:00<?, ?it/s]"
      ]
     },
     "metadata": {},
     "output_type": "display_data"
    },
    {
     "name": "stdout",
     "output_type": "stream",
     "text": [
      "[('pull2_t0', 'pull2_t1'), ('pull2_t0', 'owgaze1_t1'), ('pull2_t0', 'pull1_t1')]\n"
     ]
    },
    {
     "data": {
      "application/vnd.jupyter.widget-view+json": {
       "model_id": "00e32c49b59f4528918dc589215c4ba5",
       "version_major": 2,
       "version_minor": 0
      },
      "text/plain": [
       "  0%|          | 0/1000000 [00:00<?, ?it/s]"
      ]
     },
     "metadata": {},
     "output_type": "display_data"
    },
    {
     "name": "stdout",
     "output_type": "stream",
     "text": [
      "[('pull2_t0', 'pull2_t1'), ('pull2_t0', 'owgaze1_t1'), ('pull2_t0', 'pull1_t1'), ('owgaze1_t0', 'pull2_t1')]\n"
     ]
    },
    {
     "data": {
      "application/vnd.jupyter.widget-view+json": {
       "model_id": "09c0d6209a46495a93e6c71e122adc98",
       "version_major": 2,
       "version_minor": 0
      },
      "text/plain": [
       "  0%|          | 0/1000000 [00:00<?, ?it/s]"
      ]
     },
     "metadata": {},
     "output_type": "display_data"
    },
    {
     "name": "stdout",
     "output_type": "stream",
     "text": [
      "[('pull2_t0', 'pull2_t1'), ('pull2_t0', 'pull1_t1'), ('pull2_t0', 'owgaze1_t1'), ('owgaze1_t0', 'pull2_t1')]\n"
     ]
    },
    {
     "data": {
      "application/vnd.jupyter.widget-view+json": {
       "model_id": "858a28ca952a46a6994bbaf2ecbb6cb9",
       "version_major": 2,
       "version_minor": 0
      },
      "text/plain": [
       "  0%|          | 0/1000000 [00:00<?, ?it/s]"
      ]
     },
     "metadata": {},
     "output_type": "display_data"
    },
    {
     "name": "stdout",
     "output_type": "stream",
     "text": [
      "[('pull2_t0', 'pull2_t1'), ('owgaze1_t0', 'owgaze1_t1'), ('owgaze1_t0', 'pull1_t1'), ('owgaze1_t0', 'pull2_t1')]\n"
     ]
    },
    {
     "data": {
      "application/vnd.jupyter.widget-view+json": {
       "model_id": "87cfd06170ad439ab3c1596f1b20156b",
       "version_major": 2,
       "version_minor": 0
      },
      "text/plain": [
       "  0%|          | 0/1000000 [00:00<?, ?it/s]"
      ]
     },
     "metadata": {},
     "output_type": "display_data"
    },
    {
     "name": "stdout",
     "output_type": "stream",
     "text": [
      "[('pull2_t0', 'pull2_t1'), ('pull2_t0', 'owgaze1_t1'), ('pull2_t0', 'pull1_t1')]\n"
     ]
    },
    {
     "data": {
      "application/vnd.jupyter.widget-view+json": {
       "model_id": "16220fcf178d4e5aadc7ff8403009688",
       "version_major": 2,
       "version_minor": 0
      },
      "text/plain": [
       "  0%|          | 0/1000000 [00:00<?, ?it/s]"
      ]
     },
     "metadata": {},
     "output_type": "display_data"
    },
    {
     "name": "stdout",
     "output_type": "stream",
     "text": [
      "[('pull1_t0', 'pull1_t1'), ('pull2_t0', 'pull2_t1'), ('pull2_t0', 'owgaze1_t1')]\n"
     ]
    },
    {
     "data": {
      "application/vnd.jupyter.widget-view+json": {
       "model_id": "2bc0edf59b4e4f2f847383393dbae14a",
       "version_major": 2,
       "version_minor": 0
      },
      "text/plain": [
       "  0%|          | 0/1000000 [00:00<?, ?it/s]"
      ]
     },
     "metadata": {},
     "output_type": "display_data"
    },
    {
     "name": "stdout",
     "output_type": "stream",
     "text": [
      "[('pull2_t0', 'pull2_t1'), ('owgaze1_t0', 'owgaze1_t1'), ('owgaze2_t0', 'owgaze2_t1')]\n"
     ]
    },
    {
     "data": {
      "application/vnd.jupyter.widget-view+json": {
       "model_id": "e572e6711bd5444fb2baf1eaf687627d",
       "version_major": 2,
       "version_minor": 0
      },
      "text/plain": [
       "  0%|          | 0/1000000 [00:00<?, ?it/s]"
      ]
     },
     "metadata": {},
     "output_type": "display_data"
    },
    {
     "name": "stdout",
     "output_type": "stream",
     "text": [
      "[('owgaze2_t0', 'owgaze2_t1')]\n"
     ]
    },
    {
     "data": {
      "application/vnd.jupyter.widget-view+json": {
       "model_id": "8d1a49cf99c44ecc9d8234773637d5a6",
       "version_major": 2,
       "version_minor": 0
      },
      "text/plain": [
       "  0%|          | 0/1000000 [00:00<?, ?it/s]"
      ]
     },
     "metadata": {},
     "output_type": "display_data"
    },
    {
     "name": "stdout",
     "output_type": "stream",
     "text": [
      "[('pull2_t0', 'owgaze1_t1'), ('owgaze2_t0', 'owgaze2_t1')]\n"
     ]
    },
    {
     "data": {
      "application/vnd.jupyter.widget-view+json": {
       "model_id": "06e375d52e674deeab204cf3e0af9caf",
       "version_major": 2,
       "version_minor": 0
      },
      "text/plain": [
       "  0%|          | 0/1000000 [00:00<?, ?it/s]"
      ]
     },
     "metadata": {},
     "output_type": "display_data"
    },
    {
     "name": "stdout",
     "output_type": "stream",
     "text": [
      "[('pull2_t0', 'pull2_t1'), ('owgaze2_t0', 'owgaze2_t1')]\n"
     ]
    },
    {
     "data": {
      "application/vnd.jupyter.widget-view+json": {
       "model_id": "856ca6367f944769813cf39dd8c7e708",
       "version_major": 2,
       "version_minor": 0
      },
      "text/plain": [
       "  0%|          | 0/1000000 [00:00<?, ?it/s]"
      ]
     },
     "metadata": {},
     "output_type": "display_data"
    },
    {
     "name": "stdout",
     "output_type": "stream",
     "text": [
      "[('pull2_t0', 'pull2_t1'), ('owgaze2_t0', 'owgaze2_t1')]\n"
     ]
    },
    {
     "data": {
      "application/vnd.jupyter.widget-view+json": {
       "model_id": "a92b2a8795184ba7a7986d4387a7d689",
       "version_major": 2,
       "version_minor": 0
      },
      "text/plain": [
       "  0%|          | 0/1000000 [00:00<?, ?it/s]"
      ]
     },
     "metadata": {},
     "output_type": "display_data"
    },
    {
     "name": "stdout",
     "output_type": "stream",
     "text": [
      "[('pull2_t0', 'pull2_t1'), ('owgaze2_t0', 'owgaze2_t1')]\n"
     ]
    },
    {
     "data": {
      "application/vnd.jupyter.widget-view+json": {
       "model_id": "02afeebf2ce3445c9dbfa957925e3598",
       "version_major": 2,
       "version_minor": 0
      },
      "text/plain": [
       "  0%|          | 0/1000000 [00:00<?, ?it/s]"
      ]
     },
     "metadata": {},
     "output_type": "display_data"
    },
    {
     "name": "stdout",
     "output_type": "stream",
     "text": [
      "[('pull2_t0', 'pull2_t1'), ('pull2_t0', 'owgaze1_t1'), ('owgaze2_t0', 'owgaze2_t1')]\n"
     ]
    },
    {
     "data": {
      "application/vnd.jupyter.widget-view+json": {
       "model_id": "6699e2ec853c46e49672138030ebf6dd",
       "version_major": 2,
       "version_minor": 0
      },
      "text/plain": [
       "  0%|          | 0/1000000 [00:00<?, ?it/s]"
      ]
     },
     "metadata": {},
     "output_type": "display_data"
    },
    {
     "name": "stdout",
     "output_type": "stream",
     "text": [
      "[('pull2_t0', 'pull2_t1'), ('owgaze2_t0', 'pull1_t1')]\n"
     ]
    },
    {
     "data": {
      "application/vnd.jupyter.widget-view+json": {
       "model_id": "3a1307719fc343999d72d71dbbdbf181",
       "version_major": 2,
       "version_minor": 0
      },
      "text/plain": [
       "  0%|          | 0/1000000 [00:00<?, ?it/s]"
      ]
     },
     "metadata": {},
     "output_type": "display_data"
    },
    {
     "name": "stdout",
     "output_type": "stream",
     "text": [
      "[('pull1_t0', 'pull1_t1'), ('pull2_t0', 'pull2_t1'), ('pull2_t0', 'owgaze1_t1'), ('pull2_t0', 'pull1_t1')]\n"
     ]
    },
    {
     "data": {
      "application/vnd.jupyter.widget-view+json": {
       "model_id": "301f1816bf53458788d0e4fa0baaf256",
       "version_major": 2,
       "version_minor": 0
      },
      "text/plain": [
       "  0%|          | 0/1000000 [00:00<?, ?it/s]"
      ]
     },
     "metadata": {},
     "output_type": "display_data"
    },
    {
     "name": "stdout",
     "output_type": "stream",
     "text": [
      "[('pull1_t0', 'pull1_t1'), ('pull2_t0', 'pull2_t1'), ('pull2_t0', 'owgaze1_t1'), ('pull2_t0', 'pull1_t1'), ('owgaze2_t0', 'owgaze2_t1')]\n"
     ]
    },
    {
     "data": {
      "application/vnd.jupyter.widget-view+json": {
       "model_id": "1fd43854359e496392cc432de31253be",
       "version_major": 2,
       "version_minor": 0
      },
      "text/plain": [
       "  0%|          | 0/1000000 [00:00<?, ?it/s]"
      ]
     },
     "metadata": {},
     "output_type": "display_data"
    },
    {
     "name": "stdout",
     "output_type": "stream",
     "text": [
      "[('pull1_t0', 'pull1_t1'), ('pull2_t0', 'pull2_t1'), ('pull2_t0', 'pull1_t1'), ('owgaze1_t0', 'owgaze1_t1'), ('owgaze2_t0', 'owgaze2_t1')]\n"
     ]
    },
    {
     "data": {
      "application/vnd.jupyter.widget-view+json": {
       "model_id": "d495e2004d4f48bd9b3ace63e1358987",
       "version_major": 2,
       "version_minor": 0
      },
      "text/plain": [
       "  0%|          | 0/1000000 [00:00<?, ?it/s]"
      ]
     },
     "metadata": {},
     "output_type": "display_data"
    },
    {
     "name": "stdout",
     "output_type": "stream",
     "text": [
      "[('pull1_t0', 'pull1_t1'), ('pull2_t0', 'pull2_t1'), ('pull2_t0', 'pull1_t1'), ('pull2_t0', 'owgaze1_t1'), ('pull2_t0', 'owgaze2_t1')]\n"
     ]
    },
    {
     "data": {
      "application/vnd.jupyter.widget-view+json": {
       "model_id": "099235dda62145a0a530c214b742233e",
       "version_major": 2,
       "version_minor": 0
      },
      "text/plain": [
       "  0%|          | 0/1000000 [00:00<?, ?it/s]"
      ]
     },
     "metadata": {},
     "output_type": "display_data"
    },
    {
     "name": "stdout",
     "output_type": "stream",
     "text": [
      "[('pull1_t0', 'owgaze1_t1'), ('pull1_t0', 'pull1_t1'), ('pull2_t0', 'pull2_t1'), ('pull2_t0', 'pull1_t1'), ('pull2_t0', 'owgaze1_t1'), ('owgaze2_t0', 'owgaze2_t1')]\n"
     ]
    },
    {
     "data": {
      "application/vnd.jupyter.widget-view+json": {
       "model_id": "af04e9cf1124411da4e145a9363295ac",
       "version_major": 2,
       "version_minor": 0
      },
      "text/plain": [
       "  0%|          | 0/1000000 [00:00<?, ?it/s]"
      ]
     },
     "metadata": {},
     "output_type": "display_data"
    },
    {
     "name": "stdout",
     "output_type": "stream",
     "text": [
      "[('pull2_t0', 'pull2_t1'), ('pull2_t0', 'owgaze1_t1'), ('owgaze2_t0', 'owgaze2_t1')]\n"
     ]
    },
    {
     "data": {
      "application/vnd.jupyter.widget-view+json": {
       "model_id": "7573d35c6aad49c5b08d965823d9e05b",
       "version_major": 2,
       "version_minor": 0
      },
      "text/plain": [
       "  0%|          | 0/1000000 [00:00<?, ?it/s]"
      ]
     },
     "metadata": {},
     "output_type": "display_data"
    },
    {
     "name": "stdout",
     "output_type": "stream",
     "text": [
      "[('pull1_t0', 'owgaze1_t1'), ('pull1_t0', 'pull1_t1'), ('pull2_t0', 'pull2_t1'), ('pull2_t0', 'pull1_t1'), ('owgaze2_t0', 'owgaze2_t1')]\n"
     ]
    },
    {
     "data": {
      "application/vnd.jupyter.widget-view+json": {
       "model_id": "07b81e99e55a41c8ba5b9e1790711719",
       "version_major": 2,
       "version_minor": 0
      },
      "text/plain": [
       "  0%|          | 0/1000000 [00:00<?, ?it/s]"
      ]
     },
     "metadata": {},
     "output_type": "display_data"
    },
    {
     "name": "stdout",
     "output_type": "stream",
     "text": [
      "[('pull1_t0', 'pull2_t1'), ('pull1_t0', 'pull1_t1'), ('pull2_t0', 'pull2_t1'), ('pull2_t0', 'owgaze1_t1'), ('pull2_t0', 'pull1_t1'), ('owgaze2_t0', 'owgaze2_t1')]\n"
     ]
    },
    {
     "data": {
      "application/vnd.jupyter.widget-view+json": {
       "model_id": "f5ffcfe8cfd2402cbd76ffd1b0c5b5a0",
       "version_major": 2,
       "version_minor": 0
      },
      "text/plain": [
       "  0%|          | 0/1000000 [00:00<?, ?it/s]"
      ]
     },
     "metadata": {},
     "output_type": "display_data"
    },
    {
     "name": "stdout",
     "output_type": "stream",
     "text": [
      "[('pull1_t0', 'pull1_t1'), ('pull2_t0', 'pull2_t1'), ('pull2_t0', 'owgaze1_t1'), ('pull2_t0', 'pull1_t1'), ('owgaze2_t0', 'owgaze2_t1')]\n"
     ]
    },
    {
     "data": {
      "application/vnd.jupyter.widget-view+json": {
       "model_id": "57ff7617405b41caa5d1b4dd2fc1bb75",
       "version_major": 2,
       "version_minor": 0
      },
      "text/plain": [
       "  0%|          | 0/1000000 [00:00<?, ?it/s]"
      ]
     },
     "metadata": {},
     "output_type": "display_data"
    },
    {
     "name": "stdout",
     "output_type": "stream",
     "text": [
      "[('pull1_t0', 'pull2_t1'), ('pull1_t0', 'pull1_t1'), ('pull1_t0', 'owgaze1_t1'), ('pull2_t0', 'pull2_t1'), ('pull2_t0', 'pull1_t1'), ('owgaze2_t0', 'owgaze2_t1')]\n"
     ]
    },
    {
     "data": {
      "application/vnd.jupyter.widget-view+json": {
       "model_id": "6de06dfc01c844afb9d4decbe98bf8b1",
       "version_major": 2,
       "version_minor": 0
      },
      "text/plain": [
       "  0%|          | 0/1000000 [00:00<?, ?it/s]"
      ]
     },
     "metadata": {},
     "output_type": "display_data"
    },
    {
     "name": "stdout",
     "output_type": "stream",
     "text": [
      "[('pull1_t0', 'pull1_t1'), ('pull2_t0', 'pull2_t1'), ('pull2_t0', 'pull1_t1'), ('pull2_t0', 'owgaze1_t1'), ('owgaze2_t0', 'owgaze2_t1')]\n"
     ]
    },
    {
     "data": {
      "application/vnd.jupyter.widget-view+json": {
       "model_id": "5faa8723593746269d0e889cc960b47e",
       "version_major": 2,
       "version_minor": 0
      },
      "text/plain": [
       "  0%|          | 0/1000000 [00:00<?, ?it/s]"
      ]
     },
     "metadata": {},
     "output_type": "display_data"
    },
    {
     "name": "stdout",
     "output_type": "stream",
     "text": [
      "[('pull2_t0', 'pull2_t1'), ('pull2_t0', 'owgaze1_t1'), ('owgaze2_t0', 'owgaze2_t1')]\n"
     ]
    },
    {
     "data": {
      "application/vnd.jupyter.widget-view+json": {
       "model_id": "5a559c027cc34f25a2970481cce956b5",
       "version_major": 2,
       "version_minor": 0
      },
      "text/plain": [
       "  0%|          | 0/1000000 [00:00<?, ?it/s]"
      ]
     },
     "metadata": {},
     "output_type": "display_data"
    },
    {
     "name": "stdout",
     "output_type": "stream",
     "text": [
      "[('pull1_t0', 'pull1_t1'), ('pull2_t0', 'pull2_t1'), ('pull2_t0', 'owgaze1_t1'), ('owgaze2_t0', 'owgaze2_t1')]\n"
     ]
    },
    {
     "data": {
      "application/vnd.jupyter.widget-view+json": {
       "model_id": "ed8ac3cf59ab411cb3bb732f184370d0",
       "version_major": 2,
       "version_minor": 0
      },
      "text/plain": [
       "  0%|          | 0/1000000 [00:00<?, ?it/s]"
      ]
     },
     "metadata": {},
     "output_type": "display_data"
    },
    {
     "name": "stdout",
     "output_type": "stream",
     "text": [
      "[('pull1_t0', 'pull1_t1'), ('pull1_t0', 'pull2_t1'), ('pull1_t0', 'owgaze1_t1'), ('pull2_t0', 'pull2_t1'), ('pull2_t0', 'pull1_t1'), ('owgaze1_t0', 'owgaze1_t1'), ('owgaze2_t0', 'owgaze2_t1')]\n"
     ]
    },
    {
     "data": {
      "application/vnd.jupyter.widget-view+json": {
       "model_id": "4686c5929dcf4d9b8babf2976e0b3b71",
       "version_major": 2,
       "version_minor": 0
      },
      "text/plain": [
       "  0%|          | 0/1000000 [00:00<?, ?it/s]"
      ]
     },
     "metadata": {},
     "output_type": "display_data"
    },
    {
     "name": "stdout",
     "output_type": "stream",
     "text": [
      "[('pull1_t0', 'owgaze1_t1'), ('pull1_t0', 'pull1_t1'), ('pull2_t0', 'pull2_t1'), ('pull2_t0', 'pull1_t1'), ('owgaze1_t0', 'owgaze1_t1'), ('owgaze2_t0', 'owgaze2_t1')]\n"
     ]
    },
    {
     "data": {
      "application/vnd.jupyter.widget-view+json": {
       "model_id": "a5d5f9aade7b460f87f50956429ca64a",
       "version_major": 2,
       "version_minor": 0
      },
      "text/plain": [
       "  0%|          | 0/1000000 [00:00<?, ?it/s]"
      ]
     },
     "metadata": {},
     "output_type": "display_data"
    },
    {
     "name": "stdout",
     "output_type": "stream",
     "text": [
      "[('pull1_t0', 'pull1_t1'), ('pull1_t0', 'owgaze1_t1'), ('pull2_t0', 'pull2_t1'), ('pull2_t0', 'owgaze1_t1'), ('pull2_t0', 'pull1_t1'), ('owgaze2_t0', 'owgaze2_t1')]\n"
     ]
    },
    {
     "data": {
      "application/vnd.jupyter.widget-view+json": {
       "model_id": "ce8b2236af264e73a9281d4dcf99dbe5",
       "version_major": 2,
       "version_minor": 0
      },
      "text/plain": [
       "  0%|          | 0/1000000 [00:00<?, ?it/s]"
      ]
     },
     "metadata": {},
     "output_type": "display_data"
    },
    {
     "name": "stdout",
     "output_type": "stream",
     "text": [
      "[('pull1_t0', 'pull1_t1'), ('pull1_t0', 'owgaze1_t1'), ('pull1_t0', 'pull2_t1'), ('pull2_t0', 'pull2_t1'), ('owgaze2_t0', 'owgaze2_t1')]\n"
     ]
    },
    {
     "data": {
      "application/vnd.jupyter.widget-view+json": {
       "model_id": "709920f13269445b8f405f1620e02f55",
       "version_major": 2,
       "version_minor": 0
      },
      "text/plain": [
       "  0%|          | 0/1000000 [00:00<?, ?it/s]"
      ]
     },
     "metadata": {},
     "output_type": "display_data"
    },
    {
     "name": "stdout",
     "output_type": "stream",
     "text": [
      "[('pull1_t0', 'pull1_t1'), ('pull1_t0', 'pull2_t1'), ('pull2_t0', 'owgaze1_t1'), ('owgaze2_t0', 'pull2_t1'), ('owgaze2_t0', 'owgaze2_t1')]\n"
     ]
    },
    {
     "data": {
      "application/vnd.jupyter.widget-view+json": {
       "model_id": "53be7f5b47404622a92d9419b962ecdf",
       "version_major": 2,
       "version_minor": 0
      },
      "text/plain": [
       "  0%|          | 0/1000000 [00:00<?, ?it/s]"
      ]
     },
     "metadata": {},
     "output_type": "display_data"
    },
    {
     "name": "stdout",
     "output_type": "stream",
     "text": [
      "[('pull1_t0', 'pull1_t1'), ('pull1_t0', 'owgaze1_t1'), ('pull1_t0', 'pull2_t1'), ('pull2_t0', 'pull2_t1'), ('owgaze2_t0', 'owgaze2_t1')]\n"
     ]
    },
    {
     "data": {
      "application/vnd.jupyter.widget-view+json": {
       "model_id": "5170d62fe7064e1d94fc2a57583bc20c",
       "version_major": 2,
       "version_minor": 0
      },
      "text/plain": [
       "  0%|          | 0/1000000 [00:00<?, ?it/s]"
      ]
     },
     "metadata": {},
     "output_type": "display_data"
    },
    {
     "name": "stdout",
     "output_type": "stream",
     "text": [
      "[('pull1_t0', 'pull1_t1'), ('pull1_t0', 'owgaze1_t1'), ('pull2_t0', 'pull2_t1'), ('owgaze1_t0', 'owgaze1_t1'), ('owgaze2_t0', 'owgaze2_t1')]\n"
     ]
    },
    {
     "data": {
      "application/vnd.jupyter.widget-view+json": {
       "model_id": "cd22f3c366ad493191bcea12e121a00e",
       "version_major": 2,
       "version_minor": 0
      },
      "text/plain": [
       "  0%|          | 0/1000000 [00:00<?, ?it/s]"
      ]
     },
     "metadata": {},
     "output_type": "display_data"
    },
    {
     "name": "stdout",
     "output_type": "stream",
     "text": [
      "[('pull1_t0', 'pull2_t1'), ('pull1_t0', 'pull1_t1'), ('pull1_t0', 'owgaze1_t1'), ('owgaze1_t0', 'owgaze1_t1')]\n"
     ]
    },
    {
     "data": {
      "application/vnd.jupyter.widget-view+json": {
       "model_id": "1286fdb267e5421e8769eb86202eb313",
       "version_major": 2,
       "version_minor": 0
      },
      "text/plain": [
       "  0%|          | 0/1000000 [00:00<?, ?it/s]"
      ]
     },
     "metadata": {},
     "output_type": "display_data"
    },
    {
     "name": "stdout",
     "output_type": "stream",
     "text": [
      "[('pull1_t0', 'pull2_t1'), ('pull1_t0', 'pull1_t1'), ('pull1_t0', 'owgaze1_t1'), ('pull2_t0', 'pull2_t1'), ('pull2_t0', 'owgaze1_t1'), ('owgaze2_t0', 'owgaze2_t1')]\n"
     ]
    },
    {
     "data": {
      "application/vnd.jupyter.widget-view+json": {
       "model_id": "121eb7a820494be7b76885ddf780db7a",
       "version_major": 2,
       "version_minor": 0
      },
      "text/plain": [
       "  0%|          | 0/1000000 [00:00<?, ?it/s]"
      ]
     },
     "metadata": {},
     "output_type": "display_data"
    },
    {
     "name": "stdout",
     "output_type": "stream",
     "text": [
      "[('pull1_t0', 'pull2_t1'), ('pull1_t0', 'pull1_t1'), ('pull2_t0', 'owgaze1_t1'), ('pull2_t0', 'pull2_t1')]\n"
     ]
    },
    {
     "data": {
      "application/vnd.jupyter.widget-view+json": {
       "model_id": "6687ec9a6d084c7590c2dcbb6d2d079f",
       "version_major": 2,
       "version_minor": 0
      },
      "text/plain": [
       "  0%|          | 0/1000000 [00:00<?, ?it/s]"
      ]
     },
     "metadata": {},
     "output_type": "display_data"
    },
    {
     "name": "stdout",
     "output_type": "stream",
     "text": [
      "[('pull1_t0', 'pull2_t1'), ('pull1_t0', 'pull1_t1'), ('pull1_t0', 'owgaze1_t1'), ('owgaze2_t0', 'pull2_t1'), ('owgaze2_t0', 'owgaze2_t1')]\n"
     ]
    },
    {
     "data": {
      "application/vnd.jupyter.widget-view+json": {
       "model_id": "9173cd77675e4457be9b215f81e17ec0",
       "version_major": 2,
       "version_minor": 0
      },
      "text/plain": [
       "  0%|          | 0/1000000 [00:00<?, ?it/s]"
      ]
     },
     "metadata": {},
     "output_type": "display_data"
    },
    {
     "name": "stdout",
     "output_type": "stream",
     "text": [
      "[('pull1_t0', 'pull1_t1'), ('pull1_t0', 'owgaze1_t1'), ('pull2_t0', 'pull2_t1'), ('owgaze2_t0', 'owgaze2_t1'), ('owgaze2_t0', 'owgaze1_t1')]\n"
     ]
    },
    {
     "data": {
      "application/vnd.jupyter.widget-view+json": {
       "model_id": "2432d6aa62fb44358b1ebb59a141d5be",
       "version_major": 2,
       "version_minor": 0
      },
      "text/plain": [
       "  0%|          | 0/1000000 [00:00<?, ?it/s]"
      ]
     },
     "metadata": {},
     "output_type": "display_data"
    },
    {
     "name": "stdout",
     "output_type": "stream",
     "text": [
      "[('pull1_t0', 'pull1_t1'), ('pull1_t0', 'pull2_t1'), ('pull1_t0', 'owgaze1_t1'), ('pull2_t0', 'owgaze1_t1'), ('owgaze2_t0', 'owgaze2_t1')]\n"
     ]
    },
    {
     "data": {
      "application/vnd.jupyter.widget-view+json": {
       "model_id": "03f0ec02050b41968ecdeefdff9dcda3",
       "version_major": 2,
       "version_minor": 0
      },
      "text/plain": [
       "  0%|          | 0/1000000 [00:00<?, ?it/s]"
      ]
     },
     "metadata": {},
     "output_type": "display_data"
    },
    {
     "name": "stdout",
     "output_type": "stream",
     "text": [
      "[('pull2_t0', 'pull2_t1'), ('owgaze1_t0', 'owgaze1_t1'), ('owgaze2_t0', 'owgaze2_t1')]\n"
     ]
    },
    {
     "data": {
      "application/vnd.jupyter.widget-view+json": {
       "model_id": "126d61fc964649adb07df11b082070ee",
       "version_major": 2,
       "version_minor": 0
      },
      "text/plain": [
       "  0%|          | 0/1000000 [00:00<?, ?it/s]"
      ]
     },
     "metadata": {},
     "output_type": "display_data"
    },
    {
     "name": "stdout",
     "output_type": "stream",
     "text": [
      "[('owgaze1_t0', 'owgaze1_t1')]\n"
     ]
    },
    {
     "data": {
      "application/vnd.jupyter.widget-view+json": {
       "model_id": "9a7316c6d43a4aeb9c53369e8caeefc5",
       "version_major": 2,
       "version_minor": 0
      },
      "text/plain": [
       "  0%|          | 0/1000000 [00:00<?, ?it/s]"
      ]
     },
     "metadata": {},
     "output_type": "display_data"
    },
    {
     "name": "stdout",
     "output_type": "stream",
     "text": [
      "[('pull1_t0', 'pull2_t1'), ('pull2_t0', 'pull1_t1'), ('owgaze1_t0', 'owgaze1_t1')]\n"
     ]
    },
    {
     "data": {
      "application/vnd.jupyter.widget-view+json": {
       "model_id": "1fa4cc2f26cd4e6c9299b352cfda0997",
       "version_major": 2,
       "version_minor": 0
      },
      "text/plain": [
       "  0%|          | 0/1000000 [00:00<?, ?it/s]"
      ]
     },
     "metadata": {},
     "output_type": "display_data"
    },
    {
     "name": "stdout",
     "output_type": "stream",
     "text": [
      "[('pull1_t0', 'pull2_t1'), ('pull2_t0', 'pull1_t1')]\n"
     ]
    },
    {
     "data": {
      "application/vnd.jupyter.widget-view+json": {
       "model_id": "43a69456ef4c45bfbab5ad27aad00f76",
       "version_major": 2,
       "version_minor": 0
      },
      "text/plain": [
       "  0%|          | 0/1000000 [00:00<?, ?it/s]"
      ]
     },
     "metadata": {},
     "output_type": "display_data"
    },
    {
     "name": "stdout",
     "output_type": "stream",
     "text": [
      "[('pull1_t0', 'pull1_t1'), ('pull1_t0', 'pull2_t1'), ('pull1_t0', 'owgaze2_t1'), ('pull2_t0', 'owgaze1_t1'), ('pull2_t0', 'pull1_t1')]\n"
     ]
    },
    {
     "data": {
      "application/vnd.jupyter.widget-view+json": {
       "model_id": "6509d4dba52a407ba7ba592151006ce6",
       "version_major": 2,
       "version_minor": 0
      },
      "text/plain": [
       "  0%|          | 0/1000000 [00:00<?, ?it/s]"
      ]
     },
     "metadata": {},
     "output_type": "display_data"
    },
    {
     "name": "stdout",
     "output_type": "stream",
     "text": [
      "[('pull1_t0', 'pull2_t1'), ('pull2_t0', 'owgaze1_t1')]\n"
     ]
    },
    {
     "data": {
      "application/vnd.jupyter.widget-view+json": {
       "model_id": "15c0a967d228497f8db43eda878c90bb",
       "version_major": 2,
       "version_minor": 0
      },
      "text/plain": [
       "  0%|          | 0/1000000 [00:00<?, ?it/s]"
      ]
     },
     "metadata": {},
     "output_type": "display_data"
    },
    {
     "name": "stdout",
     "output_type": "stream",
     "text": [
      "[('pull1_t0', 'pull2_t1'), ('pull1_t0', 'pull1_t1'), ('pull2_t0', 'owgaze1_t1')]\n"
     ]
    },
    {
     "data": {
      "application/vnd.jupyter.widget-view+json": {
       "model_id": "eb1cefeeba034692b1522f8252d5c982",
       "version_major": 2,
       "version_minor": 0
      },
      "text/plain": [
       "  0%|          | 0/1000000 [00:00<?, ?it/s]"
      ]
     },
     "metadata": {},
     "output_type": "display_data"
    },
    {
     "name": "stdout",
     "output_type": "stream",
     "text": [
      "[('pull1_t0', 'pull2_t1'), ('pull2_t0', 'owgaze1_t1'), ('pull2_t0', 'pull2_t1')]\n"
     ]
    },
    {
     "data": {
      "application/vnd.jupyter.widget-view+json": {
       "model_id": "0079468e6c704373a15d28bcdbb8c3b6",
       "version_major": 2,
       "version_minor": 0
      },
      "text/plain": [
       "  0%|          | 0/1000000 [00:00<?, ?it/s]"
      ]
     },
     "metadata": {},
     "output_type": "display_data"
    },
    {
     "name": "stdout",
     "output_type": "stream",
     "text": [
      "[('pull1_t0', 'pull2_t1'), ('pull1_t0', 'pull1_t1'), ('pull2_t0', 'owgaze1_t1'), ('owgaze1_t0', 'pull2_t1'), ('owgaze1_t0', 'owgaze1_t1')]\n"
     ]
    },
    {
     "data": {
      "application/vnd.jupyter.widget-view+json": {
       "model_id": "71fdfb41d58f4a7abf7922fb6f90ec81",
       "version_major": 2,
       "version_minor": 0
      },
      "text/plain": [
       "  0%|          | 0/1000000 [00:00<?, ?it/s]"
      ]
     },
     "metadata": {},
     "output_type": "display_data"
    },
    {
     "name": "stdout",
     "output_type": "stream",
     "text": [
      "[('pull2_t0', 'owgaze1_t1'), ('pull2_t0', 'pull2_t1'), ('owgaze1_t0', 'owgaze1_t1'), ('owgaze1_t0', 'pull2_t1')]\n"
     ]
    },
    {
     "data": {
      "application/vnd.jupyter.widget-view+json": {
       "model_id": "f4320bc948f3434cbacb37edc9f339c4",
       "version_major": 2,
       "version_minor": 0
      },
      "text/plain": [
       "  0%|          | 0/1000000 [00:00<?, ?it/s]"
      ]
     },
     "metadata": {},
     "output_type": "display_data"
    },
    {
     "name": "stdout",
     "output_type": "stream",
     "text": [
      "[('pull1_t0', 'pull2_t1'), ('pull2_t0', 'owgaze1_t1'), ('pull2_t0', 'pull2_t1'), ('pull2_t0', 'pull1_t1')]\n"
     ]
    },
    {
     "data": {
      "application/vnd.jupyter.widget-view+json": {
       "model_id": "17ad543519ac4728b13052e45736c4e1",
       "version_major": 2,
       "version_minor": 0
      },
      "text/plain": [
       "  0%|          | 0/1000000 [00:00<?, ?it/s]"
      ]
     },
     "metadata": {},
     "output_type": "display_data"
    },
    {
     "name": "stdout",
     "output_type": "stream",
     "text": [
      "[('pull1_t0', 'pull1_t1'), ('pull2_t0', 'owgaze1_t1'), ('pull2_t0', 'pull1_t1'), ('owgaze1_t0', 'pull2_t1'), ('owgaze1_t0', 'owgaze1_t1')]\n"
     ]
    },
    {
     "data": {
      "application/vnd.jupyter.widget-view+json": {
       "model_id": "80050f61ca7f465d8317b535e7fbec72",
       "version_major": 2,
       "version_minor": 0
      },
      "text/plain": [
       "  0%|          | 0/1000000 [00:00<?, ?it/s]"
      ]
     },
     "metadata": {},
     "output_type": "display_data"
    },
    {
     "name": "stdout",
     "output_type": "stream",
     "text": [
      "[('pull1_t0', 'pull2_t1'), ('pull1_t0', 'owgaze1_t1'), ('pull1_t0', 'pull1_t1'), ('pull2_t0', 'owgaze1_t1'), ('pull2_t0', 'pull2_t1'), ('pull2_t0', 'pull1_t1')]\n"
     ]
    },
    {
     "data": {
      "application/vnd.jupyter.widget-view+json": {
       "model_id": "020b397237d741ea9a548ea430a8ff75",
       "version_major": 2,
       "version_minor": 0
      },
      "text/plain": [
       "  0%|          | 0/1000000 [00:00<?, ?it/s]"
      ]
     },
     "metadata": {},
     "output_type": "display_data"
    },
    {
     "name": "stdout",
     "output_type": "stream",
     "text": [
      "[('pull1_t0', 'pull2_t1'), ('pull1_t0', 'owgaze1_t1'), ('pull1_t0', 'pull1_t1'), ('pull2_t0', 'owgaze1_t1'), ('pull2_t0', 'pull2_t1'), ('pull2_t0', 'pull1_t1')]\n"
     ]
    },
    {
     "data": {
      "application/vnd.jupyter.widget-view+json": {
       "model_id": "40d1329179844f21bd6099ab75ea2c09",
       "version_major": 2,
       "version_minor": 0
      },
      "text/plain": [
       "  0%|          | 0/1000000 [00:00<?, ?it/s]"
      ]
     },
     "metadata": {},
     "output_type": "display_data"
    },
    {
     "name": "stdout",
     "output_type": "stream",
     "text": [
      "[('pull1_t0', 'pull2_t1'), ('pull1_t0', 'owgaze1_t1'), ('pull2_t0', 'pull2_t1'), ('pull2_t0', 'owgaze1_t1'), ('pull2_t0', 'pull1_t1')]\n"
     ]
    },
    {
     "data": {
      "application/vnd.jupyter.widget-view+json": {
       "model_id": "33127aea17484069a10b0a77d17064ba",
       "version_major": 2,
       "version_minor": 0
      },
      "text/plain": [
       "  0%|          | 0/1000000 [00:00<?, ?it/s]"
      ]
     },
     "metadata": {},
     "output_type": "display_data"
    },
    {
     "name": "stdout",
     "output_type": "stream",
     "text": [
      "[('pull1_t0', 'pull1_t1'), ('pull2_t0', 'pull2_t1'), ('pull2_t0', 'owgaze1_t1'), ('pull2_t0', 'pull1_t1')]\n"
     ]
    },
    {
     "data": {
      "application/vnd.jupyter.widget-view+json": {
       "model_id": "f69683a355814c99904aec42e997b9ca",
       "version_major": 2,
       "version_minor": 0
      },
      "text/plain": [
       "  0%|          | 0/1000000 [00:00<?, ?it/s]"
      ]
     },
     "metadata": {},
     "output_type": "display_data"
    },
    {
     "name": "stdout",
     "output_type": "stream",
     "text": [
      "[('pull2_t0', 'pull2_t1'), ('owgaze1_t0', 'owgaze1_t1'), ('owgaze2_t0', 'owgaze2_t1')]\n"
     ]
    },
    {
     "data": {
      "application/vnd.jupyter.widget-view+json": {
       "model_id": "9cd27e5b727c4126b2dbb18d930c272a",
       "version_major": 2,
       "version_minor": 0
      },
      "text/plain": [
       "  0%|          | 0/1000000 [00:00<?, ?it/s]"
      ]
     },
     "metadata": {},
     "output_type": "display_data"
    },
    {
     "name": "stdout",
     "output_type": "stream",
     "text": [
      "[('pull1_t0', 'pull1_t1'), ('owgaze1_t0', 'owgaze1_t1'), ('owgaze2_t0', 'owgaze2_t1')]\n"
     ]
    },
    {
     "data": {
      "application/vnd.jupyter.widget-view+json": {
       "model_id": "28ec829b0f244f9a97af279663411782",
       "version_major": 2,
       "version_minor": 0
      },
      "text/plain": [
       "  0%|          | 0/1000000 [00:00<?, ?it/s]"
      ]
     },
     "metadata": {},
     "output_type": "display_data"
    },
    {
     "name": "stdout",
     "output_type": "stream",
     "text": [
      "[('pull1_t0', 'pull1_t1'), ('pull1_t0', 'pull2_t1'), ('owgaze2_t0', 'owgaze2_t1')]\n"
     ]
    },
    {
     "data": {
      "application/vnd.jupyter.widget-view+json": {
       "model_id": "24a5fe9c42424850ade544f02fe79b69",
       "version_major": 2,
       "version_minor": 0
      },
      "text/plain": [
       "  0%|          | 0/1000000 [00:00<?, ?it/s]"
      ]
     },
     "metadata": {},
     "output_type": "display_data"
    },
    {
     "name": "stdout",
     "output_type": "stream",
     "text": [
      "[('pull1_t0', 'pull1_t1'), ('pull1_t0', 'pull2_t1'), ('pull2_t0', 'pull1_t1'), ('owgaze2_t0', 'owgaze2_t1')]\n"
     ]
    },
    {
     "data": {
      "application/vnd.jupyter.widget-view+json": {
       "model_id": "f179e59e96224608ae5383e402bbb9c9",
       "version_major": 2,
       "version_minor": 0
      },
      "text/plain": [
       "  0%|          | 0/1000000 [00:00<?, ?it/s]"
      ]
     },
     "metadata": {},
     "output_type": "display_data"
    },
    {
     "name": "stdout",
     "output_type": "stream",
     "text": [
      "[('pull1_t0', 'pull1_t1'), ('pull2_t0', 'pull1_t1'), ('pull2_t0', 'owgaze2_t1')]\n"
     ]
    },
    {
     "data": {
      "application/vnd.jupyter.widget-view+json": {
       "model_id": "90a649e7cd904929a624f3b176c3dc95",
       "version_major": 2,
       "version_minor": 0
      },
      "text/plain": [
       "  0%|          | 0/1000000 [00:00<?, ?it/s]"
      ]
     },
     "metadata": {},
     "output_type": "display_data"
    },
    {
     "name": "stdout",
     "output_type": "stream",
     "text": [
      "[('pull1_t0', 'pull1_t1'), ('pull1_t0', 'pull2_t1'), ('pull2_t0', 'pull1_t1'), ('owgaze2_t0', 'owgaze2_t1')]\n"
     ]
    },
    {
     "data": {
      "application/vnd.jupyter.widget-view+json": {
       "model_id": "1193748176c94241a4ab7e475990c702",
       "version_major": 2,
       "version_minor": 0
      },
      "text/plain": [
       "  0%|          | 0/1000000 [00:00<?, ?it/s]"
      ]
     },
     "metadata": {},
     "output_type": "display_data"
    },
    {
     "name": "stdout",
     "output_type": "stream",
     "text": [
      "[('pull1_t0', 'pull1_t1'), ('pull1_t0', 'pull2_t1'), ('pull2_t0', 'pull1_t1'), ('pull2_t0', 'pull2_t1'), ('owgaze2_t0', 'owgaze2_t1')]\n"
     ]
    },
    {
     "data": {
      "application/vnd.jupyter.widget-view+json": {
       "model_id": "77ecc93a5d474bc09caa6a9e6eba4864",
       "version_major": 2,
       "version_minor": 0
      },
      "text/plain": [
       "  0%|          | 0/1000000 [00:00<?, ?it/s]"
      ]
     },
     "metadata": {},
     "output_type": "display_data"
    },
    {
     "name": "stdout",
     "output_type": "stream",
     "text": [
      "[('pull1_t0', 'pull1_t1'), ('pull1_t0', 'pull2_t1'), ('pull2_t0', 'pull1_t1'), ('owgaze2_t0', 'owgaze2_t1')]\n"
     ]
    },
    {
     "data": {
      "application/vnd.jupyter.widget-view+json": {
       "model_id": "1f77f342415d4249a7df49c5ae6f98b8",
       "version_major": 2,
       "version_minor": 0
      },
      "text/plain": [
       "  0%|          | 0/1000000 [00:00<?, ?it/s]"
      ]
     },
     "metadata": {},
     "output_type": "display_data"
    },
    {
     "name": "stdout",
     "output_type": "stream",
     "text": [
      "[('pull1_t0', 'pull2_t1'), ('pull2_t0', 'pull1_t1'), ('owgaze2_t0', 'owgaze2_t1')]\n"
     ]
    },
    {
     "data": {
      "application/vnd.jupyter.widget-view+json": {
       "model_id": "0911d4f4c28740f2ae158cec2194bdac",
       "version_major": 2,
       "version_minor": 0
      },
      "text/plain": [
       "  0%|          | 0/1000000 [00:00<?, ?it/s]"
      ]
     },
     "metadata": {},
     "output_type": "display_data"
    },
    {
     "name": "stdout",
     "output_type": "stream",
     "text": [
      "[('pull1_t0', 'pull2_t1'), ('pull1_t0', 'pull1_t1')]\n"
     ]
    },
    {
     "data": {
      "application/vnd.jupyter.widget-view+json": {
       "model_id": "f16044129ec3490ab7b0641caaf7f500",
       "version_major": 2,
       "version_minor": 0
      },
      "text/plain": [
       "  0%|          | 0/1000000 [00:00<?, ?it/s]"
      ]
     },
     "metadata": {},
     "output_type": "display_data"
    },
    {
     "name": "stdout",
     "output_type": "stream",
     "text": [
      "[('pull1_t0', 'pull1_t1'), ('pull1_t0', 'pull2_t1'), ('owgaze2_t0', 'owgaze2_t1')]\n"
     ]
    },
    {
     "data": {
      "application/vnd.jupyter.widget-view+json": {
       "model_id": "4e7f46a25a7544f9aeb27efbe990783f",
       "version_major": 2,
       "version_minor": 0
      },
      "text/plain": [
       "  0%|          | 0/1000000 [00:00<?, ?it/s]"
      ]
     },
     "metadata": {},
     "output_type": "display_data"
    },
    {
     "name": "stdout",
     "output_type": "stream",
     "text": [
      "[('pull1_t0', 'pull1_t1'), ('pull1_t0', 'pull2_t1'), ('owgaze2_t0', 'owgaze2_t1')]\n"
     ]
    },
    {
     "data": {
      "application/vnd.jupyter.widget-view+json": {
       "model_id": "ea42bf3e21f24957bef3817a0926773a",
       "version_major": 2,
       "version_minor": 0
      },
      "text/plain": [
       "  0%|          | 0/1000000 [00:00<?, ?it/s]"
      ]
     },
     "metadata": {},
     "output_type": "display_data"
    },
    {
     "name": "stdout",
     "output_type": "stream",
     "text": [
      "[('pull1_t0', 'pull1_t1'), ('pull2_t0', 'pull2_t1')]\n"
     ]
    },
    {
     "data": {
      "application/vnd.jupyter.widget-view+json": {
       "model_id": "ee94ce832f2349fb842996b3ede9b666",
       "version_major": 2,
       "version_minor": 0
      },
      "text/plain": [
       "  0%|          | 0/1000000 [00:00<?, ?it/s]"
      ]
     },
     "metadata": {},
     "output_type": "display_data"
    },
    {
     "name": "stdout",
     "output_type": "stream",
     "text": [
      "[('pull2_t0', 'pull2_t1'), ('pull2_t0', 'pull1_t1'), ('owgaze2_t0', 'owgaze2_t1')]\n"
     ]
    },
    {
     "data": {
      "application/vnd.jupyter.widget-view+json": {
       "model_id": "14a3ecdb936349a9a67edaf0bc256e97",
       "version_major": 2,
       "version_minor": 0
      },
      "text/plain": [
       "  0%|          | 0/1000000 [00:00<?, ?it/s]"
      ]
     },
     "metadata": {},
     "output_type": "display_data"
    },
    {
     "name": "stdout",
     "output_type": "stream",
     "text": [
      "[('pull2_t0', 'pull2_t1')]\n"
     ]
    },
    {
     "data": {
      "application/vnd.jupyter.widget-view+json": {
       "model_id": "a2ae2cd4f46846cba92b4859aa2573d1",
       "version_major": 2,
       "version_minor": 0
      },
      "text/plain": [
       "  0%|          | 0/1000000 [00:00<?, ?it/s]"
      ]
     },
     "metadata": {},
     "output_type": "display_data"
    },
    {
     "name": "stdout",
     "output_type": "stream",
     "text": [
      "[('pull2_t0', 'pull2_t1')]\n"
     ]
    },
    {
     "data": {
      "application/vnd.jupyter.widget-view+json": {
       "model_id": "a3e1c300599c4b0c8e5b191427f06a62",
       "version_major": 2,
       "version_minor": 0
      },
      "text/plain": [
       "  0%|          | 0/1000000 [00:00<?, ?it/s]"
      ]
     },
     "metadata": {},
     "output_type": "display_data"
    },
    {
     "name": "stdout",
     "output_type": "stream",
     "text": [
      "[('pull2_t0', 'pull2_t1'), ('pull2_t0', 'pull1_t1')]\n"
     ]
    },
    {
     "data": {
      "application/vnd.jupyter.widget-view+json": {
       "model_id": "7d71e06b047f4b7baed6410ed6ddd9c9",
       "version_major": 2,
       "version_minor": 0
      },
      "text/plain": [
       "  0%|          | 0/1000000 [00:00<?, ?it/s]"
      ]
     },
     "metadata": {},
     "output_type": "display_data"
    },
    {
     "name": "stdout",
     "output_type": "stream",
     "text": [
      "[('pull2_t0', 'pull2_t1'), ('pull2_t0', 'pull1_t1')]\n"
     ]
    },
    {
     "data": {
      "application/vnd.jupyter.widget-view+json": {
       "model_id": "76be69e2535043fdb57b22317fa27293",
       "version_major": 2,
       "version_minor": 0
      },
      "text/plain": [
       "  0%|          | 0/1000000 [00:00<?, ?it/s]"
      ]
     },
     "metadata": {},
     "output_type": "display_data"
    },
    {
     "name": "stdout",
     "output_type": "stream",
     "text": [
      "[('pull2_t0', 'pull2_t1'), ('pull2_t0', 'pull1_t1')]\n"
     ]
    },
    {
     "data": {
      "application/vnd.jupyter.widget-view+json": {
       "model_id": "a8bc1cca2c0a45449c7abcf07ca0aed4",
       "version_major": 2,
       "version_minor": 0
      },
      "text/plain": [
       "  0%|          | 0/1000000 [00:00<?, ?it/s]"
      ]
     },
     "metadata": {},
     "output_type": "display_data"
    },
    {
     "name": "stdout",
     "output_type": "stream",
     "text": [
      "[('pull1_t0', 'pull2_t1'), ('pull2_t0', 'pull1_t1')]\n"
     ]
    },
    {
     "data": {
      "application/vnd.jupyter.widget-view+json": {
       "model_id": "c0ed7970cde14fcab05498598e7bb465",
       "version_major": 2,
       "version_minor": 0
      },
      "text/plain": [
       "  0%|          | 0/1000000 [00:00<?, ?it/s]"
      ]
     },
     "metadata": {},
     "output_type": "display_data"
    },
    {
     "name": "stdout",
     "output_type": "stream",
     "text": [
      "[('pull1_t0', 'pull2_t1'), ('pull1_t0', 'owgaze2_t1'), ('pull2_t0', 'pull1_t1')]\n"
     ]
    },
    {
     "data": {
      "application/vnd.jupyter.widget-view+json": {
       "model_id": "01fa95bacc714b498fad2d7520528a7b",
       "version_major": 2,
       "version_minor": 0
      },
      "text/plain": [
       "  0%|          | 0/1000000 [00:00<?, ?it/s]"
      ]
     },
     "metadata": {},
     "output_type": "display_data"
    },
    {
     "name": "stdout",
     "output_type": "stream",
     "text": [
      "[('pull1_t0', 'pull1_t1'), ('pull1_t0', 'owgaze2_t1'), ('pull2_t0', 'pull2_t1')]\n"
     ]
    },
    {
     "data": {
      "application/vnd.jupyter.widget-view+json": {
       "model_id": "f9a537d11a5c4dee8826b4d1e95abbfe",
       "version_major": 2,
       "version_minor": 0
      },
      "text/plain": [
       "  0%|          | 0/1000000 [00:00<?, ?it/s]"
      ]
     },
     "metadata": {},
     "output_type": "display_data"
    },
    {
     "name": "stdout",
     "output_type": "stream",
     "text": [
      "[('pull2_t0', 'pull2_t1'), ('pull2_t0', 'pull1_t1')]\n"
     ]
    },
    {
     "data": {
      "application/vnd.jupyter.widget-view+json": {
       "model_id": "99eb995d69144cb1b730d3d27f7d094d",
       "version_major": 2,
       "version_minor": 0
      },
      "text/plain": [
       "  0%|          | 0/1000000 [00:00<?, ?it/s]"
      ]
     },
     "metadata": {},
     "output_type": "display_data"
    },
    {
     "name": "stdout",
     "output_type": "stream",
     "text": [
      "[('pull1_t0', 'pull1_t1'), ('pull1_t0', 'pull2_t1')]\n"
     ]
    },
    {
     "data": {
      "application/vnd.jupyter.widget-view+json": {
       "model_id": "eab87c1b8fe8454a8462e6bc4d145e08",
       "version_major": 2,
       "version_minor": 0
      },
      "text/plain": [
       "  0%|          | 0/1000000 [00:00<?, ?it/s]"
      ]
     },
     "metadata": {},
     "output_type": "display_data"
    },
    {
     "name": "stdout",
     "output_type": "stream",
     "text": [
      "[('pull1_t0', 'pull1_t1'), ('pull1_t0', 'pull2_t1'), ('pull1_t0', 'owgaze1_t1')]\n"
     ]
    },
    {
     "data": {
      "application/vnd.jupyter.widget-view+json": {
       "model_id": "968ab9fa460944f7b7fd31c1b73bfc81",
       "version_major": 2,
       "version_minor": 0
      },
      "text/plain": [
       "  0%|          | 0/1000000 [00:00<?, ?it/s]"
      ]
     },
     "metadata": {},
     "output_type": "display_data"
    },
    {
     "name": "stdout",
     "output_type": "stream",
     "text": [
      "[('pull1_t0', 'pull2_t1'), ('pull1_t0', 'owgaze2_t1'), ('pull2_t0', 'pull1_t1')]\n"
     ]
    },
    {
     "data": {
      "application/vnd.jupyter.widget-view+json": {
       "model_id": "db9e2d0fa77a466f9ed2c1cc7be8ff5e",
       "version_major": 2,
       "version_minor": 0
      },
      "text/plain": [
       "  0%|          | 0/1000000 [00:00<?, ?it/s]"
      ]
     },
     "metadata": {},
     "output_type": "display_data"
    },
    {
     "name": "stdout",
     "output_type": "stream",
     "text": [
      "[('pull1_t0', 'pull2_t1'), ('pull2_t0', 'pull1_t1')]\n"
     ]
    },
    {
     "data": {
      "application/vnd.jupyter.widget-view+json": {
       "model_id": "a7bd07e6feec4b259cde1c718e0e8455",
       "version_major": 2,
       "version_minor": 0
      },
      "text/plain": [
       "  0%|          | 0/1000000 [00:00<?, ?it/s]"
      ]
     },
     "metadata": {},
     "output_type": "display_data"
    },
    {
     "name": "stdout",
     "output_type": "stream",
     "text": [
      "[('pull1_t0', 'pull2_t1'), ('pull2_t0', 'pull1_t1')]\n"
     ]
    },
    {
     "data": {
      "application/vnd.jupyter.widget-view+json": {
       "model_id": "61809ac2b7254eea9f0ef0b480b4c88a",
       "version_major": 2,
       "version_minor": 0
      },
      "text/plain": [
       "  0%|          | 0/1000000 [00:00<?, ?it/s]"
      ]
     },
     "metadata": {},
     "output_type": "display_data"
    },
    {
     "name": "stdout",
     "output_type": "stream",
     "text": [
      "[('pull1_t0', 'pull2_t1'), ('pull2_t0', 'pull1_t1')]\n"
     ]
    },
    {
     "data": {
      "application/vnd.jupyter.widget-view+json": {
       "model_id": "b0bfe4f4a8294ac4aecd23b1f30e9448",
       "version_major": 2,
       "version_minor": 0
      },
      "text/plain": [
       "  0%|          | 0/1000000 [00:00<?, ?it/s]"
      ]
     },
     "metadata": {},
     "output_type": "display_data"
    },
    {
     "name": "stdout",
     "output_type": "stream",
     "text": [
      "[('pull1_t0', 'pull1_t1'), ('pull1_t0', 'pull2_t1')]\n"
     ]
    },
    {
     "data": {
      "application/vnd.jupyter.widget-view+json": {
       "model_id": "29e56a30020748e3a34c43a88a070356",
       "version_major": 2,
       "version_minor": 0
      },
      "text/plain": [
       "  0%|          | 0/1000000 [00:00<?, ?it/s]"
      ]
     },
     "metadata": {},
     "output_type": "display_data"
    },
    {
     "name": "stdout",
     "output_type": "stream",
     "text": [
      "[('pull1_t0', 'pull1_t1'), ('pull1_t0', 'pull2_t1')]\n"
     ]
    },
    {
     "data": {
      "application/vnd.jupyter.widget-view+json": {
       "model_id": "ff977449f5bf491bbf3d058234700a7b",
       "version_major": 2,
       "version_minor": 0
      },
      "text/plain": [
       "  0%|          | 0/1000000 [00:00<?, ?it/s]"
      ]
     },
     "metadata": {},
     "output_type": "display_data"
    },
    {
     "name": "stdout",
     "output_type": "stream",
     "text": [
      "[('pull1_t0', 'pull2_t1'), ('pull2_t0', 'pull1_t1'), ('owgaze2_t0', 'owgaze2_t1')]\n"
     ]
    },
    {
     "data": {
      "application/vnd.jupyter.widget-view+json": {
       "model_id": "e67a6cab50fa4570be3b7fbe617b2737",
       "version_major": 2,
       "version_minor": 0
      },
      "text/plain": [
       "  0%|          | 0/1000000 [00:00<?, ?it/s]"
      ]
     },
     "metadata": {},
     "output_type": "display_data"
    },
    {
     "name": "stdout",
     "output_type": "stream",
     "text": [
      "[('pull2_t0', 'owgaze1_t1')]\n"
     ]
    },
    {
     "data": {
      "application/vnd.jupyter.widget-view+json": {
       "model_id": "9df11e33db7c420d9d7f6d0c53972d70",
       "version_major": 2,
       "version_minor": 0
      },
      "text/plain": [
       "  0%|          | 0/1000000 [00:00<?, ?it/s]"
      ]
     },
     "metadata": {},
     "output_type": "display_data"
    },
    {
     "name": "stdout",
     "output_type": "stream",
     "text": [
      "[('pull1_t0', 'owgaze2_t1'), ('pull2_t0', 'owgaze1_t1')]\n"
     ]
    },
    {
     "data": {
      "application/vnd.jupyter.widget-view+json": {
       "model_id": "418282c86c664527bade97e22ac06670",
       "version_major": 2,
       "version_minor": 0
      },
      "text/plain": [
       "  0%|          | 0/1000000 [00:00<?, ?it/s]"
      ]
     },
     "metadata": {},
     "output_type": "display_data"
    },
    {
     "name": "stdout",
     "output_type": "stream",
     "text": [
      "[('pull1_t0', 'pull1_t1'), ('pull1_t0', 'pull2_t1'), ('owgaze1_t0', 'owgaze1_t1')]\n"
     ]
    },
    {
     "data": {
      "application/vnd.jupyter.widget-view+json": {
       "model_id": "73b61df27ce54a3a955e4ecef4d5dd77",
       "version_major": 2,
       "version_minor": 0
      },
      "text/plain": [
       "  0%|          | 0/1000000 [00:00<?, ?it/s]"
      ]
     },
     "metadata": {},
     "output_type": "display_data"
    },
    {
     "name": "stdout",
     "output_type": "stream",
     "text": [
      "[]\n"
     ]
    },
    {
     "data": {
      "application/vnd.jupyter.widget-view+json": {
       "model_id": "84c65efc139a40de83abd3a683c1216c",
       "version_major": 2,
       "version_minor": 0
      },
      "text/plain": [
       "  0%|          | 0/1000000 [00:00<?, ?it/s]"
      ]
     },
     "metadata": {},
     "output_type": "display_data"
    },
    {
     "name": "stdout",
     "output_type": "stream",
     "text": [
      "[]\n"
     ]
    },
    {
     "data": {
      "application/vnd.jupyter.widget-view+json": {
       "model_id": "81c6d97af7c145cd8052c602acda69ea",
       "version_major": 2,
       "version_minor": 0
      },
      "text/plain": [
       "  0%|          | 0/1000000 [00:00<?, ?it/s]"
      ]
     },
     "metadata": {},
     "output_type": "display_data"
    },
    {
     "name": "stdout",
     "output_type": "stream",
     "text": [
      "[]\n"
     ]
    },
    {
     "data": {
      "application/vnd.jupyter.widget-view+json": {
       "model_id": "bff310269b0841a2a46f97eedb27df8b",
       "version_major": 2,
       "version_minor": 0
      },
      "text/plain": [
       "  0%|          | 0/1000000 [00:00<?, ?it/s]"
      ]
     },
     "metadata": {},
     "output_type": "display_data"
    },
    {
     "name": "stdout",
     "output_type": "stream",
     "text": [
      "[('pull1_t0', 'owgaze2_t1'), ('pull1_t0', 'pull2_t1'), ('pull2_t0', 'pull2_t1')]\n"
     ]
    },
    {
     "data": {
      "application/vnd.jupyter.widget-view+json": {
       "model_id": "6e93bbf2ac5b44d597cd8790f6d87caa",
       "version_major": 2,
       "version_minor": 0
      },
      "text/plain": [
       "  0%|          | 0/1000000 [00:00<?, ?it/s]"
      ]
     },
     "metadata": {},
     "output_type": "display_data"
    },
    {
     "name": "stdout",
     "output_type": "stream",
     "text": [
      "[('pull1_t0', 'pull2_t1'), ('pull1_t0', 'owgaze2_t1'), ('pull2_t0', 'pull2_t1')]\n"
     ]
    },
    {
     "data": {
      "application/vnd.jupyter.widget-view+json": {
       "model_id": "d973f2dd7ab84161b1c002a8cf297aa4",
       "version_major": 2,
       "version_minor": 0
      },
      "text/plain": [
       "  0%|          | 0/1000000 [00:00<?, ?it/s]"
      ]
     },
     "metadata": {},
     "output_type": "display_data"
    },
    {
     "name": "stdout",
     "output_type": "stream",
     "text": [
      "[('pull2_t0', 'pull2_t1')]\n"
     ]
    },
    {
     "data": {
      "application/vnd.jupyter.widget-view+json": {
       "model_id": "337b4b9a9a2d411283acdaf20a25e5aa",
       "version_major": 2,
       "version_minor": 0
      },
      "text/plain": [
       "  0%|          | 0/1000000 [00:00<?, ?it/s]"
      ]
     },
     "metadata": {},
     "output_type": "display_data"
    },
    {
     "name": "stdout",
     "output_type": "stream",
     "text": [
      "[('pull1_t0', 'pull2_t1'), ('pull2_t0', 'pull2_t1')]\n"
     ]
    },
    {
     "data": {
      "application/vnd.jupyter.widget-view+json": {
       "model_id": "042a82df437a4fa689aec69294d5b682",
       "version_major": 2,
       "version_minor": 0
      },
      "text/plain": [
       "  0%|          | 0/1000000 [00:00<?, ?it/s]"
      ]
     },
     "metadata": {},
     "output_type": "display_data"
    },
    {
     "name": "stdout",
     "output_type": "stream",
     "text": [
      "[('pull2_t0', 'pull2_t1'), ('pull2_t0', 'pull1_t1')]\n"
     ]
    },
    {
     "data": {
      "application/vnd.jupyter.widget-view+json": {
       "model_id": "a6707c33d1004c05b03402d12a5975ca",
       "version_major": 2,
       "version_minor": 0
      },
      "text/plain": [
       "  0%|          | 0/1000000 [00:00<?, ?it/s]"
      ]
     },
     "metadata": {},
     "output_type": "display_data"
    },
    {
     "name": "stdout",
     "output_type": "stream",
     "text": [
      "[('pull1_t0', 'pull2_t1'), ('pull2_t0', 'pull2_t1'), ('pull2_t0', 'pull1_t1')]\n"
     ]
    },
    {
     "data": {
      "application/vnd.jupyter.widget-view+json": {
       "model_id": "5cd5062cad514a938b0ae0f333dd463b",
       "version_major": 2,
       "version_minor": 0
      },
      "text/plain": [
       "  0%|          | 0/1000000 [00:00<?, ?it/s]"
      ]
     },
     "metadata": {},
     "output_type": "display_data"
    },
    {
     "name": "stdout",
     "output_type": "stream",
     "text": [
      "[('pull1_t0', 'pull2_t1'), ('pull2_t0', 'pull2_t1'), ('pull2_t0', 'pull1_t1')]\n"
     ]
    },
    {
     "data": {
      "application/vnd.jupyter.widget-view+json": {
       "model_id": "29859ea06e524aa39e4e439505abc1fc",
       "version_major": 2,
       "version_minor": 0
      },
      "text/plain": [
       "  0%|          | 0/1000000 [00:00<?, ?it/s]"
      ]
     },
     "metadata": {},
     "output_type": "display_data"
    },
    {
     "name": "stdout",
     "output_type": "stream",
     "text": [
      "[('pull1_t0', 'pull2_t1'), ('pull2_t0', 'pull2_t1'), ('pull2_t0', 'pull1_t1')]\n"
     ]
    },
    {
     "data": {
      "application/vnd.jupyter.widget-view+json": {
       "model_id": "85b0c84bdeda49c8bff7e62af721ed4f",
       "version_major": 2,
       "version_minor": 0
      },
      "text/plain": [
       "  0%|          | 0/1000000 [00:00<?, ?it/s]"
      ]
     },
     "metadata": {},
     "output_type": "display_data"
    },
    {
     "name": "stdout",
     "output_type": "stream",
     "text": [
      "[('pull2_t0', 'pull2_t1'), ('pull2_t0', 'pull1_t1')]\n"
     ]
    },
    {
     "data": {
      "application/vnd.jupyter.widget-view+json": {
       "model_id": "9de739399f9a49d5905371d4ef2023d2",
       "version_major": 2,
       "version_minor": 0
      },
      "text/plain": [
       "  0%|          | 0/1000000 [00:00<?, ?it/s]"
      ]
     },
     "metadata": {},
     "output_type": "display_data"
    },
    {
     "name": "stdout",
     "output_type": "stream",
     "text": [
      "[('pull1_t0', 'pull2_t1'), ('pull2_t0', 'pull2_t1'), ('pull2_t0', 'pull1_t1')]\n"
     ]
    },
    {
     "data": {
      "application/vnd.jupyter.widget-view+json": {
       "model_id": "643bb48c8ccf4dddbeeb53560200c590",
       "version_major": 2,
       "version_minor": 0
      },
      "text/plain": [
       "  0%|          | 0/1000000 [00:00<?, ?it/s]"
      ]
     },
     "metadata": {},
     "output_type": "display_data"
    },
    {
     "name": "stdout",
     "output_type": "stream",
     "text": [
      "[('pull1_t0', 'pull2_t1'), ('pull2_t0', 'pull2_t1'), ('pull2_t0', 'pull1_t1')]\n"
     ]
    },
    {
     "data": {
      "application/vnd.jupyter.widget-view+json": {
       "model_id": "359d2133733543f4a37cac9abb943896",
       "version_major": 2,
       "version_minor": 0
      },
      "text/plain": [
       "  0%|          | 0/1000000 [00:00<?, ?it/s]"
      ]
     },
     "metadata": {},
     "output_type": "display_data"
    },
    {
     "name": "stdout",
     "output_type": "stream",
     "text": [
      "[('pull1_t0', 'pull2_t1'), ('pull1_t0', 'pull1_t1'), ('pull1_t0', 'owgaze2_t1'), ('pull2_t0', 'pull2_t1'), ('pull2_t0', 'pull1_t1')]\n"
     ]
    },
    {
     "data": {
      "application/vnd.jupyter.widget-view+json": {
       "model_id": "7a10aff50d6c4770bd4efce67196616b",
       "version_major": 2,
       "version_minor": 0
      },
      "text/plain": [
       "  0%|          | 0/1000000 [00:00<?, ?it/s]"
      ]
     },
     "metadata": {},
     "output_type": "display_data"
    },
    {
     "name": "stdout",
     "output_type": "stream",
     "text": [
      "[('pull1_t0', 'pull1_t1'), ('pull2_t0', 'pull2_t1'), ('pull2_t0', 'pull1_t1')]\n"
     ]
    },
    {
     "data": {
      "application/vnd.jupyter.widget-view+json": {
       "model_id": "dc9ada79b10e4d8fbc3411895f31e563",
       "version_major": 2,
       "version_minor": 0
      },
      "text/plain": [
       "  0%|          | 0/1000000 [00:00<?, ?it/s]"
      ]
     },
     "metadata": {},
     "output_type": "display_data"
    },
    {
     "name": "stdout",
     "output_type": "stream",
     "text": [
      "[('pull2_t0', 'pull2_t1'), ('pull2_t0', 'pull1_t1')]\n"
     ]
    },
    {
     "data": {
      "application/vnd.jupyter.widget-view+json": {
       "model_id": "9a04748b0ac04f3cbad042eb5a4147ac",
       "version_major": 2,
       "version_minor": 0
      },
      "text/plain": [
       "  0%|          | 0/1000000 [00:00<?, ?it/s]"
      ]
     },
     "metadata": {},
     "output_type": "display_data"
    },
    {
     "name": "stdout",
     "output_type": "stream",
     "text": [
      "[('pull1_t0', 'pull2_t1'), ('pull2_t0', 'pull2_t1'), ('pull2_t0', 'pull1_t1')]\n"
     ]
    },
    {
     "data": {
      "application/vnd.jupyter.widget-view+json": {
       "model_id": "6ae6e9e83c5944e5a0b5c84a1af023a0",
       "version_major": 2,
       "version_minor": 0
      },
      "text/plain": [
       "  0%|          | 0/1000000 [00:00<?, ?it/s]"
      ]
     },
     "metadata": {},
     "output_type": "display_data"
    },
    {
     "name": "stdout",
     "output_type": "stream",
     "text": [
      "[('pull2_t0', 'pull2_t1'), ('pull2_t0', 'pull1_t1')]\n"
     ]
    },
    {
     "data": {
      "application/vnd.jupyter.widget-view+json": {
       "model_id": "00a00d1f3ec548e3a013eb1f9f415ac6",
       "version_major": 2,
       "version_minor": 0
      },
      "text/plain": [
       "  0%|          | 0/1000000 [00:00<?, ?it/s]"
      ]
     },
     "metadata": {},
     "output_type": "display_data"
    },
    {
     "name": "stdout",
     "output_type": "stream",
     "text": [
      "[('pull1_t0', 'owgaze2_t1'), ('pull2_t0', 'pull2_t1'), ('pull2_t0', 'pull1_t1')]\n"
     ]
    },
    {
     "data": {
      "application/vnd.jupyter.widget-view+json": {
       "model_id": "0662f864870c486fb895e6aaa03609a9",
       "version_major": 2,
       "version_minor": 0
      },
      "text/plain": [
       "  0%|          | 0/1000000 [00:00<?, ?it/s]"
      ]
     },
     "metadata": {},
     "output_type": "display_data"
    },
    {
     "name": "stdout",
     "output_type": "stream",
     "text": [
      "[('pull2_t0', 'pull2_t1'), ('pull2_t0', 'pull1_t1'), ('owgaze2_t0', 'pull1_t1')]\n"
     ]
    },
    {
     "data": {
      "application/vnd.jupyter.widget-view+json": {
       "model_id": "525c68489eac4abe8c92f7b099dede04",
       "version_major": 2,
       "version_minor": 0
      },
      "text/plain": [
       "  0%|          | 0/1000000 [00:00<?, ?it/s]"
      ]
     },
     "metadata": {},
     "output_type": "display_data"
    },
    {
     "name": "stdout",
     "output_type": "stream",
     "text": [
      "[('pull1_t0', 'pull1_t1'), ('pull2_t0', 'pull2_t1'), ('pull2_t0', 'pull1_t1')]\n"
     ]
    },
    {
     "data": {
      "application/vnd.jupyter.widget-view+json": {
       "model_id": "6a381d32ec204b9eb4c7aa1adeac3e39",
       "version_major": 2,
       "version_minor": 0
      },
      "text/plain": [
       "  0%|          | 0/1000000 [00:00<?, ?it/s]"
      ]
     },
     "metadata": {},
     "output_type": "display_data"
    },
    {
     "name": "stdout",
     "output_type": "stream",
     "text": [
      "[('pull1_t0', 'owgaze2_t1'), ('pull2_t0', 'pull2_t1'), ('pull2_t0', 'pull1_t1')]\n"
     ]
    },
    {
     "data": {
      "application/vnd.jupyter.widget-view+json": {
       "model_id": "164fe96e8d4742f7b91445607150a4ae",
       "version_major": 2,
       "version_minor": 0
      },
      "text/plain": [
       "  0%|          | 0/1000000 [00:00<?, ?it/s]"
      ]
     },
     "metadata": {},
     "output_type": "display_data"
    },
    {
     "name": "stdout",
     "output_type": "stream",
     "text": [
      "[('pull2_t0', 'pull2_t1'), ('pull2_t0', 'pull1_t1')]\n"
     ]
    },
    {
     "data": {
      "application/vnd.jupyter.widget-view+json": {
       "model_id": "efca3f93ca3a484a8497e63dbdef4cc4",
       "version_major": 2,
       "version_minor": 0
      },
      "text/plain": [
       "  0%|          | 0/1000000 [00:00<?, ?it/s]"
      ]
     },
     "metadata": {},
     "output_type": "display_data"
    },
    {
     "name": "stdout",
     "output_type": "stream",
     "text": [
      "[('pull1_t0', 'pull1_t1'), ('pull2_t0', 'pull2_t1'), ('pull2_t0', 'pull1_t1')]\n"
     ]
    },
    {
     "data": {
      "application/vnd.jupyter.widget-view+json": {
       "model_id": "e3b6e1389e8d49c18eed5c5b1cde27c4",
       "version_major": 2,
       "version_minor": 0
      },
      "text/plain": [
       "  0%|          | 0/1000000 [00:00<?, ?it/s]"
      ]
     },
     "metadata": {},
     "output_type": "display_data"
    },
    {
     "name": "stdout",
     "output_type": "stream",
     "text": [
      "[('pull2_t0', 'pull2_t1'), ('pull2_t0', 'pull1_t1')]\n"
     ]
    },
    {
     "data": {
      "application/vnd.jupyter.widget-view+json": {
       "model_id": "d39dd26d4e624f61b10079305015f900",
       "version_major": 2,
       "version_minor": 0
      },
      "text/plain": [
       "  0%|          | 0/1000000 [00:00<?, ?it/s]"
      ]
     },
     "metadata": {},
     "output_type": "display_data"
    },
    {
     "name": "stdout",
     "output_type": "stream",
     "text": [
      "[('pull2_t0', 'pull2_t1'), ('pull2_t0', 'pull1_t1')]\n"
     ]
    },
    {
     "data": {
      "application/vnd.jupyter.widget-view+json": {
       "model_id": "deae84c96520406882f707f7113091bb",
       "version_major": 2,
       "version_minor": 0
      },
      "text/plain": [
       "  0%|          | 0/1000000 [00:00<?, ?it/s]"
      ]
     },
     "metadata": {},
     "output_type": "display_data"
    },
    {
     "name": "stdout",
     "output_type": "stream",
     "text": [
      "[('pull1_t0', 'pull1_t1'), ('pull2_t0', 'pull2_t1')]\n"
     ]
    },
    {
     "data": {
      "application/vnd.jupyter.widget-view+json": {
       "model_id": "ab174b43e62c45699d2058d6de01c6d9",
       "version_major": 2,
       "version_minor": 0
      },
      "text/plain": [
       "  0%|          | 0/1000000 [00:00<?, ?it/s]"
      ]
     },
     "metadata": {},
     "output_type": "display_data"
    },
    {
     "name": "stdout",
     "output_type": "stream",
     "text": [
      "[('pull2_t0', 'pull2_t1'), ('pull2_t0', 'pull1_t1')]\n"
     ]
    },
    {
     "data": {
      "application/vnd.jupyter.widget-view+json": {
       "model_id": "48b61edafbf2499e8bd238035ce16d90",
       "version_major": 2,
       "version_minor": 0
      },
      "text/plain": [
       "  0%|          | 0/1000000 [00:00<?, ?it/s]"
      ]
     },
     "metadata": {},
     "output_type": "display_data"
    },
    {
     "name": "stdout",
     "output_type": "stream",
     "text": [
      "[('pull2_t0', 'pull2_t1'), ('pull2_t0', 'pull1_t1'), ('owgaze1_t0', 'owgaze1_t1')]\n"
     ]
    },
    {
     "data": {
      "application/vnd.jupyter.widget-view+json": {
       "model_id": "226cae7d025c4e6ba9a68029bfe05a4b",
       "version_major": 2,
       "version_minor": 0
      },
      "text/plain": [
       "  0%|          | 0/1000000 [00:00<?, ?it/s]"
      ]
     },
     "metadata": {},
     "output_type": "display_data"
    },
    {
     "name": "stdout",
     "output_type": "stream",
     "text": [
      "[('pull2_t0', 'pull2_t1'), ('pull2_t0', 'pull1_t1')]\n"
     ]
    },
    {
     "data": {
      "application/vnd.jupyter.widget-view+json": {
       "model_id": "fad503484dcb4dff806fe92a1c27b900",
       "version_major": 2,
       "version_minor": 0
      },
      "text/plain": [
       "  0%|          | 0/1000000 [00:00<?, ?it/s]"
      ]
     },
     "metadata": {},
     "output_type": "display_data"
    },
    {
     "name": "stdout",
     "output_type": "stream",
     "text": [
      "[('pull1_t0', 'pull2_t1'), ('pull1_t0', 'owgaze2_t1'), ('pull2_t0', 'pull2_t1'), ('owgaze1_t0', 'owgaze1_t1')]\n"
     ]
    },
    {
     "data": {
      "application/vnd.jupyter.widget-view+json": {
       "model_id": "474f03e4d4c84b6ea959a5f43a2fcec8",
       "version_major": 2,
       "version_minor": 0
      },
      "text/plain": [
       "  0%|          | 0/1000000 [00:00<?, ?it/s]"
      ]
     },
     "metadata": {},
     "output_type": "display_data"
    },
    {
     "name": "stdout",
     "output_type": "stream",
     "text": [
      "[('pull1_t0', 'pull2_t1'), ('owgaze1_t0', 'owgaze1_t1')]\n"
     ]
    },
    {
     "data": {
      "application/vnd.jupyter.widget-view+json": {
       "model_id": "3c2c32c155d44643a00e06f79ab53185",
       "version_major": 2,
       "version_minor": 0
      },
      "text/plain": [
       "  0%|          | 0/1000000 [00:00<?, ?it/s]"
      ]
     },
     "metadata": {},
     "output_type": "display_data"
    },
    {
     "name": "stdout",
     "output_type": "stream",
     "text": [
      "[('pull1_t0', 'pull2_t1'), ('pull2_t0', 'pull2_t1'), ('owgaze1_t0', 'owgaze1_t1'), ('owgaze1_t0', 'pull1_t1')]\n"
     ]
    },
    {
     "data": {
      "application/vnd.jupyter.widget-view+json": {
       "model_id": "3f7f13725ead41e1b64a545a56d8303a",
       "version_major": 2,
       "version_minor": 0
      },
      "text/plain": [
       "  0%|          | 0/1000000 [00:00<?, ?it/s]"
      ]
     },
     "metadata": {},
     "output_type": "display_data"
    },
    {
     "name": "stdout",
     "output_type": "stream",
     "text": [
      "[('pull1_t0', 'pull2_t1'), ('pull1_t0', 'pull1_t1'), ('pull2_t0', 'pull2_t1'), ('owgaze1_t0', 'owgaze1_t1')]\n"
     ]
    },
    {
     "data": {
      "application/vnd.jupyter.widget-view+json": {
       "model_id": "02ec936ec8954a2a9e8f5c0e1886cb05",
       "version_major": 2,
       "version_minor": 0
      },
      "text/plain": [
       "  0%|          | 0/1000000 [00:00<?, ?it/s]"
      ]
     },
     "metadata": {},
     "output_type": "display_data"
    },
    {
     "name": "stdout",
     "output_type": "stream",
     "text": [
      "[('pull1_t0', 'pull2_t1'), ('pull2_t0', 'pull2_t1'), ('owgaze1_t0', 'owgaze1_t1'), ('owgaze1_t0', 'pull1_t1')]\n"
     ]
    },
    {
     "data": {
      "application/vnd.jupyter.widget-view+json": {
       "model_id": "1f3d4315651b4d1ea8e748608a980c3b",
       "version_major": 2,
       "version_minor": 0
      },
      "text/plain": [
       "  0%|          | 0/1000000 [00:00<?, ?it/s]"
      ]
     },
     "metadata": {},
     "output_type": "display_data"
    },
    {
     "name": "stdout",
     "output_type": "stream",
     "text": [
      "[('pull1_t0', 'pull2_t1'), ('pull2_t0', 'pull2_t1'), ('owgaze1_t0', 'owgaze1_t1'), ('owgaze1_t0', 'owgaze2_t1')]\n"
     ]
    },
    {
     "data": {
      "application/vnd.jupyter.widget-view+json": {
       "model_id": "f34edb47103e474db973c9dcf844bea7",
       "version_major": 2,
       "version_minor": 0
      },
      "text/plain": [
       "  0%|          | 0/1000000 [00:00<?, ?it/s]"
      ]
     },
     "metadata": {},
     "output_type": "display_data"
    },
    {
     "name": "stdout",
     "output_type": "stream",
     "text": [
      "[('pull1_t0', 'pull2_t1'), ('pull2_t0', 'pull2_t1'), ('pull2_t0', 'pull1_t1'), ('owgaze1_t0', 'owgaze1_t1')]\n"
     ]
    },
    {
     "data": {
      "application/vnd.jupyter.widget-view+json": {
       "model_id": "05564f7b4af84ffb92661c3ed0c402be",
       "version_major": 2,
       "version_minor": 0
      },
      "text/plain": [
       "  0%|          | 0/1000000 [00:00<?, ?it/s]"
      ]
     },
     "metadata": {},
     "output_type": "display_data"
    },
    {
     "name": "stdout",
     "output_type": "stream",
     "text": [
      "[('pull1_t0', 'pull2_t1'), ('pull2_t0', 'pull2_t1'), ('pull2_t0', 'pull1_t1'), ('owgaze1_t0', 'owgaze1_t1')]\n"
     ]
    },
    {
     "data": {
      "application/vnd.jupyter.widget-view+json": {
       "model_id": "5a50170a63634f41add77402c093df22",
       "version_major": 2,
       "version_minor": 0
      },
      "text/plain": [
       "  0%|          | 0/1000000 [00:00<?, ?it/s]"
      ]
     },
     "metadata": {},
     "output_type": "display_data"
    },
    {
     "name": "stdout",
     "output_type": "stream",
     "text": [
      "[('pull1_t0', 'pull2_t1'), ('pull2_t0', 'pull2_t1'), ('pull2_t0', 'pull1_t1'), ('owgaze1_t0', 'owgaze1_t1')]\n"
     ]
    },
    {
     "data": {
      "application/vnd.jupyter.widget-view+json": {
       "model_id": "9c1b369fddac415a931dd65a0433603e",
       "version_major": 2,
       "version_minor": 0
      },
      "text/plain": [
       "  0%|          | 0/1000000 [00:00<?, ?it/s]"
      ]
     },
     "metadata": {},
     "output_type": "display_data"
    },
    {
     "name": "stdout",
     "output_type": "stream",
     "text": [
      "[('pull1_t0', 'pull1_t1'), ('pull1_t0', 'pull2_t1'), ('pull2_t0', 'pull2_t1'), ('pull2_t0', 'pull1_t1'), ('owgaze1_t0', 'owgaze1_t1')]\n"
     ]
    },
    {
     "data": {
      "application/vnd.jupyter.widget-view+json": {
       "model_id": "5bbc3c7d18424a1cbaabb30815bfec06",
       "version_major": 2,
       "version_minor": 0
      },
      "text/plain": [
       "  0%|          | 0/1000000 [00:00<?, ?it/s]"
      ]
     },
     "metadata": {},
     "output_type": "display_data"
    },
    {
     "name": "stdout",
     "output_type": "stream",
     "text": [
      "[('pull1_t0', 'pull2_t1'), ('pull1_t0', 'pull1_t1'), ('pull2_t0', 'pull2_t1'), ('pull2_t0', 'pull1_t1'), ('owgaze1_t0', 'owgaze1_t1')]\n"
     ]
    },
    {
     "data": {
      "application/vnd.jupyter.widget-view+json": {
       "model_id": "1170d6fbc47b4f1c8bb2323f1ebc7cbd",
       "version_major": 2,
       "version_minor": 0
      },
      "text/plain": [
       "  0%|          | 0/1000000 [00:00<?, ?it/s]"
      ]
     },
     "metadata": {},
     "output_type": "display_data"
    },
    {
     "name": "stdout",
     "output_type": "stream",
     "text": [
      "[('pull1_t0', 'pull2_t1'), ('pull2_t0', 'pull2_t1'), ('pull2_t0', 'pull1_t1')]\n"
     ]
    },
    {
     "data": {
      "application/vnd.jupyter.widget-view+json": {
       "model_id": "c5d78f128d074a67a74a5b6aa431bb98",
       "version_major": 2,
       "version_minor": 0
      },
      "text/plain": [
       "  0%|          | 0/1000000 [00:00<?, ?it/s]"
      ]
     },
     "metadata": {},
     "output_type": "display_data"
    },
    {
     "name": "stdout",
     "output_type": "stream",
     "text": [
      "[('pull1_t0', 'pull2_t1'), ('pull2_t0', 'pull2_t1'), ('pull2_t0', 'pull1_t1'), ('owgaze1_t0', 'owgaze1_t1')]\n"
     ]
    },
    {
     "data": {
      "application/vnd.jupyter.widget-view+json": {
       "model_id": "0ee0434f39ab4882807cf8efa694f03a",
       "version_major": 2,
       "version_minor": 0
      },
      "text/plain": [
       "  0%|          | 0/1000000 [00:00<?, ?it/s]"
      ]
     },
     "metadata": {},
     "output_type": "display_data"
    },
    {
     "name": "stdout",
     "output_type": "stream",
     "text": [
      "[('pull2_t0', 'pull2_t1'), ('pull2_t0', 'pull1_t1'), ('owgaze1_t0', 'owgaze1_t1')]\n"
     ]
    },
    {
     "data": {
      "application/vnd.jupyter.widget-view+json": {
       "model_id": "bd536aaeb5bf47aca7cdeda3a86a9c7d",
       "version_major": 2,
       "version_minor": 0
      },
      "text/plain": [
       "  0%|          | 0/1000000 [00:00<?, ?it/s]"
      ]
     },
     "metadata": {},
     "output_type": "display_data"
    },
    {
     "name": "stdout",
     "output_type": "stream",
     "text": [
      "[('pull1_t0', 'owgaze1_t1'), ('pull2_t0', 'pull2_t1'), ('pull2_t0', 'pull1_t1')]\n"
     ]
    },
    {
     "data": {
      "application/vnd.jupyter.widget-view+json": {
       "model_id": "157880f560ed489b9779afd1402795ee",
       "version_major": 2,
       "version_minor": 0
      },
      "text/plain": [
       "  0%|          | 0/1000000 [00:00<?, ?it/s]"
      ]
     },
     "metadata": {},
     "output_type": "display_data"
    },
    {
     "name": "stdout",
     "output_type": "stream",
     "text": [
      "[('pull1_t0', 'owgaze1_t1'), ('pull2_t0', 'pull2_t1'), ('pull2_t0', 'pull1_t1')]\n"
     ]
    },
    {
     "data": {
      "application/vnd.jupyter.widget-view+json": {
       "model_id": "da3b494493cc4f22822e6fb2391cfef5",
       "version_major": 2,
       "version_minor": 0
      },
      "text/plain": [
       "  0%|          | 0/1000000 [00:00<?, ?it/s]"
      ]
     },
     "metadata": {},
     "output_type": "display_data"
    },
    {
     "name": "stdout",
     "output_type": "stream",
     "text": [
      "[('pull2_t0', 'pull1_t1'), ('pull2_t0', 'pull2_t1')]\n"
     ]
    },
    {
     "data": {
      "application/vnd.jupyter.widget-view+json": {
       "model_id": "e960aac13f414058b5451909709f442b",
       "version_major": 2,
       "version_minor": 0
      },
      "text/plain": [
       "  0%|          | 0/1000000 [00:00<?, ?it/s]"
      ]
     },
     "metadata": {},
     "output_type": "display_data"
    },
    {
     "name": "stdout",
     "output_type": "stream",
     "text": [
      "[('pull2_t0', 'pull1_t1'), ('pull2_t0', 'pull2_t1'), ('owgaze1_t0', 'owgaze1_t1')]\n"
     ]
    },
    {
     "data": {
      "application/vnd.jupyter.widget-view+json": {
       "model_id": "7a3ef47d9a88441899f94c9d0e083231",
       "version_major": 2,
       "version_minor": 0
      },
      "text/plain": [
       "  0%|          | 0/1000000 [00:00<?, ?it/s]"
      ]
     },
     "metadata": {},
     "output_type": "display_data"
    },
    {
     "name": "stdout",
     "output_type": "stream",
     "text": [
      "[('pull1_t0', 'owgaze1_t1'), ('pull2_t0', 'pull2_t1'), ('pull2_t0', 'pull1_t1')]\n"
     ]
    },
    {
     "data": {
      "application/vnd.jupyter.widget-view+json": {
       "model_id": "5a2c5e6276584263afb09f0a14d6bf7c",
       "version_major": 2,
       "version_minor": 0
      },
      "text/plain": [
       "  0%|          | 0/1000000 [00:00<?, ?it/s]"
      ]
     },
     "metadata": {},
     "output_type": "display_data"
    },
    {
     "name": "stdout",
     "output_type": "stream",
     "text": [
      "[('pull2_t0', 'pull2_t1'), ('pull2_t0', 'pull1_t1'), ('owgaze1_t0', 'owgaze1_t1')]\n"
     ]
    },
    {
     "data": {
      "application/vnd.jupyter.widget-view+json": {
       "model_id": "f0874ba2593945d2ab627d155b1fc70f",
       "version_major": 2,
       "version_minor": 0
      },
      "text/plain": [
       "  0%|          | 0/1000000 [00:00<?, ?it/s]"
      ]
     },
     "metadata": {},
     "output_type": "display_data"
    },
    {
     "name": "stdout",
     "output_type": "stream",
     "text": [
      "[('pull1_t0', 'pull1_t1'), ('pull2_t0', 'pull2_t1')]\n"
     ]
    },
    {
     "data": {
      "application/vnd.jupyter.widget-view+json": {
       "model_id": "2c5b8650759a4205813da33505ba48d0",
       "version_major": 2,
       "version_minor": 0
      },
      "text/plain": [
       "  0%|          | 0/1000000 [00:00<?, ?it/s]"
      ]
     },
     "metadata": {},
     "output_type": "display_data"
    },
    {
     "name": "stdout",
     "output_type": "stream",
     "text": [
      "[('pull1_t0', 'pull1_t1'), ('pull1_t0', 'owgaze1_t1'), ('pull2_t0', 'pull2_t1'), ('owgaze1_t0', 'owgaze1_t1')]\n"
     ]
    },
    {
     "data": {
      "application/vnd.jupyter.widget-view+json": {
       "model_id": "e94d3890ac0344bdb44a8d13637266ed",
       "version_major": 2,
       "version_minor": 0
      },
      "text/plain": [
       "  0%|          | 0/1000000 [00:00<?, ?it/s]"
      ]
     },
     "metadata": {},
     "output_type": "display_data"
    },
    {
     "name": "stdout",
     "output_type": "stream",
     "text": [
      "[('pull2_t0', 'pull1_t1'), ('pull2_t0', 'pull2_t1')]\n"
     ]
    },
    {
     "data": {
      "application/vnd.jupyter.widget-view+json": {
       "model_id": "abee443af3ba40508c8a2afd349951dd",
       "version_major": 2,
       "version_minor": 0
      },
      "text/plain": [
       "  0%|          | 0/1000000 [00:00<?, ?it/s]"
      ]
     },
     "metadata": {},
     "output_type": "display_data"
    },
    {
     "name": "stdout",
     "output_type": "stream",
     "text": [
      "[('pull1_t0', 'pull1_t1'), ('pull1_t0', 'owgaze1_t1'), ('pull2_t0', 'pull2_t1')]\n"
     ]
    },
    {
     "data": {
      "application/vnd.jupyter.widget-view+json": {
       "model_id": "87f3cac58fce4267b62030628a285ac7",
       "version_major": 2,
       "version_minor": 0
      },
      "text/plain": [
       "  0%|          | 0/1000000 [00:00<?, ?it/s]"
      ]
     },
     "metadata": {},
     "output_type": "display_data"
    },
    {
     "name": "stdout",
     "output_type": "stream",
     "text": [
      "[('pull2_t0', 'pull2_t1'), ('pull2_t0', 'pull1_t1')]\n"
     ]
    },
    {
     "data": {
      "application/vnd.jupyter.widget-view+json": {
       "model_id": "efba9c2deb814e7bbcb94ab937e4ce4c",
       "version_major": 2,
       "version_minor": 0
      },
      "text/plain": [
       "  0%|          | 0/1000000 [00:00<?, ?it/s]"
      ]
     },
     "metadata": {},
     "output_type": "display_data"
    },
    {
     "name": "stdout",
     "output_type": "stream",
     "text": [
      "[('pull2_t0', 'pull1_t1'), ('pull2_t0', 'pull2_t1')]\n"
     ]
    },
    {
     "data": {
      "application/vnd.jupyter.widget-view+json": {
       "model_id": "7acc68298fc94a67af99d8fbc1c389c3",
       "version_major": 2,
       "version_minor": 0
      },
      "text/plain": [
       "  0%|          | 0/1000000 [00:00<?, ?it/s]"
      ]
     },
     "metadata": {},
     "output_type": "display_data"
    },
    {
     "name": "stdout",
     "output_type": "stream",
     "text": [
      "[('pull2_t0', 'pull1_t1'), ('pull2_t0', 'pull2_t1')]\n"
     ]
    },
    {
     "data": {
      "application/vnd.jupyter.widget-view+json": {
       "model_id": "cb693955319d43b0a5e99b6ce8186dba",
       "version_major": 2,
       "version_minor": 0
      },
      "text/plain": [
       "  0%|          | 0/1000000 [00:00<?, ?it/s]"
      ]
     },
     "metadata": {},
     "output_type": "display_data"
    },
    {
     "name": "stdout",
     "output_type": "stream",
     "text": [
      "[('pull1_t0', 'pull1_t1'), ('pull2_t0', 'pull2_t1'), ('pull2_t0', 'owgaze1_t1'), ('owgaze1_t0', 'owgaze2_t1')]\n",
      "did not save data\n"
     ]
    },
    {
     "data": {
      "application/vnd.jupyter.widget-view+json": {
       "model_id": "cb24becb47534fe9972d35f50c50b959",
       "version_major": 2,
       "version_minor": 0
      },
      "text/plain": [
       "  0%|          | 0/1000000 [00:00<?, ?it/s]"
      ]
     },
     "metadata": {},
     "output_type": "display_data"
    },
    {
     "name": "stdout",
     "output_type": "stream",
     "text": [
      "[('pull1_t0', 'pull2_t1'), ('owgaze1_t0', 'owgaze1_t1')]\n"
     ]
    },
    {
     "data": {
      "application/vnd.jupyter.widget-view+json": {
       "model_id": "d21fc686791f4c0ca29c55ca2d3fa01a",
       "version_major": 2,
       "version_minor": 0
      },
      "text/plain": [
       "  0%|          | 0/1000000 [00:00<?, ?it/s]"
      ]
     },
     "metadata": {},
     "output_type": "display_data"
    },
    {
     "name": "stdout",
     "output_type": "stream",
     "text": [
      "[('pull1_t0', 'pull1_t1'), ('pull1_t0', 'pull2_t1'), ('owgaze1_t0', 'owgaze1_t1')]\n"
     ]
    },
    {
     "data": {
      "application/vnd.jupyter.widget-view+json": {
       "model_id": "64e358d5292a44beb9d5da9071f4d3e3",
       "version_major": 2,
       "version_minor": 0
      },
      "text/plain": [
       "  0%|          | 0/1000000 [00:00<?, ?it/s]"
      ]
     },
     "metadata": {},
     "output_type": "display_data"
    },
    {
     "name": "stdout",
     "output_type": "stream",
     "text": [
      "[('pull1_t0', 'pull1_t1'), ('owgaze1_t0', 'owgaze1_t1')]\n"
     ]
    },
    {
     "data": {
      "application/vnd.jupyter.widget-view+json": {
       "model_id": "d0c437d7011f4961ac73fd1c278124bd",
       "version_major": 2,
       "version_minor": 0
      },
      "text/plain": [
       "  0%|          | 0/1000000 [00:00<?, ?it/s]"
      ]
     },
     "metadata": {},
     "output_type": "display_data"
    },
    {
     "name": "stdout",
     "output_type": "stream",
     "text": [
      "[('pull1_t0', 'pull1_t1'), ('pull1_t0', 'owgaze1_t1')]\n"
     ]
    },
    {
     "data": {
      "application/vnd.jupyter.widget-view+json": {
       "model_id": "4811843bb18548ac887e9c1f8ba26553",
       "version_major": 2,
       "version_minor": 0
      },
      "text/plain": [
       "  0%|          | 0/1000000 [00:00<?, ?it/s]"
      ]
     },
     "metadata": {},
     "output_type": "display_data"
    },
    {
     "name": "stdout",
     "output_type": "stream",
     "text": [
      "[('pull2_t0', 'pull1_t1'), ('owgaze1_t0', 'owgaze1_t1')]\n"
     ]
    },
    {
     "data": {
      "application/vnd.jupyter.widget-view+json": {
       "model_id": "1dcc405ad48a4d6c87d42f9cf9bbc79d",
       "version_major": 2,
       "version_minor": 0
      },
      "text/plain": [
       "  0%|          | 0/1000000 [00:00<?, ?it/s]"
      ]
     },
     "metadata": {},
     "output_type": "display_data"
    },
    {
     "name": "stdout",
     "output_type": "stream",
     "text": [
      "[('pull2_t0', 'pull1_t1'), ('owgaze1_t0', 'owgaze1_t1'), ('owgaze1_t0', 'owgaze2_t1')]\n"
     ]
    },
    {
     "data": {
      "application/vnd.jupyter.widget-view+json": {
       "model_id": "faf1438e2e88478ca6cb0b06a003989e",
       "version_major": 2,
       "version_minor": 0
      },
      "text/plain": [
       "  0%|          | 0/1000000 [00:00<?, ?it/s]"
      ]
     },
     "metadata": {},
     "output_type": "display_data"
    },
    {
     "name": "stdout",
     "output_type": "stream",
     "text": [
      "[('owgaze1_t0', 'owgaze1_t1')]\n"
     ]
    },
    {
     "data": {
      "application/vnd.jupyter.widget-view+json": {
       "model_id": "13e425567cba4b088295a93d7ccdcc82",
       "version_major": 2,
       "version_minor": 0
      },
      "text/plain": [
       "  0%|          | 0/1000000 [00:00<?, ?it/s]"
      ]
     },
     "metadata": {},
     "output_type": "display_data"
    },
    {
     "name": "stdout",
     "output_type": "stream",
     "text": [
      "[('pull1_t0', 'owgaze1_t1'), ('pull2_t0', 'pull2_t1'), ('owgaze1_t0', 'owgaze1_t1')]\n"
     ]
    },
    {
     "data": {
      "application/vnd.jupyter.widget-view+json": {
       "model_id": "2e307bc6acdf435f8ce17f12c555e8c1",
       "version_major": 2,
       "version_minor": 0
      },
      "text/plain": [
       "  0%|          | 0/1000000 [00:00<?, ?it/s]"
      ]
     },
     "metadata": {},
     "output_type": "display_data"
    },
    {
     "name": "stdout",
     "output_type": "stream",
     "text": [
      "[('pull1_t0', 'owgaze1_t1'), ('pull1_t0', 'pull1_t1'), ('pull2_t0', 'pull2_t1'), ('owgaze1_t0', 'owgaze1_t1')]\n"
     ]
    },
    {
     "data": {
      "application/vnd.jupyter.widget-view+json": {
       "model_id": "24320c0b1ad742279431ddf9e32acdb6",
       "version_major": 2,
       "version_minor": 0
      },
      "text/plain": [
       "  0%|          | 0/1000000 [00:00<?, ?it/s]"
      ]
     },
     "metadata": {},
     "output_type": "display_data"
    },
    {
     "name": "stdout",
     "output_type": "stream",
     "text": [
      "[('pull1_t0', 'pull1_t1'), ('pull2_t0', 'pull2_t1')]\n"
     ]
    },
    {
     "data": {
      "application/vnd.jupyter.widget-view+json": {
       "model_id": "869bd42b745e400c9de7b0cdf347bdd4",
       "version_major": 2,
       "version_minor": 0
      },
      "text/plain": [
       "  0%|          | 0/1000000 [00:00<?, ?it/s]"
      ]
     },
     "metadata": {},
     "output_type": "display_data"
    },
    {
     "name": "stdout",
     "output_type": "stream",
     "text": [
      "[('pull2_t0', 'pull2_t1'), ('pull2_t0', 'pull1_t1')]\n"
     ]
    },
    {
     "data": {
      "application/vnd.jupyter.widget-view+json": {
       "model_id": "43abe2e3ff5a47bf9c5d5c6094226cbb",
       "version_major": 2,
       "version_minor": 0
      },
      "text/plain": [
       "  0%|          | 0/1000000 [00:00<?, ?it/s]"
      ]
     },
     "metadata": {},
     "output_type": "display_data"
    },
    {
     "name": "stdout",
     "output_type": "stream",
     "text": [
      "[('pull1_t0', 'pull1_t1'), ('pull2_t0', 'pull2_t1'), ('owgaze1_t0', 'owgaze1_t1')]\n"
     ]
    },
    {
     "data": {
      "application/vnd.jupyter.widget-view+json": {
       "model_id": "b01befc31dcd4cdaad46c326722cf7ab",
       "version_major": 2,
       "version_minor": 0
      },
      "text/plain": [
       "  0%|          | 0/1000000 [00:00<?, ?it/s]"
      ]
     },
     "metadata": {},
     "output_type": "display_data"
    },
    {
     "name": "stdout",
     "output_type": "stream",
     "text": [
      "[('pull1_t0', 'pull1_t1'), ('pull1_t0', 'pull2_t1'), ('pull2_t0', 'pull2_t1')]\n"
     ]
    },
    {
     "data": {
      "application/vnd.jupyter.widget-view+json": {
       "model_id": "d921f80676404352989a4a71aac1e522",
       "version_major": 2,
       "version_minor": 0
      },
      "text/plain": [
       "  0%|          | 0/1000000 [00:00<?, ?it/s]"
      ]
     },
     "metadata": {},
     "output_type": "display_data"
    },
    {
     "name": "stdout",
     "output_type": "stream",
     "text": [
      "[('pull1_t0', 'pull1_t1'), ('pull1_t0', 'pull2_t1'), ('pull2_t0', 'pull2_t1'), ('pull2_t0', 'pull1_t1')]\n"
     ]
    },
    {
     "data": {
      "application/vnd.jupyter.widget-view+json": {
       "model_id": "d2d12d0f9a7a48e1971c0d88318658ad",
       "version_major": 2,
       "version_minor": 0
      },
      "text/plain": [
       "  0%|          | 0/1000000 [00:00<?, ?it/s]"
      ]
     },
     "metadata": {},
     "output_type": "display_data"
    },
    {
     "name": "stdout",
     "output_type": "stream",
     "text": [
      "[('pull1_t0', 'pull1_t1'), ('pull1_t0', 'owgaze1_t1'), ('pull2_t0', 'pull2_t1'), ('pull2_t0', 'pull1_t1')]\n"
     ]
    },
    {
     "data": {
      "application/vnd.jupyter.widget-view+json": {
       "model_id": "588e789f0a5c4e2ba21b831d8d2f9ce9",
       "version_major": 2,
       "version_minor": 0
      },
      "text/plain": [
       "  0%|          | 0/1000000 [00:00<?, ?it/s]"
      ]
     },
     "metadata": {},
     "output_type": "display_data"
    },
    {
     "name": "stdout",
     "output_type": "stream",
     "text": [
      "[('pull1_t0', 'pull1_t1'), ('pull2_t0', 'pull2_t1')]\n"
     ]
    },
    {
     "data": {
      "application/vnd.jupyter.widget-view+json": {
       "model_id": "207ef7dc1fdf4ab9b858758f72b158b1",
       "version_major": 2,
       "version_minor": 0
      },
      "text/plain": [
       "  0%|          | 0/1000000 [00:00<?, ?it/s]"
      ]
     },
     "metadata": {},
     "output_type": "display_data"
    },
    {
     "name": "stdout",
     "output_type": "stream",
     "text": [
      "[('pull1_t0', 'pull1_t1'), ('pull2_t0', 'pull2_t1')]\n"
     ]
    },
    {
     "data": {
      "application/vnd.jupyter.widget-view+json": {
       "model_id": "fd3101ac2ac846e1a7327a828e2b5f4d",
       "version_major": 2,
       "version_minor": 0
      },
      "text/plain": [
       "  0%|          | 0/1000000 [00:00<?, ?it/s]"
      ]
     },
     "metadata": {},
     "output_type": "display_data"
    },
    {
     "name": "stdout",
     "output_type": "stream",
     "text": [
      "[('pull2_t0', 'pull2_t1'), ('pull2_t0', 'pull1_t1')]\n"
     ]
    },
    {
     "data": {
      "application/vnd.jupyter.widget-view+json": {
       "model_id": "095859a565c745df8871c1eb97f4a692",
       "version_major": 2,
       "version_minor": 0
      },
      "text/plain": [
       "  0%|          | 0/1000000 [00:00<?, ?it/s]"
      ]
     },
     "metadata": {},
     "output_type": "display_data"
    },
    {
     "name": "stdout",
     "output_type": "stream",
     "text": [
      "[('pull1_t0', 'pull1_t1'), ('pull2_t0', 'pull2_t1'), ('pull2_t0', 'pull1_t1')]\n"
     ]
    },
    {
     "data": {
      "application/vnd.jupyter.widget-view+json": {
       "model_id": "e4d87c276bc1431fbc04fa8713e9093b",
       "version_major": 2,
       "version_minor": 0
      },
      "text/plain": [
       "  0%|          | 0/1000000 [00:00<?, ?it/s]"
      ]
     },
     "metadata": {},
     "output_type": "display_data"
    },
    {
     "name": "stdout",
     "output_type": "stream",
     "text": [
      "[('pull1_t0', 'pull1_t1'), ('pull2_t0', 'pull2_t1'), ('pull2_t0', 'pull1_t1')]\n"
     ]
    },
    {
     "data": {
      "application/vnd.jupyter.widget-view+json": {
       "model_id": "7376f96cd9514deb8d48330cf8d3e4c5",
       "version_major": 2,
       "version_minor": 0
      },
      "text/plain": [
       "  0%|          | 0/1000000 [00:00<?, ?it/s]"
      ]
     },
     "metadata": {},
     "output_type": "display_data"
    },
    {
     "name": "stdout",
     "output_type": "stream",
     "text": [
      "[('pull1_t0', 'pull1_t1'), ('pull2_t0', 'pull2_t1'), ('pull2_t0', 'pull1_t1')]\n"
     ]
    },
    {
     "data": {
      "application/vnd.jupyter.widget-view+json": {
       "model_id": "13d6503a8c0343e087c06a0cf9bc72a6",
       "version_major": 2,
       "version_minor": 0
      },
      "text/plain": [
       "  0%|          | 0/1000000 [00:00<?, ?it/s]"
      ]
     },
     "metadata": {},
     "output_type": "display_data"
    },
    {
     "name": "stdout",
     "output_type": "stream",
     "text": [
      "[('pull2_t0', 'pull2_t1'), ('pull2_t0', 'pull1_t1')]\n"
     ]
    },
    {
     "data": {
      "application/vnd.jupyter.widget-view+json": {
       "model_id": "3ce7cb9228b04ad7aafae797b1f3603e",
       "version_major": 2,
       "version_minor": 0
      },
      "text/plain": [
       "  0%|          | 0/1000000 [00:00<?, ?it/s]"
      ]
     },
     "metadata": {},
     "output_type": "display_data"
    },
    {
     "name": "stdout",
     "output_type": "stream",
     "text": [
      "[('pull2_t0', 'pull2_t1'), ('pull2_t0', 'pull1_t1')]\n"
     ]
    },
    {
     "data": {
      "application/vnd.jupyter.widget-view+json": {
       "model_id": "e2e99c18324246d8a738edf91049bde9",
       "version_major": 2,
       "version_minor": 0
      },
      "text/plain": [
       "  0%|          | 0/1000000 [00:00<?, ?it/s]"
      ]
     },
     "metadata": {},
     "output_type": "display_data"
    },
    {
     "name": "stdout",
     "output_type": "stream",
     "text": [
      "[('pull2_t0', 'pull2_t1'), ('pull2_t0', 'pull1_t1')]\n"
     ]
    },
    {
     "data": {
      "application/vnd.jupyter.widget-view+json": {
       "model_id": "2d39be4b0ba34904a35b66ff182e4eb0",
       "version_major": 2,
       "version_minor": 0
      },
      "text/plain": [
       "  0%|          | 0/1000000 [00:00<?, ?it/s]"
      ]
     },
     "metadata": {},
     "output_type": "display_data"
    },
    {
     "name": "stdout",
     "output_type": "stream",
     "text": [
      "[('pull2_t0', 'pull2_t1'), ('pull2_t0', 'pull1_t1'), ('owgaze2_t0', 'owgaze1_t1')]\n"
     ]
    },
    {
     "data": {
      "application/vnd.jupyter.widget-view+json": {
       "model_id": "f4d747eb1d214839b8db2872f65d9a8c",
       "version_major": 2,
       "version_minor": 0
      },
      "text/plain": [
       "  0%|          | 0/1000000 [00:00<?, ?it/s]"
      ]
     },
     "metadata": {},
     "output_type": "display_data"
    },
    {
     "name": "stdout",
     "output_type": "stream",
     "text": [
      "[('pull2_t0', 'pull2_t1'), ('pull2_t0', 'pull1_t1')]\n"
     ]
    },
    {
     "data": {
      "application/vnd.jupyter.widget-view+json": {
       "model_id": "e66822a84ab24985970912cab06788a6",
       "version_major": 2,
       "version_minor": 0
      },
      "text/plain": [
       "  0%|          | 0/1000000 [00:00<?, ?it/s]"
      ]
     },
     "metadata": {},
     "output_type": "display_data"
    },
    {
     "name": "stdout",
     "output_type": "stream",
     "text": [
      "[('pull2_t0', 'pull2_t1'), ('pull2_t0', 'pull1_t1')]\n"
     ]
    },
    {
     "data": {
      "application/vnd.jupyter.widget-view+json": {
       "model_id": "ef30ab649f38438abd787d8cd2f62db5",
       "version_major": 2,
       "version_minor": 0
      },
      "text/plain": [
       "  0%|          | 0/1000000 [00:00<?, ?it/s]"
      ]
     },
     "metadata": {},
     "output_type": "display_data"
    },
    {
     "name": "stdout",
     "output_type": "stream",
     "text": [
      "[('pull2_t0', 'pull2_t1'), ('pull2_t0', 'pull1_t1')]\n"
     ]
    },
    {
     "data": {
      "application/vnd.jupyter.widget-view+json": {
       "model_id": "f9621b34a15f45e1a0ad2b989d286e43",
       "version_major": 2,
       "version_minor": 0
      },
      "text/plain": [
       "  0%|          | 0/1000000 [00:00<?, ?it/s]"
      ]
     },
     "metadata": {},
     "output_type": "display_data"
    },
    {
     "name": "stdout",
     "output_type": "stream",
     "text": [
      "[('pull2_t0', 'pull2_t1'), ('pull2_t0', 'pull1_t1')]\n"
     ]
    },
    {
     "data": {
      "application/vnd.jupyter.widget-view+json": {
       "model_id": "5b4b1bba379a4eff921e2c01bc9de915",
       "version_major": 2,
       "version_minor": 0
      },
      "text/plain": [
       "  0%|          | 0/1000000 [00:00<?, ?it/s]"
      ]
     },
     "metadata": {},
     "output_type": "display_data"
    },
    {
     "name": "stdout",
     "output_type": "stream",
     "text": [
      "[('pull2_t0', 'pull2_t1'), ('pull2_t0', 'pull1_t1'), ('owgaze2_t0', 'pull1_t1')]\n"
     ]
    },
    {
     "data": {
      "application/vnd.jupyter.widget-view+json": {
       "model_id": "bcb83e7497a241839d462928f3378f98",
       "version_major": 2,
       "version_minor": 0
      },
      "text/plain": [
       "  0%|          | 0/1000000 [00:00<?, ?it/s]"
      ]
     },
     "metadata": {},
     "output_type": "display_data"
    },
    {
     "name": "stdout",
     "output_type": "stream",
     "text": [
      "[('pull2_t0', 'pull2_t1'), ('pull2_t0', 'pull1_t1')]\n"
     ]
    },
    {
     "data": {
      "application/vnd.jupyter.widget-view+json": {
       "model_id": "dcc86a3806d44d0293ba52e06900ca59",
       "version_major": 2,
       "version_minor": 0
      },
      "text/plain": [
       "  0%|          | 0/1000000 [00:00<?, ?it/s]"
      ]
     },
     "metadata": {},
     "output_type": "display_data"
    },
    {
     "name": "stdout",
     "output_type": "stream",
     "text": [
      "[('pull2_t0', 'pull2_t1'), ('pull2_t0', 'pull1_t1')]\n"
     ]
    },
    {
     "data": {
      "application/vnd.jupyter.widget-view+json": {
       "model_id": "f9d553ecbfab4a0bb527e59c877192b3",
       "version_major": 2,
       "version_minor": 0
      },
      "text/plain": [
       "  0%|          | 0/1000000 [00:00<?, ?it/s]"
      ]
     },
     "metadata": {},
     "output_type": "display_data"
    },
    {
     "name": "stdout",
     "output_type": "stream",
     "text": [
      "[('pull1_t0', 'pull1_t1'), ('pull2_t0', 'pull2_t1')]\n"
     ]
    },
    {
     "data": {
      "application/vnd.jupyter.widget-view+json": {
       "model_id": "b6642b07eac44938b7f360f36cb688d4",
       "version_major": 2,
       "version_minor": 0
      },
      "text/plain": [
       "  0%|          | 0/1000000 [00:00<?, ?it/s]"
      ]
     },
     "metadata": {},
     "output_type": "display_data"
    },
    {
     "name": "stdout",
     "output_type": "stream",
     "text": [
      "[('pull2_t0', 'pull2_t1'), ('pull2_t0', 'pull1_t1'), ('owgaze2_t0', 'pull2_t1')]\n",
      "did not save data\n"
     ]
    },
    {
     "data": {
      "application/vnd.jupyter.widget-view+json": {
       "model_id": "c02fae083a5a4a61b2f65fa5f3bf7eb7",
       "version_major": 2,
       "version_minor": 0
      },
      "text/plain": [
       "  0%|          | 0/1000000 [00:00<?, ?it/s]"
      ]
     },
     "metadata": {},
     "output_type": "display_data"
    },
    {
     "name": "stdout",
     "output_type": "stream",
     "text": [
      "[('owgaze1_t0', 'owgaze1_t1'), ('owgaze2_t0', 'owgaze2_t1')]\n"
     ]
    },
    {
     "data": {
      "application/vnd.jupyter.widget-view+json": {
       "model_id": "0ceccbfa498c488587b9b0c2ff8478dc",
       "version_major": 2,
       "version_minor": 0
      },
      "text/plain": [
       "  0%|          | 0/1000000 [00:00<?, ?it/s]"
      ]
     },
     "metadata": {},
     "output_type": "display_data"
    },
    {
     "name": "stdout",
     "output_type": "stream",
     "text": [
      "[('pull1_t0', 'pull1_t1'), ('owgaze1_t0', 'owgaze1_t1'), ('owgaze1_t0', 'pull2_t1')]\n"
     ]
    },
    {
     "data": {
      "application/vnd.jupyter.widget-view+json": {
       "model_id": "40d1459b711947d5bcb79d2d0c481f2b",
       "version_major": 2,
       "version_minor": 0
      },
      "text/plain": [
       "  0%|          | 0/1000000 [00:00<?, ?it/s]"
      ]
     },
     "metadata": {},
     "output_type": "display_data"
    },
    {
     "name": "stdout",
     "output_type": "stream",
     "text": [
      "[('pull1_t0', 'pull1_t1'), ('owgaze1_t0', 'pull2_t1')]\n"
     ]
    },
    {
     "data": {
      "application/vnd.jupyter.widget-view+json": {
       "model_id": "45ffcb2b83884e47921cb88f484756c5",
       "version_major": 2,
       "version_minor": 0
      },
      "text/plain": [
       "  0%|          | 0/1000000 [00:00<?, ?it/s]"
      ]
     },
     "metadata": {},
     "output_type": "display_data"
    },
    {
     "name": "stdout",
     "output_type": "stream",
     "text": [
      "[('pull1_t0', 'pull1_t1'), ('owgaze1_t0', 'pull2_t1')]\n"
     ]
    },
    {
     "data": {
      "application/vnd.jupyter.widget-view+json": {
       "model_id": "24da46a46b904a94bd5abc4167b33e06",
       "version_major": 2,
       "version_minor": 0
      },
      "text/plain": [
       "  0%|          | 0/1000000 [00:00<?, ?it/s]"
      ]
     },
     "metadata": {},
     "output_type": "display_data"
    },
    {
     "name": "stdout",
     "output_type": "stream",
     "text": [
      "[('pull1_t0', 'pull1_t1'), ('owgaze1_t0', 'owgaze1_t1')]\n"
     ]
    },
    {
     "data": {
      "application/vnd.jupyter.widget-view+json": {
       "model_id": "6caefa1142f744d98234d6bf82b86ecc",
       "version_major": 2,
       "version_minor": 0
      },
      "text/plain": [
       "  0%|          | 0/1000000 [00:00<?, ?it/s]"
      ]
     },
     "metadata": {},
     "output_type": "display_data"
    },
    {
     "name": "stdout",
     "output_type": "stream",
     "text": [
      "[('pull1_t0', 'pull1_t1'), ('owgaze1_t0', 'owgaze1_t1')]\n"
     ]
    },
    {
     "data": {
      "application/vnd.jupyter.widget-view+json": {
       "model_id": "2939126be3844578b1146099ea9ccaf6",
       "version_major": 2,
       "version_minor": 0
      },
      "text/plain": [
       "  0%|          | 0/1000000 [00:00<?, ?it/s]"
      ]
     },
     "metadata": {},
     "output_type": "display_data"
    },
    {
     "name": "stdout",
     "output_type": "stream",
     "text": [
      "[('pull1_t0', 'pull1_t1'), ('pull2_t0', 'owgaze2_t1'), ('owgaze1_t0', 'owgaze1_t1')]\n"
     ]
    },
    {
     "data": {
      "application/vnd.jupyter.widget-view+json": {
       "model_id": "117d78571c904a0f986e5ff5e8e09e8d",
       "version_major": 2,
       "version_minor": 0
      },
      "text/plain": [
       "  0%|          | 0/1000000 [00:00<?, ?it/s]"
      ]
     },
     "metadata": {},
     "output_type": "display_data"
    },
    {
     "name": "stdout",
     "output_type": "stream",
     "text": [
      "[('owgaze1_t0', 'owgaze1_t1')]\n"
     ]
    },
    {
     "data": {
      "application/vnd.jupyter.widget-view+json": {
       "model_id": "981cc39fd6704052ad5422324ec91451",
       "version_major": 2,
       "version_minor": 0
      },
      "text/plain": [
       "  0%|          | 0/1000000 [00:00<?, ?it/s]"
      ]
     },
     "metadata": {},
     "output_type": "display_data"
    },
    {
     "name": "stdout",
     "output_type": "stream",
     "text": [
      "[('owgaze1_t0', 'owgaze1_t1')]\n"
     ]
    },
    {
     "data": {
      "application/vnd.jupyter.widget-view+json": {
       "model_id": "b2424177e0b74551bc2fbdd76114c758",
       "version_major": 2,
       "version_minor": 0
      },
      "text/plain": [
       "  0%|          | 0/1000000 [00:00<?, ?it/s]"
      ]
     },
     "metadata": {},
     "output_type": "display_data"
    },
    {
     "name": "stdout",
     "output_type": "stream",
     "text": [
      "[('pull2_t0', 'pull2_t1')]\n"
     ]
    },
    {
     "data": {
      "application/vnd.jupyter.widget-view+json": {
       "model_id": "3786cac42f9e4eb698b5613fdb8d4309",
       "version_major": 2,
       "version_minor": 0
      },
      "text/plain": [
       "  0%|          | 0/1000000 [00:00<?, ?it/s]"
      ]
     },
     "metadata": {},
     "output_type": "display_data"
    },
    {
     "name": "stdout",
     "output_type": "stream",
     "text": [
      "[('pull2_t0', 'pull2_t1'), ('pull2_t0', 'pull1_t1')]\n"
     ]
    },
    {
     "data": {
      "application/vnd.jupyter.widget-view+json": {
       "model_id": "3d4227a408d0401c807e33acbc5679b5",
       "version_major": 2,
       "version_minor": 0
      },
      "text/plain": [
       "  0%|          | 0/1000000 [00:00<?, ?it/s]"
      ]
     },
     "metadata": {},
     "output_type": "display_data"
    },
    {
     "name": "stdout",
     "output_type": "stream",
     "text": [
      "[('pull2_t0', 'pull2_t1'), ('pull2_t0', 'pull1_t1')]\n"
     ]
    },
    {
     "data": {
      "application/vnd.jupyter.widget-view+json": {
       "model_id": "d188861ac41644a387a131dc2610c902",
       "version_major": 2,
       "version_minor": 0
      },
      "text/plain": [
       "  0%|          | 0/1000000 [00:00<?, ?it/s]"
      ]
     },
     "metadata": {},
     "output_type": "display_data"
    },
    {
     "name": "stdout",
     "output_type": "stream",
     "text": [
      "[('pull1_t0', 'pull2_t1'), ('pull2_t0', 'pull1_t1'), ('pull2_t0', 'pull2_t1')]\n"
     ]
    },
    {
     "data": {
      "application/vnd.jupyter.widget-view+json": {
       "model_id": "315512e83c6e4d9abf4d534bcdec99f9",
       "version_major": 2,
       "version_minor": 0
      },
      "text/plain": [
       "  0%|          | 0/1000000 [00:00<?, ?it/s]"
      ]
     },
     "metadata": {},
     "output_type": "display_data"
    },
    {
     "name": "stdout",
     "output_type": "stream",
     "text": [
      "[('pull1_t0', 'pull2_t1'), ('pull2_t0', 'pull2_t1'), ('pull2_t0', 'pull1_t1')]\n"
     ]
    },
    {
     "data": {
      "application/vnd.jupyter.widget-view+json": {
       "model_id": "72289b427de2483caf7b8b757804e2de",
       "version_major": 2,
       "version_minor": 0
      },
      "text/plain": [
       "  0%|          | 0/1000000 [00:00<?, ?it/s]"
      ]
     },
     "metadata": {},
     "output_type": "display_data"
    },
    {
     "name": "stdout",
     "output_type": "stream",
     "text": [
      "[('pull2_t0', 'pull2_t1'), ('pull2_t0', 'pull1_t1')]\n"
     ]
    },
    {
     "data": {
      "application/vnd.jupyter.widget-view+json": {
       "model_id": "d4c3af9937e54699ba7fe2d41d646b27",
       "version_major": 2,
       "version_minor": 0
      },
      "text/plain": [
       "  0%|          | 0/1000000 [00:00<?, ?it/s]"
      ]
     },
     "metadata": {},
     "output_type": "display_data"
    },
    {
     "name": "stdout",
     "output_type": "stream",
     "text": [
      "[('pull2_t0', 'pull2_t1'), ('pull2_t0', 'pull1_t1')]\n"
     ]
    },
    {
     "data": {
      "application/vnd.jupyter.widget-view+json": {
       "model_id": "1d0190a24e3444afbcc6b7ca29dd8b11",
       "version_major": 2,
       "version_minor": 0
      },
      "text/plain": [
       "  0%|          | 0/1000000 [00:00<?, ?it/s]"
      ]
     },
     "metadata": {},
     "output_type": "display_data"
    },
    {
     "name": "stdout",
     "output_type": "stream",
     "text": [
      "[('pull1_t0', 'owgaze1_t1'), ('pull2_t0', 'pull2_t1'), ('pull2_t0', 'pull1_t1')]\n"
     ]
    },
    {
     "data": {
      "application/vnd.jupyter.widget-view+json": {
       "model_id": "aa95ee4eb1b446b4a5a6d4f57b124393",
       "version_major": 2,
       "version_minor": 0
      },
      "text/plain": [
       "  0%|          | 0/1000000 [00:00<?, ?it/s]"
      ]
     },
     "metadata": {},
     "output_type": "display_data"
    },
    {
     "name": "stdout",
     "output_type": "stream",
     "text": [
      "[('pull1_t0', 'pull2_t1'), ('pull1_t0', 'pull1_t1'), ('pull1_t0', 'owgaze1_t1')]\n"
     ]
    },
    {
     "data": {
      "application/vnd.jupyter.widget-view+json": {
       "model_id": "ae6cfb4db088411cbd76bb258eb2f5a1",
       "version_major": 2,
       "version_minor": 0
      },
      "text/plain": [
       "  0%|          | 0/1000000 [00:00<?, ?it/s]"
      ]
     },
     "metadata": {},
     "output_type": "display_data"
    },
    {
     "name": "stdout",
     "output_type": "stream",
     "text": [
      "[('pull1_t0', 'pull2_t1'), ('pull1_t0', 'pull1_t1'), ('pull1_t0', 'owgaze1_t1'), ('pull2_t0', 'pull1_t1'), ('pull2_t0', 'pull2_t1')]\n"
     ]
    },
    {
     "data": {
      "application/vnd.jupyter.widget-view+json": {
       "model_id": "e4fd5d42ddc540c09c85b9a38c48e797",
       "version_major": 2,
       "version_minor": 0
      },
      "text/plain": [
       "  0%|          | 0/1000000 [00:00<?, ?it/s]"
      ]
     },
     "metadata": {},
     "output_type": "display_data"
    },
    {
     "name": "stdout",
     "output_type": "stream",
     "text": [
      "[('pull1_t0', 'owgaze1_t1'), ('pull2_t0', 'pull2_t1'), ('pull2_t0', 'pull1_t1')]\n"
     ]
    },
    {
     "data": {
      "application/vnd.jupyter.widget-view+json": {
       "model_id": "5c42fc4d5ee74601b65dc19f609453be",
       "version_major": 2,
       "version_minor": 0
      },
      "text/plain": [
       "  0%|          | 0/1000000 [00:00<?, ?it/s]"
      ]
     },
     "metadata": {},
     "output_type": "display_data"
    },
    {
     "name": "stdout",
     "output_type": "stream",
     "text": [
      "[('pull1_t0', 'pull2_t1'), ('pull1_t0', 'pull1_t1')]\n"
     ]
    },
    {
     "data": {
      "application/vnd.jupyter.widget-view+json": {
       "model_id": "cf35879944ee4990b90c7a84fd64b5cd",
       "version_major": 2,
       "version_minor": 0
      },
      "text/plain": [
       "  0%|          | 0/1000000 [00:00<?, ?it/s]"
      ]
     },
     "metadata": {},
     "output_type": "display_data"
    },
    {
     "name": "stdout",
     "output_type": "stream",
     "text": [
      "[('pull1_t0', 'pull1_t1'), ('pull1_t0', 'owgaze1_t1'), ('pull2_t0', 'pull2_t1')]\n"
     ]
    },
    {
     "data": {
      "application/vnd.jupyter.widget-view+json": {
       "model_id": "f6c8178a01b14828980724fab0cc9b1e",
       "version_major": 2,
       "version_minor": 0
      },
      "text/plain": [
       "  0%|          | 0/1000000 [00:00<?, ?it/s]"
      ]
     },
     "metadata": {},
     "output_type": "display_data"
    },
    {
     "name": "stdout",
     "output_type": "stream",
     "text": [
      "[('pull1_t0', 'pull2_t1'), ('pull2_t0', 'pull1_t1')]\n"
     ]
    },
    {
     "data": {
      "application/vnd.jupyter.widget-view+json": {
       "model_id": "7c9cccc42cad420dae96b4f6bea48606",
       "version_major": 2,
       "version_minor": 0
      },
      "text/plain": [
       "  0%|          | 0/1000000 [00:00<?, ?it/s]"
      ]
     },
     "metadata": {},
     "output_type": "display_data"
    },
    {
     "name": "stdout",
     "output_type": "stream",
     "text": [
      "[('pull1_t0', 'pull2_t1'), ('pull1_t0', 'pull1_t1')]\n"
     ]
    },
    {
     "data": {
      "application/vnd.jupyter.widget-view+json": {
       "model_id": "ef19701ccde94da7bd3f1db80f0dac2d",
       "version_major": 2,
       "version_minor": 0
      },
      "text/plain": [
       "  0%|          | 0/1000000 [00:00<?, ?it/s]"
      ]
     },
     "metadata": {},
     "output_type": "display_data"
    },
    {
     "name": "stdout",
     "output_type": "stream",
     "text": [
      "[('pull1_t0', 'pull2_t1'), ('pull1_t0', 'pull1_t1'), ('pull2_t0', 'owgaze1_t1')]\n"
     ]
    },
    {
     "data": {
      "application/vnd.jupyter.widget-view+json": {
       "model_id": "038b933aaa434ea1a6ba02fa48bdd2e1",
       "version_major": 2,
       "version_minor": 0
      },
      "text/plain": [
       "  0%|          | 0/1000000 [00:00<?, ?it/s]"
      ]
     },
     "metadata": {},
     "output_type": "display_data"
    },
    {
     "name": "stdout",
     "output_type": "stream",
     "text": [
      "[('pull1_t0', 'pull1_t1'), ('pull1_t0', 'pull2_t1')]\n"
     ]
    },
    {
     "data": {
      "application/vnd.jupyter.widget-view+json": {
       "model_id": "629329766324493da2857cbb25208f87",
       "version_major": 2,
       "version_minor": 0
      },
      "text/plain": [
       "  0%|          | 0/1000000 [00:00<?, ?it/s]"
      ]
     },
     "metadata": {},
     "output_type": "display_data"
    },
    {
     "name": "stdout",
     "output_type": "stream",
     "text": [
      "[('pull1_t0', 'pull1_t1'), ('pull1_t0', 'pull2_t1')]\n"
     ]
    },
    {
     "data": {
      "application/vnd.jupyter.widget-view+json": {
       "model_id": "8fcf627168ca4224880abc1dbb834748",
       "version_major": 2,
       "version_minor": 0
      },
      "text/plain": [
       "  0%|          | 0/1000000 [00:00<?, ?it/s]"
      ]
     },
     "metadata": {},
     "output_type": "display_data"
    },
    {
     "name": "stdout",
     "output_type": "stream",
     "text": [
      "[('pull1_t0', 'pull1_t1'), ('pull1_t0', 'pull2_t1'), ('pull2_t0', 'owgaze1_t1')]\n"
     ]
    },
    {
     "data": {
      "application/vnd.jupyter.widget-view+json": {
       "model_id": "5e641716ab9546099b596eb0974392bd",
       "version_major": 2,
       "version_minor": 0
      },
      "text/plain": [
       "  0%|          | 0/1000000 [00:00<?, ?it/s]"
      ]
     },
     "metadata": {},
     "output_type": "display_data"
    },
    {
     "name": "stdout",
     "output_type": "stream",
     "text": [
      "[('pull1_t0', 'pull2_t1'), ('pull2_t0', 'pull1_t1'), ('pull2_t0', 'owgaze1_t1')]\n"
     ]
    },
    {
     "data": {
      "application/vnd.jupyter.widget-view+json": {
       "model_id": "92f1784f1d064671b803f457003b6f39",
       "version_major": 2,
       "version_minor": 0
      },
      "text/plain": [
       "  0%|          | 0/1000000 [00:00<?, ?it/s]"
      ]
     },
     "metadata": {},
     "output_type": "display_data"
    },
    {
     "name": "stdout",
     "output_type": "stream",
     "text": [
      "[('pull1_t0', 'pull1_t1'), ('pull1_t0', 'pull2_t1'), ('pull1_t0', 'owgaze1_t1'), ('owgaze2_t0', 'pull1_t1')]\n"
     ]
    },
    {
     "data": {
      "application/vnd.jupyter.widget-view+json": {
       "model_id": "a0ec18b20805440bb8aa2c47cfda822e",
       "version_major": 2,
       "version_minor": 0
      },
      "text/plain": [
       "  0%|          | 0/1000000 [00:00<?, ?it/s]"
      ]
     },
     "metadata": {},
     "output_type": "display_data"
    },
    {
     "name": "stdout",
     "output_type": "stream",
     "text": [
      "[('pull1_t0', 'pull1_t1'), ('pull1_t0', 'pull2_t1'), ('pull2_t0', 'owgaze1_t1'), ('owgaze2_t0', 'pull1_t1')]\n"
     ]
    },
    {
     "data": {
      "application/vnd.jupyter.widget-view+json": {
       "model_id": "ff1b91b277fd400f9f1c698bcbab76a7",
       "version_major": 2,
       "version_minor": 0
      },
      "text/plain": [
       "  0%|          | 0/1000000 [00:00<?, ?it/s]"
      ]
     },
     "metadata": {},
     "output_type": "display_data"
    },
    {
     "name": "stdout",
     "output_type": "stream",
     "text": [
      "[('pull1_t0', 'pull1_t1'), ('pull1_t0', 'pull2_t1')]\n"
     ]
    },
    {
     "data": {
      "application/vnd.jupyter.widget-view+json": {
       "model_id": "5cf177af314e4b22b43834fd08ad36a3",
       "version_major": 2,
       "version_minor": 0
      },
      "text/plain": [
       "  0%|          | 0/1000000 [00:00<?, ?it/s]"
      ]
     },
     "metadata": {},
     "output_type": "display_data"
    },
    {
     "name": "stdout",
     "output_type": "stream",
     "text": [
      "[('pull1_t0', 'pull1_t1'), ('pull1_t0', 'pull2_t1')]\n"
     ]
    },
    {
     "data": {
      "application/vnd.jupyter.widget-view+json": {
       "model_id": "09fe8ceb805c4b27856c936673f90555",
       "version_major": 2,
       "version_minor": 0
      },
      "text/plain": [
       "  0%|          | 0/1000000 [00:00<?, ?it/s]"
      ]
     },
     "metadata": {},
     "output_type": "display_data"
    },
    {
     "name": "stdout",
     "output_type": "stream",
     "text": [
      "[('pull1_t0', 'pull1_t1'), ('pull1_t0', 'pull2_t1'), ('pull2_t0', 'owgaze1_t1')]\n"
     ]
    },
    {
     "data": {
      "application/vnd.jupyter.widget-view+json": {
       "model_id": "1c4ab7b4ce254f2aa2230b8c915e97ce",
       "version_major": 2,
       "version_minor": 0
      },
      "text/plain": [
       "  0%|          | 0/1000000 [00:00<?, ?it/s]"
      ]
     },
     "metadata": {},
     "output_type": "display_data"
    },
    {
     "name": "stdout",
     "output_type": "stream",
     "text": [
      "[('pull1_t0', 'pull1_t1'), ('pull1_t0', 'pull2_t1')]\n"
     ]
    },
    {
     "data": {
      "application/vnd.jupyter.widget-view+json": {
       "model_id": "7b683f0d5f1e4732acd00bd6d2334166",
       "version_major": 2,
       "version_minor": 0
      },
      "text/plain": [
       "  0%|          | 0/1000000 [00:00<?, ?it/s]"
      ]
     },
     "metadata": {},
     "output_type": "display_data"
    },
    {
     "name": "stdout",
     "output_type": "stream",
     "text": [
      "[('pull1_t0', 'pull1_t1'), ('pull1_t0', 'pull2_t1')]\n"
     ]
    },
    {
     "data": {
      "application/vnd.jupyter.widget-view+json": {
       "model_id": "25dbf24e7a3546008d3411c849a572dd",
       "version_major": 2,
       "version_minor": 0
      },
      "text/plain": [
       "  0%|          | 0/1000000 [00:00<?, ?it/s]"
      ]
     },
     "metadata": {},
     "output_type": "display_data"
    },
    {
     "name": "stdout",
     "output_type": "stream",
     "text": [
      "[('pull1_t0', 'pull1_t1'), ('pull1_t0', 'pull2_t1'), ('owgaze1_t0', 'pull2_t1')]\n"
     ]
    },
    {
     "data": {
      "application/vnd.jupyter.widget-view+json": {
       "model_id": "78f81469f1444d238e4dc89d7fbff31d",
       "version_major": 2,
       "version_minor": 0
      },
      "text/plain": [
       "  0%|          | 0/1000000 [00:00<?, ?it/s]"
      ]
     },
     "metadata": {},
     "output_type": "display_data"
    },
    {
     "name": "stdout",
     "output_type": "stream",
     "text": [
      "[('pull1_t0', 'pull1_t1'), ('pull1_t0', 'pull2_t1')]\n"
     ]
    },
    {
     "data": {
      "application/vnd.jupyter.widget-view+json": {
       "model_id": "b205b84ce05b42ee94c9357c44fb9d27",
       "version_major": 2,
       "version_minor": 0
      },
      "text/plain": [
       "  0%|          | 0/1000000 [00:00<?, ?it/s]"
      ]
     },
     "metadata": {},
     "output_type": "display_data"
    },
    {
     "name": "stdout",
     "output_type": "stream",
     "text": [
      "[('pull1_t0', 'pull1_t1'), ('pull1_t0', 'pull2_t1'), ('owgaze1_t0', 'pull2_t1')]\n"
     ]
    },
    {
     "data": {
      "application/vnd.jupyter.widget-view+json": {
       "model_id": "64e0ffa363684165b6622e985f29c353",
       "version_major": 2,
       "version_minor": 0
      },
      "text/plain": [
       "  0%|          | 0/1000000 [00:00<?, ?it/s]"
      ]
     },
     "metadata": {},
     "output_type": "display_data"
    },
    {
     "name": "stdout",
     "output_type": "stream",
     "text": [
      "[('pull1_t0', 'pull1_t1'), ('pull1_t0', 'pull2_t1'), ('pull2_t0', 'owgaze1_t1'), ('owgaze1_t0', 'owgaze2_t1')]\n",
      "did not save data\n"
     ]
    },
    {
     "data": {
      "application/vnd.jupyter.widget-view+json": {
       "model_id": "a3d3a56ee6f94c12b69244f50bf19c1e",
       "version_major": 2,
       "version_minor": 0
      },
      "text/plain": [
       "  0%|          | 0/1000000 [00:00<?, ?it/s]"
      ]
     },
     "metadata": {},
     "output_type": "display_data"
    },
    {
     "name": "stdout",
     "output_type": "stream",
     "text": [
      "[('owgaze1_t0', 'owgaze1_t1')]\n"
     ]
    },
    {
     "data": {
      "application/vnd.jupyter.widget-view+json": {
       "model_id": "a73fa9ab82754c039fc42b61898067e2",
       "version_major": 2,
       "version_minor": 0
      },
      "text/plain": [
       "  0%|          | 0/1000000 [00:00<?, ?it/s]"
      ]
     },
     "metadata": {},
     "output_type": "display_data"
    },
    {
     "name": "stdout",
     "output_type": "stream",
     "text": [
      "[('pull1_t0', 'pull2_t1'), ('owgaze1_t0', 'owgaze1_t1')]\n"
     ]
    },
    {
     "data": {
      "application/vnd.jupyter.widget-view+json": {
       "model_id": "1520a4f0b7a24983a3ee987de03a8ff8",
       "version_major": 2,
       "version_minor": 0
      },
      "text/plain": [
       "  0%|          | 0/1000000 [00:00<?, ?it/s]"
      ]
     },
     "metadata": {},
     "output_type": "display_data"
    },
    {
     "name": "stdout",
     "output_type": "stream",
     "text": [
      "[('pull1_t0', 'pull2_t1'), ('pull1_t0', 'pull1_t1'), ('owgaze1_t0', 'owgaze1_t1')]\n"
     ]
    },
    {
     "data": {
      "application/vnd.jupyter.widget-view+json": {
       "model_id": "05a349137bf04bf685f1ee1cf554d7c9",
       "version_major": 2,
       "version_minor": 0
      },
      "text/plain": [
       "  0%|          | 0/1000000 [00:00<?, ?it/s]"
      ]
     },
     "metadata": {},
     "output_type": "display_data"
    },
    {
     "name": "stdout",
     "output_type": "stream",
     "text": [
      "[('pull1_t0', 'pull1_t1'), ('pull1_t0', 'pull2_t1'), ('owgaze1_t0', 'owgaze1_t1')]\n"
     ]
    },
    {
     "data": {
      "application/vnd.jupyter.widget-view+json": {
       "model_id": "0072db2ce1c6482e85d5cbb2aa235381",
       "version_major": 2,
       "version_minor": 0
      },
      "text/plain": [
       "  0%|          | 0/1000000 [00:00<?, ?it/s]"
      ]
     },
     "metadata": {},
     "output_type": "display_data"
    },
    {
     "name": "stdout",
     "output_type": "stream",
     "text": [
      "[('pull1_t0', 'pull2_t1'), ('pull2_t0', 'pull1_t1'), ('owgaze1_t0', 'owgaze1_t1')]\n"
     ]
    },
    {
     "data": {
      "application/vnd.jupyter.widget-view+json": {
       "model_id": "705520264e00436d85a065262cce3e95",
       "version_major": 2,
       "version_minor": 0
      },
      "text/plain": [
       "  0%|          | 0/1000000 [00:00<?, ?it/s]"
      ]
     },
     "metadata": {},
     "output_type": "display_data"
    },
    {
     "name": "stdout",
     "output_type": "stream",
     "text": [
      "[('pull1_t0', 'pull2_t1'), ('owgaze1_t0', 'owgaze1_t1')]\n"
     ]
    },
    {
     "data": {
      "application/vnd.jupyter.widget-view+json": {
       "model_id": "598f70b6ca6f4713b09aeeb7a88ca277",
       "version_major": 2,
       "version_minor": 0
      },
      "text/plain": [
       "  0%|          | 0/1000000 [00:00<?, ?it/s]"
      ]
     },
     "metadata": {},
     "output_type": "display_data"
    },
    {
     "name": "stdout",
     "output_type": "stream",
     "text": [
      "[('pull1_t0', 'pull1_t1'), ('pull2_t0', 'pull1_t1'), ('owgaze1_t0', 'owgaze1_t1'), ('owgaze1_t0', 'pull2_t1')]\n"
     ]
    },
    {
     "data": {
      "application/vnd.jupyter.widget-view+json": {
       "model_id": "0b0cffd58806493c87b5cd1489124e26",
       "version_major": 2,
       "version_minor": 0
      },
      "text/plain": [
       "  0%|          | 0/1000000 [00:00<?, ?it/s]"
      ]
     },
     "metadata": {},
     "output_type": "display_data"
    },
    {
     "name": "stdout",
     "output_type": "stream",
     "text": [
      "[('pull2_t0', 'pull1_t1'), ('pull2_t0', 'pull2_t1'), ('owgaze1_t0', 'owgaze1_t1')]\n"
     ]
    },
    {
     "data": {
      "application/vnd.jupyter.widget-view+json": {
       "model_id": "6e2bbc7f9d5b4dc48301f82d708fc333",
       "version_major": 2,
       "version_minor": 0
      },
      "text/plain": [
       "  0%|          | 0/1000000 [00:00<?, ?it/s]"
      ]
     },
     "metadata": {},
     "output_type": "display_data"
    },
    {
     "name": "stdout",
     "output_type": "stream",
     "text": [
      "[('pull1_t0', 'pull2_t1'), ('pull2_t0', 'pull2_t1'), ('owgaze1_t0', 'owgaze1_t1')]\n"
     ]
    },
    {
     "data": {
      "application/vnd.jupyter.widget-view+json": {
       "model_id": "8e323014ee4d465fa15f14a92d3a4079",
       "version_major": 2,
       "version_minor": 0
      },
      "text/plain": [
       "  0%|          | 0/1000000 [00:00<?, ?it/s]"
      ]
     },
     "metadata": {},
     "output_type": "display_data"
    },
    {
     "name": "stdout",
     "output_type": "stream",
     "text": [
      "[('pull2_t0', 'pull2_t1'), ('owgaze1_t0', 'owgaze1_t1')]\n"
     ]
    },
    {
     "data": {
      "application/vnd.jupyter.widget-view+json": {
       "model_id": "38759b0aeb0149688a5558922fb9fc3e",
       "version_major": 2,
       "version_minor": 0
      },
      "text/plain": [
       "  0%|          | 0/1000000 [00:00<?, ?it/s]"
      ]
     },
     "metadata": {},
     "output_type": "display_data"
    },
    {
     "name": "stdout",
     "output_type": "stream",
     "text": [
      "[('pull1_t0', 'pull2_t1'), ('pull2_t0', 'pull2_t1'), ('pull2_t0', 'pull1_t1'), ('owgaze1_t0', 'owgaze1_t1')]\n"
     ]
    },
    {
     "data": {
      "application/vnd.jupyter.widget-view+json": {
       "model_id": "c6533994f0b34c6e80d03a75a37a8896",
       "version_major": 2,
       "version_minor": 0
      },
      "text/plain": [
       "  0%|          | 0/1000000 [00:00<?, ?it/s]"
      ]
     },
     "metadata": {},
     "output_type": "display_data"
    },
    {
     "name": "stdout",
     "output_type": "stream",
     "text": [
      "[('pull2_t0', 'pull2_t1')]\n"
     ]
    },
    {
     "data": {
      "application/vnd.jupyter.widget-view+json": {
       "model_id": "1740afe2eac74bdaa72a0751c87dc7f5",
       "version_major": 2,
       "version_minor": 0
      },
      "text/plain": [
       "  0%|          | 0/1000000 [00:00<?, ?it/s]"
      ]
     },
     "metadata": {},
     "output_type": "display_data"
    },
    {
     "name": "stdout",
     "output_type": "stream",
     "text": [
      "[('pull1_t0', 'pull2_t1'), ('pull2_t0', 'pull2_t1'), ('pull2_t0', 'pull1_t1'), ('owgaze1_t0', 'owgaze2_t1')]\n"
     ]
    },
    {
     "data": {
      "application/vnd.jupyter.widget-view+json": {
       "model_id": "7993190bbad64b24bd405ff8b3d60a2e",
       "version_major": 2,
       "version_minor": 0
      },
      "text/plain": [
       "  0%|          | 0/1000000 [00:00<?, ?it/s]"
      ]
     },
     "metadata": {},
     "output_type": "display_data"
    },
    {
     "name": "stdout",
     "output_type": "stream",
     "text": [
      "[('pull1_t0', 'pull2_t1'), ('pull2_t0', 'pull1_t1'), ('pull2_t0', 'pull2_t1'), ('owgaze1_t0', 'owgaze1_t1')]\n"
     ]
    },
    {
     "data": {
      "application/vnd.jupyter.widget-view+json": {
       "model_id": "ebbf16d2abdb4d379d51f028c10e4a1c",
       "version_major": 2,
       "version_minor": 0
      },
      "text/plain": [
       "  0%|          | 0/1000000 [00:00<?, ?it/s]"
      ]
     },
     "metadata": {},
     "output_type": "display_data"
    },
    {
     "name": "stdout",
     "output_type": "stream",
     "text": [
      "[('pull1_t0', 'owgaze1_t1'), ('pull2_t0', 'pull2_t1'), ('pull2_t0', 'pull1_t1')]\n"
     ]
    },
    {
     "data": {
      "application/vnd.jupyter.widget-view+json": {
       "model_id": "2e95a4efb08c42bfaefd9a838812670e",
       "version_major": 2,
       "version_minor": 0
      },
      "text/plain": [
       "  0%|          | 0/1000000 [00:00<?, ?it/s]"
      ]
     },
     "metadata": {},
     "output_type": "display_data"
    },
    {
     "name": "stdout",
     "output_type": "stream",
     "text": [
      "[('pull1_t0', 'owgaze1_t1'), ('pull2_t0', 'pull2_t1'), ('pull2_t0', 'pull1_t1')]\n"
     ]
    },
    {
     "data": {
      "application/vnd.jupyter.widget-view+json": {
       "model_id": "ee1eceee50f54a24a9436ef2cbcbcac1",
       "version_major": 2,
       "version_minor": 0
      },
      "text/plain": [
       "  0%|          | 0/1000000 [00:00<?, ?it/s]"
      ]
     },
     "metadata": {},
     "output_type": "display_data"
    },
    {
     "name": "stdout",
     "output_type": "stream",
     "text": [
      "[('pull2_t0', 'pull2_t1'), ('pull2_t0', 'pull1_t1')]\n"
     ]
    },
    {
     "data": {
      "application/vnd.jupyter.widget-view+json": {
       "model_id": "8995948407ae4bb79834fd54e081bb22",
       "version_major": 2,
       "version_minor": 0
      },
      "text/plain": [
       "  0%|          | 0/1000000 [00:00<?, ?it/s]"
      ]
     },
     "metadata": {},
     "output_type": "display_data"
    },
    {
     "name": "stdout",
     "output_type": "stream",
     "text": [
      "[('pull2_t0', 'pull2_t1'), ('pull2_t0', 'pull1_t1')]\n"
     ]
    },
    {
     "data": {
      "application/vnd.jupyter.widget-view+json": {
       "model_id": "63384a62e3ba4b34b053897e1a60f254",
       "version_major": 2,
       "version_minor": 0
      },
      "text/plain": [
       "  0%|          | 0/1000000 [00:00<?, ?it/s]"
      ]
     },
     "metadata": {},
     "output_type": "display_data"
    },
    {
     "name": "stdout",
     "output_type": "stream",
     "text": [
      "[('pull1_t0', 'owgaze1_t1'), ('pull2_t0', 'pull2_t1'), ('pull2_t0', 'pull1_t1')]\n"
     ]
    },
    {
     "data": {
      "application/vnd.jupyter.widget-view+json": {
       "model_id": "40b12fc23eb347c6a95654e50a24d33b",
       "version_major": 2,
       "version_minor": 0
      },
      "text/plain": [
       "  0%|          | 0/1000000 [00:00<?, ?it/s]"
      ]
     },
     "metadata": {},
     "output_type": "display_data"
    },
    {
     "name": "stdout",
     "output_type": "stream",
     "text": [
      "[('pull1_t0', 'owgaze1_t1'), ('pull2_t0', 'pull2_t1'), ('pull2_t0', 'pull1_t1')]\n"
     ]
    },
    {
     "data": {
      "application/vnd.jupyter.widget-view+json": {
       "model_id": "e93612b9e85549308412ccb86a6f1f42",
       "version_major": 2,
       "version_minor": 0
      },
      "text/plain": [
       "  0%|          | 0/1000000 [00:00<?, ?it/s]"
      ]
     },
     "metadata": {},
     "output_type": "display_data"
    },
    {
     "name": "stdout",
     "output_type": "stream",
     "text": [
      "[('pull1_t0', 'pull2_t1'), ('pull2_t0', 'pull2_t1'), ('pull2_t0', 'pull1_t1'), ('pull2_t0', 'owgaze1_t1')]\n"
     ]
    },
    {
     "data": {
      "application/vnd.jupyter.widget-view+json": {
       "model_id": "a9e4b42ec1e64a3393689f3de5ed3d9d",
       "version_major": 2,
       "version_minor": 0
      },
      "text/plain": [
       "  0%|          | 0/1000000 [00:00<?, ?it/s]"
      ]
     },
     "metadata": {},
     "output_type": "display_data"
    },
    {
     "name": "stdout",
     "output_type": "stream",
     "text": [
      "[('pull1_t0', 'owgaze1_t1'), ('pull2_t0', 'pull2_t1'), ('pull2_t0', 'pull1_t1')]\n"
     ]
    },
    {
     "data": {
      "application/vnd.jupyter.widget-view+json": {
       "model_id": "dcbbc86658814acb91fde5a13f8c8c6a",
       "version_major": 2,
       "version_minor": 0
      },
      "text/plain": [
       "  0%|          | 0/1000000 [00:00<?, ?it/s]"
      ]
     },
     "metadata": {},
     "output_type": "display_data"
    },
    {
     "name": "stdout",
     "output_type": "stream",
     "text": [
      "[('pull1_t0', 'owgaze1_t1'), ('pull2_t0', 'pull2_t1'), ('pull2_t0', 'pull1_t1')]\n"
     ]
    },
    {
     "data": {
      "application/vnd.jupyter.widget-view+json": {
       "model_id": "efe036539ef447bc94f65a32761df365",
       "version_major": 2,
       "version_minor": 0
      },
      "text/plain": [
       "  0%|          | 0/1000000 [00:00<?, ?it/s]"
      ]
     },
     "metadata": {},
     "output_type": "display_data"
    },
    {
     "name": "stdout",
     "output_type": "stream",
     "text": [
      "[('pull2_t0', 'pull2_t1'), ('pull2_t0', 'pull1_t1'), ('owgaze1_t0', 'pull1_t1')]\n"
     ]
    },
    {
     "data": {
      "application/vnd.jupyter.widget-view+json": {
       "model_id": "5c1460847bb54593bfc903ae4384e35f",
       "version_major": 2,
       "version_minor": 0
      },
      "text/plain": [
       "  0%|          | 0/1000000 [00:00<?, ?it/s]"
      ]
     },
     "metadata": {},
     "output_type": "display_data"
    },
    {
     "name": "stdout",
     "output_type": "stream",
     "text": [
      "[('pull2_t0', 'pull2_t1'), ('pull2_t0', 'pull1_t1')]\n"
     ]
    },
    {
     "data": {
      "application/vnd.jupyter.widget-view+json": {
       "model_id": "62e24f7db04d4cf18007a60452f7a278",
       "version_major": 2,
       "version_minor": 0
      },
      "text/plain": [
       "  0%|          | 0/1000000 [00:00<?, ?it/s]"
      ]
     },
     "metadata": {},
     "output_type": "display_data"
    },
    {
     "name": "stdout",
     "output_type": "stream",
     "text": [
      "[('pull2_t0', 'pull2_t1'), ('pull2_t0', 'pull1_t1'), ('owgaze1_t0', 'pull1_t1')]\n"
     ]
    },
    {
     "data": {
      "application/vnd.jupyter.widget-view+json": {
       "model_id": "4ad103b41b754ee68da3ed0f3d53014f",
       "version_major": 2,
       "version_minor": 0
      },
      "text/plain": [
       "  0%|          | 0/1000000 [00:00<?, ?it/s]"
      ]
     },
     "metadata": {},
     "output_type": "display_data"
    },
    {
     "name": "stdout",
     "output_type": "stream",
     "text": [
      "[('pull2_t0', 'pull2_t1'), ('pull2_t0', 'pull1_t1')]\n"
     ]
    },
    {
     "data": {
      "application/vnd.jupyter.widget-view+json": {
       "model_id": "e0cf7b0d4511424f97d20eff836de4c6",
       "version_major": 2,
       "version_minor": 0
      },
      "text/plain": [
       "  0%|          | 0/1000000 [00:00<?, ?it/s]"
      ]
     },
     "metadata": {},
     "output_type": "display_data"
    },
    {
     "name": "stdout",
     "output_type": "stream",
     "text": [
      "[('pull2_t0', 'pull2_t1'), ('pull2_t0', 'pull1_t1'), ('owgaze2_t0', 'owgaze2_t1')]\n"
     ]
    },
    {
     "data": {
      "application/vnd.jupyter.widget-view+json": {
       "model_id": "fbd3305f347943e3b65d585018f9793e",
       "version_major": 2,
       "version_minor": 0
      },
      "text/plain": [
       "  0%|          | 0/1000000 [00:00<?, ?it/s]"
      ]
     },
     "metadata": {},
     "output_type": "display_data"
    },
    {
     "name": "stdout",
     "output_type": "stream",
     "text": [
      "[('pull2_t0', 'pull2_t1'), ('pull2_t0', 'pull1_t1')]\n"
     ]
    },
    {
     "data": {
      "application/vnd.jupyter.widget-view+json": {
       "model_id": "2a9b3a2b8c0b4ee488c668a44a264040",
       "version_major": 2,
       "version_minor": 0
      },
      "text/plain": [
       "  0%|          | 0/1000000 [00:00<?, ?it/s]"
      ]
     },
     "metadata": {},
     "output_type": "display_data"
    },
    {
     "name": "stdout",
     "output_type": "stream",
     "text": [
      "[('pull1_t0', 'pull2_t1'), ('pull2_t0', 'pull1_t1'), ('pull2_t0', 'owgaze1_t1')]\n"
     ]
    },
    {
     "data": {
      "application/vnd.jupyter.widget-view+json": {
       "model_id": "da11479b66724bc29528638f55f18043",
       "version_major": 2,
       "version_minor": 0
      },
      "text/plain": [
       "  0%|          | 0/1000000 [00:00<?, ?it/s]"
      ]
     },
     "metadata": {},
     "output_type": "display_data"
    },
    {
     "name": "stdout",
     "output_type": "stream",
     "text": [
      "[('pull1_t0', 'pull2_t1'), ('pull2_t0', 'pull1_t1')]\n"
     ]
    },
    {
     "data": {
      "application/vnd.jupyter.widget-view+json": {
       "model_id": "4bac7034b81e43e5a245abf651db25e2",
       "version_major": 2,
       "version_minor": 0
      },
      "text/plain": [
       "  0%|          | 0/1000000 [00:00<?, ?it/s]"
      ]
     },
     "metadata": {},
     "output_type": "display_data"
    },
    {
     "name": "stdout",
     "output_type": "stream",
     "text": [
      "[('pull1_t0', 'pull1_t1'), ('pull1_t0', 'pull2_t1')]\n"
     ]
    },
    {
     "data": {
      "application/vnd.jupyter.widget-view+json": {
       "model_id": "d915d73c52da4b3fb06c37156a18974e",
       "version_major": 2,
       "version_minor": 0
      },
      "text/plain": [
       "  0%|          | 0/1000000 [00:00<?, ?it/s]"
      ]
     },
     "metadata": {},
     "output_type": "display_data"
    },
    {
     "name": "stdout",
     "output_type": "stream",
     "text": [
      "[('pull2_t0', 'pull2_t1'), ('pull2_t0', 'pull1_t1'), ('owgaze1_t0', 'owgaze2_t1')]\n"
     ]
    },
    {
     "data": {
      "application/vnd.jupyter.widget-view+json": {
       "model_id": "91fb43de8b314cf0b01ffa94b0300e09",
       "version_major": 2,
       "version_minor": 0
      },
      "text/plain": [
       "  0%|          | 0/1000000 [00:00<?, ?it/s]"
      ]
     },
     "metadata": {},
     "output_type": "display_data"
    },
    {
     "name": "stdout",
     "output_type": "stream",
     "text": [
      "[('pull2_t0', 'pull2_t1'), ('pull2_t0', 'pull1_t1')]\n"
     ]
    },
    {
     "data": {
      "application/vnd.jupyter.widget-view+json": {
       "model_id": "b97edd40b18041f485052d23216cf0e4",
       "version_major": 2,
       "version_minor": 0
      },
      "text/plain": [
       "  0%|          | 0/1000000 [00:00<?, ?it/s]"
      ]
     },
     "metadata": {},
     "output_type": "display_data"
    },
    {
     "name": "stdout",
     "output_type": "stream",
     "text": [
      "[('pull2_t0', 'pull2_t1'), ('pull2_t0', 'pull1_t1')]\n"
     ]
    },
    {
     "data": {
      "application/vnd.jupyter.widget-view+json": {
       "model_id": "92cb22b9788b4c1b99cd681277bf783f",
       "version_major": 2,
       "version_minor": 0
      },
      "text/plain": [
       "  0%|          | 0/1000000 [00:00<?, ?it/s]"
      ]
     },
     "metadata": {},
     "output_type": "display_data"
    },
    {
     "name": "stdout",
     "output_type": "stream",
     "text": [
      "[('pull1_t0', 'pull2_t1'), ('pull2_t0', 'pull1_t1')]\n"
     ]
    },
    {
     "data": {
      "application/vnd.jupyter.widget-view+json": {
       "model_id": "4f06d4a97c35490db6a04246b13b6321",
       "version_major": 2,
       "version_minor": 0
      },
      "text/plain": [
       "  0%|          | 0/1000000 [00:00<?, ?it/s]"
      ]
     },
     "metadata": {},
     "output_type": "display_data"
    },
    {
     "name": "stdout",
     "output_type": "stream",
     "text": [
      "[('pull1_t0', 'pull2_t1'), ('pull2_t0', 'pull1_t1'), ('pull2_t0', 'owgaze1_t1')]\n"
     ]
    },
    {
     "data": {
      "application/vnd.jupyter.widget-view+json": {
       "model_id": "afdf9b8a513048b4b30fe6a83e758c64",
       "version_major": 2,
       "version_minor": 0
      },
      "text/plain": [
       "  0%|          | 0/1000000 [00:00<?, ?it/s]"
      ]
     },
     "metadata": {},
     "output_type": "display_data"
    },
    {
     "name": "stdout",
     "output_type": "stream",
     "text": [
      "[('pull2_t0', 'pull2_t1'), ('pull2_t0', 'pull1_t1')]\n"
     ]
    },
    {
     "data": {
      "application/vnd.jupyter.widget-view+json": {
       "model_id": "5404be0403fd49ba8c3a95f4149d87d7",
       "version_major": 2,
       "version_minor": 0
      },
      "text/plain": [
       "  0%|          | 0/1000000 [00:00<?, ?it/s]"
      ]
     },
     "metadata": {},
     "output_type": "display_data"
    },
    {
     "name": "stdout",
     "output_type": "stream",
     "text": [
      "[('pull2_t0', 'pull1_t1'), ('pull2_t0', 'pull2_t1'), ('owgaze1_t0', 'owgaze2_t1')]\n"
     ]
    },
    {
     "data": {
      "application/vnd.jupyter.widget-view+json": {
       "model_id": "1ce35db5b2f443b5b58748275acfa419",
       "version_major": 2,
       "version_minor": 0
      },
      "text/plain": [
       "  0%|          | 0/1000000 [00:00<?, ?it/s]"
      ]
     },
     "metadata": {},
     "output_type": "display_data"
    },
    {
     "name": "stdout",
     "output_type": "stream",
     "text": [
      "[('pull2_t0', 'pull1_t1'), ('pull2_t0', 'pull2_t1')]\n"
     ]
    },
    {
     "data": {
      "application/vnd.jupyter.widget-view+json": {
       "model_id": "ed5df76da8844edca3d4a357bc4d2b5a",
       "version_major": 2,
       "version_minor": 0
      },
      "text/plain": [
       "  0%|          | 0/1000000 [00:00<?, ?it/s]"
      ]
     },
     "metadata": {},
     "output_type": "display_data"
    },
    {
     "name": "stdout",
     "output_type": "stream",
     "text": [
      "[('pull1_t0', 'pull2_t1'), ('pull2_t0', 'pull1_t1'), ('pull2_t0', 'owgaze1_t1')]\n",
      "did not save data\n"
     ]
    },
    {
     "data": {
      "application/vnd.jupyter.widget-view+json": {
       "model_id": "746d214db34245d7af9d9d99611ee8ae",
       "version_major": 2,
       "version_minor": 0
      },
      "text/plain": [
       "  0%|          | 0/1000000 [00:00<?, ?it/s]"
      ]
     },
     "metadata": {},
     "output_type": "display_data"
    },
    {
     "name": "stdout",
     "output_type": "stream",
     "text": [
      "[('pull1_t0', 'pull2_t1'), ('owgaze1_t0', 'owgaze1_t1')]\n"
     ]
    },
    {
     "data": {
      "application/vnd.jupyter.widget-view+json": {
       "model_id": "f5870627e0544f0cab02e11724d02376",
       "version_major": 2,
       "version_minor": 0
      },
      "text/plain": [
       "  0%|          | 0/1000000 [00:00<?, ?it/s]"
      ]
     },
     "metadata": {},
     "output_type": "display_data"
    },
    {
     "name": "stdout",
     "output_type": "stream",
     "text": [
      "[('pull1_t0', 'pull2_t1'), ('owgaze1_t0', 'owgaze1_t1')]\n"
     ]
    },
    {
     "data": {
      "application/vnd.jupyter.widget-view+json": {
       "model_id": "635c187e92184923b1eba6a0f3ab99e3",
       "version_major": 2,
       "version_minor": 0
      },
      "text/plain": [
       "  0%|          | 0/1000000 [00:00<?, ?it/s]"
      ]
     },
     "metadata": {},
     "output_type": "display_data"
    },
    {
     "name": "stdout",
     "output_type": "stream",
     "text": [
      "[('pull1_t0', 'pull2_t1')]\n"
     ]
    },
    {
     "data": {
      "application/vnd.jupyter.widget-view+json": {
       "model_id": "efc280666d7c48ffb1a5a6d9b5cd888a",
       "version_major": 2,
       "version_minor": 0
      },
      "text/plain": [
       "  0%|          | 0/1000000 [00:00<?, ?it/s]"
      ]
     },
     "metadata": {},
     "output_type": "display_data"
    },
    {
     "name": "stdout",
     "output_type": "stream",
     "text": [
      "[('pull1_t0', 'pull2_t1'), ('pull1_t0', 'pull1_t1'), ('owgaze1_t0', 'owgaze1_t1')]\n"
     ]
    },
    {
     "data": {
      "application/vnd.jupyter.widget-view+json": {
       "model_id": "117f539533f64303a6135800a2c464ec",
       "version_major": 2,
       "version_minor": 0
      },
      "text/plain": [
       "  0%|          | 0/1000000 [00:00<?, ?it/s]"
      ]
     },
     "metadata": {},
     "output_type": "display_data"
    },
    {
     "name": "stdout",
     "output_type": "stream",
     "text": [
      "[('pull1_t0', 'pull2_t1'), ('owgaze1_t0', 'owgaze1_t1')]\n"
     ]
    },
    {
     "data": {
      "application/vnd.jupyter.widget-view+json": {
       "model_id": "61b698370e8e4d32a2e83f6840f0cc6c",
       "version_major": 2,
       "version_minor": 0
      },
      "text/plain": [
       "  0%|          | 0/1000000 [00:00<?, ?it/s]"
      ]
     },
     "metadata": {},
     "output_type": "display_data"
    },
    {
     "name": "stdout",
     "output_type": "stream",
     "text": [
      "[('pull1_t0', 'pull2_t1'), ('pull1_t0', 'pull1_t1'), ('owgaze1_t0', 'owgaze1_t1')]\n"
     ]
    },
    {
     "data": {
      "application/vnd.jupyter.widget-view+json": {
       "model_id": "a58b26cb6d414c749d800714ee283eb3",
       "version_major": 2,
       "version_minor": 0
      },
      "text/plain": [
       "  0%|          | 0/1000000 [00:00<?, ?it/s]"
      ]
     },
     "metadata": {},
     "output_type": "display_data"
    },
    {
     "name": "stdout",
     "output_type": "stream",
     "text": [
      "[('pull2_t0', 'pull2_t1'), ('owgaze1_t0', 'owgaze1_t1')]\n"
     ]
    },
    {
     "data": {
      "application/vnd.jupyter.widget-view+json": {
       "model_id": "c5c83d072ab14b64acb125d8b252c5ae",
       "version_major": 2,
       "version_minor": 0
      },
      "text/plain": [
       "  0%|          | 0/1000000 [00:00<?, ?it/s]"
      ]
     },
     "metadata": {},
     "output_type": "display_data"
    },
    {
     "name": "stdout",
     "output_type": "stream",
     "text": [
      "[('pull1_t0', 'owgaze1_t1'), ('pull2_t0', 'pull2_t1')]\n"
     ]
    },
    {
     "data": {
      "application/vnd.jupyter.widget-view+json": {
       "model_id": "bca86e68dc434226924206ff6c244909",
       "version_major": 2,
       "version_minor": 0
      },
      "text/plain": [
       "  0%|          | 0/1000000 [00:00<?, ?it/s]"
      ]
     },
     "metadata": {},
     "output_type": "display_data"
    },
    {
     "name": "stdout",
     "output_type": "stream",
     "text": [
      "[('pull1_t0', 'pull1_t1'), ('pull2_t0', 'pull2_t1'), ('owgaze1_t0', 'owgaze1_t1')]\n"
     ]
    },
    {
     "data": {
      "application/vnd.jupyter.widget-view+json": {
       "model_id": "0be5d33e260148fd8506bbac1221bee3",
       "version_major": 2,
       "version_minor": 0
      },
      "text/plain": [
       "  0%|          | 0/1000000 [00:00<?, ?it/s]"
      ]
     },
     "metadata": {},
     "output_type": "display_data"
    },
    {
     "name": "stdout",
     "output_type": "stream",
     "text": [
      "[('pull2_t0', 'pull2_t1'), ('pull2_t0', 'pull1_t1')]\n"
     ]
    },
    {
     "data": {
      "application/vnd.jupyter.widget-view+json": {
       "model_id": "847feec107994ef1ae1d59714f8c43a2",
       "version_major": 2,
       "version_minor": 0
      },
      "text/plain": [
       "  0%|          | 0/1000000 [00:00<?, ?it/s]"
      ]
     },
     "metadata": {},
     "output_type": "display_data"
    },
    {
     "name": "stdout",
     "output_type": "stream",
     "text": [
      "[('pull1_t0', 'pull2_t1'), ('pull1_t0', 'owgaze1_t1'), ('pull2_t0', 'pull2_t1'), ('pull2_t0', 'pull1_t1')]\n"
     ]
    },
    {
     "data": {
      "application/vnd.jupyter.widget-view+json": {
       "model_id": "30766946870b43e48075f67e551e54f6",
       "version_major": 2,
       "version_minor": 0
      },
      "text/plain": [
       "  0%|          | 0/1000000 [00:00<?, ?it/s]"
      ]
     },
     "metadata": {},
     "output_type": "display_data"
    },
    {
     "name": "stdout",
     "output_type": "stream",
     "text": [
      "[('pull1_t0', 'pull2_t1'), ('pull2_t0', 'pull2_t1'), ('pull2_t0', 'pull1_t1')]\n"
     ]
    },
    {
     "data": {
      "application/vnd.jupyter.widget-view+json": {
       "model_id": "b2ad19c3113645cca89af7579c1d7709",
       "version_major": 2,
       "version_minor": 0
      },
      "text/plain": [
       "  0%|          | 0/1000000 [00:00<?, ?it/s]"
      ]
     },
     "metadata": {},
     "output_type": "display_data"
    },
    {
     "name": "stdout",
     "output_type": "stream",
     "text": [
      "[('pull2_t0', 'pull2_t1'), ('pull2_t0', 'pull1_t1')]\n"
     ]
    },
    {
     "data": {
      "application/vnd.jupyter.widget-view+json": {
       "model_id": "74967c5f17364163af8496009693ec54",
       "version_major": 2,
       "version_minor": 0
      },
      "text/plain": [
       "  0%|          | 0/1000000 [00:00<?, ?it/s]"
      ]
     },
     "metadata": {},
     "output_type": "display_data"
    },
    {
     "name": "stdout",
     "output_type": "stream",
     "text": [
      "[('pull1_t0', 'pull2_t1'), ('pull2_t0', 'pull2_t1'), ('pull2_t0', 'pull1_t1')]\n"
     ]
    },
    {
     "data": {
      "application/vnd.jupyter.widget-view+json": {
       "model_id": "bae07f14417a4d61b8a84b08c36b10d1",
       "version_major": 2,
       "version_minor": 0
      },
      "text/plain": [
       "  0%|          | 0/1000000 [00:00<?, ?it/s]"
      ]
     },
     "metadata": {},
     "output_type": "display_data"
    },
    {
     "name": "stdout",
     "output_type": "stream",
     "text": [
      "[('pull1_t0', 'pull2_t1'), ('pull2_t0', 'pull2_t1'), ('pull2_t0', 'pull1_t1')]\n"
     ]
    },
    {
     "data": {
      "application/vnd.jupyter.widget-view+json": {
       "model_id": "0719435230d8439b984373f4de9b242d",
       "version_major": 2,
       "version_minor": 0
      },
      "text/plain": [
       "  0%|          | 0/1000000 [00:00<?, ?it/s]"
      ]
     },
     "metadata": {},
     "output_type": "display_data"
    },
    {
     "name": "stdout",
     "output_type": "stream",
     "text": [
      "[('pull1_t0', 'pull2_t1'), ('pull2_t0', 'pull2_t1'), ('pull2_t0', 'pull1_t1')]\n"
     ]
    },
    {
     "data": {
      "application/vnd.jupyter.widget-view+json": {
       "model_id": "d341f84971aa466497866df239ceb847",
       "version_major": 2,
       "version_minor": 0
      },
      "text/plain": [
       "  0%|          | 0/1000000 [00:00<?, ?it/s]"
      ]
     },
     "metadata": {},
     "output_type": "display_data"
    },
    {
     "name": "stdout",
     "output_type": "stream",
     "text": [
      "[('pull1_t0', 'pull2_t1'), ('pull2_t0', 'pull2_t1'), ('pull2_t0', 'pull1_t1'), ('pull2_t0', 'owgaze1_t1')]\n"
     ]
    },
    {
     "data": {
      "application/vnd.jupyter.widget-view+json": {
       "model_id": "4ee7db12a936449b9ff582d8f267382b",
       "version_major": 2,
       "version_minor": 0
      },
      "text/plain": [
       "  0%|          | 0/1000000 [00:00<?, ?it/s]"
      ]
     },
     "metadata": {},
     "output_type": "display_data"
    },
    {
     "name": "stdout",
     "output_type": "stream",
     "text": [
      "[('pull1_t0', 'pull2_t1'), ('pull1_t0', 'pull1_t1'), ('pull2_t0', 'pull2_t1'), ('pull2_t0', 'pull1_t1'), ('pull2_t0', 'owgaze1_t1')]\n"
     ]
    },
    {
     "data": {
      "application/vnd.jupyter.widget-view+json": {
       "model_id": "751de5fceec14ccf83daf5d86d3f345c",
       "version_major": 2,
       "version_minor": 0
      },
      "text/plain": [
       "  0%|          | 0/1000000 [00:00<?, ?it/s]"
      ]
     },
     "metadata": {},
     "output_type": "display_data"
    },
    {
     "name": "stdout",
     "output_type": "stream",
     "text": [
      "[('pull1_t0', 'pull2_t1'), ('pull2_t0', 'pull1_t1')]\n"
     ]
    },
    {
     "data": {
      "application/vnd.jupyter.widget-view+json": {
       "model_id": "6160f4b560c24c98830743c645c2c607",
       "version_major": 2,
       "version_minor": 0
      },
      "text/plain": [
       "  0%|          | 0/1000000 [00:00<?, ?it/s]"
      ]
     },
     "metadata": {},
     "output_type": "display_data"
    },
    {
     "name": "stdout",
     "output_type": "stream",
     "text": [
      "[('pull1_t0', 'pull2_t1'), ('pull2_t0', 'pull2_t1'), ('pull2_t0', 'pull1_t1')]\n"
     ]
    },
    {
     "data": {
      "application/vnd.jupyter.widget-view+json": {
       "model_id": "c498209ca5a3481eb9d8fee827925a46",
       "version_major": 2,
       "version_minor": 0
      },
      "text/plain": [
       "  0%|          | 0/1000000 [00:00<?, ?it/s]"
      ]
     },
     "metadata": {},
     "output_type": "display_data"
    },
    {
     "name": "stdout",
     "output_type": "stream",
     "text": [
      "[('pull1_t0', 'pull2_t1'), ('pull1_t0', 'pull1_t1'), ('pull2_t0', 'pull1_t1'), ('pull2_t0', 'pull2_t1')]\n"
     ]
    },
    {
     "data": {
      "application/vnd.jupyter.widget-view+json": {
       "model_id": "06a89add8e4a48979de7b9c4443c77c5",
       "version_major": 2,
       "version_minor": 0
      },
      "text/plain": [
       "  0%|          | 0/1000000 [00:00<?, ?it/s]"
      ]
     },
     "metadata": {},
     "output_type": "display_data"
    },
    {
     "name": "stdout",
     "output_type": "stream",
     "text": [
      "[('pull1_t0', 'pull1_t1'), ('pull2_t0', 'pull2_t1'), ('pull2_t0', 'pull1_t1')]\n"
     ]
    },
    {
     "data": {
      "application/vnd.jupyter.widget-view+json": {
       "model_id": "5494c27a27274a01aee2c1caef664014",
       "version_major": 2,
       "version_minor": 0
      },
      "text/plain": [
       "  0%|          | 0/1000000 [00:00<?, ?it/s]"
      ]
     },
     "metadata": {},
     "output_type": "display_data"
    },
    {
     "name": "stdout",
     "output_type": "stream",
     "text": [
      "[('pull2_t0', 'pull2_t1'), ('pull2_t0', 'pull1_t1')]\n"
     ]
    },
    {
     "data": {
      "application/vnd.jupyter.widget-view+json": {
       "model_id": "34eb63b366a549568ac748f4e8463752",
       "version_major": 2,
       "version_minor": 0
      },
      "text/plain": [
       "  0%|          | 0/1000000 [00:00<?, ?it/s]"
      ]
     },
     "metadata": {},
     "output_type": "display_data"
    },
    {
     "name": "stdout",
     "output_type": "stream",
     "text": [
      "[('pull1_t0', 'pull2_t1'), ('pull2_t0', 'pull2_t1'), ('pull2_t0', 'pull1_t1')]\n"
     ]
    },
    {
     "data": {
      "application/vnd.jupyter.widget-view+json": {
       "model_id": "c484ea12ab2f4f30bd0c2fa1228f71c2",
       "version_major": 2,
       "version_minor": 0
      },
      "text/plain": [
       "  0%|          | 0/1000000 [00:00<?, ?it/s]"
      ]
     },
     "metadata": {},
     "output_type": "display_data"
    },
    {
     "name": "stdout",
     "output_type": "stream",
     "text": [
      "[('pull2_t0', 'pull2_t1'), ('pull2_t0', 'pull1_t1'), ('pull2_t0', 'owgaze1_t1')]\n"
     ]
    },
    {
     "data": {
      "application/vnd.jupyter.widget-view+json": {
       "model_id": "64e922831cb340408baa62831b5baca8",
       "version_major": 2,
       "version_minor": 0
      },
      "text/plain": [
       "  0%|          | 0/1000000 [00:00<?, ?it/s]"
      ]
     },
     "metadata": {},
     "output_type": "display_data"
    },
    {
     "name": "stdout",
     "output_type": "stream",
     "text": [
      "[('pull1_t0', 'pull2_t1'), ('pull2_t0', 'pull2_t1'), ('pull2_t0', 'pull1_t1'), ('owgaze1_t0', 'owgaze2_t1')]\n"
     ]
    },
    {
     "data": {
      "application/vnd.jupyter.widget-view+json": {
       "model_id": "c879af11e190434991fd79331e842c43",
       "version_major": 2,
       "version_minor": 0
      },
      "text/plain": [
       "  0%|          | 0/1000000 [00:00<?, ?it/s]"
      ]
     },
     "metadata": {},
     "output_type": "display_data"
    },
    {
     "name": "stdout",
     "output_type": "stream",
     "text": [
      "[('pull1_t0', 'pull2_t1'), ('pull1_t0', 'pull1_t1'), ('pull2_t0', 'pull2_t1'), ('pull2_t0', 'pull1_t1')]\n"
     ]
    },
    {
     "data": {
      "application/vnd.jupyter.widget-view+json": {
       "model_id": "ec5fcab3fa31460886e160e5b2aebad2",
       "version_major": 2,
       "version_minor": 0
      },
      "text/plain": [
       "  0%|          | 0/1000000 [00:00<?, ?it/s]"
      ]
     },
     "metadata": {},
     "output_type": "display_data"
    },
    {
     "name": "stdout",
     "output_type": "stream",
     "text": [
      "[('pull1_t0', 'pull2_t1'), ('pull1_t0', 'pull1_t1'), ('pull2_t0', 'pull2_t1'), ('pull2_t0', 'pull1_t1')]\n"
     ]
    },
    {
     "data": {
      "application/vnd.jupyter.widget-view+json": {
       "model_id": "b72eef2ca5844a98b70d69cb2f65b645",
       "version_major": 2,
       "version_minor": 0
      },
      "text/plain": [
       "  0%|          | 0/1000000 [00:00<?, ?it/s]"
      ]
     },
     "metadata": {},
     "output_type": "display_data"
    },
    {
     "name": "stdout",
     "output_type": "stream",
     "text": [
      "[('pull1_t0', 'pull2_t1'), ('pull1_t0', 'pull1_t1'), ('pull2_t0', 'pull2_t1'), ('pull2_t0', 'pull1_t1')]\n"
     ]
    },
    {
     "data": {
      "application/vnd.jupyter.widget-view+json": {
       "model_id": "00c6811b0a514c62a33dd63c72420667",
       "version_major": 2,
       "version_minor": 0
      },
      "text/plain": [
       "  0%|          | 0/1000000 [00:00<?, ?it/s]"
      ]
     },
     "metadata": {},
     "output_type": "display_data"
    },
    {
     "name": "stdout",
     "output_type": "stream",
     "text": [
      "[('pull1_t0', 'pull1_t1'), ('pull1_t0', 'pull2_t1'), ('pull2_t0', 'pull1_t1')]\n"
     ]
    },
    {
     "data": {
      "application/vnd.jupyter.widget-view+json": {
       "model_id": "8a8147e0b5a2462c8537aea5f399f304",
       "version_major": 2,
       "version_minor": 0
      },
      "text/plain": [
       "  0%|          | 0/1000000 [00:00<?, ?it/s]"
      ]
     },
     "metadata": {},
     "output_type": "display_data"
    },
    {
     "name": "stdout",
     "output_type": "stream",
     "text": [
      "[('pull1_t0', 'pull2_t1'), ('pull1_t0', 'pull1_t1'), ('pull2_t0', 'pull2_t1')]\n"
     ]
    },
    {
     "data": {
      "application/vnd.jupyter.widget-view+json": {
       "model_id": "5e63726eaf424ff28076a24664e9c653",
       "version_major": 2,
       "version_minor": 0
      },
      "text/plain": [
       "  0%|          | 0/1000000 [00:00<?, ?it/s]"
      ]
     },
     "metadata": {},
     "output_type": "display_data"
    },
    {
     "name": "stdout",
     "output_type": "stream",
     "text": [
      "[('pull2_t0', 'pull2_t1'), ('pull2_t0', 'pull1_t1')]\n"
     ]
    },
    {
     "data": {
      "application/vnd.jupyter.widget-view+json": {
       "model_id": "794fcfd466b94a6ea22af1f5d958d206",
       "version_major": 2,
       "version_minor": 0
      },
      "text/plain": [
       "  0%|          | 0/1000000 [00:00<?, ?it/s]"
      ]
     },
     "metadata": {},
     "output_type": "display_data"
    },
    {
     "name": "stdout",
     "output_type": "stream",
     "text": [
      "[('pull2_t0', 'pull2_t1'), ('pull2_t0', 'pull1_t1')]\n"
     ]
    },
    {
     "data": {
      "application/vnd.jupyter.widget-view+json": {
       "model_id": "ad7e27cf01b74530af6c65c489258a4e",
       "version_major": 2,
       "version_minor": 0
      },
      "text/plain": [
       "  0%|          | 0/1000000 [00:00<?, ?it/s]"
      ]
     },
     "metadata": {},
     "output_type": "display_data"
    },
    {
     "name": "stdout",
     "output_type": "stream",
     "text": [
      "[('pull2_t0', 'pull2_t1'), ('pull2_t0', 'pull1_t1'), ('pull2_t0', 'owgaze1_t1')]\n"
     ]
    },
    {
     "data": {
      "application/vnd.jupyter.widget-view+json": {
       "model_id": "37e6b030d7ae4764a9077ec0df5c4ba3",
       "version_major": 2,
       "version_minor": 0
      },
      "text/plain": [
       "  0%|          | 0/1000000 [00:00<?, ?it/s]"
      ]
     },
     "metadata": {},
     "output_type": "display_data"
    },
    {
     "name": "stdout",
     "output_type": "stream",
     "text": [
      "[('pull2_t0', 'pull2_t1'), ('pull2_t0', 'pull1_t1')]\n"
     ]
    },
    {
     "data": {
      "application/vnd.jupyter.widget-view+json": {
       "model_id": "acf414b8005c429b8bd842d34703c1d7",
       "version_major": 2,
       "version_minor": 0
      },
      "text/plain": [
       "  0%|          | 0/1000000 [00:00<?, ?it/s]"
      ]
     },
     "metadata": {},
     "output_type": "display_data"
    },
    {
     "name": "stdout",
     "output_type": "stream",
     "text": [
      "[('pull2_t0', 'pull2_t1'), ('pull2_t0', 'pull1_t1'), ('pull2_t0', 'owgaze1_t1')]\n"
     ]
    },
    {
     "data": {
      "application/vnd.jupyter.widget-view+json": {
       "model_id": "32bff256dfe94da4a8065dd6c861b6a1",
       "version_major": 2,
       "version_minor": 0
      },
      "text/plain": [
       "  0%|          | 0/1000000 [00:00<?, ?it/s]"
      ]
     },
     "metadata": {},
     "output_type": "display_data"
    },
    {
     "name": "stdout",
     "output_type": "stream",
     "text": [
      "[('pull2_t0', 'pull2_t1'), ('pull2_t0', 'pull1_t1'), ('pull2_t0', 'owgaze1_t1')]\n"
     ]
    },
    {
     "data": {
      "application/vnd.jupyter.widget-view+json": {
       "model_id": "a60c89426b6b4728a720abcfaff65ef8",
       "version_major": 2,
       "version_minor": 0
      },
      "text/plain": [
       "  0%|          | 0/1000000 [00:00<?, ?it/s]"
      ]
     },
     "metadata": {},
     "output_type": "display_data"
    },
    {
     "name": "stdout",
     "output_type": "stream",
     "text": [
      "[('pull2_t0', 'pull2_t1'), ('pull2_t0', 'pull1_t1')]\n"
     ]
    },
    {
     "data": {
      "application/vnd.jupyter.widget-view+json": {
       "model_id": "4a1b6b3fcdf24b7abc497a929cb1c53b",
       "version_major": 2,
       "version_minor": 0
      },
      "text/plain": [
       "  0%|          | 0/1000000 [00:00<?, ?it/s]"
      ]
     },
     "metadata": {},
     "output_type": "display_data"
    },
    {
     "name": "stdout",
     "output_type": "stream",
     "text": [
      "[('pull2_t0', 'pull2_t1'), ('pull2_t0', 'pull1_t1'), ('owgaze1_t0', 'owgaze2_t1')]\n"
     ]
    },
    {
     "data": {
      "application/vnd.jupyter.widget-view+json": {
       "model_id": "68eb559244ba4b3c8d529f091348a09d",
       "version_major": 2,
       "version_minor": 0
      },
      "text/plain": [
       "  0%|          | 0/1000000 [00:00<?, ?it/s]"
      ]
     },
     "metadata": {},
     "output_type": "display_data"
    },
    {
     "name": "stdout",
     "output_type": "stream",
     "text": [
      "[('pull1_t0', 'pull2_t1'), ('pull2_t0', 'pull1_t1'), ('pull2_t0', 'owgaze1_t1')]\n"
     ]
    },
    {
     "data": {
      "application/vnd.jupyter.widget-view+json": {
       "model_id": "ee84381dd54b4ea681cc4f464d70a595",
       "version_major": 2,
       "version_minor": 0
      },
      "text/plain": [
       "  0%|          | 0/1000000 [00:00<?, ?it/s]"
      ]
     },
     "metadata": {},
     "output_type": "display_data"
    },
    {
     "name": "stdout",
     "output_type": "stream",
     "text": [
      "[('pull1_t0', 'pull2_t1'), ('pull1_t0', 'pull1_t1'), ('pull2_t0', 'owgaze1_t1')]\n"
     ]
    },
    {
     "data": {
      "application/vnd.jupyter.widget-view+json": {
       "model_id": "cc76bbed42784a1b8d177842e3d6d120",
       "version_major": 2,
       "version_minor": 0
      },
      "text/plain": [
       "  0%|          | 0/1000000 [00:00<?, ?it/s]"
      ]
     },
     "metadata": {},
     "output_type": "display_data"
    },
    {
     "name": "stdout",
     "output_type": "stream",
     "text": [
      "[('pull2_t0', 'pull2_t1'), ('pull2_t0', 'pull1_t1'), ('pull2_t0', 'owgaze1_t1')]\n"
     ]
    },
    {
     "data": {
      "image/png": "[encoded data removed]",
      "text/plain": [
       "<Figure size 1800x360 with 2 Axes>"
      ]
     },
     "metadata": {
      "needs_background": "light"
     },
     "output_type": "display_data"
    },
    {
     "data": {
      "image/png": "[encoded data removed]",
      "text/plain": [
       "<Figure size 1800x360 with 2 Axes>"
      ]
     },
     "metadata": {
      "needs_background": "light"
     },
     "output_type": "display_data"
    },
    {
     "data": {
      "image/png": "[encoded data removed]",
      "text/plain": [
       "<Figure size 1800x360 with 2 Axes>"
      ]
     },
     "metadata": {
      "needs_background": "light"
     },
     "output_type": "display_data"
    },
    {
     "data": {
      "image/png": "[encoded data removed]",
      "text/plain": [
       "<Figure size 1800x360 with 2 Axes>"
      ]
     },
     "metadata": {
      "needs_background": "light"
     },
     "output_type": "display_data"
    },
    {
     "data": {
      "image/png": "[encoded data removed]",
      "text/plain": [
       "<Figure size 1800x360 with 2 Axes>"
      ]
     },
     "metadata": {
      "needs_background": "light"
     },
     "output_type": "display_data"
    },
    {
     "data": {
      "image/png": "[encoded data removed]",
      "text/plain": [
       "<Figure size 1800x360 with 2 Axes>"
      ]
     },
     "metadata": {
      "needs_background": "light"
     },
     "output_type": "display_data"
    },
    {
     "data": {
      "image/png": "[encoded data removed]",
      "text/plain": [
       "<Figure size 1800x360 with 2 Axes>"
      ]
     },
     "metadata": {
      "needs_background": "light"
     },
     "output_type": "display_data"
    },
    {
     "data": {
      "image/png": "[encoded data removed]",
      "text/plain": [
       "<Figure size 1800x360 with 2 Axes>"
      ]
     },
     "metadata": {
      "needs_background": "light"
     },
     "output_type": "display_data"
    },
    {
     "data": {
      "image/png": "[encoded data removed]",
      "text/plain": [
       "<Figure size 1800x360 with 2 Axes>"
      ]
     },
     "metadata": {
      "needs_background": "light"
     },
     "output_type": "display_data"
    },
    {
     "data": {
      "image/png": "[encoded data removed]",
      "text/plain": [
       "<Figure size 1800x360 with 2 Axes>"
      ]
     },
     "metadata": {
      "needs_background": "light"
     },
     "output_type": "display_data"
    },
    {
     "data": {
      "image/png": "[encoded data removed]",
      "text/plain": [
       "<Figure size 1800x360 with 2 Axes>"
      ]
     },
     "metadata": {
      "needs_background": "light"
     },
     "output_type": "display_data"
    },
    {
     "data": {
      "image/png": "[encoded data removed]",
      "text/plain": [
       "<Figure size 1800x360 with 2 Axes>"
      ]
     },
     "metadata": {
      "needs_background": "light"
     },
     "output_type": "display_data"
    },
    {
     "data": {
      "image/png": "[encoded data removed]",
      "text/plain": [
       "<Figure size 1800x360 with 2 Axes>"
      ]
     },
     "metadata": {
      "needs_background": "light"
     },
     "output_type": "display_data"
    },
    {
     "data": {
      "image/png": "[encoded data removed]",
      "text/plain": [
       "<Figure size 1800x360 with 2 Axes>"
      ]
     },
     "metadata": {
      "needs_background": "light"
     },
     "output_type": "display_data"
    }
   ],
   "source": [
    "# gaze angle threshold\n",
    "# angle_thres = np.pi/36 # 5 degree\n",
    "angle_thres = np.pi/18 # 10 degree\n",
    "\n",
    "# get the fps of the analyzed video\n",
    "fps = 30\n",
    "\n",
    "dates_list = [\"20220909\",\"20220912\",\"20220915\",\"20220920\",\"20220922\",\"20220923\",\"20221010\"]\n",
    "# dates_list = [\"20221010\"]\n",
    "ndates = np.shape(dates_list)[0]\n",
    "\n",
    "animal1_fixedorder = 'dodson'\n",
    "animal2_fixedorder = 'scorch'\n",
    "\n",
    "# aligned with the audio\n",
    "# get the session start time from \"videosound_bhv_sync.py/.ipynb\"\n",
    "# currently the session_start_time will be manually typed in. It can be updated after a better method is used\n",
    "session_start_times = [6.50,18.10,0,33.03,549.0,116.80,6.50] # in second\n",
    "# session_start_times = [6.50] # in second\n",
    "session_start_frames = session_start_times * fps # fps is 30Hz\n",
    "\n",
    "DAGs_all_dates = np.zeros((ndates,4,4))\n",
    "DAGs_thres_dates = np.zeros((ndates,4,4))\n",
    "\n",
    "for idate in np.arange(0,ndates,1):\n",
    "    date_tgt = dates_list[idate]\n",
    "    session_start_time = session_start_times[idate]\n",
    "    \n",
    "    # folder path\n",
    "    camera12_analyzed_path = \"/ysm-gpfs/pi/jadi/VideoTracker_SocialInter/test_video_cooperative_task_3d/\"+date_tgt+\"_Dodson_Scorch_camera12/\"\n",
    "    camera23_analyzed_path = \"/ysm-gpfs/pi/jadi/VideoTracker_SocialInter/test_video_cooperative_task_3d/\"+date_tgt+\"_Dodson_Scorch_camera23/\"\n",
    "    \n",
    "    \n",
    "    # load camera tracking results\n",
    "    try:\n",
    "        ## read\n",
    "        with open(camera23_analyzed_path + 'body_part_locs_camera23.pkl', 'rb') as f:\n",
    "            body_part_locs_camera23 = pickle.load(f) \n",
    "        with open(camera12_analyzed_path + 'body_part_locs_camera12.pkl', 'rb') as f:\n",
    "            body_part_locs_camera12 = pickle.load(f) \n",
    "    except:\n",
    "        print(\"did not save data\")\n",
    "    \n",
    "    \n",
    "    # load behavioral results\n",
    "    try:\n",
    "        bhv_data_path = \"/home/ws523/marmoset_tracking_bhv_data_from_task_code/\"+date_tgt+\"_Dodson_Scorch/\"\n",
    "        trial_record_json = bhv_data_path +date_tgt+\"_Scorch_Dodson_TrialRecord_1.json\"\n",
    "        bhv_data_json = bhv_data_path + date_tgt+\"_Scorch_Dodson_bhv_data_1.json\"\n",
    "        session_info_json = bhv_data_path + date_tgt+\"_Scorch_Dodson_session_info_1.json\"\n",
    "        #\n",
    "        trial_record = pd.read_json(trial_record_json)\n",
    "        bhv_data = pd.read_json(bhv_data_json)\n",
    "        session_info = pd.read_json(session_info_json)\n",
    "    except:\n",
    "        bhv_data_path = \"/home/ws523/marmoset_tracking_bhv_data_from_task_code/\"+date_tgt+\"_Dodson_Scorch/\"\n",
    "        trial_record_json = bhv_data_path + date_tgt+\"_Dodson_Scorch_TrialRecord_1.json\"\n",
    "        bhv_data_json = bhv_data_path + date_tgt+\"_Dodson_Scorch_bhv_data_1.json\"\n",
    "        session_info_json = bhv_data_path + date_tgt+\"_Dodson_Scorch_session_info_1.json\"\n",
    "        #\n",
    "        trial_record = pd.read_json(trial_record_json)\n",
    "        bhv_data = pd.read_json(bhv_data_json)\n",
    "        session_info = pd.read_json(session_info_json)\n",
    "    \n",
    "    # get animal info\n",
    "    animal1 = session_info['lever1_animal'][0].lower()\n",
    "    animal2 = session_info['lever2_animal'][0].lower()\n",
    "    \n",
    "    # clean up the trial_record\n",
    "    warnings.filterwarnings('ignore')\n",
    "    trial_record_clean = pd.DataFrame(columns=trial_record.columns)\n",
    "    for itrial in np.arange(0,np.max(trial_record['trial_number']),1):\n",
    "        # trial_record_clean.loc[itrial] = trial_record[trial_record['trial_number']==itrial+1].iloc[[0]]\n",
    "        trial_record_clean = trial_record_clean.append(trial_record[trial_record['trial_number']==itrial+1].iloc[[0]])\n",
    "    trial_record_clean = trial_record_clean.reset_index(drop = True)\n",
    "    \n",
    "    # change bhv_data time to the absolute time\n",
    "    time_points_new = pd.DataFrame(np.zeros(np.shape(bhv_data)[0]),columns=[\"time_points_new\"])\n",
    "    for itrial in np.arange(0,np.max(trial_record_clean['trial_number']),1):\n",
    "        ind = bhv_data[\"trial_number\"]==itrial+1\n",
    "        new_time_itrial = bhv_data[ind][\"time_points\"] + trial_record_clean[\"trial_starttime\"].iloc[itrial]\n",
    "        time_points_new[\"time_points_new\"][ind] = new_time_itrial\n",
    "    bhv_data[\"time_points\"] = time_points_new[\"time_points_new\"]\n",
    "    \n",
    "    \n",
    "    # load behavioral event results\n",
    "    try:\n",
    "        # load data\n",
    "        with open(camera23_analyzed_path + 'time_point_pull1.pkl', 'rb') as f:\n",
    "            time_point_pull1 = pickle.load(f) \n",
    "        with open(camera23_analyzed_path + 'time_point_pull2.pkl', 'rb') as f:\n",
    "            time_point_pull2 = pickle.load(f) \n",
    "        with open(camera23_analyzed_path + 'oneway_gaze1.pkl', 'rb') as f:\n",
    "            oneway_gaze1 = pickle.load(f) \n",
    "        with open(camera23_analyzed_path + 'oneway_gaze2.pkl', 'rb') as f:\n",
    "            oneway_gaze2 = pickle.load(f) \n",
    "        with open(camera23_analyzed_path + 'mutual_gaze1.pkl', 'rb') as f:\n",
    "            mutual_gaze1 = pickle.load(f) \n",
    "        with open(camera23_analyzed_path + 'mutual_gaze2.pkl', 'rb') as f:\n",
    "            mutual_gaze2 = pickle.load(f) \n",
    "    except:\n",
    "        # Align the two pairs of camera\n",
    "        RR_sum, tt_sum, err_sum = camera_align(body_part_locs_camera23, body_part_locs_camera12)\n",
    "    \n",
    "        # Merge two pairs of camera\n",
    "        body_part_locs_merge = camera_merge(body_part_locs_camera23, body_part_locs_camera12, RR_sum, tt_sum, err_sum)\n",
    "    \n",
    "        # get social gaze information \n",
    "        eye_direction_merge, eye_contact_or_not_merge, look_at_face_or_not_merge = find_socialgaze_timepoint(body_part_locs_camera23, body_part_locs_camera12, body_part_locs_merge, angle_thres)\n",
    "        # change the unit to second\n",
    "        session_start_time = session_start_times[idate]\n",
    "        eye_direction_merge['time_in_second'] = np.arange(0,np.shape(eye_direction_merge['dodson'])[0],1)/fps - session_start_time\n",
    "        eye_contact_or_not_merge['time_in_second'] = np.arange(0,np.shape(eye_contact_or_not_merge['dodson'])[0],1)/fps - session_start_time\n",
    "        look_at_face_or_not_merge['time_in_second'] = np.arange(0,np.shape(look_at_face_or_not_merge['dodson'])[0],1)/fps - session_start_time \n",
    "  \n",
    "        # fine time point of behavioral events\n",
    "        time_point_pull1, time_point_pull2, oneway_gaze1, oneway_gaze2, mutual_gaze1, mutual_gaze2 = bhv_events_timepoint(bhv_data, eye_direction_merge, eye_contact_or_not_merge, look_at_face_or_not_merge)\n",
    "        # save data\n",
    "        with open(camera23_analyzed_path + 'time_point_pull1.pkl', 'wb') as f:\n",
    "            pickle.dump(time_point_pull1, f)\n",
    "        with open(camera23_analyzed_path + 'time_point_pull2.pkl', 'wb') as f:\n",
    "            pickle.dump(time_point_pull2, f)\n",
    "        with open(camera23_analyzed_path + 'oneway_gaze1.pkl', 'wb') as f:\n",
    "            pickle.dump(oneway_gaze1, f)\n",
    "        with open(camera23_analyzed_path + 'oneway_gaze2.pkl', 'wb') as f:\n",
    "            pickle.dump(oneway_gaze2, f)\n",
    "        with open(camera23_analyzed_path + 'mutual_gaze1.pkl', 'wb') as f:\n",
    "            pickle.dump(mutual_gaze1, f)\n",
    "        with open(camera23_analyzed_path + 'mutual_gaze2.pkl', 'wb') as f:\n",
    "            pickle.dump(mutual_gaze2, f)\n",
    "    \n",
    "    \n",
    "    # # plot behavioral events\n",
    "    if animal1 == animal1_fixedorder:\n",
    "        plot_bhv_events(animal1, animal2, session_start_time, time_point_pull1, time_point_pull2, oneway_gaze1, oneway_gaze2, mutual_gaze1, mutual_gaze2)\n",
    "    else:\n",
    "        plot_bhv_events(animal2, animal1, session_start_time, time_point_pull2, time_point_pull1, oneway_gaze2, oneway_gaze1, mutual_gaze2, mutual_gaze1)\n",
    "        \n",
    "    # # plot inter-pull interval\n",
    "    # plot_interpull_interval(animal1, animal2, time_point_pull1, time_point_pull2)\n",
    "    \n",
    "    # # train the dynamic bayesian network - simple model\n",
    "    # temp_resolu = 0.5 # temporala resolution in the DBN model 0.5 means 500ms\n",
    "    # model = train_DBN(totalsess_time,temp_resolu, time_point_pull1, time_point_pull2, oneway_gaze1, oneway_gaze2, mutual_gaze1, mutual_gaze2)\n",
    "    # plot the simple DBN\n",
    "    # pos=nx.spring_layout(model)\n",
    "    # nx.draw(model,pos,with_labels = True)\n",
    "    # labels = nx.get_edge_attributes(model,'weight')\n",
    "    # nx.draw_networkx_edge_labels(model,pos,edge_labels=labels\n",
    "    # model.get_cpds()\n",
    "    \n",
    "    # # train the dynamic bayesian network - Alec's model\n",
    "    # temp_resolu = 2 # temporal resolution in the DBN model, eg: 0.5 means 500ms\n",
    "    # totalsess_time = 660 # total session time in s\n",
    "    # best_model, edges, DAGs,_,_,_ = train_DBN_alec(totalsess_time, temp_resolu, time_point_pull1, time_point_pull2, oneway_gaze1, oneway_gaze2, mutual_gaze1, mutual_gaze2)\n",
    "    \n",
    "    # # train the dynamic bayesian network - Alec's model for separate \"trials\"\n",
    "    # temp_resolu = 2 # temporala resolution in the DBN model 0.5 means 500ms\n",
    "    # totalsess_time = 600 # total session time in s\n",
    "    # DAGs_itrial, weighted_graphs,_,_,_ = train_DBN_alec_eachtrial(totalsess_time, temp_resolu, time_point_pull1, time_point_pull2, oneway_gaze1, oneway_gaze2, mutual_gaze1, mutual_gaze2)\n",
    "    \n",
    "    # # train the dynamic bayesian network - Alec's model, try different time step\n",
    "    # temp_resolus = [0.5,1,1.5,2,2.5,3,3.5,4,4.5,5,5.5,6,6.5,7,7.5,8,8.5] # temporal resolution in the DBN model, eg: 0.5 means 500ms\n",
    "    # use bhv event to decide temporal resolution\n",
    "    low_lim, up_lim = bhv_events_interval(totalsess_time, time_point_pull1, time_point_pull2, oneway_gaze1, oneway_gaze2, mutual_gaze1, mutual_gaze2)\n",
    "    temp_resolus = temp_resolus = np.arange(low_lim,up_lim,0.5)\n",
    "    \n",
    "    ntemp_reses = np.shape(temp_resolus)[0]\n",
    "    totalsess_time = 660 # total session time in s\n",
    "    DAGs_all_tempres = np.zeros([4,4])\n",
    "    for temp_resolu in temp_resolus:\n",
    "        if animal1 == animal1_fixedorder:\n",
    "            best_model,edges,DAGs,eventnames,from_pops,to_pops = train_DBN_alec(totalsess_time, temp_resolu, time_point_pull1, time_point_pull2, oneway_gaze1, oneway_gaze2, mutual_gaze1, mutual_gaze2)\n",
    "        else:\n",
    "            best_model,edges,DAGs,eventnames,from_pops,to_pops = train_DBN_alec(totalsess_time, temp_resolu, time_point_pull2, time_point_pull1, oneway_gaze2, oneway_gaze1, mutual_gaze2, mutual_gaze1)     \n",
    "        print(edges)\n",
    "        DAGs_all_tempres = DAGs_all_tempres + DAGs[0]\n",
    "    DAGs_all_tempres = DAGs_all_tempres/ntemp_reses\n",
    "    DAGs_thres_tempres = np.zeros([4,4])\n",
    "    DAGs_thres_tempres[DAGs_all_tempres>0.5]=1\n",
    "    #\n",
    "    DAGs_all_dates[idate,:,:]= DAGs_all_tempres\n",
    "    DAGs_thres_dates[idate,:,:] = DAGs_thres_tempres\n",
    "    #\n",
    "    edge_list = [(from_pop,to_pop) for from_pop in from_pops for to_pop in to_pops]\n",
    "    ind_edges = np.reshape(np.transpose(np.mean(DAGs_thres_dates,axis=0)>0.15),(16,1))\n",
    "    edges_good = [edge_list[i] for i in np.where(ind_edges)[0]]"
   ]
  },
  {
   "cell_type": "code",
   "execution_count": 99,
   "id": "a9df4ee5",
   "metadata": {},
   "outputs": [
    {
     "data": {
      "text/plain": [
       "array([[0., 1., 0., 0.],\n",
       "       [1., 1., 0., 0.],\n",
       "       [0., 0., 0., 0.],\n",
       "       [0., 0., 0., 0.]])"
      ]
     },
     "execution_count": 99,
     "metadata": {},
     "output_type": "execute_result"
    }
   ],
   "source": [
    "DAGs_thres_tempres"
   ]
  },
  {
   "cell_type": "code",
   "execution_count": 102,
   "id": "90c618d1",
   "metadata": {},
   "outputs": [
    {
     "data": {
      "text/plain": [
       "array([[0.44540368, 0.46072355, 0.02400303, 0.01496324],\n",
       "       [0.39167959, 0.58629313, 0.05549216, 0.02567752],\n",
       "       [0.13347217, 0.19402193, 0.23459254, 0.01323823],\n",
       "       [0.03747749, 0.00835084, 0.0446181 , 0.18107807]])"
      ]
     },
     "execution_count": 102,
     "metadata": {},
     "output_type": "execute_result"
    }
   ],
   "source": [
    "DAGs_all_dates.mean(axis=0)"
   ]
  },
  {
   "cell_type": "code",
   "execution_count": null,
   "id": "0d9c1e16",
   "metadata": {},
   "outputs": [],
   "source": []
  }
 ],
 "metadata": {
  "kernelspec": {
   "display_name": "Python 3 (ipykernel)",
   "language": "python",
   "name": "python3"
  },
  "language_info": {
   "codemirror_mode": {
    "name": "ipython",
    "version": 3
   },
   "file_extension": ".py",
   "mimetype": "text/x-python",
   "name": "python",
   "nbconvert_exporter": "python",
   "pygments_lexer": "ipython3",
   "version": "3.8.6"
  }
 },
 "nbformat": 4,
 "nbformat_minor": 5
}
