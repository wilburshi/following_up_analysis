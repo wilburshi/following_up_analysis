{
 "cells": [
  {
   "cell_type": "code",
   "execution_count": 53,
   "id": "f1849ae6",
   "metadata": {},
   "outputs": [],
   "source": [
    "import pandas as pd\n",
    "import numpy as np\n",
    "import matplotlib.pyplot as plt\n",
    "import scipy\n",
    "import string\n",
    "import warnings\n",
    "import pickle"
   ]
  },
  {
   "cell_type": "markdown",
   "id": "0819c438",
   "metadata": {},
   "source": [
    "# load video data"
   ]
  },
  {
   "cell_type": "code",
   "execution_count": 54,
   "id": "3ab92aff",
   "metadata": {},
   "outputs": [],
   "source": [
    "# 3d analyzed video path\n",
    "camera12_analyzed_path = \"/ysm-gpfs/pi/jadi/VideoTracker_SocialInter/test_video_3d/20220912_Dodson_Scorch_camera12/\"\n",
    "camera23_analyzed_path = \"/ysm-gpfs/pi/jadi/VideoTracker_SocialInter/test_video_3d/20220912_Dodson_Scorch_camera23/\"\n",
    "\n",
    "# h5 files for the analyzed videos\n",
    "camera12_h5_file = camera12_analyzed_path + \"20220912_Dodson_Scorch_weikang.h5\"\n",
    "camera23_h5_file = camera23_analyzed_path + \"20220912_Dodson_Scorch_weikang.h5\"\n",
    "\n",
    "# h5 files for save \n",
    "camera12_h5_file_save = camera12_analyzed_path + \"20220912_Dodson_Scorch_weikang.h5\"\n",
    "camera23_h5_file_save = camera23_analyzed_path + \"20220912_Dodson_Scorch_weikang.h5\"\n",
    "\n",
    "# meta pickle data for the analyzed videos\n",
    "camera12_metapickle_file = camera12_analyzed_path + \"20220912_Dodson_Scorch_weikang_meta.pickle\"\n",
    "camera23_metapickle_file = camera23_analyzed_path + \"20220912_Dodson_Scorch_weikang_meta.pickle\"\n",
    "\n",
    "# load data\n",
    "camera12_metapickle_data = pd.read_pickle(camera12_metapickle_file)\n",
    "camera23_metapickle_data = pd.read_pickle(camera23_metapickle_file)\n",
    "\n",
    "camera12_h5_data = pd.read_hdf(camera12_h5_file)\n",
    "camera23_h5_data = pd.read_hdf(camera23_h5_file)\n"
   ]
  },
  {
   "cell_type": "code",
   "execution_count": 55,
   "id": "fd88ea1f",
   "metadata": {},
   "outputs": [
    {
     "data": {
      "text/html": [
       "<div>\n",
       "<style scoped>\n",
       "    .dataframe tbody tr th:only-of-type {\n",
       "        vertical-align: middle;\n",
       "    }\n",
       "\n",
       "    .dataframe tbody tr th {\n",
       "        vertical-align: top;\n",
       "    }\n",
       "\n",
       "    .dataframe thead tr th {\n",
       "        text-align: left;\n",
       "    }\n",
       "</style>\n",
       "<table border=\"1\" class=\"dataframe\">\n",
       "  <thead>\n",
       "    <tr>\n",
       "      <th>scorer</th>\n",
       "      <th colspan=\"21\" halign=\"left\">weikang</th>\n",
       "    </tr>\n",
       "    <tr>\n",
       "      <th>individuals</th>\n",
       "      <th colspan=\"10\" halign=\"left\">dodson</th>\n",
       "      <th>...</th>\n",
       "      <th colspan=\"10\" halign=\"left\">scorch</th>\n",
       "    </tr>\n",
       "    <tr>\n",
       "      <th>bodyparts</th>\n",
       "      <th colspan=\"3\" halign=\"left\">rightTuft</th>\n",
       "      <th colspan=\"3\" halign=\"left\">whiteBlaze</th>\n",
       "      <th colspan=\"3\" halign=\"left\">leftTuft</th>\n",
       "      <th>rightEye</th>\n",
       "      <th>...</th>\n",
       "      <th>leftTuft</th>\n",
       "      <th colspan=\"3\" halign=\"left\">rightEye</th>\n",
       "      <th colspan=\"3\" halign=\"left\">leftEye</th>\n",
       "      <th colspan=\"3\" halign=\"left\">mouth</th>\n",
       "    </tr>\n",
       "    <tr>\n",
       "      <th>coords</th>\n",
       "      <th>x</th>\n",
       "      <th>y</th>\n",
       "      <th>z</th>\n",
       "      <th>x</th>\n",
       "      <th>y</th>\n",
       "      <th>z</th>\n",
       "      <th>x</th>\n",
       "      <th>y</th>\n",
       "      <th>z</th>\n",
       "      <th>x</th>\n",
       "      <th>...</th>\n",
       "      <th>z</th>\n",
       "      <th>x</th>\n",
       "      <th>y</th>\n",
       "      <th>z</th>\n",
       "      <th>x</th>\n",
       "      <th>y</th>\n",
       "      <th>z</th>\n",
       "      <th>x</th>\n",
       "      <th>y</th>\n",
       "      <th>z</th>\n",
       "    </tr>\n",
       "  </thead>\n",
       "  <tbody>\n",
       "    <tr>\n",
       "      <th>0</th>\n",
       "      <td>NaN</td>\n",
       "      <td>NaN</td>\n",
       "      <td>NaN</td>\n",
       "      <td>NaN</td>\n",
       "      <td>NaN</td>\n",
       "      <td>NaN</td>\n",
       "      <td>NaN</td>\n",
       "      <td>NaN</td>\n",
       "      <td>NaN</td>\n",
       "      <td>NaN</td>\n",
       "      <td>...</td>\n",
       "      <td>NaN</td>\n",
       "      <td>NaN</td>\n",
       "      <td>NaN</td>\n",
       "      <td>NaN</td>\n",
       "      <td>NaN</td>\n",
       "      <td>NaN</td>\n",
       "      <td>NaN</td>\n",
       "      <td>NaN</td>\n",
       "      <td>NaN</td>\n",
       "      <td>NaN</td>\n",
       "    </tr>\n",
       "    <tr>\n",
       "      <th>1</th>\n",
       "      <td>NaN</td>\n",
       "      <td>NaN</td>\n",
       "      <td>NaN</td>\n",
       "      <td>NaN</td>\n",
       "      <td>NaN</td>\n",
       "      <td>NaN</td>\n",
       "      <td>NaN</td>\n",
       "      <td>NaN</td>\n",
       "      <td>NaN</td>\n",
       "      <td>NaN</td>\n",
       "      <td>...</td>\n",
       "      <td>NaN</td>\n",
       "      <td>NaN</td>\n",
       "      <td>NaN</td>\n",
       "      <td>NaN</td>\n",
       "      <td>NaN</td>\n",
       "      <td>NaN</td>\n",
       "      <td>NaN</td>\n",
       "      <td>NaN</td>\n",
       "      <td>NaN</td>\n",
       "      <td>NaN</td>\n",
       "    </tr>\n",
       "    <tr>\n",
       "      <th>2</th>\n",
       "      <td>NaN</td>\n",
       "      <td>NaN</td>\n",
       "      <td>NaN</td>\n",
       "      <td>NaN</td>\n",
       "      <td>NaN</td>\n",
       "      <td>NaN</td>\n",
       "      <td>NaN</td>\n",
       "      <td>NaN</td>\n",
       "      <td>NaN</td>\n",
       "      <td>NaN</td>\n",
       "      <td>...</td>\n",
       "      <td>NaN</td>\n",
       "      <td>NaN</td>\n",
       "      <td>NaN</td>\n",
       "      <td>NaN</td>\n",
       "      <td>NaN</td>\n",
       "      <td>NaN</td>\n",
       "      <td>NaN</td>\n",
       "      <td>NaN</td>\n",
       "      <td>NaN</td>\n",
       "      <td>NaN</td>\n",
       "    </tr>\n",
       "    <tr>\n",
       "      <th>3</th>\n",
       "      <td>NaN</td>\n",
       "      <td>NaN</td>\n",
       "      <td>NaN</td>\n",
       "      <td>NaN</td>\n",
       "      <td>NaN</td>\n",
       "      <td>NaN</td>\n",
       "      <td>NaN</td>\n",
       "      <td>NaN</td>\n",
       "      <td>NaN</td>\n",
       "      <td>NaN</td>\n",
       "      <td>...</td>\n",
       "      <td>NaN</td>\n",
       "      <td>NaN</td>\n",
       "      <td>NaN</td>\n",
       "      <td>NaN</td>\n",
       "      <td>NaN</td>\n",
       "      <td>NaN</td>\n",
       "      <td>NaN</td>\n",
       "      <td>NaN</td>\n",
       "      <td>NaN</td>\n",
       "      <td>NaN</td>\n",
       "    </tr>\n",
       "    <tr>\n",
       "      <th>4</th>\n",
       "      <td>NaN</td>\n",
       "      <td>NaN</td>\n",
       "      <td>NaN</td>\n",
       "      <td>NaN</td>\n",
       "      <td>NaN</td>\n",
       "      <td>NaN</td>\n",
       "      <td>NaN</td>\n",
       "      <td>NaN</td>\n",
       "      <td>NaN</td>\n",
       "      <td>NaN</td>\n",
       "      <td>...</td>\n",
       "      <td>NaN</td>\n",
       "      <td>NaN</td>\n",
       "      <td>NaN</td>\n",
       "      <td>NaN</td>\n",
       "      <td>NaN</td>\n",
       "      <td>NaN</td>\n",
       "      <td>NaN</td>\n",
       "      <td>NaN</td>\n",
       "      <td>NaN</td>\n",
       "      <td>NaN</td>\n",
       "    </tr>\n",
       "    <tr>\n",
       "      <th>...</th>\n",
       "      <td>...</td>\n",
       "      <td>...</td>\n",
       "      <td>...</td>\n",
       "      <td>...</td>\n",
       "      <td>...</td>\n",
       "      <td>...</td>\n",
       "      <td>...</td>\n",
       "      <td>...</td>\n",
       "      <td>...</td>\n",
       "      <td>...</td>\n",
       "      <td>...</td>\n",
       "      <td>...</td>\n",
       "      <td>...</td>\n",
       "      <td>...</td>\n",
       "      <td>...</td>\n",
       "      <td>...</td>\n",
       "      <td>...</td>\n",
       "      <td>...</td>\n",
       "      <td>...</td>\n",
       "      <td>...</td>\n",
       "      <td>...</td>\n",
       "    </tr>\n",
       "    <tr>\n",
       "      <th>21109</th>\n",
       "      <td>NaN</td>\n",
       "      <td>NaN</td>\n",
       "      <td>NaN</td>\n",
       "      <td>-6.671821</td>\n",
       "      <td>-0.984879</td>\n",
       "      <td>10.615269</td>\n",
       "      <td>-5.609715</td>\n",
       "      <td>-1.176294</td>\n",
       "      <td>10.301602</td>\n",
       "      <td>NaN</td>\n",
       "      <td>...</td>\n",
       "      <td>NaN</td>\n",
       "      <td>NaN</td>\n",
       "      <td>NaN</td>\n",
       "      <td>NaN</td>\n",
       "      <td>NaN</td>\n",
       "      <td>NaN</td>\n",
       "      <td>NaN</td>\n",
       "      <td>NaN</td>\n",
       "      <td>NaN</td>\n",
       "      <td>NaN</td>\n",
       "    </tr>\n",
       "    <tr>\n",
       "      <th>21110</th>\n",
       "      <td>NaN</td>\n",
       "      <td>NaN</td>\n",
       "      <td>NaN</td>\n",
       "      <td>-6.457653</td>\n",
       "      <td>-1.092779</td>\n",
       "      <td>10.521489</td>\n",
       "      <td>-5.419866</td>\n",
       "      <td>-1.378405</td>\n",
       "      <td>10.219523</td>\n",
       "      <td>NaN</td>\n",
       "      <td>...</td>\n",
       "      <td>NaN</td>\n",
       "      <td>NaN</td>\n",
       "      <td>NaN</td>\n",
       "      <td>NaN</td>\n",
       "      <td>NaN</td>\n",
       "      <td>NaN</td>\n",
       "      <td>NaN</td>\n",
       "      <td>NaN</td>\n",
       "      <td>NaN</td>\n",
       "      <td>NaN</td>\n",
       "    </tr>\n",
       "    <tr>\n",
       "      <th>21111</th>\n",
       "      <td>NaN</td>\n",
       "      <td>NaN</td>\n",
       "      <td>NaN</td>\n",
       "      <td>-6.368868</td>\n",
       "      <td>-1.193823</td>\n",
       "      <td>10.481843</td>\n",
       "      <td>-5.382709</td>\n",
       "      <td>-1.417993</td>\n",
       "      <td>10.110538</td>\n",
       "      <td>NaN</td>\n",
       "      <td>...</td>\n",
       "      <td>NaN</td>\n",
       "      <td>NaN</td>\n",
       "      <td>NaN</td>\n",
       "      <td>NaN</td>\n",
       "      <td>NaN</td>\n",
       "      <td>NaN</td>\n",
       "      <td>NaN</td>\n",
       "      <td>NaN</td>\n",
       "      <td>NaN</td>\n",
       "      <td>NaN</td>\n",
       "    </tr>\n",
       "    <tr>\n",
       "      <th>21112</th>\n",
       "      <td>NaN</td>\n",
       "      <td>NaN</td>\n",
       "      <td>NaN</td>\n",
       "      <td>-6.370538</td>\n",
       "      <td>-1.200687</td>\n",
       "      <td>10.481925</td>\n",
       "      <td>-5.370077</td>\n",
       "      <td>-1.425620</td>\n",
       "      <td>10.068949</td>\n",
       "      <td>NaN</td>\n",
       "      <td>...</td>\n",
       "      <td>NaN</td>\n",
       "      <td>NaN</td>\n",
       "      <td>NaN</td>\n",
       "      <td>NaN</td>\n",
       "      <td>NaN</td>\n",
       "      <td>NaN</td>\n",
       "      <td>NaN</td>\n",
       "      <td>NaN</td>\n",
       "      <td>NaN</td>\n",
       "      <td>NaN</td>\n",
       "    </tr>\n",
       "    <tr>\n",
       "      <th>21113</th>\n",
       "      <td>NaN</td>\n",
       "      <td>NaN</td>\n",
       "      <td>NaN</td>\n",
       "      <td>-6.398517</td>\n",
       "      <td>-1.264653</td>\n",
       "      <td>10.461703</td>\n",
       "      <td>-5.425002</td>\n",
       "      <td>-1.477634</td>\n",
       "      <td>10.024297</td>\n",
       "      <td>NaN</td>\n",
       "      <td>...</td>\n",
       "      <td>NaN</td>\n",
       "      <td>NaN</td>\n",
       "      <td>NaN</td>\n",
       "      <td>NaN</td>\n",
       "      <td>NaN</td>\n",
       "      <td>NaN</td>\n",
       "      <td>NaN</td>\n",
       "      <td>NaN</td>\n",
       "      <td>NaN</td>\n",
       "      <td>NaN</td>\n",
       "    </tr>\n",
       "  </tbody>\n",
       "</table>\n",
       "<p>21114 rows × 36 columns</p>\n",
       "</div>"
      ],
      "text/plain": [
       "scorer        weikang                                                    \\\n",
       "individuals    dodson                                                     \n",
       "bodyparts   rightTuft         whiteBlaze                       leftTuft   \n",
       "coords              x   y   z          x         y          z         x   \n",
       "0                 NaN NaN NaN        NaN       NaN        NaN       NaN   \n",
       "1                 NaN NaN NaN        NaN       NaN        NaN       NaN   \n",
       "2                 NaN NaN NaN        NaN       NaN        NaN       NaN   \n",
       "3                 NaN NaN NaN        NaN       NaN        NaN       NaN   \n",
       "4                 NaN NaN NaN        NaN       NaN        NaN       NaN   \n",
       "...               ...  ..  ..        ...       ...        ...       ...   \n",
       "21109             NaN NaN NaN  -6.671821 -0.984879  10.615269 -5.609715   \n",
       "21110             NaN NaN NaN  -6.457653 -1.092779  10.521489 -5.419866   \n",
       "21111             NaN NaN NaN  -6.368868 -1.193823  10.481843 -5.382709   \n",
       "21112             NaN NaN NaN  -6.370538 -1.200687  10.481925 -5.370077   \n",
       "21113             NaN NaN NaN  -6.398517 -1.264653  10.461703 -5.425002   \n",
       "\n",
       "scorer                                     ...                            \\\n",
       "individuals                                ...   scorch                    \n",
       "bodyparts                        rightEye  ... leftTuft rightEye           \n",
       "coords              y          z        x  ...        z        x   y   z   \n",
       "0                 NaN        NaN      NaN  ...      NaN      NaN NaN NaN   \n",
       "1                 NaN        NaN      NaN  ...      NaN      NaN NaN NaN   \n",
       "2                 NaN        NaN      NaN  ...      NaN      NaN NaN NaN   \n",
       "3                 NaN        NaN      NaN  ...      NaN      NaN NaN NaN   \n",
       "4                 NaN        NaN      NaN  ...      NaN      NaN NaN NaN   \n",
       "...               ...        ...      ...  ...      ...      ...  ..  ..   \n",
       "21109       -1.176294  10.301602      NaN  ...      NaN      NaN NaN NaN   \n",
       "21110       -1.378405  10.219523      NaN  ...      NaN      NaN NaN NaN   \n",
       "21111       -1.417993  10.110538      NaN  ...      NaN      NaN NaN NaN   \n",
       "21112       -1.425620  10.068949      NaN  ...      NaN      NaN NaN NaN   \n",
       "21113       -1.477634  10.024297      NaN  ...      NaN      NaN NaN NaN   \n",
       "\n",
       "scorer                                     \n",
       "individuals                                \n",
       "bodyparts   leftEye         mouth          \n",
       "coords            x   y   z     x   y   z  \n",
       "0               NaN NaN NaN   NaN NaN NaN  \n",
       "1               NaN NaN NaN   NaN NaN NaN  \n",
       "2               NaN NaN NaN   NaN NaN NaN  \n",
       "3               NaN NaN NaN   NaN NaN NaN  \n",
       "4               NaN NaN NaN   NaN NaN NaN  \n",
       "...             ...  ..  ..   ...  ..  ..  \n",
       "21109           NaN NaN NaN   NaN NaN NaN  \n",
       "21110           NaN NaN NaN   NaN NaN NaN  \n",
       "21111           NaN NaN NaN   NaN NaN NaN  \n",
       "21112           NaN NaN NaN   NaN NaN NaN  \n",
       "21113           NaN NaN NaN   NaN NaN NaN  \n",
       "\n",
       "[21114 rows x 36 columns]"
      ]
     },
     "execution_count": 55,
     "metadata": {},
     "output_type": "execute_result"
    }
   ],
   "source": [
    "camera12_h5_data"
   ]
  },
  {
   "cell_type": "code",
   "execution_count": 4,
   "id": "c6b59b3c",
   "metadata": {},
   "outputs": [
    {
     "data": {
      "text/plain": [
       "29.97002997002997"
      ]
     },
     "execution_count": 4,
     "metadata": {},
     "output_type": "execute_result"
    }
   ],
   "source": [
    "# get the fps of the analyzed video\n",
    "import cv2\n",
    "video_cam1_file = camera12_analyzed_path + \"20220912_Dodson_Scorch_camera-1.mp4\"\n",
    "cam = cv2.VideoCapture(video_cam1_file)\n",
    "fps1 = cam.get(cv2.CAP_PROP_FPS)\n",
    "video_cam2_file = camera12_analyzed_path + \"20220912_Dodson_Scorch_camera-2.mp4\"\n",
    "cam = cv2.VideoCapture(video_cam2_file)\n",
    "fps2 = cam.get(cv2.CAP_PROP_FPS)\n",
    "fps = fps1\n",
    "fps"
   ]
  },
  {
   "cell_type": "code",
   "execution_count": 5,
   "id": "d01a7a2f",
   "metadata": {},
   "outputs": [],
   "source": [
    "# aligned with the audio\n",
    "# get the session start time from \"videosound_bhv_sync.py/.ipynb\"\n",
    "# currently the session_start_time will be manually typed in. It can be updated after a better method is used\n",
    "session_start_time = 18.10 # in second\n",
    "session_start_frame = session_start_time * fps # fps is 30Hz"
   ]
  },
  {
   "cell_type": "code",
   "execution_count": 6,
   "id": "b0bc3e9e",
   "metadata": {},
   "outputs": [],
   "source": [
    "# gaze angle threshold\n",
    "# angle_thres = np.pi/36 # 5 degree\n",
    "angle_thres = np.pi/18 # 10 degree"
   ]
  },
  {
   "cell_type": "markdown",
   "id": "04e00fff",
   "metadata": {},
   "source": [
    "# analyze based on camera 1 and camera 2 "
   ]
  },
  {
   "cell_type": "code",
   "execution_count": 7,
   "id": "9276cd2f",
   "metadata": {},
   "outputs": [
    {
     "name": "stdout",
     "output_type": "stream",
     "text": [
      "['dodson' 'scorch']\n",
      "['rightTuft' 'whiteBlaze' 'leftTuft' 'rightEye' 'leftEye' 'mouth']\n",
      "['x' 'y' 'z']\n"
     ]
    }
   ],
   "source": [
    "# analysis - camera 1 and 2\n",
    "ncols = camera12_h5_data.shape[1]\n",
    "nframes = camera12_h5_data.shape[0]\n",
    "animal_names = []\n",
    "body_parts = []\n",
    "xyz_axis = []\n",
    "\n",
    "for i in np.arange(0,ncols,1):\n",
    "    animal_names.append(camera12_h5_data.columns[i][1])\n",
    "    body_parts.append(camera12_h5_data.columns[i][2])\n",
    "    xyz_axis.append(camera12_h5_data.columns[i][3])\n",
    "  \n",
    "    # fill in the nan data point\n",
    "    data_point = camera12_h5_data.iloc[:,i]\n",
    "    data_point_filled = data_point.interpolate(method='nearest',limit_direction='both')\n",
    "    data_point_filled = data_point_filled.interpolate(method='linear',limit_direction='both')\n",
    "    # smooth the data point   \n",
    "    # data_point_filtered = data_point_filled.rolling(window=5, win_type='gaussian', center=True).mean(std=0.5)\n",
    "    #\n",
    "    # camera12_h5_data.iloc[:,i] = data_point_filled\n",
    "    \n",
    "animal_names_unique = pd.unique(animal_names)\n",
    "print(animal_names_unique)\n",
    "body_parts_unique = pd.unique(body_parts)\n",
    "print(body_parts_unique)\n",
    "xyz_axis_unique = pd.unique(xyz_axis)\n",
    "print(xyz_axis_unique)\n",
    "\n",
    "# camera12_h5_data.to_hdf(camera12_h5_file_save, key = \"camera12_h5_data\")\n"
   ]
  },
  {
   "cell_type": "code",
   "execution_count": 8,
   "id": "e1025808",
   "metadata": {},
   "outputs": [],
   "source": [
    "# find the location of each body part\n",
    "body_part_locs = {}\n",
    "for iname in animal_names_unique:\n",
    "    for ibody in body_parts_unique:\n",
    "        ind = np.isin(animal_names,iname) & np.isin(body_parts,ibody)\n",
    "        body_part_locs[(iname,ibody)] = camera12_h5_data.iloc[:,ind]  \n",
    "        \n",
    "        # remove the outlier \n",
    "        for iaxis in np.arange(0,3,1):\n",
    "            # loc_std = np.std(body_part_locs[(iname,ibody)])[iaxis]\n",
    "            # loc_mean = pd.DataFrame.mean(body_part_locs[(iname,ibody)])[iaxis]\n",
    "            # ind = (body_part_locs[(iname,ibody)].iloc[:,iaxis]>loc_mean+3*loc_std) | (body_part_locs[(iname,ibody)].iloc[:,iaxis]<loc_mean-3*loc_std)\n",
    "            # body_part_locs[(iname,ibody)].iloc[:,iaxis][ind] = np.nan\n",
    "            q1 = np.nanquantile(body_part_locs[(iname,ibody)].iloc[:,iaxis],0.25)\n",
    "            q3 = np.nanquantile(body_part_locs[(iname,ibody)].iloc[:,iaxis],0.75)\n",
    "            thres1 = q1 - 1.5*abs(q3-q1)\n",
    "            thres2 = q3 + 1.5*abs(q3-q1)\n",
    "            ind = (body_part_locs[(iname,ibody)].iloc[:,iaxis]>thres2) | (body_part_locs[(iname,ibody)].iloc[:,iaxis]<thres1)\n",
    "            body_part_locs[(iname,ibody)].iloc[:,iaxis][ind] = np.nan\n",
    "            \n",
    "body_part_locs_camera12 = body_part_locs"
   ]
  },
  {
   "cell_type": "code",
   "execution_count": 9,
   "id": "cd5ff172",
   "metadata": {},
   "outputs": [],
   "source": [
    "warnings.filterwarnings('ignore')\n",
    "eye_direction_camera12 = {}\n",
    "eye_contact_or_not_camera12 = {}\n",
    "look_at_face_or_not_camera12 = {}\n",
    "for iname in animal_names_unique:\n",
    "    eye_dir_frames = []\n",
    "    eye_contact_frames = []\n",
    "    look_at_face_frames = []\n",
    "    for iframe in np.arange(0,nframes,1):\n",
    "        lefteye_loc = body_part_locs[(iname,'leftEye')].iloc[iframe,:].to_numpy()\n",
    "        righteye_loc = body_part_locs[(iname,'rightEye')].iloc[iframe,:].to_numpy()\n",
    "        lefttuft_loc = body_part_locs[(iname,'leftTuft')].iloc[iframe,:].to_numpy()\n",
    "        righttuft_loc = body_part_locs[(iname,'rightTuft')].iloc[iframe,:].to_numpy()\n",
    "        whiblz_loc = body_part_locs[(iname,'whiteBlaze')].iloc[iframe,:].to_numpy()\n",
    "        mouth_loc = body_part_locs[(iname,'mouth')].iloc[iframe,:].to_numpy()\n",
    "        \n",
    "        Vect1 = lefteye_loc - righteye_loc\n",
    "        Vect2 = whiblz_loc - mouth_loc\n",
    "        Vect3 = lefttuft_loc - lefteye_loc\n",
    "        Vect4 = righttuft_loc - righteye_loc\n",
    "        \n",
    "        try:       \n",
    "            Vect1 = Vect1 / scipy.linalg.norm(Vect1)\n",
    "            Vect2 = Vect2 / scipy.linalg.norm(Vect2) \n",
    "        except:\n",
    "            Vect1 = Vect1\n",
    "            Vect2 = Vect2\n",
    "        eyesight_dir = np.cross(Vect1, Vect2)\n",
    "        \n",
    "        if ((np.dot(eyesight_dir, Vect3)>0) | (np.dot(eyesight_dir, Vect4)>0)):\n",
    "            eyesight_dir = -eyesight_dir\n",
    "        \n",
    "        eye_dir_frames.append(eyesight_dir)\n",
    "        \n",
    "        \n",
    "        # examine whether this animal is looking at the other's eyes or face\n",
    "        if (iname == animal_names_unique[0]): \n",
    "            iname_other = animal_names_unique[1]\n",
    "        elif (iname == animal_names_unique[1]): \n",
    "            iname_other = animal_names_unique[0]\n",
    "            \n",
    "        lefteye_loc_other = body_part_locs[(iname_other,'leftEye')].iloc[iframe,:].to_numpy()\n",
    "        righteye_loc_other = body_part_locs[(iname_other,'rightEye')].iloc[iframe,:].to_numpy()\n",
    "        lefttuft_loc_other = body_part_locs[(iname_other,'leftTuft')].iloc[iframe,:].to_numpy()\n",
    "        righttuft_loc_other = body_part_locs[(iname_other,'rightTuft')].iloc[iframe,:].to_numpy()\n",
    "        whiblz_loc_other = body_part_locs[(iname_other,'whiteBlaze')].iloc[iframe,:].to_numpy()\n",
    "        mouth_loc_other = body_part_locs[(iname_other,'mouth')].iloc[iframe,:].to_numpy()\n",
    "        \n",
    "        # where left eye is looking\n",
    "        # vector between body part\n",
    "        vect1_lefteye = lefteye_loc_other - lefteye_loc\n",
    "        vect2_lefteye = righteye_loc_other - lefteye_loc\n",
    "        vect3_lefteye = lefttuft_loc_other - lefteye_loc\n",
    "        vect4_lefteye = righttuft_loc_other - lefteye_loc\n",
    "        vect5_lefteye = whiblz_loc_other - lefteye_loc\n",
    "        vect6_lefteye = mouth_loc_other - lefteye_loc\n",
    "        # angle between body part vector and eyesight direction\n",
    "        angle1_lefteye =  np.sign(np.dot(eyesight_dir,vect1_lefteye))*np.arccos(np.clip(np.dot(eyesight_dir/np.linalg.norm(eyesight_dir), vect1_lefteye/np.linalg.norm(vect1_lefteye)), -1.0, 1.0))       \n",
    "        angle2_lefteye =  np.sign(np.dot(eyesight_dir,vect2_lefteye))*np.arccos(np.clip(np.dot(eyesight_dir/np.linalg.norm(eyesight_dir), vect2_lefteye/np.linalg.norm(vect2_lefteye)), -1.0, 1.0))\n",
    "        angle3_lefteye =  np.sign(np.dot(eyesight_dir,vect3_lefteye))*np.arccos(np.clip(np.dot(eyesight_dir/np.linalg.norm(eyesight_dir), vect3_lefteye/np.linalg.norm(vect3_lefteye)), -1.0, 1.0))\n",
    "        angle4_lefteye =  np.sign(np.dot(eyesight_dir,vect4_lefteye))*np.arccos(np.clip(np.dot(eyesight_dir/np.linalg.norm(eyesight_dir), vect4_lefteye/np.linalg.norm(vect4_lefteye)), -1.0, 1.0))\n",
    "        angle5_lefteye =  np.sign(np.dot(eyesight_dir,vect5_lefteye))*np.arccos(np.clip(np.dot(eyesight_dir/np.linalg.norm(eyesight_dir), vect5_lefteye/np.linalg.norm(vect5_lefteye)), -1.0, 1.0))\n",
    "        angle6_lefteye =  np.sign(np.dot(eyesight_dir,vect6_lefteye))*np.arccos(np.clip(np.dot(eyesight_dir/np.linalg.norm(eyesight_dir), vect6_lefteye/np.linalg.norm(vect6_lefteye)), -1.0, 1.0))\n",
    "        \n",
    "        # where right eye is looking\n",
    "        # vector between body part\n",
    "        vect1_righteye = lefteye_loc_other - righteye_loc\n",
    "        vect2_righteye = righteye_loc_other - righteye_loc\n",
    "        vect3_righteye = lefttuft_loc_other - righteye_loc\n",
    "        vect4_righteye = righttuft_loc_other - righteye_loc\n",
    "        vect5_righteye = whiblz_loc_other - righteye_loc\n",
    "        vect6_righteye = mouth_loc_other - righteye_loc\n",
    "        # angle between body part vector and eyesight direction\n",
    "        angle1_righteye =  np.sign(np.dot(eyesight_dir,vect1_righteye))*np.arccos(np.clip(np.dot(eyesight_dir/np.linalg.norm(eyesight_dir), vect1_righteye/np.linalg.norm(vect1_righteye)), -1.0, 1.0))       \n",
    "        angle2_righteye =  np.sign(np.dot(eyesight_dir,vect2_righteye))*np.arccos(np.clip(np.dot(eyesight_dir/np.linalg.norm(eyesight_dir), vect2_righteye/np.linalg.norm(vect2_righteye)), -1.0, 1.0))\n",
    "        angle3_righteye =  np.sign(np.dot(eyesight_dir,vect3_righteye))*np.arccos(np.clip(np.dot(eyesight_dir/np.linalg.norm(eyesight_dir), vect3_righteye/np.linalg.norm(vect3_righteye)), -1.0, 1.0))\n",
    "        angle4_righteye =  np.sign(np.dot(eyesight_dir,vect4_righteye))*np.arccos(np.clip(np.dot(eyesight_dir/np.linalg.norm(eyesight_dir), vect4_righteye/np.linalg.norm(vect4_righteye)), -1.0, 1.0))\n",
    "        angle5_righteye =  np.sign(np.dot(eyesight_dir,vect5_righteye))*np.arccos(np.clip(np.dot(eyesight_dir/np.linalg.norm(eyesight_dir), vect5_righteye/np.linalg.norm(vect5_righteye)), -1.0, 1.0))\n",
    "        angle6_righteye =  np.sign(np.dot(eyesight_dir,vect6_righteye))*np.arccos(np.clip(np.dot(eyesight_dir/np.linalg.norm(eyesight_dir), vect6_righteye/np.linalg.norm(vect6_righteye)), -1.0, 1.0))\n",
    "        \n",
    "        lefteye_contact_thres = ((angle1_lefteye>0)&(angle1_lefteye<angle_thres))|((angle2_lefteye>0)&(angle2_lefteye<angle_thres))\n",
    "        lefteye_lookface_thres = ((angle3_lefteye>0)&(angle3_lefteye<angle_thres))|((angle4_lefteye>0)&(angle4_lefteye<angle_thres))|((angle5_lefteye>0)&(angle5_lefteye<angle_thres))|((angle6_lefteye>0)&(angle6_lefteye<angle_thres))\n",
    "        righteye_contact_thres = ((angle1_righteye>0)&(angle1_righteye<angle_thres))|((angle2_righteye>0)&(angle2_righteye<angle_thres))\n",
    "        righteye_lookface_thres = ((angle3_righteye>0)&(angle3_righteye<angle_thres))|((angle4_righteye>0)&(angle4_righteye<angle_thres))|((angle5_righteye>0)&(angle5_righteye<angle_thres))|((angle6_righteye>0)&(angle6_righteye<angle_thres))\n",
    "        \n",
    "        eye_contact_frames.append(np.int(lefteye_contact_thres|righteye_contact_thres))\n",
    "        look_at_face_frames.append(np.int(lefteye_contact_thres|righteye_contact_thres|lefteye_lookface_thres|righteye_lookface_thres))\n",
    "        \n",
    "    # save to the summarized data\n",
    "    eye_direction_camera12[(iname)] = eye_dir_frames\n",
    "    eye_contact_or_not_camera12[(iname)] = eye_contact_frames\n",
    "    look_at_face_or_not_camera12[(iname)] = look_at_face_frames\n",
    "        "
   ]
  },
  {
   "cell_type": "code",
   "execution_count": 10,
   "id": "5764ffcb",
   "metadata": {},
   "outputs": [],
   "source": [
    "eye_direction_camera12['time_in_second'] = np.arange(0,np.shape(eye_direction_camera12['dodson'])[0],1)/30 - session_start_time\n",
    "eye_contact_or_not_camera12['time_in_second'] = np.arange(0,np.shape(eye_contact_or_not_camera12['dodson'])[0],1)/30 - session_start_time\n",
    "look_at_face_or_not_camera12['time_in_second'] = np.arange(0,np.shape(look_at_face_or_not_camera12['dodson'])[0],1)/30 - session_start_time"
   ]
  },
  {
   "cell_type": "code",
   "execution_count": 11,
   "id": "115700d8",
   "metadata": {},
   "outputs": [
    {
     "data": {
      "text/plain": [
       "(array([  172,   175,  1356,  1357,  3097,  4162,  6318,  6779, 18891]),)"
      ]
     },
     "execution_count": 11,
     "metadata": {},
     "output_type": "execute_result"
    }
   ],
   "source": [
    "# sanity check\n",
    "np.where(np.array(eye_contact_or_not_camera12['scorch'])==1)"
   ]
  },
  {
   "cell_type": "code",
   "execution_count": 12,
   "id": "626cf9ed",
   "metadata": {},
   "outputs": [
    {
     "data": {
      "text/plain": [
       "(array([ 6619, 13206, 13490, 15471, 20267]),)"
      ]
     },
     "execution_count": 12,
     "metadata": {},
     "output_type": "execute_result"
    }
   ],
   "source": [
    "# sanity check\n",
    "np.where(np.array(eye_contact_or_not_camera12['dodson'])==1)"
   ]
  },
  {
   "cell_type": "code",
   "execution_count": 13,
   "id": "1712422a",
   "metadata": {},
   "outputs": [],
   "source": [
    "# save data\n",
    "with open(camera12_analyzed_path + 'body_part_locs_camera12.pkl', 'wb') as f:\n",
    "    pickle.dump(body_part_locs_camera12, f)\n",
    "with open(camera12_analyzed_path + 'eye_direction_camera12.pkl', 'wb') as f:\n",
    "    pickle.dump(eye_direction_camera12, f)\n",
    "with open(camera12_analyzed_path + 'eye_contact_or_not_camera12.pkl', 'wb') as f:\n",
    "    pickle.dump(eye_contact_or_not_camera12, f)\n",
    "with open(camera12_analyzed_path + 'look_at_face_or_not_camera12.pkl', 'wb') as f:\n",
    "    pickle.dump(look_at_face_or_not_camera12, f)\n",
    "## read\n",
    "# with open(camera12_analyzed_path + 'body_part_locs_camera12.pkl', 'rb') as f:\n",
    "#     data = pickle.load(f) \n"
   ]
  },
  {
   "cell_type": "markdown",
   "id": "98fffb6d",
   "metadata": {},
   "source": [
    "# analyze based on camera 2 and camera 3 "
   ]
  },
  {
   "cell_type": "code",
   "execution_count": 14,
   "id": "99755eb8",
   "metadata": {},
   "outputs": [
    {
     "name": "stdout",
     "output_type": "stream",
     "text": [
      "['dodson' 'scorch']\n",
      "['rightTuft' 'whiteBlaze' 'leftTuft' 'rightEye' 'leftEye' 'mouth']\n"
     ]
    }
   ],
   "source": [
    "# analysis - camera 2 and 3\n",
    "ncols = camera23_h5_data.shape[1]\n",
    "nframes = camera23_h5_data.shape[0]\n",
    "animal_names = []\n",
    "body_parts = []\n",
    "xyz_axis = []\n",
    "\n",
    "for i in np.arange(0,ncols,1):\n",
    "    animal_names.append(camera23_h5_data.columns[i][1])\n",
    "    body_parts.append(camera23_h5_data.columns[i][2])\n",
    "    xyz_axis.append(camera23_h5_data.columns[i][3])\n",
    "  \n",
    "    # fill in the nan data point\n",
    "    data_point = camera23_h5_data.iloc[:,i]\n",
    "    data_point_filled = data_point.interpolate(method='nearest',limit_direction='both')\n",
    "    data_point_filled = data_point_filled.interpolate(method='linear',limit_direction='both')\n",
    "    # smooth the data point   \n",
    "    # data_point_filtered = data_point_filled.rolling(window=5, win_type='gaussian', center=True).mean(std=0.5)\n",
    "    #\n",
    "    # camera23_h5_data.iloc[:,i] = data_point_filled\n",
    "    \n",
    "animal_names_unique = pd.unique(animal_names)\n",
    "print(animal_names_unique)\n",
    "body_parts_unique = pd.unique(body_parts)\n",
    "print(body_parts_unique)\n",
    "\n",
    "# camera23_h5_data.to_hdf(camera23_h5_file_save, key = \"camera23_h5_data\")\n"
   ]
  },
  {
   "cell_type": "code",
   "execution_count": 15,
   "id": "df892d97",
   "metadata": {},
   "outputs": [],
   "source": [
    "# find the location of each body part\n",
    "body_part_locs = {}\n",
    "for iname in animal_names_unique:\n",
    "    for ibody in body_parts_unique:\n",
    "        ind = np.isin(animal_names,iname) & np.isin(body_parts,ibody)\n",
    "        body_part_locs[(iname,ibody)] = camera23_h5_data.iloc[:,ind]    \n",
    "        \n",
    "        # remove the outlier \n",
    "        for iaxis in np.arange(0,3,1):\n",
    "            # loc_std = np.std(body_part_locs[(iname,ibody)])[iaxis]\n",
    "            # loc_mean = pd.DataFrame.mean(body_part_locs[(iname,ibody)])[iaxis]\n",
    "            # ind = (body_part_locs[(iname,ibody)].iloc[:,iaxis]>loc_mean+3*loc_std) | (body_part_locs[(iname,ibody)].iloc[:,iaxis]<loc_mean-3*loc_std)\n",
    "            # body_part_locs[(iname,ibody)].iloc[:,iaxis][ind] = np.nan\n",
    "            q1 = np.nanquantile(body_part_locs[(iname,ibody)].iloc[:,iaxis],0.25)\n",
    "            q3 = np.nanquantile(body_part_locs[(iname,ibody)].iloc[:,iaxis],0.75)\n",
    "            thres1 = q1 - 1.5*abs(q3-q1)\n",
    "            thres2 = q3 + 1.5*abs(q3-q1)\n",
    "            ind = (body_part_locs[(iname,ibody)].iloc[:,iaxis]>thres2) | (body_part_locs[(iname,ibody)].iloc[:,iaxis]<thres1)\n",
    "            body_part_locs[(iname,ibody)].iloc[:,iaxis][ind] = np.nan\n",
    "            \n",
    "body_part_locs_camera23 = body_part_locs"
   ]
  },
  {
   "cell_type": "code",
   "execution_count": 16,
   "id": "03097f42",
   "metadata": {},
   "outputs": [],
   "source": [
    "warnings.filterwarnings('ignore')\n",
    "eye_direction_camera23 = {}\n",
    "eye_contact_or_not_camera23 = {}\n",
    "look_at_face_or_not_camera23 = {}\n",
    "for iname in animal_names_unique:\n",
    "    eye_dir_frames = []\n",
    "    eye_contact_frames = []\n",
    "    look_at_face_frames = []\n",
    "    for iframe in np.arange(0,nframes,1):\n",
    "        lefteye_loc = body_part_locs[(iname,'leftEye')].iloc[iframe,:].to_numpy()\n",
    "        righteye_loc = body_part_locs[(iname,'rightEye')].iloc[iframe,:].to_numpy()\n",
    "        lefttuft_loc = body_part_locs[(iname,'leftTuft')].iloc[iframe,:].to_numpy()\n",
    "        righttuft_loc = body_part_locs[(iname,'rightTuft')].iloc[iframe,:].to_numpy()\n",
    "        whiblz_loc = body_part_locs[(iname,'whiteBlaze')].iloc[iframe,:].to_numpy()\n",
    "        mouth_loc = body_part_locs[(iname,'mouth')].iloc[iframe,:].to_numpy()\n",
    "        \n",
    "        Vect1 = lefteye_loc - righteye_loc\n",
    "        Vect2 = whiblz_loc - mouth_loc\n",
    "        Vect3 = lefttuft_loc - lefteye_loc\n",
    "        Vect4 = righttuft_loc - righteye_loc\n",
    "        \n",
    "        try:       \n",
    "            Vect1 = Vect1 / scipy.linalg.norm(Vect1)\n",
    "            Vect2 = Vect2 / scipy.linalg.norm(Vect2) \n",
    "        except:\n",
    "            Vect1 = Vect1\n",
    "            Vect2 = Vect2\n",
    "        eyesight_dir = np.cross(Vect1, Vect2)\n",
    "        \n",
    "        if ((np.dot(eyesight_dir, Vect3)>0) | (np.dot(eyesight_dir, Vect4)>0)):\n",
    "            eyesight_dir = -eyesight_dir\n",
    "        \n",
    "        eye_dir_frames.append(eyesight_dir)\n",
    "        \n",
    "        \n",
    "        # examine whether this animal is looking at the other's eyes or face\n",
    "        if (iname == animal_names_unique[0]): \n",
    "            iname_other = animal_names_unique[1]\n",
    "        elif (iname == animal_names_unique[1]): \n",
    "            iname_other = animal_names_unique[0]\n",
    "            \n",
    "        lefteye_loc_other = body_part_locs[(iname_other,'leftEye')].iloc[iframe,:].to_numpy()\n",
    "        righteye_loc_other = body_part_locs[(iname_other,'rightEye')].iloc[iframe,:].to_numpy()\n",
    "        lefttuft_loc_other = body_part_locs[(iname_other,'leftTuft')].iloc[iframe,:].to_numpy()\n",
    "        righttuft_loc_other = body_part_locs[(iname_other,'rightTuft')].iloc[iframe,:].to_numpy()\n",
    "        whiblz_loc_other = body_part_locs[(iname_other,'whiteBlaze')].iloc[iframe,:].to_numpy()\n",
    "        mouth_loc_other = body_part_locs[(iname_other,'mouth')].iloc[iframe,:].to_numpy()\n",
    "        \n",
    "        # where left eye is looking\n",
    "        # vector between body part\n",
    "        vect1_lefteye = lefteye_loc_other - lefteye_loc\n",
    "        vect2_lefteye = righteye_loc_other - lefteye_loc\n",
    "        vect3_lefteye = lefttuft_loc_other - lefteye_loc\n",
    "        vect4_lefteye = righttuft_loc_other - lefteye_loc\n",
    "        vect5_lefteye = whiblz_loc_other - lefteye_loc\n",
    "        vect6_lefteye = mouth_loc_other - lefteye_loc\n",
    "        # angle between body part vector and eyesight direction\n",
    "        angle1_lefteye =  np.sign(np.dot(eyesight_dir,vect1_lefteye))*np.arccos(np.clip(np.dot(eyesight_dir/np.linalg.norm(eyesight_dir), vect1_lefteye/np.linalg.norm(vect1_lefteye)), -1.0, 1.0))       \n",
    "        angle2_lefteye =  np.sign(np.dot(eyesight_dir,vect2_lefteye))*np.arccos(np.clip(np.dot(eyesight_dir/np.linalg.norm(eyesight_dir), vect2_lefteye/np.linalg.norm(vect2_lefteye)), -1.0, 1.0))\n",
    "        angle3_lefteye =  np.sign(np.dot(eyesight_dir,vect3_lefteye))*np.arccos(np.clip(np.dot(eyesight_dir/np.linalg.norm(eyesight_dir), vect3_lefteye/np.linalg.norm(vect3_lefteye)), -1.0, 1.0))\n",
    "        angle4_lefteye =  np.sign(np.dot(eyesight_dir,vect4_lefteye))*np.arccos(np.clip(np.dot(eyesight_dir/np.linalg.norm(eyesight_dir), vect4_lefteye/np.linalg.norm(vect4_lefteye)), -1.0, 1.0))\n",
    "        angle5_lefteye =  np.sign(np.dot(eyesight_dir,vect5_lefteye))*np.arccos(np.clip(np.dot(eyesight_dir/np.linalg.norm(eyesight_dir), vect5_lefteye/np.linalg.norm(vect5_lefteye)), -1.0, 1.0))\n",
    "        angle6_lefteye =  np.sign(np.dot(eyesight_dir,vect6_lefteye))*np.arccos(np.clip(np.dot(eyesight_dir/np.linalg.norm(eyesight_dir), vect6_lefteye/np.linalg.norm(vect6_lefteye)), -1.0, 1.0))\n",
    "        \n",
    "        # where right eye is looking\n",
    "        # vector between body part\n",
    "        vect1_righteye = lefteye_loc_other - righteye_loc\n",
    "        vect2_righteye = righteye_loc_other - righteye_loc\n",
    "        vect3_righteye = lefttuft_loc_other - righteye_loc\n",
    "        vect4_righteye = righttuft_loc_other - righteye_loc\n",
    "        vect5_righteye = whiblz_loc_other - righteye_loc\n",
    "        vect6_righteye = mouth_loc_other - righteye_loc\n",
    "        # angle between body part vector and eyesight direction\n",
    "        angle1_righteye =  np.sign(np.dot(eyesight_dir,vect1_righteye))*np.arccos(np.clip(np.dot(eyesight_dir/np.linalg.norm(eyesight_dir), vect1_righteye/np.linalg.norm(vect1_righteye)), -1.0, 1.0))       \n",
    "        angle2_righteye =  np.sign(np.dot(eyesight_dir,vect2_righteye))*np.arccos(np.clip(np.dot(eyesight_dir/np.linalg.norm(eyesight_dir), vect2_righteye/np.linalg.norm(vect2_righteye)), -1.0, 1.0))\n",
    "        angle3_righteye =  np.sign(np.dot(eyesight_dir,vect3_righteye))*np.arccos(np.clip(np.dot(eyesight_dir/np.linalg.norm(eyesight_dir), vect3_righteye/np.linalg.norm(vect3_righteye)), -1.0, 1.0))\n",
    "        angle4_righteye =  np.sign(np.dot(eyesight_dir,vect4_righteye))*np.arccos(np.clip(np.dot(eyesight_dir/np.linalg.norm(eyesight_dir), vect4_righteye/np.linalg.norm(vect4_righteye)), -1.0, 1.0))\n",
    "        angle5_righteye =  np.sign(np.dot(eyesight_dir,vect5_righteye))*np.arccos(np.clip(np.dot(eyesight_dir/np.linalg.norm(eyesight_dir), vect5_righteye/np.linalg.norm(vect5_righteye)), -1.0, 1.0))\n",
    "        angle6_righteye =  np.sign(np.dot(eyesight_dir,vect6_righteye))*np.arccos(np.clip(np.dot(eyesight_dir/np.linalg.norm(eyesight_dir), vect6_righteye/np.linalg.norm(vect6_righteye)), -1.0, 1.0))\n",
    "        \n",
    "        lefteye_contact_thres = ((angle1_lefteye>0)&(angle1_lefteye<angle_thres))|((angle2_lefteye>0)&(angle2_lefteye<angle_thres))\n",
    "        lefteye_lookface_thres = ((angle3_lefteye>0)&(angle3_lefteye<angle_thres))|((angle4_lefteye>0)&(angle4_lefteye<angle_thres))|((angle5_lefteye>0)&(angle5_lefteye<angle_thres))|((angle6_lefteye>0)&(angle6_lefteye<angle_thres))\n",
    "        righteye_contact_thres = ((angle1_righteye>0)&(angle1_righteye<angle_thres))|((angle2_righteye>0)&(angle2_righteye<angle_thres))\n",
    "        righteye_lookface_thres = ((angle3_righteye>0)&(angle3_righteye<angle_thres))|((angle4_righteye>0)&(angle4_righteye<angle_thres))|((angle5_righteye>0)&(angle5_righteye<angle_thres))|((angle6_righteye>0)&(angle6_righteye<angle_thres))\n",
    "        \n",
    "        eye_contact_frames.append(np.int(lefteye_contact_thres|righteye_contact_thres))\n",
    "        look_at_face_frames.append(np.int(lefteye_contact_thres|righteye_contact_thres|lefteye_lookface_thres|righteye_lookface_thres))\n",
    "        \n",
    "    # save to the summarized data\n",
    "    eye_direction_camera23[(iname)] = eye_dir_frames\n",
    "    eye_contact_or_not_camera23[(iname)] = eye_contact_frames\n",
    "    look_at_face_or_not_camera23[(iname)] = look_at_face_frames\n",
    "        "
   ]
  },
  {
   "cell_type": "code",
   "execution_count": 17,
   "id": "8f761794",
   "metadata": {},
   "outputs": [],
   "source": [
    "eye_direction_camera23['time_in_second'] = np.arange(0,np.shape(eye_direction_camera23['dodson'])[0],1)/30 - session_start_time\n",
    "eye_contact_or_not_camera23['time_in_second'] = np.arange(0,np.shape(eye_contact_or_not_camera23['dodson'])[0],1)/30 - session_start_time\n",
    "look_at_face_or_not_camera23['time_in_second'] = np.arange(0,np.shape(look_at_face_or_not_camera23['dodson'])[0],1)/30 - session_start_time"
   ]
  },
  {
   "cell_type": "code",
   "execution_count": 18,
   "id": "1ccefaf7",
   "metadata": {},
   "outputs": [
    {
     "data": {
      "text/plain": [
       "(array([3067]),)"
      ]
     },
     "execution_count": 18,
     "metadata": {},
     "output_type": "execute_result"
    }
   ],
   "source": [
    "# sanity check\n",
    "np.where(np.array(eye_contact_or_not_camera23['scorch'])==1)"
   ]
  },
  {
   "cell_type": "code",
   "execution_count": 19,
   "id": "e9044c12",
   "metadata": {},
   "outputs": [
    {
     "data": {
      "text/plain": [
       "(array([  785,   792,  1987,  3627,  3938,  3939,  4486,  6162,  6764,\n",
       "         9036,  9037,  9038,  9039, 10718, 13174, 13175, 13201, 13204,\n",
       "        13205, 13485, 13488, 14534, 14535, 14536, 14537, 14538, 14539,\n",
       "        14540, 15675, 15676, 15677, 16685, 19111, 19815, 19816, 20346]),)"
      ]
     },
     "execution_count": 19,
     "metadata": {},
     "output_type": "execute_result"
    }
   ],
   "source": [
    "# sanity check\n",
    "np.where(np.array(eye_contact_or_not_camera23['dodson'])==1)"
   ]
  },
  {
   "cell_type": "code",
   "execution_count": 20,
   "id": "448aabb2",
   "metadata": {},
   "outputs": [],
   "source": [
    "# save data\n",
    "with open(camera23_analyzed_path + 'body_part_locs_camera23.pkl', 'wb') as f:\n",
    "    pickle.dump(body_part_locs_camera23, f)\n",
    "with open(camera23_analyzed_path + 'eye_direction_camera23.pkl', 'wb') as f:\n",
    "    pickle.dump(eye_direction_camera23, f)\n",
    "with open(camera23_analyzed_path + 'eye_contact_or_not_camera23.pkl', 'wb') as f:\n",
    "    pickle.dump(eye_contact_or_not_camera23, f)\n",
    "with open(camera23_analyzed_path + 'look_at_face_or_not_camera23.pkl', 'wb') as f:\n",
    "    pickle.dump(look_at_face_or_not_camera23, f)\n",
    "## read\n",
    "# with open(camera23_analyzed_path + 'body_part_locs_camera23.pkl', 'rb') as f:\n",
    "#     data = pickle.load(f) \n"
   ]
  },
  {
   "cell_type": "markdown",
   "id": "daf624e3",
   "metadata": {},
   "source": [
    "# examine the relationship between camera pairs\n",
    "## make the 3d space aligned with each pair"
   ]
  },
  {
   "cell_type": "code",
   "execution_count": 56,
   "id": "81472895",
   "metadata": {},
   "outputs": [],
   "source": [
    "# load data\n",
    "try:\n",
    "    ## read\n",
    "    with open(camera23_analyzed_path + 'body_part_locs_camera23.pkl', 'rb') as f:\n",
    "        body_part_locs_camera23 = pickle.load(f) \n",
    "    with open(camera12_analyzed_path + 'body_part_locs_camera12.pkl', 'rb') as f:\n",
    "        body_part_locs_camera12 = pickle.load(f) \n",
    "except:\n",
    "    print(\"did not save data\")"
   ]
  },
  {
   "cell_type": "code",
   "execution_count": 57,
   "id": "a61c6bb3",
   "metadata": {},
   "outputs": [],
   "source": [
    "# sanity check \n",
    "xxx = body_part_locs_camera23[('dodson','leftEye')].iloc[:,0]\n",
    "yyy = body_part_locs_camera12[('dodson','leftEye')].iloc[:,0]"
   ]
  },
  {
   "cell_type": "code",
   "execution_count": 58,
   "id": "7312c9a0",
   "metadata": {},
   "outputs": [],
   "source": [
    "min_length = np.min([np.shape(xxx)[0],np.shape(yyy)[0]])\n",
    "xxx = xxx[np.arange(0,min_length,1)]\n",
    "yyy = yyy[np.arange(0,min_length,1)]"
   ]
  },
  {
   "cell_type": "code",
   "execution_count": 59,
   "id": "5c7ec3ba",
   "metadata": {
    "scrolled": true
   },
   "outputs": [
    {
     "data": {
      "text/plain": [
       "[<matplotlib.lines.Line2D at 0x2afd1af4b580>]"
      ]
     },
     "execution_count": 59,
     "metadata": {},
     "output_type": "execute_result"
    },
    {
     "data": {
      "image/png": "[encoded data removed]",
      "text/plain": [
       "<Figure size 432x288 with 1 Axes>"
      ]
     },
     "metadata": {
      "needs_background": "light"
     },
     "output_type": "display_data"
    }
   ],
   "source": [
    "plt.plot(xxx,yyy,'.')"
   ]
  },
  {
   "cell_type": "code",
   "execution_count": 60,
   "id": "31ade45e",
   "metadata": {},
   "outputs": [],
   "source": [
    "# try the rotation on all possible pairs\n",
    "RR_sum = {}\n",
    "tt_sum = {}\n",
    "err_sum = {}\n",
    "for iname in animal_names_unique:\n",
    "    for ibody in body_parts_unique:\n",
    "        xxx = body_part_locs_camera23[(iname,ibody)]\n",
    "        yyy = body_part_locs_camera12[(iname,ibody)]\n",
    "        min_lengh = np.min([xxx.shape[0],yyy.shape[0]])\n",
    "        \n",
    "        xxx = xxx.loc[np.arange(0,min_length,1),:]\n",
    "        yyy = yyy.loc[np.arange(0,min_length,1),:]     \n",
    "        \n",
    "        ind_good = (~np.isnan(xxx.iloc[:,0]) & ~np.isnan(xxx.iloc[:,1]) & ~np.isnan(xxx.iloc[:,2])) & (~np.isnan(yyy.iloc[:,0]) & ~np.isnan(yyy.iloc[:,1]) & ~np.isnan(yyy.iloc[:,2])) \n",
    "        xxx_values = pd.DataFrame.transpose(xxx.loc[ind_good,:]).values\n",
    "        yyy_values = pd.DataFrame.transpose(yyy.loc[ind_good,:]).values\n",
    "        \n",
    "        xxx_centroid = np.dot(np.mean(xxx_values,axis = 1).reshape(3,1), np.ones((1,np.shape(xxx_values)[1])))\n",
    "        yyy_centroid = np.dot(np.mean(yyy_values,axis = 1).reshape(3,1), np.ones((1,np.shape(xxx_values)[1])))\n",
    "        HH = np.dot((xxx_values - xxx_centroid), np.transpose(yyy_values - yyy_centroid))\n",
    "        u, s, vh = np.linalg.svd(HH, full_matrices=True)\n",
    "        RR = np.dot(np.transpose(vh),np.transpose(u))\n",
    "        tt= yyy_centroid - np.dot(RR,xxx_centroid)\n",
    "        tt = tt[:,1].reshape(3,1)\n",
    "        \n",
    "        RR_sum[(iname,ibody)] = RR\n",
    "        tt_sum[(iname,ibody)] = tt\n",
    "        err_sum[(iname,ibody)] = np.sum(np.square(yyy_values - (np.dot(RR,xxx_values)+np.dot(tt, np.ones((1,np.shape(xxx_values)[1]))))))\n",
    "\n",
    "RR = RR_sum[min(err_sum, key=err_sum.get)]\n",
    "tt = tt_sum[min(err_sum, key=err_sum.get)]\n"
   ]
  },
  {
   "cell_type": "code",
   "execution_count": 61,
   "id": "e4b09481",
   "metadata": {},
   "outputs": [
    {
     "data": {
      "text/plain": [
       "[<matplotlib.lines.Line2D at 0x2afd1afb0c10>]"
      ]
     },
     "execution_count": 61,
     "metadata": {},
     "output_type": "execute_result"
    },
    {
     "data": {
      "image/png": "[encoded data removed]",
      "text/plain": [
       "<Figure size 432x288 with 1 Axes>"
      ]
     },
     "metadata": {
      "needs_background": "light"
     },
     "output_type": "display_data"
    }
   ],
   "source": [
    "# sanity check\n",
    "xxx_plot = np.transpose(body_part_locs_camera23[('scorch','leftTuft')].loc[np.arange(0,min_length,1),:].values)\n",
    "yyy_plot = np.transpose(body_part_locs_camera12[('scorch','leftTuft')].loc[np.arange(0,min_length,1),:].values)\n",
    "yyy_change = np.dot(RR,xxx_plot)\n",
    "tt_change = np.dot(tt, np.ones((1,np.shape(xxx_plot)[1])))\n",
    "yyy_change = np.dot(RR,xxx_plot) + tt_change\n",
    "plt.plot(xxx_plot[0,:],yyy_plot[0,:],'.')\n",
    "plt.plot(xxx_plot[0,:],yyy_change[0,:],'.')\n",
    "plt.plot(yyy_plot[0,:],yyy_change[0,:],'.')"
   ]
  },
  {
   "cell_type": "markdown",
   "id": "ae4b328a",
   "metadata": {},
   "source": [
    "## merge the bhv from the two pairs of camera and redo the analysis"
   ]
  },
  {
   "cell_type": "code",
   "execution_count": 62,
   "id": "5a66c484",
   "metadata": {},
   "outputs": [],
   "source": [
    "# merge the two pairs of cameras\n",
    "body_part_locs_merge = {}\n",
    "for iname in animal_names_unique:\n",
    "    for ibody in body_parts_unique:\n",
    "        RR = RR_sum[(iname,ibody)]\n",
    "        tt = tt_sum[(iname,ibody)]\n",
    "        body_part_x = np.transpose(body_part_locs_camera23[(iname,ibody)].loc[np.arange(0,min_length,1),:])\n",
    "        body_part_project = np.transpose(np.dot(RR,body_part_x) + np.dot(tt, np.ones((1,np.shape(body_part_x)[1]))))\n",
    "        body_part_origin = body_part_locs_camera12[(iname,ibody)].loc[np.arange(0,min_length,1),:].values\n",
    "        body_part_origin[np.sum(np.isnan(body_part_origin),axis=1)>0,:] = body_part_project[np.sum(np.isnan(body_part_origin),axis=1)>0,:]\n",
    "\n",
    "        body_part_locs_merge[(iname,ibody)] = body_part_origin\n",
    "        "
   ]
  },
  {
   "cell_type": "code",
   "execution_count": 63,
   "id": "9740dad9",
   "metadata": {},
   "outputs": [],
   "source": [
    "warnings.filterwarnings('ignore')\n",
    "eye_direction_merge = {}\n",
    "eye_contact_or_not_merge = {}\n",
    "look_at_face_or_not_merge = {}\n",
    "for iname in animal_names_unique:\n",
    "    eye_dir_frames = []\n",
    "    eye_contact_frames = []\n",
    "    look_at_face_frames = []\n",
    "    for iframe in np.arange(0,min_length,1):\n",
    "        lefteye_loc = body_part_locs_merge[(iname,'leftEye')][iframe,:]\n",
    "        righteye_loc = body_part_locs_merge[(iname,'rightEye')][iframe,:]\n",
    "        lefttuft_loc = body_part_locs_merge[(iname,'leftTuft')][iframe,:]\n",
    "        righttuft_loc = body_part_locs_merge[(iname,'rightTuft')][iframe,:]\n",
    "        whiblz_loc = body_part_locs_merge[(iname,'whiteBlaze')][iframe,:]\n",
    "        mouth_loc = body_part_locs_merge[(iname,'mouth')][iframe,:]\n",
    "        \n",
    "        Vect1 = lefteye_loc - righteye_loc\n",
    "        Vect2 = whiblz_loc - mouth_loc\n",
    "        Vect3 = lefttuft_loc - lefteye_loc\n",
    "        Vect4 = righttuft_loc - righteye_loc\n",
    "        \n",
    "        try:       \n",
    "            Vect1 = Vect1 / scipy.linalg.norm(Vect1)\n",
    "            Vect2 = Vect2 / scipy.linalg.norm(Vect2) \n",
    "        except:\n",
    "            Vect1 = Vect1\n",
    "            Vect2 = Vect2\n",
    "        eyesight_dir = np.cross(Vect1, Vect2)\n",
    "        \n",
    "        if ((np.dot(eyesight_dir, Vect3)>0) | (np.dot(eyesight_dir, Vect4)>0)):\n",
    "            eyesight_dir = -eyesight_dir\n",
    "        \n",
    "        eye_dir_frames.append(eyesight_dir)\n",
    "        \n",
    "        \n",
    "        # examine whether this animal is looking at the other's eyes or face\n",
    "        if (iname == animal_names_unique[0]): \n",
    "            iname_other = animal_names_unique[1]\n",
    "        elif (iname == animal_names_unique[1]): \n",
    "            iname_other = animal_names_unique[0]\n",
    "            \n",
    "        lefteye_loc_other = body_part_locs_merge[(iname_other,'leftEye')][iframe,:]\n",
    "        righteye_loc_other = body_part_locs_merge[(iname_other,'rightEye')][iframe,:]\n",
    "        lefttuft_loc_other = body_part_locs_merge[(iname_other,'leftTuft')][iframe,:]\n",
    "        righttuft_loc_other = body_part_locs_merge[(iname_other,'rightTuft')][iframe,:]\n",
    "        whiblz_loc_other = body_part_locs_merge[(iname_other,'whiteBlaze')][iframe,:]\n",
    "        mouth_loc_other = body_part_locs_merge[(iname_other,'mouth')][iframe,:]\n",
    "        \n",
    "        # where left eye is looking\n",
    "        # vector between body part\n",
    "        vect1_lefteye = lefteye_loc_other - lefteye_loc\n",
    "        vect2_lefteye = righteye_loc_other - lefteye_loc\n",
    "        vect3_lefteye = lefttuft_loc_other - lefteye_loc\n",
    "        vect4_lefteye = righttuft_loc_other - lefteye_loc\n",
    "        vect5_lefteye = whiblz_loc_other - lefteye_loc\n",
    "        vect6_lefteye = mouth_loc_other - lefteye_loc\n",
    "        # angle between body part vector and eyesight direction\n",
    "        angle1_lefteye =  np.sign(np.dot(eyesight_dir,vect1_lefteye))*np.arccos(np.clip(np.dot(eyesight_dir/np.linalg.norm(eyesight_dir), vect1_lefteye/np.linalg.norm(vect1_lefteye)), -1.0, 1.0))       \n",
    "        angle2_lefteye =  np.sign(np.dot(eyesight_dir,vect2_lefteye))*np.arccos(np.clip(np.dot(eyesight_dir/np.linalg.norm(eyesight_dir), vect2_lefteye/np.linalg.norm(vect2_lefteye)), -1.0, 1.0))\n",
    "        angle3_lefteye =  np.sign(np.dot(eyesight_dir,vect3_lefteye))*np.arccos(np.clip(np.dot(eyesight_dir/np.linalg.norm(eyesight_dir), vect3_lefteye/np.linalg.norm(vect3_lefteye)), -1.0, 1.0))\n",
    "        angle4_lefteye =  np.sign(np.dot(eyesight_dir,vect4_lefteye))*np.arccos(np.clip(np.dot(eyesight_dir/np.linalg.norm(eyesight_dir), vect4_lefteye/np.linalg.norm(vect4_lefteye)), -1.0, 1.0))\n",
    "        angle5_lefteye =  np.sign(np.dot(eyesight_dir,vect5_lefteye))*np.arccos(np.clip(np.dot(eyesight_dir/np.linalg.norm(eyesight_dir), vect5_lefteye/np.linalg.norm(vect5_lefteye)), -1.0, 1.0))\n",
    "        angle6_lefteye =  np.sign(np.dot(eyesight_dir,vect6_lefteye))*np.arccos(np.clip(np.dot(eyesight_dir/np.linalg.norm(eyesight_dir), vect6_lefteye/np.linalg.norm(vect6_lefteye)), -1.0, 1.0))\n",
    "        \n",
    "        # where right eye is looking\n",
    "        # vector between body part\n",
    "        vect1_righteye = lefteye_loc_other - righteye_loc\n",
    "        vect2_righteye = righteye_loc_other - righteye_loc\n",
    "        vect3_righteye = lefttuft_loc_other - righteye_loc\n",
    "        vect4_righteye = righttuft_loc_other - righteye_loc\n",
    "        vect5_righteye = whiblz_loc_other - righteye_loc\n",
    "        vect6_righteye = mouth_loc_other - righteye_loc\n",
    "        # angle between body part vector and eyesight direction\n",
    "        angle1_righteye =  np.sign(np.dot(eyesight_dir,vect1_righteye))*np.arccos(np.clip(np.dot(eyesight_dir/np.linalg.norm(eyesight_dir), vect1_righteye/np.linalg.norm(vect1_righteye)), -1.0, 1.0))       \n",
    "        angle2_righteye =  np.sign(np.dot(eyesight_dir,vect2_righteye))*np.arccos(np.clip(np.dot(eyesight_dir/np.linalg.norm(eyesight_dir), vect2_righteye/np.linalg.norm(vect2_righteye)), -1.0, 1.0))\n",
    "        angle3_righteye =  np.sign(np.dot(eyesight_dir,vect3_righteye))*np.arccos(np.clip(np.dot(eyesight_dir/np.linalg.norm(eyesight_dir), vect3_righteye/np.linalg.norm(vect3_righteye)), -1.0, 1.0))\n",
    "        angle4_righteye =  np.sign(np.dot(eyesight_dir,vect4_righteye))*np.arccos(np.clip(np.dot(eyesight_dir/np.linalg.norm(eyesight_dir), vect4_righteye/np.linalg.norm(vect4_righteye)), -1.0, 1.0))\n",
    "        angle5_righteye =  np.sign(np.dot(eyesight_dir,vect5_righteye))*np.arccos(np.clip(np.dot(eyesight_dir/np.linalg.norm(eyesight_dir), vect5_righteye/np.linalg.norm(vect5_righteye)), -1.0, 1.0))\n",
    "        angle6_righteye =  np.sign(np.dot(eyesight_dir,vect6_righteye))*np.arccos(np.clip(np.dot(eyesight_dir/np.linalg.norm(eyesight_dir), vect6_righteye/np.linalg.norm(vect6_righteye)), -1.0, 1.0))\n",
    "        \n",
    "        lefteye_contact_thres = ((angle1_lefteye>0)&(angle1_lefteye<angle_thres))|((angle2_lefteye>0)&(angle2_lefteye<angle_thres))\n",
    "        lefteye_lookface_thres = ((angle3_lefteye>0)&(angle3_lefteye<angle_thres))|((angle4_lefteye>0)&(angle4_lefteye<angle_thres))|((angle5_lefteye>0)&(angle5_lefteye<angle_thres))|((angle6_lefteye>0)&(angle6_lefteye<angle_thres))\n",
    "        righteye_contact_thres = ((angle1_righteye>0)&(angle1_righteye<angle_thres))|((angle2_righteye>0)&(angle2_righteye<angle_thres))\n",
    "        righteye_lookface_thres = ((angle3_righteye>0)&(angle3_righteye<angle_thres))|((angle4_righteye>0)&(angle4_righteye<angle_thres))|((angle5_righteye>0)&(angle5_righteye<angle_thres))|((angle6_righteye>0)&(angle6_righteye<angle_thres))\n",
    "        \n",
    "        eye_contact_frames.append(np.int(lefteye_contact_thres|righteye_contact_thres))\n",
    "        look_at_face_frames.append(np.int(lefteye_contact_thres|righteye_contact_thres|lefteye_lookface_thres|righteye_lookface_thres))\n",
    "        \n",
    "    # save to the summarized data\n",
    "    eye_direction_merge[(iname)] = eye_dir_frames\n",
    "    eye_contact_or_not_merge[(iname)] = eye_contact_frames\n",
    "    look_at_face_or_not_merge[(iname)] = look_at_face_frames\n",
    "        "
   ]
  },
  {
   "cell_type": "code",
   "execution_count": 64,
   "id": "c8c308ba",
   "metadata": {},
   "outputs": [],
   "source": [
    "eye_direction_merge['time_in_second'] = np.arange(0,np.shape(eye_direction_merge['dodson'])[0],1)/30 - session_start_time\n",
    "eye_contact_or_not_merge['time_in_second'] = np.arange(0,np.shape(eye_contact_or_not_merge['dodson'])[0],1)/30 - session_start_time\n",
    "look_at_face_or_not_merge['time_in_second'] = np.arange(0,np.shape(look_at_face_or_not_merge['dodson'])[0],1)/30 - session_start_time"
   ]
  },
  {
   "cell_type": "markdown",
   "id": "9e977631",
   "metadata": {},
   "source": [
    "## load behavioral results"
   ]
  },
  {
   "cell_type": "code",
   "execution_count": 65,
   "id": "5e93ca01",
   "metadata": {},
   "outputs": [],
   "source": [
    "# load behavioral results\n",
    "try:\n",
    "    bhv_data_path = \"/home/ws523/marmoset_tracking_bhv_data_from_task_code/20220912_Dodson_Scorch/\"\n",
    "    trial_record_json = bhv_data_path + \"20220912_Scorch_Dodson_TrialRecord_1.json\"\n",
    "    bhv_data_json = bhv_data_path + \"20220912_Scorch_Dodson_bhv_data_1.json\"\n",
    "    session_info_json = bhv_data_path + \"20220912_Scorch_Dodson_session_info_1.json\"\n",
    "    #\n",
    "    trial_record = pd.read_json(trial_record_json)\n",
    "    bhv_data = pd.read_json(bhv_data_json)\n",
    "    session_info = pd.read_json(session_info_json)\n",
    "except:\n",
    "    bhv_data_path = \"/home/ws523/marmoset_tracking_bhv_data_from_task_code/20220912_Dodson_Scorch/\"\n",
    "    trial_record_json = bhv_data_path + \"20220912_Dodson_Scorch_TrialRecord_1.json\"\n",
    "    bhv_data_json = bhv_data_path + \"20220912_Dodson_Scorch_bhv_data_1.json\"\n",
    "    session_info_json = bhv_data_path + \"20220912_Dodson_Scorch_session_info_1.json\"\n",
    "    #\n",
    "    trial_record = pd.read_json(trial_record_json)\n",
    "    bhv_data = pd.read_json(bhv_data_json)\n",
    "    session_info = pd.read_json(session_info_json)"
   ]
  },
  {
   "cell_type": "code",
   "execution_count": 66,
   "id": "2c4f749c",
   "metadata": {},
   "outputs": [],
   "source": [
    "animal1 = session_info['lever1_animal'][0].lower()\n",
    "animal2 = session_info['lever2_animal'][0].lower()"
   ]
  },
  {
   "cell_type": "code",
   "execution_count": 67,
   "id": "58ec12af",
   "metadata": {},
   "outputs": [],
   "source": [
    "# clean up the trial_record\n",
    "warnings.filterwarnings('ignore')\n",
    "trial_record_clean = pd.DataFrame(columns=trial_record.columns)\n",
    "for itrial in np.arange(0,np.max(trial_record['trial_number']),1):\n",
    "    # trial_record_clean.loc[itrial] = trial_record[trial_record['trial_number']==itrial+1].iloc[[0]]\n",
    "    trial_record_clean = trial_record_clean.append(trial_record[trial_record['trial_number']==itrial+1].iloc[[0]])\n",
    "trial_record_clean = trial_record_clean.reset_index(drop = True)"
   ]
  },
  {
   "cell_type": "code",
   "execution_count": 68,
   "id": "d72cf199",
   "metadata": {},
   "outputs": [],
   "source": [
    "# change bhv_data time to the absolute time\n",
    "time_points_new = pd.DataFrame(np.zeros(np.shape(bhv_data)[0]),columns=[\"time_points_new\"])\n",
    "for itrial in np.arange(0,np.max(trial_record_clean['trial_number']),1):\n",
    "    ind = bhv_data[\"trial_number\"]==itrial+1\n",
    "    new_time_itrial = bhv_data[ind][\"time_points\"] + trial_record_clean[\"trial_starttime\"].iloc[itrial]\n",
    "    time_points_new[\"time_points_new\"][ind] = new_time_itrial\n",
    "bhv_data[\"time_points\"] = time_points_new[\"time_points_new\"]"
   ]
  },
  {
   "cell_type": "markdown",
   "id": "40407347",
   "metadata": {},
   "source": [
    "## plot behavioral results (with camera pair merged) and eye contact results"
   ]
  },
  {
   "cell_type": "code",
   "execution_count": 69,
   "id": "36fa3900",
   "metadata": {},
   "outputs": [],
   "source": [
    "time_point_pull1 = bhv_data[\"time_points\"][bhv_data[\"behavior_events\"]==1]\n",
    "time_point_pull2 = bhv_data[\"time_points\"][bhv_data[\"behavior_events\"]==2]\n",
    "ind_lookatotherface1 = np.where(np.array(look_at_face_or_not_merge[animal1])==1)\n",
    "time_point_lookatotherface1 = look_at_face_or_not_merge[\"time_in_second\"][ind_lookatotherface1]\n",
    "ind_lookatotherface2 = np.where(np.array(look_at_face_or_not_merge[animal2])==1)\n",
    "time_point_lookatotherface2 = look_at_face_or_not_merge[\"time_in_second\"][ind_lookatotherface2]\n",
    "\n",
    "ind_eyecontact1 = np.where(np.array(eye_contact_or_not_merge[animal1])==1)\n",
    "time_point_eyecontact1 = eye_contact_or_not_merge[\"time_in_second\"][ind_eyecontact1]\n",
    "ind_eyecontact2 = np.where(np.array(eye_contact_or_not_merge[animal2])==1)\n",
    "time_point_eyecontact2 = eye_contact_or_not_merge[\"time_in_second\"][ind_eyecontact2]\n",
    "\n",
    "# calculate the oneway gaze or mutual gaze\n",
    "animal1_gaze = np.round(np.concatenate((time_point_eyecontact1,time_point_lookatotherface1)),1)\n",
    "animal1_gaze = np.unique(np.sort(animal1_gaze))\n",
    "animal2_gaze = np.round(np.concatenate((time_point_eyecontact2,time_point_lookatotherface2)),1)\n",
    "animal2_gaze = np.unique(np.sort(animal2_gaze))\n",
    "\n",
    "ngaze1 = len(animal1_gaze)\n",
    "ngaze2 = len(animal2_gaze)\n",
    "oneway_gaze1 = []\n",
    "oneway_gaze2 = []\n",
    "mutual_gaze1 = []\n",
    "mutual_gaze2 = []\n",
    "# \n",
    "for igaze1 in np.arange(0, ngaze1, 1):\n",
    "    for igaze2 in np.arange(0,ngaze2,1):\n",
    "        if abs(animal1_gaze[igaze1]-animal2_gaze[igaze2])<1:\n",
    "            mutual_gaze1.append(animal1_gaze[igaze1])\n",
    "            mutual_gaze2.append(animal2_gaze[igaze2])\n",
    "mutual_gaze1 = np.unique(mutual_gaze1)   \n",
    "mutual_gaze2 = np.unique(mutual_gaze2)\n",
    "oneway_gaze1 = animal1_gaze[~np.isin(animal1_gaze,mutual_gaze1)]\n",
    "oneway_gaze2 = animal2_gaze[~np.isin(animal2_gaze,mutual_gaze2)]"
   ]
  },
  {
   "cell_type": "code",
   "execution_count": 73,
   "id": "415ee150",
   "metadata": {},
   "outputs": [
    {
     "data": {
      "image/png": "[encoded data removed]",
      "text/plain": [
       "<Figure size 432x288 with 1 Axes>"
      ]
     },
     "metadata": {
      "needs_background": "light"
     },
     "output_type": "display_data"
    }
   ],
   "source": [
    "time_point_pull1 = np.round(time_point_pull1,2)\n",
    "ind_plot = time_point_pull1 < (720 - session_start_time)\n",
    "plt.plot(time_point_pull1[ind_plot], np.ones(np.shape(time_point_pull1[ind_plot])[0]),'o')\n",
    "plt.plot(oneway_gaze1, np.ones(np.shape(oneway_gaze1)[0])*2,'o')\n",
    "plt.plot(mutual_gaze1, np.ones(np.shape(mutual_gaze1)[0])*3,'o')\n",
    "plt.title(animal1,fontsize = 18);"
   ]
  },
  {
   "cell_type": "code",
   "execution_count": 74,
   "id": "1eeeda16",
   "metadata": {},
   "outputs": [
    {
     "data": {
      "image/png": "[encoded data removed]",
      "text/plain": [
       "<Figure size 432x288 with 1 Axes>"
      ]
     },
     "metadata": {
      "needs_background": "light"
     },
     "output_type": "display_data"
    }
   ],
   "source": [
    "time_point_pull2 = np.round(time_point_pull2,2)\n",
    "ind_plot = time_point_pull2 < (720 - session_start_time)\n",
    "plt.plot(time_point_pull2[ind_plot], np.ones(np.shape(time_point_pull2[ind_plot])[0]),'o')\n",
    "plt.plot(oneway_gaze2, np.ones(np.shape(oneway_gaze2)[0])*2,'o')\n",
    "plt.plot(mutual_gaze2, np.ones(np.shape(mutual_gaze2)[0])*3,'o')\n",
    "plt.title(animal2,fontsize = 18);"
   ]
  },
  {
   "cell_type": "code",
   "execution_count": 75,
   "id": "3167522d",
   "metadata": {},
   "outputs": [
    {
     "data": {
      "text/plain": [
       "array([1.09833333, 1.1       , 1.10166667, 1.10333333, 1.715     ,\n",
       "       1.71666667, 1.71833333, 1.72      , 1.89      , 1.89166667])"
      ]
     },
     "execution_count": 75,
     "metadata": {},
     "output_type": "execute_result"
    }
   ],
   "source": [
    "(mutual_gaze1+session_start_time)/60"
   ]
  },
  {
   "cell_type": "code",
   "execution_count": 76,
   "id": "089d3b53",
   "metadata": {},
   "outputs": [
    {
     "data": {
      "image/png": "[encoded data removed]",
      "text/plain": [
       "<Figure size 1800x360 with 2 Axes>"
      ]
     },
     "metadata": {
      "needs_background": "light"
     },
     "output_type": "display_data"
    }
   ],
   "source": [
    "fig, axs = plt.subplots(2,1)\n",
    "fig.set_figheight(5)\n",
    "fig.set_figwidth(25)\n",
    "# plot for animal 1\n",
    "ind_plot = time_point_pull1 < 720\n",
    "#for itime in np.arange(0,720,1):\n",
    "#    plt.plot([itime,itime],[0,1],linewidth = 2.0,color=(0.5,0.5,0.5))\n",
    "for itime in time_point_pull1[ind_plot]:\n",
    "    line1, = axs[0].plot([itime,itime],[0,1],linewidth = 2.0,color=(0.0,0.5,0.5),label = 'lever pull')\n",
    "for itime in oneway_gaze1:\n",
    "    line2, = axs[0].plot([itime,itime],[0,1],linewidth = 2.0,color=(0.5,0.0,0.5),label = 'one-way gaze')  \n",
    "try:\n",
    "    for itime in mutual_gaze1:\n",
    "        line3, = axs[0].plot([itime,itime],[0,1],linewidth = 2.0,color=(0.5,0.5,0.0),label = 'mutual gaze')  \n",
    "except:\n",
    "    print(\"no mutual gaze\")\n",
    "axs[0].set_title(animal1,fontsize = 18)\n",
    "axs[0].set_xlim([-10,700])\n",
    "axs[0].set_xlabel(\"\")\n",
    "axs[0].set_xticklabels(\"\")\n",
    "axs[0].set_yticklabels(\"\")\n",
    "try:\n",
    "    axs[0].legend(handles=[line1,line2,line3], fontsize = 13)\n",
    "except:\n",
    "    axs[0].legend(handles=[line1,line2], fontsize = 13)\n",
    "\n",
    "# plot for animal 2\n",
    "ind_plot = time_point_pull2 < 720\n",
    "#for itime in np.arange(0,720,1):\n",
    "#    plt.plot([itime,itime],[0,1],linewidth = 2.0,color=(0.5,0.5,0.5))\n",
    "for itime in time_point_pull2[ind_plot]:\n",
    "    line1, = axs[1].plot([itime,itime],[0,1],linewidth = 2.0,color=(0.0,0.5,0.5))\n",
    "for itime in oneway_gaze2:\n",
    "    line2, = axs[1].plot([itime,itime],[0,1],linewidth = 2.0,color=(0.5,0.0,0.5))    \n",
    "try:\n",
    "    for itime in mutual_gaze2:\n",
    "        line3, = axs[1].plot([itime,itime],[0,1],linewidth = 2.0,color=(0.5,0.5,0.0))    \n",
    "except:\n",
    "    print(\"no mutual gaze\")\n",
    "axs[1].set_title(animal2,fontsize = 18)\n",
    "axs[1].set_xlim([-10,700])\n",
    "axs[1].set_xlabel(\"time/s\",fontsize = 19)\n",
    "axs[1].set_yticklabels(\"\")\n",
    "axs[1].tick_params(labelsize = 15)\n",
    "\n",
    "plt.savefig(\"20220912_DS_pattern.png\")\n"
   ]
  },
  {
   "cell_type": "markdown",
   "id": "71d90226",
   "metadata": {},
   "source": [
    "## train the dynamic bayesian network"
   ]
  },
  {
   "cell_type": "code",
   "execution_count": 77,
   "id": "997b70ee",
   "metadata": {},
   "outputs": [],
   "source": [
    "import numpy as np\n",
    "import pandas as pd\n",
    "from pgmpy.models import BayesianModel\n",
    "from pgmpy.models import DynamicBayesianNetwork as DBN\n",
    "from pgmpy.estimators import BayesianEstimator\n",
    "from pgmpy.estimators import HillClimbSearch,BicScore\n",
    "import networkx as nx"
   ]
  },
  {
   "cell_type": "code",
   "execution_count": 78,
   "id": "a59d6687",
   "metadata": {},
   "outputs": [
    {
     "data": {
      "text/plain": [
       "[<TabularCPD representing P((pull1, 0):2) at 0x2afd1a0bbd30>,\n",
       " <TabularCPD representing P((owgaze2, 0):2) at 0x2afd1a091610>,\n",
       " <TabularCPD representing P((owgaze1, 0):2) at 0x2afd207499a0>,\n",
       " <TabularCPD representing P((pull2, 0):2) at 0x2afd1a0d0610>,\n",
       " <TabularCPD representing P((pull1, 1):2 | (owgaze1, 0):2) at 0x2afd1a0b2df0>,\n",
       " <TabularCPD representing P((owgaze2, 1):2 | (pull2, 0):2) at 0x2afd1a0d0190>,\n",
       " <TabularCPD representing P((owgaze1, 1):2 | (pull1, 0):2) at 0x2afd1a0bb7f0>,\n",
       " <TabularCPD representing P((pull2, 1):2 | (owgaze2, 0):2) at 0x2afd1a091760>]"
      ]
     },
     "execution_count": 78,
     "metadata": {},
     "output_type": "execute_result"
    },
    {
     "data": {
      "image/png": "[encoded data removed]",
      "text/plain": [
       "<Figure size 432x288 with 1 Axes>"
      ]
     },
     "metadata": {},
     "output_type": "display_data"
    }
   ],
   "source": [
    "# real data\n",
    "total_time = 720 * 2\n",
    "# round to 0.5s\n",
    "time_point_pull1_round = round(time_point_pull1 * 2).reset_index(drop = True).astype(int)\n",
    "time_point_pull1_round = time_point_pull1_round[time_point_pull1_round<total_time]\n",
    "time_point_pull2_round  = round(time_point_pull2 * 2).reset_index(drop = True).astype(int)\n",
    "time_point_pull2_round = time_point_pull2_round[time_point_pull2_round<total_time]\n",
    "time_point_onewaygaze1_round = round(pd.Series(oneway_gaze1)*2).reset_index(drop = True).astype(int)\n",
    "time_point_onewaygaze2_round = round(pd.Series(oneway_gaze2)*2).reset_index(drop = True).astype(int)\n",
    "time_point_mutualgaze1_round = round(pd.Series(mutual_gaze1)*2).reset_index(drop = True).astype(int)\n",
    "time_point_mutualgaze2_round = round(pd.Series(mutual_gaze2)*2).reset_index(drop = True).astype(int)\n",
    "# t0\n",
    "pull1_t0 = np.zeros((total_time,1))\n",
    "pull1_t0[np.array(time_point_pull1_round)] = 1\n",
    "pull2_t0 = np.zeros((total_time,1))\n",
    "pull2_t0[np.array(time_point_pull2_round)] = 1\n",
    "owgaze1_t0 = np.zeros((total_time,1))\n",
    "owgaze1_t0[np.array(time_point_onewaygaze1_round)] = 1\n",
    "owgaze2_t0 = np.zeros((total_time,1))\n",
    "owgaze2_t0[np.array(time_point_onewaygaze2_round)] = 1\n",
    "mtgaze1_t0 = np.zeros((total_time,1))\n",
    "mtgaze1_t0[np.array(time_point_mutualgaze1_round)] = 1\n",
    "mtgaze2_t0 = np.zeros((total_time,1))\n",
    "mtgaze2_t0[np.array(time_point_mutualgaze2_round)] = 1\n",
    "# t1\n",
    "pull1_t1 = np.zeros((total_time,1))\n",
    "pull1_t1[np.array(time_point_pull1_round)+1] = 1\n",
    "pull2_t1 = np.zeros((total_time,1))\n",
    "pull2_t1[np.array(time_point_pull2_round)+1] = 1\n",
    "owgaze1_t1 = np.zeros((total_time,1))\n",
    "owgaze1_t1[np.array(time_point_onewaygaze1_round)+1] = 1\n",
    "owgaze2_t1 = np.zeros((total_time,1))\n",
    "owgaze2_t1[np.array(time_point_onewaygaze2_round)+1] = 1\n",
    "mtgaze1_t1 = np.zeros((total_time,1))\n",
    "mtgaze1_t1[np.array(time_point_mutualgaze1_round)+1] = 1\n",
    "mtgaze2_t1 = np.zeros((total_time,1))\n",
    "mtgaze2_t1[np.array(time_point_mutualgaze2_round)+1] = 1\n",
    "## create dataframe\n",
    "# data = np.concatenate((pull1_t0,pull2_t0,owgaze1_t0,owgaze2_t0,mtgaze1_t0,mtgaze2_t0,pull1_t1,pull2_t1,owgaze1_t1,owgaze2_t1,mtgaze1_t1,mtgaze2_t1),axis = 1)\n",
    "# colnames = [(\"pull1\",0),(\"pull2\",0),(\"owgaze1\",0),(\"owgaze2\",0),(\"mtgaze1\",0),(\"mtgaze2\",0),(\"pull1\",1),(\"pull2\",1),(\"owgaze1\",1),(\"owgaze2\",1),(\"mtgaze1\",1),(\"mtgaze2\",1)]\n",
    "# df = pd.DataFrame(data, columns=colnames)\n",
    "data = np.concatenate((pull1_t0,pull2_t0,owgaze1_t0,owgaze2_t0,pull1_t1,pull2_t1,owgaze1_t1,owgaze2_t1),axis = 1)\n",
    "colnames = [(\"pull1\",0),(\"pull2\",0),(\"owgaze1\",0),(\"owgaze2\",0),(\"pull1\",1),(\"pull2\",1),(\"owgaze1\",1),(\"owgaze2\",1)]\n",
    "df = pd.DataFrame(data, columns=colnames)\n",
    "\n",
    "## built the model structure\n",
    "# model = DBN(\n",
    "#    [\n",
    "#        ((\"owgaze1\",0), (\"pull1\",1)),\n",
    "#        ((\"owgaze1\",0), (\"mtgaze1\",1)),\n",
    "#        ((\"mtgaze1\",0), (\"pull1\",1)),\n",
    "#        ((\"pull1\",0), (\"owgaze1\",1)),\n",
    "#        ((\"owgaze2\",0), (\"pull2\",1)),\n",
    "#        ((\"owgaze2\",0), (\"mtgaze2\",1)),\n",
    "#        ((\"mtgaze2\",0), (\"pull2\",1)),\n",
    "#        ((\"pull2\",0), (\"owgaze2\",1)),\n",
    "#    ]\n",
    "# )\n",
    "model = DBN(\n",
    "    [\n",
    "        ((\"owgaze1\",0), (\"pull1\",1)),\n",
    "        ((\"pull1\",0), (\"owgaze1\",1)),\n",
    "        ((\"owgaze2\",0), (\"pull2\",1)),\n",
    "        ((\"pull2\",0), (\"owgaze2\",1)),\n",
    "    ]\n",
    ")\n",
    "model.fit(df)\n",
    "#\n",
    "pos=nx.spring_layout(model)\n",
    "nx.draw(model,pos,with_labels = True)\n",
    "labels = nx.get_edge_attributes(model,'weight')\n",
    "nx.draw_networkx_edge_labels(model,pos,edge_labels=labels)\n",
    "\n",
    "model.get_cpds()"
   ]
  },
  {
   "cell_type": "markdown",
   "id": "48dacce0",
   "metadata": {},
   "source": [
    "### Methods used by Alec"
   ]
  },
  {
   "cell_type": "code",
   "execution_count": 79,
   "id": "d65169c2",
   "metadata": {},
   "outputs": [],
   "source": [
    "def graph_to_matrix(edges,nevents,eventnames):\n",
    "\n",
    "    output_matrix = np.zeros((nevents,nevents)) \n",
    "    \n",
    "    column = 0\n",
    "    for from_layer in np.arange(0,nevents,1):\n",
    "        row = 0\n",
    "        #Loop through the receiving nodes (the last timeslice of each population)\n",
    "        for to_layer in np.arange(0,nevents,1): \n",
    "            from_pop = eventnames[from_layer]+'_t0'\n",
    "            to_pop = eventnames[to_layer]+'_t1'\n",
    "\n",
    "            if (from_pop, to_pop) in edges:\n",
    "                output_matrix[row,column] = 1\n",
    "            else:\n",
    "                output_matrix[row,column] = 0\n",
    "            row+=1\n",
    "        column+=1\n",
    "                    \n",
    "    return output_matrix"
   ]
  },
  {
   "cell_type": "code",
   "execution_count": 80,
   "id": "6b449238",
   "metadata": {},
   "outputs": [],
   "source": [
    "def get_weighted_dags(binaryDags,nNewBootstraps = 100):\n",
    "    ### Step 1: Create Bootstraps of \"discrete\" DAGs for weighted DAGs\n",
    "    [nTrials,frNodes,toNodes] = binaryDags.shape\n",
    "    \n",
    "    bootstrap_graphs = np.zeros([nNewBootstraps,nTrials,frNodes,toNodes])\n",
    "    for iBootstrap in range(nNewBootstraps):\n",
    "        bootstrap_graphs[iBootstrap,:,:,:] = binaryDags[np.random.randint(nTrials, size=(nTrials)),:,:]\n",
    "\n",
    "    ### Step 2: Get Weighted DAGs\n",
    "    wtd_graphs = np.nanmean(bootstrap_graphs, axis=1)\n",
    "    \n",
    "    return wtd_graphs"
   ]
  },
  {
   "cell_type": "code",
   "execution_count": 81,
   "id": "b154a6fe",
   "metadata": {},
   "outputs": [
    {
     "data": {
      "application/vnd.jupyter.widget-view+json": {
       "model_id": "26224c8b623d4da0863266f2173a75f2",
       "version_major": 2,
       "version_minor": 0
      },
      "text/plain": [
       "  0%|          | 0/1000000 [00:00<?, ?it/s]"
      ]
     },
     "metadata": {},
     "output_type": "display_data"
    },
    {
     "data": {
      "text/plain": [
       "OutEdgeView([('pull1_t0', 'pull1_t1'), ('pull1_t0', 'owgaze2_t1'), ('pull1_t0', 'pull2_t1'), ('owgaze1_t0', 'owgaze1_t1'), ('owgaze2_t0', 'owgaze2_t1')])"
      ]
     },
     "execution_count": 81,
     "metadata": {},
     "output_type": "execute_result"
    }
   ],
   "source": [
    "# clean up dataframe\n",
    "data = np.concatenate((pull1_t0,pull2_t0,owgaze1_t0,owgaze2_t0,pull1_t1,pull2_t1,owgaze1_t1,owgaze2_t1),axis = 1)\n",
    "colnames = [\"pull1_t0\",\"pull2_t0\",\"owgaze1_t0\",\"owgaze2_t0\",\"pull1_t1\",\"pull2_t1\",\"owgaze1_t1\",\"owgaze2_t1\"]\n",
    "eventnames = [\"pull1\",\"pull2\",\"owgaze1\",\"owgaze2\"]\n",
    "nevents = np.size(eventnames)\n",
    "bhv_df = pd.DataFrame(data, columns=colnames)\n",
    "\n",
    "# define DBN structures\n",
    "all_pops = list(bhv_df.columns)\n",
    "from_pops = [pop for pop in all_pops if not pop.endswith('t1')]\n",
    "to_pops = [pop for pop in all_pops if pop.endswith('t1')]\n",
    "causal_whitelist = [(from_pop,to_pop) for from_pop in from_pops for to_pop in to_pops]\n",
    "\n",
    "# train the DBN for the edges\n",
    "bhv_hc = HillClimbSearch(bhv_df)\n",
    "best_model = bhv_hc.estimate(max_indegree=None, white_list = causal_whitelist, scoring_method=BicScore(bhv_df))\n",
    "edges = best_model.edges()\n",
    "    \n",
    "nFromNodes = nevents\n",
    "nToNodes = nevents\n",
    "nTrials = 1\n",
    "DAGs = np.zeros((nTrials, nFromNodes, nToNodes))\n",
    "DAGs[0,:,:] = graph_to_matrix(list(edges),nevents,eventnames)\n",
    "\n",
    "edges\n"
   ]
  },
  {
   "cell_type": "markdown",
   "id": "b9017142",
   "metadata": {},
   "source": [
    "#### methods used by Alec - separate into different \"trials\""
   ]
  },
  {
   "cell_type": "code",
   "execution_count": 82,
   "id": "98ceeb02",
   "metadata": {},
   "outputs": [
    {
     "data": {
      "application/vnd.jupyter.widget-view+json": {
       "model_id": "8f3925ab68ec4826b9a31c0ad169bbd0",
       "version_major": 2,
       "version_minor": 0
      },
      "text/plain": [
       "  0%|          | 0/1000000 [00:00<?, ?it/s]"
      ]
     },
     "metadata": {},
     "output_type": "display_data"
    },
    {
     "data": {
      "application/vnd.jupyter.widget-view+json": {
       "model_id": "3dc48b662fd34bb4a56ba86fbf702078",
       "version_major": 2,
       "version_minor": 0
      },
      "text/plain": [
       "  0%|          | 0/1000000 [00:00<?, ?it/s]"
      ]
     },
     "metadata": {},
     "output_type": "display_data"
    },
    {
     "data": {
      "application/vnd.jupyter.widget-view+json": {
       "model_id": "a9f9d985720a4b20b7c5187c25cc8f8d",
       "version_major": 2,
       "version_minor": 0
      },
      "text/plain": [
       "  0%|          | 0/1000000 [00:00<?, ?it/s]"
      ]
     },
     "metadata": {},
     "output_type": "display_data"
    },
    {
     "data": {
      "application/vnd.jupyter.widget-view+json": {
       "model_id": "b1778bd085114a30a962ca676f596633",
       "version_major": 2,
       "version_minor": 0
      },
      "text/plain": [
       "  0%|          | 0/1000000 [00:00<?, ?it/s]"
      ]
     },
     "metadata": {},
     "output_type": "display_data"
    },
    {
     "data": {
      "application/vnd.jupyter.widget-view+json": {
       "model_id": "2224a4878a4f42f7a51fe4412e26a584",
       "version_major": 2,
       "version_minor": 0
      },
      "text/plain": [
       "  0%|          | 0/1000000 [00:00<?, ?it/s]"
      ]
     },
     "metadata": {},
     "output_type": "display_data"
    },
    {
     "data": {
      "application/vnd.jupyter.widget-view+json": {
       "model_id": "1b61ad70b6e340c4a0b2b4bc5134aa5d",
       "version_major": 2,
       "version_minor": 0
      },
      "text/plain": [
       "  0%|          | 0/1000000 [00:00<?, ?it/s]"
      ]
     },
     "metadata": {},
     "output_type": "display_data"
    },
    {
     "data": {
      "application/vnd.jupyter.widget-view+json": {
       "model_id": "2889b14b221c43e0b3ba6b817bd7565b",
       "version_major": 2,
       "version_minor": 0
      },
      "text/plain": [
       "  0%|          | 0/1000000 [00:00<?, ?it/s]"
      ]
     },
     "metadata": {},
     "output_type": "display_data"
    },
    {
     "data": {
      "application/vnd.jupyter.widget-view+json": {
       "model_id": "4982725d625f423fb838d81ef193346f",
       "version_major": 2,
       "version_minor": 0
      },
      "text/plain": [
       "  0%|          | 0/1000000 [00:00<?, ?it/s]"
      ]
     },
     "metadata": {},
     "output_type": "display_data"
    },
    {
     "data": {
      "application/vnd.jupyter.widget-view+json": {
       "model_id": "6bbf3bda72c94b78a425df7740aa40c6",
       "version_major": 2,
       "version_minor": 0
      },
      "text/plain": [
       "  0%|          | 0/1000000 [00:00<?, ?it/s]"
      ]
     },
     "metadata": {},
     "output_type": "display_data"
    },
    {
     "data": {
      "application/vnd.jupyter.widget-view+json": {
       "model_id": "f58d6c5b2a6543a187d822cacfe49f15",
       "version_major": 2,
       "version_minor": 0
      },
      "text/plain": [
       "  0%|          | 0/1000000 [00:00<?, ?it/s]"
      ]
     },
     "metadata": {},
     "output_type": "display_data"
    },
    {
     "data": {
      "application/vnd.jupyter.widget-view+json": {
       "model_id": "8b7093da5842424485a8fd6537985be9",
       "version_major": 2,
       "version_minor": 0
      },
      "text/plain": [
       "  0%|          | 0/1000000 [00:00<?, ?it/s]"
      ]
     },
     "metadata": {},
     "output_type": "display_data"
    },
    {
     "data": {
      "application/vnd.jupyter.widget-view+json": {
       "model_id": "b1ffda62609c4fc28ff1b734225780f5",
       "version_major": 2,
       "version_minor": 0
      },
      "text/plain": [
       "  0%|          | 0/1000000 [00:00<?, ?it/s]"
      ]
     },
     "metadata": {},
     "output_type": "display_data"
    },
    {
     "data": {
      "application/vnd.jupyter.widget-view+json": {
       "model_id": "da6178a1c22f4483872037389bdd0222",
       "version_major": 2,
       "version_minor": 0
      },
      "text/plain": [
       "  0%|          | 0/1000000 [00:00<?, ?it/s]"
      ]
     },
     "metadata": {},
     "output_type": "display_data"
    },
    {
     "data": {
      "application/vnd.jupyter.widget-view+json": {
       "model_id": "0b720f0edfb24a909dcd128866b569c4",
       "version_major": 2,
       "version_minor": 0
      },
      "text/plain": [
       "  0%|          | 0/1000000 [00:00<?, ?it/s]"
      ]
     },
     "metadata": {},
     "output_type": "display_data"
    },
    {
     "data": {
      "application/vnd.jupyter.widget-view+json": {
       "model_id": "f03a293e96fa422f818b5738e4c00a73",
       "version_major": 2,
       "version_minor": 0
      },
      "text/plain": [
       "  0%|          | 0/1000000 [00:00<?, ?it/s]"
      ]
     },
     "metadata": {},
     "output_type": "display_data"
    },
    {
     "data": {
      "application/vnd.jupyter.widget-view+json": {
       "model_id": "5e65dbc15f6f460bb4e00fa213799bde",
       "version_major": 2,
       "version_minor": 0
      },
      "text/plain": [
       "  0%|          | 0/1000000 [00:00<?, ?it/s]"
      ]
     },
     "metadata": {},
     "output_type": "display_data"
    },
    {
     "data": {
      "application/vnd.jupyter.widget-view+json": {
       "model_id": "b8d8fcf2c2a44a29870dc72b0a7cada2",
       "version_major": 2,
       "version_minor": 0
      },
      "text/plain": [
       "  0%|          | 0/1000000 [00:00<?, ?it/s]"
      ]
     },
     "metadata": {},
     "output_type": "display_data"
    },
    {
     "data": {
      "application/vnd.jupyter.widget-view+json": {
       "model_id": "c90eac5299f74e31bdbebb7398d42591",
       "version_major": 2,
       "version_minor": 0
      },
      "text/plain": [
       "  0%|          | 0/1000000 [00:00<?, ?it/s]"
      ]
     },
     "metadata": {},
     "output_type": "display_data"
    },
    {
     "data": {
      "application/vnd.jupyter.widget-view+json": {
       "model_id": "c63854f092f84d009d87901f8c29e2c5",
       "version_major": 2,
       "version_minor": 0
      },
      "text/plain": [
       "  0%|          | 0/1000000 [00:00<?, ?it/s]"
      ]
     },
     "metadata": {},
     "output_type": "display_data"
    },
    {
     "data": {
      "application/vnd.jupyter.widget-view+json": {
       "model_id": "ab0571abd90c450ba4ef158238189303",
       "version_major": 2,
       "version_minor": 0
      },
      "text/plain": [
       "  0%|          | 0/1000000 [00:00<?, ?it/s]"
      ]
     },
     "metadata": {},
     "output_type": "display_data"
    },
    {
     "data": {
      "application/vnd.jupyter.widget-view+json": {
       "model_id": "cb37f2d6462e4ad8aebd5dc3f8d521ef",
       "version_major": 2,
       "version_minor": 0
      },
      "text/plain": [
       "  0%|          | 0/1000000 [00:00<?, ?it/s]"
      ]
     },
     "metadata": {},
     "output_type": "display_data"
    },
    {
     "data": {
      "application/vnd.jupyter.widget-view+json": {
       "model_id": "9c2f35c27d8e4e00b77b966216ccd436",
       "version_major": 2,
       "version_minor": 0
      },
      "text/plain": [
       "  0%|          | 0/1000000 [00:00<?, ?it/s]"
      ]
     },
     "metadata": {},
     "output_type": "display_data"
    },
    {
     "data": {
      "application/vnd.jupyter.widget-view+json": {
       "model_id": "1b674c71f09b4b11b282a09e9902b6dd",
       "version_major": 2,
       "version_minor": 0
      },
      "text/plain": [
       "  0%|          | 0/1000000 [00:00<?, ?it/s]"
      ]
     },
     "metadata": {},
     "output_type": "display_data"
    },
    {
     "data": {
      "application/vnd.jupyter.widget-view+json": {
       "model_id": "292193c2e45347368778737acf0343f0",
       "version_major": 2,
       "version_minor": 0
      },
      "text/plain": [
       "  0%|          | 0/1000000 [00:00<?, ?it/s]"
      ]
     },
     "metadata": {},
     "output_type": "display_data"
    },
    {
     "data": {
      "application/vnd.jupyter.widget-view+json": {
       "model_id": "c2a24b2bb6084a0d989510c02858d04f",
       "version_major": 2,
       "version_minor": 0
      },
      "text/plain": [
       "  0%|          | 0/1000000 [00:00<?, ?it/s]"
      ]
     },
     "metadata": {},
     "output_type": "display_data"
    },
    {
     "data": {
      "application/vnd.jupyter.widget-view+json": {
       "model_id": "082f84176bc940a49e14098933e55285",
       "version_major": 2,
       "version_minor": 0
      },
      "text/plain": [
       "  0%|          | 0/1000000 [00:00<?, ?it/s]"
      ]
     },
     "metadata": {},
     "output_type": "display_data"
    },
    {
     "data": {
      "application/vnd.jupyter.widget-view+json": {
       "model_id": "d8764e030f84454e9c76ff800b1ad727",
       "version_major": 2,
       "version_minor": 0
      },
      "text/plain": [
       "  0%|          | 0/1000000 [00:00<?, ?it/s]"
      ]
     },
     "metadata": {},
     "output_type": "display_data"
    },
    {
     "data": {
      "application/vnd.jupyter.widget-view+json": {
       "model_id": "74adaab259154a8481f9263cd6148361",
       "version_major": 2,
       "version_minor": 0
      },
      "text/plain": [
       "  0%|          | 0/1000000 [00:00<?, ?it/s]"
      ]
     },
     "metadata": {},
     "output_type": "display_data"
    },
    {
     "data": {
      "application/vnd.jupyter.widget-view+json": {
       "model_id": "8845aeeb7bba4fbfb2851687ea2be695",
       "version_major": 2,
       "version_minor": 0
      },
      "text/plain": [
       "  0%|          | 0/1000000 [00:00<?, ?it/s]"
      ]
     },
     "metadata": {},
     "output_type": "display_data"
    },
    {
     "data": {
      "application/vnd.jupyter.widget-view+json": {
       "model_id": "058c01457c1d40ec9894d346ec03d858",
       "version_major": 2,
       "version_minor": 0
      },
      "text/plain": [
       "  0%|          | 0/1000000 [00:00<?, ?it/s]"
      ]
     },
     "metadata": {},
     "output_type": "display_data"
    },
    {
     "data": {
      "application/vnd.jupyter.widget-view+json": {
       "model_id": "4671538f6e374bff9966c526c6b1b77f",
       "version_major": 2,
       "version_minor": 0
      },
      "text/plain": [
       "  0%|          | 0/1000000 [00:00<?, ?it/s]"
      ]
     },
     "metadata": {},
     "output_type": "display_data"
    },
    {
     "data": {
      "application/vnd.jupyter.widget-view+json": {
       "model_id": "1d86b9765ee34f5ea9699f3bfec28a58",
       "version_major": 2,
       "version_minor": 0
      },
      "text/plain": [
       "  0%|          | 0/1000000 [00:00<?, ?it/s]"
      ]
     },
     "metadata": {},
     "output_type": "display_data"
    },
    {
     "data": {
      "application/vnd.jupyter.widget-view+json": {
       "model_id": "564aa56b683d4a07987acd818e87c38f",
       "version_major": 2,
       "version_minor": 0
      },
      "text/plain": [
       "  0%|          | 0/1000000 [00:00<?, ?it/s]"
      ]
     },
     "metadata": {},
     "output_type": "display_data"
    },
    {
     "data": {
      "application/vnd.jupyter.widget-view+json": {
       "model_id": "1e9db26729284695a7a6cd709b1fb2bc",
       "version_major": 2,
       "version_minor": 0
      },
      "text/plain": [
       "  0%|          | 0/1000000 [00:00<?, ?it/s]"
      ]
     },
     "metadata": {},
     "output_type": "display_data"
    },
    {
     "data": {
      "application/vnd.jupyter.widget-view+json": {
       "model_id": "b17d1d3ea70e41afa64b77e7c487d075",
       "version_major": 2,
       "version_minor": 0
      },
      "text/plain": [
       "  0%|          | 0/1000000 [00:00<?, ?it/s]"
      ]
     },
     "metadata": {},
     "output_type": "display_data"
    },
    {
     "data": {
      "application/vnd.jupyter.widget-view+json": {
       "model_id": "f7a61896202e43afa1c054f89ba67cac",
       "version_major": 2,
       "version_minor": 0
      },
      "text/plain": [
       "  0%|          | 0/1000000 [00:00<?, ?it/s]"
      ]
     },
     "metadata": {},
     "output_type": "display_data"
    },
    {
     "data": {
      "application/vnd.jupyter.widget-view+json": {
       "model_id": "17f8943d0eed4269b3f30d7c2574852f",
       "version_major": 2,
       "version_minor": 0
      },
      "text/plain": [
       "  0%|          | 0/1000000 [00:00<?, ?it/s]"
      ]
     },
     "metadata": {},
     "output_type": "display_data"
    },
    {
     "data": {
      "application/vnd.jupyter.widget-view+json": {
       "model_id": "7bcca4225ea74693b73805edf306a25b",
       "version_major": 2,
       "version_minor": 0
      },
      "text/plain": [
       "  0%|          | 0/1000000 [00:00<?, ?it/s]"
      ]
     },
     "metadata": {},
     "output_type": "display_data"
    },
    {
     "data": {
      "application/vnd.jupyter.widget-view+json": {
       "model_id": "c7833371e9aa43e2adfad152e50e650d",
       "version_major": 2,
       "version_minor": 0
      },
      "text/plain": [
       "  0%|          | 0/1000000 [00:00<?, ?it/s]"
      ]
     },
     "metadata": {},
     "output_type": "display_data"
    },
    {
     "data": {
      "application/vnd.jupyter.widget-view+json": {
       "model_id": "bfe11ffe319846fd962b72d049b6f10e",
       "version_major": 2,
       "version_minor": 0
      },
      "text/plain": [
       "  0%|          | 0/1000000 [00:00<?, ?it/s]"
      ]
     },
     "metadata": {},
     "output_type": "display_data"
    },
    {
     "data": {
      "application/vnd.jupyter.widget-view+json": {
       "model_id": "1abf2e2dd6f844bb894e8f54cc43fea5",
       "version_major": 2,
       "version_minor": 0
      },
      "text/plain": [
       "  0%|          | 0/1000000 [00:00<?, ?it/s]"
      ]
     },
     "metadata": {},
     "output_type": "display_data"
    },
    {
     "data": {
      "application/vnd.jupyter.widget-view+json": {
       "model_id": "aa5dadb84df149af99e6bd67bd866461",
       "version_major": 2,
       "version_minor": 0
      },
      "text/plain": [
       "  0%|          | 0/1000000 [00:00<?, ?it/s]"
      ]
     },
     "metadata": {},
     "output_type": "display_data"
    },
    {
     "data": {
      "application/vnd.jupyter.widget-view+json": {
       "model_id": "68258bff537a48b1ab1ba4e89a717f3b",
       "version_major": 2,
       "version_minor": 0
      },
      "text/plain": [
       "  0%|          | 0/1000000 [00:00<?, ?it/s]"
      ]
     },
     "metadata": {},
     "output_type": "display_data"
    },
    {
     "data": {
      "application/vnd.jupyter.widget-view+json": {
       "model_id": "71aaef81d0ca4597a38107443fdef104",
       "version_major": 2,
       "version_minor": 0
      },
      "text/plain": [
       "  0%|          | 0/1000000 [00:00<?, ?it/s]"
      ]
     },
     "metadata": {},
     "output_type": "display_data"
    },
    {
     "data": {
      "application/vnd.jupyter.widget-view+json": {
       "model_id": "6eabcdbf14a847d5913af28f3332a0a9",
       "version_major": 2,
       "version_minor": 0
      },
      "text/plain": [
       "  0%|          | 0/1000000 [00:00<?, ?it/s]"
      ]
     },
     "metadata": {},
     "output_type": "display_data"
    },
    {
     "data": {
      "application/vnd.jupyter.widget-view+json": {
       "model_id": "7d955124e8f147d69fefdcbd0fc8f838",
       "version_major": 2,
       "version_minor": 0
      },
      "text/plain": [
       "  0%|          | 0/1000000 [00:00<?, ?it/s]"
      ]
     },
     "metadata": {},
     "output_type": "display_data"
    },
    {
     "data": {
      "application/vnd.jupyter.widget-view+json": {
       "model_id": "9d1b58ed955d4d88b782033a06975b0e",
       "version_major": 2,
       "version_minor": 0
      },
      "text/plain": [
       "  0%|          | 0/1000000 [00:00<?, ?it/s]"
      ]
     },
     "metadata": {},
     "output_type": "display_data"
    },
    {
     "data": {
      "application/vnd.jupyter.widget-view+json": {
       "model_id": "c072154aaa5b424d9a216ea2fd8171e1",
       "version_major": 2,
       "version_minor": 0
      },
      "text/plain": [
       "  0%|          | 0/1000000 [00:00<?, ?it/s]"
      ]
     },
     "metadata": {},
     "output_type": "display_data"
    },
    {
     "data": {
      "application/vnd.jupyter.widget-view+json": {
       "model_id": "0bc409910aa34ff79d6e925f920298aa",
       "version_major": 2,
       "version_minor": 0
      },
      "text/plain": [
       "  0%|          | 0/1000000 [00:00<?, ?it/s]"
      ]
     },
     "metadata": {},
     "output_type": "display_data"
    },
    {
     "data": {
      "application/vnd.jupyter.widget-view+json": {
       "model_id": "e17cae310ad74b618a6b8dafba08a185",
       "version_major": 2,
       "version_minor": 0
      },
      "text/plain": [
       "  0%|          | 0/1000000 [00:00<?, ?it/s]"
      ]
     },
     "metadata": {},
     "output_type": "display_data"
    },
    {
     "data": {
      "application/vnd.jupyter.widget-view+json": {
       "model_id": "ee2d97f2edb04094a5c4ce8807675ab0",
       "version_major": 2,
       "version_minor": 0
      },
      "text/plain": [
       "  0%|          | 0/1000000 [00:00<?, ?it/s]"
      ]
     },
     "metadata": {},
     "output_type": "display_data"
    },
    {
     "data": {
      "application/vnd.jupyter.widget-view+json": {
       "model_id": "8c78bb2a1f894e85907a72e2cbaf264f",
       "version_major": 2,
       "version_minor": 0
      },
      "text/plain": [
       "  0%|          | 0/1000000 [00:00<?, ?it/s]"
      ]
     },
     "metadata": {},
     "output_type": "display_data"
    },
    {
     "data": {
      "application/vnd.jupyter.widget-view+json": {
       "model_id": "11724d9fe2714dd88f73139a89f0c049",
       "version_major": 2,
       "version_minor": 0
      },
      "text/plain": [
       "  0%|          | 0/1000000 [00:00<?, ?it/s]"
      ]
     },
     "metadata": {},
     "output_type": "display_data"
    },
    {
     "data": {
      "application/vnd.jupyter.widget-view+json": {
       "model_id": "d594f4f581b74e1bb28140193387f9dc",
       "version_major": 2,
       "version_minor": 0
      },
      "text/plain": [
       "  0%|          | 0/1000000 [00:00<?, ?it/s]"
      ]
     },
     "metadata": {},
     "output_type": "display_data"
    },
    {
     "data": {
      "application/vnd.jupyter.widget-view+json": {
       "model_id": "858f20acf8624e359fb332161bcd2665",
       "version_major": 2,
       "version_minor": 0
      },
      "text/plain": [
       "  0%|          | 0/1000000 [00:00<?, ?it/s]"
      ]
     },
     "metadata": {},
     "output_type": "display_data"
    },
    {
     "data": {
      "application/vnd.jupyter.widget-view+json": {
       "model_id": "81b856bb58964d728b69b5fd7b311527",
       "version_major": 2,
       "version_minor": 0
      },
      "text/plain": [
       "  0%|          | 0/1000000 [00:00<?, ?it/s]"
      ]
     },
     "metadata": {},
     "output_type": "display_data"
    },
    {
     "data": {
      "application/vnd.jupyter.widget-view+json": {
       "model_id": "ce71607b057a4fd1807721316652a3a0",
       "version_major": 2,
       "version_minor": 0
      },
      "text/plain": [
       "  0%|          | 0/1000000 [00:00<?, ?it/s]"
      ]
     },
     "metadata": {},
     "output_type": "display_data"
    },
    {
     "data": {
      "application/vnd.jupyter.widget-view+json": {
       "model_id": "ee9177382c44483a803bd47a39545638",
       "version_major": 2,
       "version_minor": 0
      },
      "text/plain": [
       "  0%|          | 0/1000000 [00:00<?, ?it/s]"
      ]
     },
     "metadata": {},
     "output_type": "display_data"
    },
    {
     "data": {
      "application/vnd.jupyter.widget-view+json": {
       "model_id": "94e88bacf1364e5eb9d33c4c8f56deab",
       "version_major": 2,
       "version_minor": 0
      },
      "text/plain": [
       "  0%|          | 0/1000000 [00:00<?, ?it/s]"
      ]
     },
     "metadata": {},
     "output_type": "display_data"
    },
    {
     "data": {
      "application/vnd.jupyter.widget-view+json": {
       "model_id": "26de02d58ced44fe94fb73fe0525cfad",
       "version_major": 2,
       "version_minor": 0
      },
      "text/plain": [
       "  0%|          | 0/1000000 [00:00<?, ?it/s]"
      ]
     },
     "metadata": {},
     "output_type": "display_data"
    },
    {
     "data": {
      "application/vnd.jupyter.widget-view+json": {
       "model_id": "ef08fa19b28745f0b396baefecf32568",
       "version_major": 2,
       "version_minor": 0
      },
      "text/plain": [
       "  0%|          | 0/1000000 [00:00<?, ?it/s]"
      ]
     },
     "metadata": {},
     "output_type": "display_data"
    },
    {
     "data": {
      "application/vnd.jupyter.widget-view+json": {
       "model_id": "89037543ae25493b81b003b3b7fed7e9",
       "version_major": 2,
       "version_minor": 0
      },
      "text/plain": [
       "  0%|          | 0/1000000 [00:00<?, ?it/s]"
      ]
     },
     "metadata": {},
     "output_type": "display_data"
    },
    {
     "data": {
      "application/vnd.jupyter.widget-view+json": {
       "model_id": "bdaa948f6d134685b266283e99877d70",
       "version_major": 2,
       "version_minor": 0
      },
      "text/plain": [
       "  0%|          | 0/1000000 [00:00<?, ?it/s]"
      ]
     },
     "metadata": {},
     "output_type": "display_data"
    },
    {
     "data": {
      "application/vnd.jupyter.widget-view+json": {
       "model_id": "565512b420e14a9ca8ce28965fe580a0",
       "version_major": 2,
       "version_minor": 0
      },
      "text/plain": [
       "  0%|          | 0/1000000 [00:00<?, ?it/s]"
      ]
     },
     "metadata": {},
     "output_type": "display_data"
    },
    {
     "data": {
      "application/vnd.jupyter.widget-view+json": {
       "model_id": "1d3625caf64349a791d1f13604ca9976",
       "version_major": 2,
       "version_minor": 0
      },
      "text/plain": [
       "  0%|          | 0/1000000 [00:00<?, ?it/s]"
      ]
     },
     "metadata": {},
     "output_type": "display_data"
    },
    {
     "data": {
      "application/vnd.jupyter.widget-view+json": {
       "model_id": "a6cc371ff3e64b70ba3c45a82c257a1c",
       "version_major": 2,
       "version_minor": 0
      },
      "text/plain": [
       "  0%|          | 0/1000000 [00:00<?, ?it/s]"
      ]
     },
     "metadata": {},
     "output_type": "display_data"
    },
    {
     "data": {
      "application/vnd.jupyter.widget-view+json": {
       "model_id": "ba28871079004d5cab44ac084cc6f8ce",
       "version_major": 2,
       "version_minor": 0
      },
      "text/plain": [
       "  0%|          | 0/1000000 [00:00<?, ?it/s]"
      ]
     },
     "metadata": {},
     "output_type": "display_data"
    },
    {
     "data": {
      "application/vnd.jupyter.widget-view+json": {
       "model_id": "f7af60cdee104d11baf2cc79c1e057a9",
       "version_major": 2,
       "version_minor": 0
      },
      "text/plain": [
       "  0%|          | 0/1000000 [00:00<?, ?it/s]"
      ]
     },
     "metadata": {},
     "output_type": "display_data"
    },
    {
     "data": {
      "application/vnd.jupyter.widget-view+json": {
       "model_id": "9ba1cef300314d76949a7910d5600d3d",
       "version_major": 2,
       "version_minor": 0
      },
      "text/plain": [
       "  0%|          | 0/1000000 [00:00<?, ?it/s]"
      ]
     },
     "metadata": {},
     "output_type": "display_data"
    },
    {
     "data": {
      "application/vnd.jupyter.widget-view+json": {
       "model_id": "d64e576c55934197abcd06ee2d0f4376",
       "version_major": 2,
       "version_minor": 0
      },
      "text/plain": [
       "  0%|          | 0/1000000 [00:00<?, ?it/s]"
      ]
     },
     "metadata": {},
     "output_type": "display_data"
    },
    {
     "data": {
      "application/vnd.jupyter.widget-view+json": {
       "model_id": "e64eb9f889d5473285b7f8a687254069",
       "version_major": 2,
       "version_minor": 0
      },
      "text/plain": [
       "  0%|          | 0/1000000 [00:00<?, ?it/s]"
      ]
     },
     "metadata": {},
     "output_type": "display_data"
    },
    {
     "data": {
      "application/vnd.jupyter.widget-view+json": {
       "model_id": "15755f37cc1c44eca99626e6574f774a",
       "version_major": 2,
       "version_minor": 0
      },
      "text/plain": [
       "  0%|          | 0/1000000 [00:00<?, ?it/s]"
      ]
     },
     "metadata": {},
     "output_type": "display_data"
    },
    {
     "data": {
      "text/plain": [
       "array([[[0.01388889, 0.        , 0.        , 0.        ],\n",
       "        [0.01388889, 0.        , 0.        , 0.        ],\n",
       "        [0.        , 0.        , 0.01388889, 0.        ],\n",
       "        [0.01388889, 0.        , 0.        , 0.01388889]]])"
      ]
     },
     "execution_count": 82,
     "metadata": {},
     "output_type": "execute_result"
    }
   ],
   "source": [
    "# every 10s (20 0.5s steps) as a \"trial\"\n",
    "# total 720s \"session\" will be 72 \"trials\"\n",
    "ntrials = 72\n",
    "nFromNodes = nevents\n",
    "nToNodes = nevents\n",
    "for itrial in np.arange(0,ntrials,1):\n",
    "    bhv_df_itrial = bhv_df.iloc[itrial*20:(itrial+1)*20]\n",
    "    # define DBN structures\n",
    "    all_pops = list(bhv_df_itrial.columns)\n",
    "    from_pops = [pop for pop in all_pops if not pop.endswith('t1')]\n",
    "    to_pops = [pop for pop in all_pops if pop.endswith('t1')]\n",
    "    causal_whitelist = [(from_pop,to_pop) for from_pop in from_pops for to_pop in to_pops]\n",
    "\n",
    "    # train the DBN for the edges\n",
    "    bhv_hc = HillClimbSearch(bhv_df_itrial)\n",
    "    best_model = bhv_hc.estimate(max_indegree=None, white_list = causal_whitelist, scoring_method=BicScore(bhv_df))\n",
    "    edges_itrial = best_model.edges()\n",
    "    \n",
    "    \n",
    "    DAGs_itrial = np.zeros((ntrials, nFromNodes, nToNodes))\n",
    "    DAGs_itrial[0,:,:] = graph_to_matrix(list(edges_itrial),nevents,eventnames)\n",
    "\n",
    "\n",
    "weighted_graphs = get_weighted_dags(DAGs_itrial,nNewBootstraps = 1)\n",
    "weighted_graphs"
   ]
  },
  {
   "cell_type": "markdown",
   "id": "cb240293",
   "metadata": {},
   "source": [
    "## plot behavioral results (with camera 12) and eye contact results"
   ]
  },
  {
   "cell_type": "code",
   "execution_count": 45,
   "id": "541e793a",
   "metadata": {},
   "outputs": [],
   "source": [
    "time_point_pull1 = bhv_data[\"time_points\"][bhv_data[\"behavior_events\"]==1]\n",
    "time_point_pull2 = bhv_data[\"time_points\"][bhv_data[\"behavior_events\"]==2]\n",
    "ind_lookatotherface1 = np.where(np.array(look_at_face_or_not_camera12[animal1])==1)\n",
    "time_point_lookatotherface1 = look_at_face_or_not_camera12[\"time_in_second\"][ind_lookatotherface1]\n",
    "ind_lookatotherface2 = np.where(np.array(look_at_face_or_not_camera12[animal2])==1)\n",
    "time_point_lookatotherface2 = look_at_face_or_not_camera12[\"time_in_second\"][ind_lookatotherface2]\n",
    "\n",
    "ind_eyecontact1 = np.where(np.array(eye_contact_or_not_camera12[animal1])==1)\n",
    "time_point_eyecontact1 = eye_contact_or_not_camera12[\"time_in_second\"][ind_eyecontact1]\n",
    "ind_eyecontact2 = np.where(np.array(eye_contact_or_not_camera12[animal2])==1)\n",
    "time_point_eyecontact2 = eye_contact_or_not_camera12[\"time_in_second\"][ind_eyecontact2]\n",
    "\n",
    "# calculate the oneway gaze or mutual gaze\n",
    "animal1_gaze = np.round(np.concatenate((time_point_eyecontact1,time_point_lookatotherface1)),1)\n",
    "animal1_gaze = np.unique(np.sort(animal1_gaze))\n",
    "animal2_gaze = np.round(np.concatenate((time_point_eyecontact2,time_point_lookatotherface2)),1)\n",
    "animal2_gaze = np.unique(np.sort(animal2_gaze))\n",
    "\n",
    "ngaze1 = len(animal1_gaze)\n",
    "ngaze2 = len(animal2_gaze)\n",
    "oneway_gaze1 = []\n",
    "oneway_gaze2 = []\n",
    "mutual_gaze1 = []\n",
    "mutual_gaze2 = []\n",
    "# \n",
    "for igaze1 in np.arange(0, ngaze1, 1):\n",
    "    for igaze2 in np.arange(0,ngaze2,1):\n",
    "        if abs(animal1_gaze[igaze1]-animal2_gaze[igaze2])<1:\n",
    "            mutual_gaze1.append(animal1_gaze[igaze1])\n",
    "            mutual_gaze2.append(animal2_gaze[igaze2])\n",
    "mutual_gaze1 = np.unique(mutual_gaze1)   \n",
    "mutual_gaze2 = np.unique(mutual_gaze2)\n",
    "oneway_gaze1 = animal1_gaze[~np.isin(animal1_gaze,mutual_gaze1)]\n",
    "oneway_gaze2 = animal2_gaze[~np.isin(animal2_gaze,mutual_gaze2)]"
   ]
  },
  {
   "cell_type": "code",
   "execution_count": 46,
   "id": "141f26e1",
   "metadata": {},
   "outputs": [
    {
     "data": {
      "text/plain": [
       "[<matplotlib.lines.Line2D at 0x2afd1ad73700>]"
      ]
     },
     "execution_count": 46,
     "metadata": {},
     "output_type": "execute_result"
    },
    {
     "data": {
      "image/png": "[encoded data removed]",
      "text/plain": [
       "<Figure size 432x288 with 1 Axes>"
      ]
     },
     "metadata": {
      "needs_background": "light"
     },
     "output_type": "display_data"
    }
   ],
   "source": [
    "time_point_pull1 = np.round(time_point_pull1,2)\n",
    "ind_plot = time_point_pull1 < 720\n",
    "plt.plot(time_point_pull1[ind_plot], np.ones(np.shape(time_point_pull1[ind_plot])[0]),'o')\n",
    "plt.plot(oneway_gaze1, np.ones(np.shape(oneway_gaze1)[0])*2,'o')\n",
    "plt.plot(mutual_gaze1, np.ones(np.shape(mutual_gaze1)[0])*3,'o')"
   ]
  },
  {
   "cell_type": "code",
   "execution_count": 47,
   "id": "c1f7841a",
   "metadata": {},
   "outputs": [
    {
     "data": {
      "text/plain": [
       "array([ 0.09555556,  0.09722222,  0.75333333,  0.75388889,  1.72055556,\n",
       "        2.31222222,  3.51      ,  3.76611111, 10.495     ])"
      ]
     },
     "execution_count": 47,
     "metadata": {},
     "output_type": "execute_result"
    }
   ],
   "source": [
    "(time_point_eyecontact1+session_start_time)/60"
   ]
  },
  {
   "cell_type": "code",
   "execution_count": 48,
   "id": "0a4c31c6",
   "metadata": {},
   "outputs": [
    {
     "data": {
      "text/plain": [
       "[<matplotlib.lines.Line2D at 0x2afd1add90a0>]"
      ]
     },
     "execution_count": 48,
     "metadata": {},
     "output_type": "execute_result"
    },
    {
     "data": {
      "image/png": "[encoded data removed]",
      "text/plain": [
       "<Figure size 432x288 with 1 Axes>"
      ]
     },
     "metadata": {
      "needs_background": "light"
     },
     "output_type": "display_data"
    }
   ],
   "source": [
    "time_point_pull2 = np.round(time_point_pull2,2)\n",
    "ind_plot = time_point_pull2 < (720 - session_start_time)\n",
    "plt.plot(time_point_pull2[ind_plot], np.ones(np.shape(time_point_pull2[ind_plot])[0]),'o')\n",
    "plt.plot(oneway_gaze2, np.ones(np.shape(oneway_gaze2)[0])*2,'o')\n",
    "plt.plot(mutual_gaze2, np.ones(np.shape(mutual_gaze2)[0])*3,'o')"
   ]
  },
  {
   "cell_type": "markdown",
   "id": "3c15b557",
   "metadata": {},
   "source": [
    "## plot behavioral results (with camera 23) and eye contact results"
   ]
  },
  {
   "cell_type": "code",
   "execution_count": 49,
   "id": "deccfe93",
   "metadata": {},
   "outputs": [],
   "source": [
    "time_point_pull1 = bhv_data[\"time_points\"][bhv_data[\"behavior_events\"]==1]\n",
    "time_point_pull2 = bhv_data[\"time_points\"][bhv_data[\"behavior_events\"]==2]\n",
    "ind_lookatotherface1 = np.where(np.array(look_at_face_or_not_camera23[animal1])==1)\n",
    "time_point_lookatotherface1 = look_at_face_or_not_camera23[\"time_in_second\"][ind_lookatotherface1]\n",
    "ind_lookatotherface2 = np.where(np.array(look_at_face_or_not_camera23[animal2])==1)\n",
    "time_point_lookatotherface2 = look_at_face_or_not_camera23[\"time_in_second\"][ind_lookatotherface2]\n",
    "\n",
    "ind_eyecontact1 = np.where(np.array(eye_contact_or_not_camera23[animal1])==1)\n",
    "time_point_eyecontact1 = eye_contact_or_not_camera23[\"time_in_second\"][ind_eyecontact1]\n",
    "ind_eyecontact2 = np.where(np.array(eye_contact_or_not_camera23[animal2])==1)\n",
    "time_point_eyecontact2 = eye_contact_or_not_camera23[\"time_in_second\"][ind_eyecontact2]\n",
    "\n",
    "# calculate the oneway gaze or mutual gaze\n",
    "animal1_gaze = np.round(np.concatenate((time_point_eyecontact1,time_point_lookatotherface1)),1)\n",
    "animal1_gaze = np.unique(np.sort(animal1_gaze))\n",
    "animal2_gaze = np.round(np.concatenate((time_point_eyecontact2,time_point_lookatotherface2)),1)\n",
    "animal2_gaze = np.unique(np.sort(animal2_gaze))\n",
    "\n",
    "ngaze1 = len(animal1_gaze)\n",
    "ngaze2 = len(animal2_gaze)\n",
    "oneway_gaze1 = []\n",
    "oneway_gaze2 = []\n",
    "mutual_gaze1 = []\n",
    "mutual_gaze2 = []\n",
    "# \n",
    "for igaze1 in np.arange(0, ngaze1, 1):\n",
    "    for igaze2 in np.arange(0,ngaze2,1):\n",
    "        if abs(animal1_gaze[igaze1]-animal2_gaze[igaze2])<1:\n",
    "            mutual_gaze1.append(animal1_gaze[igaze1])\n",
    "            mutual_gaze2.append(animal2_gaze[igaze2])\n",
    "mutual_gaze1 = np.unique(mutual_gaze1)   \n",
    "mutual_gaze2 = np.unique(mutual_gaze2)\n",
    "oneway_gaze1 = animal1_gaze[~np.isin(animal1_gaze,mutual_gaze1)]\n",
    "oneway_gaze2 = animal2_gaze[~np.isin(animal2_gaze,mutual_gaze2)]"
   ]
  },
  {
   "cell_type": "code",
   "execution_count": 50,
   "id": "7b781a9f",
   "metadata": {},
   "outputs": [
    {
     "data": {
      "text/plain": [
       "[<matplotlib.lines.Line2D at 0x2afd1ae37d00>]"
      ]
     },
     "execution_count": 50,
     "metadata": {},
     "output_type": "execute_result"
    },
    {
     "data": {
      "image/png": "[encoded data removed]",
      "text/plain": [
       "<Figure size 432x288 with 1 Axes>"
      ]
     },
     "metadata": {
      "needs_background": "light"
     },
     "output_type": "display_data"
    }
   ],
   "source": [
    "time_point_pull1 = np.round(time_point_pull1,2)\n",
    "ind_plot = time_point_pull1 < (720 - session_start_time)\n",
    "plt.plot(time_point_pull1[ind_plot], np.ones(np.shape(time_point_pull1[ind_plot])[0]),'o')\n",
    "plt.plot(oneway_gaze1, np.ones(np.shape(oneway_gaze1)[0])*2,'o')\n",
    "plt.plot(mutual_gaze1, np.ones(np.shape(mutual_gaze1)[0])*3,'o')"
   ]
  },
  {
   "cell_type": "code",
   "execution_count": 51,
   "id": "b945f65a",
   "metadata": {},
   "outputs": [
    {
     "data": {
      "text/plain": [
       "[<matplotlib.lines.Line2D at 0x2afd1aea6b80>]"
      ]
     },
     "execution_count": 51,
     "metadata": {},
     "output_type": "execute_result"
    },
    {
     "data": {
      "image/png": "[encoded data removed]",
      "text/plain": [
       "<Figure size 432x288 with 1 Axes>"
      ]
     },
     "metadata": {
      "needs_background": "light"
     },
     "output_type": "display_data"
    }
   ],
   "source": [
    "time_point_pull2 = np.round(time_point_pull2,2)\n",
    "ind_plot = time_point_pull2 < (720 - session_start_time)\n",
    "plt.plot(time_point_pull2[ind_plot], np.ones(np.shape(time_point_pull2[ind_plot])[0]),'o')\n",
    "plt.plot(oneway_gaze2, np.ones(np.shape(oneway_gaze2)[0])*2,'o')\n",
    "plt.plot(mutual_gaze2, np.ones(np.shape(mutual_gaze2)[0])*3,'o')"
   ]
  },
  {
   "cell_type": "code",
   "execution_count": null,
   "id": "bdf3db5e",
   "metadata": {},
   "outputs": [],
   "source": []
  },
  {
   "cell_type": "code",
   "execution_count": null,
   "id": "b60811dd",
   "metadata": {},
   "outputs": [],
   "source": []
  }
 ],
 "metadata": {
  "kernelspec": {
   "display_name": "Python 3 (ipykernel)",
   "language": "python",
   "name": "python3"
  },
  "language_info": {
   "codemirror_mode": {
    "name": "ipython",
    "version": 3
   },
   "file_extension": ".py",
   "mimetype": "text/x-python",
   "name": "python",
   "nbconvert_exporter": "python",
   "pygments_lexer": "ipython3",
   "version": "3.8.6"
  }
 },
 "nbformat": 4,
 "nbformat_minor": 5
}
