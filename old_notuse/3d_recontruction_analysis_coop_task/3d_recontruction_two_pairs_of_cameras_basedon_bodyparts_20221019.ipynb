{
 "cells": [
  {
   "cell_type": "code",
   "execution_count": 1,
   "id": "f1849ae6",
   "metadata": {},
   "outputs": [],
   "source": [
    "import pandas as pd\n",
    "import numpy as np\n",
    "import matplotlib.pyplot as plt\n",
    "import scipy\n",
    "import string\n",
    "import warnings\n",
    "import pickle"
   ]
  },
  {
   "cell_type": "markdown",
   "id": "0819c438",
   "metadata": {},
   "source": [
    "# load video data"
   ]
  },
  {
   "cell_type": "code",
   "execution_count": 2,
   "id": "3ab92aff",
   "metadata": {},
   "outputs": [],
   "source": [
    "# 3d analyzed video path\n",
    "camera12_analyzed_path = \"/ysm-gpfs/pi/jadi/VideoTracker_SocialInter/test_video_cooperative_task_3d/20221019_Dodson_Scorch_camera12/\"\n",
    "camera23_analyzed_path = \"/ysm-gpfs/pi/jadi/VideoTracker_SocialInter/test_video_cooperative_task_3d/20221019_Dodson_Scorch_camera23/\"\n",
    "\n",
    "# h5 files for the analyzed videos\n",
    "camera12_h5_file = camera12_analyzed_path + \"20221019_Dodson_Scorch_weikang.h5\"\n",
    "camera23_h5_file = camera23_analyzed_path + \"20221019_Dodson_Scorch_weikang.h5\"\n",
    "\n",
    "# h5 files for save \n",
    "camera12_h5_file_save = camera12_analyzed_path + \"20221019_Dodson_Scorch_weikang.h5\"\n",
    "camera23_h5_file_save = camera23_analyzed_path + \"20221019_Dodson_Scorch_weikang.h5\"\n",
    "\n",
    "# meta pickle data for the analyzed videos\n",
    "camera12_metapickle_file = camera12_analyzed_path + \"20221019_Dodson_Scorch_weikang_meta.pickle\"\n",
    "camera23_metapickle_file = camera23_analyzed_path + \"20221019_Dodson_Scorch_weikang_meta.pickle\"\n",
    "\n",
    "# load data\n",
    "camera12_metapickle_data = pd.read_pickle(camera12_metapickle_file)\n",
    "camera23_metapickle_data = pd.read_pickle(camera23_metapickle_file)\n",
    "\n",
    "camera12_h5_data = pd.read_hdf(camera12_h5_file)\n",
    "camera23_h5_data = pd.read_hdf(camera23_h5_file)\n"
   ]
  },
  {
   "cell_type": "code",
   "execution_count": 3,
   "id": "fd88ea1f",
   "metadata": {},
   "outputs": [
    {
     "data": {
      "text/html": [
       "<div>\n",
       "<style scoped>\n",
       "    .dataframe tbody tr th:only-of-type {\n",
       "        vertical-align: middle;\n",
       "    }\n",
       "\n",
       "    .dataframe tbody tr th {\n",
       "        vertical-align: top;\n",
       "    }\n",
       "\n",
       "    .dataframe thead tr th {\n",
       "        text-align: left;\n",
       "    }\n",
       "</style>\n",
       "<table border=\"1\" class=\"dataframe\">\n",
       "  <thead>\n",
       "    <tr>\n",
       "      <th>scorer</th>\n",
       "      <th colspan=\"21\" halign=\"left\">weikang</th>\n",
       "    </tr>\n",
       "    <tr>\n",
       "      <th>individuals</th>\n",
       "      <th colspan=\"10\" halign=\"left\">dodson</th>\n",
       "      <th>...</th>\n",
       "      <th colspan=\"10\" halign=\"left\">scorch</th>\n",
       "    </tr>\n",
       "    <tr>\n",
       "      <th>bodyparts</th>\n",
       "      <th colspan=\"3\" halign=\"left\">rightTuft</th>\n",
       "      <th colspan=\"3\" halign=\"left\">whiteBlaze</th>\n",
       "      <th colspan=\"3\" halign=\"left\">leftTuft</th>\n",
       "      <th>rightEye</th>\n",
       "      <th>...</th>\n",
       "      <th>leftTuft</th>\n",
       "      <th colspan=\"3\" halign=\"left\">rightEye</th>\n",
       "      <th colspan=\"3\" halign=\"left\">leftEye</th>\n",
       "      <th colspan=\"3\" halign=\"left\">mouth</th>\n",
       "    </tr>\n",
       "    <tr>\n",
       "      <th>coords</th>\n",
       "      <th>x</th>\n",
       "      <th>y</th>\n",
       "      <th>z</th>\n",
       "      <th>x</th>\n",
       "      <th>y</th>\n",
       "      <th>z</th>\n",
       "      <th>x</th>\n",
       "      <th>y</th>\n",
       "      <th>z</th>\n",
       "      <th>x</th>\n",
       "      <th>...</th>\n",
       "      <th>z</th>\n",
       "      <th>x</th>\n",
       "      <th>y</th>\n",
       "      <th>z</th>\n",
       "      <th>x</th>\n",
       "      <th>y</th>\n",
       "      <th>z</th>\n",
       "      <th>x</th>\n",
       "      <th>y</th>\n",
       "      <th>z</th>\n",
       "    </tr>\n",
       "  </thead>\n",
       "  <tbody>\n",
       "    <tr>\n",
       "      <th>0</th>\n",
       "      <td>-1.244024</td>\n",
       "      <td>-2.931021</td>\n",
       "      <td>10.305333</td>\n",
       "      <td>-0.145953</td>\n",
       "      <td>-2.515503</td>\n",
       "      <td>9.512132</td>\n",
       "      <td>NaN</td>\n",
       "      <td>NaN</td>\n",
       "      <td>NaN</td>\n",
       "      <td>-0.544783</td>\n",
       "      <td>...</td>\n",
       "      <td>17.974821</td>\n",
       "      <td>NaN</td>\n",
       "      <td>NaN</td>\n",
       "      <td>NaN</td>\n",
       "      <td>-11.563297</td>\n",
       "      <td>-2.043719</td>\n",
       "      <td>18.157704</td>\n",
       "      <td>-11.881323</td>\n",
       "      <td>-1.605666</td>\n",
       "      <td>18.490393</td>\n",
       "    </tr>\n",
       "    <tr>\n",
       "      <th>1</th>\n",
       "      <td>-1.207864</td>\n",
       "      <td>-2.882095</td>\n",
       "      <td>10.095860</td>\n",
       "      <td>-0.142733</td>\n",
       "      <td>-2.399943</td>\n",
       "      <td>9.393371</td>\n",
       "      <td>NaN</td>\n",
       "      <td>NaN</td>\n",
       "      <td>NaN</td>\n",
       "      <td>-0.527952</td>\n",
       "      <td>...</td>\n",
       "      <td>18.046932</td>\n",
       "      <td>NaN</td>\n",
       "      <td>NaN</td>\n",
       "      <td>NaN</td>\n",
       "      <td>-11.562339</td>\n",
       "      <td>-2.040406</td>\n",
       "      <td>18.156153</td>\n",
       "      <td>-11.863063</td>\n",
       "      <td>-1.608532</td>\n",
       "      <td>18.487102</td>\n",
       "    </tr>\n",
       "    <tr>\n",
       "      <th>2</th>\n",
       "      <td>-1.182581</td>\n",
       "      <td>-2.816982</td>\n",
       "      <td>9.921886</td>\n",
       "      <td>-0.135424</td>\n",
       "      <td>-2.265345</td>\n",
       "      <td>9.284123</td>\n",
       "      <td>NaN</td>\n",
       "      <td>NaN</td>\n",
       "      <td>NaN</td>\n",
       "      <td>-0.516129</td>\n",
       "      <td>...</td>\n",
       "      <td>18.046550</td>\n",
       "      <td>NaN</td>\n",
       "      <td>NaN</td>\n",
       "      <td>NaN</td>\n",
       "      <td>-11.548493</td>\n",
       "      <td>-2.038732</td>\n",
       "      <td>18.134423</td>\n",
       "      <td>-11.863063</td>\n",
       "      <td>-1.608532</td>\n",
       "      <td>18.487102</td>\n",
       "    </tr>\n",
       "    <tr>\n",
       "      <th>3</th>\n",
       "      <td>-1.155172</td>\n",
       "      <td>-2.785508</td>\n",
       "      <td>9.784827</td>\n",
       "      <td>-0.130329</td>\n",
       "      <td>-2.220518</td>\n",
       "      <td>9.182231</td>\n",
       "      <td>NaN</td>\n",
       "      <td>NaN</td>\n",
       "      <td>NaN</td>\n",
       "      <td>-0.515691</td>\n",
       "      <td>...</td>\n",
       "      <td>18.140003</td>\n",
       "      <td>NaN</td>\n",
       "      <td>NaN</td>\n",
       "      <td>NaN</td>\n",
       "      <td>NaN</td>\n",
       "      <td>NaN</td>\n",
       "      <td>NaN</td>\n",
       "      <td>-11.869554</td>\n",
       "      <td>-1.619129</td>\n",
       "      <td>18.460154</td>\n",
       "    </tr>\n",
       "    <tr>\n",
       "      <th>4</th>\n",
       "      <td>-1.143367</td>\n",
       "      <td>-2.759970</td>\n",
       "      <td>9.728524</td>\n",
       "      <td>-0.129118</td>\n",
       "      <td>-2.199765</td>\n",
       "      <td>9.106043</td>\n",
       "      <td>0.858769</td>\n",
       "      <td>-3.132331</td>\n",
       "      <td>10.213234</td>\n",
       "      <td>-0.506591</td>\n",
       "      <td>...</td>\n",
       "      <td>NaN</td>\n",
       "      <td>NaN</td>\n",
       "      <td>NaN</td>\n",
       "      <td>NaN</td>\n",
       "      <td>NaN</td>\n",
       "      <td>NaN</td>\n",
       "      <td>NaN</td>\n",
       "      <td>NaN</td>\n",
       "      <td>NaN</td>\n",
       "      <td>NaN</td>\n",
       "    </tr>\n",
       "    <tr>\n",
       "      <th>...</th>\n",
       "      <td>...</td>\n",
       "      <td>...</td>\n",
       "      <td>...</td>\n",
       "      <td>...</td>\n",
       "      <td>...</td>\n",
       "      <td>...</td>\n",
       "      <td>...</td>\n",
       "      <td>...</td>\n",
       "      <td>...</td>\n",
       "      <td>...</td>\n",
       "      <td>...</td>\n",
       "      <td>...</td>\n",
       "      <td>...</td>\n",
       "      <td>...</td>\n",
       "      <td>...</td>\n",
       "      <td>...</td>\n",
       "      <td>...</td>\n",
       "      <td>...</td>\n",
       "      <td>...</td>\n",
       "      <td>...</td>\n",
       "      <td>...</td>\n",
       "    </tr>\n",
       "    <tr>\n",
       "      <th>21205</th>\n",
       "      <td>-5.793042</td>\n",
       "      <td>-3.546655</td>\n",
       "      <td>10.181575</td>\n",
       "      <td>-5.152815</td>\n",
       "      <td>-3.777845</td>\n",
       "      <td>10.126291</td>\n",
       "      <td>-4.682598</td>\n",
       "      <td>-3.556008</td>\n",
       "      <td>9.595505</td>\n",
       "      <td>-5.288738</td>\n",
       "      <td>...</td>\n",
       "      <td>NaN</td>\n",
       "      <td>NaN</td>\n",
       "      <td>NaN</td>\n",
       "      <td>NaN</td>\n",
       "      <td>NaN</td>\n",
       "      <td>NaN</td>\n",
       "      <td>NaN</td>\n",
       "      <td>NaN</td>\n",
       "      <td>NaN</td>\n",
       "      <td>NaN</td>\n",
       "    </tr>\n",
       "    <tr>\n",
       "      <th>21206</th>\n",
       "      <td>-5.794253</td>\n",
       "      <td>-3.541598</td>\n",
       "      <td>10.154763</td>\n",
       "      <td>-5.153026</td>\n",
       "      <td>-3.785188</td>\n",
       "      <td>10.116230</td>\n",
       "      <td>-4.678248</td>\n",
       "      <td>-3.550460</td>\n",
       "      <td>9.577970</td>\n",
       "      <td>-5.269344</td>\n",
       "      <td>...</td>\n",
       "      <td>NaN</td>\n",
       "      <td>NaN</td>\n",
       "      <td>NaN</td>\n",
       "      <td>NaN</td>\n",
       "      <td>NaN</td>\n",
       "      <td>NaN</td>\n",
       "      <td>NaN</td>\n",
       "      <td>NaN</td>\n",
       "      <td>NaN</td>\n",
       "      <td>NaN</td>\n",
       "    </tr>\n",
       "    <tr>\n",
       "      <th>21207</th>\n",
       "      <td>-5.786434</td>\n",
       "      <td>-3.541369</td>\n",
       "      <td>10.129814</td>\n",
       "      <td>-5.150142</td>\n",
       "      <td>-3.781128</td>\n",
       "      <td>10.097551</td>\n",
       "      <td>-4.677826</td>\n",
       "      <td>-3.543892</td>\n",
       "      <td>9.573540</td>\n",
       "      <td>-5.268116</td>\n",
       "      <td>...</td>\n",
       "      <td>NaN</td>\n",
       "      <td>NaN</td>\n",
       "      <td>NaN</td>\n",
       "      <td>NaN</td>\n",
       "      <td>NaN</td>\n",
       "      <td>NaN</td>\n",
       "      <td>NaN</td>\n",
       "      <td>NaN</td>\n",
       "      <td>NaN</td>\n",
       "      <td>NaN</td>\n",
       "    </tr>\n",
       "    <tr>\n",
       "      <th>21208</th>\n",
       "      <td>-5.788432</td>\n",
       "      <td>-3.543879</td>\n",
       "      <td>10.128045</td>\n",
       "      <td>-5.150885</td>\n",
       "      <td>-3.784437</td>\n",
       "      <td>10.097413</td>\n",
       "      <td>-4.678694</td>\n",
       "      <td>-3.544290</td>\n",
       "      <td>9.572803</td>\n",
       "      <td>-5.272910</td>\n",
       "      <td>...</td>\n",
       "      <td>NaN</td>\n",
       "      <td>NaN</td>\n",
       "      <td>NaN</td>\n",
       "      <td>NaN</td>\n",
       "      <td>NaN</td>\n",
       "      <td>NaN</td>\n",
       "      <td>NaN</td>\n",
       "      <td>NaN</td>\n",
       "      <td>NaN</td>\n",
       "      <td>NaN</td>\n",
       "    </tr>\n",
       "    <tr>\n",
       "      <th>21209</th>\n",
       "      <td>-5.793433</td>\n",
       "      <td>-3.544388</td>\n",
       "      <td>10.123407</td>\n",
       "      <td>-5.154363</td>\n",
       "      <td>-3.786276</td>\n",
       "      <td>10.094705</td>\n",
       "      <td>-4.678694</td>\n",
       "      <td>-3.544290</td>\n",
       "      <td>9.572803</td>\n",
       "      <td>-5.275306</td>\n",
       "      <td>...</td>\n",
       "      <td>NaN</td>\n",
       "      <td>NaN</td>\n",
       "      <td>NaN</td>\n",
       "      <td>NaN</td>\n",
       "      <td>NaN</td>\n",
       "      <td>NaN</td>\n",
       "      <td>NaN</td>\n",
       "      <td>NaN</td>\n",
       "      <td>NaN</td>\n",
       "      <td>NaN</td>\n",
       "    </tr>\n",
       "  </tbody>\n",
       "</table>\n",
       "<p>21210 rows × 36 columns</p>\n",
       "</div>"
      ],
      "text/plain": [
       "scorer        weikang                                                       \\\n",
       "individuals    dodson                                                        \n",
       "bodyparts   rightTuft                      whiteBlaze                        \n",
       "coords              x         y          z          x         y          z   \n",
       "0           -1.244024 -2.931021  10.305333  -0.145953 -2.515503   9.512132   \n",
       "1           -1.207864 -2.882095  10.095860  -0.142733 -2.399943   9.393371   \n",
       "2           -1.182581 -2.816982   9.921886  -0.135424 -2.265345   9.284123   \n",
       "3           -1.155172 -2.785508   9.784827  -0.130329 -2.220518   9.182231   \n",
       "4           -1.143367 -2.759970   9.728524  -0.129118 -2.199765   9.106043   \n",
       "...               ...       ...        ...        ...       ...        ...   \n",
       "21205       -5.793042 -3.546655  10.181575  -5.152815 -3.777845  10.126291   \n",
       "21206       -5.794253 -3.541598  10.154763  -5.153026 -3.785188  10.116230   \n",
       "21207       -5.786434 -3.541369  10.129814  -5.150142 -3.781128  10.097551   \n",
       "21208       -5.788432 -3.543879  10.128045  -5.150885 -3.784437  10.097413   \n",
       "21209       -5.793433 -3.544388  10.123407  -5.154363 -3.786276  10.094705   \n",
       "\n",
       "scorer                                                ...                      \\\n",
       "individuals                                           ...     scorch            \n",
       "bodyparts    leftTuft                       rightEye  ...   leftTuft rightEye   \n",
       "coords              x         y          z         x  ...          z        x   \n",
       "0                 NaN       NaN        NaN -0.544783  ...  17.974821      NaN   \n",
       "1                 NaN       NaN        NaN -0.527952  ...  18.046932      NaN   \n",
       "2                 NaN       NaN        NaN -0.516129  ...  18.046550      NaN   \n",
       "3                 NaN       NaN        NaN -0.515691  ...  18.140003      NaN   \n",
       "4            0.858769 -3.132331  10.213234 -0.506591  ...        NaN      NaN   \n",
       "...               ...       ...        ...       ...  ...        ...      ...   \n",
       "21205       -4.682598 -3.556008   9.595505 -5.288738  ...        NaN      NaN   \n",
       "21206       -4.678248 -3.550460   9.577970 -5.269344  ...        NaN      NaN   \n",
       "21207       -4.677826 -3.543892   9.573540 -5.268116  ...        NaN      NaN   \n",
       "21208       -4.678694 -3.544290   9.572803 -5.272910  ...        NaN      NaN   \n",
       "21209       -4.678694 -3.544290   9.572803 -5.275306  ...        NaN      NaN   \n",
       "\n",
       "scorer                                                                    \\\n",
       "individuals                                                                \n",
       "bodyparts              leftEye                           mouth             \n",
       "coords        y   z          x         y          z          x         y   \n",
       "0           NaN NaN -11.563297 -2.043719  18.157704 -11.881323 -1.605666   \n",
       "1           NaN NaN -11.562339 -2.040406  18.156153 -11.863063 -1.608532   \n",
       "2           NaN NaN -11.548493 -2.038732  18.134423 -11.863063 -1.608532   \n",
       "3           NaN NaN        NaN       NaN        NaN -11.869554 -1.619129   \n",
       "4           NaN NaN        NaN       NaN        NaN        NaN       NaN   \n",
       "...          ..  ..        ...       ...        ...        ...       ...   \n",
       "21205       NaN NaN        NaN       NaN        NaN        NaN       NaN   \n",
       "21206       NaN NaN        NaN       NaN        NaN        NaN       NaN   \n",
       "21207       NaN NaN        NaN       NaN        NaN        NaN       NaN   \n",
       "21208       NaN NaN        NaN       NaN        NaN        NaN       NaN   \n",
       "21209       NaN NaN        NaN       NaN        NaN        NaN       NaN   \n",
       "\n",
       "scorer                  \n",
       "individuals             \n",
       "bodyparts               \n",
       "coords               z  \n",
       "0            18.490393  \n",
       "1            18.487102  \n",
       "2            18.487102  \n",
       "3            18.460154  \n",
       "4                  NaN  \n",
       "...                ...  \n",
       "21205              NaN  \n",
       "21206              NaN  \n",
       "21207              NaN  \n",
       "21208              NaN  \n",
       "21209              NaN  \n",
       "\n",
       "[21210 rows x 36 columns]"
      ]
     },
     "execution_count": 3,
     "metadata": {},
     "output_type": "execute_result"
    }
   ],
   "source": [
    "camera12_h5_data"
   ]
  },
  {
   "cell_type": "code",
   "execution_count": 5,
   "id": "c6b59b3c",
   "metadata": {},
   "outputs": [
    {
     "data": {
      "text/plain": [
       "29.97002997002997"
      ]
     },
     "execution_count": 5,
     "metadata": {},
     "output_type": "execute_result"
    }
   ],
   "source": [
    "# get the fps of the analyzed video\n",
    "import cv2\n",
    "video_cam1_file = camera12_analyzed_path + \"20221019_Dodson_Scorch_camera-1.mp4\"\n",
    "cam = cv2.VideoCapture(video_cam1_file)\n",
    "fps1 = cam.get(cv2.CAP_PROP_FPS)\n",
    "video_cam2_file = camera12_analyzed_path + \"20221019_Dodson_Scorch_camera-2.mp4\"\n",
    "cam = cv2.VideoCapture(video_cam2_file)\n",
    "fps2 = cam.get(cv2.CAP_PROP_FPS)\n",
    "fps = fps1\n",
    "fps"
   ]
  },
  {
   "cell_type": "code",
   "execution_count": 6,
   "id": "d01a7a2f",
   "metadata": {},
   "outputs": [],
   "source": [
    "# aligned with the audio\n",
    "# get the session start time from \"videosound_bhv_sync.py/.ipynb\"\n",
    "# currently the session_start_time will be manually typed in. It can be updated after a better method is used\n",
    "session_start_time = 45.30 # in second\n",
    "session_start_frame = session_start_time * fps # fps is 30Hz"
   ]
  },
  {
   "cell_type": "code",
   "execution_count": 7,
   "id": "b0bc3e9e",
   "metadata": {},
   "outputs": [],
   "source": [
    "# gaze angle threshold\n",
    "# angle_thres = np.pi/36 # 5 degree\n",
    "angle_thres = np.pi/18 # 10 degree"
   ]
  },
  {
   "cell_type": "markdown",
   "id": "04e00fff",
   "metadata": {},
   "source": [
    "# analyze based on camera 1 and camera 2 "
   ]
  },
  {
   "cell_type": "code",
   "execution_count": 8,
   "id": "9276cd2f",
   "metadata": {},
   "outputs": [
    {
     "name": "stdout",
     "output_type": "stream",
     "text": [
      "['dodson' 'scorch']\n",
      "['rightTuft' 'whiteBlaze' 'leftTuft' 'rightEye' 'leftEye' 'mouth']\n",
      "['x' 'y' 'z']\n"
     ]
    }
   ],
   "source": [
    "# analysis - camera 1 and 2\n",
    "ncols = camera12_h5_data.shape[1]\n",
    "nframes = camera12_h5_data.shape[0]\n",
    "animal_names = []\n",
    "body_parts = []\n",
    "xyz_axis = []\n",
    "\n",
    "for i in np.arange(0,ncols,1):\n",
    "    animal_names.append(camera12_h5_data.columns[i][1])\n",
    "    body_parts.append(camera12_h5_data.columns[i][2])\n",
    "    xyz_axis.append(camera12_h5_data.columns[i][3])\n",
    "  \n",
    "    # fill in the nan data point\n",
    "    data_point = camera12_h5_data.iloc[:,i]\n",
    "    data_point_filled = data_point.interpolate(method='nearest',limit_direction='both')\n",
    "    data_point_filled = data_point_filled.interpolate(method='linear',limit_direction='both')\n",
    "    # smooth the data point   \n",
    "    # data_point_filtered = data_point_filled.rolling(window=5, win_type='gaussian', center=True).mean(std=0.5)\n",
    "    #\n",
    "    # camera12_h5_data.iloc[:,i] = data_point_filled\n",
    "    \n",
    "animal_names_unique = pd.unique(animal_names)\n",
    "print(animal_names_unique)\n",
    "body_parts_unique = pd.unique(body_parts)\n",
    "print(body_parts_unique)\n",
    "xyz_axis_unique = pd.unique(xyz_axis)\n",
    "print(xyz_axis_unique)\n",
    "\n",
    "# camera12_h5_data.to_hdf(camera12_h5_file_save, key = \"camera12_h5_data\")\n"
   ]
  },
  {
   "cell_type": "code",
   "execution_count": 9,
   "id": "e1025808",
   "metadata": {},
   "outputs": [],
   "source": [
    "# find the location of each body part\n",
    "body_part_locs = {}\n",
    "for iname in animal_names_unique:\n",
    "    for ibody in body_parts_unique:\n",
    "        ind = np.isin(animal_names,iname) & np.isin(body_parts,ibody)\n",
    "        body_part_locs[(iname,ibody)] = camera12_h5_data.iloc[:,ind]  \n",
    "        \n",
    "        # remove the outlier \n",
    "        for iaxis in np.arange(0,3,1):\n",
    "            # loc_std = np.std(body_part_locs[(iname,ibody)])[iaxis]\n",
    "            # loc_mean = pd.DataFrame.mean(body_part_locs[(iname,ibody)])[iaxis]\n",
    "            # ind = (body_part_locs[(iname,ibody)].iloc[:,iaxis]>loc_mean+3*loc_std) | (body_part_locs[(iname,ibody)].iloc[:,iaxis]<loc_mean-3*loc_std)\n",
    "            # body_part_locs[(iname,ibody)].iloc[:,iaxis][ind] = np.nan\n",
    "            q1 = np.nanquantile(body_part_locs[(iname,ibody)].iloc[:,iaxis],0.25)\n",
    "            q3 = np.nanquantile(body_part_locs[(iname,ibody)].iloc[:,iaxis],0.75)\n",
    "            thres1 = q1 - 1.5*abs(q3-q1)\n",
    "            thres2 = q3 + 1.5*abs(q3-q1)\n",
    "            ind = (body_part_locs[(iname,ibody)].iloc[:,iaxis]>thres2) | (body_part_locs[(iname,ibody)].iloc[:,iaxis]<thres1)\n",
    "            body_part_locs[(iname,ibody)].iloc[:,iaxis][ind] = np.nan\n",
    "            \n",
    "body_part_locs_camera12 = body_part_locs"
   ]
  },
  {
   "cell_type": "code",
   "execution_count": 10,
   "id": "cd5ff172",
   "metadata": {},
   "outputs": [],
   "source": [
    "warnings.filterwarnings('ignore')\n",
    "eye_direction_camera12 = {}\n",
    "eye_contact_or_not_camera12 = {}\n",
    "look_at_face_or_not_camera12 = {}\n",
    "for iname in animal_names_unique:\n",
    "    eye_dir_frames = []\n",
    "    eye_contact_frames = []\n",
    "    look_at_face_frames = []\n",
    "    for iframe in np.arange(0,nframes,1):\n",
    "        lefteye_loc = body_part_locs[(iname,'leftEye')].iloc[iframe,:].to_numpy()\n",
    "        righteye_loc = body_part_locs[(iname,'rightEye')].iloc[iframe,:].to_numpy()\n",
    "        lefttuft_loc = body_part_locs[(iname,'leftTuft')].iloc[iframe,:].to_numpy()\n",
    "        righttuft_loc = body_part_locs[(iname,'rightTuft')].iloc[iframe,:].to_numpy()\n",
    "        whiblz_loc = body_part_locs[(iname,'whiteBlaze')].iloc[iframe,:].to_numpy()\n",
    "        mouth_loc = body_part_locs[(iname,'mouth')].iloc[iframe,:].to_numpy()\n",
    "        \n",
    "        Vect1 = lefteye_loc - righteye_loc\n",
    "        Vect2 = whiblz_loc - mouth_loc\n",
    "        Vect3 = lefttuft_loc - lefteye_loc\n",
    "        Vect4 = righttuft_loc - righteye_loc\n",
    "        \n",
    "        try:       \n",
    "            Vect1 = Vect1 / scipy.linalg.norm(Vect1)\n",
    "            Vect2 = Vect2 / scipy.linalg.norm(Vect2) \n",
    "        except:\n",
    "            Vect1 = Vect1\n",
    "            Vect2 = Vect2\n",
    "        eyesight_dir = np.cross(Vect1, Vect2)\n",
    "        \n",
    "        if ((np.dot(eyesight_dir, Vect3)>0) | (np.dot(eyesight_dir, Vect4)>0)):\n",
    "            eyesight_dir = -eyesight_dir\n",
    "        \n",
    "        eye_dir_frames.append(eyesight_dir)\n",
    "        \n",
    "        \n",
    "        # examine whether this animal is looking at the other's eyes or face\n",
    "        if (iname == animal_names_unique[0]): \n",
    "            iname_other = animal_names_unique[1]\n",
    "        elif (iname == animal_names_unique[1]): \n",
    "            iname_other = animal_names_unique[0]\n",
    "            \n",
    "        lefteye_loc_other = body_part_locs[(iname_other,'leftEye')].iloc[iframe,:].to_numpy()\n",
    "        righteye_loc_other = body_part_locs[(iname_other,'rightEye')].iloc[iframe,:].to_numpy()\n",
    "        lefttuft_loc_other = body_part_locs[(iname_other,'leftTuft')].iloc[iframe,:].to_numpy()\n",
    "        righttuft_loc_other = body_part_locs[(iname_other,'rightTuft')].iloc[iframe,:].to_numpy()\n",
    "        whiblz_loc_other = body_part_locs[(iname_other,'whiteBlaze')].iloc[iframe,:].to_numpy()\n",
    "        mouth_loc_other = body_part_locs[(iname_other,'mouth')].iloc[iframe,:].to_numpy()\n",
    "        \n",
    "        # where left eye is looking\n",
    "        # vector between body part\n",
    "        vect1_lefteye = lefteye_loc_other - lefteye_loc\n",
    "        vect2_lefteye = righteye_loc_other - lefteye_loc\n",
    "        vect3_lefteye = lefttuft_loc_other - lefteye_loc\n",
    "        vect4_lefteye = righttuft_loc_other - lefteye_loc\n",
    "        vect5_lefteye = whiblz_loc_other - lefteye_loc\n",
    "        vect6_lefteye = mouth_loc_other - lefteye_loc\n",
    "        # angle between body part vector and eyesight direction\n",
    "        angle1_lefteye =  np.sign(np.dot(eyesight_dir,vect1_lefteye))*np.arccos(np.clip(np.dot(eyesight_dir/np.linalg.norm(eyesight_dir), vect1_lefteye/np.linalg.norm(vect1_lefteye)), -1.0, 1.0))       \n",
    "        angle2_lefteye =  np.sign(np.dot(eyesight_dir,vect2_lefteye))*np.arccos(np.clip(np.dot(eyesight_dir/np.linalg.norm(eyesight_dir), vect2_lefteye/np.linalg.norm(vect2_lefteye)), -1.0, 1.0))\n",
    "        angle3_lefteye =  np.sign(np.dot(eyesight_dir,vect3_lefteye))*np.arccos(np.clip(np.dot(eyesight_dir/np.linalg.norm(eyesight_dir), vect3_lefteye/np.linalg.norm(vect3_lefteye)), -1.0, 1.0))\n",
    "        angle4_lefteye =  np.sign(np.dot(eyesight_dir,vect4_lefteye))*np.arccos(np.clip(np.dot(eyesight_dir/np.linalg.norm(eyesight_dir), vect4_lefteye/np.linalg.norm(vect4_lefteye)), -1.0, 1.0))\n",
    "        angle5_lefteye =  np.sign(np.dot(eyesight_dir,vect5_lefteye))*np.arccos(np.clip(np.dot(eyesight_dir/np.linalg.norm(eyesight_dir), vect5_lefteye/np.linalg.norm(vect5_lefteye)), -1.0, 1.0))\n",
    "        angle6_lefteye =  np.sign(np.dot(eyesight_dir,vect6_lefteye))*np.arccos(np.clip(np.dot(eyesight_dir/np.linalg.norm(eyesight_dir), vect6_lefteye/np.linalg.norm(vect6_lefteye)), -1.0, 1.0))\n",
    "        \n",
    "        # where right eye is looking\n",
    "        # vector between body part\n",
    "        vect1_righteye = lefteye_loc_other - righteye_loc\n",
    "        vect2_righteye = righteye_loc_other - righteye_loc\n",
    "        vect3_righteye = lefttuft_loc_other - righteye_loc\n",
    "        vect4_righteye = righttuft_loc_other - righteye_loc\n",
    "        vect5_righteye = whiblz_loc_other - righteye_loc\n",
    "        vect6_righteye = mouth_loc_other - righteye_loc\n",
    "        # angle between body part vector and eyesight direction\n",
    "        angle1_righteye =  np.sign(np.dot(eyesight_dir,vect1_righteye))*np.arccos(np.clip(np.dot(eyesight_dir/np.linalg.norm(eyesight_dir), vect1_righteye/np.linalg.norm(vect1_righteye)), -1.0, 1.0))       \n",
    "        angle2_righteye =  np.sign(np.dot(eyesight_dir,vect2_righteye))*np.arccos(np.clip(np.dot(eyesight_dir/np.linalg.norm(eyesight_dir), vect2_righteye/np.linalg.norm(vect2_righteye)), -1.0, 1.0))\n",
    "        angle3_righteye =  np.sign(np.dot(eyesight_dir,vect3_righteye))*np.arccos(np.clip(np.dot(eyesight_dir/np.linalg.norm(eyesight_dir), vect3_righteye/np.linalg.norm(vect3_righteye)), -1.0, 1.0))\n",
    "        angle4_righteye =  np.sign(np.dot(eyesight_dir,vect4_righteye))*np.arccos(np.clip(np.dot(eyesight_dir/np.linalg.norm(eyesight_dir), vect4_righteye/np.linalg.norm(vect4_righteye)), -1.0, 1.0))\n",
    "        angle5_righteye =  np.sign(np.dot(eyesight_dir,vect5_righteye))*np.arccos(np.clip(np.dot(eyesight_dir/np.linalg.norm(eyesight_dir), vect5_righteye/np.linalg.norm(vect5_righteye)), -1.0, 1.0))\n",
    "        angle6_righteye =  np.sign(np.dot(eyesight_dir,vect6_righteye))*np.arccos(np.clip(np.dot(eyesight_dir/np.linalg.norm(eyesight_dir), vect6_righteye/np.linalg.norm(vect6_righteye)), -1.0, 1.0))\n",
    "        \n",
    "        lefteye_contact_thres = ((angle1_lefteye>0)&(angle1_lefteye<angle_thres))|((angle2_lefteye>0)&(angle2_lefteye<angle_thres))\n",
    "        lefteye_lookface_thres = ((angle3_lefteye>0)&(angle3_lefteye<angle_thres))|((angle4_lefteye>0)&(angle4_lefteye<angle_thres))|((angle5_lefteye>0)&(angle5_lefteye<angle_thres))|((angle6_lefteye>0)&(angle6_lefteye<angle_thres))\n",
    "        righteye_contact_thres = ((angle1_righteye>0)&(angle1_righteye<angle_thres))|((angle2_righteye>0)&(angle2_righteye<angle_thres))\n",
    "        righteye_lookface_thres = ((angle3_righteye>0)&(angle3_righteye<angle_thres))|((angle4_righteye>0)&(angle4_righteye<angle_thres))|((angle5_righteye>0)&(angle5_righteye<angle_thres))|((angle6_righteye>0)&(angle6_righteye<angle_thres))\n",
    "        \n",
    "        eye_contact_frames.append(np.int(lefteye_contact_thres|righteye_contact_thres))\n",
    "        look_at_face_frames.append(np.int(lefteye_contact_thres|righteye_contact_thres|lefteye_lookface_thres|righteye_lookface_thres))\n",
    "        \n",
    "    # save to the summarized data\n",
    "    eye_direction_camera12[(iname)] = eye_dir_frames\n",
    "    eye_contact_or_not_camera12[(iname)] = eye_contact_frames\n",
    "    look_at_face_or_not_camera12[(iname)] = look_at_face_frames\n",
    "        "
   ]
  },
  {
   "cell_type": "code",
   "execution_count": 11,
   "id": "5764ffcb",
   "metadata": {},
   "outputs": [],
   "source": [
    "eye_direction_camera12['time_in_second'] = np.arange(0,np.shape(eye_direction_camera12['dodson'])[0],1)/30 - session_start_time\n",
    "eye_contact_or_not_camera12['time_in_second'] = np.arange(0,np.shape(eye_contact_or_not_camera12['dodson'])[0],1)/30 - session_start_time\n",
    "look_at_face_or_not_camera12['time_in_second'] = np.arange(0,np.shape(look_at_face_or_not_camera12['dodson'])[0],1)/30 - session_start_time"
   ]
  },
  {
   "cell_type": "code",
   "execution_count": 12,
   "id": "115700d8",
   "metadata": {},
   "outputs": [
    {
     "data": {
      "text/plain": [
       "(array([ 6669, 12384, 12385, 12843, 12844, 13727, 13728, 13729, 13730,\n",
       "        13731, 13732, 16093, 17480, 17481, 19172, 19173, 19804, 19815,\n",
       "        19816, 19921, 19923]),)"
      ]
     },
     "execution_count": 12,
     "metadata": {},
     "output_type": "execute_result"
    }
   ],
   "source": [
    "# sanity check\n",
    "np.where(np.array(eye_contact_or_not_camera12['scorch'])==1)"
   ]
  },
  {
   "cell_type": "code",
   "execution_count": 13,
   "id": "626cf9ed",
   "metadata": {},
   "outputs": [
    {
     "data": {
      "text/plain": [
       "(array([12273, 12274, 12275, 15488, 15489, 15490, 15491, 15493, 15496,\n",
       "        15497, 15678, 19162, 19163, 19164, 19165, 19517, 19518, 19519,\n",
       "        19520, 19521, 19522, 19597, 19598, 19599, 19600, 19601, 19696,\n",
       "        19697, 19698, 19706]),)"
      ]
     },
     "execution_count": 13,
     "metadata": {},
     "output_type": "execute_result"
    }
   ],
   "source": [
    "# sanity check\n",
    "np.where(np.array(eye_contact_or_not_camera12['dodson'])==1)"
   ]
  },
  {
   "cell_type": "code",
   "execution_count": 14,
   "id": "1712422a",
   "metadata": {},
   "outputs": [],
   "source": [
    "# save data\n",
    "with open(camera12_analyzed_path + 'body_part_locs_camera12.pkl', 'wb') as f:\n",
    "    pickle.dump(body_part_locs_camera12, f)\n",
    "with open(camera12_analyzed_path + 'eye_direction_camera12.pkl', 'wb') as f:\n",
    "    pickle.dump(eye_direction_camera12, f)\n",
    "with open(camera12_analyzed_path + 'eye_contact_or_not_camera12.pkl', 'wb') as f:\n",
    "    pickle.dump(eye_contact_or_not_camera12, f)\n",
    "with open(camera12_analyzed_path + 'look_at_face_or_not_camera12.pkl', 'wb') as f:\n",
    "    pickle.dump(look_at_face_or_not_camera12, f)\n",
    "## read\n",
    "# with open(camera12_analyzed_path + 'body_part_locs_camera12.pkl', 'rb') as f:\n",
    "#     data = pickle.load(f) \n"
   ]
  },
  {
   "cell_type": "markdown",
   "id": "98fffb6d",
   "metadata": {},
   "source": [
    "# analyze based on camera 2 and camera 3 "
   ]
  },
  {
   "cell_type": "code",
   "execution_count": 15,
   "id": "99755eb8",
   "metadata": {},
   "outputs": [
    {
     "name": "stdout",
     "output_type": "stream",
     "text": [
      "['dodson' 'scorch']\n",
      "['rightTuft' 'whiteBlaze' 'leftTuft' 'rightEye' 'leftEye' 'mouth']\n"
     ]
    }
   ],
   "source": [
    "# analysis - camera 2 and 3\n",
    "ncols = camera23_h5_data.shape[1]\n",
    "nframes = camera23_h5_data.shape[0]\n",
    "animal_names = []\n",
    "body_parts = []\n",
    "xyz_axis = []\n",
    "\n",
    "for i in np.arange(0,ncols,1):\n",
    "    animal_names.append(camera23_h5_data.columns[i][1])\n",
    "    body_parts.append(camera23_h5_data.columns[i][2])\n",
    "    xyz_axis.append(camera23_h5_data.columns[i][3])\n",
    "  \n",
    "    # fill in the nan data point\n",
    "    data_point = camera23_h5_data.iloc[:,i]\n",
    "    data_point_filled = data_point.interpolate(method='nearest',limit_direction='both')\n",
    "    data_point_filled = data_point_filled.interpolate(method='linear',limit_direction='both')\n",
    "    # smooth the data point   \n",
    "    # data_point_filtered = data_point_filled.rolling(window=5, win_type='gaussian', center=True).mean(std=0.5)\n",
    "    #\n",
    "    # camera23_h5_data.iloc[:,i] = data_point_filled\n",
    "    \n",
    "animal_names_unique = pd.unique(animal_names)\n",
    "print(animal_names_unique)\n",
    "body_parts_unique = pd.unique(body_parts)\n",
    "print(body_parts_unique)\n",
    "\n",
    "# camera23_h5_data.to_hdf(camera23_h5_file_save, key = \"camera23_h5_data\")\n"
   ]
  },
  {
   "cell_type": "code",
   "execution_count": 16,
   "id": "df892d97",
   "metadata": {},
   "outputs": [],
   "source": [
    "# find the location of each body part\n",
    "body_part_locs = {}\n",
    "for iname in animal_names_unique:\n",
    "    for ibody in body_parts_unique:\n",
    "        ind = np.isin(animal_names,iname) & np.isin(body_parts,ibody)\n",
    "        body_part_locs[(iname,ibody)] = camera23_h5_data.iloc[:,ind]    \n",
    "        \n",
    "        # remove the outlier \n",
    "        for iaxis in np.arange(0,3,1):\n",
    "            # loc_std = np.std(body_part_locs[(iname,ibody)])[iaxis]\n",
    "            # loc_mean = pd.DataFrame.mean(body_part_locs[(iname,ibody)])[iaxis]\n",
    "            # ind = (body_part_locs[(iname,ibody)].iloc[:,iaxis]>loc_mean+3*loc_std) | (body_part_locs[(iname,ibody)].iloc[:,iaxis]<loc_mean-3*loc_std)\n",
    "            # body_part_locs[(iname,ibody)].iloc[:,iaxis][ind] = np.nan\n",
    "            q1 = np.nanquantile(body_part_locs[(iname,ibody)].iloc[:,iaxis],0.25)\n",
    "            q3 = np.nanquantile(body_part_locs[(iname,ibody)].iloc[:,iaxis],0.75)\n",
    "            thres1 = q1 - 1.5*abs(q3-q1)\n",
    "            thres2 = q3 + 1.5*abs(q3-q1)\n",
    "            ind = (body_part_locs[(iname,ibody)].iloc[:,iaxis]>thres2) | (body_part_locs[(iname,ibody)].iloc[:,iaxis]<thres1)\n",
    "            body_part_locs[(iname,ibody)].iloc[:,iaxis][ind] = np.nan\n",
    "            \n",
    "body_part_locs_camera23 = body_part_locs"
   ]
  },
  {
   "cell_type": "code",
   "execution_count": 17,
   "id": "03097f42",
   "metadata": {},
   "outputs": [],
   "source": [
    "warnings.filterwarnings('ignore')\n",
    "eye_direction_camera23 = {}\n",
    "eye_contact_or_not_camera23 = {}\n",
    "look_at_face_or_not_camera23 = {}\n",
    "for iname in animal_names_unique:\n",
    "    eye_dir_frames = []\n",
    "    eye_contact_frames = []\n",
    "    look_at_face_frames = []\n",
    "    for iframe in np.arange(0,nframes,1):\n",
    "        lefteye_loc = body_part_locs[(iname,'leftEye')].iloc[iframe,:].to_numpy()\n",
    "        righteye_loc = body_part_locs[(iname,'rightEye')].iloc[iframe,:].to_numpy()\n",
    "        lefttuft_loc = body_part_locs[(iname,'leftTuft')].iloc[iframe,:].to_numpy()\n",
    "        righttuft_loc = body_part_locs[(iname,'rightTuft')].iloc[iframe,:].to_numpy()\n",
    "        whiblz_loc = body_part_locs[(iname,'whiteBlaze')].iloc[iframe,:].to_numpy()\n",
    "        mouth_loc = body_part_locs[(iname,'mouth')].iloc[iframe,:].to_numpy()\n",
    "        \n",
    "        Vect1 = lefteye_loc - righteye_loc\n",
    "        Vect2 = whiblz_loc - mouth_loc\n",
    "        Vect3 = lefttuft_loc - lefteye_loc\n",
    "        Vect4 = righttuft_loc - righteye_loc\n",
    "        \n",
    "        try:       \n",
    "            Vect1 = Vect1 / scipy.linalg.norm(Vect1)\n",
    "            Vect2 = Vect2 / scipy.linalg.norm(Vect2) \n",
    "        except:\n",
    "            Vect1 = Vect1\n",
    "            Vect2 = Vect2\n",
    "        eyesight_dir = np.cross(Vect1, Vect2)\n",
    "        \n",
    "        if ((np.dot(eyesight_dir, Vect3)>0) | (np.dot(eyesight_dir, Vect4)>0)):\n",
    "            eyesight_dir = -eyesight_dir\n",
    "        \n",
    "        eye_dir_frames.append(eyesight_dir)\n",
    "        \n",
    "        \n",
    "        # examine whether this animal is looking at the other's eyes or face\n",
    "        if (iname == animal_names_unique[0]): \n",
    "            iname_other = animal_names_unique[1]\n",
    "        elif (iname == animal_names_unique[1]): \n",
    "            iname_other = animal_names_unique[0]\n",
    "            \n",
    "        lefteye_loc_other = body_part_locs[(iname_other,'leftEye')].iloc[iframe,:].to_numpy()\n",
    "        righteye_loc_other = body_part_locs[(iname_other,'rightEye')].iloc[iframe,:].to_numpy()\n",
    "        lefttuft_loc_other = body_part_locs[(iname_other,'leftTuft')].iloc[iframe,:].to_numpy()\n",
    "        righttuft_loc_other = body_part_locs[(iname_other,'rightTuft')].iloc[iframe,:].to_numpy()\n",
    "        whiblz_loc_other = body_part_locs[(iname_other,'whiteBlaze')].iloc[iframe,:].to_numpy()\n",
    "        mouth_loc_other = body_part_locs[(iname_other,'mouth')].iloc[iframe,:].to_numpy()\n",
    "        \n",
    "        # where left eye is looking\n",
    "        # vector between body part\n",
    "        vect1_lefteye = lefteye_loc_other - lefteye_loc\n",
    "        vect2_lefteye = righteye_loc_other - lefteye_loc\n",
    "        vect3_lefteye = lefttuft_loc_other - lefteye_loc\n",
    "        vect4_lefteye = righttuft_loc_other - lefteye_loc\n",
    "        vect5_lefteye = whiblz_loc_other - lefteye_loc\n",
    "        vect6_lefteye = mouth_loc_other - lefteye_loc\n",
    "        # angle between body part vector and eyesight direction\n",
    "        angle1_lefteye =  np.sign(np.dot(eyesight_dir,vect1_lefteye))*np.arccos(np.clip(np.dot(eyesight_dir/np.linalg.norm(eyesight_dir), vect1_lefteye/np.linalg.norm(vect1_lefteye)), -1.0, 1.0))       \n",
    "        angle2_lefteye =  np.sign(np.dot(eyesight_dir,vect2_lefteye))*np.arccos(np.clip(np.dot(eyesight_dir/np.linalg.norm(eyesight_dir), vect2_lefteye/np.linalg.norm(vect2_lefteye)), -1.0, 1.0))\n",
    "        angle3_lefteye =  np.sign(np.dot(eyesight_dir,vect3_lefteye))*np.arccos(np.clip(np.dot(eyesight_dir/np.linalg.norm(eyesight_dir), vect3_lefteye/np.linalg.norm(vect3_lefteye)), -1.0, 1.0))\n",
    "        angle4_lefteye =  np.sign(np.dot(eyesight_dir,vect4_lefteye))*np.arccos(np.clip(np.dot(eyesight_dir/np.linalg.norm(eyesight_dir), vect4_lefteye/np.linalg.norm(vect4_lefteye)), -1.0, 1.0))\n",
    "        angle5_lefteye =  np.sign(np.dot(eyesight_dir,vect5_lefteye))*np.arccos(np.clip(np.dot(eyesight_dir/np.linalg.norm(eyesight_dir), vect5_lefteye/np.linalg.norm(vect5_lefteye)), -1.0, 1.0))\n",
    "        angle6_lefteye =  np.sign(np.dot(eyesight_dir,vect6_lefteye))*np.arccos(np.clip(np.dot(eyesight_dir/np.linalg.norm(eyesight_dir), vect6_lefteye/np.linalg.norm(vect6_lefteye)), -1.0, 1.0))\n",
    "        \n",
    "        # where right eye is looking\n",
    "        # vector between body part\n",
    "        vect1_righteye = lefteye_loc_other - righteye_loc\n",
    "        vect2_righteye = righteye_loc_other - righteye_loc\n",
    "        vect3_righteye = lefttuft_loc_other - righteye_loc\n",
    "        vect4_righteye = righttuft_loc_other - righteye_loc\n",
    "        vect5_righteye = whiblz_loc_other - righteye_loc\n",
    "        vect6_righteye = mouth_loc_other - righteye_loc\n",
    "        # angle between body part vector and eyesight direction\n",
    "        angle1_righteye =  np.sign(np.dot(eyesight_dir,vect1_righteye))*np.arccos(np.clip(np.dot(eyesight_dir/np.linalg.norm(eyesight_dir), vect1_righteye/np.linalg.norm(vect1_righteye)), -1.0, 1.0))       \n",
    "        angle2_righteye =  np.sign(np.dot(eyesight_dir,vect2_righteye))*np.arccos(np.clip(np.dot(eyesight_dir/np.linalg.norm(eyesight_dir), vect2_righteye/np.linalg.norm(vect2_righteye)), -1.0, 1.0))\n",
    "        angle3_righteye =  np.sign(np.dot(eyesight_dir,vect3_righteye))*np.arccos(np.clip(np.dot(eyesight_dir/np.linalg.norm(eyesight_dir), vect3_righteye/np.linalg.norm(vect3_righteye)), -1.0, 1.0))\n",
    "        angle4_righteye =  np.sign(np.dot(eyesight_dir,vect4_righteye))*np.arccos(np.clip(np.dot(eyesight_dir/np.linalg.norm(eyesight_dir), vect4_righteye/np.linalg.norm(vect4_righteye)), -1.0, 1.0))\n",
    "        angle5_righteye =  np.sign(np.dot(eyesight_dir,vect5_righteye))*np.arccos(np.clip(np.dot(eyesight_dir/np.linalg.norm(eyesight_dir), vect5_righteye/np.linalg.norm(vect5_righteye)), -1.0, 1.0))\n",
    "        angle6_righteye =  np.sign(np.dot(eyesight_dir,vect6_righteye))*np.arccos(np.clip(np.dot(eyesight_dir/np.linalg.norm(eyesight_dir), vect6_righteye/np.linalg.norm(vect6_righteye)), -1.0, 1.0))\n",
    "        \n",
    "        lefteye_contact_thres = ((angle1_lefteye>0)&(angle1_lefteye<angle_thres))|((angle2_lefteye>0)&(angle2_lefteye<angle_thres))\n",
    "        lefteye_lookface_thres = ((angle3_lefteye>0)&(angle3_lefteye<angle_thres))|((angle4_lefteye>0)&(angle4_lefteye<angle_thres))|((angle5_lefteye>0)&(angle5_lefteye<angle_thres))|((angle6_lefteye>0)&(angle6_lefteye<angle_thres))\n",
    "        righteye_contact_thres = ((angle1_righteye>0)&(angle1_righteye<angle_thres))|((angle2_righteye>0)&(angle2_righteye<angle_thres))\n",
    "        righteye_lookface_thres = ((angle3_righteye>0)&(angle3_righteye<angle_thres))|((angle4_righteye>0)&(angle4_righteye<angle_thres))|((angle5_righteye>0)&(angle5_righteye<angle_thres))|((angle6_righteye>0)&(angle6_righteye<angle_thres))\n",
    "        \n",
    "        eye_contact_frames.append(np.int(lefteye_contact_thres|righteye_contact_thres))\n",
    "        look_at_face_frames.append(np.int(lefteye_contact_thres|righteye_contact_thres|lefteye_lookface_thres|righteye_lookface_thres))\n",
    "        \n",
    "    # save to the summarized data\n",
    "    eye_direction_camera23[(iname)] = eye_dir_frames\n",
    "    eye_contact_or_not_camera23[(iname)] = eye_contact_frames\n",
    "    look_at_face_or_not_camera23[(iname)] = look_at_face_frames\n",
    "        "
   ]
  },
  {
   "cell_type": "code",
   "execution_count": 18,
   "id": "8f761794",
   "metadata": {},
   "outputs": [],
   "source": [
    "eye_direction_camera23['time_in_second'] = np.arange(0,np.shape(eye_direction_camera23['dodson'])[0],1)/30 - session_start_time\n",
    "eye_contact_or_not_camera23['time_in_second'] = np.arange(0,np.shape(eye_contact_or_not_camera23['dodson'])[0],1)/30 - session_start_time\n",
    "look_at_face_or_not_camera23['time_in_second'] = np.arange(0,np.shape(look_at_face_or_not_camera23['dodson'])[0],1)/30 - session_start_time"
   ]
  },
  {
   "cell_type": "code",
   "execution_count": 19,
   "id": "1ccefaf7",
   "metadata": {},
   "outputs": [
    {
     "data": {
      "text/plain": [
       "(array([], dtype=int64),)"
      ]
     },
     "execution_count": 19,
     "metadata": {},
     "output_type": "execute_result"
    }
   ],
   "source": [
    "# sanity check\n",
    "np.where(np.array(eye_contact_or_not_camera23['scorch'])==1)"
   ]
  },
  {
   "cell_type": "code",
   "execution_count": 20,
   "id": "e9044c12",
   "metadata": {},
   "outputs": [
    {
     "data": {
      "text/plain": [
       "(array([ 2797,  2811,  3492,  3798,  4854,  4855,  4856,  4857,  4858,\n",
       "         4859,  4860,  4861,  5000,  5067,  5068,  5069,  5070,  5381,\n",
       "         5513,  5514,  5523,  5664,  5693,  6183,  6186,  7727,  8636,\n",
       "         8637,  8639, 10106, 10224, 10238, 12010, 12011, 12012, 12013,\n",
       "        12014, 12015, 12955, 13806, 13809, 15156, 15157, 15162, 15164,\n",
       "        15165, 15166, 15167, 15168, 15169, 15630, 15631, 15632, 15642,\n",
       "        15681, 16283, 16284]),)"
      ]
     },
     "execution_count": 20,
     "metadata": {},
     "output_type": "execute_result"
    }
   ],
   "source": [
    "# sanity check\n",
    "np.where(np.array(eye_contact_or_not_camera23['dodson'])==1)"
   ]
  },
  {
   "cell_type": "code",
   "execution_count": 21,
   "id": "448aabb2",
   "metadata": {},
   "outputs": [],
   "source": [
    "# save data\n",
    "with open(camera23_analyzed_path + 'body_part_locs_camera23.pkl', 'wb') as f:\n",
    "    pickle.dump(body_part_locs_camera23, f)\n",
    "with open(camera23_analyzed_path + 'eye_direction_camera23.pkl', 'wb') as f:\n",
    "    pickle.dump(eye_direction_camera23, f)\n",
    "with open(camera23_analyzed_path + 'eye_contact_or_not_camera23.pkl', 'wb') as f:\n",
    "    pickle.dump(eye_contact_or_not_camera23, f)\n",
    "with open(camera23_analyzed_path + 'look_at_face_or_not_camera23.pkl', 'wb') as f:\n",
    "    pickle.dump(look_at_face_or_not_camera23, f)\n",
    "## read\n",
    "# with open(camera23_analyzed_path + 'body_part_locs_camera23.pkl', 'rb') as f:\n",
    "#     data = pickle.load(f) \n"
   ]
  },
  {
   "cell_type": "markdown",
   "id": "daf624e3",
   "metadata": {},
   "source": [
    "# examine the relationship between camera pairs\n",
    "## make the 3d space aligned with each pair"
   ]
  },
  {
   "cell_type": "code",
   "execution_count": 22,
   "id": "81472895",
   "metadata": {},
   "outputs": [],
   "source": [
    "# load data\n",
    "try:\n",
    "    ## read\n",
    "    with open(camera23_analyzed_path + 'body_part_locs_camera23.pkl', 'rb') as f:\n",
    "        body_part_locs_camera23 = pickle.load(f) \n",
    "    with open(camera12_analyzed_path + 'body_part_locs_camera12.pkl', 'rb') as f:\n",
    "        body_part_locs_camera12 = pickle.load(f) \n",
    "except:\n",
    "    print(\"did not save data\")"
   ]
  },
  {
   "cell_type": "code",
   "execution_count": 23,
   "id": "a61c6bb3",
   "metadata": {},
   "outputs": [],
   "source": [
    "# sanity check \n",
    "xxx = body_part_locs_camera23[('dodson','leftEye')].iloc[:,0]\n",
    "yyy = body_part_locs_camera12[('dodson','leftEye')].iloc[:,0]"
   ]
  },
  {
   "cell_type": "code",
   "execution_count": 24,
   "id": "7312c9a0",
   "metadata": {},
   "outputs": [],
   "source": [
    "min_length = np.min([np.shape(xxx)[0],np.shape(yyy)[0]])\n",
    "xxx = xxx[np.arange(0,min_length,1)]\n",
    "yyy = yyy[np.arange(0,min_length,1)]"
   ]
  },
  {
   "cell_type": "code",
   "execution_count": 25,
   "id": "5c7ec3ba",
   "metadata": {
    "scrolled": true
   },
   "outputs": [
    {
     "data": {
      "text/plain": [
       "[<matplotlib.lines.Line2D at 0x2b0f320c3a30>]"
      ]
     },
     "execution_count": 25,
     "metadata": {},
     "output_type": "execute_result"
    },
    {
     "data": {
      "image/png": "[encoded data removed]",
      "text/plain": [
       "<Figure size 432x288 with 1 Axes>"
      ]
     },
     "metadata": {
      "needs_background": "light"
     },
     "output_type": "display_data"
    }
   ],
   "source": [
    "plt.plot(xxx,yyy,'.')"
   ]
  },
  {
   "cell_type": "code",
   "execution_count": 26,
   "id": "31ade45e",
   "metadata": {},
   "outputs": [],
   "source": [
    "# try the rotation on all possible pairs\n",
    "RR_sum = {}\n",
    "tt_sum = {}\n",
    "err_sum = {}\n",
    "for iname in animal_names_unique:\n",
    "    for ibody in body_parts_unique:\n",
    "        xxx = body_part_locs_camera23[(iname,ibody)]\n",
    "        yyy = body_part_locs_camera12[(iname,ibody)]\n",
    "        min_lengh = np.min([xxx.shape[0],yyy.shape[0]])\n",
    "        \n",
    "        xxx = xxx.loc[np.arange(0,min_length,1),:]\n",
    "        yyy = yyy.loc[np.arange(0,min_length,1),:]     \n",
    "        \n",
    "        ind_good = (~np.isnan(xxx.iloc[:,0]) & ~np.isnan(xxx.iloc[:,1]) & ~np.isnan(xxx.iloc[:,2])) & (~np.isnan(yyy.iloc[:,0]) & ~np.isnan(yyy.iloc[:,1]) & ~np.isnan(yyy.iloc[:,2])) \n",
    "        xxx_values = pd.DataFrame.transpose(xxx.loc[ind_good,:]).values\n",
    "        yyy_values = pd.DataFrame.transpose(yyy.loc[ind_good,:]).values\n",
    "        \n",
    "        xxx_centroid = np.dot(np.mean(xxx_values,axis = 1).reshape(3,1), np.ones((1,np.shape(xxx_values)[1])))\n",
    "        yyy_centroid = np.dot(np.mean(yyy_values,axis = 1).reshape(3,1), np.ones((1,np.shape(xxx_values)[1])))\n",
    "        HH = np.dot((xxx_values - xxx_centroid), np.transpose(yyy_values - yyy_centroid))\n",
    "        u, s, vh = np.linalg.svd(HH, full_matrices=True)\n",
    "        RR = np.dot(np.transpose(vh),np.transpose(u))\n",
    "        tt= yyy_centroid - np.dot(RR,xxx_centroid)\n",
    "        tt = tt[:,1].reshape(3,1)\n",
    "        \n",
    "        RR_sum[(iname,ibody)] = RR\n",
    "        tt_sum[(iname,ibody)] = tt\n",
    "        err_sum[(iname,ibody)] = np.sum(np.square(yyy_values - (np.dot(RR,xxx_values)+np.dot(tt, np.ones((1,np.shape(xxx_values)[1]))))))\n",
    "\n",
    "RR = RR_sum[min(err_sum, key=err_sum.get)]\n",
    "tt = tt_sum[min(err_sum, key=err_sum.get)]\n"
   ]
  },
  {
   "cell_type": "code",
   "execution_count": 27,
   "id": "e4b09481",
   "metadata": {},
   "outputs": [
    {
     "data": {
      "text/plain": [
       "<matplotlib.legend.Legend at 0x2b0f3191db20>"
      ]
     },
     "execution_count": 27,
     "metadata": {},
     "output_type": "execute_result"
    },
    {
     "data": {
      "image/png": "[encoded data removed]",
      "text/plain": [
       "<Figure size 432x288 with 1 Axes>"
      ]
     },
     "metadata": {
      "needs_background": "light"
     },
     "output_type": "display_data"
    }
   ],
   "source": [
    "# sanity check\n",
    "xxx_plot = np.transpose(body_part_locs_camera23[('scorch','leftTuft')].loc[np.arange(0,min_length,1),:].values)\n",
    "yyy_plot = np.transpose(body_part_locs_camera12[('scorch','leftTuft')].loc[np.arange(0,min_length,1),:].values)\n",
    "yyy_change = np.dot(RR,xxx_plot)\n",
    "tt_change = np.dot(tt, np.ones((1,np.shape(xxx_plot)[1])))\n",
    "yyy_change = np.dot(RR,xxx_plot) + tt_change\n",
    "plt.plot(xxx_plot[0,:],yyy_plot[0,:],'.')\n",
    "plt.plot(xxx_plot[0,:],yyy_change[0,:],'.')\n",
    "plt.plot(yyy_plot[0,:],yyy_change[0,:],'.')\n",
    "plt.legend(['camera23 and camera12','camera23 and changed camera12','camera12 and changed camera12'])"
   ]
  },
  {
   "cell_type": "markdown",
   "id": "ae4b328a",
   "metadata": {},
   "source": [
    "## merge the bhv from the two pairs of camera and redo the analysis"
   ]
  },
  {
   "cell_type": "code",
   "execution_count": 28,
   "id": "5a66c484",
   "metadata": {},
   "outputs": [],
   "source": [
    "# merge the two pairs of cameras\n",
    "body_part_locs_merge = {}\n",
    "for iname in animal_names_unique:\n",
    "    for ibody in body_parts_unique:\n",
    "        RR = RR_sum[(iname,ibody)]\n",
    "        tt = tt_sum[(iname,ibody)]\n",
    "        body_part_x = np.transpose(body_part_locs_camera23[(iname,ibody)].loc[np.arange(0,min_length,1),:])\n",
    "        body_part_project = np.transpose(np.dot(RR,body_part_x) + np.dot(tt, np.ones((1,np.shape(body_part_x)[1]))))\n",
    "        body_part_origin = body_part_locs_camera12[(iname,ibody)].loc[np.arange(0,min_length,1),:].values\n",
    "        body_part_origin[np.sum(np.isnan(body_part_origin),axis=1)>0,:] = body_part_project[np.sum(np.isnan(body_part_origin),axis=1)>0,:]\n",
    "\n",
    "        body_part_locs_merge[(iname,ibody)] = body_part_origin\n",
    "        "
   ]
  },
  {
   "cell_type": "code",
   "execution_count": 29,
   "id": "9740dad9",
   "metadata": {},
   "outputs": [],
   "source": [
    "warnings.filterwarnings('ignore')\n",
    "eye_direction_merge = {}\n",
    "eye_contact_or_not_merge = {}\n",
    "look_at_face_or_not_merge = {}\n",
    "for iname in animal_names_unique:\n",
    "    eye_dir_frames = []\n",
    "    eye_contact_frames = []\n",
    "    look_at_face_frames = []\n",
    "    for iframe in np.arange(0,min_length,1):\n",
    "        lefteye_loc = body_part_locs_merge[(iname,'leftEye')][iframe,:]\n",
    "        righteye_loc = body_part_locs_merge[(iname,'rightEye')][iframe,:]\n",
    "        lefttuft_loc = body_part_locs_merge[(iname,'leftTuft')][iframe,:]\n",
    "        righttuft_loc = body_part_locs_merge[(iname,'rightTuft')][iframe,:]\n",
    "        whiblz_loc = body_part_locs_merge[(iname,'whiteBlaze')][iframe,:]\n",
    "        mouth_loc = body_part_locs_merge[(iname,'mouth')][iframe,:]\n",
    "        \n",
    "        Vect1 = lefteye_loc - righteye_loc\n",
    "        Vect2 = whiblz_loc - mouth_loc\n",
    "        Vect3 = lefttuft_loc - lefteye_loc\n",
    "        Vect4 = righttuft_loc - righteye_loc\n",
    "        \n",
    "        try:       \n",
    "            Vect1 = Vect1 / scipy.linalg.norm(Vect1)\n",
    "            Vect2 = Vect2 / scipy.linalg.norm(Vect2) \n",
    "        except:\n",
    "            Vect1 = Vect1\n",
    "            Vect2 = Vect2\n",
    "        eyesight_dir = np.cross(Vect1, Vect2)\n",
    "        \n",
    "        if ((np.dot(eyesight_dir, Vect3)>0) | (np.dot(eyesight_dir, Vect4)>0)):\n",
    "            eyesight_dir = -eyesight_dir\n",
    "        \n",
    "        eye_dir_frames.append(eyesight_dir)\n",
    "        \n",
    "        \n",
    "        # examine whether this animal is looking at the other's eyes or face\n",
    "        if (iname == animal_names_unique[0]): \n",
    "            iname_other = animal_names_unique[1]\n",
    "        elif (iname == animal_names_unique[1]): \n",
    "            iname_other = animal_names_unique[0]\n",
    "            \n",
    "        lefteye_loc_other = body_part_locs_merge[(iname_other,'leftEye')][iframe,:]\n",
    "        righteye_loc_other = body_part_locs_merge[(iname_other,'rightEye')][iframe,:]\n",
    "        lefttuft_loc_other = body_part_locs_merge[(iname_other,'leftTuft')][iframe,:]\n",
    "        righttuft_loc_other = body_part_locs_merge[(iname_other,'rightTuft')][iframe,:]\n",
    "        whiblz_loc_other = body_part_locs_merge[(iname_other,'whiteBlaze')][iframe,:]\n",
    "        mouth_loc_other = body_part_locs_merge[(iname_other,'mouth')][iframe,:]\n",
    "        \n",
    "        # where left eye is looking\n",
    "        # vector between body part\n",
    "        vect1_lefteye = lefteye_loc_other - lefteye_loc\n",
    "        vect2_lefteye = righteye_loc_other - lefteye_loc\n",
    "        vect3_lefteye = lefttuft_loc_other - lefteye_loc\n",
    "        vect4_lefteye = righttuft_loc_other - lefteye_loc\n",
    "        vect5_lefteye = whiblz_loc_other - lefteye_loc\n",
    "        vect6_lefteye = mouth_loc_other - lefteye_loc\n",
    "        # angle between body part vector and eyesight direction\n",
    "        angle1_lefteye =  np.sign(np.dot(eyesight_dir,vect1_lefteye))*np.arccos(np.clip(np.dot(eyesight_dir/np.linalg.norm(eyesight_dir), vect1_lefteye/np.linalg.norm(vect1_lefteye)), -1.0, 1.0))       \n",
    "        angle2_lefteye =  np.sign(np.dot(eyesight_dir,vect2_lefteye))*np.arccos(np.clip(np.dot(eyesight_dir/np.linalg.norm(eyesight_dir), vect2_lefteye/np.linalg.norm(vect2_lefteye)), -1.0, 1.0))\n",
    "        angle3_lefteye =  np.sign(np.dot(eyesight_dir,vect3_lefteye))*np.arccos(np.clip(np.dot(eyesight_dir/np.linalg.norm(eyesight_dir), vect3_lefteye/np.linalg.norm(vect3_lefteye)), -1.0, 1.0))\n",
    "        angle4_lefteye =  np.sign(np.dot(eyesight_dir,vect4_lefteye))*np.arccos(np.clip(np.dot(eyesight_dir/np.linalg.norm(eyesight_dir), vect4_lefteye/np.linalg.norm(vect4_lefteye)), -1.0, 1.0))\n",
    "        angle5_lefteye =  np.sign(np.dot(eyesight_dir,vect5_lefteye))*np.arccos(np.clip(np.dot(eyesight_dir/np.linalg.norm(eyesight_dir), vect5_lefteye/np.linalg.norm(vect5_lefteye)), -1.0, 1.0))\n",
    "        angle6_lefteye =  np.sign(np.dot(eyesight_dir,vect6_lefteye))*np.arccos(np.clip(np.dot(eyesight_dir/np.linalg.norm(eyesight_dir), vect6_lefteye/np.linalg.norm(vect6_lefteye)), -1.0, 1.0))\n",
    "        \n",
    "        # where right eye is looking\n",
    "        # vector between body part\n",
    "        vect1_righteye = lefteye_loc_other - righteye_loc\n",
    "        vect2_righteye = righteye_loc_other - righteye_loc\n",
    "        vect3_righteye = lefttuft_loc_other - righteye_loc\n",
    "        vect4_righteye = righttuft_loc_other - righteye_loc\n",
    "        vect5_righteye = whiblz_loc_other - righteye_loc\n",
    "        vect6_righteye = mouth_loc_other - righteye_loc\n",
    "        # angle between body part vector and eyesight direction\n",
    "        angle1_righteye =  np.sign(np.dot(eyesight_dir,vect1_righteye))*np.arccos(np.clip(np.dot(eyesight_dir/np.linalg.norm(eyesight_dir), vect1_righteye/np.linalg.norm(vect1_righteye)), -1.0, 1.0))       \n",
    "        angle2_righteye =  np.sign(np.dot(eyesight_dir,vect2_righteye))*np.arccos(np.clip(np.dot(eyesight_dir/np.linalg.norm(eyesight_dir), vect2_righteye/np.linalg.norm(vect2_righteye)), -1.0, 1.0))\n",
    "        angle3_righteye =  np.sign(np.dot(eyesight_dir,vect3_righteye))*np.arccos(np.clip(np.dot(eyesight_dir/np.linalg.norm(eyesight_dir), vect3_righteye/np.linalg.norm(vect3_righteye)), -1.0, 1.0))\n",
    "        angle4_righteye =  np.sign(np.dot(eyesight_dir,vect4_righteye))*np.arccos(np.clip(np.dot(eyesight_dir/np.linalg.norm(eyesight_dir), vect4_righteye/np.linalg.norm(vect4_righteye)), -1.0, 1.0))\n",
    "        angle5_righteye =  np.sign(np.dot(eyesight_dir,vect5_righteye))*np.arccos(np.clip(np.dot(eyesight_dir/np.linalg.norm(eyesight_dir), vect5_righteye/np.linalg.norm(vect5_righteye)), -1.0, 1.0))\n",
    "        angle6_righteye =  np.sign(np.dot(eyesight_dir,vect6_righteye))*np.arccos(np.clip(np.dot(eyesight_dir/np.linalg.norm(eyesight_dir), vect6_righteye/np.linalg.norm(vect6_righteye)), -1.0, 1.0))\n",
    "        \n",
    "        lefteye_contact_thres = ((angle1_lefteye>0)&(angle1_lefteye<angle_thres))|((angle2_lefteye>0)&(angle2_lefteye<angle_thres))\n",
    "        lefteye_lookface_thres = ((angle3_lefteye>0)&(angle3_lefteye<angle_thres))|((angle4_lefteye>0)&(angle4_lefteye<angle_thres))|((angle5_lefteye>0)&(angle5_lefteye<angle_thres))|((angle6_lefteye>0)&(angle6_lefteye<angle_thres))\n",
    "        righteye_contact_thres = ((angle1_righteye>0)&(angle1_righteye<angle_thres))|((angle2_righteye>0)&(angle2_righteye<angle_thres))\n",
    "        righteye_lookface_thres = ((angle3_righteye>0)&(angle3_righteye<angle_thres))|((angle4_righteye>0)&(angle4_righteye<angle_thres))|((angle5_righteye>0)&(angle5_righteye<angle_thres))|((angle6_righteye>0)&(angle6_righteye<angle_thres))\n",
    "        \n",
    "        eye_contact_frames.append(np.int(lefteye_contact_thres|righteye_contact_thres))\n",
    "        look_at_face_frames.append(np.int(lefteye_contact_thres|righteye_contact_thres|lefteye_lookface_thres|righteye_lookface_thres))\n",
    "        \n",
    "    # save to the summarized data\n",
    "    eye_direction_merge[(iname)] = eye_dir_frames\n",
    "    eye_contact_or_not_merge[(iname)] = eye_contact_frames\n",
    "    look_at_face_or_not_merge[(iname)] = look_at_face_frames\n",
    "        "
   ]
  },
  {
   "cell_type": "code",
   "execution_count": 30,
   "id": "c8c308ba",
   "metadata": {},
   "outputs": [],
   "source": [
    "eye_direction_merge['time_in_second'] = np.arange(0,np.shape(eye_direction_merge['dodson'])[0],1)/30 - session_start_time\n",
    "eye_contact_or_not_merge['time_in_second'] = np.arange(0,np.shape(eye_contact_or_not_merge['dodson'])[0],1)/30 - session_start_time\n",
    "look_at_face_or_not_merge['time_in_second'] = np.arange(0,np.shape(look_at_face_or_not_merge['dodson'])[0],1)/30 - session_start_time"
   ]
  },
  {
   "cell_type": "markdown",
   "id": "9e977631",
   "metadata": {},
   "source": [
    "## load behavioral results"
   ]
  },
  {
   "cell_type": "code",
   "execution_count": 31,
   "id": "5e93ca01",
   "metadata": {},
   "outputs": [],
   "source": [
    "# load behavioral results\n",
    "try:\n",
    "    bhv_data_path = \"/home/ws523/marmoset_tracking_bhv_data_from_task_code/20221019_Dodson_Scorch/\"\n",
    "    trial_record_json = bhv_data_path + \"20221019_Scorch_Dodson_TrialRecord_1.json\"\n",
    "    bhv_data_json = bhv_data_path + \"20221019_Scorch_Dodson_bhv_data_1.json\"\n",
    "    session_info_json = bhv_data_path + \"20221019_Scorch_Dodson_session_info_1.json\"\n",
    "    #\n",
    "    trial_record = pd.read_json(trial_record_json)\n",
    "    bhv_data = pd.read_json(bhv_data_json)\n",
    "    session_info = pd.read_json(session_info_json)\n",
    "except:\n",
    "    bhv_data_path = \"/home/ws523/marmoset_tracking_bhv_data_from_task_code/20221019_Dodson_Scorch/\"\n",
    "    trial_record_json = bhv_data_path + \"20221019_Dodson_Scorch_TrialRecord_1.json\"\n",
    "    bhv_data_json = bhv_data_path + \"20221019_Dodson_Scorch_bhv_data_1.json\"\n",
    "    session_info_json = bhv_data_path + \"20221019_Dodson_Scorch_session_info_1.json\"\n",
    "    #\n",
    "    trial_record = pd.read_json(trial_record_json)\n",
    "    bhv_data = pd.read_json(bhv_data_json)\n",
    "    session_info = pd.read_json(session_info_json)"
   ]
  },
  {
   "cell_type": "code",
   "execution_count": 32,
   "id": "2c4f749c",
   "metadata": {},
   "outputs": [],
   "source": [
    "animal1 = session_info['lever1_animal'][0].lower()\n",
    "animal2 = session_info['lever2_animal'][0].lower()"
   ]
  },
  {
   "cell_type": "code",
   "execution_count": 33,
   "id": "58ec12af",
   "metadata": {},
   "outputs": [],
   "source": [
    "# clean up the trial_record\n",
    "warnings.filterwarnings('ignore')\n",
    "trial_record_clean = pd.DataFrame(columns=trial_record.columns)\n",
    "for itrial in np.arange(0,np.max(trial_record['trial_number']),1):\n",
    "    # trial_record_clean.loc[itrial] = trial_record[trial_record['trial_number']==itrial+1].iloc[[0]]\n",
    "    trial_record_clean = trial_record_clean.append(trial_record[trial_record['trial_number']==itrial+1].iloc[[0]])\n",
    "trial_record_clean = trial_record_clean.reset_index(drop = True)"
   ]
  },
  {
   "cell_type": "code",
   "execution_count": 34,
   "id": "d72cf199",
   "metadata": {},
   "outputs": [],
   "source": [
    "# change bhv_data time to the absolute time\n",
    "time_points_new = pd.DataFrame(np.zeros(np.shape(bhv_data)[0]),columns=[\"time_points_new\"])\n",
    "for itrial in np.arange(0,np.max(trial_record_clean['trial_number']),1):\n",
    "    ind = bhv_data[\"trial_number\"]==itrial+1\n",
    "    new_time_itrial = bhv_data[ind][\"time_points\"] + trial_record_clean[\"trial_starttime\"].iloc[itrial]\n",
    "    time_points_new[\"time_points_new\"][ind] = new_time_itrial\n",
    "bhv_data[\"time_points\"] = time_points_new[\"time_points_new\"]"
   ]
  },
  {
   "cell_type": "markdown",
   "id": "40407347",
   "metadata": {},
   "source": [
    "## plot behavioral results (with camera pair merged) and eye contact results"
   ]
  },
  {
   "cell_type": "code",
   "execution_count": 35,
   "id": "36fa3900",
   "metadata": {},
   "outputs": [],
   "source": [
    "time_point_pull1 = bhv_data[\"time_points\"][bhv_data[\"behavior_events\"]==1]\n",
    "time_point_pull2 = bhv_data[\"time_points\"][bhv_data[\"behavior_events\"]==2]\n",
    "ind_lookatotherface1 = np.where(np.array(look_at_face_or_not_merge[animal1])==1)\n",
    "time_point_lookatotherface1 = look_at_face_or_not_merge[\"time_in_second\"][ind_lookatotherface1]\n",
    "ind_lookatotherface2 = np.where(np.array(look_at_face_or_not_merge[animal2])==1)\n",
    "time_point_lookatotherface2 = look_at_face_or_not_merge[\"time_in_second\"][ind_lookatotherface2]\n",
    "\n",
    "ind_eyecontact1 = np.where(np.array(eye_contact_or_not_merge[animal1])==1)\n",
    "time_point_eyecontact1 = eye_contact_or_not_merge[\"time_in_second\"][ind_eyecontact1]\n",
    "ind_eyecontact2 = np.where(np.array(eye_contact_or_not_merge[animal2])==1)\n",
    "time_point_eyecontact2 = eye_contact_or_not_merge[\"time_in_second\"][ind_eyecontact2]\n",
    "\n",
    "# calculate the oneway gaze or mutual gaze\n",
    "animal1_gaze = np.round(np.concatenate((time_point_eyecontact1,time_point_lookatotherface1)),1)\n",
    "animal1_gaze = np.unique(np.sort(animal1_gaze))\n",
    "animal2_gaze = np.round(np.concatenate((time_point_eyecontact2,time_point_lookatotherface2)),1)\n",
    "animal2_gaze = np.unique(np.sort(animal2_gaze))\n",
    "\n",
    "ngaze1 = len(animal1_gaze)\n",
    "ngaze2 = len(animal2_gaze)\n",
    "oneway_gaze1 = []\n",
    "oneway_gaze2 = []\n",
    "mutual_gaze1 = []\n",
    "mutual_gaze2 = []\n",
    "# \n",
    "for igaze1 in np.arange(0, ngaze1, 1):\n",
    "    for igaze2 in np.arange(0,ngaze2,1):\n",
    "        if abs(animal1_gaze[igaze1]-animal2_gaze[igaze2])<1:\n",
    "            mutual_gaze1.append(animal1_gaze[igaze1])\n",
    "            mutual_gaze2.append(animal2_gaze[igaze2])\n",
    "mutual_gaze1 = np.unique(mutual_gaze1)   \n",
    "mutual_gaze2 = np.unique(mutual_gaze2)\n",
    "oneway_gaze1 = animal1_gaze[~np.isin(animal1_gaze,mutual_gaze1)]\n",
    "oneway_gaze2 = animal2_gaze[~np.isin(animal2_gaze,mutual_gaze2)]"
   ]
  },
  {
   "cell_type": "code",
   "execution_count": 36,
   "id": "415ee150",
   "metadata": {},
   "outputs": [
    {
     "data": {
      "image/png": "[encoded data removed]",
      "text/plain": [
       "<Figure size 432x288 with 1 Axes>"
      ]
     },
     "metadata": {
      "needs_background": "light"
     },
     "output_type": "display_data"
    }
   ],
   "source": [
    "time_point_pull1 = np.round(time_point_pull1,2)\n",
    "ind_plot = time_point_pull1 < (720 - session_start_time)\n",
    "plt.plot(time_point_pull1[ind_plot], np.ones(np.shape(time_point_pull1[ind_plot])[0]),'o')\n",
    "plt.plot(oneway_gaze1, np.ones(np.shape(oneway_gaze1)[0])*2,'o')\n",
    "plt.plot(mutual_gaze1, np.ones(np.shape(mutual_gaze1)[0])*3,'o')\n",
    "plt.title(animal1,fontsize = 18);"
   ]
  },
  {
   "cell_type": "code",
   "execution_count": 37,
   "id": "1eeeda16",
   "metadata": {},
   "outputs": [
    {
     "data": {
      "image/png": "[encoded data removed]",
      "text/plain": [
       "<Figure size 432x288 with 1 Axes>"
      ]
     },
     "metadata": {
      "needs_background": "light"
     },
     "output_type": "display_data"
    }
   ],
   "source": [
    "time_point_pull2 = np.round(time_point_pull2,2)\n",
    "ind_plot = time_point_pull2 < (720 - session_start_time)\n",
    "plt.plot(time_point_pull2[ind_plot], np.ones(np.shape(time_point_pull2[ind_plot])[0]),'o')\n",
    "plt.plot(oneway_gaze2, np.ones(np.shape(oneway_gaze2)[0])*2,'o')\n",
    "plt.plot(mutual_gaze2, np.ones(np.shape(mutual_gaze2)[0])*3,'o')\n",
    "plt.title(animal2,fontsize = 18);"
   ]
  },
  {
   "cell_type": "code",
   "execution_count": 38,
   "id": "3167522d",
   "metadata": {},
   "outputs": [
    {
     "data": {
      "text/plain": [
       "array([ 1.24      ,  1.34      ,  1.34166667,  1.34333333,  4.31833333,\n",
       "        6.88      ,  7.28666667,  7.28833333,  7.29      ,  7.29166667,\n",
       "        7.29333333,  7.35166667,  7.35333333,  7.355     ,  7.35666667,\n",
       "        7.62166667,  7.62333333,  7.625     ,  7.62666667,  7.62833333,\n",
       "        8.94      ,  9.71166667, 10.65166667, 11.06666667, 11.06833333])"
      ]
     },
     "execution_count": 38,
     "metadata": {},
     "output_type": "execute_result"
    }
   ],
   "source": [
    "(mutual_gaze1+session_start_time)/60"
   ]
  },
  {
   "cell_type": "code",
   "execution_count": 39,
   "id": "089d3b53",
   "metadata": {},
   "outputs": [
    {
     "data": {
      "image/png": "[encoded data removed]",
      "text/plain": [
       "<Figure size 1800x360 with 2 Axes>"
      ]
     },
     "metadata": {
      "needs_background": "light"
     },
     "output_type": "display_data"
    }
   ],
   "source": [
    "fig, axs = plt.subplots(2,1)\n",
    "fig.set_figheight(5)\n",
    "fig.set_figwidth(25)\n",
    "# plot for animal 1\n",
    "ind_plot = time_point_pull1 < (720 - session_start_time)\n",
    "#for itime in np.arange(0,720,1):\n",
    "#    plt.plot([itime,itime],[0,1],linewidth = 2.0,color=(0.5,0.5,0.5))\n",
    "for itime in time_point_pull1[ind_plot]:\n",
    "    line1, = axs[0].plot([itime,itime],[0,1],linewidth = 2.0,color=(0.0,0.5,0.5),label = 'lever pull')\n",
    "for itime in oneway_gaze1:\n",
    "    line2, = axs[0].plot([itime,itime],[0,1],linewidth = 2.0,color=(0.5,0.0,0.5),label = 'one-way gaze')  \n",
    "try:\n",
    "    for itime in mutual_gaze1:\n",
    "        line3, = axs[0].plot([itime,itime],[0,1],linewidth = 2.0,color=(0.5,0.5,0.0),label = 'mutual gaze')  \n",
    "except:\n",
    "    print(\"no mutual gaze\")\n",
    "axs[0].set_title(animal1,fontsize = 18)\n",
    "axs[0].set_xlim([-10,700])\n",
    "axs[0].set_xlabel(\"\")\n",
    "axs[0].set_xticklabels(\"\")\n",
    "axs[0].set_yticklabels(\"\")\n",
    "try:\n",
    "    axs[0].legend(handles=[line1,line2,line3], fontsize = 13)\n",
    "except:\n",
    "    axs[0].legend(handles=[line1,line2], fontsize = 13)\n",
    "\n",
    "# plot for animal 2\n",
    "ind_plot = time_point_pull2 < (720 - session_start_time)\n",
    "#for itime in np.arange(0,720,1):\n",
    "#    plt.plot([itime,itime],[0,1],linewidth = 2.0,color=(0.5,0.5,0.5))\n",
    "for itime in time_point_pull2[ind_plot]:\n",
    "    line1, = axs[1].plot([itime,itime],[0,1],linewidth = 2.0,color=(0.0,0.5,0.5))\n",
    "for itime in oneway_gaze2:\n",
    "    line2, = axs[1].plot([itime,itime],[0,1],linewidth = 2.0,color=(0.5,0.0,0.5))    \n",
    "try:\n",
    "    for itime in mutual_gaze2:\n",
    "        line3, = axs[1].plot([itime,itime],[0,1],linewidth = 2.0,color=(0.5,0.5,0.0))    \n",
    "except:\n",
    "    print(\"no mutual gaze\")\n",
    "axs[1].set_title(animal2,fontsize = 18)\n",
    "axs[1].set_xlim([-10,700])\n",
    "axs[1].set_xlabel(\"time/s\",fontsize = 19)\n",
    "axs[1].set_yticklabels(\"\")\n",
    "axs[1].tick_params(labelsize = 15)\n",
    "\n",
    "plt.savefig(\"20221019_DS_pattern.png\")\n"
   ]
  },
  {
   "cell_type": "markdown",
   "id": "71d90226",
   "metadata": {},
   "source": [
    "## train the dynamic bayesian network"
   ]
  },
  {
   "cell_type": "code",
   "execution_count": 40,
   "id": "997b70ee",
   "metadata": {},
   "outputs": [],
   "source": [
    "import numpy as np\n",
    "import pandas as pd\n",
    "from pgmpy.models import BayesianModel\n",
    "from pgmpy.models import DynamicBayesianNetwork as DBN\n",
    "from pgmpy.estimators import BayesianEstimator\n",
    "from pgmpy.estimators import HillClimbSearch,BicScore\n",
    "import networkx as nx"
   ]
  },
  {
   "cell_type": "code",
   "execution_count": 41,
   "id": "a59d6687",
   "metadata": {},
   "outputs": [
    {
     "data": {
      "text/plain": [
       "[<TabularCPD representing P((owgaze2, 0):2) at 0x2b0f40648790>,\n",
       " <TabularCPD representing P((pull2, 0):2) at 0x2b0f40656070>,\n",
       " <TabularCPD representing P((pull1, 0):2) at 0x2b0f406489a0>,\n",
       " <TabularCPD representing P((owgaze1, 0):2) at 0x2b0f40633610>,\n",
       " <TabularCPD representing P((owgaze2, 1):2 | (pull2, 0):2) at 0x2b0f40656340>,\n",
       " <TabularCPD representing P((pull2, 1):2 | (owgaze2, 0):2) at 0x2b0f406488b0>,\n",
       " <TabularCPD representing P((pull1, 1):2 | (owgaze1, 0):2) at 0x2b0f406485e0>,\n",
       " <TabularCPD representing P((owgaze1, 1):2 | (pull1, 0):2) at 0x2b0f40648f70>]"
      ]
     },
     "execution_count": 41,
     "metadata": {},
     "output_type": "execute_result"
    },
    {
     "data": {
      "image/png": "[encoded data removed]",
      "text/plain": [
       "<Figure size 432x288 with 1 Axes>"
      ]
     },
     "metadata": {},
     "output_type": "display_data"
    }
   ],
   "source": [
    "# real data\n",
    "total_time = int(720 - session_start_time) * 2\n",
    "# round to 0.5s\n",
    "time_point_pull1_round = round(time_point_pull1 * 2).reset_index(drop = True).astype(int)\n",
    "time_point_pull1_round = time_point_pull1_round[time_point_pull1_round<total_time]\n",
    "time_point_pull2_round  = round(time_point_pull2 * 2).reset_index(drop = True).astype(int)\n",
    "time_point_pull2_round = time_point_pull2_round[time_point_pull2_round<total_time]\n",
    "time_point_onewaygaze1_round = round(pd.Series(oneway_gaze1)*2).reset_index(drop = True).astype(int)\n",
    "time_point_onewaygaze2_round = round(pd.Series(oneway_gaze2)*2).reset_index(drop = True).astype(int)\n",
    "time_point_mutualgaze1_round = round(pd.Series(mutual_gaze1)*2).reset_index(drop = True).astype(int)\n",
    "time_point_mutualgaze2_round = round(pd.Series(mutual_gaze2)*2).reset_index(drop = True).astype(int)\n",
    "time_point_onewaygaze1_round = time_point_onewaygaze1_round[time_point_onewaygaze1_round>0]\n",
    "time_point_onewaygaze2_round = time_point_onewaygaze2_round[time_point_onewaygaze2_round>0]\n",
    "time_point_mutualgaze1_round = time_point_mutualgaze1_round[time_point_mutualgaze1_round>0]\n",
    "time_point_mutualgaze2_round = time_point_mutualgaze2_round[time_point_mutualgaze2_round>0]\n",
    "# t0\n",
    "pull1_t0 = np.zeros((total_time,1))\n",
    "pull1_t0[np.array(time_point_pull1_round)] = 1\n",
    "pull2_t0 = np.zeros((total_time,1))\n",
    "pull2_t0[np.array(time_point_pull2_round)] = 1\n",
    "owgaze1_t0 = np.zeros((total_time,1))\n",
    "owgaze1_t0[np.array(time_point_onewaygaze1_round)] = 1\n",
    "owgaze2_t0 = np.zeros((total_time,1))\n",
    "owgaze2_t0[np.array(time_point_onewaygaze2_round)] = 1\n",
    "mtgaze1_t0 = np.zeros((total_time,1))\n",
    "mtgaze1_t0[np.array(time_point_mutualgaze1_round)] = 1\n",
    "mtgaze2_t0 = np.zeros((total_time,1))\n",
    "mtgaze2_t0[np.array(time_point_mutualgaze2_round)] = 1\n",
    "# t1\n",
    "pull1_t1 = np.zeros((total_time,1))\n",
    "pull1_t1[np.array(time_point_pull1_round)+1] = 1\n",
    "pull2_t1 = np.zeros((total_time,1))\n",
    "pull2_t1[np.array(time_point_pull2_round)+1] = 1\n",
    "owgaze1_t1 = np.zeros((total_time,1))\n",
    "owgaze1_t1[np.array(time_point_onewaygaze1_round)+1] = 1\n",
    "owgaze2_t1 = np.zeros((total_time,1))\n",
    "owgaze2_t1[np.array(time_point_onewaygaze2_round)+1] = 1\n",
    "mtgaze1_t1 = np.zeros((total_time,1))\n",
    "mtgaze1_t1[np.array(time_point_mutualgaze1_round)+1] = 1\n",
    "mtgaze2_t1 = np.zeros((total_time,1))\n",
    "mtgaze2_t1[np.array(time_point_mutualgaze2_round)+1] = 1\n",
    "## create dataframe\n",
    "# data = np.concatenate((pull1_t0,pull2_t0,owgaze1_t0,owgaze2_t0,mtgaze1_t0,mtgaze2_t0,pull1_t1,pull2_t1,owgaze1_t1,owgaze2_t1,mtgaze1_t1,mtgaze2_t1),axis = 1)\n",
    "# colnames = [(\"pull1\",0),(\"pull2\",0),(\"owgaze1\",0),(\"owgaze2\",0),(\"mtgaze1\",0),(\"mtgaze2\",0),(\"pull1\",1),(\"pull2\",1),(\"owgaze1\",1),(\"owgaze2\",1),(\"mtgaze1\",1),(\"mtgaze2\",1)]\n",
    "# df = pd.DataFrame(data, columns=colnames)\n",
    "data = np.concatenate((pull1_t0,pull2_t0,owgaze1_t0,owgaze2_t0,pull1_t1,pull2_t1,owgaze1_t1,owgaze2_t1),axis = 1)\n",
    "colnames = [(\"pull1\",0),(\"pull2\",0),(\"owgaze1\",0),(\"owgaze2\",0),(\"pull1\",1),(\"pull2\",1),(\"owgaze1\",1),(\"owgaze2\",1)]\n",
    "df = pd.DataFrame(data, columns=colnames)\n",
    "\n",
    "## built the model structure\n",
    "# model = DBN(\n",
    "#    [\n",
    "#        ((\"owgaze1\",0), (\"pull1\",1)),\n",
    "#        ((\"owgaze1\",0), (\"mtgaze1\",1)),\n",
    "#        ((\"mtgaze1\",0), (\"pull1\",1)),\n",
    "#        ((\"pull1\",0), (\"owgaze1\",1)),\n",
    "#        ((\"owgaze2\",0), (\"pull2\",1)),\n",
    "#        ((\"owgaze2\",0), (\"mtgaze2\",1)),\n",
    "#        ((\"mtgaze2\",0), (\"pull2\",1)),\n",
    "#        ((\"pull2\",0), (\"owgaze2\",1)),\n",
    "#    ]\n",
    "# )\n",
    "model = DBN(\n",
    "    [\n",
    "        ((\"owgaze1\",0), (\"pull1\",1)),\n",
    "        ((\"pull1\",0), (\"owgaze1\",1)),\n",
    "        ((\"owgaze2\",0), (\"pull2\",1)),\n",
    "        ((\"pull2\",0), (\"owgaze2\",1)),\n",
    "    ]\n",
    ")\n",
    "model.fit(df)\n",
    "#\n",
    "pos=nx.spring_layout(model)\n",
    "nx.draw(model,pos,with_labels = True)\n",
    "labels = nx.get_edge_attributes(model,'weight')\n",
    "nx.draw_networkx_edge_labels(model,pos,edge_labels=labels)\n",
    "\n",
    "model.get_cpds()"
   ]
  },
  {
   "cell_type": "markdown",
   "id": "48dacce0",
   "metadata": {},
   "source": [
    "### Methods used by Alec"
   ]
  },
  {
   "cell_type": "code",
   "execution_count": 42,
   "id": "d65169c2",
   "metadata": {},
   "outputs": [],
   "source": [
    "def graph_to_matrix(edges,nevents,eventnames):\n",
    "\n",
    "    output_matrix = np.zeros((nevents,nevents)) \n",
    "    \n",
    "    column = 0\n",
    "    for from_layer in np.arange(0,nevents,1):\n",
    "        row = 0\n",
    "        #Loop through the receiving nodes (the last timeslice of each population)\n",
    "        for to_layer in np.arange(0,nevents,1): \n",
    "            from_pop = eventnames[from_layer]+'_t0'\n",
    "            to_pop = eventnames[to_layer]+'_t1'\n",
    "\n",
    "            if (from_pop, to_pop) in edges:\n",
    "                output_matrix[row,column] = 1\n",
    "            else:\n",
    "                output_matrix[row,column] = 0\n",
    "            row+=1\n",
    "        column+=1\n",
    "                    \n",
    "    return output_matrix"
   ]
  },
  {
   "cell_type": "code",
   "execution_count": 43,
   "id": "6b449238",
   "metadata": {},
   "outputs": [],
   "source": [
    "def get_weighted_dags(binaryDags,nNewBootstraps = 100):\n",
    "    ### Step 1: Create Bootstraps of \"discrete\" DAGs for weighted DAGs\n",
    "    [nTrials,frNodes,toNodes] = binaryDags.shape\n",
    "    \n",
    "    bootstrap_graphs = np.zeros([nNewBootstraps,nTrials,frNodes,toNodes])\n",
    "    for iBootstrap in range(nNewBootstraps):\n",
    "        bootstrap_graphs[iBootstrap,:,:,:] = binaryDags[np.random.randint(nTrials, size=(nTrials)),:,:]\n",
    "\n",
    "    ### Step 2: Get Weighted DAGs\n",
    "    wtd_graphs = np.nanmean(bootstrap_graphs, axis=1)\n",
    "    \n",
    "    return wtd_graphs"
   ]
  },
  {
   "cell_type": "code",
   "execution_count": 44,
   "id": "b154a6fe",
   "metadata": {},
   "outputs": [
    {
     "data": {
      "application/vnd.jupyter.widget-view+json": {
       "model_id": "e49f8585c1e6409c8ccad01fa6a2d451",
       "version_major": 2,
       "version_minor": 0
      },
      "text/plain": [
       "  0%|          | 0/1000000 [00:00<?, ?it/s]"
      ]
     },
     "metadata": {},
     "output_type": "display_data"
    },
    {
     "data": {
      "text/plain": [
       "OutEdgeView([('pull1_t0', 'pull1_t1'), ('owgaze1_t0', 'owgaze1_t1'), ('owgaze2_t0', 'owgaze2_t1')])"
      ]
     },
     "execution_count": 44,
     "metadata": {},
     "output_type": "execute_result"
    }
   ],
   "source": [
    "# clean up dataframe\n",
    "data = np.concatenate((pull1_t0,pull2_t0,owgaze1_t0,owgaze2_t0,pull1_t1,pull2_t1,owgaze1_t1,owgaze2_t1),axis = 1)\n",
    "colnames = [\"pull1_t0\",\"pull2_t0\",\"owgaze1_t0\",\"owgaze2_t0\",\"pull1_t1\",\"pull2_t1\",\"owgaze1_t1\",\"owgaze2_t1\"]\n",
    "eventnames = [\"pull1\",\"pull2\",\"owgaze1\",\"owgaze2\"]\n",
    "nevents = np.size(eventnames)\n",
    "bhv_df = pd.DataFrame(data, columns=colnames)\n",
    "\n",
    "# define DBN structures\n",
    "all_pops = list(bhv_df.columns)\n",
    "from_pops = [pop for pop in all_pops if not pop.endswith('t1')]\n",
    "to_pops = [pop for pop in all_pops if pop.endswith('t1')]\n",
    "causal_whitelist = [(from_pop,to_pop) for from_pop in from_pops for to_pop in to_pops]\n",
    "\n",
    "# train the DBN for the edges\n",
    "bhv_hc = HillClimbSearch(bhv_df)\n",
    "best_model = bhv_hc.estimate(max_indegree=None, white_list = causal_whitelist, scoring_method=BicScore(bhv_df))\n",
    "edges = best_model.edges()\n",
    "    \n",
    "nFromNodes = nevents\n",
    "nToNodes = nevents\n",
    "nTrials = 1\n",
    "DAGs = np.zeros((nTrials, nFromNodes, nToNodes))\n",
    "DAGs[0,:,:] = graph_to_matrix(list(edges),nevents,eventnames)\n",
    "\n",
    "edges\n"
   ]
  },
  {
   "cell_type": "markdown",
   "id": "b9017142",
   "metadata": {},
   "source": [
    "#### methods used by Alec - separate into different \"trials\""
   ]
  },
  {
   "cell_type": "code",
   "execution_count": 45,
   "id": "98ceeb02",
   "metadata": {},
   "outputs": [
    {
     "data": {
      "application/vnd.jupyter.widget-view+json": {
       "model_id": "0dd340d451b44b4d8ce52e1649548980",
       "version_major": 2,
       "version_minor": 0
      },
      "text/plain": [
       "  0%|          | 0/1000000 [00:00<?, ?it/s]"
      ]
     },
     "metadata": {},
     "output_type": "display_data"
    },
    {
     "data": {
      "application/vnd.jupyter.widget-view+json": {
       "model_id": "3ea6c547439144a280a5e6eda01e8376",
       "version_major": 2,
       "version_minor": 0
      },
      "text/plain": [
       "  0%|          | 0/1000000 [00:00<?, ?it/s]"
      ]
     },
     "metadata": {},
     "output_type": "display_data"
    },
    {
     "data": {
      "application/vnd.jupyter.widget-view+json": {
       "model_id": "c9a6b92693ca4d81aef29a8262b73d9e",
       "version_major": 2,
       "version_minor": 0
      },
      "text/plain": [
       "  0%|          | 0/1000000 [00:00<?, ?it/s]"
      ]
     },
     "metadata": {},
     "output_type": "display_data"
    },
    {
     "data": {
      "application/vnd.jupyter.widget-view+json": {
       "model_id": "c346f0dd32684d7086fdbfac125aa108",
       "version_major": 2,
       "version_minor": 0
      },
      "text/plain": [
       "  0%|          | 0/1000000 [00:00<?, ?it/s]"
      ]
     },
     "metadata": {},
     "output_type": "display_data"
    },
    {
     "data": {
      "application/vnd.jupyter.widget-view+json": {
       "model_id": "7e302ba9df27458e9df66613e2be6f3e",
       "version_major": 2,
       "version_minor": 0
      },
      "text/plain": [
       "  0%|          | 0/1000000 [00:00<?, ?it/s]"
      ]
     },
     "metadata": {},
     "output_type": "display_data"
    },
    {
     "data": {
      "application/vnd.jupyter.widget-view+json": {
       "model_id": "be9cf2043f464093964c90f0bdfa778c",
       "version_major": 2,
       "version_minor": 0
      },
      "text/plain": [
       "  0%|          | 0/1000000 [00:00<?, ?it/s]"
      ]
     },
     "metadata": {},
     "output_type": "display_data"
    },
    {
     "data": {
      "application/vnd.jupyter.widget-view+json": {
       "model_id": "69e8300f96a44ea9bf80e87e70a246d1",
       "version_major": 2,
       "version_minor": 0
      },
      "text/plain": [
       "  0%|          | 0/1000000 [00:00<?, ?it/s]"
      ]
     },
     "metadata": {},
     "output_type": "display_data"
    },
    {
     "data": {
      "application/vnd.jupyter.widget-view+json": {
       "model_id": "302c82cc09914f5fa9506b506999a633",
       "version_major": 2,
       "version_minor": 0
      },
      "text/plain": [
       "  0%|          | 0/1000000 [00:00<?, ?it/s]"
      ]
     },
     "metadata": {},
     "output_type": "display_data"
    },
    {
     "data": {
      "application/vnd.jupyter.widget-view+json": {
       "model_id": "b97590c4b11b43e0a41656f06469f851",
       "version_major": 2,
       "version_minor": 0
      },
      "text/plain": [
       "  0%|          | 0/1000000 [00:00<?, ?it/s]"
      ]
     },
     "metadata": {},
     "output_type": "display_data"
    },
    {
     "data": {
      "application/vnd.jupyter.widget-view+json": {
       "model_id": "de7285ace6ac47919e0aa7616456707b",
       "version_major": 2,
       "version_minor": 0
      },
      "text/plain": [
       "  0%|          | 0/1000000 [00:00<?, ?it/s]"
      ]
     },
     "metadata": {},
     "output_type": "display_data"
    },
    {
     "data": {
      "application/vnd.jupyter.widget-view+json": {
       "model_id": "28f2d7cd71064383943ae707373f90ee",
       "version_major": 2,
       "version_minor": 0
      },
      "text/plain": [
       "  0%|          | 0/1000000 [00:00<?, ?it/s]"
      ]
     },
     "metadata": {},
     "output_type": "display_data"
    },
    {
     "data": {
      "application/vnd.jupyter.widget-view+json": {
       "model_id": "446cbf062dec48e6ac922b0763682f8b",
       "version_major": 2,
       "version_minor": 0
      },
      "text/plain": [
       "  0%|          | 0/1000000 [00:00<?, ?it/s]"
      ]
     },
     "metadata": {},
     "output_type": "display_data"
    },
    {
     "data": {
      "application/vnd.jupyter.widget-view+json": {
       "model_id": "020bc53ee8904867ad95886c8010f2a9",
       "version_major": 2,
       "version_minor": 0
      },
      "text/plain": [
       "  0%|          | 0/1000000 [00:00<?, ?it/s]"
      ]
     },
     "metadata": {},
     "output_type": "display_data"
    },
    {
     "data": {
      "application/vnd.jupyter.widget-view+json": {
       "model_id": "f8171be573d548e0b700af93e90cc2ef",
       "version_major": 2,
       "version_minor": 0
      },
      "text/plain": [
       "  0%|          | 0/1000000 [00:00<?, ?it/s]"
      ]
     },
     "metadata": {},
     "output_type": "display_data"
    },
    {
     "data": {
      "application/vnd.jupyter.widget-view+json": {
       "model_id": "fed761af16f74e099de58f5aba8b7aa2",
       "version_major": 2,
       "version_minor": 0
      },
      "text/plain": [
       "  0%|          | 0/1000000 [00:00<?, ?it/s]"
      ]
     },
     "metadata": {},
     "output_type": "display_data"
    },
    {
     "data": {
      "application/vnd.jupyter.widget-view+json": {
       "model_id": "844736a6e8354a169e1ba0eb31d27dec",
       "version_major": 2,
       "version_minor": 0
      },
      "text/plain": [
       "  0%|          | 0/1000000 [00:00<?, ?it/s]"
      ]
     },
     "metadata": {},
     "output_type": "display_data"
    },
    {
     "data": {
      "application/vnd.jupyter.widget-view+json": {
       "model_id": "cf641591f1c34839b7adfc692ea8507b",
       "version_major": 2,
       "version_minor": 0
      },
      "text/plain": [
       "  0%|          | 0/1000000 [00:00<?, ?it/s]"
      ]
     },
     "metadata": {},
     "output_type": "display_data"
    },
    {
     "data": {
      "application/vnd.jupyter.widget-view+json": {
       "model_id": "6fc3d51a0bef4f5f85fc80a844b4a3e5",
       "version_major": 2,
       "version_minor": 0
      },
      "text/plain": [
       "  0%|          | 0/1000000 [00:00<?, ?it/s]"
      ]
     },
     "metadata": {},
     "output_type": "display_data"
    },
    {
     "data": {
      "application/vnd.jupyter.widget-view+json": {
       "model_id": "06b41ad3c54c455cb4aa23436ce44377",
       "version_major": 2,
       "version_minor": 0
      },
      "text/plain": [
       "  0%|          | 0/1000000 [00:00<?, ?it/s]"
      ]
     },
     "metadata": {},
     "output_type": "display_data"
    },
    {
     "data": {
      "application/vnd.jupyter.widget-view+json": {
       "model_id": "9c3a64acbf4847b7b5f489ebfc26b921",
       "version_major": 2,
       "version_minor": 0
      },
      "text/plain": [
       "  0%|          | 0/1000000 [00:00<?, ?it/s]"
      ]
     },
     "metadata": {},
     "output_type": "display_data"
    },
    {
     "data": {
      "application/vnd.jupyter.widget-view+json": {
       "model_id": "2e21cec4bed84a7fbef26c04ed7c5271",
       "version_major": 2,
       "version_minor": 0
      },
      "text/plain": [
       "  0%|          | 0/1000000 [00:00<?, ?it/s]"
      ]
     },
     "metadata": {},
     "output_type": "display_data"
    },
    {
     "data": {
      "application/vnd.jupyter.widget-view+json": {
       "model_id": "d4859aaa1ca341bda27802885834f243",
       "version_major": 2,
       "version_minor": 0
      },
      "text/plain": [
       "  0%|          | 0/1000000 [00:00<?, ?it/s]"
      ]
     },
     "metadata": {},
     "output_type": "display_data"
    },
    {
     "data": {
      "application/vnd.jupyter.widget-view+json": {
       "model_id": "8ce947454ff943f29ca07335c22027df",
       "version_major": 2,
       "version_minor": 0
      },
      "text/plain": [
       "  0%|          | 0/1000000 [00:00<?, ?it/s]"
      ]
     },
     "metadata": {},
     "output_type": "display_data"
    },
    {
     "data": {
      "application/vnd.jupyter.widget-view+json": {
       "model_id": "269fe28e797544fd83fb5b01b3aa5265",
       "version_major": 2,
       "version_minor": 0
      },
      "text/plain": [
       "  0%|          | 0/1000000 [00:00<?, ?it/s]"
      ]
     },
     "metadata": {},
     "output_type": "display_data"
    },
    {
     "data": {
      "application/vnd.jupyter.widget-view+json": {
       "model_id": "b83ff63342234d00bb1c77d702978242",
       "version_major": 2,
       "version_minor": 0
      },
      "text/plain": [
       "  0%|          | 0/1000000 [00:00<?, ?it/s]"
      ]
     },
     "metadata": {},
     "output_type": "display_data"
    },
    {
     "data": {
      "application/vnd.jupyter.widget-view+json": {
       "model_id": "375df0b7ef9a4a4b99a567a1b8abfdb0",
       "version_major": 2,
       "version_minor": 0
      },
      "text/plain": [
       "  0%|          | 0/1000000 [00:00<?, ?it/s]"
      ]
     },
     "metadata": {},
     "output_type": "display_data"
    },
    {
     "data": {
      "application/vnd.jupyter.widget-view+json": {
       "model_id": "5e431587481d402eb8abf5c4ab4602dd",
       "version_major": 2,
       "version_minor": 0
      },
      "text/plain": [
       "  0%|          | 0/1000000 [00:00<?, ?it/s]"
      ]
     },
     "metadata": {},
     "output_type": "display_data"
    },
    {
     "data": {
      "application/vnd.jupyter.widget-view+json": {
       "model_id": "e246526edb414ed5bdfffadda2ea64d7",
       "version_major": 2,
       "version_minor": 0
      },
      "text/plain": [
       "  0%|          | 0/1000000 [00:00<?, ?it/s]"
      ]
     },
     "metadata": {},
     "output_type": "display_data"
    },
    {
     "data": {
      "application/vnd.jupyter.widget-view+json": {
       "model_id": "4bdbf3d4d046407f9dbe7e9e706cfbef",
       "version_major": 2,
       "version_minor": 0
      },
      "text/plain": [
       "  0%|          | 0/1000000 [00:00<?, ?it/s]"
      ]
     },
     "metadata": {},
     "output_type": "display_data"
    },
    {
     "data": {
      "application/vnd.jupyter.widget-view+json": {
       "model_id": "9ef14bec932c4088a8e43ba9a9bf7da6",
       "version_major": 2,
       "version_minor": 0
      },
      "text/plain": [
       "  0%|          | 0/1000000 [00:00<?, ?it/s]"
      ]
     },
     "metadata": {},
     "output_type": "display_data"
    },
    {
     "data": {
      "application/vnd.jupyter.widget-view+json": {
       "model_id": "a1d2c56dfe9d425480150c298e4f917c",
       "version_major": 2,
       "version_minor": 0
      },
      "text/plain": [
       "  0%|          | 0/1000000 [00:00<?, ?it/s]"
      ]
     },
     "metadata": {},
     "output_type": "display_data"
    },
    {
     "data": {
      "application/vnd.jupyter.widget-view+json": {
       "model_id": "d27fbf98fac444278562b2000b395dd7",
       "version_major": 2,
       "version_minor": 0
      },
      "text/plain": [
       "  0%|          | 0/1000000 [00:00<?, ?it/s]"
      ]
     },
     "metadata": {},
     "output_type": "display_data"
    },
    {
     "data": {
      "application/vnd.jupyter.widget-view+json": {
       "model_id": "f048a264b5f747048a7db4b09d593494",
       "version_major": 2,
       "version_minor": 0
      },
      "text/plain": [
       "  0%|          | 0/1000000 [00:00<?, ?it/s]"
      ]
     },
     "metadata": {},
     "output_type": "display_data"
    },
    {
     "data": {
      "application/vnd.jupyter.widget-view+json": {
       "model_id": "704f2fd8f61d4c369c7dcc34df55c404",
       "version_major": 2,
       "version_minor": 0
      },
      "text/plain": [
       "  0%|          | 0/1000000 [00:00<?, ?it/s]"
      ]
     },
     "metadata": {},
     "output_type": "display_data"
    },
    {
     "data": {
      "application/vnd.jupyter.widget-view+json": {
       "model_id": "b2da754571b145f9827a7319c51c8ca3",
       "version_major": 2,
       "version_minor": 0
      },
      "text/plain": [
       "  0%|          | 0/1000000 [00:00<?, ?it/s]"
      ]
     },
     "metadata": {},
     "output_type": "display_data"
    },
    {
     "data": {
      "application/vnd.jupyter.widget-view+json": {
       "model_id": "b03210699c954cc18fc52ec02a9d76e8",
       "version_major": 2,
       "version_minor": 0
      },
      "text/plain": [
       "  0%|          | 0/1000000 [00:00<?, ?it/s]"
      ]
     },
     "metadata": {},
     "output_type": "display_data"
    },
    {
     "data": {
      "application/vnd.jupyter.widget-view+json": {
       "model_id": "d68ed714d3c7433d90e5ac67653c1976",
       "version_major": 2,
       "version_minor": 0
      },
      "text/plain": [
       "  0%|          | 0/1000000 [00:00<?, ?it/s]"
      ]
     },
     "metadata": {},
     "output_type": "display_data"
    },
    {
     "data": {
      "application/vnd.jupyter.widget-view+json": {
       "model_id": "edecfec17cbc411b8a058cdf8e5debe5",
       "version_major": 2,
       "version_minor": 0
      },
      "text/plain": [
       "  0%|          | 0/1000000 [00:00<?, ?it/s]"
      ]
     },
     "metadata": {},
     "output_type": "display_data"
    },
    {
     "data": {
      "application/vnd.jupyter.widget-view+json": {
       "model_id": "f630fea43ae2439daa2cf47af778de3d",
       "version_major": 2,
       "version_minor": 0
      },
      "text/plain": [
       "  0%|          | 0/1000000 [00:00<?, ?it/s]"
      ]
     },
     "metadata": {},
     "output_type": "display_data"
    },
    {
     "data": {
      "application/vnd.jupyter.widget-view+json": {
       "model_id": "4bbbff26edf74505a6507de41c80e4b8",
       "version_major": 2,
       "version_minor": 0
      },
      "text/plain": [
       "  0%|          | 0/1000000 [00:00<?, ?it/s]"
      ]
     },
     "metadata": {},
     "output_type": "display_data"
    },
    {
     "data": {
      "application/vnd.jupyter.widget-view+json": {
       "model_id": "052aa984b2414234a51088a9e7f9c221",
       "version_major": 2,
       "version_minor": 0
      },
      "text/plain": [
       "  0%|          | 0/1000000 [00:00<?, ?it/s]"
      ]
     },
     "metadata": {},
     "output_type": "display_data"
    },
    {
     "data": {
      "application/vnd.jupyter.widget-view+json": {
       "model_id": "15b43d3f6e754d2b8eae7b3bf85305a5",
       "version_major": 2,
       "version_minor": 0
      },
      "text/plain": [
       "  0%|          | 0/1000000 [00:00<?, ?it/s]"
      ]
     },
     "metadata": {},
     "output_type": "display_data"
    },
    {
     "data": {
      "application/vnd.jupyter.widget-view+json": {
       "model_id": "fddfa240f39b447ba2d5b75122c86926",
       "version_major": 2,
       "version_minor": 0
      },
      "text/plain": [
       "  0%|          | 0/1000000 [00:00<?, ?it/s]"
      ]
     },
     "metadata": {},
     "output_type": "display_data"
    },
    {
     "data": {
      "application/vnd.jupyter.widget-view+json": {
       "model_id": "65cf7b7cd84a44ada3d83ae97033e1a5",
       "version_major": 2,
       "version_minor": 0
      },
      "text/plain": [
       "  0%|          | 0/1000000 [00:00<?, ?it/s]"
      ]
     },
     "metadata": {},
     "output_type": "display_data"
    },
    {
     "data": {
      "application/vnd.jupyter.widget-view+json": {
       "model_id": "c129f5d3748d400d811d3df16adf1841",
       "version_major": 2,
       "version_minor": 0
      },
      "text/plain": [
       "  0%|          | 0/1000000 [00:00<?, ?it/s]"
      ]
     },
     "metadata": {},
     "output_type": "display_data"
    },
    {
     "data": {
      "application/vnd.jupyter.widget-view+json": {
       "model_id": "5dfa460fbcbc4b989896e8b76882de31",
       "version_major": 2,
       "version_minor": 0
      },
      "text/plain": [
       "  0%|          | 0/1000000 [00:00<?, ?it/s]"
      ]
     },
     "metadata": {},
     "output_type": "display_data"
    },
    {
     "data": {
      "application/vnd.jupyter.widget-view+json": {
       "model_id": "1a1cbd0d7c33433798d4a66903b1bf0a",
       "version_major": 2,
       "version_minor": 0
      },
      "text/plain": [
       "  0%|          | 0/1000000 [00:00<?, ?it/s]"
      ]
     },
     "metadata": {},
     "output_type": "display_data"
    },
    {
     "data": {
      "application/vnd.jupyter.widget-view+json": {
       "model_id": "19cc863ec6524cf8874d61a64fa6422d",
       "version_major": 2,
       "version_minor": 0
      },
      "text/plain": [
       "  0%|          | 0/1000000 [00:00<?, ?it/s]"
      ]
     },
     "metadata": {},
     "output_type": "display_data"
    },
    {
     "data": {
      "application/vnd.jupyter.widget-view+json": {
       "model_id": "accaa86143f6444691a0db5c41fac3a8",
       "version_major": 2,
       "version_minor": 0
      },
      "text/plain": [
       "  0%|          | 0/1000000 [00:00<?, ?it/s]"
      ]
     },
     "metadata": {},
     "output_type": "display_data"
    },
    {
     "data": {
      "application/vnd.jupyter.widget-view+json": {
       "model_id": "ecb0e09d2dfe40ad86a742c917c115d1",
       "version_major": 2,
       "version_minor": 0
      },
      "text/plain": [
       "  0%|          | 0/1000000 [00:00<?, ?it/s]"
      ]
     },
     "metadata": {},
     "output_type": "display_data"
    },
    {
     "data": {
      "application/vnd.jupyter.widget-view+json": {
       "model_id": "e5cc9aebcf034a909e2cd78837bdf822",
       "version_major": 2,
       "version_minor": 0
      },
      "text/plain": [
       "  0%|          | 0/1000000 [00:00<?, ?it/s]"
      ]
     },
     "metadata": {},
     "output_type": "display_data"
    },
    {
     "data": {
      "application/vnd.jupyter.widget-view+json": {
       "model_id": "4b8a70813ef3436b808a1fc9ad0ead92",
       "version_major": 2,
       "version_minor": 0
      },
      "text/plain": [
       "  0%|          | 0/1000000 [00:00<?, ?it/s]"
      ]
     },
     "metadata": {},
     "output_type": "display_data"
    },
    {
     "data": {
      "application/vnd.jupyter.widget-view+json": {
       "model_id": "0dab3264883e4676957c2fc328dd4d6b",
       "version_major": 2,
       "version_minor": 0
      },
      "text/plain": [
       "  0%|          | 0/1000000 [00:00<?, ?it/s]"
      ]
     },
     "metadata": {},
     "output_type": "display_data"
    },
    {
     "data": {
      "application/vnd.jupyter.widget-view+json": {
       "model_id": "4e20fa76f4074f0a849d1696d7517dad",
       "version_major": 2,
       "version_minor": 0
      },
      "text/plain": [
       "  0%|          | 0/1000000 [00:00<?, ?it/s]"
      ]
     },
     "metadata": {},
     "output_type": "display_data"
    },
    {
     "data": {
      "application/vnd.jupyter.widget-view+json": {
       "model_id": "93f0cb1f0b694f12a427bae7e0fe3305",
       "version_major": 2,
       "version_minor": 0
      },
      "text/plain": [
       "  0%|          | 0/1000000 [00:00<?, ?it/s]"
      ]
     },
     "metadata": {},
     "output_type": "display_data"
    },
    {
     "data": {
      "application/vnd.jupyter.widget-view+json": {
       "model_id": "3d8560f0da964d619daebd732f84b070",
       "version_major": 2,
       "version_minor": 0
      },
      "text/plain": [
       "  0%|          | 0/1000000 [00:00<?, ?it/s]"
      ]
     },
     "metadata": {},
     "output_type": "display_data"
    },
    {
     "data": {
      "application/vnd.jupyter.widget-view+json": {
       "model_id": "e34bb63508dc4df2a8427897b94f6e72",
       "version_major": 2,
       "version_minor": 0
      },
      "text/plain": [
       "  0%|          | 0/1000000 [00:00<?, ?it/s]"
      ]
     },
     "metadata": {},
     "output_type": "display_data"
    },
    {
     "data": {
      "application/vnd.jupyter.widget-view+json": {
       "model_id": "977c3d85652a4a30832c81ba5735a9a9",
       "version_major": 2,
       "version_minor": 0
      },
      "text/plain": [
       "  0%|          | 0/1000000 [00:00<?, ?it/s]"
      ]
     },
     "metadata": {},
     "output_type": "display_data"
    },
    {
     "data": {
      "application/vnd.jupyter.widget-view+json": {
       "model_id": "fe8daf04924c42b7a61dbfea8863b2a7",
       "version_major": 2,
       "version_minor": 0
      },
      "text/plain": [
       "  0%|          | 0/1000000 [00:00<?, ?it/s]"
      ]
     },
     "metadata": {},
     "output_type": "display_data"
    },
    {
     "data": {
      "application/vnd.jupyter.widget-view+json": {
       "model_id": "343f8e4bb15949aa89058721ff090160",
       "version_major": 2,
       "version_minor": 0
      },
      "text/plain": [
       "  0%|          | 0/1000000 [00:00<?, ?it/s]"
      ]
     },
     "metadata": {},
     "output_type": "display_data"
    },
    {
     "data": {
      "application/vnd.jupyter.widget-view+json": {
       "model_id": "261c97c3e8ae4f6ba12384b67f41404e",
       "version_major": 2,
       "version_minor": 0
      },
      "text/plain": [
       "  0%|          | 0/1000000 [00:00<?, ?it/s]"
      ]
     },
     "metadata": {},
     "output_type": "display_data"
    },
    {
     "data": {
      "application/vnd.jupyter.widget-view+json": {
       "model_id": "499d620a5e194c6790240570d7c184cf",
       "version_major": 2,
       "version_minor": 0
      },
      "text/plain": [
       "  0%|          | 0/1000000 [00:00<?, ?it/s]"
      ]
     },
     "metadata": {},
     "output_type": "display_data"
    },
    {
     "data": {
      "application/vnd.jupyter.widget-view+json": {
       "model_id": "1935ba93154e4f86996a61e1efbdc990",
       "version_major": 2,
       "version_minor": 0
      },
      "text/plain": [
       "  0%|          | 0/1000000 [00:00<?, ?it/s]"
      ]
     },
     "metadata": {},
     "output_type": "display_data"
    },
    {
     "data": {
      "application/vnd.jupyter.widget-view+json": {
       "model_id": "7aa903121d7c4f81b852f43d11268d0f",
       "version_major": 2,
       "version_minor": 0
      },
      "text/plain": [
       "  0%|          | 0/1000000 [00:00<?, ?it/s]"
      ]
     },
     "metadata": {},
     "output_type": "display_data"
    },
    {
     "data": {
      "application/vnd.jupyter.widget-view+json": {
       "model_id": "74dd7471cf5d4b6e897467715d0c900e",
       "version_major": 2,
       "version_minor": 0
      },
      "text/plain": [
       "  0%|          | 0/1000000 [00:00<?, ?it/s]"
      ]
     },
     "metadata": {},
     "output_type": "display_data"
    },
    {
     "data": {
      "application/vnd.jupyter.widget-view+json": {
       "model_id": "b6e469bda0e24f2b978c43d591bae9c6",
       "version_major": 2,
       "version_minor": 0
      },
      "text/plain": [
       "  0%|          | 0/1000000 [00:00<?, ?it/s]"
      ]
     },
     "metadata": {},
     "output_type": "display_data"
    },
    {
     "data": {
      "application/vnd.jupyter.widget-view+json": {
       "model_id": "4f2b91c66b1b43a59d2cc3342d16a69c",
       "version_major": 2,
       "version_minor": 0
      },
      "text/plain": [
       "  0%|          | 0/1000000 [00:00<?, ?it/s]"
      ]
     },
     "metadata": {},
     "output_type": "display_data"
    },
    {
     "data": {
      "application/vnd.jupyter.widget-view+json": {
       "model_id": "78f6632923754b5a95e5a414daf5a209",
       "version_major": 2,
       "version_minor": 0
      },
      "text/plain": [
       "  0%|          | 0/1000000 [00:00<?, ?it/s]"
      ]
     },
     "metadata": {},
     "output_type": "display_data"
    },
    {
     "data": {
      "application/vnd.jupyter.widget-view+json": {
       "model_id": "a6bdf387c9334c4895f790d291f2e7e2",
       "version_major": 2,
       "version_minor": 0
      },
      "text/plain": [
       "  0%|          | 0/1000000 [00:00<?, ?it/s]"
      ]
     },
     "metadata": {},
     "output_type": "display_data"
    },
    {
     "data": {
      "application/vnd.jupyter.widget-view+json": {
       "model_id": "0c693589f0074db484a04c649b9d7786",
       "version_major": 2,
       "version_minor": 0
      },
      "text/plain": [
       "  0%|          | 0/1000000 [00:00<?, ?it/s]"
      ]
     },
     "metadata": {},
     "output_type": "display_data"
    },
    {
     "data": {
      "application/vnd.jupyter.widget-view+json": {
       "model_id": "6c1820b2719a4b0e86f9061cdecb8c2c",
       "version_major": 2,
       "version_minor": 0
      },
      "text/plain": [
       "  0%|          | 0/1000000 [00:00<?, ?it/s]"
      ]
     },
     "metadata": {},
     "output_type": "display_data"
    },
    {
     "data": {
      "application/vnd.jupyter.widget-view+json": {
       "model_id": "d0fe7cc3c7e94f6b8a8aed9424cd8122",
       "version_major": 2,
       "version_minor": 0
      },
      "text/plain": [
       "  0%|          | 0/1000000 [00:00<?, ?it/s]"
      ]
     },
     "metadata": {},
     "output_type": "display_data"
    },
    {
     "data": {
      "text/plain": [
       "array([[[0.01388889, 0.        , 0.        , 0.        ],\n",
       "        [0.        , 0.        , 0.        , 0.        ],\n",
       "        [0.        , 0.        , 0.01388889, 0.        ],\n",
       "        [0.        , 0.        , 0.        , 0.01388889]]])"
      ]
     },
     "execution_count": 45,
     "metadata": {},
     "output_type": "execute_result"
    }
   ],
   "source": [
    "# every 10s (20 0.5s steps) as a \"trial\"\n",
    "# total 720s \"session\" will be 72 \"trials\"\n",
    "ntrials = 72\n",
    "nFromNodes = nevents\n",
    "nToNodes = nevents\n",
    "for itrial in np.arange(0,ntrials,1):\n",
    "    bhv_df_itrial = bhv_df.iloc[itrial*20:(itrial+1)*20]\n",
    "    # define DBN structures\n",
    "    all_pops = list(bhv_df_itrial.columns)\n",
    "    from_pops = [pop for pop in all_pops if not pop.endswith('t1')]\n",
    "    to_pops = [pop for pop in all_pops if pop.endswith('t1')]\n",
    "    causal_whitelist = [(from_pop,to_pop) for from_pop in from_pops for to_pop in to_pops]\n",
    "\n",
    "    # train the DBN for the edges\n",
    "    bhv_hc = HillClimbSearch(bhv_df_itrial)\n",
    "    best_model = bhv_hc.estimate(max_indegree=None, white_list = causal_whitelist, scoring_method=BicScore(bhv_df))\n",
    "    edges_itrial = best_model.edges()\n",
    "    \n",
    "    \n",
    "    DAGs_itrial = np.zeros((ntrials, nFromNodes, nToNodes))\n",
    "    DAGs_itrial[0,:,:] = graph_to_matrix(list(edges_itrial),nevents,eventnames)\n",
    "\n",
    "\n",
    "weighted_graphs = get_weighted_dags(DAGs_itrial,nNewBootstraps = 1)\n",
    "weighted_graphs"
   ]
  },
  {
   "cell_type": "markdown",
   "id": "cb240293",
   "metadata": {},
   "source": [
    "## plot behavioral results (with camera 12) and eye contact results"
   ]
  },
  {
   "cell_type": "code",
   "execution_count": 46,
   "id": "541e793a",
   "metadata": {},
   "outputs": [],
   "source": [
    "time_point_pull1 = bhv_data[\"time_points\"][bhv_data[\"behavior_events\"]==1]\n",
    "time_point_pull2 = bhv_data[\"time_points\"][bhv_data[\"behavior_events\"]==2]\n",
    "ind_lookatotherface1 = np.where(np.array(look_at_face_or_not_camera12[animal1])==1)\n",
    "time_point_lookatotherface1 = look_at_face_or_not_camera12[\"time_in_second\"][ind_lookatotherface1]\n",
    "ind_lookatotherface2 = np.where(np.array(look_at_face_or_not_camera12[animal2])==1)\n",
    "time_point_lookatotherface2 = look_at_face_or_not_camera12[\"time_in_second\"][ind_lookatotherface2]\n",
    "\n",
    "ind_eyecontact1 = np.where(np.array(eye_contact_or_not_camera12[animal1])==1)\n",
    "time_point_eyecontact1 = eye_contact_or_not_camera12[\"time_in_second\"][ind_eyecontact1]\n",
    "ind_eyecontact2 = np.where(np.array(eye_contact_or_not_camera12[animal2])==1)\n",
    "time_point_eyecontact2 = eye_contact_or_not_camera12[\"time_in_second\"][ind_eyecontact2]\n",
    "\n",
    "# calculate the oneway gaze or mutual gaze\n",
    "animal1_gaze = np.round(np.concatenate((time_point_eyecontact1,time_point_lookatotherface1)),1)\n",
    "animal1_gaze = np.unique(np.sort(animal1_gaze))\n",
    "animal2_gaze = np.round(np.concatenate((time_point_eyecontact2,time_point_lookatotherface2)),1)\n",
    "animal2_gaze = np.unique(np.sort(animal2_gaze))\n",
    "\n",
    "ngaze1 = len(animal1_gaze)\n",
    "ngaze2 = len(animal2_gaze)\n",
    "oneway_gaze1 = []\n",
    "oneway_gaze2 = []\n",
    "mutual_gaze1 = []\n",
    "mutual_gaze2 = []\n",
    "# \n",
    "for igaze1 in np.arange(0, ngaze1, 1):\n",
    "    for igaze2 in np.arange(0,ngaze2,1):\n",
    "        if abs(animal1_gaze[igaze1]-animal2_gaze[igaze2])<1:\n",
    "            mutual_gaze1.append(animal1_gaze[igaze1])\n",
    "            mutual_gaze2.append(animal2_gaze[igaze2])\n",
    "mutual_gaze1 = np.unique(mutual_gaze1)   \n",
    "mutual_gaze2 = np.unique(mutual_gaze2)\n",
    "oneway_gaze1 = animal1_gaze[~np.isin(animal1_gaze,mutual_gaze1)]\n",
    "oneway_gaze2 = animal2_gaze[~np.isin(animal2_gaze,mutual_gaze2)]"
   ]
  },
  {
   "cell_type": "code",
   "execution_count": 47,
   "id": "141f26e1",
   "metadata": {},
   "outputs": [
    {
     "data": {
      "text/plain": [
       "[<matplotlib.lines.Line2D at 0x2b0f41627c40>]"
      ]
     },
     "execution_count": 47,
     "metadata": {},
     "output_type": "execute_result"
    },
    {
     "data": {
      "image/png": "[encoded data removed]",
      "text/plain": [
       "<Figure size 432x288 with 1 Axes>"
      ]
     },
     "metadata": {
      "needs_background": "light"
     },
     "output_type": "display_data"
    }
   ],
   "source": [
    "time_point_pull1 = np.round(time_point_pull1,2)\n",
    "ind_plot = time_point_pull1 < (720 - session_start_time)\n",
    "plt.plot(time_point_pull1[ind_plot], np.ones(np.shape(time_point_pull1[ind_plot])[0]),'o')\n",
    "plt.plot(oneway_gaze1, np.ones(np.shape(oneway_gaze1)[0])*2,'o')\n",
    "plt.plot(mutual_gaze1, np.ones(np.shape(mutual_gaze1)[0])*3,'o')"
   ]
  },
  {
   "cell_type": "code",
   "execution_count": 48,
   "id": "c1f7841a",
   "metadata": {},
   "outputs": [
    {
     "data": {
      "text/plain": [
       "array([ 3.705     ,  6.88      ,  6.88055556,  7.135     ,  7.13555556,\n",
       "        7.62611111,  7.62666667,  7.62722222,  7.62777778,  7.62833333,\n",
       "        7.62888889,  8.94055556,  9.71111111,  9.71166667, 10.65111111,\n",
       "       10.65166667, 11.00222222, 11.00833333, 11.00888889, 11.06722222,\n",
       "       11.06833333])"
      ]
     },
     "execution_count": 48,
     "metadata": {},
     "output_type": "execute_result"
    }
   ],
   "source": [
    "(time_point_eyecontact1+session_start_time)/60"
   ]
  },
  {
   "cell_type": "code",
   "execution_count": 49,
   "id": "0a4c31c6",
   "metadata": {},
   "outputs": [
    {
     "data": {
      "text/plain": [
       "[<matplotlib.lines.Line2D at 0x2b0f4169c160>]"
      ]
     },
     "execution_count": 49,
     "metadata": {},
     "output_type": "execute_result"
    },
    {
     "data": {
      "image/png": "[encoded data removed]",
      "text/plain": [
       "<Figure size 432x288 with 1 Axes>"
      ]
     },
     "metadata": {
      "needs_background": "light"
     },
     "output_type": "display_data"
    }
   ],
   "source": [
    "time_point_pull2 = np.round(time_point_pull2,2)\n",
    "ind_plot = time_point_pull2 < (720 - session_start_time)\n",
    "plt.plot(time_point_pull2[ind_plot], np.ones(np.shape(time_point_pull2[ind_plot])[0]),'o')\n",
    "plt.plot(oneway_gaze2, np.ones(np.shape(oneway_gaze2)[0])*2,'o')\n",
    "plt.plot(mutual_gaze2, np.ones(np.shape(mutual_gaze2)[0])*3,'o')"
   ]
  },
  {
   "cell_type": "markdown",
   "id": "3c15b557",
   "metadata": {},
   "source": [
    "## plot behavioral results (with camera 23) and eye contact results"
   ]
  },
  {
   "cell_type": "code",
   "execution_count": 50,
   "id": "deccfe93",
   "metadata": {},
   "outputs": [],
   "source": [
    "time_point_pull1 = bhv_data[\"time_points\"][bhv_data[\"behavior_events\"]==1]\n",
    "time_point_pull2 = bhv_data[\"time_points\"][bhv_data[\"behavior_events\"]==2]\n",
    "ind_lookatotherface1 = np.where(np.array(look_at_face_or_not_camera23[animal1])==1)\n",
    "time_point_lookatotherface1 = look_at_face_or_not_camera23[\"time_in_second\"][ind_lookatotherface1]\n",
    "ind_lookatotherface2 = np.where(np.array(look_at_face_or_not_camera23[animal2])==1)\n",
    "time_point_lookatotherface2 = look_at_face_or_not_camera23[\"time_in_second\"][ind_lookatotherface2]\n",
    "\n",
    "ind_eyecontact1 = np.where(np.array(eye_contact_or_not_camera23[animal1])==1)\n",
    "time_point_eyecontact1 = eye_contact_or_not_camera23[\"time_in_second\"][ind_eyecontact1]\n",
    "ind_eyecontact2 = np.where(np.array(eye_contact_or_not_camera23[animal2])==1)\n",
    "time_point_eyecontact2 = eye_contact_or_not_camera23[\"time_in_second\"][ind_eyecontact2]\n",
    "\n",
    "# calculate the oneway gaze or mutual gaze\n",
    "animal1_gaze = np.round(np.concatenate((time_point_eyecontact1,time_point_lookatotherface1)),1)\n",
    "animal1_gaze = np.unique(np.sort(animal1_gaze))\n",
    "animal2_gaze = np.round(np.concatenate((time_point_eyecontact2,time_point_lookatotherface2)),1)\n",
    "animal2_gaze = np.unique(np.sort(animal2_gaze))\n",
    "\n",
    "ngaze1 = len(animal1_gaze)\n",
    "ngaze2 = len(animal2_gaze)\n",
    "oneway_gaze1 = []\n",
    "oneway_gaze2 = []\n",
    "mutual_gaze1 = []\n",
    "mutual_gaze2 = []\n",
    "# \n",
    "for igaze1 in np.arange(0, ngaze1, 1):\n",
    "    for igaze2 in np.arange(0,ngaze2,1):\n",
    "        if abs(animal1_gaze[igaze1]-animal2_gaze[igaze2])<1:\n",
    "            mutual_gaze1.append(animal1_gaze[igaze1])\n",
    "            mutual_gaze2.append(animal2_gaze[igaze2])\n",
    "mutual_gaze1 = np.unique(mutual_gaze1)   \n",
    "mutual_gaze2 = np.unique(mutual_gaze2)\n",
    "oneway_gaze1 = animal1_gaze[~np.isin(animal1_gaze,mutual_gaze1)]\n",
    "oneway_gaze2 = animal2_gaze[~np.isin(animal2_gaze,mutual_gaze2)]"
   ]
  },
  {
   "cell_type": "code",
   "execution_count": 51,
   "id": "7b781a9f",
   "metadata": {},
   "outputs": [
    {
     "data": {
      "text/plain": [
       "[<matplotlib.lines.Line2D at 0x2b0f4170a3d0>]"
      ]
     },
     "execution_count": 51,
     "metadata": {},
     "output_type": "execute_result"
    },
    {
     "data": {
      "image/png": "[encoded data removed]",
      "text/plain": [
       "<Figure size 432x288 with 1 Axes>"
      ]
     },
     "metadata": {
      "needs_background": "light"
     },
     "output_type": "display_data"
    }
   ],
   "source": [
    "time_point_pull1 = np.round(time_point_pull1,2)\n",
    "ind_plot = time_point_pull1 < (720 - session_start_time)\n",
    "plt.plot(time_point_pull1[ind_plot], np.ones(np.shape(time_point_pull1[ind_plot])[0]),'o')\n",
    "plt.plot(oneway_gaze1, np.ones(np.shape(oneway_gaze1)[0])*2,'o')\n",
    "plt.plot(mutual_gaze1, np.ones(np.shape(mutual_gaze1)[0])*3,'o')"
   ]
  },
  {
   "cell_type": "code",
   "execution_count": 52,
   "id": "b945f65a",
   "metadata": {},
   "outputs": [
    {
     "data": {
      "text/plain": [
       "[<matplotlib.lines.Line2D at 0x2b0f414b0f70>]"
      ]
     },
     "execution_count": 52,
     "metadata": {},
     "output_type": "execute_result"
    },
    {
     "data": {
      "image/png": "[encoded data removed]",
      "text/plain": [
       "<Figure size 432x288 with 1 Axes>"
      ]
     },
     "metadata": {
      "needs_background": "light"
     },
     "output_type": "display_data"
    }
   ],
   "source": [
    "time_point_pull2 = np.round(time_point_pull2,2)\n",
    "ind_plot = time_point_pull2 < (720 - session_start_time)\n",
    "plt.plot(time_point_pull2[ind_plot], np.ones(np.shape(time_point_pull2[ind_plot])[0]),'o')\n",
    "plt.plot(oneway_gaze2, np.ones(np.shape(oneway_gaze2)[0])*2,'o')\n",
    "plt.plot(mutual_gaze2, np.ones(np.shape(mutual_gaze2)[0])*3,'o')"
   ]
  },
  {
   "cell_type": "code",
   "execution_count": null,
   "id": "bdf3db5e",
   "metadata": {},
   "outputs": [],
   "source": []
  },
  {
   "cell_type": "code",
   "execution_count": null,
   "id": "b60811dd",
   "metadata": {},
   "outputs": [],
   "source": []
  }
 ],
 "metadata": {
  "kernelspec": {
   "display_name": "Python 3 (ipykernel)",
   "language": "python",
   "name": "python3"
  },
  "language_info": {
   "codemirror_mode": {
    "name": "ipython",
    "version": 3
   },
   "file_extension": ".py",
   "mimetype": "text/x-python",
   "name": "python",
   "nbconvert_exporter": "python",
   "pygments_lexer": "ipython3",
   "version": "3.8.6"
  }
 },
 "nbformat": 4,
 "nbformat_minor": 5
}
