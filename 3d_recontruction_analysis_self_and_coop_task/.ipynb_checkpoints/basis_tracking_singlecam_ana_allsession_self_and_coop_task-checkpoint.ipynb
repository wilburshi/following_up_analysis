{
 "cells": [
  {
   "cell_type": "code",
   "execution_count": null,
   "id": "f1849ae6",
   "metadata": {},
   "outputs": [],
   "source": [
    "import pandas as pd\n",
    "import numpy as np\n",
    "import matplotlib.pyplot as plt\n",
    "import scipy\n",
    "import string\n",
    "import warnings\n",
    "import pickle\n",
    "\n",
    "from pgmpy.models import BayesianModel\n",
    "from pgmpy.models import DynamicBayesianNetwork as DBN\n",
    "from pgmpy.estimators import BayesianEstimator\n",
    "from pgmpy.estimators import HillClimbSearch,BicScore\n",
    "import networkx as nx"
   ]
  },
  {
   "cell_type": "markdown",
   "id": "75048257",
   "metadata": {},
   "source": [
    "### function - get body part location for each pair of cameras"
   ]
  },
  {
   "cell_type": "code",
   "execution_count": null,
   "id": "6e122aab",
   "metadata": {},
   "outputs": [],
   "source": [
    "from ana_functions.body_part_locs_eachpair import body_part_locs_eachpair"
   ]
  },
  {
   "cell_type": "markdown",
   "id": "9d3e80cd",
   "metadata": {},
   "source": [
    "### function - compare the body track result from different camera pairs"
   ]
  },
  {
   "cell_type": "code",
   "execution_count": 3,
   "id": "85eec3ee",
   "metadata": {},
   "outputs": [],
   "source": [
    "from ana_functions.compare_bodytracking_allcamerapairs import compare_bodytracking_allcamerapairs\n",
    "from ana_functions.bodytracking_singlecameras import bodytracking_singlecameras"
   ]
  },
  {
   "cell_type": "markdown",
   "id": "d6ae6f98",
   "metadata": {},
   "source": [
    "### function - align the two cameras"
   ]
  },
  {
   "cell_type": "code",
   "execution_count": 4,
   "id": "31b03438",
   "metadata": {},
   "outputs": [],
   "source": [
    "from ana_functions.camera_align import camera_align"
   ]
  },
  {
   "cell_type": "markdown",
   "id": "494356c2",
   "metadata": {},
   "source": [
    "### function - merge the two pairs of cameras"
   ]
  },
  {
   "cell_type": "code",
   "execution_count": 5,
   "id": "3bda6cfa",
   "metadata": {},
   "outputs": [],
   "source": [
    "from ana_functions.camera_merge import camera_merge"
   ]
  },
  {
   "cell_type": "markdown",
   "id": "34fc78e9",
   "metadata": {},
   "source": [
    "### function - make demo videos for the body part tracking"
   ]
  },
  {
   "cell_type": "code",
   "execution_count": 6,
   "id": "362c2dcb",
   "metadata": {},
   "outputs": [],
   "source": [
    "from ana_functions.tracking_video_demo import tracking_video_demo"
   ]
  },
  {
   "cell_type": "markdown",
   "id": "23dc7f6a",
   "metadata": {},
   "source": [
    "### function - find social gaze time point"
   ]
  },
  {
   "cell_type": "code",
   "execution_count": 7,
   "id": "71f6ec00",
   "metadata": {},
   "outputs": [],
   "source": [
    "from ana_functions.find_socialgaze_timepoint import find_socialgaze_timepoint"
   ]
  },
  {
   "cell_type": "markdown",
   "id": "0dd7e75b",
   "metadata": {},
   "source": [
    "### function - define time point of behavioral events"
   ]
  },
  {
   "cell_type": "code",
   "execution_count": 8,
   "id": "1dfb672f",
   "metadata": {},
   "outputs": [],
   "source": [
    "from ana_functions.bhv_events_timepoint import bhv_events_timepoint"
   ]
  },
  {
   "cell_type": "markdown",
   "id": "0ef4ab8c",
   "metadata": {},
   "source": [
    "### function - plot behavioral events"
   ]
  },
  {
   "cell_type": "code",
   "execution_count": 9,
   "id": "eb2ba678",
   "metadata": {},
   "outputs": [],
   "source": [
    "from ana_functions.plot_bhv_events import plot_bhv_events"
   ]
  },
  {
   "cell_type": "markdown",
   "id": "1f9c724b",
   "metadata": {},
   "source": [
    "### function - plot inter-pull interval"
   ]
  },
  {
   "cell_type": "code",
   "execution_count": 10,
   "id": "9327925b",
   "metadata": {},
   "outputs": [],
   "source": [
    "from ana_functions.plot_interpull_interval import plot_interpull_interval"
   ]
  },
  {
   "cell_type": "markdown",
   "id": "69920a6a",
   "metadata": {},
   "source": [
    "### function - interval between all behavioral events"
   ]
  },
  {
   "cell_type": "code",
   "execution_count": 11,
   "id": "a804dbc6",
   "metadata": {},
   "outputs": [],
   "source": [
    "from ana_functions.bhv_events_interval import bhv_events_interval"
   ]
  },
  {
   "cell_type": "markdown",
   "id": "0819c438",
   "metadata": {},
   "source": [
    "## Analyze each session"
   ]
  },
  {
   "cell_type": "code",
   "execution_count": null,
   "id": "94968120",
   "metadata": {
    "scrolled": true
   },
   "outputs": [
    {
     "name": "stdout",
     "output_type": "stream",
     "text": [
      "did not save data - body part tracking\n"
     ]
    },
    {
     "name": "stderr",
     "output_type": "stream",
     "text": [
      "/gpfs/ysm/project/nandy/ws523/conda_envs/DEEPLABCUT_YCRC/lib/python3.8/site-packages/pandas/core/indexing.py:1732: SettingWithCopyWarning: \n",
      "A value is trying to be set on a copy of a slice from a DataFrame\n",
      "\n",
      "See the caveats in the documentation: https://pandas.pydata.org/pandas-docs/stable/user_guide/indexing.html#returning-a-view-versus-a-copy\n",
      "  self._setitem_single_block(indexer, value, name)\n",
      "/gpfs/ysm/project/nandy/ws523/conda_envs/DEEPLABCUT_YCRC/lib/python3.8/site-packages/pandas/core/indexing.py:723: SettingWithCopyWarning: \n",
      "A value is trying to be set on a copy of a slice from a DataFrame\n",
      "\n",
      "See the caveats in the documentation: https://pandas.pydata.org/pandas-docs/stable/user_guide/indexing.html#returning-a-view-versus-a-copy\n",
      "  iloc._setitem_with_indexer(indexer, value, self.name)\n"
     ]
    },
    {
     "name": "stdout",
     "output_type": "stream",
     "text": [
      "plot body tracking data 20220909\n",
      "did not save data - body part tracking\n",
      "plot body tracking data 20220912\n",
      "did not save data - body part tracking\n",
      "plot body tracking data 20220915\n",
      "did not save data - body part tracking\n",
      "plot body tracking data 20220920\n",
      "did not save data - body part tracking\n",
      "plot body tracking data 20220922\n",
      "did not save data - body part tracking\n",
      "plot body tracking data 20220923\n",
      "did not save data - body part tracking\n",
      "plot body tracking data 20221010\n",
      "did not save data - body part tracking\n",
      "plot body tracking data 20221011\n",
      "did not save data - body part tracking\n",
      "plot body tracking data 20221013\n",
      "did not save data - body part tracking\n",
      "plot body tracking data 20221014\n",
      "did not save data - body part tracking\n",
      "plot body tracking data 20221015\n",
      "did not save data - body part tracking\n",
      "plot body tracking data 20221017\n",
      "did not save data - body part tracking\n",
      "plot body tracking data 20221018\n",
      "did not save data - body part tracking\n",
      "plot body tracking data 20221019\n",
      "did not save data - body part tracking\n",
      "plot body tracking data 20221020\n",
      "did not save data - body part tracking\n",
      "plot body tracking data 20221021\n",
      "did not save data - body part tracking\n",
      "plot body tracking data 20221022\n",
      "did not save data - body part tracking\n",
      "plot body tracking data 20221026\n",
      "did not save data - body part tracking\n",
      "plot body tracking data 20221028\n",
      "did not save data - body part tracking\n",
      "plot body tracking data 20221030\n",
      "did not save data - body part tracking\n",
      "plot body tracking data 20221107\n",
      "did not save data - body part tracking\n",
      "plot body tracking data 20221108\n",
      "did not save data - body part tracking\n",
      "plot body tracking data 20221109\n",
      "did not save data - body part tracking\n",
      "plot body tracking data 20221110\n",
      "did not save data - body part tracking\n",
      "plot body tracking data 20221111\n",
      "did not save data - body part tracking\n",
      "plot body tracking data 20221114\n",
      "did not save data - body part tracking\n",
      "plot body tracking data 20221115\n",
      "did not save data - body part tracking\n",
      "plot body tracking data 20221116\n",
      "did not save data - body part tracking\n",
      "plot body tracking data 20221117\n",
      "did not save data - body part tracking\n",
      "plot body tracking data 20221118\n",
      "did not save data - body part tracking\n",
      "plot body tracking data 20221121\n",
      "did not save data - body part tracking\n",
      "plot body tracking data 20221122\n",
      "did not save data - body part tracking\n",
      "plot body tracking data 20221123\n",
      "did not save data - body part tracking\n",
      "plot body tracking data 20221125\n",
      "did not save data - body part tracking\n",
      "plot body tracking data 20221128\n",
      "did not save data - body part tracking\n",
      "plot body tracking data 20221129\n",
      "did not save data - body part tracking\n",
      "plot body tracking data 20221205\n",
      "did not save data - body part tracking\n",
      "plot body tracking data 20221206\n",
      "did not save data - body part tracking\n",
      "plot body tracking data 20221209\n",
      "did not save data - body part tracking\n",
      "plot body tracking data 20221212\n"
     ]
    }
   ],
   "source": [
    "# gaze angle threshold\n",
    "# angle_thres = np.pi/36 # 5 degree\n",
    "# angle_thres = np.pi/18 # 10 degree\n",
    "angle_thres = np.pi/4 # 45 degree\n",
    "angle_thres_name = '45'\n",
    "\n",
    "merge_campairs = ['_average'] # \"\": merge the two pairs (at the level of frames); \n",
    "                              # \"_pair12(23)\": use camera pair 1 and 2 (2 and 3) \n",
    "                              # \"_averarge\": average results from pair 12 and 23 after the final analysis\n",
    "        \n",
    "# get the fps of the analyzed video\n",
    "fps = 30\n",
    "\n",
    "# re-analyze the video or not\n",
    "reanalyze_video = 0\n",
    "\n",
    "# all the videos (no misaligned ones)\n",
    "# dodson scorch\n",
    "if 1:\n",
    "    dates_list = [\n",
    "                  # \"20220909\",\"20220912\",\"20220915\",\"20220920\",\"20220922\",\"20220923\",\"20221010\",\n",
    "                  # \"20221011\",\"20221013\",\"20221014\",\"20221015\",\"20221017\",\n",
    "                  # \"20221018\",\"20221019\",\"20221020\",\"20221021\",\"20221022\",\"20221026\",\"20221028\",\"20221030\",\n",
    "                  # \"20221107\",\"20221108\",\"20221109\",\"20221110\",\"20221111\",\"20221114\",\"20221115\",\"20221116\",\n",
    "\n",
    "                  # \"20221117\",\"20221118\",\"20221121\",\"20221122\",\"20221123\",\"20221125\",\"20221128\",\"20221129\",              \n",
    "                  # \"20221205\",\"20221206\",\"20221209\",\n",
    "                  \"20221212\",\"20221214\",\"20221216\",\"20221219\",\"20221220\",\"20221221\",\n",
    "                  \"20230208\",\"20230209\",\"20230213\",\"20230214\",\"20230111\",\"20230112\",\"20230201\",\n",
    "                  \"20230215\"            \n",
    "                 ]\n",
    "# eddie sparkle\n",
    "if 0:\n",
    "    dates_list = [\n",
    "                  # \"20221122\",\"20221125\",\"20221128\",\"20221129\",\"20221130\",\"20221202\",\"20221206\",\n",
    "                  # \"20221207\",\"20221208\",\"20221209\",\"20230126\",\"20230127\",\"20230130\",\"20230201\",\"20230203-1\",\n",
    "                  # \"20230206\",\"20230207\",\"20230208-1\",\"20230209\",\"20230222\",\"20230223-1\",\"20230227-1\",\n",
    "                  # \"20230228-1\",\"20230302-1\",\"20230307-2\",\"20230313\",\"20230315\",\"20230316\",\"20230317\",\n",
    "                  # \"20230321\",\"20230322\",\"20230324\",\"20230327\",\"20230328\",\n",
    "                  # \"20230330\",\"20230331\",\"20230403\",\"20230404\",\"20230405\",\"20230406\",\n",
    "                  \"20230407\"\n",
    "               ]\n",
    "# ginger kanga\n",
    "if 0:\n",
    "    dates_list = [\n",
    "                  \"20230209\",\"20230213\",\"20230214\",\"20230216\",\"20230222\",\"20230223\",\"20230228\",\"20230302\",\n",
    "                  \"20230303\",\"20230307\",\"20230314\",\"20230315\",\"20230316\",\"20230317\"         \n",
    "               ]\n",
    "#\n",
    "# dates_list = [\"20230317\"]\n",
    "\n",
    "ndates = np.shape(dates_list)[0]\n",
    "\n",
    "# dodson scorch\n",
    "if 1:\n",
    "    animal1_fixedorder = 'dodson'\n",
    "    animal2_fixedorder = 'scorch'\n",
    "\n",
    "    animal1_filename = \"Dodson\"\n",
    "    animal2_filename = \"Scorch\"\n",
    "# eddie sparkle\n",
    "if 0:\n",
    "    animal1_fixedorder = 'eddie'\n",
    "    animal2_fixedorder = 'sparkle'\n",
    "\n",
    "    animal1_filename = \"Eddie\"\n",
    "    animal2_filename = \"Sparkle\"\n",
    "    \n",
    "# ginger kanga\n",
    "if 0:\n",
    "    animal1_fixedorder = 'ginger'\n",
    "    animal2_fixedorder = 'kanga'\n",
    "\n",
    "    animal1_filename = \"Ginger\"\n",
    "    animal2_filename = \"Kanga\"\n",
    "\n",
    "    \n",
    "# aligned with the audio\n",
    "# get the session start time from \"videosound_bhv_sync.py/.ipynb\"\n",
    "# currently the session_start_time will be manually typed in. It can be updated after a better method is used\n",
    "\n",
    "# all the videos (no misaligned ones)\n",
    "# dodson scorch \n",
    "if 1:\n",
    "    session_start_times = [ \n",
    "                            #  6.50, 18.10, 0,      33.03, 549.0, 116.80, 6.50,\n",
    "                            #  2.80, 27.80, 272.50, 27.90, 27.00,\n",
    "                            # 28.70, 45.30, 21.10,  27.10, 51.90,  21.00, 30.80, 17.50,                      \n",
    "                            # 15.70,  2.65, 27.30,   0.00,  0.00,  71.80,  0.00,  0.00, \n",
    "\n",
    "                            # 75.50, 20.20,  0.00,  24.20, 36.70,  26.40, 22.50, 28.50,                       \n",
    "                            #  0.00,  0.00, 21.70,  \n",
    "                            84.70, 17.00,  19.80, 23.50, 25.20,  0.00,\n",
    "                             0.00,  0.00,   0.00,  0.00, 130.00, 14.20, 24.20, \n",
    "                            33.00\n",
    "                          ] # in second\n",
    "# eddie sparkle\n",
    "if 0:\n",
    "    session_start_times = [ \n",
    "                             # 8.00,38.00,1.00,3.00,5.00,9.50,1.00,\n",
    "                             # 4.50,4.50,5.00,38.00,166.00,4.20,3.80,3.60,\n",
    "                             # 7.50,9.00,7.50,8.50,14.50,7.80,8.00,7.50,\n",
    "                             # 8.00,8.00,4.00,123.00,14.00,8.80,\n",
    "                             # 7.00,7.50,5.50,11.00,9.00,\n",
    "                             # 17.00,4.50,9.30,25.50,20.40,21.30,\n",
    "                             24.80\n",
    "                          ] # in second  \n",
    "# ginger kanga\n",
    "if 0:\n",
    "    session_start_times = [ \n",
    "                             0.00,  0.00,  0.00, 48.00, 26.20, 18.00, 23.00, 28.50,\n",
    "                            34.00, 25.50, 25.50, 31.50, 28.00, 30.50\n",
    "                          ] # in second  \n",
    "#  \n",
    "# session_start_times = [30.50] # in second\n",
    "\n",
    "\n",
    "session_start_frames = session_start_times * fps # fps is 30Hz\n",
    "\n",
    "DAGs_all_dates = np.zeros((ndates,4,4))\n",
    "DAGs_thres_dates = np.zeros((ndates,4,4))\n",
    "ntempres_dates = np.zeros((ndates,1,1))\n",
    "tasktypes_all_dates = np.zeros((ndates,1))\n",
    "coopthres_all_dates = np.zeros((ndates,1))\n",
    "\n",
    "succ_rate_all_dates = np.zeros((ndates,1))\n",
    "interpullintv_all_dates = np.zeros((ndates,1))\n",
    "trialnum_all_dates = np.zeros((ndates,1))\n",
    "\n",
    "owgaze1_num_all_dates = np.zeros((ndates,1))\n",
    "owgaze2_num_all_dates = np.zeros((ndates,1))\n",
    "mtgaze1_num_all_dates = np.zeros((ndates,1))\n",
    "mtgaze2_num_all_dates = np.zeros((ndates,1))\n",
    "pull1_num_all_dates = np.zeros((ndates,1))\n",
    "pull2_num_all_dates = np.zeros((ndates,1))\n",
    "\n",
    "\n",
    "for idate in np.arange(0,ndates,1):\n",
    "    date_tgt = dates_list[idate]\n",
    "    session_start_time = session_start_times[idate]\n",
    "    \n",
    "    # folder path\n",
    "    camera12_analyzed_path = \"/ysm-gpfs/pi/jadi/VideoTracker_SocialInter/test_video_cooperative_task_3d/\"+date_tgt+\"_\"+animal1_filename+\"_\"+animal2_filename+\"_camera12/\"\n",
    "    camera23_analyzed_path = \"/ysm-gpfs/pi/jadi/VideoTracker_SocialInter/test_video_cooperative_task_3d/\"+date_tgt+\"_\"+animal1_filename+\"_\"+animal2_filename+\"_camera23/\"\n",
    "    \n",
    "    merge_campair = merge_campairs[0]\n",
    "    \n",
    "    # load camera tracking results\n",
    "    try:\n",
    "        dummy\n",
    "        if reanalyze_video:\n",
    "            print(\"re-analyze the data\")\n",
    "            dummy\n",
    "        ## read\n",
    "        with open(camera23_analyzed_path + 'body_part_locs_camera23.pkl', 'rb') as f:\n",
    "            body_part_locs_camera23 = pickle.load(f) \n",
    "        with open(camera12_analyzed_path + 'body_part_locs_camera12.pkl', 'rb') as f:\n",
    "            body_part_locs_camera12 = pickle.load(f) \n",
    "    except:\n",
    "        print(\"did not save data - body part tracking\")\n",
    "        # analyze and save\n",
    "        camera12_h5_file = camera12_analyzed_path +date_tgt+\"_\"+animal1_filename+\"_\"+animal2_filename+\"_weikang.h5\"\n",
    "        camera12_h5_data = pd.read_hdf(camera12_h5_file)\n",
    "        body_part_locs_camera12 = body_part_locs_eachpair(camera12_h5_data)\n",
    "        with open(camera12_analyzed_path + 'body_part_locs_camera12.pkl', 'wb') as f:\n",
    "            pickle.dump(body_part_locs_camera12, f)\n",
    "        #\n",
    "        camera23_h5_file = camera23_analyzed_path +date_tgt+\"_\"+animal1_filename+\"_\"+animal2_filename+\"_weikang.h5\"\n",
    "        camera23_h5_data = pd.read_hdf(camera23_h5_file)\n",
    "        body_part_locs_camera23 = body_part_locs_eachpair(camera23_h5_data)\n",
    "        with open(camera23_analyzed_path + 'body_part_locs_camera23.pkl', 'wb') as f:\n",
    "            pickle.dump(body_part_locs_camera23, f)\n",
    "    \n",
    "    # load behavioral results\n",
    "    try:\n",
    "        bhv_data_path = \"/home/ws523/marmoset_tracking_bhv_data_from_task_code/\"+date_tgt+\"_\"+animal1_filename+\"_\"+animal2_filename+\"/\"\n",
    "        trial_record_json = bhv_data_path +date_tgt+\"_\"+animal2_filename+\"_\"+animal1_filename+\"_TrialRecord_1.json\"\n",
    "        bhv_data_json = bhv_data_path + date_tgt+\"_\"+animal2_filename+\"_\"+animal1_filename+\"_bhv_data_1.json\"\n",
    "        session_info_json = bhv_data_path + date_tgt+\"_\"+animal2_filename+\"_\"+animal1_filename+\"_session_info_1.json\"\n",
    "        #\n",
    "        trial_record = pd.read_json(trial_record_json)\n",
    "        bhv_data = pd.read_json(bhv_data_json)\n",
    "        session_info = pd.read_json(session_info_json)\n",
    "    except:\n",
    "        bhv_data_path = \"/home/ws523/marmoset_tracking_bhv_data_from_task_code/\"+date_tgt+\"_\"+animal1_filename+\"_\"+animal2_filename+\"/\"\n",
    "        trial_record_json = bhv_data_path + date_tgt+\"_\"+animal1_filename+\"_\"+animal2_filename+\"_TrialRecord_1.json\"\n",
    "        bhv_data_json = bhv_data_path + date_tgt+\"_\"+animal1_filename+\"_\"+animal2_filename+\"_bhv_data_1.json\"\n",
    "        session_info_json = bhv_data_path + date_tgt+\"_\"+animal1_filename+\"_\"+animal2_filename+\"_session_info_1.json\"\n",
    "        #\n",
    "        trial_record = pd.read_json(trial_record_json)\n",
    "        bhv_data = pd.read_json(bhv_data_json)\n",
    "        session_info = pd.read_json(session_info_json)\n",
    "    \n",
    "    # get animal info\n",
    "    animal1 = session_info['lever1_animal'][0].lower()\n",
    "    animal2 = session_info['lever2_animal'][0].lower()\n",
    "    \n",
    "    # get task type and cooperation threshold\n",
    "    try:\n",
    "        coop_thres = session_info[\"pulltime_thres\"][0]\n",
    "        tasktype = session_info[\"task_type\"][0]\n",
    "    except:\n",
    "        coop_thres = 0\n",
    "        tasktype = 1\n",
    "    tasktypes_all_dates[idate] = tasktype\n",
    "    coopthres_all_dates[idate] = coop_thres   \n",
    "    \n",
    "    # clean up the trial_record\n",
    "    warnings.filterwarnings('ignore')\n",
    "    trial_record_clean = pd.DataFrame(columns=trial_record.columns)\n",
    "    for itrial in np.arange(0,np.max(trial_record['trial_number']),1):\n",
    "        # trial_record_clean.loc[itrial] = trial_record[trial_record['trial_number']==itrial+1].iloc[[0]]\n",
    "        trial_record_clean = trial_record_clean.append(trial_record[trial_record['trial_number']==itrial+1].iloc[[0]])\n",
    "    trial_record_clean = trial_record_clean.reset_index(drop = True)\n",
    "    \n",
    "    # change bhv_data time to the absolute time\n",
    "    time_points_new = pd.DataFrame(np.zeros(np.shape(bhv_data)[0]),columns=[\"time_points_new\"])\n",
    "    for itrial in np.arange(0,np.max(trial_record_clean['trial_number']),1):\n",
    "        ind = bhv_data[\"trial_number\"]==itrial+1\n",
    "        new_time_itrial = bhv_data[ind][\"time_points\"] + trial_record_clean[\"trial_starttime\"].iloc[itrial]\n",
    "        time_points_new[\"time_points_new\"][ind] = new_time_itrial\n",
    "    bhv_data[\"time_points\"] = time_points_new[\"time_points_new\"]\n",
    "    bhv_data = bhv_data[bhv_data[\"time_points\"] != 0]\n",
    "\n",
    "    \n",
    "    # analyze behavior results\n",
    "    # succ_rate_all_dates[idate] = np.sum(trial_record_clean[\"rewarded\"]>0)/np.shape(trial_record_clean)[0]\n",
    "    succ_rate_all_dates[idate] = np.sum((bhv_data['behavior_events']==3)|(bhv_data['behavior_events']==4))/np.sum((bhv_data['behavior_events']==1)|(bhv_data['behavior_events']==2))\n",
    "    \n",
    "    trialnum_all_dates[idate] = np.shape(trial_record_clean)[0]\n",
    "    #\n",
    "    pullid = np.array(bhv_data[(bhv_data['behavior_events']==1) | (bhv_data['behavior_events']==2)][\"behavior_events\"])\n",
    "    pulltime = np.array(bhv_data[(bhv_data['behavior_events']==1) | (bhv_data['behavior_events']==2)][\"time_points\"])\n",
    "    pullid_diff = np.abs(pullid[1:] - pullid[0:-1])\n",
    "    pulltime_diff = pulltime[1:] - pulltime[0:-1]\n",
    "    interpull_intv = pulltime_diff[pullid_diff==1]\n",
    "    interpull_intv = interpull_intv[interpull_intv<10]\n",
    "    mean_interpull_intv = np.nanmean(interpull_intv)\n",
    "    std_interpull_intv = np.nanstd(interpull_intv)\n",
    "    #\n",
    "    interpullintv_all_dates[idate] = mean_interpull_intv\n",
    "    \n",
    "    pull1_num_all_dates[idate] = np.sum(bhv_data['behavior_events']==1) \n",
    "    pull2_num_all_dates[idate] = np.sum(bhv_data['behavior_events']==2)\n",
    "    \n",
    "    \n",
    "    # compare the body tracking results from the camera pairs\n",
    "    # compare_bodytracking_allcamerapairs(body_part_locs_camera12,body_part_locs_camera23,animal1_fixedorder,animal2_fixedorder,date_tgt,saveornot=1)\n",
    "    \n",
    "    # look at single camera results\n",
    "    print(\"plot body tracking data \"+ date_tgt)\n",
    "    bodyparts_cam1_cam12 = camera12_analyzed_path+date_tgt+\"_\"+animal1_filename+\"_\"+animal2_filename+\"_camera-1DLC_dlcrnetms5_marmoset_tracking_with_middle_cameraSep1shuffle1_150000_el.h5\"\n",
    "    bodyparts_cam2_cam12 = camera12_analyzed_path+date_tgt+\"_\"+animal1_filename+\"_\"+animal2_filename+\"_camera-2DLC_dlcrnetms5_marmoset_tracking_with_middle_cameraSep1shuffle1_150000_el.h5\"\n",
    "    bodyparts_cam2_cam23 = camera23_analyzed_path+date_tgt+\"_\"+animal1_filename+\"_\"+animal2_filename+\"_camera-2DLC_dlcrnetms5_marmoset_tracking_with_middle_cameraSep1shuffle1_150000_el.h5\"\n",
    "    bodyparts_cam3_cam23 = camera23_analyzed_path+date_tgt+\"_\"+animal1_filename+\"_\"+animal2_filename+\"_camera-3DLC_dlcrnetms5_marmoset_tracking_with_middle_cameraSep1shuffle1_150000_el.h5\"\n",
    "    #\n",
    "    bodytracking_singlecameras(body_part_locs_camera12,body_part_locs_camera23,bodyparts_cam1_cam12,bodyparts_cam2_cam12,bodyparts_cam2_cam23,bodyparts_cam3_cam23,animal1_fixedorder,animal2_fixedorder,date_tgt,saveornot=1)\n",
    "    \n",
    "    # demo videos\n",
    "    # nframes = 30*10\n",
    "    # tracking_video_demo(body_part_locs_camera12,date_tgt,\"camera12\",nframes)\n",
    "    # tracking_video_demo(body_part_locs_camera23,date_tgt,\"camera23\",nframes)"
   ]
  },
  {
   "cell_type": "code",
   "execution_count": null,
   "id": "38f936ef",
   "metadata": {},
   "outputs": [],
   "source": []
  },
  {
   "cell_type": "code",
   "execution_count": null,
   "id": "d188541b",
   "metadata": {},
   "outputs": [],
   "source": []
  },
  {
   "cell_type": "code",
   "execution_count": null,
   "id": "6b6ee1db",
   "metadata": {},
   "outputs": [],
   "source": []
  },
  {
   "cell_type": "code",
   "execution_count": null,
   "id": "68d13d29",
   "metadata": {},
   "outputs": [],
   "source": []
  },
  {
   "cell_type": "code",
   "execution_count": null,
   "id": "5cafbb98",
   "metadata": {},
   "outputs": [],
   "source": []
  },
  {
   "cell_type": "code",
   "execution_count": null,
   "id": "db4c0480",
   "metadata": {},
   "outputs": [],
   "source": []
  },
  {
   "cell_type": "code",
   "execution_count": null,
   "id": "a7f398d5",
   "metadata": {},
   "outputs": [],
   "source": []
  },
  {
   "cell_type": "code",
   "execution_count": null,
   "id": "98ffd1c8",
   "metadata": {},
   "outputs": [],
   "source": []
  },
  {
   "cell_type": "code",
   "execution_count": null,
   "id": "f05ee99f",
   "metadata": {},
   "outputs": [],
   "source": []
  }
 ],
 "metadata": {
  "kernelspec": {
   "display_name": "Python 3 (ipykernel)",
   "language": "python",
   "name": "python3"
  },
  "language_info": {
   "codemirror_mode": {
    "name": "ipython",
    "version": 3
   },
   "file_extension": ".py",
   "mimetype": "text/x-python",
   "name": "python",
   "nbconvert_exporter": "python",
   "pygments_lexer": "ipython3",
   "version": "3.8.6"
  }
 },
 "nbformat": 4,
 "nbformat_minor": 5
}
